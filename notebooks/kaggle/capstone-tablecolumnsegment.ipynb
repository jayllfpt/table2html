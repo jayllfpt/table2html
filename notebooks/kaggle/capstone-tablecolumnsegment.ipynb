{
 "cells": [
  {
   "cell_type": "markdown",
   "id": "ef320ade",
   "metadata": {
    "papermill": {
     "duration": 0.006724,
     "end_time": "2024-10-17T06:51:04.799530",
     "exception": false,
     "start_time": "2024-10-17T06:51:04.792806",
     "status": "completed"
    },
    "tags": []
   },
   "source": [
    "# Capstone 2024 - Table Recognition Work\n",
    "\n",
    "Dataset:\n",
    "[PubTables-1m](https://huggingface.co/datasets/bsmock/pubtables-1m)\n",
    "\n",
    "Model: \n",
    "[YoloV11](https://docs.ultralytics.com/models/yolo11/)"
   ]
  },
  {
   "cell_type": "code",
   "execution_count": 1,
   "id": "0fc4f89e",
   "metadata": {
    "execution": {
     "iopub.execute_input": "2024-10-17T06:51:04.811749Z",
     "iopub.status.busy": "2024-10-17T06:51:04.811439Z",
     "iopub.status.idle": "2024-10-17T06:51:16.486633Z",
     "shell.execute_reply": "2024-10-17T06:51:16.485655Z"
    },
    "id": "ir-MS52_MfSA",
    "outputId": "d26935fb-cc93-4e2d-ff52-c365208e1eb2",
    "papermill": {
     "duration": 11.683914,
     "end_time": "2024-10-17T06:51:16.488965",
     "exception": false,
     "start_time": "2024-10-17T06:51:04.805051",
     "status": "completed"
    },
    "tags": []
   },
   "outputs": [
    {
     "name": "stdout",
     "output_type": "stream",
     "text": [
      "--2024-10-17 06:51:05--  https://huggingface.co/datasets/bsmock/pubtables-1m/resolve/main/PubTables-1M-Structure_Annotations_Val.tar.gz\r\n",
      "Resolving huggingface.co (huggingface.co)... 108.156.201.48, 108.156.201.102, 108.156.201.58, ...\r\n",
      "Connecting to huggingface.co (huggingface.co)|108.156.201.48|:443... connected.\r\n",
      "HTTP request sent, awaiting response... 302 Found\r\n",
      "Location: https://cdn-lfs.hf.co/repos/36/c0/36c021133128a16f57db86f4cb105c85b76fb8fb4968b96642a02b5140872630/6b8c4b512e24e1040fa0829935ab9c2d13fc0015f7315cc8f13ef82a8bc95ca4?response-content-disposition=inline%3B+filename*%3DUTF-8%27%27PubTables-1M-Structure_Annotations_Val.tar.gz%3B+filename%3D%22PubTables-1M-Structure_Annotations_Val.tar.gz%22%3B&response-content-type=application%2Fgzip&Expires=1729407065&Policy=eyJTdGF0ZW1lbnQiOlt7IkNvbmRpdGlvbiI6eyJEYXRlTGVzc1RoYW4iOnsiQVdTOkVwb2NoVGltZSI6MTcyOTQwNzA2NX19LCJSZXNvdXJjZSI6Imh0dHBzOi8vY2RuLWxmcy5oZi5jby9yZXBvcy8zNi9jMC8zNmMwMjExMzMxMjhhMTZmNTdkYjg2ZjRjYjEwNWM4NWI3NmZiOGZiNDk2OGI5NjY0MmEwMmI1MTQwODcyNjMwLzZiOGM0YjUxMmUyNGUxMDQwZmEwODI5OTM1YWI5YzJkMTNmYzAwMTVmNzMxNWNjOGYxM2VmODJhOGJjOTVjYTQ%7EcmVzcG9uc2UtY29udGVudC1kaXNwb3NpdGlvbj0qJnJlc3BvbnNlLWNvbnRlbnQtdHlwZT0qIn1dfQ__&Signature=EVbQJ%7EDOtuvSZJVTlX78UOpAfIOUWRFW8cD%7EU37H9EL4P0SO79dwDro%7Eij5PZdVt0GO0lOO8X3fIKBUfzfk7WKnWU36Zn3T5v%7EsEiZRuA5QoYFYmirYZBniwGvF0Yv80WkldAXKpuFAx2yYdmQ9ICsuuMDsVqUdqo0YUmHIfxI4vll16vtC0LwHokbeOLSJOkpbwUOa2BV3OBlhqGEU-e1dX0KJbiJdai9uKW5cVbQufkJz2ss71RtJ9GJRtBmg-6j3SL8VG99OwKXse%7E%7ExpSEWVOHhyJ6%7EBZBJY0QrLnvJdQzMPEXBKKjCnRDjRYtIBw4fpHsCEVg-ZRrY7W-5%7ENg__&Key-Pair-Id=K3RPWS32NSSJCE [following]\r\n",
      "--2024-10-17 06:51:05--  https://cdn-lfs.hf.co/repos/36/c0/36c021133128a16f57db86f4cb105c85b76fb8fb4968b96642a02b5140872630/6b8c4b512e24e1040fa0829935ab9c2d13fc0015f7315cc8f13ef82a8bc95ca4?response-content-disposition=inline%3B+filename*%3DUTF-8''PubTables-1M-Structure_Annotations_Val.tar.gz%3B+filename%3D%22PubTables-1M-Structure_Annotations_Val.tar.gz%22%3B&response-content-type=application%2Fgzip&Expires=1729407065&Policy=eyJTdGF0ZW1lbnQiOlt7IkNvbmRpdGlvbiI6eyJEYXRlTGVzc1RoYW4iOnsiQVdTOkVwb2NoVGltZSI6MTcyOTQwNzA2NX19LCJSZXNvdXJjZSI6Imh0dHBzOi8vY2RuLWxmcy5oZi5jby9yZXBvcy8zNi9jMC8zNmMwMjExMzMxMjhhMTZmNTdkYjg2ZjRjYjEwNWM4NWI3NmZiOGZiNDk2OGI5NjY0MmEwMmI1MTQwODcyNjMwLzZiOGM0YjUxMmUyNGUxMDQwZmEwODI5OTM1YWI5YzJkMTNmYzAwMTVmNzMxNWNjOGYxM2VmODJhOGJjOTVjYTQ~cmVzcG9uc2UtY29udGVudC1kaXNwb3NpdGlvbj0qJnJlc3BvbnNlLWNvbnRlbnQtdHlwZT0qIn1dfQ__&Signature=EVbQJ~DOtuvSZJVTlX78UOpAfIOUWRFW8cD~U37H9EL4P0SO79dwDro~ij5PZdVt0GO0lOO8X3fIKBUfzfk7WKnWU36Zn3T5v~sEiZRuA5QoYFYmirYZBniwGvF0Yv80WkldAXKpuFAx2yYdmQ9ICsuuMDsVqUdqo0YUmHIfxI4vll16vtC0LwHokbeOLSJOkpbwUOa2BV3OBlhqGEU-e1dX0KJbiJdai9uKW5cVbQufkJz2ss71RtJ9GJRtBmg-6j3SL8VG99OwKXse~~xpSEWVOHhyJ6~BZBJY0QrLnvJdQzMPEXBKKjCnRDjRYtIBw4fpHsCEVg-ZRrY7W-5~Ng__&Key-Pair-Id=K3RPWS32NSSJCE\r\n",
      "Resolving cdn-lfs.hf.co (cdn-lfs.hf.co)... 18.154.101.64, 18.154.101.117, 18.154.101.56, ...\r\n",
      "Connecting to cdn-lfs.hf.co (cdn-lfs.hf.co)|18.154.101.64|:443... connected.\r\n",
      "HTTP request sent, awaiting response... 200 OK\r\n",
      "Length: 30264304 (29M) [application/gzip]\r\n",
      "Saving to: 'PubTables-1M-Structure_Annotations_Val.tar.gz'\r\n",
      "\r\n",
      "PubTables-1M-Struct 100%[===================>]  28.86M  34.3MB/s    in 0.8s    \r\n",
      "\r\n",
      "2024-10-17 06:51:07 (34.3 MB/s) - 'PubTables-1M-Structure_Annotations_Val.tar.gz' saved [30264304/30264304]\r\n",
      "\r\n",
      "--2024-10-17 06:51:08--  https://huggingface.co/datasets/bsmock/pubtables-1m/resolve/main/PubTables-1M-Structure_Images_Val.tar.gz\r\n",
      "Resolving huggingface.co (huggingface.co)... 108.156.201.48, 108.156.201.111, 108.156.201.58, ...\r\n",
      "Connecting to huggingface.co (huggingface.co)|108.156.201.48|:443... connected.\r\n",
      "HTTP request sent, awaiting response... 302 Found\r\n",
      "Location: https://cdn-lfs.hf.co/repos/36/c0/36c021133128a16f57db86f4cb105c85b76fb8fb4968b96642a02b5140872630/e2b49caa4c015e3c96096305860774984d37bf1558f91d414355b209924795b9?response-content-disposition=inline%3B+filename*%3DUTF-8%27%27PubTables-1M-Structure_Images_Val.tar.gz%3B+filename%3D%22PubTables-1M-Structure_Images_Val.tar.gz%22%3B&response-content-type=application%2Fgzip&Expires=1729407068&Policy=eyJTdGF0ZW1lbnQiOlt7IkNvbmRpdGlvbiI6eyJEYXRlTGVzc1RoYW4iOnsiQVdTOkVwb2NoVGltZSI6MTcyOTQwNzA2OH19LCJSZXNvdXJjZSI6Imh0dHBzOi8vY2RuLWxmcy5oZi5jby9yZXBvcy8zNi9jMC8zNmMwMjExMzMxMjhhMTZmNTdkYjg2ZjRjYjEwNWM4NWI3NmZiOGZiNDk2OGI5NjY0MmEwMmI1MTQwODcyNjMwL2UyYjQ5Y2FhNGMwMTVlM2M5NjA5NjMwNTg2MDc3NDk4NGQzN2JmMTU1OGY5MWQ0MTQzNTViMjA5OTI0Nzk1Yjk%7EcmVzcG9uc2UtY29udGVudC1kaXNwb3NpdGlvbj0qJnJlc3BvbnNlLWNvbnRlbnQtdHlwZT0qIn1dfQ__&Signature=u6MUcg4Ij8tthpKA4LctFofPWFgPSPn0O7w26kUmxEn6UR6OS5mLh1edul35o%7EkOOo5YKE6Bi47WpD42JNzuI0jDe1Y%7EJMoLjSc%7EZxS0-nPPzNaRZ-khbB-9gRITmbv-EbBxSuLtmrTYX74DKYJhBiz4Bzxjlkuyg9tPfHFHytUV3iIUvIan2Hax1mPw9NTcScZeRxEzWevvbJdS52ekI1z%7EmTWUP34La0UW3xKDK66T7VCrnwypda8QECVGByiL%7EEh%7ERbMLthh6%7EHHFCq0IvOolwiNQUFB9-Ho292v0dq-8G-ZRuHhIzX-iw%7ExQ5z1ouRx4GxzS5X94%7EXeVNs8kXA__&Key-Pair-Id=K3RPWS32NSSJCE [following]\r\n",
      "--2024-10-17 06:51:08--  https://cdn-lfs.hf.co/repos/36/c0/36c021133128a16f57db86f4cb105c85b76fb8fb4968b96642a02b5140872630/e2b49caa4c015e3c96096305860774984d37bf1558f91d414355b209924795b9?response-content-disposition=inline%3B+filename*%3DUTF-8''PubTables-1M-Structure_Images_Val.tar.gz%3B+filename%3D%22PubTables-1M-Structure_Images_Val.tar.gz%22%3B&response-content-type=application%2Fgzip&Expires=1729407068&Policy=eyJTdGF0ZW1lbnQiOlt7IkNvbmRpdGlvbiI6eyJEYXRlTGVzc1RoYW4iOnsiQVdTOkVwb2NoVGltZSI6MTcyOTQwNzA2OH19LCJSZXNvdXJjZSI6Imh0dHBzOi8vY2RuLWxmcy5oZi5jby9yZXBvcy8zNi9jMC8zNmMwMjExMzMxMjhhMTZmNTdkYjg2ZjRjYjEwNWM4NWI3NmZiOGZiNDk2OGI5NjY0MmEwMmI1MTQwODcyNjMwL2UyYjQ5Y2FhNGMwMTVlM2M5NjA5NjMwNTg2MDc3NDk4NGQzN2JmMTU1OGY5MWQ0MTQzNTViMjA5OTI0Nzk1Yjk~cmVzcG9uc2UtY29udGVudC1kaXNwb3NpdGlvbj0qJnJlc3BvbnNlLWNvbnRlbnQtdHlwZT0qIn1dfQ__&Signature=u6MUcg4Ij8tthpKA4LctFofPWFgPSPn0O7w26kUmxEn6UR6OS5mLh1edul35o~kOOo5YKE6Bi47WpD42JNzuI0jDe1Y~JMoLjSc~ZxS0-nPPzNaRZ-khbB-9gRITmbv-EbBxSuLtmrTYX74DKYJhBiz4Bzxjlkuyg9tPfHFHytUV3iIUvIan2Hax1mPw9NTcScZeRxEzWevvbJdS52ekI1z~mTWUP34La0UW3xKDK66T7VCrnwypda8QECVGByiL~Eh~RbMLthh6~HHFCq0IvOolwiNQUFB9-Ho292v0dq-8G-ZRuHhIzX-iw~xQ5z1ouRx4GxzS5X94~XeVNs8kXA__&Key-Pair-Id=K3RPWS32NSSJCE\r\n",
      "Resolving cdn-lfs.hf.co (cdn-lfs.hf.co)... 18.154.101.117, 18.154.101.56, 18.154.101.58, ...\r\n",
      "Connecting to cdn-lfs.hf.co (cdn-lfs.hf.co)|18.154.101.117|:443... connected.\r\n",
      "HTTP request sent, awaiting response... 200 OK\r\n",
      "Length: 2729881397 (2.5G) [application/gzip]\r\n",
      "Saving to: 'PubTables-1M-Structure_Images_Val.tar.gz'\r\n",
      "\r\n",
      "PubTables-1M-Struct 100%[===================>]   2.54G   332MB/s    in 7.9s    \r\n",
      "\r\n",
      "2024-10-17 06:51:16 (331 MB/s) - 'PubTables-1M-Structure_Images_Val.tar.gz' saved [2729881397/2729881397]\r\n",
      "\r\n"
     ]
    }
   ],
   "source": [
    "!wget https://huggingface.co/datasets/bsmock/pubtables-1m/resolve/main/PubTables-1M-Structure_Annotations_Val.tar.gz\n",
    "!wget https://huggingface.co/datasets/bsmock/pubtables-1m/resolve/main/PubTables-1M-Structure_Images_Val.tar.gz"
   ]
  },
  {
   "cell_type": "code",
   "execution_count": 2,
   "id": "89b18310",
   "metadata": {
    "execution": {
     "iopub.execute_input": "2024-10-17T06:51:16.511512Z",
     "iopub.status.busy": "2024-10-17T06:51:16.511211Z",
     "iopub.status.idle": "2024-10-17T06:51:53.567999Z",
     "shell.execute_reply": "2024-10-17T06:51:53.566492Z"
    },
    "id": "LQNxCPWiM0gX",
    "outputId": "e03c0133-7889-4dc8-f6b1-3576b5eeed16",
    "papermill": {
     "duration": 37.07188,
     "end_time": "2024-10-17T06:51:53.570969",
     "exception": false,
     "start_time": "2024-10-17T06:51:16.499089",
     "status": "completed"
    },
    "tags": []
   },
   "outputs": [],
   "source": [
    "!mkdir ./data\n",
    "!mkdir ./data/PubTables-1M-Structure_Images_Val\n",
    "!mkdir ./data/PubTables-1M-Structure_Annotations_Val\n",
    "!tar -xf PubTables-1M-Structure_Images_Val.tar.gz -C ./data/PubTables-1M-Structure_Images_Val\n",
    "!tar -xf PubTables-1M-Structure_Annotations_Val.tar.gz -C ./data/PubTables-1M-Structure_Annotations_Val"
   ]
  },
  {
   "cell_type": "markdown",
   "id": "5e76fa5a",
   "metadata": {
    "papermill": {
     "duration": 0.00987,
     "end_time": "2024-10-17T06:51:53.592192",
     "exception": false,
     "start_time": "2024-10-17T06:51:53.582322",
     "status": "completed"
    },
    "tags": []
   },
   "source": [
    "# Create YOLO Dataset"
   ]
  },
  {
   "cell_type": "code",
   "execution_count": 3,
   "id": "3ee12293",
   "metadata": {
    "execution": {
     "iopub.execute_input": "2024-10-17T06:51:53.614877Z",
     "iopub.status.busy": "2024-10-17T06:51:53.614486Z",
     "iopub.status.idle": "2024-10-17T06:51:53.925234Z",
     "shell.execute_reply": "2024-10-17T06:51:53.924230Z"
    },
    "papermill": {
     "duration": 0.324434,
     "end_time": "2024-10-17T06:51:53.927625",
     "exception": false,
     "start_time": "2024-10-17T06:51:53.603191",
     "status": "completed"
    },
    "tags": []
   },
   "outputs": [],
   "source": [
    "import os\n",
    "import yaml\n",
    "import shutil\n",
    "import cv2\n",
    "import random\n",
    "import colorsys\n",
    "import numpy as np\n",
    "\n",
    "import xml.etree.ElementTree as ET\n",
    "\n",
    "from glob import glob\n",
    "from PIL import Image\n",
    "\n",
    "import matplotlib.pyplot as plt"
   ]
  },
  {
   "cell_type": "code",
   "execution_count": 4,
   "id": "fd9da3dd",
   "metadata": {
    "execution": {
     "iopub.execute_input": "2024-10-17T06:51:53.950468Z",
     "iopub.status.busy": "2024-10-17T06:51:53.949613Z",
     "iopub.status.idle": "2024-10-17T06:51:53.964797Z",
     "shell.execute_reply": "2024-10-17T06:51:53.963886Z"
    },
    "papermill": {
     "duration": 0.029389,
     "end_time": "2024-10-17T06:51:53.967453",
     "exception": false,
     "start_time": "2024-10-17T06:51:53.938064",
     "status": "completed"
    },
    "tags": []
   },
   "outputs": [],
   "source": [
    "classes = [\n",
    "    'table column',\n",
    "#     'table row',\n",
    "#     'table spanning cell',\n",
    "#     'table text cell'\n",
    "]\n",
    "\n",
    "def convert_coordinates(size, box):\n",
    "    dw, dh = 1.0/size[0], 1.0/size[1]\n",
    "    xmin, ymin, xmax, ymax = box\n",
    "    w, h = xmax - xmin, ymax - ymin\n",
    "    x_center, y_center = xmin + w/2, ymin + h/2\n",
    "    return (x_center * dw, y_center * dh, w * dw, h * dh)\n",
    "\n",
    "def convert_xml_to_yolo_and_copy_image(xml_file_path, dest_labels_dir, source_images_dir, dest_images_dir):\n",
    "    tree = ET.parse(xml_file_path)\n",
    "    root = tree.getroot()\n",
    "\n",
    "    filename = root.find('filename').text\n",
    "    image_path = os.path.join(source_images_dir, filename)\n",
    "#     print(image_path)\n",
    "    # Read image dimensions using PIL\n",
    "    with Image.open(image_path) as img:\n",
    "        width, height = img.size\n",
    "\n",
    "    output_filename = os.path.splitext(filename)[0] + '.txt'\n",
    "    with open(os.path.join(dest_labels_dir, output_filename), 'w') as out_file:\n",
    "        for obj in root.iter('object'):\n",
    "            cls = obj.find('name').text\n",
    "            if cls not in classes:\n",
    "                continue\n",
    "\n",
    "            cls_id = classes.index(cls)\n",
    "\n",
    "            xmlbox = obj.find('bndbox')\n",
    "            xmin = float(xmlbox.find('xmin').text) / width\n",
    "            ymin = float(xmlbox.find('ymin').text) / height\n",
    "            xmax = float(xmlbox.find('xmax').text) / width\n",
    "            ymax = float(xmlbox.find('ymax').text) / height\n",
    "            \n",
    "            # Create a polygon with 4 points (rectangle corners)\n",
    "            points = [\n",
    "                (xmin, ymin),  # Top-left\n",
    "                (xmax, ymin),  # Top-right\n",
    "                (xmax, ymax),  # Bottom-right\n",
    "                (xmin, ymax)   # Bottom-left\n",
    "            ]\n",
    "            \n",
    "            # Format the points as a string\n",
    "            points_str = ' '.join([f'{x:.6f} {y:.6f}' for x, y in points])\n",
    "            \n",
    "            out_file.write(f\"{cls_id} {points_str}\\n\")\n",
    "    \n",
    "    # Copy corresponding image to train directory\n",
    "    base_name = os.path.splitext(os.path.basename(xml_file_path))[0]\n",
    "    for ext in ['.jpg', '.jpeg', '.png', '.bmp']:\n",
    "        image_file = os.path.join(data_images_dir, base_name + ext)\n",
    "        if os.path.exists(image_file):\n",
    "#             print(\"Copied\", image_file, dest_images_dir)\n",
    "            shutil.copy(image_file, dest_images_dir)\n",
    "            break\n",
    "    return"
   ]
  },
  {
   "cell_type": "code",
   "execution_count": 5,
   "id": "76404cad",
   "metadata": {
    "execution": {
     "iopub.execute_input": "2024-10-17T06:51:53.994857Z",
     "iopub.status.busy": "2024-10-17T06:51:53.994112Z",
     "iopub.status.idle": "2024-10-17T06:51:54.004164Z",
     "shell.execute_reply": "2024-10-17T06:51:54.003192Z"
    },
    "papermill": {
     "duration": 0.025682,
     "end_time": "2024-10-17T06:51:54.006853",
     "exception": false,
     "start_time": "2024-10-17T06:51:53.981171",
     "status": "completed"
    },
    "tags": []
   },
   "outputs": [],
   "source": [
    "def create_dataset(\n",
    "    data_images_dir, data_labels_dir, \n",
    "    train_images_dir, train_labels_dir,\n",
    "    val_images_dir, val_labels_dir,\n",
    "    number_of_samples=0, dataset_split_ratio = 0.8):\n",
    "\n",
    "    xml_files = glob(os.path.join(data_labels_dir, '*.xml'))\n",
    "\n",
    "    if number_of_samples:\n",
    "        xml_files = xml_files[:number_of_samples]\n",
    "    # Calculate the split index\n",
    "    split_index = int(len(xml_files) * 0.8)  # Assuming 80% train, 20% val split\n",
    "\n",
    "    # Split the files\n",
    "    train_xml_files = xml_files[:split_index]\n",
    "    val_xml_files = xml_files[split_index:]\n",
    "\n",
    "    # Process train files\n",
    "    for xml_file_path in train_xml_files:\n",
    "        convert_xml_to_yolo_and_copy_image(xml_file_path, train_labels_dir, data_images_dir, train_images_dir)\n",
    "\n",
    "    # Process validation files\n",
    "    for xml_file_path in val_xml_files:\n",
    "        convert_xml_to_yolo_and_copy_image(xml_file_path, val_labels_dir, data_images_dir, val_images_dir)\n",
    "\n",
    "def create_dataset_yaml(dataset_dir, yaml_path):\n",
    "  # Create the dataset structure\n",
    "  dataset = {\n",
    "      'path': os.path.abspath(dataset_dir),\n",
    "      'train': 'train',  # Assuming all data is for training\n",
    "      'val': 'val',    # Using same data for validation\n",
    "    #   'test': 'train',   # Using same data for testing\n",
    "      'names': {i: name for i, name in enumerate(classes)},\n",
    "      'nc': len(classes)\n",
    "  }\n",
    "\n",
    "  # Write the YAML file\n",
    "  with open(yaml_path, 'w') as file:\n",
    "      yaml.dump(dataset, file, default_flow_style=False)\n",
    "\n",
    "  print(f\"Dataset YAML file created at: {yaml_path}\")"
   ]
  },
  {
   "cell_type": "code",
   "execution_count": 6,
   "id": "97c206fa",
   "metadata": {
    "execution": {
     "iopub.execute_input": "2024-10-17T06:51:54.042711Z",
     "iopub.status.busy": "2024-10-17T06:51:54.042410Z",
     "iopub.status.idle": "2024-10-17T06:52:03.383927Z",
     "shell.execute_reply": "2024-10-17T06:52:03.382867Z"
    },
    "papermill": {
     "duration": 9.361835,
     "end_time": "2024-10-17T06:52:03.385966",
     "exception": false,
     "start_time": "2024-10-17T06:51:54.024131",
     "status": "completed"
    },
    "tags": []
   },
   "outputs": [
    {
     "name": "stdout",
     "output_type": "stream",
     "text": [
      "Dataset YAML file created at: /kaggle/working/dataset/dataset.yaml\n"
     ]
    }
   ],
   "source": [
    "data_dir = \"/kaggle/working/data\"\n",
    "data_images_dir = \"/kaggle/working/data/PubTables-1M-Structure_Images_Val\"\n",
    "data_labels_dir = \"/kaggle/working/data/PubTables-1M-Structure_Annotations_Val\"\n",
    "\n",
    "dataset_dir = \"/kaggle/working/dataset\"\n",
    "train_images_dir = os.path.join(dataset_dir, \"train\", \"images\")\n",
    "train_labels_dir = os.path.join(dataset_dir, \"train\", \"labels\")\n",
    "val_images_dir = os.path.join(dataset_dir, \"val\", \"images\")\n",
    "val_labels_dir = os.path.join(dataset_dir, \"val\", \"labels\")\n",
    "\n",
    "dataset_yaml_path = \"/kaggle/working/dataset/dataset.yaml\"\n",
    "\n",
    "os.makedirs(dataset_dir, exist_ok=True)\n",
    "os.makedirs(train_images_dir, exist_ok=True)\n",
    "os.makedirs(train_labels_dir, exist_ok=True)\n",
    "os.makedirs(val_images_dir, exist_ok=True)\n",
    "os.makedirs(val_labels_dir, exist_ok=True)\n",
    "\n",
    "number_of_samples = 5000\n",
    "dataset_split_ratio = 0.8\n",
    "\n",
    "create_dataset(\n",
    "    data_images_dir, data_labels_dir, \n",
    "    train_images_dir, train_labels_dir,\n",
    "    val_images_dir, val_labels_dir,\n",
    "    number_of_samples,\n",
    "    dataset_split_ratio\n",
    ")\n",
    "create_dataset_yaml(dataset_dir, dataset_yaml_path)"
   ]
  },
  {
   "cell_type": "code",
   "execution_count": 7,
   "id": "1bf510a8",
   "metadata": {
    "execution": {
     "iopub.execute_input": "2024-10-17T06:52:03.407238Z",
     "iopub.status.busy": "2024-10-17T06:52:03.406929Z",
     "iopub.status.idle": "2024-10-17T06:52:03.410877Z",
     "shell.execute_reply": "2024-10-17T06:52:03.409991Z"
    },
    "papermill": {
     "duration": 0.016592,
     "end_time": "2024-10-17T06:52:03.412797",
     "exception": false,
     "start_time": "2024-10-17T06:52:03.396205",
     "status": "completed"
    },
    "tags": []
   },
   "outputs": [],
   "source": [
    "# !rm -rf \"/kaggle/working/dataset\""
   ]
  },
  {
   "cell_type": "markdown",
   "id": "2149d1a9",
   "metadata": {
    "papermill": {
     "duration": 0.009639,
     "end_time": "2024-10-17T06:52:03.432114",
     "exception": false,
     "start_time": "2024-10-17T06:52:03.422475",
     "status": "completed"
    },
    "tags": []
   },
   "source": [
    "# Data sample visualization"
   ]
  },
  {
   "cell_type": "code",
   "execution_count": 8,
   "id": "8ec63248",
   "metadata": {
    "execution": {
     "iopub.execute_input": "2024-10-17T06:52:03.453152Z",
     "iopub.status.busy": "2024-10-17T06:52:03.452853Z",
     "iopub.status.idle": "2024-10-17T06:52:03.908555Z",
     "shell.execute_reply": "2024-10-17T06:52:03.907688Z"
    },
    "id": "WySS5BWfN0oK",
    "outputId": "ac5ce44a-1005-46f6-e803-e33063d62eaf",
    "papermill": {
     "duration": 0.471183,
     "end_time": "2024-10-17T06:52:03.913365",
     "exception": false,
     "start_time": "2024-10-17T06:52:03.442182",
     "status": "completed"
    },
    "tags": []
   },
   "outputs": [
    {
     "data": {
      "image/png": "[encoded data removed]",
      "text/plain": [
       "<Figure size 1200x800 with 1 Axes>"
      ]
     },
     "metadata": {},
     "output_type": "display_data"
    }
   ],
   "source": [
    "# Load the dataset configuration\n",
    "with open(dataset_yaml_path, 'r') as file:\n",
    "    dataset_config = yaml.safe_load(file)\n",
    "\n",
    "# Get the dataset path and class names\n",
    "dataset_path = dataset_config['path']\n",
    "class_names = dataset_config['names']\n",
    "\n",
    "# Choose a random set (train or val)\n",
    "image_set = random.choice(['train', 'val'])\n",
    "images_path = os.path.join(dataset_path, image_set, 'images')\n",
    "# Get a list of all image files\n",
    "image_files = [f for f in os.listdir(images_path) if f.endswith(('.jpg', '.jpeg', '.png'))]\n",
    "\n",
    "# Choose a random image\n",
    "random_image = random.choice(image_files)\n",
    "image_path = os.path.join(images_path, random_image)\n",
    "\n",
    "# Load the image\n",
    "image = cv2.imread(image_path)\n",
    "image = cv2.cvtColor(image, cv2.COLOR_BGR2RGB)\n",
    "\n",
    "# Load the corresponding label file\n",
    "label_path = os.path.join(dataset_path, image_set, 'labels', random_image.rsplit('.', 1)[0] + '.txt')\n",
    "\n",
    "# Read and parse the label file\n",
    "with open(label_path, 'r') as file:\n",
    "    labels = file.readlines()\n",
    "\n",
    "# Get image dimensions\n",
    "height, width, _ = image.shape\n",
    "\n",
    "# Function to generate distinct colors\n",
    "def generate_colors(n):\n",
    "    hsv_tuples = [(x / n, 1., 1.) for x in range(n)]\n",
    "    return list(map(lambda x: tuple(round(i * 255) for i in colorsys.hsv_to_rgb(*x)), hsv_tuples))\n",
    "\n",
    "# Generate a color for each class\n",
    "colors = generate_colors(len(class_names))\n",
    "\n",
    "# Draw bounding boxes and labels\n",
    "for label in labels:\n",
    "    class_id, *points = map(float, label.strip().split())\n",
    "    \n",
    "    # Convert normalized coordinates to pixel coordinates\n",
    "    pixel_points = [(int(x * width), int(y * height)) for x, y in zip(points[::2], points[1::2])]\n",
    "    \n",
    "    # Get color for this class\n",
    "    color = colors[int(class_id)]\n",
    "    \n",
    "    # Draw polygon\n",
    "    cv2.polylines(image, [np.array(pixel_points)], isClosed=True, color=color, thickness=2)\n",
    "\n",
    "    # Add label\n",
    "    class_name = class_names[int(class_id)]\n",
    "    # cv2.putText(image, class_name, (x1, y1-10), cv2.FONT_HERSHEY_SIMPLEX, 0.9, color, 2)\n",
    "\n",
    "# Display the image\n",
    "plt.figure(figsize=(12, 8))\n",
    "plt.imshow(image)\n",
    "plt.axis('off')\n",
    "plt.title(f\"Random Image: {random_image}\")\n",
    "plt.show()"
   ]
  },
  {
   "cell_type": "code",
   "execution_count": 9,
   "id": "7c8dec24",
   "metadata": {
    "execution": {
     "iopub.execute_input": "2024-10-17T06:52:03.941047Z",
     "iopub.status.busy": "2024-10-17T06:52:03.940745Z",
     "iopub.status.idle": "2024-10-17T06:52:03.946325Z",
     "shell.execute_reply": "2024-10-17T06:52:03.945484Z"
    },
    "id": "aJGfYfCDQEkG",
    "outputId": "a27f3976-10d2-49ba-cc50-1be9fb8d3932",
    "papermill": {
     "duration": 0.021705,
     "end_time": "2024-10-17T06:52:03.948280",
     "exception": false,
     "start_time": "2024-10-17T06:52:03.926575",
     "status": "completed"
    },
    "tags": []
   },
   "outputs": [
    {
     "data": {
      "text/plain": [
       "['0 0.054598 0.084555 0.366278 0.084555 0.366278 0.911227 0.054598 0.911227\\n',\n",
       " '0 0.366278 0.084555 0.622875 0.084555 0.622875 0.911227 0.366278 0.911227\\n',\n",
       " '0 0.622875 0.084555 0.825072 0.084555 0.825072 0.911227 0.622875 0.911227\\n',\n",
       " '0 0.825072 0.084555 0.942428 0.084555 0.942428 0.911227 0.825072 0.911227\\n']"
      ]
     },
     "execution_count": 9,
     "metadata": {},
     "output_type": "execute_result"
    }
   ],
   "source": [
    "labels"
   ]
  },
  {
   "cell_type": "code",
   "execution_count": 10,
   "id": "19a23ced",
   "metadata": {
    "execution": {
     "iopub.execute_input": "2024-10-17T06:52:03.976121Z",
     "iopub.status.busy": "2024-10-17T06:52:03.975815Z",
     "iopub.status.idle": "2024-10-17T06:52:17.644157Z",
     "shell.execute_reply": "2024-10-17T06:52:17.642891Z"
    },
    "papermill": {
     "duration": 13.684929,
     "end_time": "2024-10-17T06:52:17.646528",
     "exception": false,
     "start_time": "2024-10-17T06:52:03.961599",
     "status": "completed"
    },
    "tags": []
   },
   "outputs": [],
   "source": [
    "!rm -rf \"/kaggle/working/data\"\n",
    "!rm -rf \"/kaggle/working/*.tar\"\n",
    "!rm -rf \"/kaggle/working/*.gz\""
   ]
  },
  {
   "cell_type": "markdown",
   "id": "491bba39",
   "metadata": {
    "papermill": {
     "duration": 0.01349,
     "end_time": "2024-10-17T06:52:17.675580",
     "exception": false,
     "start_time": "2024-10-17T06:52:17.662090",
     "status": "completed"
    },
    "tags": []
   },
   "source": [
    "# Model training"
   ]
  },
  {
   "cell_type": "code",
   "execution_count": 11,
   "id": "301296ae",
   "metadata": {
    "execution": {
     "iopub.execute_input": "2024-10-17T06:52:17.703685Z",
     "iopub.status.busy": "2024-10-17T06:52:17.703337Z",
     "iopub.status.idle": "2024-10-17T06:52:45.206787Z",
     "shell.execute_reply": "2024-10-17T06:52:45.205682Z"
    },
    "id": "-eRwChh2R7hI",
    "outputId": "90cded72-3faa-4749-fd79-8e2fe0ff40d1",
    "papermill": {
     "duration": 27.520253,
     "end_time": "2024-10-17T06:52:45.209041",
     "exception": false,
     "start_time": "2024-10-17T06:52:17.688788",
     "status": "completed"
    },
    "tags": []
   },
   "outputs": [
    {
     "name": "stdout",
     "output_type": "stream",
     "text": [
      "Collecting ultralytics\r\n",
      "  Downloading ultralytics-8.3.15-py3-none-any.whl.metadata (34 kB)\r\n",
      "Requirement already satisfied: numpy>=1.23.0 in /opt/conda/lib/python3.10/site-packages (from ultralytics) (1.26.4)\r\n",
      "Requirement already satisfied: matplotlib>=3.3.0 in /opt/conda/lib/python3.10/site-packages (from ultralytics) (3.7.5)\r\n",
      "Requirement already satisfied: opencv-python>=4.6.0 in /opt/conda/lib/python3.10/site-packages (from ultralytics) (4.10.0.84)\r\n",
      "Requirement already satisfied: pillow>=7.1.2 in /opt/conda/lib/python3.10/site-packages (from ultralytics) (10.3.0)\r\n",
      "Requirement already satisfied: pyyaml>=5.3.1 in /opt/conda/lib/python3.10/site-packages (from ultralytics) (6.0.2)\r\n",
      "Requirement already satisfied: requests>=2.23.0 in /opt/conda/lib/python3.10/site-packages (from ultralytics) (2.32.3)\r\n",
      "Requirement already satisfied: scipy>=1.4.1 in /opt/conda/lib/python3.10/site-packages (from ultralytics) (1.14.1)\r\n",
      "Requirement already satisfied: torch>=1.8.0 in /opt/conda/lib/python3.10/site-packages (from ultralytics) (2.4.0)\r\n",
      "Requirement already satisfied: torchvision>=0.9.0 in /opt/conda/lib/python3.10/site-packages (from ultralytics) (0.19.0)\r\n",
      "Requirement already satisfied: tqdm>=4.64.0 in /opt/conda/lib/python3.10/site-packages (from ultralytics) (4.66.4)\r\n",
      "Requirement already satisfied: psutil in /opt/conda/lib/python3.10/site-packages (from ultralytics) (5.9.3)\r\n",
      "Requirement already satisfied: py-cpuinfo in /opt/conda/lib/python3.10/site-packages (from ultralytics) (9.0.0)\r\n",
      "Requirement already satisfied: pandas>=1.1.4 in /opt/conda/lib/python3.10/site-packages (from ultralytics) (2.2.2)\r\n",
      "Requirement already satisfied: seaborn>=0.11.0 in /opt/conda/lib/python3.10/site-packages (from ultralytics) (0.12.2)\r\n",
      "Collecting ultralytics-thop>=2.0.0 (from ultralytics)\r\n",
      "  Downloading ultralytics_thop-2.0.9-py3-none-any.whl.metadata (9.3 kB)\r\n",
      "Requirement already satisfied: contourpy>=1.0.1 in /opt/conda/lib/python3.10/site-packages (from matplotlib>=3.3.0->ultralytics) (1.2.1)\r\n",
      "Requirement already satisfied: cycler>=0.10 in /opt/conda/lib/python3.10/site-packages (from matplotlib>=3.3.0->ultralytics) (0.12.1)\r\n",
      "Requirement already satisfied: fonttools>=4.22.0 in /opt/conda/lib/python3.10/site-packages (from matplotlib>=3.3.0->ultralytics) (4.53.0)\r\n",
      "Requirement already satisfied: kiwisolver>=1.0.1 in /opt/conda/lib/python3.10/site-packages (from matplotlib>=3.3.0->ultralytics) (1.4.5)\r\n",
      "Requirement already satisfied: packaging>=20.0 in /opt/conda/lib/python3.10/site-packages (from matplotlib>=3.3.0->ultralytics) (21.3)\r\n",
      "Requirement already satisfied: pyparsing>=2.3.1 in /opt/conda/lib/python3.10/site-packages (from matplotlib>=3.3.0->ultralytics) (3.1.2)\r\n",
      "Requirement already satisfied: python-dateutil>=2.7 in /opt/conda/lib/python3.10/site-packages (from matplotlib>=3.3.0->ultralytics) (2.9.0.post0)\r\n",
      "Requirement already satisfied: pytz>=2020.1 in /opt/conda/lib/python3.10/site-packages (from pandas>=1.1.4->ultralytics) (2024.1)\r\n",
      "Requirement already satisfied: tzdata>=2022.7 in /opt/conda/lib/python3.10/site-packages (from pandas>=1.1.4->ultralytics) (2024.1)\r\n",
      "Requirement already satisfied: charset-normalizer<4,>=2 in /opt/conda/lib/python3.10/site-packages (from requests>=2.23.0->ultralytics) (3.3.2)\r\n",
      "Requirement already satisfied: idna<4,>=2.5 in /opt/conda/lib/python3.10/site-packages (from requests>=2.23.0->ultralytics) (3.7)\r\n",
      "Requirement already satisfied: urllib3<3,>=1.21.1 in /opt/conda/lib/python3.10/site-packages (from requests>=2.23.0->ultralytics) (1.26.18)\r\n",
      "Requirement already satisfied: certifi>=2017.4.17 in /opt/conda/lib/python3.10/site-packages (from requests>=2.23.0->ultralytics) (2024.8.30)\r\n",
      "Requirement already satisfied: filelock in /opt/conda/lib/python3.10/site-packages (from torch>=1.8.0->ultralytics) (3.15.1)\r\n",
      "Requirement already satisfied: typing-extensions>=4.8.0 in /opt/conda/lib/python3.10/site-packages (from torch>=1.8.0->ultralytics) (4.12.2)\r\n",
      "Requirement already satisfied: sympy in /opt/conda/lib/python3.10/site-packages (from torch>=1.8.0->ultralytics) (1.13.3)\r\n",
      "Requirement already satisfied: networkx in /opt/conda/lib/python3.10/site-packages (from torch>=1.8.0->ultralytics) (3.3)\r\n",
      "Requirement already satisfied: jinja2 in /opt/conda/lib/python3.10/site-packages (from torch>=1.8.0->ultralytics) (3.1.4)\r\n",
      "Requirement already satisfied: fsspec in /opt/conda/lib/python3.10/site-packages (from torch>=1.8.0->ultralytics) (2024.6.1)\r\n",
      "Requirement already satisfied: six>=1.5 in /opt/conda/lib/python3.10/site-packages (from python-dateutil>=2.7->matplotlib>=3.3.0->ultralytics) (1.16.0)\r\n",
      "Requirement already satisfied: MarkupSafe>=2.0 in /opt/conda/lib/python3.10/site-packages (from jinja2->torch>=1.8.0->ultralytics) (2.1.5)\r\n",
      "Requirement already satisfied: mpmath<1.4,>=1.1.0 in /opt/conda/lib/python3.10/site-packages (from sympy->torch>=1.8.0->ultralytics) (1.3.0)\r\n",
      "Downloading ultralytics-8.3.15-py3-none-any.whl (870 kB)\r\n",
      "\u001b[2K   \u001b[90m━━━━━━━━━━━━━━━━━━━━━━━━━━━━━━━━━━━━━━━━\u001b[0m \u001b[32m870.5/870.5 kB\u001b[0m \u001b[31m22.8 MB/s\u001b[0m eta \u001b[36m0:00:00\u001b[0m\r\n",
      "\u001b[?25hDownloading ultralytics_thop-2.0.9-py3-none-any.whl (26 kB)\r\n",
      "Installing collected packages: ultralytics-thop, ultralytics\r\n",
      "Successfully installed ultralytics-8.3.15 ultralytics-thop-2.0.9\r\n",
      "Requirement already satisfied: ipywidgets in /opt/conda/lib/python3.10/site-packages (7.7.1)\r\n",
      "Collecting ipywidgets\r\n",
      "  Downloading ipywidgets-8.1.5-py3-none-any.whl.metadata (2.3 kB)\r\n",
      "Requirement already satisfied: comm>=0.1.3 in /opt/conda/lib/python3.10/site-packages (from ipywidgets) (0.2.2)\r\n",
      "Requirement already satisfied: ipython>=6.1.0 in /opt/conda/lib/python3.10/site-packages (from ipywidgets) (8.21.0)\r\n",
      "Requirement already satisfied: traitlets>=4.3.1 in /opt/conda/lib/python3.10/site-packages (from ipywidgets) (5.14.3)\r\n",
      "Collecting widgetsnbextension~=4.0.12 (from ipywidgets)\r\n",
      "  Downloading widgetsnbextension-4.0.13-py3-none-any.whl.metadata (1.6 kB)\r\n",
      "Collecting jupyterlab-widgets~=3.0.12 (from ipywidgets)\r\n",
      "  Downloading jupyterlab_widgets-3.0.13-py3-none-any.whl.metadata (4.1 kB)\r\n",
      "Requirement already satisfied: decorator in /opt/conda/lib/python3.10/site-packages (from ipython>=6.1.0->ipywidgets) (5.1.1)\r\n",
      "Requirement already satisfied: jedi>=0.16 in /opt/conda/lib/python3.10/site-packages (from ipython>=6.1.0->ipywidgets) (0.19.1)\r\n",
      "Requirement already satisfied: matplotlib-inline in /opt/conda/lib/python3.10/site-packages (from ipython>=6.1.0->ipywidgets) (0.1.7)\r\n",
      "Requirement already satisfied: prompt-toolkit<3.1.0,>=3.0.41 in /opt/conda/lib/python3.10/site-packages (from ipython>=6.1.0->ipywidgets) (3.0.47)\r\n",
      "Requirement already satisfied: pygments>=2.4.0 in /opt/conda/lib/python3.10/site-packages (from ipython>=6.1.0->ipywidgets) (2.18.0)\r\n",
      "Requirement already satisfied: stack-data in /opt/conda/lib/python3.10/site-packages (from ipython>=6.1.0->ipywidgets) (0.6.2)\r\n",
      "Requirement already satisfied: exceptiongroup in /opt/conda/lib/python3.10/site-packages (from ipython>=6.1.0->ipywidgets) (1.2.0)\r\n",
      "Requirement already satisfied: pexpect>4.3 in /opt/conda/lib/python3.10/site-packages (from ipython>=6.1.0->ipywidgets) (4.9.0)\r\n",
      "Requirement already satisfied: parso<0.9.0,>=0.8.3 in /opt/conda/lib/python3.10/site-packages (from jedi>=0.16->ipython>=6.1.0->ipywidgets) (0.8.4)\r\n",
      "Requirement already satisfied: ptyprocess>=0.5 in /opt/conda/lib/python3.10/site-packages (from pexpect>4.3->ipython>=6.1.0->ipywidgets) (0.7.0)\r\n",
      "Requirement already satisfied: wcwidth in /opt/conda/lib/python3.10/site-packages (from prompt-toolkit<3.1.0,>=3.0.41->ipython>=6.1.0->ipywidgets) (0.2.13)\r\n",
      "Requirement already satisfied: executing>=1.2.0 in /opt/conda/lib/python3.10/site-packages (from stack-data->ipython>=6.1.0->ipywidgets) (2.0.1)\r\n",
      "Requirement already satisfied: asttokens>=2.1.0 in /opt/conda/lib/python3.10/site-packages (from stack-data->ipython>=6.1.0->ipywidgets) (2.4.1)\r\n",
      "Requirement already satisfied: pure-eval in /opt/conda/lib/python3.10/site-packages (from stack-data->ipython>=6.1.0->ipywidgets) (0.2.2)\r\n",
      "Requirement already satisfied: six>=1.12.0 in /opt/conda/lib/python3.10/site-packages (from asttokens>=2.1.0->stack-data->ipython>=6.1.0->ipywidgets) (1.16.0)\r\n",
      "Downloading ipywidgets-8.1.5-py3-none-any.whl (139 kB)\r\n",
      "\u001b[2K   \u001b[90m━━━━━━━━━━━━━━━━━━━━━━━━━━━━━━━━━━━━━━━━\u001b[0m \u001b[32m139.8/139.8 kB\u001b[0m \u001b[31m3.3 MB/s\u001b[0m eta \u001b[36m0:00:00\u001b[0m\r\n",
      "\u001b[?25hDownloading jupyterlab_widgets-3.0.13-py3-none-any.whl (214 kB)\r\n",
      "\u001b[2K   \u001b[90m━━━━━━━━━━━━━━━━━━━━━━━━━━━━━━━━━━━━━━━━\u001b[0m \u001b[32m214.4/214.4 kB\u001b[0m \u001b[31m8.0 MB/s\u001b[0m eta \u001b[36m0:00:00\u001b[0m\r\n",
      "\u001b[?25hDownloading widgetsnbextension-4.0.13-py3-none-any.whl (2.3 MB)\r\n",
      "\u001b[2K   \u001b[90m━━━━━━━━━━━━━━━━━━━━━━━━━━━━━━━━━━━━━━━━\u001b[0m \u001b[32m2.3/2.3 MB\u001b[0m \u001b[31m47.8 MB/s\u001b[0m eta \u001b[36m0:00:00\u001b[0m\r\n",
      "\u001b[?25hInstalling collected packages: widgetsnbextension, jupyterlab-widgets, ipywidgets\r\n",
      "  Attempting uninstall: widgetsnbextension\r\n",
      "    Found existing installation: widgetsnbextension 3.6.9\r\n",
      "    Uninstalling widgetsnbextension-3.6.9:\r\n",
      "      Successfully uninstalled widgetsnbextension-3.6.9\r\n",
      "  Attempting uninstall: jupyterlab-widgets\r\n",
      "    Found existing installation: jupyterlab_widgets 3.0.11\r\n",
      "    Uninstalling jupyterlab_widgets-3.0.11:\r\n",
      "      Successfully uninstalled jupyterlab_widgets-3.0.11\r\n",
      "  Attempting uninstall: ipywidgets\r\n",
      "    Found existing installation: ipywidgets 7.7.1\r\n",
      "    Uninstalling ipywidgets-7.7.1:\r\n",
      "      Successfully uninstalled ipywidgets-7.7.1\r\n",
      "\u001b[31mERROR: pip's dependency resolver does not currently take into account all the packages that are installed. This behaviour is the source of the following dependency conflicts.\r\n",
      "bigframes 0.22.0 requires google-cloud-bigquery[bqstorage,pandas]>=3.10.0, but you have google-cloud-bigquery 2.34.4 which is incompatible.\r\n",
      "bigframes 0.22.0 requires google-cloud-storage>=2.0.0, but you have google-cloud-storage 1.44.0 which is incompatible.\r\n",
      "bigframes 0.22.0 requires pandas<2.1.4,>=1.5.0, but you have pandas 2.2.2 which is incompatible.\r\n",
      "dataproc-jupyter-plugin 0.1.79 requires pydantic~=1.10.0, but you have pydantic 2.9.2 which is incompatible.\u001b[0m\u001b[31m\r\n",
      "\u001b[0mSuccessfully installed ipywidgets-8.1.5 jupyterlab-widgets-3.0.13 widgetsnbextension-4.0.13\r\n"
     ]
    }
   ],
   "source": [
    "!pip install --no-cache-dir ultralytics\n",
    "!pip install -U ipywidgets\n",
    "os.environ['WANDB_DISABLED'] = 'true'"
   ]
  },
  {
   "cell_type": "code",
   "execution_count": 12,
   "id": "ef0a15b6",
   "metadata": {
    "execution": {
     "iopub.execute_input": "2024-10-17T06:52:45.244856Z",
     "iopub.status.busy": "2024-10-17T06:52:45.244263Z",
     "iopub.status.idle": "2024-10-17T12:43:06.305918Z",
     "shell.execute_reply": "2024-10-17T12:43:06.304880Z"
    },
    "id": "sgnvhwPZRlUN",
    "outputId": "fd219368-285b-4967-e8ae-913428475584",
    "papermill": {
     "duration": 21024.898576,
     "end_time": "2024-10-17T12:43:10.124751",
     "exception": false,
     "start_time": "2024-10-17T06:52:45.226175",
     "status": "completed"
    },
    "tags": []
   },
   "outputs": [
    {
     "name": "stdout",
     "output_type": "stream",
     "text": [
      "Creating new Ultralytics Settings v0.0.6 file ✅ \n",
      "View Ultralytics Settings with 'yolo settings' or at '/root/.config/Ultralytics/settings.json'\n",
      "Update Settings with 'yolo settings key=value', i.e. 'yolo settings runs_dir=path/to/dir'. For help see https://docs.ultralytics.com/quickstart/#ultralytics-settings.\n",
      "Downloading https://github.com/ultralytics/assets/releases/download/v8.3.0/yolo11m-seg.pt to 'yolo11m-seg.pt'...\n"
     ]
    },
    {
     "name": "stderr",
     "output_type": "stream",
     "text": [
      "100%|██████████| 43.3M/43.3M [00:00<00:00, 260MB/s]\n"
     ]
    },
    {
     "name": "stdout",
     "output_type": "stream",
     "text": [
      "Ultralytics 8.3.15 🚀 Python-3.10.14 torch-2.4.0 CUDA:0 (Tesla T4, 15095MiB)\n",
      "\u001b[34m\u001b[1mengine/trainer: \u001b[0mtask=segment, mode=train, model=yolo11m-seg.pt, data=/kaggle/working/dataset/dataset.yaml, epochs=100, time=None, patience=100, batch=16, imgsz=640, save=True, save_period=-1, cache=False, device=cuda, workers=8, project=None, name=train, exist_ok=False, pretrained=True, optimizer=auto, verbose=True, seed=0, deterministic=True, single_cls=False, rect=False, cos_lr=False, close_mosaic=10, resume=False, amp=True, fraction=1.0, profile=False, freeze=None, multi_scale=False, overlap_mask=True, mask_ratio=4, dropout=0.0, val=True, split=val, save_json=False, save_hybrid=False, conf=None, iou=0.7, max_det=300, half=False, dnn=False, plots=True, source=None, vid_stride=1, stream_buffer=False, visualize=False, augment=False, agnostic_nms=False, classes=None, retina_masks=False, embed=None, show=False, save_frames=False, save_txt=False, save_conf=False, save_crop=False, show_labels=True, show_conf=True, show_boxes=True, line_width=None, format=torchscript, keras=False, optimize=False, int8=False, dynamic=False, simplify=True, opset=None, workspace=4, nms=False, lr0=0.01, lrf=0.01, momentum=0.937, weight_decay=0.0005, warmup_epochs=3.0, warmup_momentum=0.8, warmup_bias_lr=0.1, box=7.5, cls=0.5, dfl=1.5, pose=12.0, kobj=1.0, label_smoothing=0.0, nbs=64, hsv_h=0.015, hsv_s=0.7, hsv_v=0.4, degrees=0.0, translate=0.2, scale=0.7, shear=0.0, perspective=0.0, flipud=0.0, fliplr=0.5, bgr=0.0, mosaic=1.0, mixup=0.0, copy_paste=0.0, copy_paste_mode=flip, auto_augment=randaugment, erasing=0.2, crop_fraction=1.0, cfg=None, tracker=botsort.yaml, save_dir=runs/segment/train\n",
      "Downloading https://ultralytics.com/assets/Arial.ttf to '/root/.config/Ultralytics/Arial.ttf'...\n"
     ]
    },
    {
     "name": "stderr",
     "output_type": "stream",
     "text": [
      "100%|██████████| 755k/755k [00:00<00:00, 15.1MB/s]\n"
     ]
    },
    {
     "name": "stdout",
     "output_type": "stream",
     "text": [
      "Overriding model.yaml nc=80 with nc=1\n",
      "\n",
      "                   from  n    params  module                                       arguments                     \n",
      "  0                  -1  1      1856  ultralytics.nn.modules.conv.Conv             [3, 64, 3, 2]                 \n",
      "  1                  -1  1     73984  ultralytics.nn.modules.conv.Conv             [64, 128, 3, 2]               \n",
      "  2                  -1  1    111872  ultralytics.nn.modules.block.C3k2            [128, 256, 1, True, 0.25]     \n",
      "  3                  -1  1    590336  ultralytics.nn.modules.conv.Conv             [256, 256, 3, 2]              \n",
      "  4                  -1  1    444928  ultralytics.nn.modules.block.C3k2            [256, 512, 1, True, 0.25]     \n",
      "  5                  -1  1   2360320  ultralytics.nn.modules.conv.Conv             [512, 512, 3, 2]              \n",
      "  6                  -1  1   1380352  ultralytics.nn.modules.block.C3k2            [512, 512, 1, True]           \n",
      "  7                  -1  1   2360320  ultralytics.nn.modules.conv.Conv             [512, 512, 3, 2]              \n",
      "  8                  -1  1   1380352  ultralytics.nn.modules.block.C3k2            [512, 512, 1, True]           \n",
      "  9                  -1  1    656896  ultralytics.nn.modules.block.SPPF            [512, 512, 5]                 \n",
      " 10                  -1  1    990976  ultralytics.nn.modules.block.C2PSA           [512, 512, 1]                 \n",
      " 11                  -1  1         0  torch.nn.modules.upsampling.Upsample         [None, 2, 'nearest']          \n",
      " 12             [-1, 6]  1         0  ultralytics.nn.modules.conv.Concat           [1]                           \n",
      " 13                  -1  1   1642496  ultralytics.nn.modules.block.C3k2            [1024, 512, 1, True]          \n",
      " 14                  -1  1         0  torch.nn.modules.upsampling.Upsample         [None, 2, 'nearest']          \n",
      " 15             [-1, 4]  1         0  ultralytics.nn.modules.conv.Concat           [1]                           \n",
      " 16                  -1  1    542720  ultralytics.nn.modules.block.C3k2            [1024, 256, 1, True]          \n",
      " 17                  -1  1    590336  ultralytics.nn.modules.conv.Conv             [256, 256, 3, 2]              \n",
      " 18            [-1, 13]  1         0  ultralytics.nn.modules.conv.Concat           [1]                           \n",
      " 19                  -1  1   1511424  ultralytics.nn.modules.block.C3k2            [768, 512, 1, True]           \n",
      " 20                  -1  1   2360320  ultralytics.nn.modules.conv.Conv             [512, 512, 3, 2]              \n",
      " 21            [-1, 10]  1         0  ultralytics.nn.modules.conv.Concat           [1]                           \n",
      " 22                  -1  1   1642496  ultralytics.nn.modules.block.C3k2            [1024, 512, 1, True]          \n",
      " 23        [16, 19, 22]  1   3718003  ultralytics.nn.modules.head.Segment          [1, 32, 256, [256, 512, 512]] \n",
      "YOLO11m-seg summary: 445 layers, 22,359,987 parameters, 22,359,971 gradients, 123.6 GFLOPs\n",
      "\n",
      "Transferred 705/711 items from pretrained weights\n",
      "\u001b[34m\u001b[1mTensorBoard: \u001b[0mStart with 'tensorboard --logdir runs/segment/train', view at http://localhost:6006/\n"
     ]
    },
    {
     "name": "stderr",
     "output_type": "stream",
     "text": [
      "\u001b[34m\u001b[1mwandb\u001b[0m: Using wandb-core as the SDK backend. Please refer to https://wandb.me/wandb-core for more information.\n",
      "\u001b[34m\u001b[1mwandb\u001b[0m: Tracking run with wandb version 0.18.3\n",
      "\u001b[34m\u001b[1mwandb\u001b[0m: W&B syncing is set to \u001b[1m`offline`\u001b[0m in this directory.  \n",
      "\u001b[34m\u001b[1mwandb\u001b[0m: Run \u001b[1m`wandb online`\u001b[0m or set \u001b[1mWANDB_MODE=online\u001b[0m to enable cloud syncing.\n"
     ]
    },
    {
     "name": "stdout",
     "output_type": "stream",
     "text": [
      "Freezing layer 'model.23.dfl.conv.weight'\n",
      "\u001b[34m\u001b[1mAMP: \u001b[0mrunning Automatic Mixed Precision (AMP) checks with YOLO11n...\n",
      "Downloading https://github.com/ultralytics/assets/releases/download/v8.3.0/yolo11n.pt to 'yolo11n.pt'...\n"
     ]
    },
    {
     "name": "stderr",
     "output_type": "stream",
     "text": [
      "100%|██████████| 5.35M/5.35M [00:00<00:00, 66.1MB/s]\n"
     ]
    },
    {
     "name": "stdout",
     "output_type": "stream",
     "text": [
      "\u001b[34m\u001b[1mAMP: \u001b[0mchecks passed ✅\n"
     ]
    },
    {
     "name": "stderr",
     "output_type": "stream",
     "text": [
      "\u001b[34m\u001b[1mtrain: \u001b[0mScanning /kaggle/working/dataset/train/labels... 4000 images, 0 backgrounds, 0 corrupt: 100%|██████████| 4000/4000 [00:04<00:00, 877.06it/s]\n"
     ]
    },
    {
     "name": "stdout",
     "output_type": "stream",
     "text": [
      "\u001b[34m\u001b[1mtrain: \u001b[0mNew cache created: /kaggle/working/dataset/train/labels.cache\n",
      "\u001b[34m\u001b[1malbumentations: \u001b[0mBlur(p=0.01, blur_limit=(3, 7)), MedianBlur(p=0.01, blur_limit=(3, 7)), ToGray(p=0.01, num_output_channels=3, method='weighted_average'), CLAHE(p=0.01, clip_limit=(1, 4.0), tile_grid_size=(8, 8))\n"
     ]
    },
    {
     "name": "stderr",
     "output_type": "stream",
     "text": [
      "/opt/conda/lib/python3.10/site-packages/albumentations/__init__.py:13: UserWarning: A new version of Albumentations is available: 1.4.18 (you have 1.4.17). Upgrade using: pip install -U albumentations. To disable automatic update checks, set the environment variable NO_ALBUMENTATIONS_UPDATE to 1.\n",
      "  check_for_updates()\n",
      "/opt/conda/lib/python3.10/multiprocessing/popen_fork.py:66: RuntimeWarning: os.fork() was called. os.fork() is incompatible with multithreaded code, and JAX is multithreaded, so this will likely lead to a deadlock.\n",
      "  self.pid = os.fork()\n",
      "\u001b[34m\u001b[1mval: \u001b[0mScanning /kaggle/working/dataset/val/labels... 1000 images, 0 backgrounds, 0 corrupt: 100%|██████████| 1000/1000 [00:01<00:00, 724.60it/s]\n"
     ]
    },
    {
     "name": "stdout",
     "output_type": "stream",
     "text": [
      "\u001b[34m\u001b[1mval: \u001b[0mNew cache created: /kaggle/working/dataset/val/labels.cache\n",
      "Plotting labels to runs/segment/train/labels.jpg... \n",
      "\u001b[34m\u001b[1moptimizer:\u001b[0m 'optimizer=auto' found, ignoring 'lr0=0.01' and 'momentum=0.937' and determining best 'optimizer', 'lr0' and 'momentum' automatically... \n",
      "\u001b[34m\u001b[1moptimizer:\u001b[0m AdamW(lr=0.002, momentum=0.9) with parameter groups 115 weight(decay=0.0), 126 weight(decay=0.0005), 125 bias(decay=0.0)\n",
      "\u001b[34m\u001b[1mTensorBoard: \u001b[0mmodel graph visualization added ✅\n",
      "Image sizes 640 train, 640 val\n",
      "Using 4 dataloader workers\n",
      "Logging results to \u001b[1mruns/segment/train\u001b[0m\n",
      "Starting training for 100 epochs...\n",
      "\n",
      "      Epoch    GPU_mem   box_loss   seg_loss   cls_loss   dfl_loss  Instances       Size\n"
     ]
    },
    {
     "name": "stderr",
     "output_type": "stream",
     "text": [
      "      1/100      10.6G      1.229      1.215     0.9384      1.266        178        640: 100%|██████████| 250/250 [03:17<00:00,  1.27it/s]\n",
      "                 Class     Images  Instances      Box(P          R      mAP50  mAP50-95)     Mask(P          R      mAP50  mAP50-95): 100%|██████████| 32/32 [00:15<00:00,  2.08it/s]\n"
     ]
    },
    {
     "name": "stdout",
     "output_type": "stream",
     "text": [
      "                   all       1000       5469      0.788      0.851      0.857      0.488      0.788      0.851      0.856        0.5\n",
      "\n",
      "      Epoch    GPU_mem   box_loss   seg_loss   cls_loss   dfl_loss  Instances       Size\n"
     ]
    },
    {
     "name": "stderr",
     "output_type": "stream",
     "text": [
      "      2/100      10.6G      1.035     0.7838     0.7194      1.152        180        640: 100%|██████████| 250/250 [03:16<00:00,  1.27it/s]\n",
      "                 Class     Images  Instances      Box(P          R      mAP50  mAP50-95)     Mask(P          R      mAP50  mAP50-95): 100%|██████████| 32/32 [00:15<00:00,  2.13it/s]"
     ]
    },
    {
     "name": "stdout",
     "output_type": "stream",
     "text": [
      "                   all       1000       5469      0.755      0.868      0.878      0.664      0.749      0.866      0.873        0.6\n"
     ]
    },
    {
     "name": "stderr",
     "output_type": "stream",
     "text": [
      "\n"
     ]
    },
    {
     "name": "stdout",
     "output_type": "stream",
     "text": [
      "\n",
      "      Epoch    GPU_mem   box_loss   seg_loss   cls_loss   dfl_loss  Instances       Size\n"
     ]
    },
    {
     "name": "stderr",
     "output_type": "stream",
     "text": [
      "      3/100      10.6G     0.9524     0.7255     0.6453      1.105        265        640: 100%|██████████| 250/250 [03:14<00:00,  1.28it/s]\n",
      "                 Class     Images  Instances      Box(P          R      mAP50  mAP50-95)     Mask(P          R      mAP50  mAP50-95): 100%|██████████| 32/32 [00:14<00:00,  2.14it/s]"
     ]
    },
    {
     "name": "stdout",
     "output_type": "stream",
     "text": [
      "                   all       1000       5469      0.917      0.944      0.967      0.719      0.915      0.941      0.963      0.671\n"
     ]
    },
    {
     "name": "stderr",
     "output_type": "stream",
     "text": [
      "\n"
     ]
    },
    {
     "name": "stdout",
     "output_type": "stream",
     "text": [
      "\n",
      "      Epoch    GPU_mem   box_loss   seg_loss   cls_loss   dfl_loss  Instances       Size\n"
     ]
    },
    {
     "name": "stderr",
     "output_type": "stream",
     "text": [
      "      4/100      10.6G     0.8645     0.6943     0.5749      1.064        230        640: 100%|██████████| 250/250 [03:14<00:00,  1.29it/s]\n",
      "                 Class     Images  Instances      Box(P          R      mAP50  mAP50-95)     Mask(P          R      mAP50  mAP50-95): 100%|██████████| 32/32 [00:15<00:00,  2.06it/s]\n"
     ]
    },
    {
     "name": "stdout",
     "output_type": "stream",
     "text": [
      "                   all       1000       5469      0.867      0.892      0.924      0.611      0.867      0.891      0.923      0.591\n",
      "\n",
      "      Epoch    GPU_mem   box_loss   seg_loss   cls_loss   dfl_loss  Instances       Size\n"
     ]
    },
    {
     "name": "stderr",
     "output_type": "stream",
     "text": [
      "      5/100      10.5G     0.8059      0.653      0.538      1.042        139        640: 100%|██████████| 250/250 [03:13<00:00,  1.29it/s]\n",
      "                 Class     Images  Instances      Box(P          R      mAP50  mAP50-95)     Mask(P          R      mAP50  mAP50-95): 100%|██████████| 32/32 [00:15<00:00,  2.12it/s]"
     ]
    },
    {
     "name": "stdout",
     "output_type": "stream",
     "text": [
      "                   all       1000       5469      0.825      0.712      0.787      0.552      0.823      0.711      0.785      0.522\n"
     ]
    },
    {
     "name": "stderr",
     "output_type": "stream",
     "text": [
      "\n"
     ]
    },
    {
     "name": "stdout",
     "output_type": "stream",
     "text": [
      "\n",
      "      Epoch    GPU_mem   box_loss   seg_loss   cls_loss   dfl_loss  Instances       Size\n"
     ]
    },
    {
     "name": "stderr",
     "output_type": "stream",
     "text": [
      "      6/100      10.5G     0.7646     0.6218     0.5047      1.022        203        640: 100%|██████████| 250/250 [03:14<00:00,  1.29it/s]\n",
      "                 Class     Images  Instances      Box(P          R      mAP50  mAP50-95)     Mask(P          R      mAP50  mAP50-95): 100%|██████████| 32/32 [00:14<00:00,  2.24it/s]"
     ]
    },
    {
     "name": "stdout",
     "output_type": "stream",
     "text": [
      "                   all       1000       5469      0.119       0.04     0.0264      0.013      0.117       0.04     0.0268     0.0123\n"
     ]
    },
    {
     "name": "stderr",
     "output_type": "stream",
     "text": [
      "\n"
     ]
    },
    {
     "name": "stdout",
     "output_type": "stream",
     "text": [
      "\n",
      "      Epoch    GPU_mem   box_loss   seg_loss   cls_loss   dfl_loss  Instances       Size\n"
     ]
    },
    {
     "name": "stderr",
     "output_type": "stream",
     "text": [
      "      7/100      10.5G     0.7162     0.5929     0.4636     0.9964        193        640: 100%|██████████| 250/250 [03:13<00:00,  1.29it/s]\n",
      "                 Class     Images  Instances      Box(P          R      mAP50  mAP50-95)     Mask(P          R      mAP50  mAP50-95): 100%|██████████| 32/32 [00:15<00:00,  2.11it/s]"
     ]
    },
    {
     "name": "stdout",
     "output_type": "stream",
     "text": [
      "                   all       1000       5469       0.96      0.952      0.982      0.847      0.961       0.95      0.981      0.814\n"
     ]
    },
    {
     "name": "stderr",
     "output_type": "stream",
     "text": [
      "\n"
     ]
    },
    {
     "name": "stdout",
     "output_type": "stream",
     "text": [
      "\n",
      "      Epoch    GPU_mem   box_loss   seg_loss   cls_loss   dfl_loss  Instances       Size\n"
     ]
    },
    {
     "name": "stderr",
     "output_type": "stream",
     "text": [
      "      8/100      10.7G     0.6935     0.5833     0.4441     0.9879        180        640: 100%|██████████| 250/250 [03:13<00:00,  1.29it/s]\n",
      "                 Class     Images  Instances      Box(P          R      mAP50  mAP50-95)     Mask(P          R      mAP50  mAP50-95): 100%|██████████| 32/32 [00:14<00:00,  2.16it/s]"
     ]
    },
    {
     "name": "stdout",
     "output_type": "stream",
     "text": [
      "                   all       1000       5469      0.681       0.56       0.63      0.401      0.677      0.557      0.627      0.384\n"
     ]
    },
    {
     "name": "stderr",
     "output_type": "stream",
     "text": [
      "\n"
     ]
    },
    {
     "name": "stdout",
     "output_type": "stream",
     "text": [
      "\n",
      "      Epoch    GPU_mem   box_loss   seg_loss   cls_loss   dfl_loss  Instances       Size\n"
     ]
    },
    {
     "name": "stderr",
     "output_type": "stream",
     "text": [
      "      9/100      10.5G     0.6745     0.5774     0.4356     0.9809        226        640: 100%|██████████| 250/250 [03:14<00:00,  1.29it/s]\n",
      "                 Class     Images  Instances      Box(P          R      mAP50  mAP50-95)     Mask(P          R      mAP50  mAP50-95): 100%|██████████| 32/32 [00:14<00:00,  2.24it/s]"
     ]
    },
    {
     "name": "stdout",
     "output_type": "stream",
     "text": [
      "                   all       1000       5469       0.57      0.134      0.157     0.0863      0.565      0.133      0.158     0.0819\n"
     ]
    },
    {
     "name": "stderr",
     "output_type": "stream",
     "text": [
      "\n"
     ]
    },
    {
     "name": "stdout",
     "output_type": "stream",
     "text": [
      "\n",
      "      Epoch    GPU_mem   box_loss   seg_loss   cls_loss   dfl_loss  Instances       Size\n"
     ]
    },
    {
     "name": "stderr",
     "output_type": "stream",
     "text": [
      "     10/100      10.6G     0.6586     0.5614     0.4288     0.9765        171        640: 100%|██████████| 250/250 [03:13<00:00,  1.29it/s]\n",
      "                 Class     Images  Instances      Box(P          R      mAP50  mAP50-95)     Mask(P          R      mAP50  mAP50-95): 100%|██████████| 32/32 [00:15<00:00,  2.11it/s]"
     ]
    },
    {
     "name": "stdout",
     "output_type": "stream",
     "text": [
      "                   all       1000       5469      0.976      0.983       0.99      0.891      0.976      0.983       0.99      0.832\n"
     ]
    },
    {
     "name": "stderr",
     "output_type": "stream",
     "text": [
      "\n"
     ]
    },
    {
     "name": "stdout",
     "output_type": "stream",
     "text": [
      "\n",
      "      Epoch    GPU_mem   box_loss   seg_loss   cls_loss   dfl_loss  Instances       Size\n"
     ]
    },
    {
     "name": "stderr",
     "output_type": "stream",
     "text": [
      "     11/100      10.6G     0.6411     0.5466     0.4163     0.9688        161        640: 100%|██████████| 250/250 [03:13<00:00,  1.29it/s]\n",
      "                 Class     Images  Instances      Box(P          R      mAP50  mAP50-95)     Mask(P          R      mAP50  mAP50-95): 100%|██████████| 32/32 [00:14<00:00,  2.28it/s]"
     ]
    },
    {
     "name": "stdout",
     "output_type": "stream",
     "text": [
      "                   all       1000       5469     0.0793     0.0371     0.0255     0.0121     0.0793     0.0371      0.026     0.0111\n"
     ]
    },
    {
     "name": "stderr",
     "output_type": "stream",
     "text": [
      "\n"
     ]
    },
    {
     "name": "stdout",
     "output_type": "stream",
     "text": [
      "\n",
      "      Epoch    GPU_mem   box_loss   seg_loss   cls_loss   dfl_loss  Instances       Size\n"
     ]
    },
    {
     "name": "stderr",
     "output_type": "stream",
     "text": [
      "     12/100      10.5G     0.6344     0.5526     0.4082     0.9662        201        640: 100%|██████████| 250/250 [03:13<00:00,  1.29it/s]\n",
      "                 Class     Images  Instances      Box(P          R      mAP50  mAP50-95)     Mask(P          R      mAP50  mAP50-95): 100%|██████████| 32/32 [00:14<00:00,  2.17it/s]"
     ]
    },
    {
     "name": "stdout",
     "output_type": "stream",
     "text": [
      "                   all       1000       5469      0.751      0.596      0.693      0.482      0.745      0.593      0.687       0.45\n"
     ]
    },
    {
     "name": "stderr",
     "output_type": "stream",
     "text": [
      "\n"
     ]
    },
    {
     "name": "stdout",
     "output_type": "stream",
     "text": [
      "\n",
      "      Epoch    GPU_mem   box_loss   seg_loss   cls_loss   dfl_loss  Instances       Size\n"
     ]
    },
    {
     "name": "stderr",
     "output_type": "stream",
     "text": [
      "     13/100      10.6G      0.619      0.547     0.3939     0.9502        177        640: 100%|██████████| 250/250 [03:13<00:00,  1.29it/s]\n",
      "                 Class     Images  Instances      Box(P          R      mAP50  mAP50-95)     Mask(P          R      mAP50  mAP50-95): 100%|██████████| 32/32 [00:15<00:00,  2.13it/s]"
     ]
    },
    {
     "name": "stdout",
     "output_type": "stream",
     "text": [
      "                   all       1000       5469      0.982       0.98      0.993      0.901       0.98      0.978      0.992      0.818\n"
     ]
    },
    {
     "name": "stderr",
     "output_type": "stream",
     "text": [
      "\n"
     ]
    },
    {
     "name": "stdout",
     "output_type": "stream",
     "text": [
      "\n",
      "      Epoch    GPU_mem   box_loss   seg_loss   cls_loss   dfl_loss  Instances       Size\n"
     ]
    },
    {
     "name": "stderr",
     "output_type": "stream",
     "text": [
      "     14/100      10.7G     0.5973     0.5311     0.3886     0.9473        177        640: 100%|██████████| 250/250 [03:13<00:00,  1.29it/s]\n",
      "                 Class     Images  Instances      Box(P          R      mAP50  mAP50-95)     Mask(P          R      mAP50  mAP50-95): 100%|██████████| 32/32 [00:14<00:00,  2.14it/s]"
     ]
    },
    {
     "name": "stdout",
     "output_type": "stream",
     "text": [
      "                   all       1000       5469      0.988       0.98      0.993      0.925      0.986      0.981      0.993      0.849\n"
     ]
    },
    {
     "name": "stderr",
     "output_type": "stream",
     "text": [
      "\n"
     ]
    },
    {
     "name": "stdout",
     "output_type": "stream",
     "text": [
      "\n",
      "      Epoch    GPU_mem   box_loss   seg_loss   cls_loss   dfl_loss  Instances       Size\n"
     ]
    },
    {
     "name": "stderr",
     "output_type": "stream",
     "text": [
      "     15/100      10.5G     0.5879     0.5138     0.3811     0.9457        201        640: 100%|██████████| 250/250 [03:13<00:00,  1.29it/s]\n",
      "                 Class     Images  Instances      Box(P          R      mAP50  mAP50-95)     Mask(P          R      mAP50  mAP50-95): 100%|██████████| 32/32 [00:15<00:00,  2.13it/s]"
     ]
    },
    {
     "name": "stdout",
     "output_type": "stream",
     "text": [
      "                   all       1000       5469      0.925      0.898      0.946      0.783      0.923      0.896      0.944      0.728\n"
     ]
    },
    {
     "name": "stderr",
     "output_type": "stream",
     "text": [
      "\n"
     ]
    },
    {
     "name": "stdout",
     "output_type": "stream",
     "text": [
      "\n",
      "      Epoch    GPU_mem   box_loss   seg_loss   cls_loss   dfl_loss  Instances       Size\n"
     ]
    },
    {
     "name": "stderr",
     "output_type": "stream",
     "text": [
      "     16/100      10.7G     0.5808      0.506     0.3739     0.9389        175        640: 100%|██████████| 250/250 [03:13<00:00,  1.29it/s]\n",
      "                 Class     Images  Instances      Box(P          R      mAP50  mAP50-95)     Mask(P          R      mAP50  mAP50-95): 100%|██████████| 32/32 [00:14<00:00,  2.14it/s]"
     ]
    },
    {
     "name": "stdout",
     "output_type": "stream",
     "text": [
      "                   all       1000       5469      0.979      0.983      0.992      0.917      0.978      0.982      0.992      0.835\n"
     ]
    },
    {
     "name": "stderr",
     "output_type": "stream",
     "text": [
      "\n"
     ]
    },
    {
     "name": "stdout",
     "output_type": "stream",
     "text": [
      "\n",
      "      Epoch    GPU_mem   box_loss   seg_loss   cls_loss   dfl_loss  Instances       Size\n"
     ]
    },
    {
     "name": "stderr",
     "output_type": "stream",
     "text": [
      "     17/100      10.6G     0.5746     0.4886     0.3716     0.9376        198        640: 100%|██████████| 250/250 [03:12<00:00,  1.30it/s]\n",
      "                 Class     Images  Instances      Box(P          R      mAP50  mAP50-95)     Mask(P          R      mAP50  mAP50-95): 100%|██████████| 32/32 [00:15<00:00,  2.13it/s]"
     ]
    },
    {
     "name": "stdout",
     "output_type": "stream",
     "text": [
      "                   all       1000       5469      0.974       0.97      0.991      0.908      0.974      0.969      0.991       0.83\n"
     ]
    },
    {
     "name": "stderr",
     "output_type": "stream",
     "text": [
      "\n"
     ]
    },
    {
     "name": "stdout",
     "output_type": "stream",
     "text": [
      "\n",
      "      Epoch    GPU_mem   box_loss   seg_loss   cls_loss   dfl_loss  Instances       Size\n"
     ]
    },
    {
     "name": "stderr",
     "output_type": "stream",
     "text": [
      "     18/100      10.6G     0.5615     0.5037     0.3602     0.9298        216        640: 100%|██████████| 250/250 [03:13<00:00,  1.29it/s]\n",
      "                 Class     Images  Instances      Box(P          R      mAP50  mAP50-95)     Mask(P          R      mAP50  mAP50-95): 100%|██████████| 32/32 [00:14<00:00,  2.18it/s]"
     ]
    },
    {
     "name": "stdout",
     "output_type": "stream",
     "text": [
      "                   all       1000       5469      0.818      0.649      0.757      0.579      0.815      0.642       0.75      0.544\n"
     ]
    },
    {
     "name": "stderr",
     "output_type": "stream",
     "text": [
      "\n"
     ]
    },
    {
     "name": "stdout",
     "output_type": "stream",
     "text": [
      "\n",
      "      Epoch    GPU_mem   box_loss   seg_loss   cls_loss   dfl_loss  Instances       Size\n"
     ]
    },
    {
     "name": "stderr",
     "output_type": "stream",
     "text": [
      "     19/100      10.6G     0.5632      0.511     0.3597     0.9289        213        640: 100%|██████████| 250/250 [03:13<00:00,  1.29it/s]\n",
      "                 Class     Images  Instances      Box(P          R      mAP50  mAP50-95)     Mask(P          R      mAP50  mAP50-95): 100%|██████████| 32/32 [00:15<00:00,  2.13it/s]"
     ]
    },
    {
     "name": "stdout",
     "output_type": "stream",
     "text": [
      "                   all       1000       5469      0.984       0.99      0.993      0.937      0.983       0.99      0.993      0.867\n"
     ]
    },
    {
     "name": "stderr",
     "output_type": "stream",
     "text": [
      "\n"
     ]
    },
    {
     "name": "stdout",
     "output_type": "stream",
     "text": [
      "\n",
      "      Epoch    GPU_mem   box_loss   seg_loss   cls_loss   dfl_loss  Instances       Size\n"
     ]
    },
    {
     "name": "stderr",
     "output_type": "stream",
     "text": [
      "     20/100      10.6G     0.5503     0.4907     0.3513     0.9292        260        640: 100%|██████████| 250/250 [03:13<00:00,  1.29it/s]\n",
      "                 Class     Images  Instances      Box(P          R      mAP50  mAP50-95)     Mask(P          R      mAP50  mAP50-95): 100%|██████████| 32/32 [00:13<00:00,  2.29it/s]"
     ]
    },
    {
     "name": "stdout",
     "output_type": "stream",
     "text": [
      "                   all       1000       5469     0.0561      0.131     0.0425     0.0162     0.0571      0.133     0.0433     0.0158\n"
     ]
    },
    {
     "name": "stderr",
     "output_type": "stream",
     "text": [
      "\n"
     ]
    },
    {
     "name": "stdout",
     "output_type": "stream",
     "text": [
      "\n",
      "      Epoch    GPU_mem   box_loss   seg_loss   cls_loss   dfl_loss  Instances       Size\n"
     ]
    },
    {
     "name": "stderr",
     "output_type": "stream",
     "text": [
      "     21/100      10.5G      0.545     0.4907     0.3511     0.9259        163        640: 100%|██████████| 250/250 [03:12<00:00,  1.30it/s]\n",
      "                 Class     Images  Instances      Box(P          R      mAP50  mAP50-95)     Mask(P          R      mAP50  mAP50-95): 100%|██████████| 32/32 [00:15<00:00,  2.13it/s]"
     ]
    },
    {
     "name": "stdout",
     "output_type": "stream",
     "text": [
      "                   all       1000       5469      0.986      0.982      0.993      0.926      0.983      0.983      0.993      0.856\n"
     ]
    },
    {
     "name": "stderr",
     "output_type": "stream",
     "text": [
      "\n"
     ]
    },
    {
     "name": "stdout",
     "output_type": "stream",
     "text": [
      "\n",
      "      Epoch    GPU_mem   box_loss   seg_loss   cls_loss   dfl_loss  Instances       Size\n"
     ]
    },
    {
     "name": "stderr",
     "output_type": "stream",
     "text": [
      "     22/100      10.6G     0.5389     0.4835     0.3429      0.926        166        640: 100%|██████████| 250/250 [03:13<00:00,  1.29it/s]\n",
      "                 Class     Images  Instances      Box(P          R      mAP50  mAP50-95)     Mask(P          R      mAP50  mAP50-95): 100%|██████████| 32/32 [00:14<00:00,  2.14it/s]"
     ]
    },
    {
     "name": "stdout",
     "output_type": "stream",
     "text": [
      "                   all       1000       5469       0.98      0.981      0.993      0.923      0.982      0.977      0.993      0.845\n"
     ]
    },
    {
     "name": "stderr",
     "output_type": "stream",
     "text": [
      "\n"
     ]
    },
    {
     "name": "stdout",
     "output_type": "stream",
     "text": [
      "\n",
      "      Epoch    GPU_mem   box_loss   seg_loss   cls_loss   dfl_loss  Instances       Size\n"
     ]
    },
    {
     "name": "stderr",
     "output_type": "stream",
     "text": [
      "     23/100      10.5G     0.5239     0.4704     0.3377     0.9204        205        640: 100%|██████████| 250/250 [03:12<00:00,  1.30it/s]\n",
      "                 Class     Images  Instances      Box(P          R      mAP50  mAP50-95)     Mask(P          R      mAP50  mAP50-95): 100%|██████████| 32/32 [00:15<00:00,  2.12it/s]"
     ]
    },
    {
     "name": "stdout",
     "output_type": "stream",
     "text": [
      "                   all       1000       5469      0.985      0.988      0.993      0.944      0.984      0.987      0.993      0.863\n"
     ]
    },
    {
     "name": "stderr",
     "output_type": "stream",
     "text": [
      "\n"
     ]
    },
    {
     "name": "stdout",
     "output_type": "stream",
     "text": [
      "\n",
      "      Epoch    GPU_mem   box_loss   seg_loss   cls_loss   dfl_loss  Instances       Size\n"
     ]
    },
    {
     "name": "stderr",
     "output_type": "stream",
     "text": [
      "     24/100      10.5G     0.5255     0.4802     0.3393     0.9197        221        640: 100%|██████████| 250/250 [03:12<00:00,  1.30it/s]\n",
      "                 Class     Images  Instances      Box(P          R      mAP50  mAP50-95)     Mask(P          R      mAP50  mAP50-95): 100%|██████████| 32/32 [00:14<00:00,  2.15it/s]"
     ]
    },
    {
     "name": "stdout",
     "output_type": "stream",
     "text": [
      "                   all       1000       5469      0.878      0.803      0.888      0.684      0.883      0.798      0.887      0.646\n"
     ]
    },
    {
     "name": "stderr",
     "output_type": "stream",
     "text": [
      "\n"
     ]
    },
    {
     "name": "stdout",
     "output_type": "stream",
     "text": [
      "\n",
      "      Epoch    GPU_mem   box_loss   seg_loss   cls_loss   dfl_loss  Instances       Size\n"
     ]
    },
    {
     "name": "stderr",
     "output_type": "stream",
     "text": [
      "     25/100      10.6G     0.5268     0.4692     0.3412     0.9216        221        640: 100%|██████████| 250/250 [03:12<00:00,  1.30it/s]\n",
      "                 Class     Images  Instances      Box(P          R      mAP50  mAP50-95)     Mask(P          R      mAP50  mAP50-95): 100%|██████████| 32/32 [00:14<00:00,  2.15it/s]"
     ]
    },
    {
     "name": "stdout",
     "output_type": "stream",
     "text": [
      "                   all       1000       5469      0.985      0.988      0.993      0.944      0.985      0.987      0.992      0.861\n"
     ]
    },
    {
     "name": "stderr",
     "output_type": "stream",
     "text": [
      "\n"
     ]
    },
    {
     "name": "stdout",
     "output_type": "stream",
     "text": [
      "\n",
      "      Epoch    GPU_mem   box_loss   seg_loss   cls_loss   dfl_loss  Instances       Size\n"
     ]
    },
    {
     "name": "stderr",
     "output_type": "stream",
     "text": [
      "     26/100      10.4G     0.5197     0.4696     0.3344     0.9201        210        640: 100%|██████████| 250/250 [03:12<00:00,  1.30it/s]\n",
      "                 Class     Images  Instances      Box(P          R      mAP50  mAP50-95)     Mask(P          R      mAP50  mAP50-95): 100%|██████████| 32/32 [00:15<00:00,  2.13it/s]"
     ]
    },
    {
     "name": "stdout",
     "output_type": "stream",
     "text": [
      "                   all       1000       5469      0.991       0.99      0.993      0.945      0.991      0.988      0.993      0.869\n"
     ]
    },
    {
     "name": "stderr",
     "output_type": "stream",
     "text": [
      "\n"
     ]
    },
    {
     "name": "stdout",
     "output_type": "stream",
     "text": [
      "\n",
      "      Epoch    GPU_mem   box_loss   seg_loss   cls_loss   dfl_loss  Instances       Size\n"
     ]
    },
    {
     "name": "stderr",
     "output_type": "stream",
     "text": [
      "     27/100      10.5G     0.5055     0.4609     0.3299      0.909        203        640: 100%|██████████| 250/250 [03:13<00:00,  1.29it/s]\n",
      "                 Class     Images  Instances      Box(P          R      mAP50  mAP50-95)     Mask(P          R      mAP50  mAP50-95): 100%|██████████| 32/32 [00:15<00:00,  2.13it/s]"
     ]
    },
    {
     "name": "stdout",
     "output_type": "stream",
     "text": [
      "                   all       1000       5469      0.989      0.993      0.994      0.954      0.989      0.992      0.993      0.874\n"
     ]
    },
    {
     "name": "stderr",
     "output_type": "stream",
     "text": [
      "\n"
     ]
    },
    {
     "name": "stdout",
     "output_type": "stream",
     "text": [
      "\n",
      "      Epoch    GPU_mem   box_loss   seg_loss   cls_loss   dfl_loss  Instances       Size\n"
     ]
    },
    {
     "name": "stderr",
     "output_type": "stream",
     "text": [
      "     28/100      10.5G     0.5016     0.4524     0.3244     0.9123        176        640: 100%|██████████| 250/250 [03:13<00:00,  1.29it/s]\n",
      "                 Class     Images  Instances      Box(P          R      mAP50  mAP50-95)     Mask(P          R      mAP50  mAP50-95): 100%|██████████| 32/32 [00:14<00:00,  2.18it/s]"
     ]
    },
    {
     "name": "stdout",
     "output_type": "stream",
     "text": [
      "                   all       1000       5469      0.832      0.701      0.795      0.597      0.829      0.698      0.793      0.554\n"
     ]
    },
    {
     "name": "stderr",
     "output_type": "stream",
     "text": [
      "\n"
     ]
    },
    {
     "name": "stdout",
     "output_type": "stream",
     "text": [
      "\n",
      "      Epoch    GPU_mem   box_loss   seg_loss   cls_loss   dfl_loss  Instances       Size\n"
     ]
    },
    {
     "name": "stderr",
     "output_type": "stream",
     "text": [
      "     29/100      10.6G     0.4991       0.46     0.3198     0.9051        154        640: 100%|██████████| 250/250 [03:12<00:00,  1.30it/s]\n",
      "                 Class     Images  Instances      Box(P          R      mAP50  mAP50-95)     Mask(P          R      mAP50  mAP50-95): 100%|██████████| 32/32 [00:14<00:00,  2.15it/s]"
     ]
    },
    {
     "name": "stdout",
     "output_type": "stream",
     "text": [
      "                   all       1000       5469      0.988      0.994      0.994      0.957      0.988      0.994      0.994      0.879\n"
     ]
    },
    {
     "name": "stderr",
     "output_type": "stream",
     "text": [
      "\n"
     ]
    },
    {
     "name": "stdout",
     "output_type": "stream",
     "text": [
      "\n",
      "      Epoch    GPU_mem   box_loss   seg_loss   cls_loss   dfl_loss  Instances       Size\n"
     ]
    },
    {
     "name": "stderr",
     "output_type": "stream",
     "text": [
      "     30/100      10.6G     0.5007     0.4589     0.3248     0.9132        213        640: 100%|██████████| 250/250 [03:12<00:00,  1.30it/s]\n",
      "                 Class     Images  Instances      Box(P          R      mAP50  mAP50-95)     Mask(P          R      mAP50  mAP50-95): 100%|██████████| 32/32 [00:14<00:00,  2.15it/s]"
     ]
    },
    {
     "name": "stdout",
     "output_type": "stream",
     "text": [
      "                   all       1000       5469      0.989      0.985      0.994      0.948      0.988      0.985      0.993      0.879\n"
     ]
    },
    {
     "name": "stderr",
     "output_type": "stream",
     "text": [
      "\n"
     ]
    },
    {
     "name": "stdout",
     "output_type": "stream",
     "text": [
      "\n",
      "      Epoch    GPU_mem   box_loss   seg_loss   cls_loss   dfl_loss  Instances       Size\n"
     ]
    },
    {
     "name": "stderr",
     "output_type": "stream",
     "text": [
      "     31/100      10.6G     0.5042     0.4486     0.3256     0.9147        189        640: 100%|██████████| 250/250 [03:13<00:00,  1.29it/s]\n",
      "                 Class     Images  Instances      Box(P          R      mAP50  mAP50-95)     Mask(P          R      mAP50  mAP50-95): 100%|██████████| 32/32 [00:14<00:00,  2.16it/s]"
     ]
    },
    {
     "name": "stdout",
     "output_type": "stream",
     "text": [
      "                   all       1000       5469      0.984      0.984      0.991       0.94      0.983      0.984      0.991      0.874\n"
     ]
    },
    {
     "name": "stderr",
     "output_type": "stream",
     "text": [
      "\n"
     ]
    },
    {
     "name": "stdout",
     "output_type": "stream",
     "text": [
      "\n",
      "      Epoch    GPU_mem   box_loss   seg_loss   cls_loss   dfl_loss  Instances       Size\n"
     ]
    },
    {
     "name": "stderr",
     "output_type": "stream",
     "text": [
      "     32/100      10.5G     0.4876     0.4471     0.3129     0.8987        164        640: 100%|██████████| 250/250 [03:12<00:00,  1.30it/s]\n",
      "                 Class     Images  Instances      Box(P          R      mAP50  mAP50-95)     Mask(P          R      mAP50  mAP50-95): 100%|██████████| 32/32 [00:14<00:00,  2.16it/s]"
     ]
    },
    {
     "name": "stdout",
     "output_type": "stream",
     "text": [
      "                   all       1000       5469      0.991      0.993      0.994      0.961       0.99      0.992      0.993      0.879\n"
     ]
    },
    {
     "name": "stderr",
     "output_type": "stream",
     "text": [
      "\n"
     ]
    },
    {
     "name": "stdout",
     "output_type": "stream",
     "text": [
      "\n",
      "      Epoch    GPU_mem   box_loss   seg_loss   cls_loss   dfl_loss  Instances       Size\n"
     ]
    },
    {
     "name": "stderr",
     "output_type": "stream",
     "text": [
      "     33/100      10.5G     0.4835     0.4417     0.3104     0.9032        181        640: 100%|██████████| 250/250 [03:13<00:00,  1.30it/s]\n",
      "                 Class     Images  Instances      Box(P          R      mAP50  mAP50-95)     Mask(P          R      mAP50  mAP50-95): 100%|██████████| 32/32 [00:14<00:00,  2.15it/s]"
     ]
    },
    {
     "name": "stdout",
     "output_type": "stream",
     "text": [
      "                   all       1000       5469       0.99      0.991      0.994      0.962       0.99      0.989      0.994      0.888\n"
     ]
    },
    {
     "name": "stderr",
     "output_type": "stream",
     "text": [
      "\n"
     ]
    },
    {
     "name": "stdout",
     "output_type": "stream",
     "text": [
      "\n",
      "      Epoch    GPU_mem   box_loss   seg_loss   cls_loss   dfl_loss  Instances       Size\n"
     ]
    },
    {
     "name": "stderr",
     "output_type": "stream",
     "text": [
      "     34/100      10.6G     0.4928     0.4415     0.3132      0.906        236        640: 100%|██████████| 250/250 [03:13<00:00,  1.29it/s]\n",
      "                 Class     Images  Instances      Box(P          R      mAP50  mAP50-95)     Mask(P          R      mAP50  mAP50-95): 100%|██████████| 32/32 [00:14<00:00,  2.15it/s]"
     ]
    },
    {
     "name": "stdout",
     "output_type": "stream",
     "text": [
      "                   all       1000       5469      0.978      0.972       0.99      0.882      0.977       0.97      0.989      0.806\n"
     ]
    },
    {
     "name": "stderr",
     "output_type": "stream",
     "text": [
      "\n"
     ]
    },
    {
     "name": "stdout",
     "output_type": "stream",
     "text": [
      "\n",
      "      Epoch    GPU_mem   box_loss   seg_loss   cls_loss   dfl_loss  Instances       Size\n"
     ]
    },
    {
     "name": "stderr",
     "output_type": "stream",
     "text": [
      "     35/100      10.6G      0.486     0.4506     0.3089     0.9014        233        640: 100%|██████████| 250/250 [03:12<00:00,  1.30it/s]\n",
      "                 Class     Images  Instances      Box(P          R      mAP50  mAP50-95)     Mask(P          R      mAP50  mAP50-95): 100%|██████████| 32/32 [00:14<00:00,  2.15it/s]"
     ]
    },
    {
     "name": "stdout",
     "output_type": "stream",
     "text": [
      "                   all       1000       5469       0.99      0.989      0.994      0.955      0.989      0.987      0.993      0.884\n"
     ]
    },
    {
     "name": "stderr",
     "output_type": "stream",
     "text": [
      "\n"
     ]
    },
    {
     "name": "stdout",
     "output_type": "stream",
     "text": [
      "\n",
      "      Epoch    GPU_mem   box_loss   seg_loss   cls_loss   dfl_loss  Instances       Size\n"
     ]
    },
    {
     "name": "stderr",
     "output_type": "stream",
     "text": [
      "     36/100      10.5G     0.4775     0.4511     0.3032     0.9005        219        640: 100%|██████████| 250/250 [03:13<00:00,  1.29it/s]\n",
      "                 Class     Images  Instances      Box(P          R      mAP50  mAP50-95)     Mask(P          R      mAP50  mAP50-95): 100%|██████████| 32/32 [00:14<00:00,  2.14it/s]"
     ]
    },
    {
     "name": "stdout",
     "output_type": "stream",
     "text": [
      "                   all       1000       5469       0.99      0.995      0.994      0.958       0.99      0.994      0.994       0.89\n"
     ]
    },
    {
     "name": "stderr",
     "output_type": "stream",
     "text": [
      "\n"
     ]
    },
    {
     "name": "stdout",
     "output_type": "stream",
     "text": [
      "\n",
      "      Epoch    GPU_mem   box_loss   seg_loss   cls_loss   dfl_loss  Instances       Size\n"
     ]
    },
    {
     "name": "stderr",
     "output_type": "stream",
     "text": [
      "     37/100      10.6G      0.475     0.4441     0.3066     0.8979        166        640: 100%|██████████| 250/250 [03:13<00:00,  1.29it/s]\n",
      "                 Class     Images  Instances      Box(P          R      mAP50  mAP50-95)     Mask(P          R      mAP50  mAP50-95): 100%|██████████| 32/32 [00:14<00:00,  2.15it/s]"
     ]
    },
    {
     "name": "stdout",
     "output_type": "stream",
     "text": [
      "                   all       1000       5469      0.995      0.991      0.994      0.959      0.994       0.99      0.994      0.884\n"
     ]
    },
    {
     "name": "stderr",
     "output_type": "stream",
     "text": [
      "\n"
     ]
    },
    {
     "name": "stdout",
     "output_type": "stream",
     "text": [
      "\n",
      "      Epoch    GPU_mem   box_loss   seg_loss   cls_loss   dfl_loss  Instances       Size\n"
     ]
    },
    {
     "name": "stderr",
     "output_type": "stream",
     "text": [
      "     38/100      10.6G     0.4692     0.4314     0.2985     0.8973        223        640: 100%|██████████| 250/250 [03:13<00:00,  1.29it/s]\n",
      "                 Class     Images  Instances      Box(P          R      mAP50  mAP50-95)     Mask(P          R      mAP50  mAP50-95): 100%|██████████| 32/32 [00:15<00:00,  2.12it/s]"
     ]
    },
    {
     "name": "stdout",
     "output_type": "stream",
     "text": [
      "                   all       1000       5469      0.989      0.995      0.994      0.963      0.989      0.994      0.994      0.884\n"
     ]
    },
    {
     "name": "stderr",
     "output_type": "stream",
     "text": [
      "\n"
     ]
    },
    {
     "name": "stdout",
     "output_type": "stream",
     "text": [
      "\n",
      "      Epoch    GPU_mem   box_loss   seg_loss   cls_loss   dfl_loss  Instances       Size\n"
     ]
    },
    {
     "name": "stderr",
     "output_type": "stream",
     "text": [
      "     39/100      10.6G     0.4612     0.4347     0.2987     0.8919        182        640: 100%|██████████| 250/250 [03:12<00:00,  1.30it/s]\n",
      "                 Class     Images  Instances      Box(P          R      mAP50  mAP50-95)     Mask(P          R      mAP50  mAP50-95): 100%|██████████| 32/32 [00:15<00:00,  2.08it/s]"
     ]
    },
    {
     "name": "stdout",
     "output_type": "stream",
     "text": [
      "                   all       1000       5469      0.991      0.993      0.993      0.957       0.99      0.993      0.993      0.884\n"
     ]
    },
    {
     "name": "stderr",
     "output_type": "stream",
     "text": [
      "\n"
     ]
    },
    {
     "name": "stdout",
     "output_type": "stream",
     "text": [
      "\n",
      "      Epoch    GPU_mem   box_loss   seg_loss   cls_loss   dfl_loss  Instances       Size\n"
     ]
    },
    {
     "name": "stderr",
     "output_type": "stream",
     "text": [
      "     40/100      10.6G     0.4622     0.4346     0.2958     0.8942        191        640: 100%|██████████| 250/250 [03:14<00:00,  1.29it/s]\n",
      "                 Class     Images  Instances      Box(P          R      mAP50  mAP50-95)     Mask(P          R      mAP50  mAP50-95): 100%|██████████| 32/32 [00:15<00:00,  2.07it/s]"
     ]
    },
    {
     "name": "stdout",
     "output_type": "stream",
     "text": [
      "                   all       1000       5469      0.992      0.995      0.994      0.967      0.991      0.995      0.993      0.894\n"
     ]
    },
    {
     "name": "stderr",
     "output_type": "stream",
     "text": [
      "\n"
     ]
    },
    {
     "name": "stdout",
     "output_type": "stream",
     "text": [
      "\n",
      "      Epoch    GPU_mem   box_loss   seg_loss   cls_loss   dfl_loss  Instances       Size\n"
     ]
    },
    {
     "name": "stderr",
     "output_type": "stream",
     "text": [
      "     41/100      10.6G     0.4569     0.4235     0.2923     0.8995        166        640: 100%|██████████| 250/250 [03:14<00:00,  1.29it/s]\n",
      "                 Class     Images  Instances      Box(P          R      mAP50  mAP50-95)     Mask(P          R      mAP50  mAP50-95): 100%|██████████| 32/32 [00:14<00:00,  2.14it/s]"
     ]
    },
    {
     "name": "stdout",
     "output_type": "stream",
     "text": [
      "                   all       1000       5469       0.99      0.993      0.994      0.959      0.993      0.989      0.994      0.886\n"
     ]
    },
    {
     "name": "stderr",
     "output_type": "stream",
     "text": [
      "\n"
     ]
    },
    {
     "name": "stdout",
     "output_type": "stream",
     "text": [
      "\n",
      "      Epoch    GPU_mem   box_loss   seg_loss   cls_loss   dfl_loss  Instances       Size\n"
     ]
    },
    {
     "name": "stderr",
     "output_type": "stream",
     "text": [
      "     42/100      10.7G     0.4619     0.4219     0.2964     0.8941        168        640: 100%|██████████| 250/250 [03:14<00:00,  1.29it/s]\n",
      "                 Class     Images  Instances      Box(P          R      mAP50  mAP50-95)     Mask(P          R      mAP50  mAP50-95): 100%|██████████| 32/32 [00:15<00:00,  2.07it/s]"
     ]
    },
    {
     "name": "stdout",
     "output_type": "stream",
     "text": [
      "                   all       1000       5469      0.993      0.992      0.993       0.96      0.993      0.993      0.993      0.887\n"
     ]
    },
    {
     "name": "stderr",
     "output_type": "stream",
     "text": [
      "\n"
     ]
    },
    {
     "name": "stdout",
     "output_type": "stream",
     "text": [
      "\n",
      "      Epoch    GPU_mem   box_loss   seg_loss   cls_loss   dfl_loss  Instances       Size\n"
     ]
    },
    {
     "name": "stderr",
     "output_type": "stream",
     "text": [
      "     43/100      10.5G     0.4519     0.4274     0.2908     0.8899        184        640: 100%|██████████| 250/250 [03:13<00:00,  1.29it/s]\n",
      "                 Class     Images  Instances      Box(P          R      mAP50  mAP50-95)     Mask(P          R      mAP50  mAP50-95): 100%|██████████| 32/32 [00:15<00:00,  2.06it/s]"
     ]
    },
    {
     "name": "stdout",
     "output_type": "stream",
     "text": [
      "                   all       1000       5469      0.989      0.995      0.994       0.96      0.989      0.994      0.994      0.883\n"
     ]
    },
    {
     "name": "stderr",
     "output_type": "stream",
     "text": [
      "\n"
     ]
    },
    {
     "name": "stdout",
     "output_type": "stream",
     "text": [
      "\n",
      "      Epoch    GPU_mem   box_loss   seg_loss   cls_loss   dfl_loss  Instances       Size\n"
     ]
    },
    {
     "name": "stderr",
     "output_type": "stream",
     "text": [
      "     44/100      10.7G     0.4423     0.4115     0.2847       0.89        195        640: 100%|██████████| 250/250 [03:14<00:00,  1.29it/s]\n",
      "                 Class     Images  Instances      Box(P          R      mAP50  mAP50-95)     Mask(P          R      mAP50  mAP50-95): 100%|██████████| 32/32 [00:15<00:00,  2.12it/s]"
     ]
    },
    {
     "name": "stdout",
     "output_type": "stream",
     "text": [
      "                   all       1000       5469       0.99      0.993      0.993      0.966       0.99      0.992      0.993      0.886\n"
     ]
    },
    {
     "name": "stderr",
     "output_type": "stream",
     "text": [
      "\n"
     ]
    },
    {
     "name": "stdout",
     "output_type": "stream",
     "text": [
      "\n",
      "      Epoch    GPU_mem   box_loss   seg_loss   cls_loss   dfl_loss  Instances       Size\n"
     ]
    },
    {
     "name": "stderr",
     "output_type": "stream",
     "text": [
      "     45/100      10.6G     0.4473     0.4144     0.2892     0.8878        234        640: 100%|██████████| 250/250 [03:14<00:00,  1.29it/s]\n",
      "                 Class     Images  Instances      Box(P          R      mAP50  mAP50-95)     Mask(P          R      mAP50  mAP50-95): 100%|██████████| 32/32 [00:15<00:00,  2.08it/s]"
     ]
    },
    {
     "name": "stdout",
     "output_type": "stream",
     "text": [
      "                   all       1000       5469      0.992      0.992      0.994      0.964      0.992      0.991      0.994      0.894\n"
     ]
    },
    {
     "name": "stderr",
     "output_type": "stream",
     "text": [
      "\n"
     ]
    },
    {
     "name": "stdout",
     "output_type": "stream",
     "text": [
      "\n",
      "      Epoch    GPU_mem   box_loss   seg_loss   cls_loss   dfl_loss  Instances       Size\n"
     ]
    },
    {
     "name": "stderr",
     "output_type": "stream",
     "text": [
      "     46/100      10.6G     0.4361     0.4108     0.2799     0.8892        199        640: 100%|██████████| 250/250 [03:13<00:00,  1.29it/s]\n",
      "                 Class     Images  Instances      Box(P          R      mAP50  mAP50-95)     Mask(P          R      mAP50  mAP50-95): 100%|██████████| 32/32 [00:15<00:00,  2.08it/s]"
     ]
    },
    {
     "name": "stdout",
     "output_type": "stream",
     "text": [
      "                   all       1000       5469      0.993      0.997      0.994      0.973      0.992      0.996      0.994        0.9\n"
     ]
    },
    {
     "name": "stderr",
     "output_type": "stream",
     "text": [
      "\n"
     ]
    },
    {
     "name": "stdout",
     "output_type": "stream",
     "text": [
      "\n",
      "      Epoch    GPU_mem   box_loss   seg_loss   cls_loss   dfl_loss  Instances       Size\n"
     ]
    },
    {
     "name": "stderr",
     "output_type": "stream",
     "text": [
      "     47/100      10.5G      0.425     0.4049       0.28     0.8868        168        640: 100%|██████████| 250/250 [03:14<00:00,  1.29it/s]\n",
      "                 Class     Images  Instances      Box(P          R      mAP50  mAP50-95)     Mask(P          R      mAP50  mAP50-95): 100%|██████████| 32/32 [00:15<00:00,  2.06it/s]"
     ]
    },
    {
     "name": "stdout",
     "output_type": "stream",
     "text": [
      "                   all       1000       5469      0.991      0.992      0.994      0.966       0.99      0.991      0.994      0.884\n"
     ]
    },
    {
     "name": "stderr",
     "output_type": "stream",
     "text": [
      "\n"
     ]
    },
    {
     "name": "stdout",
     "output_type": "stream",
     "text": [
      "\n",
      "      Epoch    GPU_mem   box_loss   seg_loss   cls_loss   dfl_loss  Instances       Size\n"
     ]
    },
    {
     "name": "stderr",
     "output_type": "stream",
     "text": [
      "     48/100      10.6G     0.4311     0.4094      0.281     0.8875        214        640: 100%|██████████| 250/250 [03:13<00:00,  1.29it/s]\n",
      "                 Class     Images  Instances      Box(P          R      mAP50  mAP50-95)     Mask(P          R      mAP50  mAP50-95): 100%|██████████| 32/32 [00:15<00:00,  2.06it/s]"
     ]
    },
    {
     "name": "stdout",
     "output_type": "stream",
     "text": [
      "                   all       1000       5469      0.992      0.997      0.994      0.973      0.991      0.996      0.994      0.893\n"
     ]
    },
    {
     "name": "stderr",
     "output_type": "stream",
     "text": [
      "\n"
     ]
    },
    {
     "name": "stdout",
     "output_type": "stream",
     "text": [
      "\n",
      "      Epoch    GPU_mem   box_loss   seg_loss   cls_loss   dfl_loss  Instances       Size\n"
     ]
    },
    {
     "name": "stderr",
     "output_type": "stream",
     "text": [
      "     49/100      10.5G     0.4325      0.417     0.2837     0.8892        208        640: 100%|██████████| 250/250 [03:13<00:00,  1.29it/s]\n",
      "                 Class     Images  Instances      Box(P          R      mAP50  mAP50-95)     Mask(P          R      mAP50  mAP50-95): 100%|██████████| 32/32 [00:15<00:00,  2.07it/s]"
     ]
    },
    {
     "name": "stdout",
     "output_type": "stream",
     "text": [
      "                   all       1000       5469      0.995      0.995      0.994      0.972      0.995      0.995      0.994      0.894\n"
     ]
    },
    {
     "name": "stderr",
     "output_type": "stream",
     "text": [
      "\n"
     ]
    },
    {
     "name": "stdout",
     "output_type": "stream",
     "text": [
      "\n",
      "      Epoch    GPU_mem   box_loss   seg_loss   cls_loss   dfl_loss  Instances       Size\n"
     ]
    },
    {
     "name": "stderr",
     "output_type": "stream",
     "text": [
      "     50/100      10.4G     0.4179     0.3997     0.2738     0.8821        217        640: 100%|██████████| 250/250 [03:14<00:00,  1.29it/s]\n",
      "                 Class     Images  Instances      Box(P          R      mAP50  mAP50-95)     Mask(P          R      mAP50  mAP50-95): 100%|██████████| 32/32 [00:15<00:00,  2.05it/s]"
     ]
    },
    {
     "name": "stdout",
     "output_type": "stream",
     "text": [
      "                   all       1000       5469      0.987      0.989      0.993      0.966      0.986      0.989      0.993      0.893\n"
     ]
    },
    {
     "name": "stderr",
     "output_type": "stream",
     "text": [
      "\n"
     ]
    },
    {
     "name": "stdout",
     "output_type": "stream",
     "text": [
      "\n",
      "      Epoch    GPU_mem   box_loss   seg_loss   cls_loss   dfl_loss  Instances       Size\n"
     ]
    },
    {
     "name": "stderr",
     "output_type": "stream",
     "text": [
      "     51/100      10.6G     0.4167     0.3989     0.2736     0.8803        172        640: 100%|██████████| 250/250 [03:14<00:00,  1.29it/s]\n",
      "                 Class     Images  Instances      Box(P          R      mAP50  mAP50-95)     Mask(P          R      mAP50  mAP50-95): 100%|██████████| 32/32 [00:15<00:00,  2.10it/s]"
     ]
    },
    {
     "name": "stdout",
     "output_type": "stream",
     "text": [
      "                   all       1000       5469      0.992      0.995      0.994      0.975      0.992      0.995      0.994      0.895\n"
     ]
    },
    {
     "name": "stderr",
     "output_type": "stream",
     "text": [
      "\n"
     ]
    },
    {
     "name": "stdout",
     "output_type": "stream",
     "text": [
      "\n",
      "      Epoch    GPU_mem   box_loss   seg_loss   cls_loss   dfl_loss  Instances       Size\n"
     ]
    },
    {
     "name": "stderr",
     "output_type": "stream",
     "text": [
      "     52/100      10.6G     0.4094      0.389       0.27     0.8769        170        640: 100%|██████████| 250/250 [03:13<00:00,  1.29it/s]\n",
      "                 Class     Images  Instances      Box(P          R      mAP50  mAP50-95)     Mask(P          R      mAP50  mAP50-95): 100%|██████████| 32/32 [00:15<00:00,  2.07it/s]"
     ]
    },
    {
     "name": "stdout",
     "output_type": "stream",
     "text": [
      "                   all       1000       5469      0.991      0.995      0.993      0.975      0.991      0.994      0.993      0.902\n"
     ]
    },
    {
     "name": "stderr",
     "output_type": "stream",
     "text": [
      "\n"
     ]
    },
    {
     "name": "stdout",
     "output_type": "stream",
     "text": [
      "\n",
      "      Epoch    GPU_mem   box_loss   seg_loss   cls_loss   dfl_loss  Instances       Size\n"
     ]
    },
    {
     "name": "stderr",
     "output_type": "stream",
     "text": [
      "     53/100      10.6G     0.3993     0.3842     0.2618      0.876        146        640: 100%|██████████| 250/250 [03:13<00:00,  1.29it/s]\n",
      "                 Class     Images  Instances      Box(P          R      mAP50  mAP50-95)     Mask(P          R      mAP50  mAP50-95): 100%|██████████| 32/32 [00:15<00:00,  2.07it/s]"
     ]
    },
    {
     "name": "stdout",
     "output_type": "stream",
     "text": [
      "                   all       1000       5469      0.994      0.993      0.994      0.978      0.993      0.993      0.994      0.903\n"
     ]
    },
    {
     "name": "stderr",
     "output_type": "stream",
     "text": [
      "\n"
     ]
    },
    {
     "name": "stdout",
     "output_type": "stream",
     "text": [
      "\n",
      "      Epoch    GPU_mem   box_loss   seg_loss   cls_loss   dfl_loss  Instances       Size\n"
     ]
    },
    {
     "name": "stderr",
     "output_type": "stream",
     "text": [
      "     54/100      10.6G     0.4034     0.3813     0.2644     0.8813        225        640: 100%|██████████| 250/250 [03:14<00:00,  1.29it/s]\n",
      "                 Class     Images  Instances      Box(P          R      mAP50  mAP50-95)     Mask(P          R      mAP50  mAP50-95): 100%|██████████| 32/32 [00:15<00:00,  2.07it/s]"
     ]
    },
    {
     "name": "stdout",
     "output_type": "stream",
     "text": [
      "                   all       1000       5469      0.996      0.997      0.994      0.977      0.996      0.995      0.994      0.897\n"
     ]
    },
    {
     "name": "stderr",
     "output_type": "stream",
     "text": [
      "\n"
     ]
    },
    {
     "name": "stdout",
     "output_type": "stream",
     "text": [
      "\n",
      "      Epoch    GPU_mem   box_loss   seg_loss   cls_loss   dfl_loss  Instances       Size\n"
     ]
    },
    {
     "name": "stderr",
     "output_type": "stream",
     "text": [
      "     55/100      10.6G     0.4074     0.3851     0.2665     0.8864        198        640: 100%|██████████| 250/250 [03:14<00:00,  1.29it/s]\n",
      "                 Class     Images  Instances      Box(P          R      mAP50  mAP50-95)     Mask(P          R      mAP50  mAP50-95): 100%|██████████| 32/32 [00:15<00:00,  2.06it/s]"
     ]
    },
    {
     "name": "stdout",
     "output_type": "stream",
     "text": [
      "                   all       1000       5469      0.995      0.995      0.994      0.979      0.995      0.995      0.994      0.902\n"
     ]
    },
    {
     "name": "stderr",
     "output_type": "stream",
     "text": [
      "\n"
     ]
    },
    {
     "name": "stdout",
     "output_type": "stream",
     "text": [
      "\n",
      "      Epoch    GPU_mem   box_loss   seg_loss   cls_loss   dfl_loss  Instances       Size\n"
     ]
    },
    {
     "name": "stderr",
     "output_type": "stream",
     "text": [
      "     56/100      10.6G     0.4009     0.3793     0.2642     0.8792        231        640: 100%|██████████| 250/250 [03:13<00:00,  1.29it/s]\n",
      "                 Class     Images  Instances      Box(P          R      mAP50  mAP50-95)     Mask(P          R      mAP50  mAP50-95): 100%|██████████| 32/32 [00:15<00:00,  2.09it/s]"
     ]
    },
    {
     "name": "stdout",
     "output_type": "stream",
     "text": [
      "                   all       1000       5469      0.995      0.996      0.994      0.977      0.994      0.996      0.994      0.895\n"
     ]
    },
    {
     "name": "stderr",
     "output_type": "stream",
     "text": [
      "\n"
     ]
    },
    {
     "name": "stdout",
     "output_type": "stream",
     "text": [
      "\n",
      "      Epoch    GPU_mem   box_loss   seg_loss   cls_loss   dfl_loss  Instances       Size\n"
     ]
    },
    {
     "name": "stderr",
     "output_type": "stream",
     "text": [
      "     57/100      10.5G      0.399     0.3816     0.2607     0.8782        147        640: 100%|██████████| 250/250 [03:14<00:00,  1.29it/s]\n",
      "                 Class     Images  Instances      Box(P          R      mAP50  mAP50-95)     Mask(P          R      mAP50  mAP50-95): 100%|██████████| 32/32 [00:15<00:00,  2.06it/s]"
     ]
    },
    {
     "name": "stdout",
     "output_type": "stream",
     "text": [
      "                   all       1000       5469      0.994      0.996      0.994      0.978      0.994      0.996      0.994      0.904\n"
     ]
    },
    {
     "name": "stderr",
     "output_type": "stream",
     "text": [
      "\n"
     ]
    },
    {
     "name": "stdout",
     "output_type": "stream",
     "text": [
      "\n",
      "      Epoch    GPU_mem   box_loss   seg_loss   cls_loss   dfl_loss  Instances       Size\n"
     ]
    },
    {
     "name": "stderr",
     "output_type": "stream",
     "text": [
      "     58/100      10.6G     0.3953     0.3777     0.2597      0.879        190        640: 100%|██████████| 250/250 [03:14<00:00,  1.29it/s]\n",
      "                 Class     Images  Instances      Box(P          R      mAP50  mAP50-95)     Mask(P          R      mAP50  mAP50-95): 100%|██████████| 32/32 [00:15<00:00,  2.07it/s]"
     ]
    },
    {
     "name": "stdout",
     "output_type": "stream",
     "text": [
      "                   all       1000       5469      0.992      0.998      0.994       0.98      0.992      0.997      0.994      0.902\n"
     ]
    },
    {
     "name": "stderr",
     "output_type": "stream",
     "text": [
      "\n"
     ]
    },
    {
     "name": "stdout",
     "output_type": "stream",
     "text": [
      "\n",
      "      Epoch    GPU_mem   box_loss   seg_loss   cls_loss   dfl_loss  Instances       Size\n"
     ]
    },
    {
     "name": "stderr",
     "output_type": "stream",
     "text": [
      "     59/100      10.6G     0.3916     0.3739       0.26     0.8804        220        640: 100%|██████████| 250/250 [03:14<00:00,  1.29it/s]\n",
      "                 Class     Images  Instances      Box(P          R      mAP50  mAP50-95)     Mask(P          R      mAP50  mAP50-95): 100%|██████████| 32/32 [00:15<00:00,  2.08it/s]"
     ]
    },
    {
     "name": "stdout",
     "output_type": "stream",
     "text": [
      "                   all       1000       5469      0.995      0.996      0.994       0.98      0.995      0.996      0.994      0.912\n"
     ]
    },
    {
     "name": "stderr",
     "output_type": "stream",
     "text": [
      "\n"
     ]
    },
    {
     "name": "stdout",
     "output_type": "stream",
     "text": [
      "\n",
      "      Epoch    GPU_mem   box_loss   seg_loss   cls_loss   dfl_loss  Instances       Size\n"
     ]
    },
    {
     "name": "stderr",
     "output_type": "stream",
     "text": [
      "     60/100      10.6G      0.388     0.3755     0.2545     0.8776        185        640: 100%|██████████| 250/250 [03:14<00:00,  1.29it/s]\n",
      "                 Class     Images  Instances      Box(P          R      mAP50  mAP50-95)     Mask(P          R      mAP50  mAP50-95): 100%|██████████| 32/32 [00:15<00:00,  2.09it/s]"
     ]
    },
    {
     "name": "stdout",
     "output_type": "stream",
     "text": [
      "                   all       1000       5469      0.993      0.994      0.994       0.98      0.993      0.994      0.994      0.906\n"
     ]
    },
    {
     "name": "stderr",
     "output_type": "stream",
     "text": [
      "\n"
     ]
    },
    {
     "name": "stdout",
     "output_type": "stream",
     "text": [
      "\n",
      "      Epoch    GPU_mem   box_loss   seg_loss   cls_loss   dfl_loss  Instances       Size\n"
     ]
    },
    {
     "name": "stderr",
     "output_type": "stream",
     "text": [
      "     61/100      10.5G     0.3842     0.3747     0.2529     0.8752        203        640: 100%|██████████| 250/250 [03:14<00:00,  1.29it/s]\n",
      "                 Class     Images  Instances      Box(P          R      mAP50  mAP50-95)     Mask(P          R      mAP50  mAP50-95): 100%|██████████| 32/32 [00:15<00:00,  2.07it/s]"
     ]
    },
    {
     "name": "stdout",
     "output_type": "stream",
     "text": [
      "                   all       1000       5469       0.99      0.994      0.993       0.98       0.99      0.994      0.993      0.906\n"
     ]
    },
    {
     "name": "stderr",
     "output_type": "stream",
     "text": [
      "\n"
     ]
    },
    {
     "name": "stdout",
     "output_type": "stream",
     "text": [
      "\n",
      "      Epoch    GPU_mem   box_loss   seg_loss   cls_loss   dfl_loss  Instances       Size\n"
     ]
    },
    {
     "name": "stderr",
     "output_type": "stream",
     "text": [
      "     62/100      10.6G     0.3776     0.3695      0.249      0.874        160        640: 100%|██████████| 250/250 [03:14<00:00,  1.28it/s]\n",
      "                 Class     Images  Instances      Box(P          R      mAP50  mAP50-95)     Mask(P          R      mAP50  mAP50-95): 100%|██████████| 32/32 [00:15<00:00,  2.12it/s]"
     ]
    },
    {
     "name": "stdout",
     "output_type": "stream",
     "text": [
      "                   all       1000       5469      0.992      0.997      0.994      0.982      0.992      0.996      0.994      0.908\n"
     ]
    },
    {
     "name": "stderr",
     "output_type": "stream",
     "text": [
      "\n"
     ]
    },
    {
     "name": "stdout",
     "output_type": "stream",
     "text": [
      "\n",
      "      Epoch    GPU_mem   box_loss   seg_loss   cls_loss   dfl_loss  Instances       Size\n"
     ]
    },
    {
     "name": "stderr",
     "output_type": "stream",
     "text": [
      "     63/100      10.5G     0.3828     0.3767     0.2516     0.8743        241        640: 100%|██████████| 250/250 [03:14<00:00,  1.29it/s]\n",
      "                 Class     Images  Instances      Box(P          R      mAP50  mAP50-95)     Mask(P          R      mAP50  mAP50-95): 100%|██████████| 32/32 [00:15<00:00,  2.03it/s]"
     ]
    },
    {
     "name": "stdout",
     "output_type": "stream",
     "text": [
      "                   all       1000       5469      0.994      0.997      0.994      0.982      0.994      0.997      0.994       0.91\n"
     ]
    },
    {
     "name": "stderr",
     "output_type": "stream",
     "text": [
      "\n"
     ]
    },
    {
     "name": "stdout",
     "output_type": "stream",
     "text": [
      "\n",
      "      Epoch    GPU_mem   box_loss   seg_loss   cls_loss   dfl_loss  Instances       Size\n"
     ]
    },
    {
     "name": "stderr",
     "output_type": "stream",
     "text": [
      "     64/100      10.5G     0.3728     0.3562     0.2471     0.8679        191        640: 100%|██████████| 250/250 [03:14<00:00,  1.28it/s]\n",
      "                 Class     Images  Instances      Box(P          R      mAP50  mAP50-95)     Mask(P          R      mAP50  mAP50-95): 100%|██████████| 32/32 [00:15<00:00,  2.09it/s]"
     ]
    },
    {
     "name": "stdout",
     "output_type": "stream",
     "text": [
      "                   all       1000       5469      0.994      0.998      0.994      0.983      0.994      0.998      0.994      0.911\n"
     ]
    },
    {
     "name": "stderr",
     "output_type": "stream",
     "text": [
      "\n"
     ]
    },
    {
     "name": "stdout",
     "output_type": "stream",
     "text": [
      "\n",
      "      Epoch    GPU_mem   box_loss   seg_loss   cls_loss   dfl_loss  Instances       Size\n"
     ]
    },
    {
     "name": "stderr",
     "output_type": "stream",
     "text": [
      "     65/100      10.4G      0.368     0.3621     0.2423     0.8725        186        640: 100%|██████████| 250/250 [03:15<00:00,  1.28it/s]\n",
      "                 Class     Images  Instances      Box(P          R      mAP50  mAP50-95)     Mask(P          R      mAP50  mAP50-95): 100%|██████████| 32/32 [00:15<00:00,  2.08it/s]"
     ]
    },
    {
     "name": "stdout",
     "output_type": "stream",
     "text": [
      "                   all       1000       5469      0.992      0.994      0.994      0.982      0.992      0.994      0.994      0.916\n"
     ]
    },
    {
     "name": "stderr",
     "output_type": "stream",
     "text": [
      "\n"
     ]
    },
    {
     "name": "stdout",
     "output_type": "stream",
     "text": [
      "\n",
      "      Epoch    GPU_mem   box_loss   seg_loss   cls_loss   dfl_loss  Instances       Size\n"
     ]
    },
    {
     "name": "stderr",
     "output_type": "stream",
     "text": [
      "     66/100      10.5G     0.3698     0.3608     0.2446     0.8703        162        640: 100%|██████████| 250/250 [03:13<00:00,  1.29it/s]\n",
      "                 Class     Images  Instances      Box(P          R      mAP50  mAP50-95)     Mask(P          R      mAP50  mAP50-95): 100%|██████████| 32/32 [00:14<00:00,  2.14it/s]"
     ]
    },
    {
     "name": "stdout",
     "output_type": "stream",
     "text": [
      "                   all       1000       5469      0.992      0.997      0.994      0.983      0.991      0.996      0.994      0.911\n"
     ]
    },
    {
     "name": "stderr",
     "output_type": "stream",
     "text": [
      "\n"
     ]
    },
    {
     "name": "stdout",
     "output_type": "stream",
     "text": [
      "\n",
      "      Epoch    GPU_mem   box_loss   seg_loss   cls_loss   dfl_loss  Instances       Size\n"
     ]
    },
    {
     "name": "stderr",
     "output_type": "stream",
     "text": [
      "     67/100      10.4G     0.3674     0.3563     0.2437     0.8727        160        640: 100%|██████████| 250/250 [03:13<00:00,  1.29it/s]\n",
      "                 Class     Images  Instances      Box(P          R      mAP50  mAP50-95)     Mask(P          R      mAP50  mAP50-95): 100%|██████████| 32/32 [00:14<00:00,  2.17it/s]"
     ]
    },
    {
     "name": "stdout",
     "output_type": "stream",
     "text": [
      "                   all       1000       5469      0.992      0.994      0.993      0.978      0.992      0.994      0.993      0.905\n"
     ]
    },
    {
     "name": "stderr",
     "output_type": "stream",
     "text": [
      "\n"
     ]
    },
    {
     "name": "stdout",
     "output_type": "stream",
     "text": [
      "\n",
      "      Epoch    GPU_mem   box_loss   seg_loss   cls_loss   dfl_loss  Instances       Size\n"
     ]
    },
    {
     "name": "stderr",
     "output_type": "stream",
     "text": [
      "     68/100      10.5G     0.3634     0.3504     0.2419     0.8711        184        640: 100%|██████████| 250/250 [03:13<00:00,  1.29it/s]\n",
      "                 Class     Images  Instances      Box(P          R      mAP50  mAP50-95)     Mask(P          R      mAP50  mAP50-95): 100%|██████████| 32/32 [00:14<00:00,  2.19it/s]"
     ]
    },
    {
     "name": "stdout",
     "output_type": "stream",
     "text": [
      "                   all       1000       5469      0.992      0.997      0.994      0.982      0.991      0.996      0.993      0.911\n"
     ]
    },
    {
     "name": "stderr",
     "output_type": "stream",
     "text": [
      "\n"
     ]
    },
    {
     "name": "stdout",
     "output_type": "stream",
     "text": [
      "\n",
      "      Epoch    GPU_mem   box_loss   seg_loss   cls_loss   dfl_loss  Instances       Size\n"
     ]
    },
    {
     "name": "stderr",
     "output_type": "stream",
     "text": [
      "     69/100      10.6G     0.3688     0.3537      0.243     0.8716        170        640: 100%|██████████| 250/250 [03:13<00:00,  1.29it/s]\n",
      "                 Class     Images  Instances      Box(P          R      mAP50  mAP50-95)     Mask(P          R      mAP50  mAP50-95): 100%|██████████| 32/32 [00:15<00:00,  2.08it/s]"
     ]
    },
    {
     "name": "stdout",
     "output_type": "stream",
     "text": [
      "                   all       1000       5469      0.994      0.997      0.994      0.981      0.994      0.996      0.994      0.911\n"
     ]
    },
    {
     "name": "stderr",
     "output_type": "stream",
     "text": [
      "\n"
     ]
    },
    {
     "name": "stdout",
     "output_type": "stream",
     "text": [
      "\n",
      "      Epoch    GPU_mem   box_loss   seg_loss   cls_loss   dfl_loss  Instances       Size\n"
     ]
    },
    {
     "name": "stderr",
     "output_type": "stream",
     "text": [
      "     70/100      10.5G     0.3642     0.3533     0.2395     0.8705        192        640: 100%|██████████| 250/250 [03:14<00:00,  1.29it/s]\n",
      "                 Class     Images  Instances      Box(P          R      mAP50  mAP50-95)     Mask(P          R      mAP50  mAP50-95): 100%|██████████| 32/32 [00:15<00:00,  2.12it/s]"
     ]
    },
    {
     "name": "stdout",
     "output_type": "stream",
     "text": [
      "                   all       1000       5469      0.995      0.996      0.994      0.983      0.995      0.996      0.994      0.913\n"
     ]
    },
    {
     "name": "stderr",
     "output_type": "stream",
     "text": [
      "\n"
     ]
    },
    {
     "name": "stdout",
     "output_type": "stream",
     "text": [
      "\n",
      "      Epoch    GPU_mem   box_loss   seg_loss   cls_loss   dfl_loss  Instances       Size\n"
     ]
    },
    {
     "name": "stderr",
     "output_type": "stream",
     "text": [
      "     71/100      10.5G     0.3598     0.3442     0.2358     0.8682        124        640: 100%|██████████| 250/250 [03:13<00:00,  1.29it/s]\n",
      "                 Class     Images  Instances      Box(P          R      mAP50  mAP50-95)     Mask(P          R      mAP50  mAP50-95): 100%|██████████| 32/32 [00:14<00:00,  2.14it/s]"
     ]
    },
    {
     "name": "stdout",
     "output_type": "stream",
     "text": [
      "                   all       1000       5469      0.996      0.994      0.994      0.982      0.995      0.994      0.994      0.906\n"
     ]
    },
    {
     "name": "stderr",
     "output_type": "stream",
     "text": [
      "\n"
     ]
    },
    {
     "name": "stdout",
     "output_type": "stream",
     "text": [
      "\n",
      "      Epoch    GPU_mem   box_loss   seg_loss   cls_loss   dfl_loss  Instances       Size\n"
     ]
    },
    {
     "name": "stderr",
     "output_type": "stream",
     "text": [
      "     72/100      10.5G     0.3591     0.3522     0.2343     0.8677        208        640: 100%|██████████| 250/250 [03:14<00:00,  1.29it/s]\n",
      "                 Class     Images  Instances      Box(P          R      mAP50  mAP50-95)     Mask(P          R      mAP50  mAP50-95): 100%|██████████| 32/32 [00:15<00:00,  2.13it/s]"
     ]
    },
    {
     "name": "stdout",
     "output_type": "stream",
     "text": [
      "                   all       1000       5469      0.995      0.997      0.994      0.984      0.994      0.997      0.994      0.913\n"
     ]
    },
    {
     "name": "stderr",
     "output_type": "stream",
     "text": [
      "\n"
     ]
    },
    {
     "name": "stdout",
     "output_type": "stream",
     "text": [
      "\n",
      "      Epoch    GPU_mem   box_loss   seg_loss   cls_loss   dfl_loss  Instances       Size\n"
     ]
    },
    {
     "name": "stderr",
     "output_type": "stream",
     "text": [
      "     73/100      10.5G     0.3536     0.3373     0.2322     0.8664        215        640: 100%|██████████| 250/250 [03:13<00:00,  1.29it/s]\n",
      "                 Class     Images  Instances      Box(P          R      mAP50  mAP50-95)     Mask(P          R      mAP50  mAP50-95): 100%|██████████| 32/32 [00:14<00:00,  2.16it/s]"
     ]
    },
    {
     "name": "stdout",
     "output_type": "stream",
     "text": [
      "                   all       1000       5469      0.992      0.997      0.994      0.983      0.992      0.995      0.994      0.906\n"
     ]
    },
    {
     "name": "stderr",
     "output_type": "stream",
     "text": [
      "\n"
     ]
    },
    {
     "name": "stdout",
     "output_type": "stream",
     "text": [
      "\n",
      "      Epoch    GPU_mem   box_loss   seg_loss   cls_loss   dfl_loss  Instances       Size\n"
     ]
    },
    {
     "name": "stderr",
     "output_type": "stream",
     "text": [
      "     74/100      10.5G     0.3533     0.3476     0.2345     0.8663        187        640: 100%|██████████| 250/250 [03:13<00:00,  1.29it/s]\n",
      "                 Class     Images  Instances      Box(P          R      mAP50  mAP50-95)     Mask(P          R      mAP50  mAP50-95): 100%|██████████| 32/32 [00:14<00:00,  2.14it/s]"
     ]
    },
    {
     "name": "stdout",
     "output_type": "stream",
     "text": [
      "                   all       1000       5469      0.995      0.996      0.994      0.981      0.994      0.995      0.993      0.908\n"
     ]
    },
    {
     "name": "stderr",
     "output_type": "stream",
     "text": [
      "\n"
     ]
    },
    {
     "name": "stdout",
     "output_type": "stream",
     "text": [
      "\n",
      "      Epoch    GPU_mem   box_loss   seg_loss   cls_loss   dfl_loss  Instances       Size\n"
     ]
    },
    {
     "name": "stderr",
     "output_type": "stream",
     "text": [
      "     75/100      10.5G     0.3538     0.3403     0.2335     0.8674        175        640: 100%|██████████| 250/250 [03:13<00:00,  1.29it/s]\n",
      "                 Class     Images  Instances      Box(P          R      mAP50  mAP50-95)     Mask(P          R      mAP50  mAP50-95): 100%|██████████| 32/32 [00:14<00:00,  2.15it/s]"
     ]
    },
    {
     "name": "stdout",
     "output_type": "stream",
     "text": [
      "                   all       1000       5469      0.994      0.998      0.994      0.984      0.994      0.998      0.994      0.911\n"
     ]
    },
    {
     "name": "stderr",
     "output_type": "stream",
     "text": [
      "\n"
     ]
    },
    {
     "name": "stdout",
     "output_type": "stream",
     "text": [
      "\n",
      "      Epoch    GPU_mem   box_loss   seg_loss   cls_loss   dfl_loss  Instances       Size\n"
     ]
    },
    {
     "name": "stderr",
     "output_type": "stream",
     "text": [
      "     76/100      10.7G     0.3455     0.3414     0.2286     0.8647        231        640: 100%|██████████| 250/250 [03:14<00:00,  1.28it/s]\n",
      "                 Class     Images  Instances      Box(P          R      mAP50  mAP50-95)     Mask(P          R      mAP50  mAP50-95): 100%|██████████| 32/32 [00:14<00:00,  2.16it/s]"
     ]
    },
    {
     "name": "stdout",
     "output_type": "stream",
     "text": [
      "                   all       1000       5469      0.996      0.997      0.994      0.984      0.995      0.997      0.994      0.911\n"
     ]
    },
    {
     "name": "stderr",
     "output_type": "stream",
     "text": [
      "\n"
     ]
    },
    {
     "name": "stdout",
     "output_type": "stream",
     "text": [
      "\n",
      "      Epoch    GPU_mem   box_loss   seg_loss   cls_loss   dfl_loss  Instances       Size\n"
     ]
    },
    {
     "name": "stderr",
     "output_type": "stream",
     "text": [
      "     77/100      10.6G     0.3427     0.3388     0.2291     0.8615        184        640: 100%|██████████| 250/250 [03:13<00:00,  1.29it/s]\n",
      "                 Class     Images  Instances      Box(P          R      mAP50  mAP50-95)     Mask(P          R      mAP50  mAP50-95): 100%|██████████| 32/32 [00:14<00:00,  2.15it/s]"
     ]
    },
    {
     "name": "stdout",
     "output_type": "stream",
     "text": [
      "                   all       1000       5469      0.995      0.997      0.994      0.983      0.995      0.997      0.994      0.915\n"
     ]
    },
    {
     "name": "stderr",
     "output_type": "stream",
     "text": [
      "\n"
     ]
    },
    {
     "name": "stdout",
     "output_type": "stream",
     "text": [
      "\n",
      "      Epoch    GPU_mem   box_loss   seg_loss   cls_loss   dfl_loss  Instances       Size\n"
     ]
    },
    {
     "name": "stderr",
     "output_type": "stream",
     "text": [
      "     78/100      10.6G     0.3417     0.3313     0.2247     0.8649        166        640: 100%|██████████| 250/250 [03:14<00:00,  1.28it/s]\n",
      "                 Class     Images  Instances      Box(P          R      mAP50  mAP50-95)     Mask(P          R      mAP50  mAP50-95): 100%|██████████| 32/32 [00:14<00:00,  2.16it/s]"
     ]
    },
    {
     "name": "stdout",
     "output_type": "stream",
     "text": [
      "                   all       1000       5469      0.995      0.996      0.994      0.985      0.995      0.996      0.994      0.915\n"
     ]
    },
    {
     "name": "stderr",
     "output_type": "stream",
     "text": [
      "\n"
     ]
    },
    {
     "name": "stdout",
     "output_type": "stream",
     "text": [
      "\n",
      "      Epoch    GPU_mem   box_loss   seg_loss   cls_loss   dfl_loss  Instances       Size\n"
     ]
    },
    {
     "name": "stderr",
     "output_type": "stream",
     "text": [
      "     79/100      10.5G     0.3416     0.3343     0.2264      0.863        241        640: 100%|██████████| 250/250 [03:14<00:00,  1.29it/s]\n",
      "                 Class     Images  Instances      Box(P          R      mAP50  mAP50-95)     Mask(P          R      mAP50  mAP50-95): 100%|██████████| 32/32 [00:14<00:00,  2.15it/s]"
     ]
    },
    {
     "name": "stdout",
     "output_type": "stream",
     "text": [
      "                   all       1000       5469      0.993      0.997      0.994      0.985      0.993      0.997      0.994      0.918\n"
     ]
    },
    {
     "name": "stderr",
     "output_type": "stream",
     "text": [
      "\n"
     ]
    },
    {
     "name": "stdout",
     "output_type": "stream",
     "text": [
      "\n",
      "      Epoch    GPU_mem   box_loss   seg_loss   cls_loss   dfl_loss  Instances       Size\n"
     ]
    },
    {
     "name": "stderr",
     "output_type": "stream",
     "text": [
      "     80/100      10.6G     0.3395     0.3321     0.2255     0.8619        217        640: 100%|██████████| 250/250 [03:13<00:00,  1.29it/s]\n",
      "                 Class     Images  Instances      Box(P          R      mAP50  mAP50-95)     Mask(P          R      mAP50  mAP50-95): 100%|██████████| 32/32 [00:14<00:00,  2.16it/s]"
     ]
    },
    {
     "name": "stdout",
     "output_type": "stream",
     "text": [
      "                   all       1000       5469      0.995      0.997      0.994      0.985      0.995      0.997      0.994      0.915\n"
     ]
    },
    {
     "name": "stderr",
     "output_type": "stream",
     "text": [
      "\n"
     ]
    },
    {
     "name": "stdout",
     "output_type": "stream",
     "text": [
      "\n",
      "      Epoch    GPU_mem   box_loss   seg_loss   cls_loss   dfl_loss  Instances       Size\n"
     ]
    },
    {
     "name": "stderr",
     "output_type": "stream",
     "text": [
      "     81/100      10.5G     0.3372     0.3225     0.2202     0.8622        219        640: 100%|██████████| 250/250 [03:13<00:00,  1.29it/s]\n",
      "                 Class     Images  Instances      Box(P          R      mAP50  mAP50-95)     Mask(P          R      mAP50  mAP50-95): 100%|██████████| 32/32 [00:14<00:00,  2.16it/s]"
     ]
    },
    {
     "name": "stdout",
     "output_type": "stream",
     "text": [
      "                   all       1000       5469      0.997      0.997      0.995      0.985      0.996      0.996      0.994      0.917\n"
     ]
    },
    {
     "name": "stderr",
     "output_type": "stream",
     "text": [
      "\n"
     ]
    },
    {
     "name": "stdout",
     "output_type": "stream",
     "text": [
      "\n",
      "      Epoch    GPU_mem   box_loss   seg_loss   cls_loss   dfl_loss  Instances       Size\n"
     ]
    },
    {
     "name": "stderr",
     "output_type": "stream",
     "text": [
      "     82/100      10.8G      0.331     0.3231      0.217     0.8582        214        640: 100%|██████████| 250/250 [03:13<00:00,  1.29it/s]\n",
      "                 Class     Images  Instances      Box(P          R      mAP50  mAP50-95)     Mask(P          R      mAP50  mAP50-95): 100%|██████████| 32/32 [00:15<00:00,  2.12it/s]"
     ]
    },
    {
     "name": "stdout",
     "output_type": "stream",
     "text": [
      "                   all       1000       5469      0.996      0.996      0.994      0.986      0.995      0.995      0.994      0.917\n"
     ]
    },
    {
     "name": "stderr",
     "output_type": "stream",
     "text": [
      "\n"
     ]
    },
    {
     "name": "stdout",
     "output_type": "stream",
     "text": [
      "\n",
      "      Epoch    GPU_mem   box_loss   seg_loss   cls_loss   dfl_loss  Instances       Size\n"
     ]
    },
    {
     "name": "stderr",
     "output_type": "stream",
     "text": [
      "     83/100      10.6G      0.336     0.3293     0.2206     0.8609        198        640: 100%|██████████| 250/250 [03:13<00:00,  1.29it/s]\n",
      "                 Class     Images  Instances      Box(P          R      mAP50  mAP50-95)     Mask(P          R      mAP50  mAP50-95): 100%|██████████| 32/32 [00:15<00:00,  2.12it/s]"
     ]
    },
    {
     "name": "stdout",
     "output_type": "stream",
     "text": [
      "                   all       1000       5469      0.996      0.998      0.994      0.986      0.995      0.997      0.994      0.916\n"
     ]
    },
    {
     "name": "stderr",
     "output_type": "stream",
     "text": [
      "\n"
     ]
    },
    {
     "name": "stdout",
     "output_type": "stream",
     "text": [
      "\n",
      "      Epoch    GPU_mem   box_loss   seg_loss   cls_loss   dfl_loss  Instances       Size\n"
     ]
    },
    {
     "name": "stderr",
     "output_type": "stream",
     "text": [
      "     84/100      10.4G     0.3234     0.3126      0.216     0.8559        154        640: 100%|██████████| 250/250 [03:13<00:00,  1.29it/s]\n",
      "                 Class     Images  Instances      Box(P          R      mAP50  mAP50-95)     Mask(P          R      mAP50  mAP50-95): 100%|██████████| 32/32 [00:14<00:00,  2.14it/s]"
     ]
    },
    {
     "name": "stdout",
     "output_type": "stream",
     "text": [
      "                   all       1000       5469      0.995      0.997      0.994      0.986      0.994      0.997      0.994      0.917\n"
     ]
    },
    {
     "name": "stderr",
     "output_type": "stream",
     "text": [
      "\n"
     ]
    },
    {
     "name": "stdout",
     "output_type": "stream",
     "text": [
      "\n",
      "      Epoch    GPU_mem   box_loss   seg_loss   cls_loss   dfl_loss  Instances       Size\n"
     ]
    },
    {
     "name": "stderr",
     "output_type": "stream",
     "text": [
      "     85/100      10.6G     0.3308     0.3219     0.2185     0.8559        218        640: 100%|██████████| 250/250 [03:14<00:00,  1.29it/s]\n",
      "                 Class     Images  Instances      Box(P          R      mAP50  mAP50-95)     Mask(P          R      mAP50  mAP50-95): 100%|██████████| 32/32 [00:15<00:00,  2.12it/s]"
     ]
    },
    {
     "name": "stdout",
     "output_type": "stream",
     "text": [
      "                   all       1000       5469      0.996      0.996      0.994      0.982      0.995      0.995      0.994      0.913\n"
     ]
    },
    {
     "name": "stderr",
     "output_type": "stream",
     "text": [
      "\n"
     ]
    },
    {
     "name": "stdout",
     "output_type": "stream",
     "text": [
      "\n",
      "      Epoch    GPU_mem   box_loss   seg_loss   cls_loss   dfl_loss  Instances       Size\n"
     ]
    },
    {
     "name": "stderr",
     "output_type": "stream",
     "text": [
      "     86/100      10.4G     0.3259       0.32     0.2153     0.8576        221        640: 100%|██████████| 250/250 [03:13<00:00,  1.29it/s]\n",
      "                 Class     Images  Instances      Box(P          R      mAP50  mAP50-95)     Mask(P          R      mAP50  mAP50-95): 100%|██████████| 32/32 [00:14<00:00,  2.14it/s]"
     ]
    },
    {
     "name": "stdout",
     "output_type": "stream",
     "text": [
      "                   all       1000       5469      0.996      0.997      0.994      0.986      0.996      0.997      0.994      0.917\n"
     ]
    },
    {
     "name": "stderr",
     "output_type": "stream",
     "text": [
      "\n"
     ]
    },
    {
     "name": "stdout",
     "output_type": "stream",
     "text": [
      "\n",
      "      Epoch    GPU_mem   box_loss   seg_loss   cls_loss   dfl_loss  Instances       Size\n"
     ]
    },
    {
     "name": "stderr",
     "output_type": "stream",
     "text": [
      "     87/100      10.7G     0.3242     0.3171     0.2123     0.8595        200        640: 100%|██████████| 250/250 [03:13<00:00,  1.29it/s]\n",
      "                 Class     Images  Instances      Box(P          R      mAP50  mAP50-95)     Mask(P          R      mAP50  mAP50-95): 100%|██████████| 32/32 [00:14<00:00,  2.15it/s]"
     ]
    },
    {
     "name": "stdout",
     "output_type": "stream",
     "text": [
      "                   all       1000       5469      0.996      0.998      0.994      0.986      0.995      0.997      0.994      0.917\n"
     ]
    },
    {
     "name": "stderr",
     "output_type": "stream",
     "text": [
      "\n"
     ]
    },
    {
     "name": "stdout",
     "output_type": "stream",
     "text": [
      "\n",
      "      Epoch    GPU_mem   box_loss   seg_loss   cls_loss   dfl_loss  Instances       Size\n"
     ]
    },
    {
     "name": "stderr",
     "output_type": "stream",
     "text": [
      "     88/100      10.6G     0.3249     0.3144     0.2137     0.8579        146        640: 100%|██████████| 250/250 [03:13<00:00,  1.29it/s]\n",
      "                 Class     Images  Instances      Box(P          R      mAP50  mAP50-95)     Mask(P          R      mAP50  mAP50-95): 100%|██████████| 32/32 [00:14<00:00,  2.16it/s]"
     ]
    },
    {
     "name": "stdout",
     "output_type": "stream",
     "text": [
      "                   all       1000       5469      0.997      0.996      0.994      0.985      0.997      0.996      0.994      0.917\n"
     ]
    },
    {
     "name": "stderr",
     "output_type": "stream",
     "text": [
      "\n"
     ]
    },
    {
     "name": "stdout",
     "output_type": "stream",
     "text": [
      "\n",
      "      Epoch    GPU_mem   box_loss   seg_loss   cls_loss   dfl_loss  Instances       Size\n"
     ]
    },
    {
     "name": "stderr",
     "output_type": "stream",
     "text": [
      "     89/100      10.7G     0.3189     0.3158     0.2098     0.8561        175        640: 100%|██████████| 250/250 [03:13<00:00,  1.29it/s]\n",
      "                 Class     Images  Instances      Box(P          R      mAP50  mAP50-95)     Mask(P          R      mAP50  mAP50-95): 100%|██████████| 32/32 [00:14<00:00,  2.16it/s]"
     ]
    },
    {
     "name": "stdout",
     "output_type": "stream",
     "text": [
      "                   all       1000       5469      0.994      0.998      0.994      0.986      0.994      0.998      0.994      0.917\n"
     ]
    },
    {
     "name": "stderr",
     "output_type": "stream",
     "text": [
      "\n"
     ]
    },
    {
     "name": "stdout",
     "output_type": "stream",
     "text": [
      "\n",
      "      Epoch    GPU_mem   box_loss   seg_loss   cls_loss   dfl_loss  Instances       Size\n"
     ]
    },
    {
     "name": "stderr",
     "output_type": "stream",
     "text": [
      "     90/100      10.6G     0.3182     0.3078     0.2084     0.8576        207        640: 100%|██████████| 250/250 [03:13<00:00,  1.29it/s]\n",
      "                 Class     Images  Instances      Box(P          R      mAP50  mAP50-95)     Mask(P          R      mAP50  mAP50-95): 100%|██████████| 32/32 [00:14<00:00,  2.14it/s]"
     ]
    },
    {
     "name": "stdout",
     "output_type": "stream",
     "text": [
      "                   all       1000       5469      0.995      0.998      0.994      0.987      0.995      0.996      0.994      0.918\n"
     ]
    },
    {
     "name": "stderr",
     "output_type": "stream",
     "text": [
      "\n"
     ]
    },
    {
     "name": "stdout",
     "output_type": "stream",
     "text": [
      "Closing dataloader mosaic\n",
      "\u001b[34m\u001b[1malbumentations: \u001b[0mBlur(p=0.01, blur_limit=(3, 7)), MedianBlur(p=0.01, blur_limit=(3, 7)), ToGray(p=0.01, num_output_channels=3, method='weighted_average'), CLAHE(p=0.01, clip_limit=(1, 4.0), tile_grid_size=(8, 8))\n"
     ]
    },
    {
     "name": "stderr",
     "output_type": "stream",
     "text": [
      "/opt/conda/lib/python3.10/multiprocessing/popen_fork.py:66: RuntimeWarning: os.fork() was called. os.fork() is incompatible with multithreaded code, and JAX is multithreaded, so this will likely lead to a deadlock.\n",
      "  self.pid = os.fork()\n",
      "/opt/conda/lib/python3.10/multiprocessing/popen_fork.py:66: RuntimeWarning: os.fork() was called. os.fork() is incompatible with multithreaded code, and JAX is multithreaded, so this will likely lead to a deadlock.\n",
      "  self.pid = os.fork()\n"
     ]
    },
    {
     "name": "stdout",
     "output_type": "stream",
     "text": [
      "\n",
      "      Epoch    GPU_mem   box_loss   seg_loss   cls_loss   dfl_loss  Instances       Size\n"
     ]
    },
    {
     "name": "stderr",
     "output_type": "stream",
     "text": [
      "     91/100      10.3G     0.2419       0.27     0.1685     0.8147         84        640: 100%|██████████| 250/250 [03:06<00:00,  1.34it/s]\n",
      "                 Class     Images  Instances      Box(P          R      mAP50  mAP50-95)     Mask(P          R      mAP50  mAP50-95): 100%|██████████| 32/32 [00:14<00:00,  2.17it/s]"
     ]
    },
    {
     "name": "stdout",
     "output_type": "stream",
     "text": [
      "                   all       1000       5469      0.997      0.996      0.994      0.985      0.996      0.996      0.994      0.913\n"
     ]
    },
    {
     "name": "stderr",
     "output_type": "stream",
     "text": [
      "\n"
     ]
    },
    {
     "name": "stdout",
     "output_type": "stream",
     "text": [
      "\n",
      "      Epoch    GPU_mem   box_loss   seg_loss   cls_loss   dfl_loss  Instances       Size\n"
     ]
    },
    {
     "name": "stderr",
     "output_type": "stream",
     "text": [
      "     92/100      10.3G     0.2346     0.2595     0.1611     0.8136         94        640: 100%|██████████| 250/250 [03:05<00:00,  1.35it/s]\n",
      "                 Class     Images  Instances      Box(P          R      mAP50  mAP50-95)     Mask(P          R      mAP50  mAP50-95): 100%|██████████| 32/32 [00:14<00:00,  2.16it/s]"
     ]
    },
    {
     "name": "stdout",
     "output_type": "stream",
     "text": [
      "                   all       1000       5469      0.996      0.999      0.994      0.985      0.995      0.998      0.994      0.918\n"
     ]
    },
    {
     "name": "stderr",
     "output_type": "stream",
     "text": [
      "\n"
     ]
    },
    {
     "name": "stdout",
     "output_type": "stream",
     "text": [
      "\n",
      "      Epoch    GPU_mem   box_loss   seg_loss   cls_loss   dfl_loss  Instances       Size\n"
     ]
    },
    {
     "name": "stderr",
     "output_type": "stream",
     "text": [
      "     93/100      10.3G     0.2262      0.265     0.1575     0.8128         74        640: 100%|██████████| 250/250 [03:05<00:00,  1.35it/s]\n",
      "                 Class     Images  Instances      Box(P          R      mAP50  mAP50-95)     Mask(P          R      mAP50  mAP50-95): 100%|██████████| 32/32 [00:15<00:00,  2.12it/s]"
     ]
    },
    {
     "name": "stdout",
     "output_type": "stream",
     "text": [
      "                   all       1000       5469      0.996      0.999      0.994      0.987      0.995      0.998      0.994      0.919\n"
     ]
    },
    {
     "name": "stderr",
     "output_type": "stream",
     "text": [
      "\n"
     ]
    },
    {
     "name": "stdout",
     "output_type": "stream",
     "text": [
      "\n",
      "      Epoch    GPU_mem   box_loss   seg_loss   cls_loss   dfl_loss  Instances       Size\n"
     ]
    },
    {
     "name": "stderr",
     "output_type": "stream",
     "text": [
      "     94/100      10.3G     0.2271     0.2527     0.1558     0.8082         87        640: 100%|██████████| 250/250 [03:05<00:00,  1.35it/s]\n",
      "                 Class     Images  Instances      Box(P          R      mAP50  mAP50-95)     Mask(P          R      mAP50  mAP50-95): 100%|██████████| 32/32 [00:14<00:00,  2.16it/s]"
     ]
    },
    {
     "name": "stdout",
     "output_type": "stream",
     "text": [
      "                   all       1000       5469      0.997      0.998      0.994      0.988      0.996      0.997      0.994      0.923\n"
     ]
    },
    {
     "name": "stderr",
     "output_type": "stream",
     "text": [
      "\n"
     ]
    },
    {
     "name": "stdout",
     "output_type": "stream",
     "text": [
      "\n",
      "      Epoch    GPU_mem   box_loss   seg_loss   cls_loss   dfl_loss  Instances       Size\n"
     ]
    },
    {
     "name": "stderr",
     "output_type": "stream",
     "text": [
      "     95/100      10.3G      0.226     0.2595     0.1567       0.81         90        640: 100%|██████████| 250/250 [03:05<00:00,  1.35it/s]\n",
      "                 Class     Images  Instances      Box(P          R      mAP50  mAP50-95)     Mask(P          R      mAP50  mAP50-95): 100%|██████████| 32/32 [00:14<00:00,  2.18it/s]"
     ]
    },
    {
     "name": "stdout",
     "output_type": "stream",
     "text": [
      "                   all       1000       5469      0.997      0.998      0.994      0.988      0.996      0.997      0.994      0.922\n"
     ]
    },
    {
     "name": "stderr",
     "output_type": "stream",
     "text": [
      "\n"
     ]
    },
    {
     "name": "stdout",
     "output_type": "stream",
     "text": [
      "\n",
      "      Epoch    GPU_mem   box_loss   seg_loss   cls_loss   dfl_loss  Instances       Size\n"
     ]
    },
    {
     "name": "stderr",
     "output_type": "stream",
     "text": [
      "     96/100      10.4G      0.221     0.2598     0.1514     0.8075        101        640: 100%|██████████| 250/250 [03:05<00:00,  1.35it/s]\n",
      "                 Class     Images  Instances      Box(P          R      mAP50  mAP50-95)     Mask(P          R      mAP50  mAP50-95): 100%|██████████| 32/32 [00:14<00:00,  2.16it/s]"
     ]
    },
    {
     "name": "stdout",
     "output_type": "stream",
     "text": [
      "                   all       1000       5469      0.998      0.998      0.994      0.987      0.997      0.997      0.994       0.92\n"
     ]
    },
    {
     "name": "stderr",
     "output_type": "stream",
     "text": [
      "\n"
     ]
    },
    {
     "name": "stdout",
     "output_type": "stream",
     "text": [
      "\n",
      "      Epoch    GPU_mem   box_loss   seg_loss   cls_loss   dfl_loss  Instances       Size\n"
     ]
    },
    {
     "name": "stderr",
     "output_type": "stream",
     "text": [
      "     97/100      10.3G     0.2183     0.2455     0.1518     0.8076         91        640: 100%|██████████| 250/250 [03:05<00:00,  1.35it/s]\n",
      "                 Class     Images  Instances      Box(P          R      mAP50  mAP50-95)     Mask(P          R      mAP50  mAP50-95): 100%|██████████| 32/32 [00:14<00:00,  2.14it/s]"
     ]
    },
    {
     "name": "stdout",
     "output_type": "stream",
     "text": [
      "                   all       1000       5469      0.996      0.999      0.994      0.988      0.996      0.998      0.994      0.924\n"
     ]
    },
    {
     "name": "stderr",
     "output_type": "stream",
     "text": [
      "\n"
     ]
    },
    {
     "name": "stdout",
     "output_type": "stream",
     "text": [
      "\n",
      "      Epoch    GPU_mem   box_loss   seg_loss   cls_loss   dfl_loss  Instances       Size\n"
     ]
    },
    {
     "name": "stderr",
     "output_type": "stream",
     "text": [
      "     98/100      10.3G     0.2105     0.2417     0.1469     0.8055         94        640: 100%|██████████| 250/250 [03:05<00:00,  1.35it/s]\n",
      "                 Class     Images  Instances      Box(P          R      mAP50  mAP50-95)     Mask(P          R      mAP50  mAP50-95): 100%|██████████| 32/32 [00:14<00:00,  2.17it/s]"
     ]
    },
    {
     "name": "stdout",
     "output_type": "stream",
     "text": [
      "                   all       1000       5469      0.998      0.998      0.994      0.988      0.997      0.997      0.994      0.924\n"
     ]
    },
    {
     "name": "stderr",
     "output_type": "stream",
     "text": [
      "\n"
     ]
    },
    {
     "name": "stdout",
     "output_type": "stream",
     "text": [
      "\n",
      "      Epoch    GPU_mem   box_loss   seg_loss   cls_loss   dfl_loss  Instances       Size\n"
     ]
    },
    {
     "name": "stderr",
     "output_type": "stream",
     "text": [
      "     99/100      10.3G     0.2122     0.2412     0.1466     0.8114         71        640: 100%|██████████| 250/250 [03:05<00:00,  1.35it/s]\n",
      "                 Class     Images  Instances      Box(P          R      mAP50  mAP50-95)     Mask(P          R      mAP50  mAP50-95): 100%|██████████| 32/32 [00:14<00:00,  2.17it/s]"
     ]
    },
    {
     "name": "stdout",
     "output_type": "stream",
     "text": [
      "                   all       1000       5469      0.997      0.998      0.994      0.987      0.997      0.998      0.994      0.924\n"
     ]
    },
    {
     "name": "stderr",
     "output_type": "stream",
     "text": [
      "\n"
     ]
    },
    {
     "name": "stdout",
     "output_type": "stream",
     "text": [
      "\n",
      "      Epoch    GPU_mem   box_loss   seg_loss   cls_loss   dfl_loss  Instances       Size\n"
     ]
    },
    {
     "name": "stderr",
     "output_type": "stream",
     "text": [
      "    100/100      10.4G     0.2151     0.2427     0.1479     0.8097         97        640: 100%|██████████| 250/250 [03:05<00:00,  1.35it/s]\n",
      "                 Class     Images  Instances      Box(P          R      mAP50  mAP50-95)     Mask(P          R      mAP50  mAP50-95): 100%|██████████| 32/32 [00:14<00:00,  2.16it/s]"
     ]
    },
    {
     "name": "stdout",
     "output_type": "stream",
     "text": [
      "                   all       1000       5469      0.997      0.998      0.994      0.988      0.996      0.998      0.994      0.924\n"
     ]
    },
    {
     "name": "stderr",
     "output_type": "stream",
     "text": [
      "\n"
     ]
    },
    {
     "name": "stdout",
     "output_type": "stream",
     "text": [
      "\n",
      "100 epochs completed in 5.819 hours.\n",
      "Optimizer stripped from runs/segment/train/weights/last.pt, 45.1MB\n",
      "Optimizer stripped from runs/segment/train/weights/best.pt, 45.1MB\n",
      "\n",
      "Validating runs/segment/train/weights/best.pt...\n",
      "Ultralytics 8.3.15 🚀 Python-3.10.14 torch-2.4.0 CUDA:0 (Tesla T4, 15095MiB)\n",
      "YOLO11m-seg summary (fused): 330 layers, 22,336,083 parameters, 0 gradients, 123.0 GFLOPs\n"
     ]
    },
    {
     "name": "stderr",
     "output_type": "stream",
     "text": [
      "                 Class     Images  Instances      Box(P          R      mAP50  mAP50-95)     Mask(P          R      mAP50  mAP50-95): 100%|██████████| 32/32 [00:15<00:00,  2.12it/s]\n"
     ]
    },
    {
     "name": "stdout",
     "output_type": "stream",
     "text": [
      "                   all       1000       5469      0.998      0.998      0.994      0.988      0.997      0.997      0.994      0.924\n",
      "Speed: 0.1ms preprocess, 7.8ms inference, 0.0ms loss, 0.9ms postprocess per image\n",
      "Results saved to \u001b[1mruns/segment/train\u001b[0m\n"
     ]
    },
    {
     "name": "stderr",
     "output_type": "stream",
     "text": [
      "\u001b[34m\u001b[1mwandb\u001b[0m:                                                                                \n",
      "\u001b[34m\u001b[1mwandb\u001b[0m: \n",
      "\u001b[34m\u001b[1mwandb\u001b[0m: Run history:\n",
      "\u001b[34m\u001b[1mwandb\u001b[0m:                  lr/pg0 ▆███▇▇▇▇▇▇▆▆▆▅▅▅▅▅▅▅▄▄▄▄▄▃▃▃▃▃▂▂▂▂▂▂▂▁▁▁\n",
      "\u001b[34m\u001b[1mwandb\u001b[0m:                  lr/pg1 ▃████▇▇▇▇▇▇▇▆▆▆▆▆▆▅▅▅▅▅▅▅▄▄▄▃▃▃▃▂▂▂▂▂▁▁▁\n",
      "\u001b[34m\u001b[1mwandb\u001b[0m:                  lr/pg2 █████▇▇▇▇▆▆▆▆▆▆▅▅▅▅▅▄▄▄▄▄▄▄▃▃▃▃▃▃▃▂▂▂▁▁▁\n",
      "\u001b[34m\u001b[1mwandb\u001b[0m:        metrics/mAP50(B) ▇▆▁▁█▆▁█████████████████████████████████\n",
      "\u001b[34m\u001b[1mwandb\u001b[0m:        metrics/mAP50(M) ▇▇▆▁▅▁▆████▇████████████████████████████\n",
      "\u001b[34m\u001b[1mwandb\u001b[0m:     metrics/mAP50-95(B) ▆▅▇▁▇▁████████▇█████████████████████████\n",
      "\u001b[34m\u001b[1mwandb\u001b[0m:     metrics/mAP50-95(M) ▅▆▆▅▁▇▇▅▁▇▆█▅███████████████████████████\n",
      "\u001b[34m\u001b[1mwandb\u001b[0m:    metrics/precision(B) ▆▁██▇▁███▇██████████████████████████████\n",
      "\u001b[34m\u001b[1mwandb\u001b[0m:    metrics/precision(M) ▇▁█▆▅█▇▁▇███████████████████████████████\n",
      "\u001b[34m\u001b[1mwandb\u001b[0m:       metrics/recall(B) ▁▅▅█▇█▂██████▆██████████████████████████\n",
      "\u001b[34m\u001b[1mwandb\u001b[0m:       metrics/recall(M) █▇█▄▇▁███▆██████████████████████████████\n",
      "\u001b[34m\u001b[1mwandb\u001b[0m:            model/GFLOPs ▁\n",
      "\u001b[34m\u001b[1mwandb\u001b[0m:        model/parameters ▁\n",
      "\u001b[34m\u001b[1mwandb\u001b[0m: model/speed_PyTorch(ms) ▁\n",
      "\u001b[34m\u001b[1mwandb\u001b[0m:          train/box_loss █▇▆▅▅▅▅▄▄▄▄▄▄▄▄▄▄▃▃▃▃▃▃▃▃▃▃▃▂▂▂▂▂▂▂▂▂▁▁▁\n",
      "\u001b[34m\u001b[1mwandb\u001b[0m:          train/cls_loss █▅▅▄▄▄▃▃▃▃▃▃▃▂▂▂▂▂▂▂▂▂▂▂▂▂▂▂▂▂▂▂▂▂▂▂▁▁▁▁\n",
      "\u001b[34m\u001b[1mwandb\u001b[0m:          train/dfl_loss █▅▄▃▃▃▃▃▃▂▃▂▂▂▂▂▂▂▂▂▂▂▂▂▂▂▂▂▂▂▂▂▂▂▂▁▁▁▁▁\n",
      "\u001b[34m\u001b[1mwandb\u001b[0m:          train/seg_loss █▄▄▄▃▃▃▃▃▃▃▃▃▂▂▂▂▂▂▂▂▂▂▂▂▂▂▂▂▂▂▂▂▂▂▂▂▁▁▁\n",
      "\u001b[34m\u001b[1mwandb\u001b[0m:            val/box_loss ▃▂▄█▂▂▂▁▁▁▁▁▂▁▁▁▁▁▁▁▁▁▁▁▁▁▁▁▁▁▁▁▁▁▁▁▁▁▁▁\n",
      "\u001b[34m\u001b[1mwandb\u001b[0m:            val/cls_loss ▂▂▁█▂▂▁▇▁▁▁▁▁▁▁▁▁▁▁▁▁▁▁▁▁▁▁▁▁▁▁▁▁▁▁▁▁▁▁▁\n",
      "\u001b[34m\u001b[1mwandb\u001b[0m:            val/dfl_loss ▃▁▃▇▃▁▁▁▁█▁▁▁▂▁▁▁▁▁▁▁▁▁▁▁▁▁▁▁▁▁▁▁▁▁▁▁▁▁▁\n",
      "\u001b[34m\u001b[1mwandb\u001b[0m:            val/seg_loss ▄▃█▅▃▃▂█▂▂▂▂▃▂▂▂▂▂▂▂▂▂▁▁▁▁▁▁▁▁▁▁▁▁▁▁▁▁▁▁\n",
      "\u001b[34m\u001b[1mwandb\u001b[0m: \n",
      "\u001b[34m\u001b[1mwandb\u001b[0m: Run summary:\n",
      "\u001b[34m\u001b[1mwandb\u001b[0m:                  lr/pg0 4e-05\n",
      "\u001b[34m\u001b[1mwandb\u001b[0m:                  lr/pg1 4e-05\n",
      "\u001b[34m\u001b[1mwandb\u001b[0m:                  lr/pg2 4e-05\n",
      "\u001b[34m\u001b[1mwandb\u001b[0m:        metrics/mAP50(B) 0.99425\n",
      "\u001b[34m\u001b[1mwandb\u001b[0m:        metrics/mAP50(M) 0.99401\n",
      "\u001b[34m\u001b[1mwandb\u001b[0m:     metrics/mAP50-95(B) 0.98822\n",
      "\u001b[34m\u001b[1mwandb\u001b[0m:     metrics/mAP50-95(M) 0.9239\n",
      "\u001b[34m\u001b[1mwandb\u001b[0m:    metrics/precision(B) 0.99781\n",
      "\u001b[34m\u001b[1mwandb\u001b[0m:    metrics/precision(M) 0.99689\n",
      "\u001b[34m\u001b[1mwandb\u001b[0m:       metrics/recall(B) 0.99835\n",
      "\u001b[34m\u001b[1mwandb\u001b[0m:       metrics/recall(M) 0.99729\n",
      "\u001b[34m\u001b[1mwandb\u001b[0m:            model/GFLOPs 123.58\n",
      "\u001b[34m\u001b[1mwandb\u001b[0m:        model/parameters 22359987\n",
      "\u001b[34m\u001b[1mwandb\u001b[0m: model/speed_PyTorch(ms) 8.5\n",
      "\u001b[34m\u001b[1mwandb\u001b[0m:          train/box_loss 0.21513\n",
      "\u001b[34m\u001b[1mwandb\u001b[0m:          train/cls_loss 0.14788\n",
      "\u001b[34m\u001b[1mwandb\u001b[0m:          train/dfl_loss 0.80973\n",
      "\u001b[34m\u001b[1mwandb\u001b[0m:          train/seg_loss 0.24271\n",
      "\u001b[34m\u001b[1mwandb\u001b[0m:            val/box_loss 0.1598\n",
      "\u001b[34m\u001b[1mwandb\u001b[0m:            val/cls_loss 0.11422\n",
      "\u001b[34m\u001b[1mwandb\u001b[0m:            val/dfl_loss 0.76702\n",
      "\u001b[34m\u001b[1mwandb\u001b[0m:            val/seg_loss 0.21877\n",
      "\u001b[34m\u001b[1mwandb\u001b[0m: \n",
      "\u001b[34m\u001b[1mwandb\u001b[0m: You can sync this run to the cloud by running:\n",
      "\u001b[34m\u001b[1mwandb\u001b[0m: \u001b[1mwandb sync /kaggle/working/wandb/offline-run-20241017_065311-ghfj0juu\u001b[0m\n",
      "\u001b[34m\u001b[1mwandb\u001b[0m: Find logs at: \u001b[35m\u001b[1m./wandb/offline-run-20241017_065311-ghfj0juu/logs\u001b[0m\n"
     ]
    },
    {
     "data": {
      "text/plain": [
       "ultralytics.utils.metrics.SegmentMetrics object with attributes:\n",
       "\n",
       "ap_class_index: array([0])\n",
       "box: ultralytics.utils.metrics.Metric object\n",
       "confusion_matrix: <ultralytics.utils.metrics.ConfusionMatrix object at 0x7c3311cbadd0>\n",
       "curves: ['Precision-Recall(B)', 'F1-Confidence(B)', 'Precision-Confidence(B)', 'Recall-Confidence(B)', 'Precision-Recall(M)', 'F1-Confidence(M)', 'Precision-Confidence(M)', 'Recall-Confidence(M)']\n",
       "curves_results: [[array([          0,    0.001001,    0.002002,    0.003003,    0.004004,    0.005005,    0.006006,    0.007007,    0.008008,    0.009009,     0.01001,    0.011011,    0.012012,    0.013013,    0.014014,    0.015015,    0.016016,    0.017017,    0.018018,    0.019019,     0.02002,    0.021021,    0.022022,    0.023023,\n",
       "          0.024024,    0.025025,    0.026026,    0.027027,    0.028028,    0.029029,     0.03003,    0.031031,    0.032032,    0.033033,    0.034034,    0.035035,    0.036036,    0.037037,    0.038038,    0.039039,     0.04004,    0.041041,    0.042042,    0.043043,    0.044044,    0.045045,    0.046046,    0.047047,\n",
       "          0.048048,    0.049049,     0.05005,    0.051051,    0.052052,    0.053053,    0.054054,    0.055055,    0.056056,    0.057057,    0.058058,    0.059059,     0.06006,    0.061061,    0.062062,    0.063063,    0.064064,    0.065065,    0.066066,    0.067067,    0.068068,    0.069069,     0.07007,    0.071071,\n",
       "          0.072072,    0.073073,    0.074074,    0.075075,    0.076076,    0.077077,    0.078078,    0.079079,     0.08008,    0.081081,    0.082082,    0.083083,    0.084084,    0.085085,    0.086086,    0.087087,    0.088088,    0.089089,     0.09009,    0.091091,    0.092092,    0.093093,    0.094094,    0.095095,\n",
       "          0.096096,    0.097097,    0.098098,    0.099099,      0.1001,      0.1011,      0.1021,      0.1031,      0.1041,     0.10511,     0.10611,     0.10711,     0.10811,     0.10911,     0.11011,     0.11111,     0.11211,     0.11311,     0.11411,     0.11512,     0.11612,     0.11712,     0.11812,     0.11912,\n",
       "           0.12012,     0.12112,     0.12212,     0.12312,     0.12412,     0.12513,     0.12613,     0.12713,     0.12813,     0.12913,     0.13013,     0.13113,     0.13213,     0.13313,     0.13413,     0.13514,     0.13614,     0.13714,     0.13814,     0.13914,     0.14014,     0.14114,     0.14214,     0.14314,\n",
       "           0.14414,     0.14515,     0.14615,     0.14715,     0.14815,     0.14915,     0.15015,     0.15115,     0.15215,     0.15315,     0.15415,     0.15516,     0.15616,     0.15716,     0.15816,     0.15916,     0.16016,     0.16116,     0.16216,     0.16316,     0.16416,     0.16517,     0.16617,     0.16717,\n",
       "           0.16817,     0.16917,     0.17017,     0.17117,     0.17217,     0.17317,     0.17417,     0.17518,     0.17618,     0.17718,     0.17818,     0.17918,     0.18018,     0.18118,     0.18218,     0.18318,     0.18418,     0.18519,     0.18619,     0.18719,     0.18819,     0.18919,     0.19019,     0.19119,\n",
       "           0.19219,     0.19319,     0.19419,      0.1952,      0.1962,      0.1972,      0.1982,      0.1992,      0.2002,      0.2012,      0.2022,      0.2032,      0.2042,     0.20521,     0.20621,     0.20721,     0.20821,     0.20921,     0.21021,     0.21121,     0.21221,     0.21321,     0.21421,     0.21522,\n",
       "           0.21622,     0.21722,     0.21822,     0.21922,     0.22022,     0.22122,     0.22222,     0.22322,     0.22422,     0.22523,     0.22623,     0.22723,     0.22823,     0.22923,     0.23023,     0.23123,     0.23223,     0.23323,     0.23423,     0.23524,     0.23624,     0.23724,     0.23824,     0.23924,\n",
       "           0.24024,     0.24124,     0.24224,     0.24324,     0.24424,     0.24525,     0.24625,     0.24725,     0.24825,     0.24925,     0.25025,     0.25125,     0.25225,     0.25325,     0.25425,     0.25526,     0.25626,     0.25726,     0.25826,     0.25926,     0.26026,     0.26126,     0.26226,     0.26326,\n",
       "           0.26426,     0.26527,     0.26627,     0.26727,     0.26827,     0.26927,     0.27027,     0.27127,     0.27227,     0.27327,     0.27427,     0.27528,     0.27628,     0.27728,     0.27828,     0.27928,     0.28028,     0.28128,     0.28228,     0.28328,     0.28428,     0.28529,     0.28629,     0.28729,\n",
       "           0.28829,     0.28929,     0.29029,     0.29129,     0.29229,     0.29329,     0.29429,      0.2953,      0.2963,      0.2973,      0.2983,      0.2993,      0.3003,      0.3013,      0.3023,      0.3033,      0.3043,     0.30531,     0.30631,     0.30731,     0.30831,     0.30931,     0.31031,     0.31131,\n",
       "           0.31231,     0.31331,     0.31431,     0.31532,     0.31632,     0.31732,     0.31832,     0.31932,     0.32032,     0.32132,     0.32232,     0.32332,     0.32432,     0.32533,     0.32633,     0.32733,     0.32833,     0.32933,     0.33033,     0.33133,     0.33233,     0.33333,     0.33433,     0.33534,\n",
       "           0.33634,     0.33734,     0.33834,     0.33934,     0.34034,     0.34134,     0.34234,     0.34334,     0.34434,     0.34535,     0.34635,     0.34735,     0.34835,     0.34935,     0.35035,     0.35135,     0.35235,     0.35335,     0.35435,     0.35536,     0.35636,     0.35736,     0.35836,     0.35936,\n",
       "           0.36036,     0.36136,     0.36236,     0.36336,     0.36436,     0.36537,     0.36637,     0.36737,     0.36837,     0.36937,     0.37037,     0.37137,     0.37237,     0.37337,     0.37437,     0.37538,     0.37638,     0.37738,     0.37838,     0.37938,     0.38038,     0.38138,     0.38238,     0.38338,\n",
       "           0.38438,     0.38539,     0.38639,     0.38739,     0.38839,     0.38939,     0.39039,     0.39139,     0.39239,     0.39339,     0.39439,      0.3954,      0.3964,      0.3974,      0.3984,      0.3994,      0.4004,      0.4014,      0.4024,      0.4034,      0.4044,     0.40541,     0.40641,     0.40741,\n",
       "           0.40841,     0.40941,     0.41041,     0.41141,     0.41241,     0.41341,     0.41441,     0.41542,     0.41642,     0.41742,     0.41842,     0.41942,     0.42042,     0.42142,     0.42242,     0.42342,     0.42442,     0.42543,     0.42643,     0.42743,     0.42843,     0.42943,     0.43043,     0.43143,\n",
       "           0.43243,     0.43343,     0.43443,     0.43544,     0.43644,     0.43744,     0.43844,     0.43944,     0.44044,     0.44144,     0.44244,     0.44344,     0.44444,     0.44545,     0.44645,     0.44745,     0.44845,     0.44945,     0.45045,     0.45145,     0.45245,     0.45345,     0.45445,     0.45546,\n",
       "           0.45646,     0.45746,     0.45846,     0.45946,     0.46046,     0.46146,     0.46246,     0.46346,     0.46446,     0.46547,     0.46647,     0.46747,     0.46847,     0.46947,     0.47047,     0.47147,     0.47247,     0.47347,     0.47447,     0.47548,     0.47648,     0.47748,     0.47848,     0.47948,\n",
       "           0.48048,     0.48148,     0.48248,     0.48348,     0.48448,     0.48549,     0.48649,     0.48749,     0.48849,     0.48949,     0.49049,     0.49149,     0.49249,     0.49349,     0.49449,      0.4955,      0.4965,      0.4975,      0.4985,      0.4995,      0.5005,      0.5015,      0.5025,      0.5035,\n",
       "            0.5045,     0.50551,     0.50651,     0.50751,     0.50851,     0.50951,     0.51051,     0.51151,     0.51251,     0.51351,     0.51451,     0.51552,     0.51652,     0.51752,     0.51852,     0.51952,     0.52052,     0.52152,     0.52252,     0.52352,     0.52452,     0.52553,     0.52653,     0.52753,\n",
       "           0.52853,     0.52953,     0.53053,     0.53153,     0.53253,     0.53353,     0.53453,     0.53554,     0.53654,     0.53754,     0.53854,     0.53954,     0.54054,     0.54154,     0.54254,     0.54354,     0.54454,     0.54555,     0.54655,     0.54755,     0.54855,     0.54955,     0.55055,     0.55155,\n",
       "           0.55255,     0.55355,     0.55455,     0.55556,     0.55656,     0.55756,     0.55856,     0.55956,     0.56056,     0.56156,     0.56256,     0.56356,     0.56456,     0.56557,     0.56657,     0.56757,     0.56857,     0.56957,     0.57057,     0.57157,     0.57257,     0.57357,     0.57457,     0.57558,\n",
       "           0.57658,     0.57758,     0.57858,     0.57958,     0.58058,     0.58158,     0.58258,     0.58358,     0.58458,     0.58559,     0.58659,     0.58759,     0.58859,     0.58959,     0.59059,     0.59159,     0.59259,     0.59359,     0.59459,      0.5956,      0.5966,      0.5976,      0.5986,      0.5996,\n",
       "            0.6006,      0.6016,      0.6026,      0.6036,      0.6046,     0.60561,     0.60661,     0.60761,     0.60861,     0.60961,     0.61061,     0.61161,     0.61261,     0.61361,     0.61461,     0.61562,     0.61662,     0.61762,     0.61862,     0.61962,     0.62062,     0.62162,     0.62262,     0.62362,\n",
       "           0.62462,     0.62563,     0.62663,     0.62763,     0.62863,     0.62963,     0.63063,     0.63163,     0.63263,     0.63363,     0.63463,     0.63564,     0.63664,     0.63764,     0.63864,     0.63964,     0.64064,     0.64164,     0.64264,     0.64364,     0.64464,     0.64565,     0.64665,     0.64765,\n",
       "           0.64865,     0.64965,     0.65065,     0.65165,     0.65265,     0.65365,     0.65465,     0.65566,     0.65666,     0.65766,     0.65866,     0.65966,     0.66066,     0.66166,     0.66266,     0.66366,     0.66466,     0.66567,     0.66667,     0.66767,     0.66867,     0.66967,     0.67067,     0.67167,\n",
       "           0.67267,     0.67367,     0.67467,     0.67568,     0.67668,     0.67768,     0.67868,     0.67968,     0.68068,     0.68168,     0.68268,     0.68368,     0.68468,     0.68569,     0.68669,     0.68769,     0.68869,     0.68969,     0.69069,     0.69169,     0.69269,     0.69369,     0.69469,      0.6957,\n",
       "            0.6967,      0.6977,      0.6987,      0.6997,      0.7007,      0.7017,      0.7027,      0.7037,      0.7047,     0.70571,     0.70671,     0.70771,     0.70871,     0.70971,     0.71071,     0.71171,     0.71271,     0.71371,     0.71471,     0.71572,     0.71672,     0.71772,     0.71872,     0.71972,\n",
       "           0.72072,     0.72172,     0.72272,     0.72372,     0.72472,     0.72573,     0.72673,     0.72773,     0.72873,     0.72973,     0.73073,     0.73173,     0.73273,     0.73373,     0.73473,     0.73574,     0.73674,     0.73774,     0.73874,     0.73974,     0.74074,     0.74174,     0.74274,     0.74374,\n",
       "           0.74474,     0.74575,     0.74675,     0.74775,     0.74875,     0.74975,     0.75075,     0.75175,     0.75275,     0.75375,     0.75475,     0.75576,     0.75676,     0.75776,     0.75876,     0.75976,     0.76076,     0.76176,     0.76276,     0.76376,     0.76476,     0.76577,     0.76677,     0.76777,\n",
       "           0.76877,     0.76977,     0.77077,     0.77177,     0.77277,     0.77377,     0.77477,     0.77578,     0.77678,     0.77778,     0.77878,     0.77978,     0.78078,     0.78178,     0.78278,     0.78378,     0.78478,     0.78579,     0.78679,     0.78779,     0.78879,     0.78979,     0.79079,     0.79179,\n",
       "           0.79279,     0.79379,     0.79479,      0.7958,      0.7968,      0.7978,      0.7988,      0.7998,      0.8008,      0.8018,      0.8028,      0.8038,      0.8048,     0.80581,     0.80681,     0.80781,     0.80881,     0.80981,     0.81081,     0.81181,     0.81281,     0.81381,     0.81481,     0.81582,\n",
       "           0.81682,     0.81782,     0.81882,     0.81982,     0.82082,     0.82182,     0.82282,     0.82382,     0.82482,     0.82583,     0.82683,     0.82783,     0.82883,     0.82983,     0.83083,     0.83183,     0.83283,     0.83383,     0.83483,     0.83584,     0.83684,     0.83784,     0.83884,     0.83984,\n",
       "           0.84084,     0.84184,     0.84284,     0.84384,     0.84484,     0.84585,     0.84685,     0.84785,     0.84885,     0.84985,     0.85085,     0.85185,     0.85285,     0.85385,     0.85485,     0.85586,     0.85686,     0.85786,     0.85886,     0.85986,     0.86086,     0.86186,     0.86286,     0.86386,\n",
       "           0.86486,     0.86587,     0.86687,     0.86787,     0.86887,     0.86987,     0.87087,     0.87187,     0.87287,     0.87387,     0.87487,     0.87588,     0.87688,     0.87788,     0.87888,     0.87988,     0.88088,     0.88188,     0.88288,     0.88388,     0.88488,     0.88589,     0.88689,     0.88789,\n",
       "           0.88889,     0.88989,     0.89089,     0.89189,     0.89289,     0.89389,     0.89489,      0.8959,      0.8969,      0.8979,      0.8989,      0.8999,      0.9009,      0.9019,      0.9029,      0.9039,      0.9049,     0.90591,     0.90691,     0.90791,     0.90891,     0.90991,     0.91091,     0.91191,\n",
       "           0.91291,     0.91391,     0.91491,     0.91592,     0.91692,     0.91792,     0.91892,     0.91992,     0.92092,     0.92192,     0.92292,     0.92392,     0.92492,     0.92593,     0.92693,     0.92793,     0.92893,     0.92993,     0.93093,     0.93193,     0.93293,     0.93393,     0.93493,     0.93594,\n",
       "           0.93694,     0.93794,     0.93894,     0.93994,     0.94094,     0.94194,     0.94294,     0.94394,     0.94494,     0.94595,     0.94695,     0.94795,     0.94895,     0.94995,     0.95095,     0.95195,     0.95295,     0.95395,     0.95495,     0.95596,     0.95696,     0.95796,     0.95896,     0.95996,\n",
       "           0.96096,     0.96196,     0.96296,     0.96396,     0.96496,     0.96597,     0.96697,     0.96797,     0.96897,     0.96997,     0.97097,     0.97197,     0.97297,     0.97397,     0.97497,     0.97598,     0.97698,     0.97798,     0.97898,     0.97998,     0.98098,     0.98198,     0.98298,     0.98398,\n",
       "           0.98498,     0.98599,     0.98699,     0.98799,     0.98899,     0.98999,     0.99099,     0.99199,     0.99299,     0.99399,     0.99499,       0.996,       0.997,       0.998,       0.999,           1]), array([[          1,           1,           1,           1,           1,           1,           1,           1,           1,           1,           1,           1,           1,           1,           1,           1,           1,           1,           1,           1,           1,           1,           1,\n",
       "                  1,           1,           1,           1,           1,           1,           1,           1,           1,           1,           1,           1,           1,           1,           1,           1,           1,           1,           1,           1,           1,           1,           1,\n",
       "                  1,           1,           1,           1,           1,           1,           1,           1,           1,           1,           1,           1,           1,           1,           1,           1,           1,           1,           1,           1,           1,           1,           1,\n",
       "                  1,           1,           1,           1,           1,           1,     0.99927,     0.99927,     0.99927,     0.99927,     0.99927,     0.99927,     0.99927,     0.99927,     0.99927,     0.99927,     0.99927,     0.99927,     0.99927,     0.99927,     0.99927,     0.99927,     0.99927,\n",
       "            0.99927,     0.99927,     0.99927,     0.99927,     0.99927,     0.99927,     0.99927,     0.99927,     0.99927,     0.99927,     0.99927,     0.99927,     0.99927,     0.99927,     0.99927,     0.99927,     0.99927,     0.99927,     0.99927,     0.99927,     0.99927,     0.99927,     0.99927,\n",
       "            0.99927,     0.99927,     0.99927,     0.99927,     0.99927,     0.99927,     0.99927,     0.99927,     0.99927,     0.99927,     0.99927,     0.99927,     0.99927,     0.99927,     0.99927,     0.99927,     0.99927,     0.99927,     0.99927,     0.99927,     0.99927,     0.99927,     0.99927,\n",
       "            0.99927,     0.99927,     0.99927,     0.99927,     0.99927,     0.99927,     0.99927,     0.99927,     0.99927,     0.99927,     0.99927,     0.99927,     0.99927,     0.99927,     0.99927,     0.99927,     0.99927,     0.99927,     0.99927,     0.99927,     0.99927,     0.99927,     0.99927,\n",
       "            0.99927,     0.99927,     0.99927,     0.99927,     0.99927,     0.99927,     0.99927,     0.99927,     0.99927,     0.99927,     0.99927,     0.99927,     0.99927,     0.99927,     0.99927,     0.99927,     0.99927,     0.99927,     0.99927,     0.99927,     0.99927,     0.99927,     0.99927,\n",
       "            0.99927,     0.99927,     0.99927,     0.99927,     0.99927,     0.99927,     0.99927,     0.99927,     0.99927,     0.99927,     0.99927,     0.99927,     0.99927,     0.99927,     0.99927,     0.99927,     0.99927,     0.99927,     0.99927,     0.99927,     0.99927,     0.99927,     0.99927,\n",
       "            0.99927,     0.99927,     0.99927,     0.99927,     0.99927,     0.99927,     0.99927,     0.99927,     0.99927,     0.99927,     0.99927,     0.99927,     0.99927,     0.99927,     0.99927,     0.99927,     0.99927,     0.99927,     0.99927,     0.99927,     0.99927,     0.99927,     0.99927,\n",
       "            0.99927,     0.99927,     0.99927,     0.99927,     0.99927,     0.99927,     0.99927,     0.99927,     0.99927,     0.99927,     0.99927,     0.99927,     0.99927,     0.99927,     0.99927,     0.99927,     0.99927,     0.99927,     0.99927,     0.99927,     0.99927,     0.99927,     0.99927,\n",
       "            0.99927,     0.99927,     0.99927,     0.99927,     0.99927,     0.99927,     0.99927,     0.99927,     0.99927,     0.99927,     0.99927,     0.99927,     0.99927,     0.99927,     0.99927,     0.99927,     0.99927,     0.99927,     0.99927,     0.99927,     0.99927,     0.99927,     0.99927,\n",
       "            0.99927,     0.99927,     0.99927,     0.99927,     0.99927,     0.99927,     0.99927,     0.99927,     0.99927,     0.99927,     0.99927,     0.99927,     0.99927,     0.99927,     0.99927,     0.99927,     0.99927,     0.99927,     0.99927,     0.99927,     0.99927,     0.99927,     0.99927,\n",
       "            0.99927,     0.99927,     0.99927,     0.99927,     0.99927,     0.99927,     0.99927,     0.99927,     0.99927,     0.99927,     0.99927,     0.99927,     0.99927,     0.99927,     0.99927,     0.99927,     0.99927,     0.99927,     0.99927,     0.99927,     0.99927,     0.99927,     0.99927,\n",
       "            0.99927,     0.99927,     0.99927,     0.99927,     0.99927,     0.99927,     0.99927,     0.99927,     0.99927,     0.99927,     0.99927,     0.99927,     0.99927,     0.99927,     0.99927,     0.99927,     0.99927,     0.99927,     0.99927,     0.99927,     0.99927,     0.99927,     0.99927,\n",
       "            0.99927,     0.99927,     0.99927,     0.99927,     0.99927,     0.99927,     0.99927,     0.99927,     0.99927,     0.99927,     0.99927,     0.99927,     0.99927,     0.99927,     0.99927,     0.99927,     0.99927,     0.99927,     0.99927,     0.99927,     0.99927,     0.99927,     0.99927,\n",
       "            0.99927,     0.99927,     0.99927,     0.99927,     0.99927,     0.99927,     0.99927,     0.99927,     0.99927,     0.99927,     0.99927,     0.99927,     0.99927,     0.99927,     0.99927,     0.99927,     0.99927,     0.99927,     0.99927,     0.99927,     0.99927,     0.99927,     0.99927,\n",
       "            0.99927,     0.99927,     0.99927,     0.99927,     0.99927,     0.99927,     0.99927,     0.99927,     0.99927,     0.99927,     0.99927,     0.99927,     0.99927,     0.99927,     0.99927,     0.99927,     0.99927,     0.99927,     0.99927,     0.99927,     0.99927,     0.99927,     0.99927,\n",
       "            0.99927,     0.99927,     0.99927,     0.99927,     0.99927,     0.99927,     0.99927,     0.99927,     0.99927,     0.99927,     0.99927,     0.99927,     0.99927,     0.99927,     0.99927,     0.99927,     0.99927,     0.99927,     0.99927,     0.99927,     0.99927,     0.99927,     0.99927,\n",
       "            0.99927,     0.99927,     0.99927,     0.99927,     0.99927,     0.99927,     0.99927,     0.99927,     0.99927,     0.99927,     0.99927,     0.99927,     0.99927,     0.99927,     0.99927,     0.99927,     0.99927,     0.99927,     0.99927,     0.99927,     0.99927,     0.99927,     0.99927,\n",
       "            0.99927,     0.99927,     0.99927,     0.99927,     0.99927,     0.99927,     0.99927,     0.99927,     0.99927,     0.99927,     0.99927,     0.99927,     0.99927,     0.99927,     0.99927,     0.99927,     0.99927,     0.99927,     0.99927,     0.99927,     0.99927,     0.99927,     0.99927,\n",
       "            0.99927,     0.99927,     0.99927,     0.99927,     0.99927,     0.99927,     0.99927,     0.99927,     0.99927,     0.99927,     0.99927,     0.99927,     0.99927,     0.99927,     0.99927,     0.99927,     0.99927,     0.99927,     0.99927,     0.99927,     0.99927,     0.99927,     0.99927,\n",
       "            0.99927,     0.99927,     0.99927,     0.99927,     0.99927,     0.99927,     0.99927,     0.99927,     0.99927,     0.99927,     0.99927,     0.99927,     0.99927,     0.99927,     0.99927,     0.99927,     0.99927,     0.99927,     0.99927,     0.99927,     0.99927,     0.99927,     0.99927,\n",
       "            0.99927,     0.99927,     0.99927,     0.99927,     0.99927,     0.99927,     0.99927,     0.99927,     0.99927,     0.99927,     0.99927,     0.99927,     0.99927,     0.99927,     0.99927,     0.99927,     0.99927,     0.99927,     0.99927,     0.99927,     0.99927,     0.99927,     0.99927,\n",
       "            0.99927,     0.99927,     0.99927,     0.99927,     0.99927,     0.99927,     0.99927,     0.99927,     0.99927,     0.99927,     0.99927,     0.99927,     0.99927,     0.99927,     0.99927,     0.99927,     0.99927,     0.99927,     0.99927,     0.99927,     0.99927,     0.99927,     0.99927,\n",
       "            0.99927,     0.99927,     0.99927,     0.99927,     0.99927,     0.99927,     0.99927,     0.99927,     0.99927,     0.99927,     0.99927,     0.99927,     0.99927,     0.99927,     0.99927,     0.99927,     0.99927,     0.99927,     0.99927,     0.99927,     0.99927,     0.99927,     0.99927,\n",
       "            0.99927,     0.99927,     0.99927,     0.99927,     0.99927,     0.99927,     0.99927,     0.99927,     0.99927,     0.99927,     0.99927,     0.99927,     0.99927,     0.99927,     0.99927,     0.99927,     0.99927,     0.99927,     0.99927,     0.99927,     0.99927,     0.99927,     0.99927,\n",
       "            0.99927,     0.99927,     0.99927,     0.99927,     0.99927,     0.99927,     0.99927,     0.99927,     0.99927,     0.99927,     0.99927,     0.99927,     0.99927,     0.99927,     0.99927,     0.99927,     0.99927,     0.99927,     0.99927,     0.99927,     0.99927,     0.99927,     0.99927,\n",
       "            0.99927,     0.99927,     0.99927,     0.99927,     0.99927,     0.99927,     0.99927,     0.99927,     0.99927,     0.99927,     0.99927,     0.99927,     0.99927,     0.99927,     0.99927,     0.99927,     0.99927,     0.99927,     0.99927,     0.99927,     0.99927,     0.99927,     0.99927,\n",
       "            0.99927,     0.99927,     0.99927,     0.99927,     0.99927,     0.99927,     0.99927,     0.99927,     0.99927,     0.99927,     0.99927,     0.99927,     0.99927,     0.99927,     0.99927,     0.99927,     0.99927,     0.99927,     0.99927,     0.99927,     0.99927,     0.99927,     0.99927,\n",
       "            0.99927,     0.99927,     0.99927,     0.99927,     0.99927,     0.99927,     0.99927,     0.99927,     0.99927,     0.99927,     0.99927,     0.99927,     0.99927,     0.99927,     0.99927,     0.99927,     0.99927,     0.99927,     0.99927,     0.99927,     0.99927,     0.99927,     0.99927,\n",
       "            0.99927,     0.99927,     0.99927,     0.99927,     0.99927,     0.99927,     0.99927,     0.99927,     0.99927,     0.99927,     0.99927,     0.99927,     0.99927,     0.99927,     0.99927,     0.99927,     0.99927,     0.99927,     0.99927,     0.99927,     0.99927,     0.99927,     0.99927,\n",
       "            0.99927,     0.99927,     0.99927,     0.99927,     0.99927,     0.99927,     0.99927,     0.99927,     0.99927,     0.99927,     0.99927,     0.99927,      0.9991,      0.9991,      0.9991,      0.9991,      0.9991,      0.9991,      0.9991,      0.9991,      0.9991,      0.9991,      0.9991,\n",
       "             0.9991,      0.9991,      0.9991,      0.9991,      0.9991,      0.9991,      0.9991,      0.9991,      0.9991,      0.9991,      0.9991,      0.9991,      0.9991,      0.9991,      0.9991,      0.9991,      0.9991,      0.9991,      0.9991,      0.9991,      0.9991,      0.9991,      0.9991,\n",
       "             0.9991,      0.9991,      0.9991,      0.9991,      0.9991,      0.9991,      0.9991,      0.9991,      0.9991,      0.9991,      0.9991,      0.9991,      0.9991,      0.9991,      0.9991,      0.9991,      0.9991,      0.9991,      0.9991,      0.9991,      0.9991,      0.9991,      0.9991,\n",
       "             0.9991,      0.9991,      0.9991,      0.9991,      0.9991,      0.9991,      0.9991,      0.9991,      0.9991,      0.9991,     0.99902,     0.99902,     0.99902,     0.99902,     0.99902,     0.99902,     0.99902,     0.99902,     0.99902,     0.99902,     0.99902,     0.99902,     0.99902,\n",
       "            0.99902,     0.99902,     0.99902,     0.99902,     0.99902,     0.99902,     0.99902,     0.99902,     0.99902,     0.99902,     0.99902,     0.99902,     0.99902,     0.99902,     0.99902,     0.99902,     0.99902,     0.99902,     0.99902,     0.99902,     0.99902,     0.99902,     0.99902,\n",
       "            0.99902,     0.99902,     0.99902,     0.99902,     0.99902,     0.99902,     0.99902,     0.99902,     0.99902,     0.99902,     0.99902,     0.99902,     0.99902,     0.99902,     0.99902,     0.99902,     0.99902,     0.99902,     0.99902,     0.99902,     0.99902,     0.99902,     0.99902,\n",
       "            0.99902,     0.99902,     0.99902,     0.99902,     0.99902,     0.99902,     0.99902,     0.99902,     0.99902,     0.99902,     0.99902,     0.99902,     0.99902,     0.99902,     0.99902,     0.99902,     0.99902,     0.99902,     0.99902,     0.99902,     0.99902,     0.99902,     0.99902,\n",
       "            0.99902,     0.99902,     0.99902,     0.99902,     0.99902,     0.99902,     0.99902,     0.99902,     0.99902,     0.99902,     0.99902,     0.99902,     0.99902,     0.99902,     0.99902,     0.99902,     0.99902,     0.99902,     0.99902,     0.99902,     0.99902,     0.99902,     0.99902,\n",
       "            0.99902,     0.99902,     0.99902,     0.99902,     0.99902,     0.99902,     0.99902,     0.99902,     0.99902,     0.99887,     0.99887,     0.99887,     0.99887,     0.99887,     0.99887,     0.99887,     0.99887,     0.99887,     0.99887,     0.99887,     0.99887,     0.99887,     0.99887,\n",
       "            0.99887,     0.99887,     0.99887,     0.99887,     0.99887,     0.99887,     0.99887,     0.99887,     0.99887,     0.99887,     0.99887,     0.99887,     0.99887,     0.99887,     0.99887,     0.99887,     0.99887,     0.99887,     0.99887,     0.99887,     0.99887,     0.99887,     0.99887,\n",
       "            0.99869,     0.99869,     0.99869,     0.99869,     0.99869,     0.99869,     0.99869,     0.99869,     0.99853,     0.99853,     0.99853,     0.99853,     0.99853,     0.99853,     0.99853,     0.99853,     0.99853,     0.99853,     0.99853,     0.99853,     0.99853,     0.99853,     0.99853,\n",
       "            0.99853,     0.99853,     0.99853,     0.99835,     0.99835,     0.99835,     0.99799,     0.99799,     0.99781,      0.9969,           0]]), 'Recall', 'Precision'], [array([          0,    0.001001,    0.002002,    0.003003,    0.004004,    0.005005,    0.006006,    0.007007,    0.008008,    0.009009,     0.01001,    0.011011,    0.012012,    0.013013,    0.014014,    0.015015,    0.016016,    0.017017,    0.018018,    0.019019,     0.02002,    0.021021,    0.022022,    0.023023,\n",
       "          0.024024,    0.025025,    0.026026,    0.027027,    0.028028,    0.029029,     0.03003,    0.031031,    0.032032,    0.033033,    0.034034,    0.035035,    0.036036,    0.037037,    0.038038,    0.039039,     0.04004,    0.041041,    0.042042,    0.043043,    0.044044,    0.045045,    0.046046,    0.047047,\n",
       "          0.048048,    0.049049,     0.05005,    0.051051,    0.052052,    0.053053,    0.054054,    0.055055,    0.056056,    0.057057,    0.058058,    0.059059,     0.06006,    0.061061,    0.062062,    0.063063,    0.064064,    0.065065,    0.066066,    0.067067,    0.068068,    0.069069,     0.07007,    0.071071,\n",
       "          0.072072,    0.073073,    0.074074,    0.075075,    0.076076,    0.077077,    0.078078,    0.079079,     0.08008,    0.081081,    0.082082,    0.083083,    0.084084,    0.085085,    0.086086,    0.087087,    0.088088,    0.089089,     0.09009,    0.091091,    0.092092,    0.093093,    0.094094,    0.095095,\n",
       "          0.096096,    0.097097,    0.098098,    0.099099,      0.1001,      0.1011,      0.1021,      0.1031,      0.1041,     0.10511,     0.10611,     0.10711,     0.10811,     0.10911,     0.11011,     0.11111,     0.11211,     0.11311,     0.11411,     0.11512,     0.11612,     0.11712,     0.11812,     0.11912,\n",
       "           0.12012,     0.12112,     0.12212,     0.12312,     0.12412,     0.12513,     0.12613,     0.12713,     0.12813,     0.12913,     0.13013,     0.13113,     0.13213,     0.13313,     0.13413,     0.13514,     0.13614,     0.13714,     0.13814,     0.13914,     0.14014,     0.14114,     0.14214,     0.14314,\n",
       "           0.14414,     0.14515,     0.14615,     0.14715,     0.14815,     0.14915,     0.15015,     0.15115,     0.15215,     0.15315,     0.15415,     0.15516,     0.15616,     0.15716,     0.15816,     0.15916,     0.16016,     0.16116,     0.16216,     0.16316,     0.16416,     0.16517,     0.16617,     0.16717,\n",
       "           0.16817,     0.16917,     0.17017,     0.17117,     0.17217,     0.17317,     0.17417,     0.17518,     0.17618,     0.17718,     0.17818,     0.17918,     0.18018,     0.18118,     0.18218,     0.18318,     0.18418,     0.18519,     0.18619,     0.18719,     0.18819,     0.18919,     0.19019,     0.19119,\n",
       "           0.19219,     0.19319,     0.19419,      0.1952,      0.1962,      0.1972,      0.1982,      0.1992,      0.2002,      0.2012,      0.2022,      0.2032,      0.2042,     0.20521,     0.20621,     0.20721,     0.20821,     0.20921,     0.21021,     0.21121,     0.21221,     0.21321,     0.21421,     0.21522,\n",
       "           0.21622,     0.21722,     0.21822,     0.21922,     0.22022,     0.22122,     0.22222,     0.22322,     0.22422,     0.22523,     0.22623,     0.22723,     0.22823,     0.22923,     0.23023,     0.23123,     0.23223,     0.23323,     0.23423,     0.23524,     0.23624,     0.23724,     0.23824,     0.23924,\n",
       "           0.24024,     0.24124,     0.24224,     0.24324,     0.24424,     0.24525,     0.24625,     0.24725,     0.24825,     0.24925,     0.25025,     0.25125,     0.25225,     0.25325,     0.25425,     0.25526,     0.25626,     0.25726,     0.25826,     0.25926,     0.26026,     0.26126,     0.26226,     0.26326,\n",
       "           0.26426,     0.26527,     0.26627,     0.26727,     0.26827,     0.26927,     0.27027,     0.27127,     0.27227,     0.27327,     0.27427,     0.27528,     0.27628,     0.27728,     0.27828,     0.27928,     0.28028,     0.28128,     0.28228,     0.28328,     0.28428,     0.28529,     0.28629,     0.28729,\n",
       "           0.28829,     0.28929,     0.29029,     0.29129,     0.29229,     0.29329,     0.29429,      0.2953,      0.2963,      0.2973,      0.2983,      0.2993,      0.3003,      0.3013,      0.3023,      0.3033,      0.3043,     0.30531,     0.30631,     0.30731,     0.30831,     0.30931,     0.31031,     0.31131,\n",
       "           0.31231,     0.31331,     0.31431,     0.31532,     0.31632,     0.31732,     0.31832,     0.31932,     0.32032,     0.32132,     0.32232,     0.32332,     0.32432,     0.32533,     0.32633,     0.32733,     0.32833,     0.32933,     0.33033,     0.33133,     0.33233,     0.33333,     0.33433,     0.33534,\n",
       "           0.33634,     0.33734,     0.33834,     0.33934,     0.34034,     0.34134,     0.34234,     0.34334,     0.34434,     0.34535,     0.34635,     0.34735,     0.34835,     0.34935,     0.35035,     0.35135,     0.35235,     0.35335,     0.35435,     0.35536,     0.35636,     0.35736,     0.35836,     0.35936,\n",
       "           0.36036,     0.36136,     0.36236,     0.36336,     0.36436,     0.36537,     0.36637,     0.36737,     0.36837,     0.36937,     0.37037,     0.37137,     0.37237,     0.37337,     0.37437,     0.37538,     0.37638,     0.37738,     0.37838,     0.37938,     0.38038,     0.38138,     0.38238,     0.38338,\n",
       "           0.38438,     0.38539,     0.38639,     0.38739,     0.38839,     0.38939,     0.39039,     0.39139,     0.39239,     0.39339,     0.39439,      0.3954,      0.3964,      0.3974,      0.3984,      0.3994,      0.4004,      0.4014,      0.4024,      0.4034,      0.4044,     0.40541,     0.40641,     0.40741,\n",
       "           0.40841,     0.40941,     0.41041,     0.41141,     0.41241,     0.41341,     0.41441,     0.41542,     0.41642,     0.41742,     0.41842,     0.41942,     0.42042,     0.42142,     0.42242,     0.42342,     0.42442,     0.42543,     0.42643,     0.42743,     0.42843,     0.42943,     0.43043,     0.43143,\n",
       "           0.43243,     0.43343,     0.43443,     0.43544,     0.43644,     0.43744,     0.43844,     0.43944,     0.44044,     0.44144,     0.44244,     0.44344,     0.44444,     0.44545,     0.44645,     0.44745,     0.44845,     0.44945,     0.45045,     0.45145,     0.45245,     0.45345,     0.45445,     0.45546,\n",
       "           0.45646,     0.45746,     0.45846,     0.45946,     0.46046,     0.46146,     0.46246,     0.46346,     0.46446,     0.46547,     0.46647,     0.46747,     0.46847,     0.46947,     0.47047,     0.47147,     0.47247,     0.47347,     0.47447,     0.47548,     0.47648,     0.47748,     0.47848,     0.47948,\n",
       "           0.48048,     0.48148,     0.48248,     0.48348,     0.48448,     0.48549,     0.48649,     0.48749,     0.48849,     0.48949,     0.49049,     0.49149,     0.49249,     0.49349,     0.49449,      0.4955,      0.4965,      0.4975,      0.4985,      0.4995,      0.5005,      0.5015,      0.5025,      0.5035,\n",
       "            0.5045,     0.50551,     0.50651,     0.50751,     0.50851,     0.50951,     0.51051,     0.51151,     0.51251,     0.51351,     0.51451,     0.51552,     0.51652,     0.51752,     0.51852,     0.51952,     0.52052,     0.52152,     0.52252,     0.52352,     0.52452,     0.52553,     0.52653,     0.52753,\n",
       "           0.52853,     0.52953,     0.53053,     0.53153,     0.53253,     0.53353,     0.53453,     0.53554,     0.53654,     0.53754,     0.53854,     0.53954,     0.54054,     0.54154,     0.54254,     0.54354,     0.54454,     0.54555,     0.54655,     0.54755,     0.54855,     0.54955,     0.55055,     0.55155,\n",
       "           0.55255,     0.55355,     0.55455,     0.55556,     0.55656,     0.55756,     0.55856,     0.55956,     0.56056,     0.56156,     0.56256,     0.56356,     0.56456,     0.56557,     0.56657,     0.56757,     0.56857,     0.56957,     0.57057,     0.57157,     0.57257,     0.57357,     0.57457,     0.57558,\n",
       "           0.57658,     0.57758,     0.57858,     0.57958,     0.58058,     0.58158,     0.58258,     0.58358,     0.58458,     0.58559,     0.58659,     0.58759,     0.58859,     0.58959,     0.59059,     0.59159,     0.59259,     0.59359,     0.59459,      0.5956,      0.5966,      0.5976,      0.5986,      0.5996,\n",
       "            0.6006,      0.6016,      0.6026,      0.6036,      0.6046,     0.60561,     0.60661,     0.60761,     0.60861,     0.60961,     0.61061,     0.61161,     0.61261,     0.61361,     0.61461,     0.61562,     0.61662,     0.61762,     0.61862,     0.61962,     0.62062,     0.62162,     0.62262,     0.62362,\n",
       "           0.62462,     0.62563,     0.62663,     0.62763,     0.62863,     0.62963,     0.63063,     0.63163,     0.63263,     0.63363,     0.63463,     0.63564,     0.63664,     0.63764,     0.63864,     0.63964,     0.64064,     0.64164,     0.64264,     0.64364,     0.64464,     0.64565,     0.64665,     0.64765,\n",
       "           0.64865,     0.64965,     0.65065,     0.65165,     0.65265,     0.65365,     0.65465,     0.65566,     0.65666,     0.65766,     0.65866,     0.65966,     0.66066,     0.66166,     0.66266,     0.66366,     0.66466,     0.66567,     0.66667,     0.66767,     0.66867,     0.66967,     0.67067,     0.67167,\n",
       "           0.67267,     0.67367,     0.67467,     0.67568,     0.67668,     0.67768,     0.67868,     0.67968,     0.68068,     0.68168,     0.68268,     0.68368,     0.68468,     0.68569,     0.68669,     0.68769,     0.68869,     0.68969,     0.69069,     0.69169,     0.69269,     0.69369,     0.69469,      0.6957,\n",
       "            0.6967,      0.6977,      0.6987,      0.6997,      0.7007,      0.7017,      0.7027,      0.7037,      0.7047,     0.70571,     0.70671,     0.70771,     0.70871,     0.70971,     0.71071,     0.71171,     0.71271,     0.71371,     0.71471,     0.71572,     0.71672,     0.71772,     0.71872,     0.71972,\n",
       "           0.72072,     0.72172,     0.72272,     0.72372,     0.72472,     0.72573,     0.72673,     0.72773,     0.72873,     0.72973,     0.73073,     0.73173,     0.73273,     0.73373,     0.73473,     0.73574,     0.73674,     0.73774,     0.73874,     0.73974,     0.74074,     0.74174,     0.74274,     0.74374,\n",
       "           0.74474,     0.74575,     0.74675,     0.74775,     0.74875,     0.74975,     0.75075,     0.75175,     0.75275,     0.75375,     0.75475,     0.75576,     0.75676,     0.75776,     0.75876,     0.75976,     0.76076,     0.76176,     0.76276,     0.76376,     0.76476,     0.76577,     0.76677,     0.76777,\n",
       "           0.76877,     0.76977,     0.77077,     0.77177,     0.77277,     0.77377,     0.77477,     0.77578,     0.77678,     0.77778,     0.77878,     0.77978,     0.78078,     0.78178,     0.78278,     0.78378,     0.78478,     0.78579,     0.78679,     0.78779,     0.78879,     0.78979,     0.79079,     0.79179,\n",
       "           0.79279,     0.79379,     0.79479,      0.7958,      0.7968,      0.7978,      0.7988,      0.7998,      0.8008,      0.8018,      0.8028,      0.8038,      0.8048,     0.80581,     0.80681,     0.80781,     0.80881,     0.80981,     0.81081,     0.81181,     0.81281,     0.81381,     0.81481,     0.81582,\n",
       "           0.81682,     0.81782,     0.81882,     0.81982,     0.82082,     0.82182,     0.82282,     0.82382,     0.82482,     0.82583,     0.82683,     0.82783,     0.82883,     0.82983,     0.83083,     0.83183,     0.83283,     0.83383,     0.83483,     0.83584,     0.83684,     0.83784,     0.83884,     0.83984,\n",
       "           0.84084,     0.84184,     0.84284,     0.84384,     0.84484,     0.84585,     0.84685,     0.84785,     0.84885,     0.84985,     0.85085,     0.85185,     0.85285,     0.85385,     0.85485,     0.85586,     0.85686,     0.85786,     0.85886,     0.85986,     0.86086,     0.86186,     0.86286,     0.86386,\n",
       "           0.86486,     0.86587,     0.86687,     0.86787,     0.86887,     0.86987,     0.87087,     0.87187,     0.87287,     0.87387,     0.87487,     0.87588,     0.87688,     0.87788,     0.87888,     0.87988,     0.88088,     0.88188,     0.88288,     0.88388,     0.88488,     0.88589,     0.88689,     0.88789,\n",
       "           0.88889,     0.88989,     0.89089,     0.89189,     0.89289,     0.89389,     0.89489,      0.8959,      0.8969,      0.8979,      0.8989,      0.8999,      0.9009,      0.9019,      0.9029,      0.9039,      0.9049,     0.90591,     0.90691,     0.90791,     0.90891,     0.90991,     0.91091,     0.91191,\n",
       "           0.91291,     0.91391,     0.91491,     0.91592,     0.91692,     0.91792,     0.91892,     0.91992,     0.92092,     0.92192,     0.92292,     0.92392,     0.92492,     0.92593,     0.92693,     0.92793,     0.92893,     0.92993,     0.93093,     0.93193,     0.93293,     0.93393,     0.93493,     0.93594,\n",
       "           0.93694,     0.93794,     0.93894,     0.93994,     0.94094,     0.94194,     0.94294,     0.94394,     0.94494,     0.94595,     0.94695,     0.94795,     0.94895,     0.94995,     0.95095,     0.95195,     0.95295,     0.95395,     0.95495,     0.95596,     0.95696,     0.95796,     0.95896,     0.95996,\n",
       "           0.96096,     0.96196,     0.96296,     0.96396,     0.96496,     0.96597,     0.96697,     0.96797,     0.96897,     0.96997,     0.97097,     0.97197,     0.97297,     0.97397,     0.97497,     0.97598,     0.97698,     0.97798,     0.97898,     0.97998,     0.98098,     0.98198,     0.98298,     0.98398,\n",
       "           0.98498,     0.98599,     0.98699,     0.98799,     0.98899,     0.98999,     0.99099,     0.99199,     0.99299,     0.99399,     0.99499,       0.996,       0.997,       0.998,       0.999,           1]), array([[    0.93969,     0.93969,       0.962,     0.97183,     0.97651,     0.98035,     0.98239,     0.98339,     0.98434,     0.98579,     0.98665,     0.98729,       0.988,     0.98865,     0.98916,     0.98938,     0.98954,      0.9897,     0.98993,     0.99018,     0.99042,     0.99051,     0.99067,\n",
       "            0.99079,     0.99105,     0.99127,     0.99137,     0.99157,     0.99161,     0.99164,     0.99177,     0.99181,     0.99186,     0.99197,     0.99204,     0.99208,     0.99213,     0.99217,     0.99223,     0.99228,     0.99236,     0.99242,     0.99248,     0.99258,     0.99263,     0.99268,\n",
       "            0.99274,     0.99278,     0.99282,     0.99285,     0.99288,     0.99291,     0.99302,     0.99304,     0.99306,     0.99308,     0.99311,     0.99317,     0.99329,     0.99331,     0.99333,     0.99335,      0.9934,     0.99359,     0.99366,      0.9937,     0.99373,     0.99378,     0.99382,\n",
       "            0.99384,     0.99385,     0.99387,     0.99389,     0.99391,     0.99396,     0.99402,      0.9941,     0.99411,     0.99413,     0.99415,     0.99416,     0.99418,     0.99427,     0.99428,     0.99428,     0.99428,     0.99429,     0.99429,      0.9943,      0.9943,     0.99431,     0.99431,\n",
       "            0.99431,     0.99432,     0.99432,     0.99433,     0.99433,     0.99434,     0.99434,     0.99434,     0.99435,     0.99435,     0.99436,     0.99436,     0.99437,     0.99438,     0.99438,     0.99439,      0.9944,      0.9944,     0.99441,     0.99442,     0.99442,     0.99443,     0.99443,\n",
       "            0.99444,     0.99445,     0.99446,     0.99448,     0.99449,     0.99451,     0.99453,     0.99454,     0.99455,     0.99456,     0.99457,     0.99458,     0.99459,      0.9946,     0.99461,     0.99462,     0.99463,     0.99464,     0.99465,     0.99466,     0.99467,     0.99468,     0.99469,\n",
       "            0.99471,     0.99472,     0.99476,     0.99482,     0.99486,     0.99489,     0.99492,     0.99494,     0.99496,     0.99498,       0.995,     0.99507,      0.9951,     0.99512,     0.99514,     0.99515,     0.99517,      0.9952,     0.99524,     0.99527,     0.99528,     0.99529,      0.9953,\n",
       "            0.99531,     0.99532,     0.99534,     0.99535,     0.99536,     0.99536,     0.99537,     0.99537,     0.99538,     0.99538,     0.99539,     0.99539,      0.9954,      0.9954,     0.99541,     0.99541,     0.99542,     0.99542,     0.99543,     0.99543,     0.99544,     0.99544,     0.99554,\n",
       "            0.99557,      0.9956,     0.99563,     0.99563,     0.99563,     0.99564,     0.99564,     0.99564,     0.99565,     0.99565,     0.99565,     0.99566,     0.99566,     0.99566,     0.99567,     0.99567,     0.99568,     0.99568,     0.99568,     0.99569,     0.99569,     0.99569,      0.9957,\n",
       "             0.9957,      0.9957,     0.99571,     0.99571,     0.99571,     0.99572,     0.99572,     0.99573,     0.99574,     0.99575,     0.99577,     0.99578,     0.99579,      0.9958,     0.99582,     0.99584,     0.99585,     0.99587,     0.99589,      0.9959,     0.99591,     0.99591,     0.99591,\n",
       "            0.99592,     0.99592,     0.99593,     0.99593,     0.99593,     0.99594,     0.99594,     0.99595,     0.99595,     0.99595,     0.99596,     0.99596,     0.99597,     0.99597,     0.99597,     0.99598,     0.99598,     0.99599,     0.99599,     0.99603,     0.99608,     0.99609,     0.99609,\n",
       "            0.99609,     0.99609,      0.9961,      0.9961,      0.9961,     0.99611,     0.99611,     0.99611,     0.99612,     0.99612,     0.99612,     0.99613,     0.99613,     0.99613,     0.99614,     0.99614,     0.99614,     0.99615,     0.99615,     0.99615,     0.99616,     0.99616,     0.99616,\n",
       "            0.99617,     0.99617,     0.99617,     0.99621,     0.99625,     0.99628,      0.9963,     0.99632,     0.99635,      0.9964,     0.99654,     0.99655,     0.99656,     0.99657,     0.99658,     0.99659,     0.99661,     0.99662,     0.99663,     0.99664,     0.99665,     0.99666,     0.99667,\n",
       "            0.99668,     0.99669,      0.9967,     0.99672,     0.99672,     0.99673,     0.99674,     0.99675,     0.99675,     0.99676,     0.99677,     0.99677,     0.99678,     0.99679,      0.9968,      0.9968,     0.99684,      0.9969,      0.9969,     0.99691,     0.99691,     0.99692,     0.99692,\n",
       "            0.99692,     0.99693,     0.99693,     0.99693,     0.99694,     0.99694,     0.99695,     0.99695,     0.99695,     0.99696,     0.99696,     0.99697,     0.99697,     0.99697,     0.99698,     0.99698,     0.99698,     0.99699,       0.997,     0.99701,     0.99702,     0.99703,     0.99704,\n",
       "            0.99705,     0.99707,     0.99708,     0.99719,     0.99721,     0.99724,     0.99726,     0.99727,     0.99728,     0.99729,      0.9973,     0.99731,     0.99732,     0.99733,     0.99734,     0.99735,     0.99736,     0.99737,     0.99738,     0.99739,      0.9974,     0.99741,     0.99742,\n",
       "            0.99744,     0.99745,     0.99748,     0.99751,     0.99754,     0.99757,     0.99759,     0.99762,     0.99763,     0.99764,     0.99764,     0.99764,     0.99765,     0.99765,     0.99766,     0.99766,     0.99767,     0.99767,     0.99768,     0.99768,     0.99769,     0.99769,      0.9977,\n",
       "             0.9977,     0.99771,     0.99771,     0.99772,     0.99783,     0.99787,      0.9979,     0.99791,     0.99792,     0.99793,     0.99794,     0.99794,     0.99795,     0.99796,     0.99797,     0.99798,     0.99799,     0.99799,     0.99799,     0.99799,     0.99799,     0.99798,     0.99798,\n",
       "            0.99798,     0.99798,     0.99798,     0.99797,     0.99797,     0.99797,     0.99797,     0.99797,     0.99796,     0.99796,     0.99796,     0.99796,     0.99796,     0.99795,     0.99795,     0.99795,     0.99795,     0.99795,     0.99795,     0.99794,     0.99794,     0.99794,     0.99794,\n",
       "            0.99794,     0.99793,     0.99793,     0.99793,     0.99793,     0.99793,     0.99792,     0.99792,     0.99792,     0.99792,     0.99792,     0.99791,     0.99791,     0.99791,     0.99791,     0.99791,     0.99791,      0.9979,      0.9979,      0.9979,     0.99789,     0.99788,     0.99788,\n",
       "            0.99787,     0.99786,     0.99785,     0.99785,     0.99784,     0.99783,     0.99783,     0.99782,     0.99781,     0.99781,     0.99782,     0.99783,     0.99783,     0.99784,     0.99784,     0.99785,     0.99786,     0.99786,     0.99787,     0.99788,     0.99788,     0.99789,     0.99789,\n",
       "             0.9979,     0.99795,     0.99799,     0.99798,     0.99798,     0.99797,     0.99797,     0.99796,     0.99795,     0.99795,     0.99794,     0.99793,     0.99793,     0.99792,     0.99791,     0.99791,      0.9979,     0.99791,     0.99795,     0.99798,       0.998,     0.99802,     0.99804,\n",
       "            0.99806,     0.99808,     0.99809,      0.9981,     0.99812,     0.99813,     0.99814,     0.99816,     0.99817,     0.99815,     0.99811,     0.99808,     0.99809,      0.9981,     0.99811,     0.99811,     0.99812,     0.99813,     0.99814,     0.99815,     0.99816,     0.99817,     0.99808,\n",
       "            0.99805,     0.99803,     0.99801,       0.998,     0.99803,     0.99806,     0.99808,     0.99807,     0.99807,     0.99807,     0.99806,     0.99806,     0.99805,     0.99805,     0.99804,     0.99804,     0.99803,     0.99803,     0.99803,     0.99802,     0.99802,     0.99801,     0.99801,\n",
       "              0.998,       0.998,     0.99799,     0.99799,     0.99797,     0.99796,     0.99794,     0.99792,     0.99791,      0.9979,      0.9979,     0.99791,     0.99791,     0.99791,     0.99792,     0.99792,     0.99793,     0.99793,     0.99793,     0.99794,     0.99794,     0.99795,     0.99795,\n",
       "            0.99795,     0.99796,     0.99796,     0.99796,     0.99797,     0.99797,     0.99798,     0.99798,     0.99798,     0.99799,     0.99798,     0.99797,     0.99796,     0.99795,     0.99793,     0.99792,     0.99791,      0.9979,     0.99788,     0.99787,     0.99785,     0.99783,     0.99781,\n",
       "             0.9978,     0.99779,     0.99778,     0.99777,     0.99777,     0.99776,     0.99775,     0.99774,     0.99773,     0.99772,     0.99769,     0.99762,      0.9976,     0.99758,     0.99756,     0.99754,     0.99751,     0.99747,     0.99743,     0.99741,     0.99739,     0.99737,     0.99735,\n",
       "            0.99732,     0.99728,     0.99725,     0.99725,     0.99724,     0.99724,     0.99723,     0.99722,     0.99722,     0.99721,     0.99721,      0.9972,     0.99719,     0.99719,     0.99718,     0.99718,     0.99717,     0.99716,     0.99715,     0.99714,     0.99713,     0.99712,     0.99711,\n",
       "             0.9971,     0.99709,     0.99708,     0.99707,     0.99706,     0.99705,     0.99704,     0.99703,     0.99702,     0.99701,       0.997,     0.99699,     0.99698,     0.99699,       0.997,       0.997,     0.99701,     0.99702,     0.99703,     0.99704,     0.99704,     0.99705,     0.99706,\n",
       "            0.99707,     0.99707,     0.99706,     0.99705,     0.99704,     0.99704,     0.99703,     0.99702,     0.99702,     0.99701,       0.997,     0.99699,     0.99699,     0.99698,     0.99697,     0.99697,     0.99696,     0.99696,     0.99695,     0.99695,     0.99694,     0.99694,     0.99693,\n",
       "            0.99693,     0.99692,     0.99692,     0.99691,     0.99691,      0.9969,      0.9969,     0.99689,     0.99687,     0.99682,     0.99678,     0.99676,     0.99674,     0.99671,     0.99665,     0.99663,     0.99665,     0.99667,      0.9967,     0.99669,     0.99666,     0.99664,     0.99662,\n",
       "             0.9966,      0.9966,     0.99659,     0.99658,     0.99657,     0.99656,     0.99655,     0.99654,     0.99653,     0.99652,      0.9965,     0.99646,     0.99643,     0.99641,      0.9964,     0.99638,     0.99637,     0.99635,     0.99634,     0.99633,     0.99633,     0.99632,     0.99632,\n",
       "            0.99632,     0.99631,     0.99631,      0.9963,      0.9963,      0.9963,     0.99629,     0.99629,     0.99628,     0.99628,     0.99628,     0.99627,     0.99627,     0.99626,     0.99626,     0.99625,     0.99625,     0.99625,     0.99623,     0.99621,     0.99618,     0.99615,     0.99614,\n",
       "            0.99613,     0.99611,      0.9961,     0.99609,     0.99607,     0.99596,     0.99587,     0.99582,     0.99578,     0.99577,     0.99575,     0.99574,     0.99572,     0.99571,     0.99569,     0.99565,      0.9956,     0.99551,     0.99549,     0.99548,     0.99546,     0.99545,     0.99543,\n",
       "            0.99542,     0.99547,     0.99551,     0.99549,     0.99548,     0.99547,     0.99545,     0.99544,     0.99543,     0.99542,     0.99531,      0.9953,     0.99529,     0.99527,     0.99526,     0.99525,     0.99524,     0.99522,      0.9952,     0.99518,     0.99516,     0.99515,      0.9951,\n",
       "            0.99504,       0.995,     0.99496,     0.99485,     0.99482,     0.99479,     0.99474,     0.99462,     0.99457,     0.99456,     0.99454,     0.99452,     0.99451,     0.99449,     0.99445,      0.9944,     0.99431,     0.99428,     0.99426,     0.99424,     0.99419,     0.99406,     0.99399,\n",
       "            0.99392,     0.99386,     0.99383,      0.9938,     0.99377,      0.9936,     0.99345,     0.99339,     0.99323,     0.99318,     0.99315,     0.99312,     0.99298,     0.99292,     0.99283,     0.99281,     0.99278,     0.99276,     0.99274,     0.99267,     0.99258,     0.99248,     0.99225,\n",
       "            0.99217,     0.99216,     0.99214,     0.99212,      0.9921,     0.99207,     0.99203,       0.992,     0.99187,     0.99184,      0.9918,     0.99171,     0.99165,     0.99151,     0.99148,     0.99145,      0.9914,     0.99136,       0.991,     0.99086,      0.9908,     0.99076,     0.99073,\n",
       "             0.9907,     0.99061,     0.99046,     0.99042,     0.99032,     0.99017,     0.99009,     0.98985,     0.98979,     0.98965,     0.98946,     0.98927,     0.98914,     0.98889,      0.9888,     0.98875,     0.98848,     0.98834,     0.98828,       0.988,     0.98781,     0.98772,     0.98762,\n",
       "            0.98744,     0.98712,     0.98705,     0.98694,     0.98689,     0.98649,     0.98644,     0.98637,     0.98599,     0.98571,     0.98539,     0.98513,     0.98485,     0.98458,     0.98437,     0.98421,     0.98415,      0.9835,     0.98311,     0.98255,     0.98226,     0.98178,     0.98106,\n",
       "            0.98035,     0.97958,     0.97854,     0.97805,     0.97728,     0.97632,     0.97536,     0.97456,     0.97391,      0.9733,     0.97267,     0.97187,      0.9709,     0.96954,     0.96798,       0.967,     0.96514,     0.96367,     0.96277,      0.9606,     0.95822,     0.95623,     0.95353,\n",
       "            0.95142,     0.94829,     0.94606,     0.94229,       0.939,     0.93632,     0.93352,     0.92944,     0.92502,     0.92142,     0.91596,       0.911,     0.90566,      0.8996,     0.89167,     0.88364,     0.87526,     0.86074,     0.84434,      0.8295,     0.81183,     0.79495,     0.77566,\n",
       "            0.75631,     0.73092,     0.69738,     0.66349,     0.61983,     0.57489,     0.52055,     0.46067,     0.40315,     0.34242,     0.27581,     0.20154,     0.13884,    0.089433,    0.032716,    0.015927,   0.0094091,   0.0032133,   0.0021463,   0.0017176,           0,           0,           0,\n",
       "                  0,           0,           0,           0,           0,           0,           0,           0,           0,           0,           0]]), 'Confidence', 'F1'], [array([          0,    0.001001,    0.002002,    0.003003,    0.004004,    0.005005,    0.006006,    0.007007,    0.008008,    0.009009,     0.01001,    0.011011,    0.012012,    0.013013,    0.014014,    0.015015,    0.016016,    0.017017,    0.018018,    0.019019,     0.02002,    0.021021,    0.022022,    0.023023,\n",
       "          0.024024,    0.025025,    0.026026,    0.027027,    0.028028,    0.029029,     0.03003,    0.031031,    0.032032,    0.033033,    0.034034,    0.035035,    0.036036,    0.037037,    0.038038,    0.039039,     0.04004,    0.041041,    0.042042,    0.043043,    0.044044,    0.045045,    0.046046,    0.047047,\n",
       "          0.048048,    0.049049,     0.05005,    0.051051,    0.052052,    0.053053,    0.054054,    0.055055,    0.056056,    0.057057,    0.058058,    0.059059,     0.06006,    0.061061,    0.062062,    0.063063,    0.064064,    0.065065,    0.066066,    0.067067,    0.068068,    0.069069,     0.07007,    0.071071,\n",
       "          0.072072,    0.073073,    0.074074,    0.075075,    0.076076,    0.077077,    0.078078,    0.079079,     0.08008,    0.081081,    0.082082,    0.083083,    0.084084,    0.085085,    0.086086,    0.087087,    0.088088,    0.089089,     0.09009,    0.091091,    0.092092,    0.093093,    0.094094,    0.095095,\n",
       "          0.096096,    0.097097,    0.098098,    0.099099,      0.1001,      0.1011,      0.1021,      0.1031,      0.1041,     0.10511,     0.10611,     0.10711,     0.10811,     0.10911,     0.11011,     0.11111,     0.11211,     0.11311,     0.11411,     0.11512,     0.11612,     0.11712,     0.11812,     0.11912,\n",
       "           0.12012,     0.12112,     0.12212,     0.12312,     0.12412,     0.12513,     0.12613,     0.12713,     0.12813,     0.12913,     0.13013,     0.13113,     0.13213,     0.13313,     0.13413,     0.13514,     0.13614,     0.13714,     0.13814,     0.13914,     0.14014,     0.14114,     0.14214,     0.14314,\n",
       "           0.14414,     0.14515,     0.14615,     0.14715,     0.14815,     0.14915,     0.15015,     0.15115,     0.15215,     0.15315,     0.15415,     0.15516,     0.15616,     0.15716,     0.15816,     0.15916,     0.16016,     0.16116,     0.16216,     0.16316,     0.16416,     0.16517,     0.16617,     0.16717,\n",
       "           0.16817,     0.16917,     0.17017,     0.17117,     0.17217,     0.17317,     0.17417,     0.17518,     0.17618,     0.17718,     0.17818,     0.17918,     0.18018,     0.18118,     0.18218,     0.18318,     0.18418,     0.18519,     0.18619,     0.18719,     0.18819,     0.18919,     0.19019,     0.19119,\n",
       "           0.19219,     0.19319,     0.19419,      0.1952,      0.1962,      0.1972,      0.1982,      0.1992,      0.2002,      0.2012,      0.2022,      0.2032,      0.2042,     0.20521,     0.20621,     0.20721,     0.20821,     0.20921,     0.21021,     0.21121,     0.21221,     0.21321,     0.21421,     0.21522,\n",
       "           0.21622,     0.21722,     0.21822,     0.21922,     0.22022,     0.22122,     0.22222,     0.22322,     0.22422,     0.22523,     0.22623,     0.22723,     0.22823,     0.22923,     0.23023,     0.23123,     0.23223,     0.23323,     0.23423,     0.23524,     0.23624,     0.23724,     0.23824,     0.23924,\n",
       "           0.24024,     0.24124,     0.24224,     0.24324,     0.24424,     0.24525,     0.24625,     0.24725,     0.24825,     0.24925,     0.25025,     0.25125,     0.25225,     0.25325,     0.25425,     0.25526,     0.25626,     0.25726,     0.25826,     0.25926,     0.26026,     0.26126,     0.26226,     0.26326,\n",
       "           0.26426,     0.26527,     0.26627,     0.26727,     0.26827,     0.26927,     0.27027,     0.27127,     0.27227,     0.27327,     0.27427,     0.27528,     0.27628,     0.27728,     0.27828,     0.27928,     0.28028,     0.28128,     0.28228,     0.28328,     0.28428,     0.28529,     0.28629,     0.28729,\n",
       "           0.28829,     0.28929,     0.29029,     0.29129,     0.29229,     0.29329,     0.29429,      0.2953,      0.2963,      0.2973,      0.2983,      0.2993,      0.3003,      0.3013,      0.3023,      0.3033,      0.3043,     0.30531,     0.30631,     0.30731,     0.30831,     0.30931,     0.31031,     0.31131,\n",
       "           0.31231,     0.31331,     0.31431,     0.31532,     0.31632,     0.31732,     0.31832,     0.31932,     0.32032,     0.32132,     0.32232,     0.32332,     0.32432,     0.32533,     0.32633,     0.32733,     0.32833,     0.32933,     0.33033,     0.33133,     0.33233,     0.33333,     0.33433,     0.33534,\n",
       "           0.33634,     0.33734,     0.33834,     0.33934,     0.34034,     0.34134,     0.34234,     0.34334,     0.34434,     0.34535,     0.34635,     0.34735,     0.34835,     0.34935,     0.35035,     0.35135,     0.35235,     0.35335,     0.35435,     0.35536,     0.35636,     0.35736,     0.35836,     0.35936,\n",
       "           0.36036,     0.36136,     0.36236,     0.36336,     0.36436,     0.36537,     0.36637,     0.36737,     0.36837,     0.36937,     0.37037,     0.37137,     0.37237,     0.37337,     0.37437,     0.37538,     0.37638,     0.37738,     0.37838,     0.37938,     0.38038,     0.38138,     0.38238,     0.38338,\n",
       "           0.38438,     0.38539,     0.38639,     0.38739,     0.38839,     0.38939,     0.39039,     0.39139,     0.39239,     0.39339,     0.39439,      0.3954,      0.3964,      0.3974,      0.3984,      0.3994,      0.4004,      0.4014,      0.4024,      0.4034,      0.4044,     0.40541,     0.40641,     0.40741,\n",
       "           0.40841,     0.40941,     0.41041,     0.41141,     0.41241,     0.41341,     0.41441,     0.41542,     0.41642,     0.41742,     0.41842,     0.41942,     0.42042,     0.42142,     0.42242,     0.42342,     0.42442,     0.42543,     0.42643,     0.42743,     0.42843,     0.42943,     0.43043,     0.43143,\n",
       "           0.43243,     0.43343,     0.43443,     0.43544,     0.43644,     0.43744,     0.43844,     0.43944,     0.44044,     0.44144,     0.44244,     0.44344,     0.44444,     0.44545,     0.44645,     0.44745,     0.44845,     0.44945,     0.45045,     0.45145,     0.45245,     0.45345,     0.45445,     0.45546,\n",
       "           0.45646,     0.45746,     0.45846,     0.45946,     0.46046,     0.46146,     0.46246,     0.46346,     0.46446,     0.46547,     0.46647,     0.46747,     0.46847,     0.46947,     0.47047,     0.47147,     0.47247,     0.47347,     0.47447,     0.47548,     0.47648,     0.47748,     0.47848,     0.47948,\n",
       "           0.48048,     0.48148,     0.48248,     0.48348,     0.48448,     0.48549,     0.48649,     0.48749,     0.48849,     0.48949,     0.49049,     0.49149,     0.49249,     0.49349,     0.49449,      0.4955,      0.4965,      0.4975,      0.4985,      0.4995,      0.5005,      0.5015,      0.5025,      0.5035,\n",
       "            0.5045,     0.50551,     0.50651,     0.50751,     0.50851,     0.50951,     0.51051,     0.51151,     0.51251,     0.51351,     0.51451,     0.51552,     0.51652,     0.51752,     0.51852,     0.51952,     0.52052,     0.52152,     0.52252,     0.52352,     0.52452,     0.52553,     0.52653,     0.52753,\n",
       "           0.52853,     0.52953,     0.53053,     0.53153,     0.53253,     0.53353,     0.53453,     0.53554,     0.53654,     0.53754,     0.53854,     0.53954,     0.54054,     0.54154,     0.54254,     0.54354,     0.54454,     0.54555,     0.54655,     0.54755,     0.54855,     0.54955,     0.55055,     0.55155,\n",
       "           0.55255,     0.55355,     0.55455,     0.55556,     0.55656,     0.55756,     0.55856,     0.55956,     0.56056,     0.56156,     0.56256,     0.56356,     0.56456,     0.56557,     0.56657,     0.56757,     0.56857,     0.56957,     0.57057,     0.57157,     0.57257,     0.57357,     0.57457,     0.57558,\n",
       "           0.57658,     0.57758,     0.57858,     0.57958,     0.58058,     0.58158,     0.58258,     0.58358,     0.58458,     0.58559,     0.58659,     0.58759,     0.58859,     0.58959,     0.59059,     0.59159,     0.59259,     0.59359,     0.59459,      0.5956,      0.5966,      0.5976,      0.5986,      0.5996,\n",
       "            0.6006,      0.6016,      0.6026,      0.6036,      0.6046,     0.60561,     0.60661,     0.60761,     0.60861,     0.60961,     0.61061,     0.61161,     0.61261,     0.61361,     0.61461,     0.61562,     0.61662,     0.61762,     0.61862,     0.61962,     0.62062,     0.62162,     0.62262,     0.62362,\n",
       "           0.62462,     0.62563,     0.62663,     0.62763,     0.62863,     0.62963,     0.63063,     0.63163,     0.63263,     0.63363,     0.63463,     0.63564,     0.63664,     0.63764,     0.63864,     0.63964,     0.64064,     0.64164,     0.64264,     0.64364,     0.64464,     0.64565,     0.64665,     0.64765,\n",
       "           0.64865,     0.64965,     0.65065,     0.65165,     0.65265,     0.65365,     0.65465,     0.65566,     0.65666,     0.65766,     0.65866,     0.65966,     0.66066,     0.66166,     0.66266,     0.66366,     0.66466,     0.66567,     0.66667,     0.66767,     0.66867,     0.66967,     0.67067,     0.67167,\n",
       "           0.67267,     0.67367,     0.67467,     0.67568,     0.67668,     0.67768,     0.67868,     0.67968,     0.68068,     0.68168,     0.68268,     0.68368,     0.68468,     0.68569,     0.68669,     0.68769,     0.68869,     0.68969,     0.69069,     0.69169,     0.69269,     0.69369,     0.69469,      0.6957,\n",
       "            0.6967,      0.6977,      0.6987,      0.6997,      0.7007,      0.7017,      0.7027,      0.7037,      0.7047,     0.70571,     0.70671,     0.70771,     0.70871,     0.70971,     0.71071,     0.71171,     0.71271,     0.71371,     0.71471,     0.71572,     0.71672,     0.71772,     0.71872,     0.71972,\n",
       "           0.72072,     0.72172,     0.72272,     0.72372,     0.72472,     0.72573,     0.72673,     0.72773,     0.72873,     0.72973,     0.73073,     0.73173,     0.73273,     0.73373,     0.73473,     0.73574,     0.73674,     0.73774,     0.73874,     0.73974,     0.74074,     0.74174,     0.74274,     0.74374,\n",
       "           0.74474,     0.74575,     0.74675,     0.74775,     0.74875,     0.74975,     0.75075,     0.75175,     0.75275,     0.75375,     0.75475,     0.75576,     0.75676,     0.75776,     0.75876,     0.75976,     0.76076,     0.76176,     0.76276,     0.76376,     0.76476,     0.76577,     0.76677,     0.76777,\n",
       "           0.76877,     0.76977,     0.77077,     0.77177,     0.77277,     0.77377,     0.77477,     0.77578,     0.77678,     0.77778,     0.77878,     0.77978,     0.78078,     0.78178,     0.78278,     0.78378,     0.78478,     0.78579,     0.78679,     0.78779,     0.78879,     0.78979,     0.79079,     0.79179,\n",
       "           0.79279,     0.79379,     0.79479,      0.7958,      0.7968,      0.7978,      0.7988,      0.7998,      0.8008,      0.8018,      0.8028,      0.8038,      0.8048,     0.80581,     0.80681,     0.80781,     0.80881,     0.80981,     0.81081,     0.81181,     0.81281,     0.81381,     0.81481,     0.81582,\n",
       "           0.81682,     0.81782,     0.81882,     0.81982,     0.82082,     0.82182,     0.82282,     0.82382,     0.82482,     0.82583,     0.82683,     0.82783,     0.82883,     0.82983,     0.83083,     0.83183,     0.83283,     0.83383,     0.83483,     0.83584,     0.83684,     0.83784,     0.83884,     0.83984,\n",
       "           0.84084,     0.84184,     0.84284,     0.84384,     0.84484,     0.84585,     0.84685,     0.84785,     0.84885,     0.84985,     0.85085,     0.85185,     0.85285,     0.85385,     0.85485,     0.85586,     0.85686,     0.85786,     0.85886,     0.85986,     0.86086,     0.86186,     0.86286,     0.86386,\n",
       "           0.86486,     0.86587,     0.86687,     0.86787,     0.86887,     0.86987,     0.87087,     0.87187,     0.87287,     0.87387,     0.87487,     0.87588,     0.87688,     0.87788,     0.87888,     0.87988,     0.88088,     0.88188,     0.88288,     0.88388,     0.88488,     0.88589,     0.88689,     0.88789,\n",
       "           0.88889,     0.88989,     0.89089,     0.89189,     0.89289,     0.89389,     0.89489,      0.8959,      0.8969,      0.8979,      0.8989,      0.8999,      0.9009,      0.9019,      0.9029,      0.9039,      0.9049,     0.90591,     0.90691,     0.90791,     0.90891,     0.90991,     0.91091,     0.91191,\n",
       "           0.91291,     0.91391,     0.91491,     0.91592,     0.91692,     0.91792,     0.91892,     0.91992,     0.92092,     0.92192,     0.92292,     0.92392,     0.92492,     0.92593,     0.92693,     0.92793,     0.92893,     0.92993,     0.93093,     0.93193,     0.93293,     0.93393,     0.93493,     0.93594,\n",
       "           0.93694,     0.93794,     0.93894,     0.93994,     0.94094,     0.94194,     0.94294,     0.94394,     0.94494,     0.94595,     0.94695,     0.94795,     0.94895,     0.94995,     0.95095,     0.95195,     0.95295,     0.95395,     0.95495,     0.95596,     0.95696,     0.95796,     0.95896,     0.95996,\n",
       "           0.96096,     0.96196,     0.96296,     0.96396,     0.96496,     0.96597,     0.96697,     0.96797,     0.96897,     0.96997,     0.97097,     0.97197,     0.97297,     0.97397,     0.97497,     0.97598,     0.97698,     0.97798,     0.97898,     0.97998,     0.98098,     0.98198,     0.98298,     0.98398,\n",
       "           0.98498,     0.98599,     0.98699,     0.98799,     0.98899,     0.98999,     0.99099,     0.99199,     0.99299,     0.99399,     0.99499,       0.996,       0.997,       0.998,       0.999,           1]), array([[    0.88624,     0.88624,     0.92678,      0.9452,     0.95443,      0.9618,     0.96573,     0.96767,      0.9695,     0.97233,     0.97399,     0.97524,     0.97663,      0.9779,      0.9789,     0.97933,     0.97965,     0.97996,     0.98042,     0.98089,     0.98137,     0.98156,     0.98186,\n",
       "            0.98227,     0.98279,     0.98321,     0.98343,     0.98381,     0.98388,     0.98395,      0.9842,     0.98428,     0.98438,     0.98459,     0.98473,     0.98482,     0.98491,       0.985,      0.9851,     0.98521,     0.98538,     0.98549,      0.9856,     0.98579,     0.98589,       0.986,\n",
       "            0.98611,     0.98619,     0.98627,     0.98633,      0.9864,     0.98646,     0.98667,     0.98671,     0.98675,     0.98679,     0.98685,     0.98697,      0.9872,     0.98724,     0.98729,     0.98733,     0.98743,      0.9878,     0.98794,     0.98801,     0.98808,     0.98816,     0.98825,\n",
       "            0.98828,     0.98832,     0.98835,     0.98839,     0.98842,     0.98852,     0.98865,      0.9888,     0.98883,     0.98887,      0.9889,     0.98893,     0.98897,     0.98915,     0.98915,     0.98916,     0.98917,     0.98918,     0.98919,      0.9892,      0.9892,     0.98921,     0.98922,\n",
       "            0.98923,     0.98924,     0.98925,     0.98926,     0.98926,     0.98927,     0.98928,     0.98929,      0.9893,     0.98931,     0.98931,     0.98932,     0.98934,     0.98935,     0.98936,     0.98938,     0.98939,      0.9894,     0.98942,     0.98943,     0.98944,     0.98946,     0.98947,\n",
       "            0.98948,     0.98949,     0.98952,     0.98955,     0.98958,     0.98961,     0.98965,     0.98968,      0.9897,     0.98972,     0.98974,     0.98976,     0.98977,     0.98979,     0.98981,     0.98983,     0.98985,     0.98987,     0.98989,     0.98992,     0.98994,     0.98996,     0.98998,\n",
       "               0.99,     0.99003,     0.99011,     0.99024,     0.99031,     0.99038,     0.99042,     0.99046,      0.9905,     0.99054,     0.99059,     0.99073,     0.99079,     0.99082,     0.99086,     0.99089,     0.99093,     0.99099,     0.99105,     0.99112,     0.99114,     0.99116,     0.99118,\n",
       "            0.99121,     0.99123,     0.99125,     0.99128,      0.9913,     0.99131,     0.99132,     0.99133,     0.99134,     0.99135,     0.99136,     0.99137,     0.99138,     0.99139,      0.9914,     0.99141,     0.99142,     0.99143,     0.99144,     0.99145,     0.99146,     0.99147,     0.99167,\n",
       "            0.99172,     0.99177,     0.99183,     0.99184,     0.99185,     0.99185,     0.99186,     0.99187,     0.99187,     0.99188,     0.99189,     0.99189,      0.9919,     0.99191,     0.99191,     0.99192,     0.99193,     0.99193,     0.99194,     0.99195,     0.99195,     0.99196,     0.99197,\n",
       "            0.99197,     0.99198,     0.99199,     0.99199,       0.992,     0.99201,     0.99201,     0.99204,     0.99206,     0.99208,     0.99211,     0.99213,     0.99216,     0.99218,     0.99221,     0.99225,     0.99228,     0.99231,     0.99235,     0.99238,     0.99238,     0.99239,      0.9924,\n",
       "            0.99241,     0.99242,     0.99242,     0.99243,     0.99244,     0.99245,     0.99246,     0.99246,     0.99247,     0.99248,     0.99249,      0.9925,      0.9925,     0.99251,     0.99252,     0.99253,     0.99254,     0.99254,     0.99255,     0.99262,     0.99274,     0.99274,     0.99275,\n",
       "            0.99275,     0.99276,     0.99277,     0.99277,     0.99278,     0.99279,     0.99279,      0.9928,     0.99281,     0.99281,     0.99282,     0.99283,     0.99283,     0.99284,     0.99284,     0.99285,     0.99286,     0.99286,     0.99287,     0.99288,     0.99288,     0.99289,      0.9929,\n",
       "             0.9929,     0.99291,     0.99292,     0.99299,     0.99308,     0.99313,     0.99317,     0.99322,     0.99326,     0.99337,     0.99364,     0.99366,     0.99369,     0.99371,     0.99373,     0.99375,     0.99378,      0.9938,     0.99382,     0.99384,     0.99386,     0.99389,     0.99391,\n",
       "            0.99393,     0.99395,     0.99397,     0.99399,     0.99401,     0.99403,     0.99404,     0.99405,     0.99407,     0.99408,      0.9941,     0.99411,     0.99413,     0.99414,     0.99416,     0.99417,     0.99424,     0.99436,     0.99437,     0.99438,     0.99438,     0.99439,      0.9944,\n",
       "            0.99441,     0.99442,     0.99442,     0.99443,     0.99444,     0.99445,     0.99445,     0.99446,     0.99447,     0.99448,     0.99448,     0.99449,      0.9945,     0.99451,     0.99451,     0.99452,     0.99453,     0.99454,     0.99455,     0.99458,      0.9946,     0.99462,     0.99465,\n",
       "            0.99467,     0.99469,     0.99472,     0.99494,     0.99499,     0.99504,     0.99509,     0.99511,     0.99513,     0.99515,     0.99517,     0.99519,     0.99521,     0.99523,     0.99525,     0.99527,     0.99529,     0.99531,     0.99533,     0.99535,     0.99537,     0.99539,     0.99541,\n",
       "            0.99543,     0.99545,     0.99551,     0.99558,     0.99564,     0.99569,     0.99574,     0.99579,     0.99582,     0.99583,     0.99584,     0.99584,     0.99585,     0.99586,     0.99587,     0.99588,     0.99589,      0.9959,     0.99591,     0.99592,     0.99593,     0.99594,     0.99595,\n",
       "            0.99596,     0.99597,     0.99598,     0.99599,     0.99621,      0.9963,     0.99636,     0.99638,     0.99639,     0.99641,     0.99643,     0.99644,     0.99646,     0.99647,     0.99649,     0.99651,     0.99652,     0.99654,     0.99654,     0.99654,     0.99654,     0.99654,     0.99654,\n",
       "            0.99654,     0.99654,     0.99654,     0.99654,     0.99654,     0.99654,     0.99654,     0.99654,     0.99654,     0.99654,     0.99654,     0.99654,     0.99654,     0.99654,     0.99654,     0.99654,     0.99654,     0.99654,     0.99654,     0.99654,     0.99654,     0.99654,     0.99654,\n",
       "            0.99654,     0.99654,     0.99654,     0.99654,     0.99654,     0.99654,     0.99654,     0.99654,     0.99654,     0.99654,     0.99654,     0.99654,     0.99654,     0.99654,     0.99654,     0.99654,     0.99654,     0.99654,     0.99654,     0.99654,     0.99654,     0.99654,     0.99654,\n",
       "            0.99654,     0.99654,     0.99654,     0.99654,     0.99653,     0.99653,     0.99653,     0.99653,     0.99653,     0.99654,     0.99656,     0.99657,     0.99658,     0.99659,     0.99661,     0.99662,     0.99663,     0.99664,     0.99666,     0.99667,     0.99668,     0.99669,     0.99671,\n",
       "            0.99672,     0.99682,      0.9969,      0.9969,      0.9969,      0.9969,      0.9969,      0.9969,      0.9969,      0.9969,      0.9969,      0.9969,      0.9969,      0.9969,      0.9969,      0.9969,      0.9969,     0.99693,     0.99699,     0.99705,      0.9971,     0.99714,     0.99718,\n",
       "            0.99721,     0.99725,     0.99728,     0.99731,     0.99733,     0.99736,     0.99739,     0.99741,     0.99744,     0.99744,     0.99744,     0.99744,     0.99746,     0.99748,     0.99749,     0.99751,     0.99753,     0.99754,     0.99756,     0.99758,      0.9976,     0.99761,     0.99763,\n",
       "            0.99763,     0.99762,     0.99762,     0.99764,     0.99771,     0.99777,     0.99781,     0.99781,     0.99781,     0.99781,     0.99781,     0.99781,     0.99781,     0.99781,     0.99781,     0.99781,     0.99781,     0.99781,     0.99781,     0.99781,     0.99781,     0.99781,     0.99781,\n",
       "            0.99781,     0.99781,     0.99781,     0.99781,     0.99781,     0.99781,     0.99781,     0.99781,     0.99781,     0.99781,     0.99782,     0.99783,     0.99783,     0.99784,     0.99785,     0.99786,     0.99786,     0.99787,     0.99788,     0.99789,     0.99789,      0.9979,     0.99791,\n",
       "            0.99792,     0.99792,     0.99793,     0.99794,     0.99795,     0.99796,     0.99796,     0.99797,     0.99798,     0.99799,     0.99799,     0.99799,     0.99799,     0.99799,     0.99799,     0.99799,     0.99799,     0.99799,     0.99799,     0.99799,     0.99799,     0.99799,     0.99799,\n",
       "            0.99799,     0.99799,     0.99799,     0.99799,     0.99799,     0.99799,     0.99799,     0.99799,     0.99799,     0.99799,     0.99799,     0.99799,     0.99799,     0.99799,     0.99799,     0.99799,     0.99799,     0.99799,     0.99799,     0.99799,     0.99799,     0.99799,     0.99799,\n",
       "            0.99799,     0.99799,     0.99799,     0.99799,     0.99799,     0.99799,     0.99799,     0.99799,     0.99799,     0.99799,     0.99799,     0.99799,     0.99799,     0.99799,     0.99799,     0.99799,     0.99799,     0.99799,     0.99799,     0.99799,     0.99799,     0.99799,     0.99799,\n",
       "            0.99799,     0.99799,     0.99798,     0.99798,     0.99798,     0.99798,     0.99798,     0.99798,     0.99798,     0.99798,     0.99798,     0.99798,     0.99798,       0.998,     0.99802,     0.99803,     0.99805,     0.99806,     0.99808,      0.9981,     0.99811,     0.99813,     0.99815,\n",
       "            0.99816,     0.99817,     0.99817,     0.99817,     0.99817,     0.99817,     0.99817,     0.99817,     0.99817,     0.99817,     0.99817,     0.99817,     0.99817,     0.99817,     0.99817,     0.99817,     0.99817,     0.99817,     0.99817,     0.99817,     0.99817,     0.99817,     0.99817,\n",
       "            0.99817,     0.99817,     0.99817,     0.99817,     0.99817,     0.99817,     0.99817,     0.99817,     0.99817,     0.99817,     0.99817,     0.99817,     0.99817,     0.99817,     0.99817,      0.9982,     0.99824,     0.99829,     0.99834,     0.99835,     0.99835,     0.99835,     0.99835,\n",
       "            0.99835,     0.99835,     0.99835,     0.99835,     0.99835,     0.99835,     0.99835,     0.99835,     0.99835,     0.99835,     0.99835,     0.99835,     0.99835,     0.99835,     0.99835,     0.99835,     0.99835,     0.99835,     0.99835,     0.99835,     0.99835,     0.99835,     0.99835,\n",
       "            0.99835,     0.99835,     0.99835,     0.99835,     0.99835,     0.99835,     0.99835,     0.99835,     0.99835,     0.99835,     0.99835,     0.99835,     0.99835,     0.99835,     0.99835,     0.99835,     0.99835,     0.99835,     0.99835,     0.99835,     0.99835,     0.99835,     0.99835,\n",
       "            0.99835,     0.99835,     0.99835,     0.99835,     0.99835,     0.99835,     0.99835,     0.99835,     0.99835,     0.99835,     0.99835,     0.99835,     0.99835,     0.99835,     0.99835,     0.99835,     0.99835,     0.99835,     0.99834,     0.99834,     0.99834,     0.99834,     0.99834,\n",
       "            0.99835,     0.99845,     0.99853,     0.99853,     0.99853,     0.99853,     0.99853,     0.99853,     0.99853,     0.99853,     0.99853,     0.99853,     0.99853,     0.99853,     0.99853,     0.99853,     0.99853,     0.99853,     0.99853,     0.99853,     0.99853,     0.99853,     0.99853,\n",
       "            0.99853,     0.99853,     0.99853,     0.99853,     0.99853,     0.99853,     0.99853,     0.99853,     0.99853,     0.99853,     0.99853,     0.99853,     0.99853,     0.99853,     0.99853,     0.99853,     0.99852,     0.99852,     0.99852,     0.99852,     0.99852,     0.99852,     0.99852,\n",
       "            0.99852,     0.99852,     0.99852,     0.99852,     0.99852,     0.99852,     0.99852,     0.99852,     0.99852,     0.99852,     0.99852,     0.99852,     0.99852,     0.99852,     0.99852,     0.99852,     0.99852,     0.99852,     0.99852,     0.99852,     0.99852,     0.99852,     0.99852,\n",
       "            0.99852,     0.99852,     0.99852,     0.99852,     0.99852,     0.99852,     0.99852,     0.99852,     0.99852,     0.99852,     0.99852,     0.99852,     0.99852,     0.99852,     0.99852,     0.99852,     0.99852,     0.99852,     0.99852,     0.99851,     0.99851,     0.99851,     0.99851,\n",
       "            0.99851,     0.99851,     0.99851,     0.99851,     0.99851,     0.99851,     0.99851,     0.99851,     0.99851,     0.99851,     0.99851,     0.99851,     0.99851,     0.99851,     0.99851,     0.99851,     0.99851,     0.99851,     0.99851,     0.99851,     0.99851,     0.99851,      0.9985,\n",
       "             0.9985,      0.9985,      0.9985,      0.9985,      0.9985,      0.9985,      0.9985,     0.99869,     0.99869,     0.99869,     0.99869,     0.99868,     0.99868,     0.99868,     0.99868,     0.99868,     0.99868,     0.99868,     0.99868,     0.99868,     0.99887,     0.99886,     0.99886,\n",
       "            0.99886,     0.99886,     0.99886,     0.99886,     0.99885,     0.99885,     0.99885,     0.99885,     0.99885,     0.99885,     0.99884,     0.99884,     0.99884,     0.99884,     0.99883,     0.99883,     0.99883,     0.99882,     0.99902,     0.99901,     0.99901,       0.999,       0.999,\n",
       "            0.99899,     0.99899,     0.99898,     0.99898,     0.99897,     0.99896,     0.99896,     0.99895,     0.99894,     0.99893,     0.99892,     0.99891,      0.9989,     0.99888,     0.99909,     0.99908,     0.99906,     0.99903,     0.99925,     0.99923,      0.9992,     0.99917,     0.99914,\n",
       "             0.9991,     0.99905,     0.99898,      0.9989,     0.99878,     0.99864,     0.99844,     0.99878,     0.99855,     0.99823,     0.99772,     0.99675,     0.99756,           1,           1,           1,           1,           1,           1,           1,           1,           1,           1,\n",
       "                  1,           1,           1,           1,           1,           1,           1,           1,           1,           1,           1]]), 'Confidence', 'Precision'], [array([          0,    0.001001,    0.002002,    0.003003,    0.004004,    0.005005,    0.006006,    0.007007,    0.008008,    0.009009,     0.01001,    0.011011,    0.012012,    0.013013,    0.014014,    0.015015,    0.016016,    0.017017,    0.018018,    0.019019,     0.02002,    0.021021,    0.022022,    0.023023,\n",
       "          0.024024,    0.025025,    0.026026,    0.027027,    0.028028,    0.029029,     0.03003,    0.031031,    0.032032,    0.033033,    0.034034,    0.035035,    0.036036,    0.037037,    0.038038,    0.039039,     0.04004,    0.041041,    0.042042,    0.043043,    0.044044,    0.045045,    0.046046,    0.047047,\n",
       "          0.048048,    0.049049,     0.05005,    0.051051,    0.052052,    0.053053,    0.054054,    0.055055,    0.056056,    0.057057,    0.058058,    0.059059,     0.06006,    0.061061,    0.062062,    0.063063,    0.064064,    0.065065,    0.066066,    0.067067,    0.068068,    0.069069,     0.07007,    0.071071,\n",
       "          0.072072,    0.073073,    0.074074,    0.075075,    0.076076,    0.077077,    0.078078,    0.079079,     0.08008,    0.081081,    0.082082,    0.083083,    0.084084,    0.085085,    0.086086,    0.087087,    0.088088,    0.089089,     0.09009,    0.091091,    0.092092,    0.093093,    0.094094,    0.095095,\n",
       "          0.096096,    0.097097,    0.098098,    0.099099,      0.1001,      0.1011,      0.1021,      0.1031,      0.1041,     0.10511,     0.10611,     0.10711,     0.10811,     0.10911,     0.11011,     0.11111,     0.11211,     0.11311,     0.11411,     0.11512,     0.11612,     0.11712,     0.11812,     0.11912,\n",
       "           0.12012,     0.12112,     0.12212,     0.12312,     0.12412,     0.12513,     0.12613,     0.12713,     0.12813,     0.12913,     0.13013,     0.13113,     0.13213,     0.13313,     0.13413,     0.13514,     0.13614,     0.13714,     0.13814,     0.13914,     0.14014,     0.14114,     0.14214,     0.14314,\n",
       "           0.14414,     0.14515,     0.14615,     0.14715,     0.14815,     0.14915,     0.15015,     0.15115,     0.15215,     0.15315,     0.15415,     0.15516,     0.15616,     0.15716,     0.15816,     0.15916,     0.16016,     0.16116,     0.16216,     0.16316,     0.16416,     0.16517,     0.16617,     0.16717,\n",
       "           0.16817,     0.16917,     0.17017,     0.17117,     0.17217,     0.17317,     0.17417,     0.17518,     0.17618,     0.17718,     0.17818,     0.17918,     0.18018,     0.18118,     0.18218,     0.18318,     0.18418,     0.18519,     0.18619,     0.18719,     0.18819,     0.18919,     0.19019,     0.19119,\n",
       "           0.19219,     0.19319,     0.19419,      0.1952,      0.1962,      0.1972,      0.1982,      0.1992,      0.2002,      0.2012,      0.2022,      0.2032,      0.2042,     0.20521,     0.20621,     0.20721,     0.20821,     0.20921,     0.21021,     0.21121,     0.21221,     0.21321,     0.21421,     0.21522,\n",
       "           0.21622,     0.21722,     0.21822,     0.21922,     0.22022,     0.22122,     0.22222,     0.22322,     0.22422,     0.22523,     0.22623,     0.22723,     0.22823,     0.22923,     0.23023,     0.23123,     0.23223,     0.23323,     0.23423,     0.23524,     0.23624,     0.23724,     0.23824,     0.23924,\n",
       "           0.24024,     0.24124,     0.24224,     0.24324,     0.24424,     0.24525,     0.24625,     0.24725,     0.24825,     0.24925,     0.25025,     0.25125,     0.25225,     0.25325,     0.25425,     0.25526,     0.25626,     0.25726,     0.25826,     0.25926,     0.26026,     0.26126,     0.26226,     0.26326,\n",
       "           0.26426,     0.26527,     0.26627,     0.26727,     0.26827,     0.26927,     0.27027,     0.27127,     0.27227,     0.27327,     0.27427,     0.27528,     0.27628,     0.27728,     0.27828,     0.27928,     0.28028,     0.28128,     0.28228,     0.28328,     0.28428,     0.28529,     0.28629,     0.28729,\n",
       "           0.28829,     0.28929,     0.29029,     0.29129,     0.29229,     0.29329,     0.29429,      0.2953,      0.2963,      0.2973,      0.2983,      0.2993,      0.3003,      0.3013,      0.3023,      0.3033,      0.3043,     0.30531,     0.30631,     0.30731,     0.30831,     0.30931,     0.31031,     0.31131,\n",
       "           0.31231,     0.31331,     0.31431,     0.31532,     0.31632,     0.31732,     0.31832,     0.31932,     0.32032,     0.32132,     0.32232,     0.32332,     0.32432,     0.32533,     0.32633,     0.32733,     0.32833,     0.32933,     0.33033,     0.33133,     0.33233,     0.33333,     0.33433,     0.33534,\n",
       "           0.33634,     0.33734,     0.33834,     0.33934,     0.34034,     0.34134,     0.34234,     0.34334,     0.34434,     0.34535,     0.34635,     0.34735,     0.34835,     0.34935,     0.35035,     0.35135,     0.35235,     0.35335,     0.35435,     0.35536,     0.35636,     0.35736,     0.35836,     0.35936,\n",
       "           0.36036,     0.36136,     0.36236,     0.36336,     0.36436,     0.36537,     0.36637,     0.36737,     0.36837,     0.36937,     0.37037,     0.37137,     0.37237,     0.37337,     0.37437,     0.37538,     0.37638,     0.37738,     0.37838,     0.37938,     0.38038,     0.38138,     0.38238,     0.38338,\n",
       "           0.38438,     0.38539,     0.38639,     0.38739,     0.38839,     0.38939,     0.39039,     0.39139,     0.39239,     0.39339,     0.39439,      0.3954,      0.3964,      0.3974,      0.3984,      0.3994,      0.4004,      0.4014,      0.4024,      0.4034,      0.4044,     0.40541,     0.40641,     0.40741,\n",
       "           0.40841,     0.40941,     0.41041,     0.41141,     0.41241,     0.41341,     0.41441,     0.41542,     0.41642,     0.41742,     0.41842,     0.41942,     0.42042,     0.42142,     0.42242,     0.42342,     0.42442,     0.42543,     0.42643,     0.42743,     0.42843,     0.42943,     0.43043,     0.43143,\n",
       "           0.43243,     0.43343,     0.43443,     0.43544,     0.43644,     0.43744,     0.43844,     0.43944,     0.44044,     0.44144,     0.44244,     0.44344,     0.44444,     0.44545,     0.44645,     0.44745,     0.44845,     0.44945,     0.45045,     0.45145,     0.45245,     0.45345,     0.45445,     0.45546,\n",
       "           0.45646,     0.45746,     0.45846,     0.45946,     0.46046,     0.46146,     0.46246,     0.46346,     0.46446,     0.46547,     0.46647,     0.46747,     0.46847,     0.46947,     0.47047,     0.47147,     0.47247,     0.47347,     0.47447,     0.47548,     0.47648,     0.47748,     0.47848,     0.47948,\n",
       "           0.48048,     0.48148,     0.48248,     0.48348,     0.48448,     0.48549,     0.48649,     0.48749,     0.48849,     0.48949,     0.49049,     0.49149,     0.49249,     0.49349,     0.49449,      0.4955,      0.4965,      0.4975,      0.4985,      0.4995,      0.5005,      0.5015,      0.5025,      0.5035,\n",
       "            0.5045,     0.50551,     0.50651,     0.50751,     0.50851,     0.50951,     0.51051,     0.51151,     0.51251,     0.51351,     0.51451,     0.51552,     0.51652,     0.51752,     0.51852,     0.51952,     0.52052,     0.52152,     0.52252,     0.52352,     0.52452,     0.52553,     0.52653,     0.52753,\n",
       "           0.52853,     0.52953,     0.53053,     0.53153,     0.53253,     0.53353,     0.53453,     0.53554,     0.53654,     0.53754,     0.53854,     0.53954,     0.54054,     0.54154,     0.54254,     0.54354,     0.54454,     0.54555,     0.54655,     0.54755,     0.54855,     0.54955,     0.55055,     0.55155,\n",
       "           0.55255,     0.55355,     0.55455,     0.55556,     0.55656,     0.55756,     0.55856,     0.55956,     0.56056,     0.56156,     0.56256,     0.56356,     0.56456,     0.56557,     0.56657,     0.56757,     0.56857,     0.56957,     0.57057,     0.57157,     0.57257,     0.57357,     0.57457,     0.57558,\n",
       "           0.57658,     0.57758,     0.57858,     0.57958,     0.58058,     0.58158,     0.58258,     0.58358,     0.58458,     0.58559,     0.58659,     0.58759,     0.58859,     0.58959,     0.59059,     0.59159,     0.59259,     0.59359,     0.59459,      0.5956,      0.5966,      0.5976,      0.5986,      0.5996,\n",
       "            0.6006,      0.6016,      0.6026,      0.6036,      0.6046,     0.60561,     0.60661,     0.60761,     0.60861,     0.60961,     0.61061,     0.61161,     0.61261,     0.61361,     0.61461,     0.61562,     0.61662,     0.61762,     0.61862,     0.61962,     0.62062,     0.62162,     0.62262,     0.62362,\n",
       "           0.62462,     0.62563,     0.62663,     0.62763,     0.62863,     0.62963,     0.63063,     0.63163,     0.63263,     0.63363,     0.63463,     0.63564,     0.63664,     0.63764,     0.63864,     0.63964,     0.64064,     0.64164,     0.64264,     0.64364,     0.64464,     0.64565,     0.64665,     0.64765,\n",
       "           0.64865,     0.64965,     0.65065,     0.65165,     0.65265,     0.65365,     0.65465,     0.65566,     0.65666,     0.65766,     0.65866,     0.65966,     0.66066,     0.66166,     0.66266,     0.66366,     0.66466,     0.66567,     0.66667,     0.66767,     0.66867,     0.66967,     0.67067,     0.67167,\n",
       "           0.67267,     0.67367,     0.67467,     0.67568,     0.67668,     0.67768,     0.67868,     0.67968,     0.68068,     0.68168,     0.68268,     0.68368,     0.68468,     0.68569,     0.68669,     0.68769,     0.68869,     0.68969,     0.69069,     0.69169,     0.69269,     0.69369,     0.69469,      0.6957,\n",
       "            0.6967,      0.6977,      0.6987,      0.6997,      0.7007,      0.7017,      0.7027,      0.7037,      0.7047,     0.70571,     0.70671,     0.70771,     0.70871,     0.70971,     0.71071,     0.71171,     0.71271,     0.71371,     0.71471,     0.71572,     0.71672,     0.71772,     0.71872,     0.71972,\n",
       "           0.72072,     0.72172,     0.72272,     0.72372,     0.72472,     0.72573,     0.72673,     0.72773,     0.72873,     0.72973,     0.73073,     0.73173,     0.73273,     0.73373,     0.73473,     0.73574,     0.73674,     0.73774,     0.73874,     0.73974,     0.74074,     0.74174,     0.74274,     0.74374,\n",
       "           0.74474,     0.74575,     0.74675,     0.74775,     0.74875,     0.74975,     0.75075,     0.75175,     0.75275,     0.75375,     0.75475,     0.75576,     0.75676,     0.75776,     0.75876,     0.75976,     0.76076,     0.76176,     0.76276,     0.76376,     0.76476,     0.76577,     0.76677,     0.76777,\n",
       "           0.76877,     0.76977,     0.77077,     0.77177,     0.77277,     0.77377,     0.77477,     0.77578,     0.77678,     0.77778,     0.77878,     0.77978,     0.78078,     0.78178,     0.78278,     0.78378,     0.78478,     0.78579,     0.78679,     0.78779,     0.78879,     0.78979,     0.79079,     0.79179,\n",
       "           0.79279,     0.79379,     0.79479,      0.7958,      0.7968,      0.7978,      0.7988,      0.7998,      0.8008,      0.8018,      0.8028,      0.8038,      0.8048,     0.80581,     0.80681,     0.80781,     0.80881,     0.80981,     0.81081,     0.81181,     0.81281,     0.81381,     0.81481,     0.81582,\n",
       "           0.81682,     0.81782,     0.81882,     0.81982,     0.82082,     0.82182,     0.82282,     0.82382,     0.82482,     0.82583,     0.82683,     0.82783,     0.82883,     0.82983,     0.83083,     0.83183,     0.83283,     0.83383,     0.83483,     0.83584,     0.83684,     0.83784,     0.83884,     0.83984,\n",
       "           0.84084,     0.84184,     0.84284,     0.84384,     0.84484,     0.84585,     0.84685,     0.84785,     0.84885,     0.84985,     0.85085,     0.85185,     0.85285,     0.85385,     0.85485,     0.85586,     0.85686,     0.85786,     0.85886,     0.85986,     0.86086,     0.86186,     0.86286,     0.86386,\n",
       "           0.86486,     0.86587,     0.86687,     0.86787,     0.86887,     0.86987,     0.87087,     0.87187,     0.87287,     0.87387,     0.87487,     0.87588,     0.87688,     0.87788,     0.87888,     0.87988,     0.88088,     0.88188,     0.88288,     0.88388,     0.88488,     0.88589,     0.88689,     0.88789,\n",
       "           0.88889,     0.88989,     0.89089,     0.89189,     0.89289,     0.89389,     0.89489,      0.8959,      0.8969,      0.8979,      0.8989,      0.8999,      0.9009,      0.9019,      0.9029,      0.9039,      0.9049,     0.90591,     0.90691,     0.90791,     0.90891,     0.90991,     0.91091,     0.91191,\n",
       "           0.91291,     0.91391,     0.91491,     0.91592,     0.91692,     0.91792,     0.91892,     0.91992,     0.92092,     0.92192,     0.92292,     0.92392,     0.92492,     0.92593,     0.92693,     0.92793,     0.92893,     0.92993,     0.93093,     0.93193,     0.93293,     0.93393,     0.93493,     0.93594,\n",
       "           0.93694,     0.93794,     0.93894,     0.93994,     0.94094,     0.94194,     0.94294,     0.94394,     0.94494,     0.94595,     0.94695,     0.94795,     0.94895,     0.94995,     0.95095,     0.95195,     0.95295,     0.95395,     0.95495,     0.95596,     0.95696,     0.95796,     0.95896,     0.95996,\n",
       "           0.96096,     0.96196,     0.96296,     0.96396,     0.96496,     0.96597,     0.96697,     0.96797,     0.96897,     0.96997,     0.97097,     0.97197,     0.97297,     0.97397,     0.97497,     0.97598,     0.97698,     0.97798,     0.97898,     0.97998,     0.98098,     0.98198,     0.98298,     0.98398,\n",
       "           0.98498,     0.98599,     0.98699,     0.98799,     0.98899,     0.98999,     0.99099,     0.99199,     0.99299,     0.99399,     0.99499,       0.996,       0.997,       0.998,       0.999,           1]), array([[          1,           1,           1,           1,     0.99963,     0.99963,     0.99963,     0.99963,     0.99963,     0.99963,     0.99963,     0.99963,     0.99963,     0.99963,     0.99963,     0.99963,     0.99963,     0.99963,     0.99963,     0.99963,     0.99963,     0.99963,     0.99963,\n",
       "            0.99945,     0.99945,     0.99945,     0.99945,     0.99945,     0.99945,     0.99945,     0.99945,     0.99945,     0.99945,     0.99945,     0.99945,     0.99945,     0.99945,     0.99945,     0.99945,     0.99945,     0.99945,     0.99945,     0.99945,     0.99945,     0.99945,     0.99945,\n",
       "            0.99945,     0.99945,     0.99945,     0.99945,     0.99945,     0.99945,     0.99945,     0.99945,     0.99945,     0.99945,     0.99945,     0.99945,     0.99945,     0.99945,     0.99945,     0.99945,     0.99945,     0.99945,     0.99945,     0.99945,     0.99945,     0.99945,     0.99945,\n",
       "            0.99945,     0.99945,     0.99945,     0.99945,     0.99945,     0.99945,     0.99945,     0.99945,     0.99945,     0.99945,     0.99945,     0.99945,     0.99945,     0.99945,     0.99945,     0.99945,     0.99945,     0.99945,     0.99945,     0.99945,     0.99945,     0.99945,     0.99945,\n",
       "            0.99945,     0.99945,     0.99945,     0.99945,     0.99945,     0.99945,     0.99945,     0.99945,     0.99945,     0.99945,     0.99945,     0.99945,     0.99945,     0.99945,     0.99945,     0.99945,     0.99945,     0.99945,     0.99945,     0.99945,     0.99945,     0.99945,     0.99945,\n",
       "            0.99945,     0.99945,     0.99945,     0.99945,     0.99945,     0.99945,     0.99945,     0.99945,     0.99945,     0.99945,     0.99945,     0.99945,     0.99945,     0.99945,     0.99945,     0.99945,     0.99945,     0.99945,     0.99945,     0.99945,     0.99945,     0.99945,     0.99945,\n",
       "            0.99945,     0.99945,     0.99945,     0.99945,     0.99945,     0.99945,     0.99945,     0.99945,     0.99945,     0.99945,     0.99945,     0.99945,     0.99945,     0.99945,     0.99945,     0.99945,     0.99945,     0.99945,     0.99945,     0.99945,     0.99945,     0.99945,     0.99945,\n",
       "            0.99945,     0.99945,     0.99945,     0.99945,     0.99945,     0.99945,     0.99945,     0.99945,     0.99945,     0.99945,     0.99945,     0.99945,     0.99945,     0.99945,     0.99945,     0.99945,     0.99945,     0.99945,     0.99945,     0.99945,     0.99945,     0.99945,     0.99945,\n",
       "            0.99945,     0.99945,     0.99945,     0.99945,     0.99945,     0.99945,     0.99945,     0.99945,     0.99945,     0.99945,     0.99945,     0.99945,     0.99945,     0.99945,     0.99945,     0.99945,     0.99945,     0.99945,     0.99945,     0.99945,     0.99945,     0.99945,     0.99945,\n",
       "            0.99945,     0.99945,     0.99945,     0.99945,     0.99945,     0.99945,     0.99945,     0.99945,     0.99945,     0.99945,     0.99945,     0.99945,     0.99945,     0.99945,     0.99945,     0.99945,     0.99945,     0.99945,     0.99945,     0.99945,     0.99945,     0.99945,     0.99945,\n",
       "            0.99945,     0.99945,     0.99945,     0.99945,     0.99945,     0.99945,     0.99945,     0.99945,     0.99945,     0.99945,     0.99945,     0.99945,     0.99945,     0.99945,     0.99945,     0.99945,     0.99945,     0.99945,     0.99945,     0.99945,     0.99945,     0.99945,     0.99945,\n",
       "            0.99945,     0.99945,     0.99945,     0.99945,     0.99945,     0.99945,     0.99945,     0.99945,     0.99945,     0.99945,     0.99945,     0.99945,     0.99945,     0.99945,     0.99945,     0.99945,     0.99945,     0.99945,     0.99945,     0.99945,     0.99945,     0.99945,     0.99945,\n",
       "            0.99945,     0.99945,     0.99945,     0.99945,     0.99945,     0.99945,     0.99945,     0.99945,     0.99945,     0.99945,     0.99945,     0.99945,     0.99945,     0.99945,     0.99945,     0.99945,     0.99945,     0.99945,     0.99945,     0.99945,     0.99945,     0.99945,     0.99945,\n",
       "            0.99945,     0.99945,     0.99945,     0.99945,     0.99945,     0.99945,     0.99945,     0.99945,     0.99945,     0.99945,     0.99945,     0.99945,     0.99945,     0.99945,     0.99945,     0.99945,     0.99945,     0.99945,     0.99945,     0.99945,     0.99945,     0.99945,     0.99945,\n",
       "            0.99945,     0.99945,     0.99945,     0.99945,     0.99945,     0.99945,     0.99945,     0.99945,     0.99945,     0.99945,     0.99945,     0.99945,     0.99945,     0.99945,     0.99945,     0.99945,     0.99945,     0.99945,     0.99945,     0.99945,     0.99945,     0.99945,     0.99945,\n",
       "            0.99945,     0.99945,     0.99945,     0.99945,     0.99945,     0.99945,     0.99945,     0.99945,     0.99945,     0.99945,     0.99945,     0.99945,     0.99945,     0.99945,     0.99945,     0.99945,     0.99945,     0.99945,     0.99945,     0.99945,     0.99945,     0.99945,     0.99945,\n",
       "            0.99945,     0.99945,     0.99945,     0.99945,     0.99945,     0.99945,     0.99945,     0.99945,     0.99945,     0.99945,     0.99945,     0.99945,     0.99945,     0.99945,     0.99945,     0.99945,     0.99945,     0.99945,     0.99945,     0.99945,     0.99945,     0.99945,     0.99945,\n",
       "            0.99945,     0.99945,     0.99945,     0.99945,     0.99945,     0.99945,     0.99945,     0.99945,     0.99945,     0.99945,     0.99945,     0.99945,     0.99945,     0.99945,     0.99945,     0.99945,     0.99945,     0.99945,     0.99945,     0.99944,     0.99944,     0.99944,     0.99943,\n",
       "            0.99943,     0.99942,     0.99942,     0.99942,     0.99941,     0.99941,      0.9994,      0.9994,      0.9994,     0.99939,     0.99939,     0.99939,     0.99938,     0.99938,     0.99937,     0.99937,     0.99937,     0.99936,     0.99936,     0.99936,     0.99935,     0.99935,     0.99934,\n",
       "            0.99934,     0.99934,     0.99933,     0.99933,     0.99932,     0.99932,     0.99932,     0.99931,     0.99931,     0.99931,      0.9993,      0.9993,     0.99929,     0.99929,     0.99929,     0.99928,     0.99928,     0.99927,     0.99927,     0.99926,     0.99925,     0.99923,     0.99922,\n",
       "            0.99921,     0.99919,     0.99918,     0.99916,     0.99915,     0.99913,     0.99912,      0.9991,     0.99909,     0.99909,     0.99909,     0.99909,     0.99909,     0.99909,     0.99909,     0.99909,     0.99909,     0.99909,     0.99909,     0.99909,     0.99909,     0.99909,     0.99909,\n",
       "            0.99909,     0.99909,     0.99908,     0.99907,     0.99906,     0.99905,     0.99903,     0.99902,     0.99901,       0.999,     0.99898,     0.99897,     0.99896,     0.99895,     0.99893,     0.99892,     0.99891,      0.9989,      0.9989,      0.9989,      0.9989,      0.9989,      0.9989,\n",
       "             0.9989,      0.9989,      0.9989,      0.9989,      0.9989,      0.9989,      0.9989,      0.9989,      0.9989,     0.99885,     0.99879,     0.99872,     0.99872,     0.99872,     0.99872,     0.99872,     0.99872,     0.99872,     0.99872,     0.99872,     0.99872,     0.99872,     0.99853,\n",
       "            0.99848,     0.99843,     0.99839,     0.99835,     0.99835,     0.99835,     0.99835,     0.99834,     0.99833,     0.99832,     0.99832,     0.99831,      0.9983,     0.99829,     0.99828,     0.99827,     0.99826,     0.99825,     0.99824,     0.99823,     0.99823,     0.99822,     0.99821,\n",
       "             0.9982,     0.99819,     0.99818,     0.99817,     0.99814,     0.99811,     0.99807,     0.99804,       0.998,     0.99799,     0.99799,     0.99799,     0.99799,     0.99799,     0.99799,     0.99799,     0.99799,     0.99799,     0.99799,     0.99799,     0.99799,     0.99799,     0.99799,\n",
       "            0.99799,     0.99799,     0.99799,     0.99799,     0.99799,     0.99799,     0.99799,     0.99799,     0.99799,     0.99799,     0.99797,     0.99795,     0.99793,      0.9979,     0.99788,     0.99786,     0.99783,     0.99781,     0.99778,     0.99774,     0.99771,     0.99768,     0.99764,\n",
       "            0.99761,      0.9976,     0.99758,     0.99756,     0.99754,     0.99753,     0.99751,     0.99749,     0.99747,     0.99745,      0.9974,     0.99725,     0.99721,     0.99717,     0.99714,      0.9971,     0.99704,     0.99695,     0.99687,     0.99683,     0.99679,     0.99675,     0.99671,\n",
       "            0.99665,     0.99658,     0.99652,     0.99651,      0.9965,     0.99649,     0.99648,     0.99646,     0.99645,     0.99644,     0.99643,     0.99642,      0.9964,     0.99639,     0.99638,     0.99637,     0.99636,     0.99634,     0.99632,      0.9963,     0.99628,     0.99626,     0.99623,\n",
       "            0.99621,     0.99619,     0.99617,     0.99615,     0.99613,     0.99611,     0.99609,     0.99607,     0.99605,     0.99604,     0.99602,       0.996,     0.99598,     0.99598,     0.99598,     0.99598,     0.99598,     0.99598,     0.99598,     0.99598,     0.99598,     0.99598,     0.99598,\n",
       "            0.99598,     0.99597,     0.99595,     0.99594,     0.99592,     0.99591,      0.9959,     0.99588,     0.99587,     0.99585,     0.99584,     0.99582,     0.99581,     0.99579,     0.99578,     0.99577,     0.99576,     0.99575,     0.99574,     0.99573,     0.99572,     0.99571,      0.9957,\n",
       "            0.99569,     0.99568,     0.99567,     0.99566,     0.99565,     0.99564,     0.99563,     0.99562,     0.99557,     0.99548,     0.99541,     0.99536,     0.99531,     0.99526,     0.99513,     0.99506,     0.99506,     0.99506,     0.99506,     0.99503,     0.99498,     0.99494,     0.99489,\n",
       "            0.99487,     0.99485,     0.99483,     0.99481,     0.99479,     0.99478,     0.99476,     0.99474,     0.99472,      0.9947,     0.99465,     0.99458,     0.99451,     0.99448,     0.99445,     0.99442,      0.9944,     0.99437,     0.99434,     0.99433,     0.99432,     0.99431,      0.9943,\n",
       "            0.99429,     0.99428,     0.99428,     0.99427,     0.99426,     0.99425,     0.99424,     0.99424,     0.99423,     0.99422,     0.99421,      0.9942,     0.99419,     0.99419,     0.99418,     0.99417,     0.99416,     0.99415,     0.99413,     0.99408,     0.99402,     0.99397,     0.99394,\n",
       "            0.99391,     0.99389,     0.99386,     0.99383,     0.99381,     0.99358,      0.9934,     0.99331,     0.99323,      0.9932,     0.99317,     0.99314,     0.99311,     0.99308,     0.99306,     0.99297,     0.99288,      0.9927,     0.99266,     0.99263,     0.99259,     0.99256,     0.99253,\n",
       "             0.9925,      0.9925,      0.9925,     0.99248,     0.99245,     0.99243,      0.9924,     0.99238,     0.99235,     0.99233,     0.99212,     0.99209,     0.99207,     0.99204,     0.99202,     0.99199,     0.99197,     0.99194,      0.9919,     0.99186,     0.99182,     0.99179,      0.9917,\n",
       "            0.99158,      0.9915,     0.99143,     0.99121,     0.99115,     0.99108,     0.99099,     0.99074,     0.99065,     0.99062,     0.99059,     0.99056,     0.99052,     0.99049,      0.9904,     0.99031,     0.99012,     0.99008,     0.99003,     0.98998,     0.98989,     0.98964,     0.98949,\n",
       "            0.98937,     0.98924,     0.98917,     0.98912,     0.98906,     0.98872,     0.98844,     0.98831,       0.988,      0.9879,     0.98784,     0.98778,      0.9875,     0.98738,      0.9872,     0.98716,     0.98711,     0.98707,     0.98703,     0.98689,      0.9867,     0.98652,     0.98605,\n",
       "            0.98591,     0.98587,     0.98583,      0.9858,     0.98576,     0.98571,     0.98563,     0.98556,     0.98531,     0.98525,     0.98518,       0.985,     0.98487,      0.9846,     0.98454,     0.98448,     0.98439,      0.9843,     0.98359,     0.98333,      0.9832,     0.98313,     0.98307,\n",
       "              0.983,     0.98283,     0.98255,     0.98245,     0.98227,     0.98196,      0.9818,     0.98134,     0.98122,     0.98095,     0.98057,      0.9802,     0.97995,     0.97945,     0.97927,     0.97918,     0.97865,     0.97839,     0.97826,     0.97772,     0.97735,     0.97716,     0.97698,\n",
       "            0.97661,     0.97599,     0.97586,     0.97563,     0.97554,     0.97476,     0.97467,     0.97436,     0.97362,     0.97306,     0.97245,     0.97194,     0.97138,     0.97088,     0.97045,     0.97016,     0.97003,     0.96878,     0.96802,     0.96693,     0.96619,     0.96527,     0.96389,\n",
       "            0.96251,     0.96104,     0.95903,     0.95809,     0.95662,     0.95478,     0.95294,     0.95142,     0.95018,     0.94903,     0.94784,     0.94632,     0.94448,     0.94191,     0.93897,     0.93714,     0.93365,      0.9309,     0.92906,     0.92503,     0.92064,     0.91697,     0.91202,\n",
       "            0.90817,      0.9025,     0.89846,     0.89169,     0.88583,     0.88107,     0.87612,     0.86898,     0.86129,     0.85507,     0.84573,     0.83731,     0.82834,     0.81828,      0.8051,     0.79211,     0.77875,     0.75607,     0.73101,     0.70906,     0.68364,     0.66004,     0.63388,\n",
       "            0.60846,     0.57627,     0.53566,     0.49671,     0.44934,     0.40362,     0.35205,     0.29938,     0.25256,     0.20666,     0.16002,      0.1121,    0.074612,    0.046809,     0.01663,   0.0080272,   0.0047268,   0.0016092,   0.0010743,  0.00085952,           0,           0,           0,\n",
       "                  0,           0,           0,           0,           0,           0,           0,           0,           0,           0,           0]]), 'Confidence', 'Recall'], [array([          0,    0.001001,    0.002002,    0.003003,    0.004004,    0.005005,    0.006006,    0.007007,    0.008008,    0.009009,     0.01001,    0.011011,    0.012012,    0.013013,    0.014014,    0.015015,    0.016016,    0.017017,    0.018018,    0.019019,     0.02002,    0.021021,    0.022022,    0.023023,\n",
       "          0.024024,    0.025025,    0.026026,    0.027027,    0.028028,    0.029029,     0.03003,    0.031031,    0.032032,    0.033033,    0.034034,    0.035035,    0.036036,    0.037037,    0.038038,    0.039039,     0.04004,    0.041041,    0.042042,    0.043043,    0.044044,    0.045045,    0.046046,    0.047047,\n",
       "          0.048048,    0.049049,     0.05005,    0.051051,    0.052052,    0.053053,    0.054054,    0.055055,    0.056056,    0.057057,    0.058058,    0.059059,     0.06006,    0.061061,    0.062062,    0.063063,    0.064064,    0.065065,    0.066066,    0.067067,    0.068068,    0.069069,     0.07007,    0.071071,\n",
       "          0.072072,    0.073073,    0.074074,    0.075075,    0.076076,    0.077077,    0.078078,    0.079079,     0.08008,    0.081081,    0.082082,    0.083083,    0.084084,    0.085085,    0.086086,    0.087087,    0.088088,    0.089089,     0.09009,    0.091091,    0.092092,    0.093093,    0.094094,    0.095095,\n",
       "          0.096096,    0.097097,    0.098098,    0.099099,      0.1001,      0.1011,      0.1021,      0.1031,      0.1041,     0.10511,     0.10611,     0.10711,     0.10811,     0.10911,     0.11011,     0.11111,     0.11211,     0.11311,     0.11411,     0.11512,     0.11612,     0.11712,     0.11812,     0.11912,\n",
       "           0.12012,     0.12112,     0.12212,     0.12312,     0.12412,     0.12513,     0.12613,     0.12713,     0.12813,     0.12913,     0.13013,     0.13113,     0.13213,     0.13313,     0.13413,     0.13514,     0.13614,     0.13714,     0.13814,     0.13914,     0.14014,     0.14114,     0.14214,     0.14314,\n",
       "           0.14414,     0.14515,     0.14615,     0.14715,     0.14815,     0.14915,     0.15015,     0.15115,     0.15215,     0.15315,     0.15415,     0.15516,     0.15616,     0.15716,     0.15816,     0.15916,     0.16016,     0.16116,     0.16216,     0.16316,     0.16416,     0.16517,     0.16617,     0.16717,\n",
       "           0.16817,     0.16917,     0.17017,     0.17117,     0.17217,     0.17317,     0.17417,     0.17518,     0.17618,     0.17718,     0.17818,     0.17918,     0.18018,     0.18118,     0.18218,     0.18318,     0.18418,     0.18519,     0.18619,     0.18719,     0.18819,     0.18919,     0.19019,     0.19119,\n",
       "           0.19219,     0.19319,     0.19419,      0.1952,      0.1962,      0.1972,      0.1982,      0.1992,      0.2002,      0.2012,      0.2022,      0.2032,      0.2042,     0.20521,     0.20621,     0.20721,     0.20821,     0.20921,     0.21021,     0.21121,     0.21221,     0.21321,     0.21421,     0.21522,\n",
       "           0.21622,     0.21722,     0.21822,     0.21922,     0.22022,     0.22122,     0.22222,     0.22322,     0.22422,     0.22523,     0.22623,     0.22723,     0.22823,     0.22923,     0.23023,     0.23123,     0.23223,     0.23323,     0.23423,     0.23524,     0.23624,     0.23724,     0.23824,     0.23924,\n",
       "           0.24024,     0.24124,     0.24224,     0.24324,     0.24424,     0.24525,     0.24625,     0.24725,     0.24825,     0.24925,     0.25025,     0.25125,     0.25225,     0.25325,     0.25425,     0.25526,     0.25626,     0.25726,     0.25826,     0.25926,     0.26026,     0.26126,     0.26226,     0.26326,\n",
       "           0.26426,     0.26527,     0.26627,     0.26727,     0.26827,     0.26927,     0.27027,     0.27127,     0.27227,     0.27327,     0.27427,     0.27528,     0.27628,     0.27728,     0.27828,     0.27928,     0.28028,     0.28128,     0.28228,     0.28328,     0.28428,     0.28529,     0.28629,     0.28729,\n",
       "           0.28829,     0.28929,     0.29029,     0.29129,     0.29229,     0.29329,     0.29429,      0.2953,      0.2963,      0.2973,      0.2983,      0.2993,      0.3003,      0.3013,      0.3023,      0.3033,      0.3043,     0.30531,     0.30631,     0.30731,     0.30831,     0.30931,     0.31031,     0.31131,\n",
       "           0.31231,     0.31331,     0.31431,     0.31532,     0.31632,     0.31732,     0.31832,     0.31932,     0.32032,     0.32132,     0.32232,     0.32332,     0.32432,     0.32533,     0.32633,     0.32733,     0.32833,     0.32933,     0.33033,     0.33133,     0.33233,     0.33333,     0.33433,     0.33534,\n",
       "           0.33634,     0.33734,     0.33834,     0.33934,     0.34034,     0.34134,     0.34234,     0.34334,     0.34434,     0.34535,     0.34635,     0.34735,     0.34835,     0.34935,     0.35035,     0.35135,     0.35235,     0.35335,     0.35435,     0.35536,     0.35636,     0.35736,     0.35836,     0.35936,\n",
       "           0.36036,     0.36136,     0.36236,     0.36336,     0.36436,     0.36537,     0.36637,     0.36737,     0.36837,     0.36937,     0.37037,     0.37137,     0.37237,     0.37337,     0.37437,     0.37538,     0.37638,     0.37738,     0.37838,     0.37938,     0.38038,     0.38138,     0.38238,     0.38338,\n",
       "           0.38438,     0.38539,     0.38639,     0.38739,     0.38839,     0.38939,     0.39039,     0.39139,     0.39239,     0.39339,     0.39439,      0.3954,      0.3964,      0.3974,      0.3984,      0.3994,      0.4004,      0.4014,      0.4024,      0.4034,      0.4044,     0.40541,     0.40641,     0.40741,\n",
       "           0.40841,     0.40941,     0.41041,     0.41141,     0.41241,     0.41341,     0.41441,     0.41542,     0.41642,     0.41742,     0.41842,     0.41942,     0.42042,     0.42142,     0.42242,     0.42342,     0.42442,     0.42543,     0.42643,     0.42743,     0.42843,     0.42943,     0.43043,     0.43143,\n",
       "           0.43243,     0.43343,     0.43443,     0.43544,     0.43644,     0.43744,     0.43844,     0.43944,     0.44044,     0.44144,     0.44244,     0.44344,     0.44444,     0.44545,     0.44645,     0.44745,     0.44845,     0.44945,     0.45045,     0.45145,     0.45245,     0.45345,     0.45445,     0.45546,\n",
       "           0.45646,     0.45746,     0.45846,     0.45946,     0.46046,     0.46146,     0.46246,     0.46346,     0.46446,     0.46547,     0.46647,     0.46747,     0.46847,     0.46947,     0.47047,     0.47147,     0.47247,     0.47347,     0.47447,     0.47548,     0.47648,     0.47748,     0.47848,     0.47948,\n",
       "           0.48048,     0.48148,     0.48248,     0.48348,     0.48448,     0.48549,     0.48649,     0.48749,     0.48849,     0.48949,     0.49049,     0.49149,     0.49249,     0.49349,     0.49449,      0.4955,      0.4965,      0.4975,      0.4985,      0.4995,      0.5005,      0.5015,      0.5025,      0.5035,\n",
       "            0.5045,     0.50551,     0.50651,     0.50751,     0.50851,     0.50951,     0.51051,     0.51151,     0.51251,     0.51351,     0.51451,     0.51552,     0.51652,     0.51752,     0.51852,     0.51952,     0.52052,     0.52152,     0.52252,     0.52352,     0.52452,     0.52553,     0.52653,     0.52753,\n",
       "           0.52853,     0.52953,     0.53053,     0.53153,     0.53253,     0.53353,     0.53453,     0.53554,     0.53654,     0.53754,     0.53854,     0.53954,     0.54054,     0.54154,     0.54254,     0.54354,     0.54454,     0.54555,     0.54655,     0.54755,     0.54855,     0.54955,     0.55055,     0.55155,\n",
       "           0.55255,     0.55355,     0.55455,     0.55556,     0.55656,     0.55756,     0.55856,     0.55956,     0.56056,     0.56156,     0.56256,     0.56356,     0.56456,     0.56557,     0.56657,     0.56757,     0.56857,     0.56957,     0.57057,     0.57157,     0.57257,     0.57357,     0.57457,     0.57558,\n",
       "           0.57658,     0.57758,     0.57858,     0.57958,     0.58058,     0.58158,     0.58258,     0.58358,     0.58458,     0.58559,     0.58659,     0.58759,     0.58859,     0.58959,     0.59059,     0.59159,     0.59259,     0.59359,     0.59459,      0.5956,      0.5966,      0.5976,      0.5986,      0.5996,\n",
       "            0.6006,      0.6016,      0.6026,      0.6036,      0.6046,     0.60561,     0.60661,     0.60761,     0.60861,     0.60961,     0.61061,     0.61161,     0.61261,     0.61361,     0.61461,     0.61562,     0.61662,     0.61762,     0.61862,     0.61962,     0.62062,     0.62162,     0.62262,     0.62362,\n",
       "           0.62462,     0.62563,     0.62663,     0.62763,     0.62863,     0.62963,     0.63063,     0.63163,     0.63263,     0.63363,     0.63463,     0.63564,     0.63664,     0.63764,     0.63864,     0.63964,     0.64064,     0.64164,     0.64264,     0.64364,     0.64464,     0.64565,     0.64665,     0.64765,\n",
       "           0.64865,     0.64965,     0.65065,     0.65165,     0.65265,     0.65365,     0.65465,     0.65566,     0.65666,     0.65766,     0.65866,     0.65966,     0.66066,     0.66166,     0.66266,     0.66366,     0.66466,     0.66567,     0.66667,     0.66767,     0.66867,     0.66967,     0.67067,     0.67167,\n",
       "           0.67267,     0.67367,     0.67467,     0.67568,     0.67668,     0.67768,     0.67868,     0.67968,     0.68068,     0.68168,     0.68268,     0.68368,     0.68468,     0.68569,     0.68669,     0.68769,     0.68869,     0.68969,     0.69069,     0.69169,     0.69269,     0.69369,     0.69469,      0.6957,\n",
       "            0.6967,      0.6977,      0.6987,      0.6997,      0.7007,      0.7017,      0.7027,      0.7037,      0.7047,     0.70571,     0.70671,     0.70771,     0.70871,     0.70971,     0.71071,     0.71171,     0.71271,     0.71371,     0.71471,     0.71572,     0.71672,     0.71772,     0.71872,     0.71972,\n",
       "           0.72072,     0.72172,     0.72272,     0.72372,     0.72472,     0.72573,     0.72673,     0.72773,     0.72873,     0.72973,     0.73073,     0.73173,     0.73273,     0.73373,     0.73473,     0.73574,     0.73674,     0.73774,     0.73874,     0.73974,     0.74074,     0.74174,     0.74274,     0.74374,\n",
       "           0.74474,     0.74575,     0.74675,     0.74775,     0.74875,     0.74975,     0.75075,     0.75175,     0.75275,     0.75375,     0.75475,     0.75576,     0.75676,     0.75776,     0.75876,     0.75976,     0.76076,     0.76176,     0.76276,     0.76376,     0.76476,     0.76577,     0.76677,     0.76777,\n",
       "           0.76877,     0.76977,     0.77077,     0.77177,     0.77277,     0.77377,     0.77477,     0.77578,     0.77678,     0.77778,     0.77878,     0.77978,     0.78078,     0.78178,     0.78278,     0.78378,     0.78478,     0.78579,     0.78679,     0.78779,     0.78879,     0.78979,     0.79079,     0.79179,\n",
       "           0.79279,     0.79379,     0.79479,      0.7958,      0.7968,      0.7978,      0.7988,      0.7998,      0.8008,      0.8018,      0.8028,      0.8038,      0.8048,     0.80581,     0.80681,     0.80781,     0.80881,     0.80981,     0.81081,     0.81181,     0.81281,     0.81381,     0.81481,     0.81582,\n",
       "           0.81682,     0.81782,     0.81882,     0.81982,     0.82082,     0.82182,     0.82282,     0.82382,     0.82482,     0.82583,     0.82683,     0.82783,     0.82883,     0.82983,     0.83083,     0.83183,     0.83283,     0.83383,     0.83483,     0.83584,     0.83684,     0.83784,     0.83884,     0.83984,\n",
       "           0.84084,     0.84184,     0.84284,     0.84384,     0.84484,     0.84585,     0.84685,     0.84785,     0.84885,     0.84985,     0.85085,     0.85185,     0.85285,     0.85385,     0.85485,     0.85586,     0.85686,     0.85786,     0.85886,     0.85986,     0.86086,     0.86186,     0.86286,     0.86386,\n",
       "           0.86486,     0.86587,     0.86687,     0.86787,     0.86887,     0.86987,     0.87087,     0.87187,     0.87287,     0.87387,     0.87487,     0.87588,     0.87688,     0.87788,     0.87888,     0.87988,     0.88088,     0.88188,     0.88288,     0.88388,     0.88488,     0.88589,     0.88689,     0.88789,\n",
       "           0.88889,     0.88989,     0.89089,     0.89189,     0.89289,     0.89389,     0.89489,      0.8959,      0.8969,      0.8979,      0.8989,      0.8999,      0.9009,      0.9019,      0.9029,      0.9039,      0.9049,     0.90591,     0.90691,     0.90791,     0.90891,     0.90991,     0.91091,     0.91191,\n",
       "           0.91291,     0.91391,     0.91491,     0.91592,     0.91692,     0.91792,     0.91892,     0.91992,     0.92092,     0.92192,     0.92292,     0.92392,     0.92492,     0.92593,     0.92693,     0.92793,     0.92893,     0.92993,     0.93093,     0.93193,     0.93293,     0.93393,     0.93493,     0.93594,\n",
       "           0.93694,     0.93794,     0.93894,     0.93994,     0.94094,     0.94194,     0.94294,     0.94394,     0.94494,     0.94595,     0.94695,     0.94795,     0.94895,     0.94995,     0.95095,     0.95195,     0.95295,     0.95395,     0.95495,     0.95596,     0.95696,     0.95796,     0.95896,     0.95996,\n",
       "           0.96096,     0.96196,     0.96296,     0.96396,     0.96496,     0.96597,     0.96697,     0.96797,     0.96897,     0.96997,     0.97097,     0.97197,     0.97297,     0.97397,     0.97497,     0.97598,     0.97698,     0.97798,     0.97898,     0.97998,     0.98098,     0.98198,     0.98298,     0.98398,\n",
       "           0.98498,     0.98599,     0.98699,     0.98799,     0.98899,     0.98999,     0.99099,     0.99199,     0.99299,     0.99399,     0.99499,       0.996,       0.997,       0.998,       0.999,           1]), array([[          1,           1,           1,           1,           1,           1,           1,           1,           1,           1,           1,           1,           1,           1,           1,           1,           1,           1,           1,           1,           1,           1,           1,\n",
       "                  1,           1,           1,           1,           1,           1,           1,           1,           1,           1,           1,           1,           1,           1,           1,           1,           1,           1,           1,           1,           1,           1,           1,\n",
       "                  1,           1,           1,           1,           1,           1,           1,           1,           1,           1,           1,           1,           1,           1,           1,           1,           1,           1,           1,           1,           1,           1,           1,\n",
       "                  1,           1,           1,           1,           1,           1,     0.99902,     0.99902,     0.99902,     0.99902,     0.99902,     0.99902,     0.99902,     0.99902,     0.99902,     0.99902,     0.99902,     0.99902,     0.99902,     0.99902,     0.99902,     0.99902,     0.99902,\n",
       "            0.99902,     0.99902,     0.99902,     0.99902,     0.99902,     0.99902,     0.99902,     0.99902,     0.99902,     0.99902,     0.99902,     0.99902,     0.99902,     0.99902,     0.99902,     0.99902,     0.99902,     0.99902,     0.99902,     0.99902,     0.99902,     0.99902,     0.99902,\n",
       "            0.99902,     0.99902,     0.99902,     0.99902,     0.99902,     0.99902,     0.99902,     0.99902,     0.99902,     0.99902,     0.99902,     0.99902,     0.99902,     0.99902,     0.99902,     0.99902,     0.99902,     0.99902,     0.99902,     0.99902,     0.99902,     0.99902,     0.99902,\n",
       "            0.99902,     0.99902,     0.99902,     0.99902,     0.99902,     0.99902,     0.99902,     0.99902,     0.99902,     0.99902,     0.99902,     0.99902,     0.99902,     0.99902,     0.99902,     0.99902,     0.99902,     0.99902,     0.99902,     0.99902,     0.99902,     0.99902,     0.99902,\n",
       "            0.99902,     0.99902,     0.99902,     0.99902,     0.99902,     0.99902,     0.99902,     0.99902,     0.99902,     0.99902,     0.99902,     0.99902,     0.99902,     0.99902,     0.99902,     0.99902,     0.99902,     0.99902,     0.99902,     0.99902,     0.99902,     0.99902,     0.99902,\n",
       "            0.99902,     0.99902,     0.99902,     0.99902,     0.99902,     0.99902,     0.99902,     0.99902,     0.99902,     0.99902,     0.99902,     0.99902,     0.99902,     0.99902,     0.99902,     0.99902,     0.99902,     0.99902,     0.99902,     0.99902,     0.99902,     0.99902,     0.99902,\n",
       "            0.99902,     0.99902,     0.99902,     0.99902,     0.99902,     0.99902,     0.99902,     0.99902,     0.99902,     0.99902,     0.99902,     0.99902,     0.99902,     0.99902,     0.99902,     0.99902,     0.99902,     0.99902,     0.99902,     0.99902,     0.99902,     0.99902,     0.99902,\n",
       "            0.99902,     0.99902,     0.99902,     0.99902,     0.99902,     0.99902,     0.99902,     0.99902,     0.99902,     0.99902,     0.99902,     0.99902,     0.99902,     0.99902,     0.99902,     0.99902,     0.99902,     0.99902,     0.99902,     0.99902,     0.99902,     0.99902,     0.99902,\n",
       "            0.99902,     0.99902,     0.99902,     0.99902,     0.99902,     0.99902,     0.99902,     0.99902,     0.99902,     0.99902,     0.99902,     0.99902,     0.99902,     0.99902,     0.99902,     0.99902,     0.99902,     0.99902,     0.99902,     0.99902,     0.99902,     0.99902,     0.99902,\n",
       "            0.99902,     0.99902,     0.99902,     0.99902,     0.99902,     0.99902,     0.99902,     0.99902,     0.99902,     0.99902,     0.99902,     0.99902,     0.99902,     0.99902,     0.99902,     0.99902,     0.99902,     0.99902,     0.99902,     0.99902,     0.99902,     0.99902,     0.99902,\n",
       "            0.99902,     0.99902,     0.99902,     0.99902,     0.99902,     0.99902,     0.99902,     0.99902,     0.99902,     0.99902,     0.99902,     0.99902,     0.99902,     0.99902,     0.99902,     0.99902,     0.99902,     0.99902,     0.99902,     0.99902,     0.99902,     0.99902,     0.99902,\n",
       "            0.99902,     0.99902,     0.99902,     0.99902,     0.99902,     0.99902,     0.99902,     0.99902,     0.99902,     0.99902,     0.99902,     0.99902,     0.99902,     0.99902,     0.99902,     0.99902,     0.99902,     0.99902,     0.99902,     0.99902,     0.99902,     0.99902,     0.99902,\n",
       "            0.99902,     0.99902,     0.99902,     0.99902,     0.99902,     0.99902,     0.99902,     0.99902,     0.99902,     0.99902,     0.99902,     0.99902,     0.99902,     0.99902,     0.99902,     0.99902,     0.99902,     0.99902,     0.99902,     0.99902,     0.99902,     0.99902,     0.99902,\n",
       "            0.99902,     0.99902,     0.99902,     0.99902,     0.99902,     0.99902,     0.99902,     0.99902,     0.99902,     0.99902,     0.99902,     0.99902,     0.99902,     0.99902,     0.99902,     0.99902,     0.99902,     0.99902,     0.99902,     0.99902,     0.99902,     0.99902,     0.99902,\n",
       "            0.99902,     0.99902,     0.99902,     0.99902,     0.99902,     0.99902,     0.99902,     0.99902,     0.99902,     0.99902,     0.99902,     0.99902,     0.99902,     0.99902,     0.99902,     0.99902,     0.99902,     0.99902,     0.99902,     0.99902,     0.99902,     0.99902,     0.99902,\n",
       "            0.99902,     0.99902,     0.99902,     0.99902,     0.99902,     0.99902,     0.99902,     0.99902,     0.99902,     0.99902,     0.99902,     0.99902,     0.99902,     0.99902,     0.99902,     0.99902,     0.99902,     0.99902,     0.99902,     0.99902,     0.99902,     0.99902,     0.99902,\n",
       "            0.99902,     0.99902,     0.99902,     0.99902,     0.99902,     0.99902,     0.99902,     0.99902,     0.99902,     0.99902,     0.99902,     0.99902,     0.99902,     0.99902,     0.99902,     0.99902,     0.99902,     0.99902,     0.99902,     0.99902,     0.99902,     0.99902,     0.99902,\n",
       "            0.99902,     0.99902,     0.99902,     0.99902,     0.99902,     0.99902,     0.99902,     0.99902,     0.99902,     0.99902,     0.99902,     0.99902,     0.99902,     0.99902,     0.99902,     0.99902,     0.99902,     0.99902,     0.99902,     0.99902,     0.99902,     0.99902,     0.99902,\n",
       "            0.99902,     0.99902,     0.99902,     0.99902,     0.99902,     0.99902,     0.99902,     0.99902,     0.99902,     0.99902,     0.99902,     0.99902,     0.99902,     0.99902,     0.99902,     0.99902,     0.99902,     0.99902,     0.99902,     0.99902,     0.99902,     0.99902,     0.99902,\n",
       "            0.99902,     0.99902,     0.99902,     0.99902,     0.99902,     0.99902,     0.99902,     0.99902,     0.99902,     0.99902,     0.99902,     0.99902,     0.99902,     0.99902,     0.99902,     0.99902,     0.99902,     0.99902,     0.99902,     0.99902,     0.99902,     0.99902,     0.99902,\n",
       "            0.99902,     0.99902,     0.99902,     0.99902,     0.99902,     0.99902,     0.99902,     0.99902,     0.99902,     0.99902,     0.99902,     0.99902,     0.99902,     0.99902,     0.99902,     0.99902,     0.99902,     0.99902,     0.99902,     0.99902,     0.99902,     0.99902,     0.99902,\n",
       "            0.99902,     0.99902,     0.99902,     0.99902,     0.99902,     0.99902,     0.99902,     0.99902,     0.99902,     0.99902,     0.99902,     0.99902,     0.99902,     0.99902,     0.99902,     0.99902,     0.99902,     0.99902,     0.99902,     0.99902,     0.99902,     0.99902,     0.99902,\n",
       "            0.99902,     0.99902,     0.99902,     0.99902,     0.99902,     0.99902,     0.99902,     0.99902,     0.99902,     0.99902,     0.99902,     0.99902,     0.99902,     0.99902,     0.99902,     0.99902,     0.99902,     0.99902,     0.99902,     0.99902,     0.99902,     0.99902,     0.99902,\n",
       "            0.99902,     0.99902,     0.99902,     0.99902,     0.99902,     0.99902,     0.99902,     0.99902,     0.99902,     0.99902,     0.99902,     0.99902,     0.99902,     0.99902,     0.99902,     0.99902,     0.99902,     0.99902,     0.99902,     0.99902,     0.99902,     0.99902,     0.99902,\n",
       "            0.99902,     0.99902,     0.99902,     0.99902,     0.99902,     0.99902,     0.99902,     0.99902,     0.99902,     0.99902,     0.99902,     0.99902,     0.99902,     0.99902,     0.99902,     0.99902,     0.99902,     0.99902,     0.99902,     0.99902,     0.99902,     0.99902,     0.99902,\n",
       "            0.99902,     0.99902,     0.99902,     0.99902,     0.99902,     0.99902,     0.99902,     0.99902,     0.99902,     0.99902,     0.99902,     0.99902,     0.99902,     0.99902,     0.99902,     0.99902,     0.99902,     0.99902,     0.99902,     0.99902,     0.99902,     0.99902,     0.99902,\n",
       "            0.99902,     0.99902,     0.99902,     0.99902,     0.99902,     0.99902,     0.99902,     0.99902,     0.99902,     0.99902,     0.99902,     0.99902,     0.99902,     0.99902,     0.99902,     0.99902,     0.99902,     0.99902,     0.99902,     0.99902,     0.99902,     0.99902,     0.99902,\n",
       "            0.99902,     0.99902,     0.99902,     0.99902,     0.99902,     0.99902,     0.99902,     0.99902,     0.99902,     0.99902,     0.99902,     0.99902,     0.99902,     0.99902,     0.99902,     0.99902,     0.99902,     0.99902,     0.99902,     0.99902,     0.99902,     0.99902,     0.99902,\n",
       "            0.99902,     0.99902,     0.99902,     0.99902,     0.99902,     0.99902,     0.99902,     0.99902,     0.99902,     0.99902,     0.99902,     0.99902,     0.99902,     0.99902,     0.99902,     0.99902,     0.99902,     0.99902,     0.99902,     0.99902,     0.99902,     0.99902,     0.99902,\n",
       "            0.99902,     0.99902,     0.99902,     0.99902,     0.99902,     0.99902,     0.99902,     0.99902,     0.99902,     0.99902,     0.99902,     0.99902,     0.99888,     0.99888,     0.99888,     0.99888,     0.99888,     0.99888,     0.99888,     0.99888,     0.99888,     0.99888,     0.99888,\n",
       "            0.99888,     0.99888,     0.99888,     0.99888,     0.99888,     0.99888,     0.99888,     0.99888,     0.99888,     0.99888,     0.99888,     0.99888,     0.99888,     0.99888,     0.99888,     0.99888,     0.99888,     0.99888,     0.99888,     0.99888,     0.99888,     0.99888,     0.99888,\n",
       "            0.99888,     0.99888,     0.99888,     0.99888,     0.99888,     0.99888,     0.99888,     0.99888,     0.99888,     0.99888,     0.99888,     0.99888,     0.99888,     0.99888,     0.99888,     0.99888,     0.99888,     0.99888,     0.99888,     0.99888,     0.99888,     0.99888,     0.99888,\n",
       "            0.99888,     0.99888,     0.99888,     0.99888,     0.99888,     0.99888,     0.99888,     0.99888,     0.99888,     0.99876,     0.99876,     0.99876,     0.99876,     0.99876,     0.99876,     0.99876,     0.99876,     0.99876,     0.99876,     0.99876,     0.99876,     0.99876,     0.99876,\n",
       "            0.99876,     0.99876,     0.99876,     0.99876,     0.99876,     0.99876,     0.99876,     0.99876,     0.99876,     0.99876,     0.99876,     0.99876,     0.99876,     0.99876,     0.99876,     0.99876,     0.99876,     0.99876,     0.99876,     0.99876,     0.99876,     0.99876,     0.99876,\n",
       "            0.99876,     0.99876,     0.99876,     0.99876,     0.99876,     0.99876,     0.99876,     0.99876,     0.99876,     0.99876,     0.99876,     0.99876,     0.99876,     0.99876,     0.99876,     0.99876,     0.99876,     0.99876,     0.99876,     0.99876,     0.99876,     0.99876,     0.99876,\n",
       "            0.99876,     0.99876,     0.99876,     0.99876,     0.99876,     0.99876,     0.99876,     0.99862,     0.99862,     0.99862,     0.99862,     0.99862,     0.99862,     0.99862,     0.99862,     0.99862,     0.99862,     0.99862,     0.99862,     0.99862,     0.99862,     0.99862,     0.99862,\n",
       "            0.99862,     0.99862,     0.99862,     0.99862,     0.99862,     0.99862,     0.99862,     0.99862,     0.99862,     0.99862,     0.99862,     0.99862,     0.99862,     0.99862,     0.99862,     0.99862,     0.99862,     0.99862,     0.99862,     0.99862,     0.99862,     0.99862,     0.99862,\n",
       "            0.99862,     0.99862,     0.99862,     0.99862,     0.99862,     0.99862,     0.99862,     0.99862,     0.99862,     0.99849,     0.99849,     0.99849,     0.99849,     0.99849,     0.99849,     0.99849,     0.99849,     0.99849,     0.99849,     0.99849,     0.99849,     0.99849,     0.99849,\n",
       "            0.99849,     0.99849,     0.99849,     0.99849,     0.99849,     0.99849,     0.99849,     0.99849,     0.99849,     0.99849,     0.99849,     0.99849,     0.99849,     0.99849,     0.99849,     0.99849,     0.99849,     0.99849,     0.99849,     0.99849,     0.99849,     0.99849,     0.99849,\n",
       "            0.99831,     0.99831,     0.99831,     0.99831,     0.99831,     0.99831,     0.99831,     0.99831,     0.99814,     0.99814,     0.99814,     0.99814,     0.99814,     0.99814,     0.99814,     0.99814,     0.99797,     0.99797,     0.99797,     0.99797,     0.99779,     0.99779,     0.99779,\n",
       "            0.99779,     0.99779,     0.99762,     0.99762,     0.99762,     0.99743,     0.99726,     0.99726,     0.99599,     0.95275,           0]]), 'Recall', 'Precision'], [array([          0,    0.001001,    0.002002,    0.003003,    0.004004,    0.005005,    0.006006,    0.007007,    0.008008,    0.009009,     0.01001,    0.011011,    0.012012,    0.013013,    0.014014,    0.015015,    0.016016,    0.017017,    0.018018,    0.019019,     0.02002,    0.021021,    0.022022,    0.023023,\n",
       "          0.024024,    0.025025,    0.026026,    0.027027,    0.028028,    0.029029,     0.03003,    0.031031,    0.032032,    0.033033,    0.034034,    0.035035,    0.036036,    0.037037,    0.038038,    0.039039,     0.04004,    0.041041,    0.042042,    0.043043,    0.044044,    0.045045,    0.046046,    0.047047,\n",
       "          0.048048,    0.049049,     0.05005,    0.051051,    0.052052,    0.053053,    0.054054,    0.055055,    0.056056,    0.057057,    0.058058,    0.059059,     0.06006,    0.061061,    0.062062,    0.063063,    0.064064,    0.065065,    0.066066,    0.067067,    0.068068,    0.069069,     0.07007,    0.071071,\n",
       "          0.072072,    0.073073,    0.074074,    0.075075,    0.076076,    0.077077,    0.078078,    0.079079,     0.08008,    0.081081,    0.082082,    0.083083,    0.084084,    0.085085,    0.086086,    0.087087,    0.088088,    0.089089,     0.09009,    0.091091,    0.092092,    0.093093,    0.094094,    0.095095,\n",
       "          0.096096,    0.097097,    0.098098,    0.099099,      0.1001,      0.1011,      0.1021,      0.1031,      0.1041,     0.10511,     0.10611,     0.10711,     0.10811,     0.10911,     0.11011,     0.11111,     0.11211,     0.11311,     0.11411,     0.11512,     0.11612,     0.11712,     0.11812,     0.11912,\n",
       "           0.12012,     0.12112,     0.12212,     0.12312,     0.12412,     0.12513,     0.12613,     0.12713,     0.12813,     0.12913,     0.13013,     0.13113,     0.13213,     0.13313,     0.13413,     0.13514,     0.13614,     0.13714,     0.13814,     0.13914,     0.14014,     0.14114,     0.14214,     0.14314,\n",
       "           0.14414,     0.14515,     0.14615,     0.14715,     0.14815,     0.14915,     0.15015,     0.15115,     0.15215,     0.15315,     0.15415,     0.15516,     0.15616,     0.15716,     0.15816,     0.15916,     0.16016,     0.16116,     0.16216,     0.16316,     0.16416,     0.16517,     0.16617,     0.16717,\n",
       "           0.16817,     0.16917,     0.17017,     0.17117,     0.17217,     0.17317,     0.17417,     0.17518,     0.17618,     0.17718,     0.17818,     0.17918,     0.18018,     0.18118,     0.18218,     0.18318,     0.18418,     0.18519,     0.18619,     0.18719,     0.18819,     0.18919,     0.19019,     0.19119,\n",
       "           0.19219,     0.19319,     0.19419,      0.1952,      0.1962,      0.1972,      0.1982,      0.1992,      0.2002,      0.2012,      0.2022,      0.2032,      0.2042,     0.20521,     0.20621,     0.20721,     0.20821,     0.20921,     0.21021,     0.21121,     0.21221,     0.21321,     0.21421,     0.21522,\n",
       "           0.21622,     0.21722,     0.21822,     0.21922,     0.22022,     0.22122,     0.22222,     0.22322,     0.22422,     0.22523,     0.22623,     0.22723,     0.22823,     0.22923,     0.23023,     0.23123,     0.23223,     0.23323,     0.23423,     0.23524,     0.23624,     0.23724,     0.23824,     0.23924,\n",
       "           0.24024,     0.24124,     0.24224,     0.24324,     0.24424,     0.24525,     0.24625,     0.24725,     0.24825,     0.24925,     0.25025,     0.25125,     0.25225,     0.25325,     0.25425,     0.25526,     0.25626,     0.25726,     0.25826,     0.25926,     0.26026,     0.26126,     0.26226,     0.26326,\n",
       "           0.26426,     0.26527,     0.26627,     0.26727,     0.26827,     0.26927,     0.27027,     0.27127,     0.27227,     0.27327,     0.27427,     0.27528,     0.27628,     0.27728,     0.27828,     0.27928,     0.28028,     0.28128,     0.28228,     0.28328,     0.28428,     0.28529,     0.28629,     0.28729,\n",
       "           0.28829,     0.28929,     0.29029,     0.29129,     0.29229,     0.29329,     0.29429,      0.2953,      0.2963,      0.2973,      0.2983,      0.2993,      0.3003,      0.3013,      0.3023,      0.3033,      0.3043,     0.30531,     0.30631,     0.30731,     0.30831,     0.30931,     0.31031,     0.31131,\n",
       "           0.31231,     0.31331,     0.31431,     0.31532,     0.31632,     0.31732,     0.31832,     0.31932,     0.32032,     0.32132,     0.32232,     0.32332,     0.32432,     0.32533,     0.32633,     0.32733,     0.32833,     0.32933,     0.33033,     0.33133,     0.33233,     0.33333,     0.33433,     0.33534,\n",
       "           0.33634,     0.33734,     0.33834,     0.33934,     0.34034,     0.34134,     0.34234,     0.34334,     0.34434,     0.34535,     0.34635,     0.34735,     0.34835,     0.34935,     0.35035,     0.35135,     0.35235,     0.35335,     0.35435,     0.35536,     0.35636,     0.35736,     0.35836,     0.35936,\n",
       "           0.36036,     0.36136,     0.36236,     0.36336,     0.36436,     0.36537,     0.36637,     0.36737,     0.36837,     0.36937,     0.37037,     0.37137,     0.37237,     0.37337,     0.37437,     0.37538,     0.37638,     0.37738,     0.37838,     0.37938,     0.38038,     0.38138,     0.38238,     0.38338,\n",
       "           0.38438,     0.38539,     0.38639,     0.38739,     0.38839,     0.38939,     0.39039,     0.39139,     0.39239,     0.39339,     0.39439,      0.3954,      0.3964,      0.3974,      0.3984,      0.3994,      0.4004,      0.4014,      0.4024,      0.4034,      0.4044,     0.40541,     0.40641,     0.40741,\n",
       "           0.40841,     0.40941,     0.41041,     0.41141,     0.41241,     0.41341,     0.41441,     0.41542,     0.41642,     0.41742,     0.41842,     0.41942,     0.42042,     0.42142,     0.42242,     0.42342,     0.42442,     0.42543,     0.42643,     0.42743,     0.42843,     0.42943,     0.43043,     0.43143,\n",
       "           0.43243,     0.43343,     0.43443,     0.43544,     0.43644,     0.43744,     0.43844,     0.43944,     0.44044,     0.44144,     0.44244,     0.44344,     0.44444,     0.44545,     0.44645,     0.44745,     0.44845,     0.44945,     0.45045,     0.45145,     0.45245,     0.45345,     0.45445,     0.45546,\n",
       "           0.45646,     0.45746,     0.45846,     0.45946,     0.46046,     0.46146,     0.46246,     0.46346,     0.46446,     0.46547,     0.46647,     0.46747,     0.46847,     0.46947,     0.47047,     0.47147,     0.47247,     0.47347,     0.47447,     0.47548,     0.47648,     0.47748,     0.47848,     0.47948,\n",
       "           0.48048,     0.48148,     0.48248,     0.48348,     0.48448,     0.48549,     0.48649,     0.48749,     0.48849,     0.48949,     0.49049,     0.49149,     0.49249,     0.49349,     0.49449,      0.4955,      0.4965,      0.4975,      0.4985,      0.4995,      0.5005,      0.5015,      0.5025,      0.5035,\n",
       "            0.5045,     0.50551,     0.50651,     0.50751,     0.50851,     0.50951,     0.51051,     0.51151,     0.51251,     0.51351,     0.51451,     0.51552,     0.51652,     0.51752,     0.51852,     0.51952,     0.52052,     0.52152,     0.52252,     0.52352,     0.52452,     0.52553,     0.52653,     0.52753,\n",
       "           0.52853,     0.52953,     0.53053,     0.53153,     0.53253,     0.53353,     0.53453,     0.53554,     0.53654,     0.53754,     0.53854,     0.53954,     0.54054,     0.54154,     0.54254,     0.54354,     0.54454,     0.54555,     0.54655,     0.54755,     0.54855,     0.54955,     0.55055,     0.55155,\n",
       "           0.55255,     0.55355,     0.55455,     0.55556,     0.55656,     0.55756,     0.55856,     0.55956,     0.56056,     0.56156,     0.56256,     0.56356,     0.56456,     0.56557,     0.56657,     0.56757,     0.56857,     0.56957,     0.57057,     0.57157,     0.57257,     0.57357,     0.57457,     0.57558,\n",
       "           0.57658,     0.57758,     0.57858,     0.57958,     0.58058,     0.58158,     0.58258,     0.58358,     0.58458,     0.58559,     0.58659,     0.58759,     0.58859,     0.58959,     0.59059,     0.59159,     0.59259,     0.59359,     0.59459,      0.5956,      0.5966,      0.5976,      0.5986,      0.5996,\n",
       "            0.6006,      0.6016,      0.6026,      0.6036,      0.6046,     0.60561,     0.60661,     0.60761,     0.60861,     0.60961,     0.61061,     0.61161,     0.61261,     0.61361,     0.61461,     0.61562,     0.61662,     0.61762,     0.61862,     0.61962,     0.62062,     0.62162,     0.62262,     0.62362,\n",
       "           0.62462,     0.62563,     0.62663,     0.62763,     0.62863,     0.62963,     0.63063,     0.63163,     0.63263,     0.63363,     0.63463,     0.63564,     0.63664,     0.63764,     0.63864,     0.63964,     0.64064,     0.64164,     0.64264,     0.64364,     0.64464,     0.64565,     0.64665,     0.64765,\n",
       "           0.64865,     0.64965,     0.65065,     0.65165,     0.65265,     0.65365,     0.65465,     0.65566,     0.65666,     0.65766,     0.65866,     0.65966,     0.66066,     0.66166,     0.66266,     0.66366,     0.66466,     0.66567,     0.66667,     0.66767,     0.66867,     0.66967,     0.67067,     0.67167,\n",
       "           0.67267,     0.67367,     0.67467,     0.67568,     0.67668,     0.67768,     0.67868,     0.67968,     0.68068,     0.68168,     0.68268,     0.68368,     0.68468,     0.68569,     0.68669,     0.68769,     0.68869,     0.68969,     0.69069,     0.69169,     0.69269,     0.69369,     0.69469,      0.6957,\n",
       "            0.6967,      0.6977,      0.6987,      0.6997,      0.7007,      0.7017,      0.7027,      0.7037,      0.7047,     0.70571,     0.70671,     0.70771,     0.70871,     0.70971,     0.71071,     0.71171,     0.71271,     0.71371,     0.71471,     0.71572,     0.71672,     0.71772,     0.71872,     0.71972,\n",
       "           0.72072,     0.72172,     0.72272,     0.72372,     0.72472,     0.72573,     0.72673,     0.72773,     0.72873,     0.72973,     0.73073,     0.73173,     0.73273,     0.73373,     0.73473,     0.73574,     0.73674,     0.73774,     0.73874,     0.73974,     0.74074,     0.74174,     0.74274,     0.74374,\n",
       "           0.74474,     0.74575,     0.74675,     0.74775,     0.74875,     0.74975,     0.75075,     0.75175,     0.75275,     0.75375,     0.75475,     0.75576,     0.75676,     0.75776,     0.75876,     0.75976,     0.76076,     0.76176,     0.76276,     0.76376,     0.76476,     0.76577,     0.76677,     0.76777,\n",
       "           0.76877,     0.76977,     0.77077,     0.77177,     0.77277,     0.77377,     0.77477,     0.77578,     0.77678,     0.77778,     0.77878,     0.77978,     0.78078,     0.78178,     0.78278,     0.78378,     0.78478,     0.78579,     0.78679,     0.78779,     0.78879,     0.78979,     0.79079,     0.79179,\n",
       "           0.79279,     0.79379,     0.79479,      0.7958,      0.7968,      0.7978,      0.7988,      0.7998,      0.8008,      0.8018,      0.8028,      0.8038,      0.8048,     0.80581,     0.80681,     0.80781,     0.80881,     0.80981,     0.81081,     0.81181,     0.81281,     0.81381,     0.81481,     0.81582,\n",
       "           0.81682,     0.81782,     0.81882,     0.81982,     0.82082,     0.82182,     0.82282,     0.82382,     0.82482,     0.82583,     0.82683,     0.82783,     0.82883,     0.82983,     0.83083,     0.83183,     0.83283,     0.83383,     0.83483,     0.83584,     0.83684,     0.83784,     0.83884,     0.83984,\n",
       "           0.84084,     0.84184,     0.84284,     0.84384,     0.84484,     0.84585,     0.84685,     0.84785,     0.84885,     0.84985,     0.85085,     0.85185,     0.85285,     0.85385,     0.85485,     0.85586,     0.85686,     0.85786,     0.85886,     0.85986,     0.86086,     0.86186,     0.86286,     0.86386,\n",
       "           0.86486,     0.86587,     0.86687,     0.86787,     0.86887,     0.86987,     0.87087,     0.87187,     0.87287,     0.87387,     0.87487,     0.87588,     0.87688,     0.87788,     0.87888,     0.87988,     0.88088,     0.88188,     0.88288,     0.88388,     0.88488,     0.88589,     0.88689,     0.88789,\n",
       "           0.88889,     0.88989,     0.89089,     0.89189,     0.89289,     0.89389,     0.89489,      0.8959,      0.8969,      0.8979,      0.8989,      0.8999,      0.9009,      0.9019,      0.9029,      0.9039,      0.9049,     0.90591,     0.90691,     0.90791,     0.90891,     0.90991,     0.91091,     0.91191,\n",
       "           0.91291,     0.91391,     0.91491,     0.91592,     0.91692,     0.91792,     0.91892,     0.91992,     0.92092,     0.92192,     0.92292,     0.92392,     0.92492,     0.92593,     0.92693,     0.92793,     0.92893,     0.92993,     0.93093,     0.93193,     0.93293,     0.93393,     0.93493,     0.93594,\n",
       "           0.93694,     0.93794,     0.93894,     0.93994,     0.94094,     0.94194,     0.94294,     0.94394,     0.94494,     0.94595,     0.94695,     0.94795,     0.94895,     0.94995,     0.95095,     0.95195,     0.95295,     0.95395,     0.95495,     0.95596,     0.95696,     0.95796,     0.95896,     0.95996,\n",
       "           0.96096,     0.96196,     0.96296,     0.96396,     0.96496,     0.96597,     0.96697,     0.96797,     0.96897,     0.96997,     0.97097,     0.97197,     0.97297,     0.97397,     0.97497,     0.97598,     0.97698,     0.97798,     0.97898,     0.97998,     0.98098,     0.98198,     0.98298,     0.98398,\n",
       "           0.98498,     0.98599,     0.98699,     0.98799,     0.98899,     0.98999,     0.99099,     0.99199,     0.99299,     0.99399,     0.99499,       0.996,       0.997,       0.998,       0.999,           1]), array([[    0.93918,     0.93918,     0.96147,     0.97112,     0.97579,     0.97964,     0.98167,     0.98267,     0.98362,     0.98507,     0.98592,     0.98657,     0.98728,     0.98792,     0.98844,     0.98865,     0.98882,     0.98897,     0.98921,     0.98945,     0.98969,     0.98979,     0.98994,\n",
       "            0.99006,     0.99033,     0.99054,     0.99065,     0.99085,     0.99088,     0.99092,     0.99104,     0.99108,     0.99114,     0.99124,     0.99131,     0.99136,      0.9914,     0.99145,      0.9915,     0.99155,     0.99164,     0.99169,     0.99175,     0.99185,      0.9919,     0.99195,\n",
       "            0.99201,     0.99205,     0.99209,     0.99212,     0.99216,     0.99219,     0.99229,     0.99231,     0.99233,     0.99235,     0.99238,     0.99245,     0.99256,     0.99258,      0.9926,     0.99263,     0.99268,     0.99286,     0.99293,     0.99297,       0.993,     0.99305,     0.99309,\n",
       "            0.99311,     0.99313,     0.99314,     0.99316,     0.99318,     0.99323,      0.9933,     0.99337,     0.99339,      0.9934,     0.99342,     0.99344,     0.99346,     0.99354,     0.99355,     0.99355,     0.99356,     0.99356,     0.99357,     0.99357,     0.99357,     0.99358,     0.99358,\n",
       "            0.99359,     0.99359,      0.9936,      0.9936,      0.9936,     0.99361,     0.99361,     0.99362,     0.99362,     0.99363,     0.99363,     0.99363,     0.99364,     0.99365,     0.99365,     0.99366,     0.99367,     0.99367,     0.99368,     0.99369,     0.99369,      0.9937,     0.99371,\n",
       "            0.99371,     0.99372,     0.99373,     0.99375,     0.99376,     0.99378,      0.9938,     0.99381,     0.99382,     0.99383,     0.99384,     0.99385,     0.99386,     0.99387,     0.99388,     0.99389,      0.9939,     0.99391,     0.99392,     0.99393,     0.99394,     0.99396,     0.99397,\n",
       "            0.99398,     0.99399,     0.99403,     0.99409,     0.99413,     0.99417,     0.99419,     0.99421,     0.99423,     0.99425,     0.99427,     0.99435,     0.99437,     0.99439,     0.99441,     0.99443,     0.99444,     0.99447,     0.99451,     0.99454,     0.99455,     0.99456,     0.99457,\n",
       "            0.99458,      0.9946,     0.99461,     0.99462,     0.99463,     0.99463,     0.99464,     0.99464,     0.99465,     0.99465,     0.99466,     0.99466,     0.99467,     0.99467,     0.99468,     0.99469,     0.99469,      0.9947,      0.9947,     0.99471,     0.99471,     0.99472,     0.99481,\n",
       "            0.99484,     0.99487,      0.9949,      0.9949,     0.99491,     0.99491,     0.99491,     0.99492,     0.99492,     0.99492,     0.99493,     0.99493,     0.99493,     0.99494,     0.99494,     0.99494,     0.99495,     0.99495,     0.99495,     0.99496,     0.99496,     0.99496,     0.99497,\n",
       "            0.99497,     0.99497,     0.99498,     0.99498,     0.99498,     0.99499,     0.99499,       0.995,     0.99501,     0.99503,     0.99504,     0.99505,     0.99506,     0.99508,     0.99509,     0.99511,     0.99512,     0.99514,     0.99516,     0.99517,     0.99518,     0.99518,     0.99518,\n",
       "            0.99519,     0.99519,      0.9952,      0.9952,      0.9952,     0.99521,     0.99521,     0.99522,     0.99522,     0.99522,     0.99523,     0.99523,     0.99524,     0.99524,     0.99524,     0.99525,     0.99525,     0.99526,     0.99526,      0.9953,     0.99535,     0.99536,     0.99536,\n",
       "            0.99536,     0.99537,     0.99537,     0.99537,     0.99538,     0.99538,     0.99538,     0.99539,     0.99539,     0.99539,      0.9954,      0.9954,      0.9954,      0.9954,     0.99541,     0.99541,     0.99541,     0.99542,     0.99542,     0.99542,     0.99543,     0.99543,     0.99543,\n",
       "            0.99544,     0.99544,     0.99544,     0.99548,     0.99552,     0.99555,     0.99557,     0.99559,     0.99562,     0.99567,     0.99581,     0.99582,     0.99583,     0.99584,     0.99585,     0.99586,     0.99588,     0.99589,      0.9959,     0.99591,     0.99592,     0.99593,     0.99594,\n",
       "            0.99595,     0.99596,     0.99598,     0.99599,     0.99599,       0.996,     0.99601,     0.99602,     0.99602,     0.99603,     0.99604,     0.99605,     0.99605,     0.99606,     0.99607,     0.99607,     0.99611,     0.99617,     0.99617,     0.99618,     0.99618,     0.99619,     0.99619,\n",
       "            0.99619,      0.9962,      0.9962,     0.99621,     0.99621,     0.99621,     0.99622,     0.99622,     0.99622,     0.99623,     0.99623,     0.99624,     0.99624,     0.99624,     0.99625,     0.99625,     0.99626,     0.99626,     0.99627,     0.99628,     0.99629,      0.9963,     0.99631,\n",
       "            0.99632,     0.99634,     0.99635,     0.99646,     0.99648,     0.99651,     0.99653,     0.99652,     0.99651,      0.9965,     0.99649,     0.99648,     0.99647,     0.99646,     0.99645,     0.99644,     0.99645,     0.99646,     0.99647,     0.99648,     0.99649,      0.9965,     0.99651,\n",
       "            0.99652,     0.99653,     0.99657,      0.9966,     0.99663,     0.99666,     0.99668,     0.99671,     0.99672,     0.99672,     0.99673,     0.99673,     0.99674,     0.99674,     0.99675,     0.99675,     0.99676,     0.99676,     0.99677,     0.99677,     0.99678,     0.99678,     0.99678,\n",
       "            0.99679,     0.99679,      0.9968,      0.9968,     0.99691,     0.99696,     0.99699,       0.997,     0.99701,     0.99702,     0.99702,     0.99703,     0.99704,     0.99705,     0.99706,     0.99706,     0.99707,     0.99708,     0.99708,     0.99707,     0.99707,     0.99707,     0.99707,\n",
       "            0.99707,     0.99706,     0.99706,     0.99706,     0.99706,     0.99706,     0.99706,     0.99705,     0.99705,     0.99705,     0.99705,     0.99705,     0.99704,     0.99704,     0.99704,     0.99704,     0.99704,     0.99703,     0.99703,     0.99703,     0.99703,     0.99703,     0.99702,\n",
       "            0.99702,     0.99702,     0.99702,     0.99702,     0.99702,     0.99701,     0.99701,     0.99701,     0.99701,     0.99701,       0.997,       0.997,       0.997,       0.997,       0.997,     0.99699,     0.99699,     0.99699,     0.99699,     0.99698,     0.99698,     0.99697,     0.99696,\n",
       "            0.99696,     0.99695,     0.99694,     0.99693,     0.99693,     0.99692,     0.99691,      0.9969,      0.9969,      0.9969,     0.99691,     0.99691,     0.99692,     0.99692,     0.99693,     0.99694,     0.99694,     0.99695,     0.99696,     0.99696,     0.99697,     0.99697,     0.99698,\n",
       "            0.99699,     0.99704,     0.99708,     0.99707,     0.99706,     0.99706,     0.99705,     0.99705,     0.99704,     0.99703,     0.99703,     0.99702,     0.99701,     0.99701,       0.997,       0.997,     0.99699,       0.997,     0.99703,     0.99706,     0.99709,     0.99711,     0.99713,\n",
       "            0.99714,     0.99716,     0.99718,     0.99719,      0.9972,     0.99722,     0.99723,     0.99724,     0.99726,     0.99723,      0.9972,     0.99717,     0.99718,     0.99718,     0.99719,      0.9972,     0.99721,     0.99722,     0.99723,     0.99724,     0.99724,     0.99725,     0.99716,\n",
       "            0.99714,     0.99712,     0.99709,     0.99709,     0.99712,     0.99715,     0.99716,     0.99716,     0.99716,     0.99715,     0.99715,     0.99714,     0.99714,     0.99713,     0.99713,     0.99712,     0.99712,     0.99712,     0.99711,     0.99711,      0.9971,      0.9971,     0.99709,\n",
       "            0.99709,     0.99708,     0.99708,     0.99708,     0.99709,     0.99711,     0.99712,     0.99714,     0.99716,     0.99717,     0.99717,     0.99718,     0.99718,     0.99718,     0.99719,     0.99719,     0.99719,      0.9972,      0.9972,     0.99721,     0.99721,     0.99721,     0.99722,\n",
       "            0.99722,     0.99723,     0.99723,     0.99723,     0.99724,     0.99724,     0.99724,     0.99725,     0.99725,     0.99726,     0.99725,     0.99724,     0.99723,     0.99721,      0.9972,     0.99719,     0.99718,     0.99717,     0.99715,     0.99713,     0.99712,      0.9971,     0.99708,\n",
       "            0.99707,     0.99706,     0.99705,     0.99704,     0.99703,     0.99703,     0.99702,     0.99701,       0.997,     0.99699,     0.99696,     0.99689,     0.99687,     0.99685,     0.99683,     0.99681,     0.99678,     0.99673,      0.9967,     0.99668,     0.99666,     0.99664,     0.99661,\n",
       "            0.99658,     0.99655,     0.99652,     0.99652,     0.99651,      0.9965,      0.9965,     0.99649,     0.99649,     0.99648,     0.99647,     0.99647,     0.99646,     0.99646,     0.99645,     0.99644,     0.99644,     0.99643,     0.99642,     0.99641,      0.9964,     0.99639,     0.99638,\n",
       "            0.99637,     0.99635,     0.99634,     0.99633,     0.99632,     0.99631,     0.99631,      0.9963,     0.99629,     0.99628,     0.99627,     0.99626,     0.99625,     0.99626,     0.99626,     0.99627,     0.99628,     0.99629,      0.9963,      0.9963,     0.99631,     0.99632,     0.99633,\n",
       "            0.99634,     0.99633,     0.99633,     0.99632,     0.99631,      0.9963,      0.9963,     0.99629,     0.99628,     0.99628,     0.99627,     0.99626,     0.99625,     0.99625,     0.99624,     0.99624,     0.99623,     0.99623,     0.99622,     0.99622,     0.99621,     0.99621,      0.9962,\n",
       "            0.99619,     0.99619,     0.99618,     0.99618,     0.99617,     0.99617,     0.99616,     0.99616,     0.99613,     0.99609,     0.99605,     0.99603,       0.996,     0.99598,     0.99591,     0.99589,     0.99592,     0.99594,     0.99596,     0.99595,     0.99593,     0.99591,     0.99588,\n",
       "            0.99587,     0.99586,     0.99585,     0.99584,     0.99584,     0.99583,     0.99582,     0.99581,      0.9958,     0.99579,     0.99576,     0.99573,     0.99569,     0.99568,     0.99566,     0.99565,     0.99563,     0.99562,     0.99561,      0.9956,      0.9956,     0.99559,     0.99559,\n",
       "            0.99558,     0.99558,     0.99557,     0.99557,     0.99557,     0.99556,     0.99556,     0.99555,     0.99555,     0.99555,     0.99554,     0.99554,     0.99553,     0.99553,     0.99553,     0.99552,     0.99552,     0.99551,      0.9955,     0.99547,     0.99545,     0.99542,     0.99541,\n",
       "            0.99539,     0.99538,     0.99537,     0.99535,     0.99534,     0.99522,     0.99514,     0.99509,     0.99505,     0.99503,     0.99502,       0.995,     0.99499,     0.99498,     0.99496,     0.99492,     0.99487,     0.99478,     0.99476,     0.99474,     0.99473,     0.99471,      0.9947,\n",
       "            0.99468,     0.99473,     0.99477,     0.99476,     0.99475,     0.99473,     0.99472,     0.99471,      0.9947,     0.99468,     0.99458,     0.99457,     0.99455,     0.99454,     0.99453,     0.99452,      0.9945,     0.99449,     0.99447,     0.99445,     0.99443,     0.99441,     0.99437,\n",
       "            0.99431,     0.99427,     0.99423,     0.99412,     0.99409,     0.99406,     0.99401,     0.99388,     0.99384,     0.99382,     0.99381,     0.99379,     0.99377,     0.99376,     0.99371,     0.99366,     0.99357,     0.99355,     0.99352,      0.9935,     0.99345,     0.99333,     0.99325,\n",
       "            0.99319,     0.99313,     0.99309,     0.99306,     0.99304,     0.99286,     0.99272,     0.99265,      0.9925,     0.99245,     0.99242,     0.99239,     0.99225,     0.99218,     0.99209,     0.99211,     0.99214,     0.99216,     0.99218,     0.99212,     0.99202,     0.99193,      0.9917,\n",
       "            0.99162,      0.9916,     0.99158,     0.99157,     0.99155,     0.99152,     0.99148,     0.99144,     0.99132,     0.99129,     0.99125,     0.99116,      0.9911,     0.99096,     0.99093,     0.99089,     0.99085,      0.9908,     0.99044,     0.99031,     0.99025,     0.99021,     0.99018,\n",
       "            0.99014,     0.99006,      0.9901,     0.99005,     0.98996,      0.9898,     0.98972,     0.98948,     0.98942,     0.98928,     0.98909,      0.9889,     0.98877,     0.98852,     0.98843,     0.98838,     0.98811,     0.98798,     0.98791,     0.98763,     0.98744,     0.98735,     0.98725,\n",
       "            0.98707,     0.98675,     0.98668,     0.98657,     0.98652,     0.98612,     0.98607,       0.986,     0.98562,     0.98534,     0.98502,     0.98476,     0.98447,     0.98421,     0.98399,     0.98384,     0.98378,     0.98313,     0.98274,     0.98218,     0.98189,     0.98141,     0.98069,\n",
       "            0.97998,     0.97921,     0.97816,     0.97768,     0.97691,     0.97595,     0.97498,     0.97418,     0.97353,     0.97293,      0.9723,     0.97149,     0.97052,     0.96916,      0.9676,     0.96662,     0.96476,     0.96329,     0.96239,     0.96022,     0.95784,     0.95585,     0.95315,\n",
       "            0.95104,     0.94791,     0.94568,      0.9419,     0.93862,     0.93612,     0.93332,     0.92925,     0.92483,     0.92122,     0.91577,      0.9108,     0.90546,      0.8994,     0.89147,     0.88343,     0.87505,     0.86053,     0.84413,     0.82929,     0.81161,     0.79473,     0.77544,\n",
       "            0.75609,     0.73069,     0.69715,     0.66325,     0.61958,     0.57463,     0.52028,     0.46039,     0.40286,     0.34212,     0.27549,     0.20121,     0.13884,    0.089433,    0.032716,    0.015927,   0.0094091,   0.0032133,   0.0021463,   0.0017176,           0,           0,           0,\n",
       "                  0,           0,           0,           0,           0,           0,           0,           0,           0,           0,           0]]), 'Confidence', 'F1'], [array([          0,    0.001001,    0.002002,    0.003003,    0.004004,    0.005005,    0.006006,    0.007007,    0.008008,    0.009009,     0.01001,    0.011011,    0.012012,    0.013013,    0.014014,    0.015015,    0.016016,    0.017017,    0.018018,    0.019019,     0.02002,    0.021021,    0.022022,    0.023023,\n",
       "          0.024024,    0.025025,    0.026026,    0.027027,    0.028028,    0.029029,     0.03003,    0.031031,    0.032032,    0.033033,    0.034034,    0.035035,    0.036036,    0.037037,    0.038038,    0.039039,     0.04004,    0.041041,    0.042042,    0.043043,    0.044044,    0.045045,    0.046046,    0.047047,\n",
       "          0.048048,    0.049049,     0.05005,    0.051051,    0.052052,    0.053053,    0.054054,    0.055055,    0.056056,    0.057057,    0.058058,    0.059059,     0.06006,    0.061061,    0.062062,    0.063063,    0.064064,    0.065065,    0.066066,    0.067067,    0.068068,    0.069069,     0.07007,    0.071071,\n",
       "          0.072072,    0.073073,    0.074074,    0.075075,    0.076076,    0.077077,    0.078078,    0.079079,     0.08008,    0.081081,    0.082082,    0.083083,    0.084084,    0.085085,    0.086086,    0.087087,    0.088088,    0.089089,     0.09009,    0.091091,    0.092092,    0.093093,    0.094094,    0.095095,\n",
       "          0.096096,    0.097097,    0.098098,    0.099099,      0.1001,      0.1011,      0.1021,      0.1031,      0.1041,     0.10511,     0.10611,     0.10711,     0.10811,     0.10911,     0.11011,     0.11111,     0.11211,     0.11311,     0.11411,     0.11512,     0.11612,     0.11712,     0.11812,     0.11912,\n",
       "           0.12012,     0.12112,     0.12212,     0.12312,     0.12412,     0.12513,     0.12613,     0.12713,     0.12813,     0.12913,     0.13013,     0.13113,     0.13213,     0.13313,     0.13413,     0.13514,     0.13614,     0.13714,     0.13814,     0.13914,     0.14014,     0.14114,     0.14214,     0.14314,\n",
       "           0.14414,     0.14515,     0.14615,     0.14715,     0.14815,     0.14915,     0.15015,     0.15115,     0.15215,     0.15315,     0.15415,     0.15516,     0.15616,     0.15716,     0.15816,     0.15916,     0.16016,     0.16116,     0.16216,     0.16316,     0.16416,     0.16517,     0.16617,     0.16717,\n",
       "           0.16817,     0.16917,     0.17017,     0.17117,     0.17217,     0.17317,     0.17417,     0.17518,     0.17618,     0.17718,     0.17818,     0.17918,     0.18018,     0.18118,     0.18218,     0.18318,     0.18418,     0.18519,     0.18619,     0.18719,     0.18819,     0.18919,     0.19019,     0.19119,\n",
       "           0.19219,     0.19319,     0.19419,      0.1952,      0.1962,      0.1972,      0.1982,      0.1992,      0.2002,      0.2012,      0.2022,      0.2032,      0.2042,     0.20521,     0.20621,     0.20721,     0.20821,     0.20921,     0.21021,     0.21121,     0.21221,     0.21321,     0.21421,     0.21522,\n",
       "           0.21622,     0.21722,     0.21822,     0.21922,     0.22022,     0.22122,     0.22222,     0.22322,     0.22422,     0.22523,     0.22623,     0.22723,     0.22823,     0.22923,     0.23023,     0.23123,     0.23223,     0.23323,     0.23423,     0.23524,     0.23624,     0.23724,     0.23824,     0.23924,\n",
       "           0.24024,     0.24124,     0.24224,     0.24324,     0.24424,     0.24525,     0.24625,     0.24725,     0.24825,     0.24925,     0.25025,     0.25125,     0.25225,     0.25325,     0.25425,     0.25526,     0.25626,     0.25726,     0.25826,     0.25926,     0.26026,     0.26126,     0.26226,     0.26326,\n",
       "           0.26426,     0.26527,     0.26627,     0.26727,     0.26827,     0.26927,     0.27027,     0.27127,     0.27227,     0.27327,     0.27427,     0.27528,     0.27628,     0.27728,     0.27828,     0.27928,     0.28028,     0.28128,     0.28228,     0.28328,     0.28428,     0.28529,     0.28629,     0.28729,\n",
       "           0.28829,     0.28929,     0.29029,     0.29129,     0.29229,     0.29329,     0.29429,      0.2953,      0.2963,      0.2973,      0.2983,      0.2993,      0.3003,      0.3013,      0.3023,      0.3033,      0.3043,     0.30531,     0.30631,     0.30731,     0.30831,     0.30931,     0.31031,     0.31131,\n",
       "           0.31231,     0.31331,     0.31431,     0.31532,     0.31632,     0.31732,     0.31832,     0.31932,     0.32032,     0.32132,     0.32232,     0.32332,     0.32432,     0.32533,     0.32633,     0.32733,     0.32833,     0.32933,     0.33033,     0.33133,     0.33233,     0.33333,     0.33433,     0.33534,\n",
       "           0.33634,     0.33734,     0.33834,     0.33934,     0.34034,     0.34134,     0.34234,     0.34334,     0.34434,     0.34535,     0.34635,     0.34735,     0.34835,     0.34935,     0.35035,     0.35135,     0.35235,     0.35335,     0.35435,     0.35536,     0.35636,     0.35736,     0.35836,     0.35936,\n",
       "           0.36036,     0.36136,     0.36236,     0.36336,     0.36436,     0.36537,     0.36637,     0.36737,     0.36837,     0.36937,     0.37037,     0.37137,     0.37237,     0.37337,     0.37437,     0.37538,     0.37638,     0.37738,     0.37838,     0.37938,     0.38038,     0.38138,     0.38238,     0.38338,\n",
       "           0.38438,     0.38539,     0.38639,     0.38739,     0.38839,     0.38939,     0.39039,     0.39139,     0.39239,     0.39339,     0.39439,      0.3954,      0.3964,      0.3974,      0.3984,      0.3994,      0.4004,      0.4014,      0.4024,      0.4034,      0.4044,     0.40541,     0.40641,     0.40741,\n",
       "           0.40841,     0.40941,     0.41041,     0.41141,     0.41241,     0.41341,     0.41441,     0.41542,     0.41642,     0.41742,     0.41842,     0.41942,     0.42042,     0.42142,     0.42242,     0.42342,     0.42442,     0.42543,     0.42643,     0.42743,     0.42843,     0.42943,     0.43043,     0.43143,\n",
       "           0.43243,     0.43343,     0.43443,     0.43544,     0.43644,     0.43744,     0.43844,     0.43944,     0.44044,     0.44144,     0.44244,     0.44344,     0.44444,     0.44545,     0.44645,     0.44745,     0.44845,     0.44945,     0.45045,     0.45145,     0.45245,     0.45345,     0.45445,     0.45546,\n",
       "           0.45646,     0.45746,     0.45846,     0.45946,     0.46046,     0.46146,     0.46246,     0.46346,     0.46446,     0.46547,     0.46647,     0.46747,     0.46847,     0.46947,     0.47047,     0.47147,     0.47247,     0.47347,     0.47447,     0.47548,     0.47648,     0.47748,     0.47848,     0.47948,\n",
       "           0.48048,     0.48148,     0.48248,     0.48348,     0.48448,     0.48549,     0.48649,     0.48749,     0.48849,     0.48949,     0.49049,     0.49149,     0.49249,     0.49349,     0.49449,      0.4955,      0.4965,      0.4975,      0.4985,      0.4995,      0.5005,      0.5015,      0.5025,      0.5035,\n",
       "            0.5045,     0.50551,     0.50651,     0.50751,     0.50851,     0.50951,     0.51051,     0.51151,     0.51251,     0.51351,     0.51451,     0.51552,     0.51652,     0.51752,     0.51852,     0.51952,     0.52052,     0.52152,     0.52252,     0.52352,     0.52452,     0.52553,     0.52653,     0.52753,\n",
       "           0.52853,     0.52953,     0.53053,     0.53153,     0.53253,     0.53353,     0.53453,     0.53554,     0.53654,     0.53754,     0.53854,     0.53954,     0.54054,     0.54154,     0.54254,     0.54354,     0.54454,     0.54555,     0.54655,     0.54755,     0.54855,     0.54955,     0.55055,     0.55155,\n",
       "           0.55255,     0.55355,     0.55455,     0.55556,     0.55656,     0.55756,     0.55856,     0.55956,     0.56056,     0.56156,     0.56256,     0.56356,     0.56456,     0.56557,     0.56657,     0.56757,     0.56857,     0.56957,     0.57057,     0.57157,     0.57257,     0.57357,     0.57457,     0.57558,\n",
       "           0.57658,     0.57758,     0.57858,     0.57958,     0.58058,     0.58158,     0.58258,     0.58358,     0.58458,     0.58559,     0.58659,     0.58759,     0.58859,     0.58959,     0.59059,     0.59159,     0.59259,     0.59359,     0.59459,      0.5956,      0.5966,      0.5976,      0.5986,      0.5996,\n",
       "            0.6006,      0.6016,      0.6026,      0.6036,      0.6046,     0.60561,     0.60661,     0.60761,     0.60861,     0.60961,     0.61061,     0.61161,     0.61261,     0.61361,     0.61461,     0.61562,     0.61662,     0.61762,     0.61862,     0.61962,     0.62062,     0.62162,     0.62262,     0.62362,\n",
       "           0.62462,     0.62563,     0.62663,     0.62763,     0.62863,     0.62963,     0.63063,     0.63163,     0.63263,     0.63363,     0.63463,     0.63564,     0.63664,     0.63764,     0.63864,     0.63964,     0.64064,     0.64164,     0.64264,     0.64364,     0.64464,     0.64565,     0.64665,     0.64765,\n",
       "           0.64865,     0.64965,     0.65065,     0.65165,     0.65265,     0.65365,     0.65465,     0.65566,     0.65666,     0.65766,     0.65866,     0.65966,     0.66066,     0.66166,     0.66266,     0.66366,     0.66466,     0.66567,     0.66667,     0.66767,     0.66867,     0.66967,     0.67067,     0.67167,\n",
       "           0.67267,     0.67367,     0.67467,     0.67568,     0.67668,     0.67768,     0.67868,     0.67968,     0.68068,     0.68168,     0.68268,     0.68368,     0.68468,     0.68569,     0.68669,     0.68769,     0.68869,     0.68969,     0.69069,     0.69169,     0.69269,     0.69369,     0.69469,      0.6957,\n",
       "            0.6967,      0.6977,      0.6987,      0.6997,      0.7007,      0.7017,      0.7027,      0.7037,      0.7047,     0.70571,     0.70671,     0.70771,     0.70871,     0.70971,     0.71071,     0.71171,     0.71271,     0.71371,     0.71471,     0.71572,     0.71672,     0.71772,     0.71872,     0.71972,\n",
       "           0.72072,     0.72172,     0.72272,     0.72372,     0.72472,     0.72573,     0.72673,     0.72773,     0.72873,     0.72973,     0.73073,     0.73173,     0.73273,     0.73373,     0.73473,     0.73574,     0.73674,     0.73774,     0.73874,     0.73974,     0.74074,     0.74174,     0.74274,     0.74374,\n",
       "           0.74474,     0.74575,     0.74675,     0.74775,     0.74875,     0.74975,     0.75075,     0.75175,     0.75275,     0.75375,     0.75475,     0.75576,     0.75676,     0.75776,     0.75876,     0.75976,     0.76076,     0.76176,     0.76276,     0.76376,     0.76476,     0.76577,     0.76677,     0.76777,\n",
       "           0.76877,     0.76977,     0.77077,     0.77177,     0.77277,     0.77377,     0.77477,     0.77578,     0.77678,     0.77778,     0.77878,     0.77978,     0.78078,     0.78178,     0.78278,     0.78378,     0.78478,     0.78579,     0.78679,     0.78779,     0.78879,     0.78979,     0.79079,     0.79179,\n",
       "           0.79279,     0.79379,     0.79479,      0.7958,      0.7968,      0.7978,      0.7988,      0.7998,      0.8008,      0.8018,      0.8028,      0.8038,      0.8048,     0.80581,     0.80681,     0.80781,     0.80881,     0.80981,     0.81081,     0.81181,     0.81281,     0.81381,     0.81481,     0.81582,\n",
       "           0.81682,     0.81782,     0.81882,     0.81982,     0.82082,     0.82182,     0.82282,     0.82382,     0.82482,     0.82583,     0.82683,     0.82783,     0.82883,     0.82983,     0.83083,     0.83183,     0.83283,     0.83383,     0.83483,     0.83584,     0.83684,     0.83784,     0.83884,     0.83984,\n",
       "           0.84084,     0.84184,     0.84284,     0.84384,     0.84484,     0.84585,     0.84685,     0.84785,     0.84885,     0.84985,     0.85085,     0.85185,     0.85285,     0.85385,     0.85485,     0.85586,     0.85686,     0.85786,     0.85886,     0.85986,     0.86086,     0.86186,     0.86286,     0.86386,\n",
       "           0.86486,     0.86587,     0.86687,     0.86787,     0.86887,     0.86987,     0.87087,     0.87187,     0.87287,     0.87387,     0.87487,     0.87588,     0.87688,     0.87788,     0.87888,     0.87988,     0.88088,     0.88188,     0.88288,     0.88388,     0.88488,     0.88589,     0.88689,     0.88789,\n",
       "           0.88889,     0.88989,     0.89089,     0.89189,     0.89289,     0.89389,     0.89489,      0.8959,      0.8969,      0.8979,      0.8989,      0.8999,      0.9009,      0.9019,      0.9029,      0.9039,      0.9049,     0.90591,     0.90691,     0.90791,     0.90891,     0.90991,     0.91091,     0.91191,\n",
       "           0.91291,     0.91391,     0.91491,     0.91592,     0.91692,     0.91792,     0.91892,     0.91992,     0.92092,     0.92192,     0.92292,     0.92392,     0.92492,     0.92593,     0.92693,     0.92793,     0.92893,     0.92993,     0.93093,     0.93193,     0.93293,     0.93393,     0.93493,     0.93594,\n",
       "           0.93694,     0.93794,     0.93894,     0.93994,     0.94094,     0.94194,     0.94294,     0.94394,     0.94494,     0.94595,     0.94695,     0.94795,     0.94895,     0.94995,     0.95095,     0.95195,     0.95295,     0.95395,     0.95495,     0.95596,     0.95696,     0.95796,     0.95896,     0.95996,\n",
       "           0.96096,     0.96196,     0.96296,     0.96396,     0.96496,     0.96597,     0.96697,     0.96797,     0.96897,     0.96997,     0.97097,     0.97197,     0.97297,     0.97397,     0.97497,     0.97598,     0.97698,     0.97798,     0.97898,     0.97998,     0.98098,     0.98198,     0.98298,     0.98398,\n",
       "           0.98498,     0.98599,     0.98699,     0.98799,     0.98899,     0.98999,     0.99099,     0.99199,     0.99299,     0.99399,     0.99499,       0.996,       0.997,       0.998,       0.999,           1]), array([[    0.88576,     0.88576,     0.92627,     0.94451,     0.95373,      0.9611,     0.96503,     0.96696,      0.9688,     0.97162,     0.97328,     0.97453,     0.97592,     0.97718,     0.97819,     0.97861,     0.97894,     0.97924,      0.9797,     0.98018,     0.98065,     0.98084,     0.98114,\n",
       "            0.98156,     0.98208,     0.98249,     0.98271,     0.98309,     0.98316,     0.98323,     0.98348,     0.98356,     0.98366,     0.98387,     0.98401,      0.9841,     0.98419,     0.98428,     0.98438,     0.98449,     0.98466,     0.98476,     0.98488,     0.98507,     0.98517,     0.98528,\n",
       "            0.98539,     0.98547,     0.98554,     0.98561,     0.98568,     0.98574,     0.98595,     0.98599,     0.98603,     0.98607,     0.98613,     0.98625,     0.98648,     0.98652,     0.98656,     0.98661,      0.9867,     0.98707,     0.98722,     0.98728,     0.98735,     0.98744,     0.98753,\n",
       "            0.98756,      0.9876,     0.98763,     0.98766,      0.9877,      0.9878,     0.98793,     0.98808,     0.98811,     0.98814,     0.98818,     0.98821,     0.98825,     0.98842,     0.98843,     0.98844,     0.98845,     0.98846,     0.98846,     0.98847,     0.98848,     0.98849,      0.9885,\n",
       "            0.98851,     0.98851,     0.98852,     0.98853,     0.98854,     0.98855,     0.98856,     0.98857,     0.98857,     0.98858,     0.98859,      0.9886,     0.98861,     0.98863,     0.98864,     0.98865,     0.98867,     0.98868,     0.98869,     0.98871,     0.98872,     0.98873,     0.98874,\n",
       "            0.98876,     0.98877,     0.98879,     0.98883,     0.98886,     0.98889,     0.98892,     0.98895,     0.98897,     0.98899,     0.98901,     0.98903,     0.98905,     0.98907,     0.98909,     0.98911,     0.98913,     0.98915,     0.98917,     0.98919,     0.98921,     0.98924,     0.98926,\n",
       "            0.98928,      0.9893,     0.98939,     0.98951,     0.98958,     0.98965,      0.9897,     0.98974,     0.98978,     0.98982,     0.98986,     0.99001,     0.99006,      0.9901,     0.99013,     0.99017,     0.99021,     0.99027,     0.99033,     0.99039,     0.99041,     0.99044,     0.99046,\n",
       "            0.99048,      0.9905,     0.99053,     0.99055,     0.99057,     0.99058,     0.99059,      0.9906,     0.99061,     0.99062,     0.99063,     0.99064,     0.99065,     0.99066,     0.99067,     0.99068,     0.99069,      0.9907,     0.99071,     0.99072,     0.99073,     0.99074,     0.99094,\n",
       "            0.99099,     0.99105,      0.9911,     0.99111,     0.99112,     0.99113,     0.99113,     0.99114,     0.99115,     0.99115,     0.99116,     0.99117,     0.99117,     0.99118,     0.99119,     0.99119,      0.9912,     0.99121,     0.99121,     0.99122,     0.99123,     0.99123,     0.99124,\n",
       "            0.99125,     0.99125,     0.99126,     0.99127,     0.99127,     0.99128,     0.99129,     0.99131,     0.99133,     0.99136,     0.99138,     0.99141,     0.99143,     0.99146,     0.99149,     0.99152,     0.99155,     0.99159,     0.99162,     0.99165,     0.99166,     0.99167,     0.99167,\n",
       "            0.99168,     0.99169,      0.9917,     0.99171,     0.99171,     0.99172,     0.99173,     0.99174,     0.99175,     0.99175,     0.99176,     0.99177,     0.99178,     0.99179,     0.99179,      0.9918,     0.99181,     0.99182,     0.99183,      0.9919,     0.99201,     0.99202,     0.99202,\n",
       "            0.99203,     0.99203,     0.99204,     0.99205,     0.99205,     0.99206,     0.99207,     0.99207,     0.99208,     0.99209,     0.99209,      0.9921,     0.99211,     0.99211,     0.99212,     0.99212,     0.99213,     0.99214,     0.99214,     0.99215,     0.99216,     0.99216,     0.99217,\n",
       "            0.99218,     0.99218,     0.99219,     0.99227,     0.99235,      0.9924,     0.99245,     0.99249,     0.99253,     0.99264,     0.99291,     0.99294,     0.99296,     0.99298,       0.993,     0.99303,     0.99305,     0.99307,     0.99309,     0.99311,     0.99314,     0.99316,     0.99318,\n",
       "             0.9932,     0.99322,     0.99325,     0.99327,     0.99328,      0.9933,     0.99331,     0.99333,     0.99334,     0.99336,     0.99337,     0.99338,      0.9934,     0.99341,     0.99343,     0.99344,     0.99351,     0.99363,     0.99364,     0.99365,     0.99366,     0.99366,     0.99367,\n",
       "            0.99368,     0.99369,      0.9937,      0.9937,     0.99371,     0.99372,     0.99373,     0.99373,     0.99374,     0.99375,     0.99376,     0.99376,     0.99377,     0.99378,     0.99379,     0.99379,      0.9938,     0.99381,     0.99383,     0.99385,     0.99387,     0.99389,     0.99392,\n",
       "            0.99394,     0.99396,     0.99399,     0.99421,     0.99426,     0.99431,     0.99436,     0.99436,     0.99436,     0.99436,     0.99436,     0.99436,     0.99436,     0.99436,     0.99436,     0.99436,     0.99438,      0.9944,     0.99442,     0.99444,     0.99446,     0.99448,      0.9945,\n",
       "            0.99452,     0.99454,      0.9946,     0.99467,     0.99473,     0.99478,     0.99483,     0.99488,     0.99491,     0.99491,     0.99492,     0.99493,     0.99494,     0.99495,     0.99496,     0.99497,     0.99498,     0.99499,       0.995,     0.99501,     0.99502,     0.99503,     0.99504,\n",
       "            0.99505,     0.99506,     0.99507,     0.99508,      0.9953,     0.99539,     0.99545,     0.99547,     0.99548,      0.9955,     0.99551,     0.99553,     0.99555,     0.99556,     0.99558,      0.9956,     0.99561,     0.99562,     0.99562,     0.99562,     0.99562,     0.99562,     0.99562,\n",
       "            0.99562,     0.99562,     0.99562,     0.99562,     0.99562,     0.99562,     0.99562,     0.99562,     0.99562,     0.99562,     0.99562,     0.99562,     0.99562,     0.99562,     0.99562,     0.99562,     0.99562,     0.99562,     0.99562,     0.99562,     0.99562,     0.99562,     0.99562,\n",
       "            0.99562,     0.99562,     0.99562,     0.99562,     0.99562,     0.99562,     0.99562,     0.99562,     0.99562,     0.99562,     0.99562,     0.99562,     0.99562,     0.99562,     0.99562,     0.99562,     0.99562,     0.99562,     0.99562,     0.99562,     0.99562,     0.99562,     0.99562,\n",
       "            0.99562,     0.99562,     0.99562,     0.99562,     0.99562,     0.99562,     0.99562,     0.99562,     0.99562,     0.99563,     0.99564,     0.99566,     0.99567,     0.99568,     0.99569,     0.99571,     0.99572,     0.99573,     0.99574,     0.99576,     0.99577,     0.99578,     0.99579,\n",
       "            0.99581,     0.99591,     0.99599,     0.99599,     0.99599,     0.99599,     0.99599,     0.99599,     0.99599,     0.99599,     0.99599,     0.99599,     0.99599,     0.99599,     0.99599,     0.99599,     0.99599,     0.99602,     0.99608,     0.99614,     0.99619,     0.99623,     0.99626,\n",
       "             0.9963,     0.99634,     0.99637,     0.99639,     0.99642,     0.99645,     0.99647,      0.9965,     0.99653,     0.99653,     0.99653,     0.99653,     0.99655,     0.99656,     0.99658,      0.9966,     0.99661,     0.99663,     0.99665,     0.99666,     0.99668,      0.9967,     0.99671,\n",
       "            0.99671,     0.99671,     0.99671,     0.99673,     0.99679,     0.99685,     0.99689,     0.99689,     0.99689,     0.99689,     0.99689,     0.99689,     0.99689,     0.99689,     0.99689,     0.99689,     0.99689,     0.99689,     0.99689,     0.99689,     0.99689,     0.99689,     0.99689,\n",
       "            0.99689,     0.99689,     0.99689,     0.99689,     0.99692,     0.99696,     0.99699,     0.99702,     0.99706,     0.99708,     0.99709,     0.99709,      0.9971,     0.99711,     0.99712,     0.99712,     0.99713,     0.99714,     0.99715,     0.99716,     0.99716,     0.99717,     0.99718,\n",
       "            0.99719,     0.99719,      0.9972,     0.99721,     0.99722,     0.99722,     0.99723,     0.99724,     0.99725,     0.99725,     0.99726,     0.99726,     0.99726,     0.99726,     0.99726,     0.99726,     0.99726,     0.99726,     0.99726,     0.99726,     0.99726,     0.99726,     0.99726,\n",
       "            0.99726,     0.99726,     0.99726,     0.99726,     0.99726,     0.99726,     0.99726,     0.99726,     0.99726,     0.99726,     0.99726,     0.99726,     0.99726,     0.99726,     0.99725,     0.99725,     0.99725,     0.99725,     0.99725,     0.99725,     0.99725,     0.99725,     0.99725,\n",
       "            0.99725,     0.99725,     0.99725,     0.99725,     0.99725,     0.99725,     0.99725,     0.99725,     0.99725,     0.99725,     0.99725,     0.99725,     0.99725,     0.99725,     0.99725,     0.99725,     0.99725,     0.99725,     0.99725,     0.99725,     0.99725,     0.99725,     0.99725,\n",
       "            0.99725,     0.99725,     0.99725,     0.99725,     0.99725,     0.99725,     0.99725,     0.99725,     0.99725,     0.99725,     0.99725,     0.99725,     0.99725,     0.99727,     0.99728,      0.9973,     0.99732,     0.99733,     0.99735,     0.99736,     0.99738,      0.9974,     0.99741,\n",
       "            0.99743,     0.99743,     0.99743,     0.99743,     0.99743,     0.99743,     0.99743,     0.99743,     0.99743,     0.99743,     0.99743,     0.99743,     0.99743,     0.99743,     0.99743,     0.99743,     0.99743,     0.99743,     0.99743,     0.99743,     0.99743,     0.99743,     0.99743,\n",
       "            0.99743,     0.99743,     0.99743,     0.99743,     0.99743,     0.99743,     0.99743,     0.99743,     0.99743,     0.99743,     0.99743,     0.99743,     0.99743,     0.99743,     0.99743,     0.99746,     0.99751,     0.99756,      0.9976,     0.99762,     0.99761,     0.99761,     0.99761,\n",
       "            0.99761,     0.99761,     0.99761,     0.99761,     0.99761,     0.99761,     0.99761,     0.99761,     0.99761,     0.99761,     0.99761,     0.99761,     0.99761,     0.99761,     0.99761,     0.99761,     0.99761,     0.99761,     0.99761,     0.99761,     0.99761,     0.99761,     0.99761,\n",
       "            0.99761,     0.99761,     0.99761,     0.99761,     0.99761,     0.99761,     0.99761,     0.99761,     0.99761,     0.99761,     0.99761,     0.99761,     0.99761,     0.99761,     0.99761,     0.99761,     0.99761,     0.99761,     0.99761,     0.99761,     0.99761,     0.99761,     0.99761,\n",
       "            0.99761,     0.99761,     0.99761,     0.99761,     0.99761,     0.99761,     0.99761,     0.99761,     0.99761,     0.99761,     0.99761,     0.99761,     0.99761,     0.99761,     0.99761,     0.99761,     0.99761,     0.99761,     0.99761,     0.99761,     0.99761,     0.99761,     0.99761,\n",
       "            0.99762,     0.99771,     0.99779,     0.99779,     0.99779,     0.99779,     0.99779,     0.99779,     0.99779,     0.99779,     0.99779,     0.99779,     0.99779,     0.99779,     0.99779,     0.99779,     0.99779,     0.99779,     0.99779,     0.99779,     0.99779,     0.99779,     0.99779,\n",
       "            0.99779,     0.99779,     0.99779,     0.99779,     0.99779,     0.99779,     0.99779,     0.99779,     0.99779,     0.99779,     0.99779,     0.99779,     0.99779,     0.99779,     0.99779,     0.99779,     0.99779,     0.99779,     0.99779,     0.99779,     0.99779,     0.99779,     0.99779,\n",
       "            0.99779,     0.99779,     0.99779,     0.99778,     0.99778,     0.99778,     0.99778,     0.99778,     0.99778,     0.99778,     0.99778,     0.99778,     0.99778,     0.99778,     0.99778,     0.99783,     0.99787,     0.99791,     0.99795,     0.99796,     0.99796,     0.99796,     0.99796,\n",
       "            0.99796,     0.99796,     0.99796,     0.99796,     0.99796,     0.99796,     0.99796,     0.99796,     0.99796,     0.99796,     0.99796,     0.99796,     0.99796,     0.99796,     0.99796,     0.99796,     0.99796,     0.99796,     0.99796,     0.99796,     0.99796,     0.99796,     0.99796,\n",
       "            0.99796,     0.99796,     0.99814,     0.99814,     0.99814,     0.99814,     0.99814,     0.99814,     0.99814,     0.99814,     0.99814,     0.99814,     0.99814,     0.99814,     0.99814,     0.99814,     0.99813,     0.99813,     0.99813,     0.99813,     0.99813,     0.99813,     0.99813,\n",
       "            0.99813,     0.99813,     0.99813,     0.99813,     0.99813,     0.99813,     0.99813,     0.99831,     0.99831,     0.99831,     0.99831,     0.99831,     0.99831,     0.99831,     0.99831,     0.99831,     0.99831,      0.9983,      0.9983,      0.9983,     0.99849,     0.99849,     0.99848,\n",
       "            0.99848,     0.99848,     0.99848,     0.99847,     0.99847,     0.99847,     0.99847,     0.99846,     0.99846,     0.99846,     0.99846,     0.99846,     0.99845,     0.99845,     0.99844,     0.99844,     0.99844,     0.99843,     0.99862,     0.99862,     0.99861,     0.99861,      0.9986,\n",
       "            0.99859,     0.99858,     0.99858,     0.99857,     0.99856,     0.99876,     0.99875,     0.99874,     0.99873,     0.99872,      0.9987,     0.99869,     0.99868,     0.99866,     0.99887,     0.99885,     0.99883,     0.99879,       0.999,     0.99897,     0.99893,     0.99889,     0.99885,\n",
       "             0.9988,     0.99873,     0.99864,     0.99853,     0.99837,     0.99819,     0.99793,     0.99817,     0.99783,     0.99735,     0.99658,     0.99512,     0.99756,           1,           1,           1,           1,           1,           1,           1,           1,           1,           1,\n",
       "                  1,           1,           1,           1,           1,           1,           1,           1,           1,           1,           1]]), 'Confidence', 'Precision'], [array([          0,    0.001001,    0.002002,    0.003003,    0.004004,    0.005005,    0.006006,    0.007007,    0.008008,    0.009009,     0.01001,    0.011011,    0.012012,    0.013013,    0.014014,    0.015015,    0.016016,    0.017017,    0.018018,    0.019019,     0.02002,    0.021021,    0.022022,    0.023023,\n",
       "          0.024024,    0.025025,    0.026026,    0.027027,    0.028028,    0.029029,     0.03003,    0.031031,    0.032032,    0.033033,    0.034034,    0.035035,    0.036036,    0.037037,    0.038038,    0.039039,     0.04004,    0.041041,    0.042042,    0.043043,    0.044044,    0.045045,    0.046046,    0.047047,\n",
       "          0.048048,    0.049049,     0.05005,    0.051051,    0.052052,    0.053053,    0.054054,    0.055055,    0.056056,    0.057057,    0.058058,    0.059059,     0.06006,    0.061061,    0.062062,    0.063063,    0.064064,    0.065065,    0.066066,    0.067067,    0.068068,    0.069069,     0.07007,    0.071071,\n",
       "          0.072072,    0.073073,    0.074074,    0.075075,    0.076076,    0.077077,    0.078078,    0.079079,     0.08008,    0.081081,    0.082082,    0.083083,    0.084084,    0.085085,    0.086086,    0.087087,    0.088088,    0.089089,     0.09009,    0.091091,    0.092092,    0.093093,    0.094094,    0.095095,\n",
       "          0.096096,    0.097097,    0.098098,    0.099099,      0.1001,      0.1011,      0.1021,      0.1031,      0.1041,     0.10511,     0.10611,     0.10711,     0.10811,     0.10911,     0.11011,     0.11111,     0.11211,     0.11311,     0.11411,     0.11512,     0.11612,     0.11712,     0.11812,     0.11912,\n",
       "           0.12012,     0.12112,     0.12212,     0.12312,     0.12412,     0.12513,     0.12613,     0.12713,     0.12813,     0.12913,     0.13013,     0.13113,     0.13213,     0.13313,     0.13413,     0.13514,     0.13614,     0.13714,     0.13814,     0.13914,     0.14014,     0.14114,     0.14214,     0.14314,\n",
       "           0.14414,     0.14515,     0.14615,     0.14715,     0.14815,     0.14915,     0.15015,     0.15115,     0.15215,     0.15315,     0.15415,     0.15516,     0.15616,     0.15716,     0.15816,     0.15916,     0.16016,     0.16116,     0.16216,     0.16316,     0.16416,     0.16517,     0.16617,     0.16717,\n",
       "           0.16817,     0.16917,     0.17017,     0.17117,     0.17217,     0.17317,     0.17417,     0.17518,     0.17618,     0.17718,     0.17818,     0.17918,     0.18018,     0.18118,     0.18218,     0.18318,     0.18418,     0.18519,     0.18619,     0.18719,     0.18819,     0.18919,     0.19019,     0.19119,\n",
       "           0.19219,     0.19319,     0.19419,      0.1952,      0.1962,      0.1972,      0.1982,      0.1992,      0.2002,      0.2012,      0.2022,      0.2032,      0.2042,     0.20521,     0.20621,     0.20721,     0.20821,     0.20921,     0.21021,     0.21121,     0.21221,     0.21321,     0.21421,     0.21522,\n",
       "           0.21622,     0.21722,     0.21822,     0.21922,     0.22022,     0.22122,     0.22222,     0.22322,     0.22422,     0.22523,     0.22623,     0.22723,     0.22823,     0.22923,     0.23023,     0.23123,     0.23223,     0.23323,     0.23423,     0.23524,     0.23624,     0.23724,     0.23824,     0.23924,\n",
       "           0.24024,     0.24124,     0.24224,     0.24324,     0.24424,     0.24525,     0.24625,     0.24725,     0.24825,     0.24925,     0.25025,     0.25125,     0.25225,     0.25325,     0.25425,     0.25526,     0.25626,     0.25726,     0.25826,     0.25926,     0.26026,     0.26126,     0.26226,     0.26326,\n",
       "           0.26426,     0.26527,     0.26627,     0.26727,     0.26827,     0.26927,     0.27027,     0.27127,     0.27227,     0.27327,     0.27427,     0.27528,     0.27628,     0.27728,     0.27828,     0.27928,     0.28028,     0.28128,     0.28228,     0.28328,     0.28428,     0.28529,     0.28629,     0.28729,\n",
       "           0.28829,     0.28929,     0.29029,     0.29129,     0.29229,     0.29329,     0.29429,      0.2953,      0.2963,      0.2973,      0.2983,      0.2993,      0.3003,      0.3013,      0.3023,      0.3033,      0.3043,     0.30531,     0.30631,     0.30731,     0.30831,     0.30931,     0.31031,     0.31131,\n",
       "           0.31231,     0.31331,     0.31431,     0.31532,     0.31632,     0.31732,     0.31832,     0.31932,     0.32032,     0.32132,     0.32232,     0.32332,     0.32432,     0.32533,     0.32633,     0.32733,     0.32833,     0.32933,     0.33033,     0.33133,     0.33233,     0.33333,     0.33433,     0.33534,\n",
       "           0.33634,     0.33734,     0.33834,     0.33934,     0.34034,     0.34134,     0.34234,     0.34334,     0.34434,     0.34535,     0.34635,     0.34735,     0.34835,     0.34935,     0.35035,     0.35135,     0.35235,     0.35335,     0.35435,     0.35536,     0.35636,     0.35736,     0.35836,     0.35936,\n",
       "           0.36036,     0.36136,     0.36236,     0.36336,     0.36436,     0.36537,     0.36637,     0.36737,     0.36837,     0.36937,     0.37037,     0.37137,     0.37237,     0.37337,     0.37437,     0.37538,     0.37638,     0.37738,     0.37838,     0.37938,     0.38038,     0.38138,     0.38238,     0.38338,\n",
       "           0.38438,     0.38539,     0.38639,     0.38739,     0.38839,     0.38939,     0.39039,     0.39139,     0.39239,     0.39339,     0.39439,      0.3954,      0.3964,      0.3974,      0.3984,      0.3994,      0.4004,      0.4014,      0.4024,      0.4034,      0.4044,     0.40541,     0.40641,     0.40741,\n",
       "           0.40841,     0.40941,     0.41041,     0.41141,     0.41241,     0.41341,     0.41441,     0.41542,     0.41642,     0.41742,     0.41842,     0.41942,     0.42042,     0.42142,     0.42242,     0.42342,     0.42442,     0.42543,     0.42643,     0.42743,     0.42843,     0.42943,     0.43043,     0.43143,\n",
       "           0.43243,     0.43343,     0.43443,     0.43544,     0.43644,     0.43744,     0.43844,     0.43944,     0.44044,     0.44144,     0.44244,     0.44344,     0.44444,     0.44545,     0.44645,     0.44745,     0.44845,     0.44945,     0.45045,     0.45145,     0.45245,     0.45345,     0.45445,     0.45546,\n",
       "           0.45646,     0.45746,     0.45846,     0.45946,     0.46046,     0.46146,     0.46246,     0.46346,     0.46446,     0.46547,     0.46647,     0.46747,     0.46847,     0.46947,     0.47047,     0.47147,     0.47247,     0.47347,     0.47447,     0.47548,     0.47648,     0.47748,     0.47848,     0.47948,\n",
       "           0.48048,     0.48148,     0.48248,     0.48348,     0.48448,     0.48549,     0.48649,     0.48749,     0.48849,     0.48949,     0.49049,     0.49149,     0.49249,     0.49349,     0.49449,      0.4955,      0.4965,      0.4975,      0.4985,      0.4995,      0.5005,      0.5015,      0.5025,      0.5035,\n",
       "            0.5045,     0.50551,     0.50651,     0.50751,     0.50851,     0.50951,     0.51051,     0.51151,     0.51251,     0.51351,     0.51451,     0.51552,     0.51652,     0.51752,     0.51852,     0.51952,     0.52052,     0.52152,     0.52252,     0.52352,     0.52452,     0.52553,     0.52653,     0.52753,\n",
       "           0.52853,     0.52953,     0.53053,     0.53153,     0.53253,     0.53353,     0.53453,     0.53554,     0.53654,     0.53754,     0.53854,     0.53954,     0.54054,     0.54154,     0.54254,     0.54354,     0.54454,     0.54555,     0.54655,     0.54755,     0.54855,     0.54955,     0.55055,     0.55155,\n",
       "           0.55255,     0.55355,     0.55455,     0.55556,     0.55656,     0.55756,     0.55856,     0.55956,     0.56056,     0.56156,     0.56256,     0.56356,     0.56456,     0.56557,     0.56657,     0.56757,     0.56857,     0.56957,     0.57057,     0.57157,     0.57257,     0.57357,     0.57457,     0.57558,\n",
       "           0.57658,     0.57758,     0.57858,     0.57958,     0.58058,     0.58158,     0.58258,     0.58358,     0.58458,     0.58559,     0.58659,     0.58759,     0.58859,     0.58959,     0.59059,     0.59159,     0.59259,     0.59359,     0.59459,      0.5956,      0.5966,      0.5976,      0.5986,      0.5996,\n",
       "            0.6006,      0.6016,      0.6026,      0.6036,      0.6046,     0.60561,     0.60661,     0.60761,     0.60861,     0.60961,     0.61061,     0.61161,     0.61261,     0.61361,     0.61461,     0.61562,     0.61662,     0.61762,     0.61862,     0.61962,     0.62062,     0.62162,     0.62262,     0.62362,\n",
       "           0.62462,     0.62563,     0.62663,     0.62763,     0.62863,     0.62963,     0.63063,     0.63163,     0.63263,     0.63363,     0.63463,     0.63564,     0.63664,     0.63764,     0.63864,     0.63964,     0.64064,     0.64164,     0.64264,     0.64364,     0.64464,     0.64565,     0.64665,     0.64765,\n",
       "           0.64865,     0.64965,     0.65065,     0.65165,     0.65265,     0.65365,     0.65465,     0.65566,     0.65666,     0.65766,     0.65866,     0.65966,     0.66066,     0.66166,     0.66266,     0.66366,     0.66466,     0.66567,     0.66667,     0.66767,     0.66867,     0.66967,     0.67067,     0.67167,\n",
       "           0.67267,     0.67367,     0.67467,     0.67568,     0.67668,     0.67768,     0.67868,     0.67968,     0.68068,     0.68168,     0.68268,     0.68368,     0.68468,     0.68569,     0.68669,     0.68769,     0.68869,     0.68969,     0.69069,     0.69169,     0.69269,     0.69369,     0.69469,      0.6957,\n",
       "            0.6967,      0.6977,      0.6987,      0.6997,      0.7007,      0.7017,      0.7027,      0.7037,      0.7047,     0.70571,     0.70671,     0.70771,     0.70871,     0.70971,     0.71071,     0.71171,     0.71271,     0.71371,     0.71471,     0.71572,     0.71672,     0.71772,     0.71872,     0.71972,\n",
       "           0.72072,     0.72172,     0.72272,     0.72372,     0.72472,     0.72573,     0.72673,     0.72773,     0.72873,     0.72973,     0.73073,     0.73173,     0.73273,     0.73373,     0.73473,     0.73574,     0.73674,     0.73774,     0.73874,     0.73974,     0.74074,     0.74174,     0.74274,     0.74374,\n",
       "           0.74474,     0.74575,     0.74675,     0.74775,     0.74875,     0.74975,     0.75075,     0.75175,     0.75275,     0.75375,     0.75475,     0.75576,     0.75676,     0.75776,     0.75876,     0.75976,     0.76076,     0.76176,     0.76276,     0.76376,     0.76476,     0.76577,     0.76677,     0.76777,\n",
       "           0.76877,     0.76977,     0.77077,     0.77177,     0.77277,     0.77377,     0.77477,     0.77578,     0.77678,     0.77778,     0.77878,     0.77978,     0.78078,     0.78178,     0.78278,     0.78378,     0.78478,     0.78579,     0.78679,     0.78779,     0.78879,     0.78979,     0.79079,     0.79179,\n",
       "           0.79279,     0.79379,     0.79479,      0.7958,      0.7968,      0.7978,      0.7988,      0.7998,      0.8008,      0.8018,      0.8028,      0.8038,      0.8048,     0.80581,     0.80681,     0.80781,     0.80881,     0.80981,     0.81081,     0.81181,     0.81281,     0.81381,     0.81481,     0.81582,\n",
       "           0.81682,     0.81782,     0.81882,     0.81982,     0.82082,     0.82182,     0.82282,     0.82382,     0.82482,     0.82583,     0.82683,     0.82783,     0.82883,     0.82983,     0.83083,     0.83183,     0.83283,     0.83383,     0.83483,     0.83584,     0.83684,     0.83784,     0.83884,     0.83984,\n",
       "           0.84084,     0.84184,     0.84284,     0.84384,     0.84484,     0.84585,     0.84685,     0.84785,     0.84885,     0.84985,     0.85085,     0.85185,     0.85285,     0.85385,     0.85485,     0.85586,     0.85686,     0.85786,     0.85886,     0.85986,     0.86086,     0.86186,     0.86286,     0.86386,\n",
       "           0.86486,     0.86587,     0.86687,     0.86787,     0.86887,     0.86987,     0.87087,     0.87187,     0.87287,     0.87387,     0.87487,     0.87588,     0.87688,     0.87788,     0.87888,     0.87988,     0.88088,     0.88188,     0.88288,     0.88388,     0.88488,     0.88589,     0.88689,     0.88789,\n",
       "           0.88889,     0.88989,     0.89089,     0.89189,     0.89289,     0.89389,     0.89489,      0.8959,      0.8969,      0.8979,      0.8989,      0.8999,      0.9009,      0.9019,      0.9029,      0.9039,      0.9049,     0.90591,     0.90691,     0.90791,     0.90891,     0.90991,     0.91091,     0.91191,\n",
       "           0.91291,     0.91391,     0.91491,     0.91592,     0.91692,     0.91792,     0.91892,     0.91992,     0.92092,     0.92192,     0.92292,     0.92392,     0.92492,     0.92593,     0.92693,     0.92793,     0.92893,     0.92993,     0.93093,     0.93193,     0.93293,     0.93393,     0.93493,     0.93594,\n",
       "           0.93694,     0.93794,     0.93894,     0.93994,     0.94094,     0.94194,     0.94294,     0.94394,     0.94494,     0.94595,     0.94695,     0.94795,     0.94895,     0.94995,     0.95095,     0.95195,     0.95295,     0.95395,     0.95495,     0.95596,     0.95696,     0.95796,     0.95896,     0.95996,\n",
       "           0.96096,     0.96196,     0.96296,     0.96396,     0.96496,     0.96597,     0.96697,     0.96797,     0.96897,     0.96997,     0.97097,     0.97197,     0.97297,     0.97397,     0.97497,     0.97598,     0.97698,     0.97798,     0.97898,     0.97998,     0.98098,     0.98198,     0.98298,     0.98398,\n",
       "           0.98498,     0.98599,     0.98699,     0.98799,     0.98899,     0.98999,     0.99099,     0.99199,     0.99299,     0.99399,     0.99499,       0.996,       0.997,       0.998,       0.999,           1]), array([[    0.99945,     0.99945,     0.99945,     0.99927,      0.9989,      0.9989,      0.9989,      0.9989,      0.9989,      0.9989,      0.9989,      0.9989,      0.9989,      0.9989,      0.9989,      0.9989,      0.9989,      0.9989,      0.9989,      0.9989,      0.9989,      0.9989,      0.9989,\n",
       "            0.99872,     0.99872,     0.99872,     0.99872,     0.99872,     0.99872,     0.99872,     0.99872,     0.99872,     0.99872,     0.99872,     0.99872,     0.99872,     0.99872,     0.99872,     0.99872,     0.99872,     0.99872,     0.99872,     0.99872,     0.99872,     0.99872,     0.99872,\n",
       "            0.99872,     0.99872,     0.99872,     0.99872,     0.99872,     0.99872,     0.99872,     0.99872,     0.99872,     0.99872,     0.99872,     0.99872,     0.99872,     0.99872,     0.99872,     0.99872,     0.99872,     0.99872,     0.99872,     0.99872,     0.99872,     0.99872,     0.99872,\n",
       "            0.99872,     0.99872,     0.99872,     0.99872,     0.99872,     0.99872,     0.99872,     0.99872,     0.99872,     0.99872,     0.99872,     0.99872,     0.99872,     0.99872,     0.99872,     0.99872,     0.99872,     0.99872,     0.99872,     0.99872,     0.99872,     0.99872,     0.99872,\n",
       "            0.99872,     0.99872,     0.99872,     0.99872,     0.99872,     0.99872,     0.99872,     0.99872,     0.99872,     0.99872,     0.99872,     0.99872,     0.99872,     0.99872,     0.99872,     0.99872,     0.99872,     0.99872,     0.99872,     0.99872,     0.99872,     0.99872,     0.99872,\n",
       "            0.99872,     0.99872,     0.99872,     0.99872,     0.99872,     0.99872,     0.99872,     0.99872,     0.99872,     0.99872,     0.99872,     0.99872,     0.99872,     0.99872,     0.99872,     0.99872,     0.99872,     0.99872,     0.99872,     0.99872,     0.99872,     0.99872,     0.99872,\n",
       "            0.99872,     0.99872,     0.99872,     0.99872,     0.99872,     0.99872,     0.99872,     0.99872,     0.99872,     0.99872,     0.99872,     0.99872,     0.99872,     0.99872,     0.99872,     0.99872,     0.99872,     0.99872,     0.99872,     0.99872,     0.99872,     0.99872,     0.99872,\n",
       "            0.99872,     0.99872,     0.99872,     0.99872,     0.99872,     0.99872,     0.99872,     0.99872,     0.99872,     0.99872,     0.99872,     0.99872,     0.99872,     0.99872,     0.99872,     0.99872,     0.99872,     0.99872,     0.99872,     0.99872,     0.99872,     0.99872,     0.99872,\n",
       "            0.99872,     0.99872,     0.99872,     0.99872,     0.99872,     0.99872,     0.99872,     0.99872,     0.99872,     0.99872,     0.99872,     0.99872,     0.99872,     0.99872,     0.99872,     0.99872,     0.99872,     0.99872,     0.99872,     0.99872,     0.99872,     0.99872,     0.99872,\n",
       "            0.99872,     0.99872,     0.99872,     0.99872,     0.99872,     0.99872,     0.99872,     0.99872,     0.99872,     0.99872,     0.99872,     0.99872,     0.99872,     0.99872,     0.99872,     0.99872,     0.99872,     0.99872,     0.99872,     0.99872,     0.99872,     0.99872,     0.99872,\n",
       "            0.99872,     0.99872,     0.99872,     0.99872,     0.99872,     0.99872,     0.99872,     0.99872,     0.99872,     0.99872,     0.99872,     0.99872,     0.99872,     0.99872,     0.99872,     0.99872,     0.99872,     0.99872,     0.99872,     0.99872,     0.99872,     0.99872,     0.99872,\n",
       "            0.99872,     0.99872,     0.99872,     0.99872,     0.99872,     0.99872,     0.99872,     0.99872,     0.99872,     0.99872,     0.99872,     0.99872,     0.99872,     0.99872,     0.99872,     0.99872,     0.99872,     0.99872,     0.99872,     0.99872,     0.99872,     0.99872,     0.99872,\n",
       "            0.99872,     0.99872,     0.99872,     0.99872,     0.99872,     0.99872,     0.99872,     0.99872,     0.99872,     0.99872,     0.99872,     0.99872,     0.99872,     0.99872,     0.99872,     0.99872,     0.99872,     0.99872,     0.99872,     0.99872,     0.99872,     0.99872,     0.99872,\n",
       "            0.99872,     0.99872,     0.99872,     0.99872,     0.99872,     0.99872,     0.99872,     0.99872,     0.99872,     0.99872,     0.99872,     0.99872,     0.99872,     0.99872,     0.99872,     0.99872,     0.99872,     0.99872,     0.99872,     0.99872,     0.99872,     0.99872,     0.99872,\n",
       "            0.99872,     0.99872,     0.99872,     0.99872,     0.99872,     0.99872,     0.99872,     0.99872,     0.99872,     0.99872,     0.99872,     0.99872,     0.99872,     0.99872,     0.99872,     0.99872,     0.99872,     0.99872,     0.99872,     0.99872,     0.99872,     0.99872,     0.99872,\n",
       "            0.99872,     0.99872,     0.99872,     0.99872,     0.99872,     0.99872,     0.99872,      0.9987,     0.99868,     0.99866,     0.99864,     0.99862,      0.9986,     0.99858,     0.99856,     0.99854,     0.99854,     0.99854,     0.99854,     0.99854,     0.99854,     0.99854,     0.99854,\n",
       "            0.99854,     0.99854,     0.99854,     0.99854,     0.99854,     0.99854,     0.99854,     0.99854,     0.99854,     0.99854,     0.99854,     0.99854,     0.99854,     0.99854,     0.99854,     0.99854,     0.99854,     0.99854,     0.99854,     0.99854,     0.99854,     0.99854,     0.99854,\n",
       "            0.99854,     0.99854,     0.99854,     0.99854,     0.99854,     0.99854,     0.99854,     0.99854,     0.99854,     0.99854,     0.99854,     0.99854,     0.99854,     0.99854,     0.99854,     0.99854,     0.99854,     0.99854,     0.99853,     0.99853,     0.99852,     0.99852,     0.99852,\n",
       "            0.99851,     0.99851,     0.99851,      0.9985,      0.9985,     0.99849,     0.99849,     0.99849,     0.99848,     0.99848,     0.99848,     0.99847,     0.99847,     0.99846,     0.99846,     0.99846,     0.99845,     0.99845,     0.99844,     0.99844,     0.99844,     0.99843,     0.99843,\n",
       "            0.99843,     0.99842,     0.99842,     0.99841,     0.99841,     0.99841,      0.9984,      0.9984,     0.99839,     0.99839,     0.99839,     0.99838,     0.99838,     0.99838,     0.99837,     0.99837,     0.99836,     0.99836,     0.99836,     0.99835,     0.99833,     0.99832,     0.99831,\n",
       "            0.99829,     0.99828,     0.99826,     0.99825,     0.99823,     0.99822,      0.9982,     0.99819,     0.99818,     0.99817,     0.99817,     0.99817,     0.99817,     0.99817,     0.99817,     0.99817,     0.99817,     0.99817,     0.99817,     0.99817,     0.99817,     0.99817,     0.99817,\n",
       "            0.99817,     0.99817,     0.99817,     0.99816,     0.99814,     0.99813,     0.99812,     0.99811,     0.99809,     0.99808,     0.99807,     0.99806,     0.99804,     0.99803,     0.99802,     0.99801,     0.99799,     0.99799,     0.99799,     0.99799,     0.99799,     0.99799,     0.99799,\n",
       "            0.99799,     0.99799,     0.99799,     0.99799,     0.99799,     0.99799,     0.99799,     0.99799,     0.99799,     0.99793,     0.99787,     0.99781,     0.99781,     0.99781,     0.99781,     0.99781,     0.99781,     0.99781,     0.99781,     0.99781,     0.99781,     0.99781,     0.99761,\n",
       "            0.99757,     0.99752,     0.99747,     0.99744,     0.99744,     0.99744,     0.99744,     0.99743,     0.99742,     0.99741,      0.9974,     0.99739,     0.99738,     0.99737,     0.99737,     0.99736,     0.99735,     0.99734,     0.99733,     0.99732,     0.99731,      0.9973,     0.99729,\n",
       "            0.99729,     0.99728,     0.99727,     0.99726,     0.99726,     0.99726,     0.99726,     0.99726,     0.99726,     0.99726,     0.99726,     0.99726,     0.99726,     0.99726,     0.99726,     0.99726,     0.99726,     0.99726,     0.99726,     0.99726,     0.99726,     0.99726,     0.99726,\n",
       "            0.99726,     0.99726,     0.99726,     0.99726,     0.99726,     0.99726,     0.99726,     0.99726,     0.99726,     0.99726,     0.99724,     0.99722,      0.9972,     0.99717,     0.99715,     0.99713,      0.9971,     0.99708,     0.99705,     0.99701,     0.99698,     0.99694,     0.99691,\n",
       "            0.99688,     0.99687,     0.99685,     0.99683,     0.99681,     0.99679,     0.99678,     0.99676,     0.99674,     0.99672,     0.99667,     0.99652,     0.99648,     0.99644,      0.9964,     0.99637,     0.99631,     0.99622,     0.99614,      0.9961,     0.99606,     0.99602,     0.99598,\n",
       "            0.99591,     0.99585,     0.99579,     0.99578,     0.99577,     0.99576,     0.99575,     0.99573,     0.99572,     0.99571,      0.9957,     0.99568,     0.99567,     0.99566,     0.99565,     0.99564,     0.99562,     0.99561,     0.99559,     0.99557,     0.99555,     0.99552,      0.9955,\n",
       "            0.99548,     0.99546,     0.99544,     0.99542,      0.9954,     0.99538,     0.99536,     0.99534,     0.99532,      0.9953,     0.99528,     0.99527,     0.99525,     0.99525,     0.99525,     0.99525,     0.99525,     0.99525,     0.99525,     0.99525,     0.99525,     0.99525,     0.99525,\n",
       "            0.99525,     0.99524,     0.99522,     0.99521,     0.99519,     0.99518,     0.99516,     0.99515,     0.99513,     0.99512,     0.99511,     0.99509,     0.99508,     0.99506,     0.99505,     0.99504,     0.99503,     0.99502,     0.99501,       0.995,     0.99499,     0.99498,     0.99497,\n",
       "            0.99496,     0.99495,     0.99494,     0.99493,     0.99492,     0.99491,      0.9949,     0.99489,     0.99484,     0.99474,     0.99467,     0.99463,     0.99458,     0.99453,      0.9944,     0.99433,     0.99433,     0.99433,     0.99433,      0.9943,     0.99425,      0.9942,     0.99416,\n",
       "            0.99413,     0.99412,      0.9941,     0.99408,     0.99406,     0.99404,     0.99403,     0.99401,     0.99399,     0.99397,     0.99392,     0.99385,     0.99378,     0.99375,     0.99372,     0.99369,     0.99366,     0.99363,     0.99361,     0.99359,     0.99359,     0.99358,     0.99357,\n",
       "            0.99356,     0.99355,     0.99354,     0.99354,     0.99353,     0.99352,     0.99351,      0.9935,      0.9935,     0.99349,     0.99348,     0.99347,     0.99346,     0.99346,     0.99345,     0.99344,     0.99343,     0.99342,      0.9934,     0.99334,     0.99329,     0.99324,     0.99321,\n",
       "            0.99318,     0.99316,     0.99313,      0.9931,     0.99308,     0.99285,     0.99267,     0.99258,      0.9925,     0.99247,     0.99244,     0.99241,     0.99238,     0.99235,     0.99232,     0.99224,     0.99215,     0.99197,     0.99193,     0.99189,     0.99186,     0.99183,      0.9918,\n",
       "            0.99177,     0.99177,     0.99177,     0.99174,     0.99172,     0.99169,     0.99167,     0.99164,     0.99162,     0.99159,     0.99139,     0.99136,     0.99134,     0.99131,     0.99129,     0.99126,     0.99124,     0.99121,     0.99117,     0.99113,     0.99109,     0.99106,     0.99096,\n",
       "            0.99085,     0.99077,      0.9907,     0.99048,     0.99042,     0.99035,     0.99026,     0.99001,     0.98992,     0.98989,     0.98986,     0.98982,     0.98979,     0.98976,     0.98967,     0.98957,     0.98939,     0.98935,      0.9893,     0.98925,     0.98916,     0.98891,     0.98876,\n",
       "            0.98864,     0.98851,     0.98844,     0.98839,     0.98833,     0.98799,      0.9877,     0.98758,     0.98727,     0.98717,     0.98711,     0.98705,     0.98677,     0.98664,     0.98647,     0.98647,     0.98647,     0.98647,     0.98647,     0.98634,     0.98615,     0.98597,     0.98551,\n",
       "            0.98536,     0.98532,     0.98529,     0.98525,     0.98521,     0.98516,     0.98508,     0.98501,     0.98476,      0.9847,     0.98463,     0.98445,     0.98432,     0.98405,     0.98399,     0.98393,     0.98385,     0.98375,     0.98304,     0.98278,     0.98265,     0.98258,     0.98252,\n",
       "            0.98245,     0.98228,     0.98218,     0.98209,      0.9819,     0.98159,     0.98144,     0.98098,     0.98085,     0.98058,     0.98021,     0.97983,     0.97958,     0.97908,     0.97891,     0.97881,     0.97828,     0.97802,      0.9779,     0.97735,     0.97698,      0.9768,     0.97661,\n",
       "            0.97625,     0.97562,      0.9755,     0.97527,     0.97517,     0.97439,      0.9743,     0.97399,     0.97325,     0.97269,     0.97208,     0.97158,     0.97102,     0.97051,     0.97009,     0.96979,     0.96967,     0.96841,     0.96765,     0.96657,     0.96583,      0.9649,     0.96352,\n",
       "            0.96214,     0.96067,     0.95866,     0.95773,     0.95625,     0.95442,     0.95258,     0.95105,     0.94982,     0.94867,     0.94747,     0.94595,     0.94411,     0.94154,     0.93861,     0.93677,     0.93329,     0.93054,      0.9287,     0.92467,     0.92027,      0.9166,     0.91166,\n",
       "            0.90781,     0.90213,      0.8981,     0.89132,     0.88546,     0.88088,     0.87594,      0.8688,     0.86111,     0.85488,     0.84555,     0.83713,     0.82816,     0.81809,     0.80492,     0.79193,     0.77857,     0.75589,     0.73083,     0.70888,     0.68345,     0.65986,      0.6337,\n",
       "            0.60827,     0.57608,     0.53548,     0.49653,     0.44916,     0.40344,     0.35187,      0.2992,     0.25238,     0.20647,     0.15984,     0.11192,    0.074612,    0.046809,     0.01663,   0.0080272,   0.0047268,   0.0016092,   0.0010743,  0.00085952,           0,           0,           0,\n",
       "                  0,           0,           0,           0,           0,           0,           0,           0,           0,           0,           0]]), 'Confidence', 'Recall']]\n",
       "fitness: 1.9197286252935433\n",
       "keys: ['metrics/precision(B)', 'metrics/recall(B)', 'metrics/mAP50(B)', 'metrics/mAP50-95(B)', 'metrics/precision(M)', 'metrics/recall(M)', 'metrics/mAP50(M)', 'metrics/mAP50-95(M)']\n",
       "maps: array([     1.9121])\n",
       "names: {0: 'table column'}\n",
       "plot: True\n",
       "results_dict: {'metrics/precision(B)': 0.9978070101304947, 'metrics/recall(B)': 0.9983509792128065, 'metrics/mAP50(B)': 0.9942506513594276, 'metrics/mAP50-95(B)': 0.9882169421906172, 'metrics/precision(M)': 0.9968927931570336, 'metrics/recall(M)': 0.9972850106329718, 'metrics/mAP50(M)': 0.9940073290650395, 'metrics/mAP50-95(M)': 0.9238973103106012, 'fitness': 1.9197286252935433}\n",
       "save_dir: PosixPath('runs/segment/train')\n",
       "seg: ultralytics.utils.metrics.Metric object\n",
       "speed: {'preprocess': 0.11226797103881836, 'inference': 7.838222980499268, 'loss': 0.0007009506225585938, 'postprocess': 0.9147946834564209}\n",
       "task: 'segment'"
      ]
     },
     "execution_count": 12,
     "metadata": {},
     "output_type": "execute_result"
    }
   ],
   "source": [
    "from ultralytics import YOLO\n",
    "model = YOLO(\"yolo11m-seg.pt\")\n",
    "model.train(\n",
    "    data=dataset_yaml_path,\n",
    "    epochs=100,\n",
    "    device=\"cuda\",\n",
    "    translate=0.2,\n",
    "    scale=0.7,\n",
    "    flipud=0.0,\n",
    "    erasing=0.2\n",
    ")"
   ]
  },
  {
   "cell_type": "markdown",
   "id": "18200e19",
   "metadata": {
    "papermill": {
     "duration": 4.504149,
     "end_time": "2024-10-17T12:43:19.171772",
     "exception": false,
     "start_time": "2024-10-17T12:43:14.667623",
     "status": "completed"
    },
    "tags": []
   },
   "source": [
    "# Model testing"
   ]
  },
  {
   "cell_type": "code",
   "execution_count": 13,
   "id": "c9dd1b77",
   "metadata": {
    "execution": {
     "iopub.execute_input": "2024-10-17T12:43:28.225491Z",
     "iopub.status.busy": "2024-10-17T12:43:28.225022Z",
     "iopub.status.idle": "2024-10-17T12:43:28.798783Z",
     "shell.execute_reply": "2024-10-17T12:43:28.797870Z"
    },
    "id": "HYUTmD6FSM6K",
    "outputId": "dab4e454-83e7-4d10-a02a-e967e41877b6",
    "papermill": {
     "duration": 5.087325,
     "end_time": "2024-10-17T12:43:28.801052",
     "exception": false,
     "start_time": "2024-10-17T12:43:23.713727",
     "status": "completed"
    },
    "tags": []
   },
   "outputs": [
    {
     "name": "stdout",
     "output_type": "stream",
     "text": [
      "\n",
      "0: 640x640 4 table columns, 57.3ms\n",
      "Speed: 3.1ms preprocess, 57.3ms inference, 4.7ms postprocess per image at shape (1, 3, 640, 640)\n"
     ]
    },
    {
     "data": {
      "image/jpeg": "[encoded data removed]",
      "image/png": "[encoded data removed]",
      "text/plain": [
       "<PIL.Image.Image image mode=RGB size=370x368>"
      ]
     },
     "metadata": {},
     "output_type": "display_data"
    }
   ],
   "source": [
    "# Load the dataset configuration\n",
    "with open(r\"/kaggle/working/dataset/dataset.yaml\", 'r') as file:\n",
    "    dataset_config = yaml.safe_load(file)\n",
    "\n",
    "# Get the dataset path and class names\n",
    "dataset_path = dataset_config['path']\n",
    "class_names = dataset_config['names']\n",
    "\n",
    "# Choose a random set (train or val)\n",
    "image_set = random.choice(['train', 'val'])\n",
    "images_path = os.path.join(dataset_path, image_set, 'images')\n",
    "\n",
    "# Get a list of all image files\n",
    "image_files = [f for f in os.listdir(images_path) if f.endswith(('.jpg', '.jpeg', '.png'))]\n",
    "\n",
    "# Choose a random image\n",
    "random_image = random.choice(image_files)\n",
    "image_path = os.path.join(images_path, random_image)\n",
    "\n",
    "# Run batched inference on a list of images\n",
    "results = model([image_path])  # return a list of Results objects\n",
    "\n",
    "# Process results list\n",
    "for result in results:\n",
    "    boxes = result.boxes  # Boxes object for bounding box outputs\n",
    "    masks = result.masks  # Masks object for segmentation masks outputs\n",
    "    keypoints = result.keypoints  # Keypoints object for pose outputs\n",
    "    probs = result.probs  # Probs object for classification outputs\n",
    "    obb = result.obb  # Oriented boxes object for OBB outputs\n",
    "    result.show()  # display to screen\n",
    "    result.save(filename=\"result.jpg\")  # save to disk"
   ]
  },
  {
   "cell_type": "markdown",
   "id": "3a0ae501",
   "metadata": {
    "papermill": {
     "duration": 4.528462,
     "end_time": "2024-10-17T12:43:37.764239",
     "exception": false,
     "start_time": "2024-10-17T12:43:33.235777",
     "status": "completed"
    },
    "tags": []
   },
   "source": [
    "# Model export"
   ]
  },
  {
   "cell_type": "code",
   "execution_count": 14,
   "id": "ab39e408",
   "metadata": {
    "execution": {
     "iopub.execute_input": "2024-10-17T12:43:46.752712Z",
     "iopub.status.busy": "2024-10-17T12:43:46.751839Z",
     "iopub.status.idle": "2024-10-17T12:44:48.301220Z",
     "shell.execute_reply": "2024-10-17T12:44:48.300236Z"
    },
    "id": "k_9dJ4sNVjnL",
    "papermill": {
     "duration": 70.532083,
     "end_time": "2024-10-17T12:44:52.791673",
     "exception": false,
     "start_time": "2024-10-17T12:43:42.259590",
     "status": "completed"
    },
    "tags": []
   },
   "outputs": [
    {
     "name": "stdout",
     "output_type": "stream",
     "text": [
      "Ultralytics 8.3.15 🚀 Python-3.10.14 torch-2.4.0 CPU (Intel Xeon 2.00GHz)\n",
      "\n",
      "\u001b[34m\u001b[1mPyTorch:\u001b[0m starting from 'runs/segment/train/weights/best.pt' with input shape (1, 3, 640, 640) BCHW and output shape(s) ((1, 37, 8400), (1, 32, 160, 160)) (43.1 MB)\n",
      "\u001b[31m\u001b[1mrequirements:\u001b[0m Ultralytics requirements ['onnxslim', 'onnxruntime-gpu'] not found, attempting AutoUpdate...\n",
      "Collecting onnxslim\n",
      "  Downloading onnxslim-0.1.35-py3-none-any.whl.metadata (3.0 kB)\n",
      "Collecting onnxruntime-gpu\n",
      "  Downloading onnxruntime_gpu-1.19.2-cp310-cp310-manylinux_2_27_x86_64.manylinux_2_28_x86_64.whl.metadata (4.5 kB)\n",
      "Requirement already satisfied: onnx in /opt/conda/lib/python3.10/site-packages (from onnxslim) (1.17.0)\n",
      "Requirement already satisfied: sympy in /opt/conda/lib/python3.10/site-packages (from onnxslim) (1.13.3)\n",
      "Requirement already satisfied: packaging in /opt/conda/lib/python3.10/site-packages (from onnxslim) (21.3)\n",
      "Collecting coloredlogs (from onnxruntime-gpu)\n",
      "  Downloading coloredlogs-15.0.1-py2.py3-none-any.whl.metadata (12 kB)\n",
      "Requirement already satisfied: flatbuffers in /opt/conda/lib/python3.10/site-packages (from onnxruntime-gpu) (24.3.25)\n",
      "Requirement already satisfied: numpy>=1.21.6 in /opt/conda/lib/python3.10/site-packages (from onnxruntime-gpu) (1.26.4)\n",
      "Requirement already satisfied: protobuf in /opt/conda/lib/python3.10/site-packages (from onnxruntime-gpu) (3.20.3)\n",
      "Collecting humanfriendly>=9.1 (from coloredlogs->onnxruntime-gpu)\n",
      "  Downloading humanfriendly-10.0-py2.py3-none-any.whl.metadata (9.2 kB)\n",
      "Requirement already satisfied: pyparsing!=3.0.5,>=2.0.2 in /opt/conda/lib/python3.10/site-packages (from packaging->onnxslim) (3.1.2)\n",
      "Requirement already satisfied: mpmath<1.4,>=1.1.0 in /opt/conda/lib/python3.10/site-packages (from sympy->onnxslim) (1.3.0)\n",
      "Downloading onnxslim-0.1.35-py3-none-any.whl (140 kB)\n",
      "\u001b[2K   \u001b[90m━━━━━━━━━━━━━━━━━━━━━━━━━━━━━━━━━━━━━━━━\u001b[0m \u001b[32m140.4/140.4 kB\u001b[0m \u001b[31m7.0 MB/s\u001b[0m eta \u001b[36m0:00:00\u001b[0m\n",
      "\u001b[?25hDownloading onnxruntime_gpu-1.19.2-cp310-cp310-manylinux_2_27_x86_64.manylinux_2_28_x86_64.whl (226.2 MB)\n",
      "\u001b[2K   \u001b[90m━━━━━━━━━━━━━━━━━━━━━━━━━━━━━━━━━━━━━━━\u001b[0m \u001b[32m226.2/226.2 MB\u001b[0m \u001b[31m232.3 MB/s\u001b[0m eta \u001b[36m0:00:00\u001b[0m\n",
      "\u001b[?25hDownloading coloredlogs-15.0.1-py2.py3-none-any.whl (46 kB)\n",
      "\u001b[2K   \u001b[90m━━━━━━━━━━━━━━━━━━━━━━━━━━━━━━━━━━━━━━━━\u001b[0m \u001b[32m46.0/46.0 kB\u001b[0m \u001b[31m204.0 MB/s\u001b[0m eta \u001b[36m0:00:00\u001b[0m\n",
      "\u001b[?25hDownloading humanfriendly-10.0-py2.py3-none-any.whl (86 kB)\n",
      "\u001b[2K   \u001b[90m━━━━━━━━━━━━━━━━━━━━━━━━━━━━━━━━━━━━━━━━\u001b[0m \u001b[32m86.8/86.8 kB\u001b[0m \u001b[31m236.4 MB/s\u001b[0m eta \u001b[36m0:00:00\u001b[0m\n",
      "\u001b[?25hInstalling collected packages: humanfriendly, onnxslim, coloredlogs, onnxruntime-gpu\n",
      "Successfully installed coloredlogs-15.0.1 humanfriendly-10.0 onnxruntime-gpu-1.19.2 onnxslim-0.1.35\n",
      "\n",
      "\u001b[31m\u001b[1mrequirements:\u001b[0m AutoUpdate success ✅ 18.3s, installed 2 packages: ['onnxslim', 'onnxruntime-gpu']\n",
      "\u001b[31m\u001b[1mrequirements:\u001b[0m ⚠️ \u001b[1mRestart runtime or rerun command for updates to take effect\u001b[0m\n",
      "\n",
      "\n",
      "\u001b[34m\u001b[1mONNX:\u001b[0m starting export with onnx 1.17.0 opset 19...\n",
      "\u001b[34m\u001b[1mONNX:\u001b[0m slimming with onnxslim 0.1.35...\n",
      "\u001b[34m\u001b[1mONNX:\u001b[0m export success ✅ 58.0s, saved as 'runs/segment/train/weights/best.onnx' (85.4 MB)\n",
      "\n",
      "Export complete (61.5s)\n",
      "Results saved to \u001b[1m/kaggle/working/runs/segment/train/weights\u001b[0m\n",
      "Predict:         yolo predict task=segment model=runs/segment/train/weights/best.onnx imgsz=640  \n",
      "Validate:        yolo val task=segment model=runs/segment/train/weights/best.onnx imgsz=640 data=/kaggle/working/dataset/dataset.yaml  \n",
      "Visualize:       https://netron.app\n"
     ]
    },
    {
     "data": {
      "text/plain": [
       "'runs/segment/train/weights/best.onnx'"
      ]
     },
     "execution_count": 14,
     "metadata": {},
     "output_type": "execute_result"
    }
   ],
   "source": [
    "model.export(format=\"onnx\", dynamic=True)"
   ]
  }
 ],
 "metadata": {
  "accelerator": "GPU",
  "colab": {
   "gpuType": "T4",
   "provenance": []
  },
  "kaggle": {
   "accelerator": "nvidiaTeslaT4",
   "dataSources": [],
   "isGpuEnabled": true,
   "isInternetEnabled": true,
   "language": "python",
   "sourceType": "notebook"
  },
  "kernelspec": {
   "display_name": "Python 3",
   "language": "python",
   "name": "python3"
  },
  "language_info": {
   "codemirror_mode": {
    "name": "ipython",
    "version": 3
   },
   "file_extension": ".py",
   "mimetype": "text/x-python",
   "name": "python",
   "nbconvert_exporter": "python",
   "pygments_lexer": "ipython3",
   "version": "3.10.14"
  },
  "papermill": {
   "default_parameters": {},
   "duration": 21238.623785,
   "end_time": "2024-10-17T12:45:00.358113",
   "environment_variables": {},
   "exception": null,
   "input_path": "__notebook__.ipynb",
   "output_path": "__notebook__.ipynb",
   "parameters": {},
   "start_time": "2024-10-17T06:51:01.734328",
   "version": "2.6.0"
  }
 },
 "nbformat": 4,
 "nbformat_minor": 5
}
