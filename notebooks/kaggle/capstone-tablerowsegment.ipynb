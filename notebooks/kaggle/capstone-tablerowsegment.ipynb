{
 "cells": [
  {
   "cell_type": "markdown",
   "id": "aa9856c2",
   "metadata": {
    "papermill": {
     "duration": 0.003985,
     "end_time": "2024-12-01T17:41:14.426332",
     "exception": false,
     "start_time": "2024-12-01T17:41:14.422347",
     "status": "completed"
    },
    "tags": []
   },
   "source": [
    "# Capstone 2024 - Table Recognition Work\n",
    "\n",
    "Dataset:\n",
    "[PubTables-1m](https://huggingface.co/datasets/bsmock/pubtables-1m)\n",
    "\n",
    "Model: \n",
    "[YoloV11](https://docs.ultralytics.com/models/yolo11/)"
   ]
  },
  {
   "cell_type": "code",
   "execution_count": 1,
   "id": "a42b0c69",
   "metadata": {
    "execution": {
     "iopub.execute_input": "2024-12-01T17:41:14.433942Z",
     "iopub.status.busy": "2024-12-01T17:41:14.433637Z",
     "iopub.status.idle": "2024-12-01T17:42:00.669945Z",
     "shell.execute_reply": "2024-12-01T17:42:00.669180Z"
    },
    "id": "ir-MS52_MfSA",
    "outputId": "d26935fb-cc93-4e2d-ff52-c365208e1eb2",
    "papermill": {
     "duration": 46.242119,
     "end_time": "2024-12-01T17:42:00.671828",
     "exception": false,
     "start_time": "2024-12-01T17:41:14.429709",
     "status": "completed"
    },
    "tags": []
   },
   "outputs": [
    {
     "name": "stdout",
     "output_type": "stream",
     "text": [
      "--2024-12-01 17:41:15--  https://huggingface.co/datasets/bsmock/pubtables-1m/resolve/main/PubTables-1M-Structure_Annotations_Val.tar.gz\r\n",
      "Resolving huggingface.co (huggingface.co)... 18.173.249.21, 18.173.249.105, 18.173.249.90, ...\r\n",
      "Connecting to huggingface.co (huggingface.co)|18.173.249.21|:443... connected.\r\n",
      "HTTP request sent, awaiting response... 302 Found\r\n",
      "Location: https://cdn-lfs.hf.co/repos/36/c0/36c021133128a16f57db86f4cb105c85b76fb8fb4968b96642a02b5140872630/6b8c4b512e24e1040fa0829935ab9c2d13fc0015f7315cc8f13ef82a8bc95ca4?response-content-disposition=inline%3B+filename*%3DUTF-8%27%27PubTables-1M-Structure_Annotations_Val.tar.gz%3B+filename%3D%22PubTables-1M-Structure_Annotations_Val.tar.gz%22%3B&response-content-type=application%2Fgzip&Expires=1733334075&Policy=eyJTdGF0ZW1lbnQiOlt7IkNvbmRpdGlvbiI6eyJEYXRlTGVzc1RoYW4iOnsiQVdTOkVwb2NoVGltZSI6MTczMzMzNDA3NX19LCJSZXNvdXJjZSI6Imh0dHBzOi8vY2RuLWxmcy5oZi5jby9yZXBvcy8zNi9jMC8zNmMwMjExMzMxMjhhMTZmNTdkYjg2ZjRjYjEwNWM4NWI3NmZiOGZiNDk2OGI5NjY0MmEwMmI1MTQwODcyNjMwLzZiOGM0YjUxMmUyNGUxMDQwZmEwODI5OTM1YWI5YzJkMTNmYzAwMTVmNzMxNWNjOGYxM2VmODJhOGJjOTVjYTQ%7EcmVzcG9uc2UtY29udGVudC1kaXNwb3NpdGlvbj0qJnJlc3BvbnNlLWNvbnRlbnQtdHlwZT0qIn1dfQ__&Signature=oaN6D7eLgub71Fp8LOKNV30BlvjAxYWgazJX7coyWRBdq5tNhrdn9bXiWAb6raVxg%7EyOkVDtKBeyGpFdhkQPJT%7EeQUCO8d3eXHpQ25mrQFFBIpcDfYhJeDucDxY%7EizuCu9E-nqD7P1bZdEndDNJOSZlE9BoBb2TBuaGnZJJiZOvfDXGM8CuT%7E2o3Qrz5u1klzY5IEwjPYhimvmG%7Euxhjjj7%7EqEC4Yu6Bgs-LXpwkFXJJbLWNkUdCR2Frfkoo6KsLqXK56y-mYhXLoWVQYxHbF6yGQh-7KNFPgS0%7EH7tvyW-w9S7j6NGN3HotqzSvLZvC5Dp6SM9tM84-oEjYlxVNWw__&Key-Pair-Id=K3RPWS32NSSJCE [following]\r\n",
      "--2024-12-01 17:41:15--  https://cdn-lfs.hf.co/repos/36/c0/36c021133128a16f57db86f4cb105c85b76fb8fb4968b96642a02b5140872630/6b8c4b512e24e1040fa0829935ab9c2d13fc0015f7315cc8f13ef82a8bc95ca4?response-content-disposition=inline%3B+filename*%3DUTF-8''PubTables-1M-Structure_Annotations_Val.tar.gz%3B+filename%3D%22PubTables-1M-Structure_Annotations_Val.tar.gz%22%3B&response-content-type=application%2Fgzip&Expires=1733334075&Policy=eyJTdGF0ZW1lbnQiOlt7IkNvbmRpdGlvbiI6eyJEYXRlTGVzc1RoYW4iOnsiQVdTOkVwb2NoVGltZSI6MTczMzMzNDA3NX19LCJSZXNvdXJjZSI6Imh0dHBzOi8vY2RuLWxmcy5oZi5jby9yZXBvcy8zNi9jMC8zNmMwMjExMzMxMjhhMTZmNTdkYjg2ZjRjYjEwNWM4NWI3NmZiOGZiNDk2OGI5NjY0MmEwMmI1MTQwODcyNjMwLzZiOGM0YjUxMmUyNGUxMDQwZmEwODI5OTM1YWI5YzJkMTNmYzAwMTVmNzMxNWNjOGYxM2VmODJhOGJjOTVjYTQ~cmVzcG9uc2UtY29udGVudC1kaXNwb3NpdGlvbj0qJnJlc3BvbnNlLWNvbnRlbnQtdHlwZT0qIn1dfQ__&Signature=oaN6D7eLgub71Fp8LOKNV30BlvjAxYWgazJX7coyWRBdq5tNhrdn9bXiWAb6raVxg~yOkVDtKBeyGpFdhkQPJT~eQUCO8d3eXHpQ25mrQFFBIpcDfYhJeDucDxY~izuCu9E-nqD7P1bZdEndDNJOSZlE9BoBb2TBuaGnZJJiZOvfDXGM8CuT~2o3Qrz5u1klzY5IEwjPYhimvmG~uxhjjj7~qEC4Yu6Bgs-LXpwkFXJJbLWNkUdCR2Frfkoo6KsLqXK56y-mYhXLoWVQYxHbF6yGQh-7KNFPgS0~H7tvyW-w9S7j6NGN3HotqzSvLZvC5Dp6SM9tM84-oEjYlxVNWw__&Key-Pair-Id=K3RPWS32NSSJCE\r\n",
      "Resolving cdn-lfs.hf.co (cdn-lfs.hf.co)... 18.173.249.128, 18.173.249.45, 18.173.249.110, ...\r\n",
      "Connecting to cdn-lfs.hf.co (cdn-lfs.hf.co)|18.173.249.128|:443... connected.\r\n",
      "HTTP request sent, awaiting response... 200 OK\r\n",
      "Length: 30264304 (29M) [application/gzip]\r\n",
      "Saving to: 'PubTables-1M-Structure_Annotations_Val.tar.gz'\r\n",
      "\r\n",
      "PubTables-1M-Struct 100%[===================>]  28.86M  34.9MB/s    in 0.8s    \r\n",
      "\r\n",
      "2024-12-01 17:41:17 (34.9 MB/s) - 'PubTables-1M-Structure_Annotations_Val.tar.gz' saved [30264304/30264304]\r\n",
      "\r\n",
      "--2024-12-01 17:41:18--  https://huggingface.co/datasets/bsmock/pubtables-1m/resolve/main/PubTables-1M-Structure_Images_Val.tar.gz\r\n",
      "Resolving huggingface.co (huggingface.co)... 18.173.249.90, 18.173.249.105, 18.173.249.21, ...\r\n",
      "Connecting to huggingface.co (huggingface.co)|18.173.249.90|:443... connected.\r\n",
      "HTTP request sent, awaiting response... 302 Found\r\n",
      "Location: https://cdn-lfs.hf.co/repos/36/c0/36c021133128a16f57db86f4cb105c85b76fb8fb4968b96642a02b5140872630/e2b49caa4c015e3c96096305860774984d37bf1558f91d414355b209924795b9?response-content-disposition=inline%3B+filename*%3DUTF-8%27%27PubTables-1M-Structure_Images_Val.tar.gz%3B+filename%3D%22PubTables-1M-Structure_Images_Val.tar.gz%22%3B&response-content-type=application%2Fgzip&Expires=1733334078&Policy=eyJTdGF0ZW1lbnQiOlt7IkNvbmRpdGlvbiI6eyJEYXRlTGVzc1RoYW4iOnsiQVdTOkVwb2NoVGltZSI6MTczMzMzNDA3OH19LCJSZXNvdXJjZSI6Imh0dHBzOi8vY2RuLWxmcy5oZi5jby9yZXBvcy8zNi9jMC8zNmMwMjExMzMxMjhhMTZmNTdkYjg2ZjRjYjEwNWM4NWI3NmZiOGZiNDk2OGI5NjY0MmEwMmI1MTQwODcyNjMwL2UyYjQ5Y2FhNGMwMTVlM2M5NjA5NjMwNTg2MDc3NDk4NGQzN2JmMTU1OGY5MWQ0MTQzNTViMjA5OTI0Nzk1Yjk%7EcmVzcG9uc2UtY29udGVudC1kaXNwb3NpdGlvbj0qJnJlc3BvbnNlLWNvbnRlbnQtdHlwZT0qIn1dfQ__&Signature=kt59x%7EtvjVEE77E3XSh2gYxrRCaMGS5LusvdUDhycbXV54InOhVaNgJQZxb3hQCYCvKjk-TuCQJTQeefBJGi05yVo43nKuMv80E1wzwqU-zxT6GUmpBzrT9U1bF1pNZg%7EAYdj7%7EqhiaPOa1KZ3I7SxsDoXYwyvJG4j8wAJZB4QuPMBPrpU2YY2NisBSAuEWNAGlTYfOKdOyW9RZFTzKjdK31ajdYenOekw932pyDhO-bE25xUk9MVxh99UulElJnuAR5xah%7EN4XeZeKiHKPT-d7XcmrdHuv%7EyvqmtbKju9khJUP8sZhkh60ZwM3U8EJ421sk7zL1eWTnfngDuYTtdQ__&Key-Pair-Id=K3RPWS32NSSJCE [following]\r\n",
      "--2024-12-01 17:41:18--  https://cdn-lfs.hf.co/repos/36/c0/36c021133128a16f57db86f4cb105c85b76fb8fb4968b96642a02b5140872630/e2b49caa4c015e3c96096305860774984d37bf1558f91d414355b209924795b9?response-content-disposition=inline%3B+filename*%3DUTF-8''PubTables-1M-Structure_Images_Val.tar.gz%3B+filename%3D%22PubTables-1M-Structure_Images_Val.tar.gz%22%3B&response-content-type=application%2Fgzip&Expires=1733334078&Policy=eyJTdGF0ZW1lbnQiOlt7IkNvbmRpdGlvbiI6eyJEYXRlTGVzc1RoYW4iOnsiQVdTOkVwb2NoVGltZSI6MTczMzMzNDA3OH19LCJSZXNvdXJjZSI6Imh0dHBzOi8vY2RuLWxmcy5oZi5jby9yZXBvcy8zNi9jMC8zNmMwMjExMzMxMjhhMTZmNTdkYjg2ZjRjYjEwNWM4NWI3NmZiOGZiNDk2OGI5NjY0MmEwMmI1MTQwODcyNjMwL2UyYjQ5Y2FhNGMwMTVlM2M5NjA5NjMwNTg2MDc3NDk4NGQzN2JmMTU1OGY5MWQ0MTQzNTViMjA5OTI0Nzk1Yjk~cmVzcG9uc2UtY29udGVudC1kaXNwb3NpdGlvbj0qJnJlc3BvbnNlLWNvbnRlbnQtdHlwZT0qIn1dfQ__&Signature=kt59x~tvjVEE77E3XSh2gYxrRCaMGS5LusvdUDhycbXV54InOhVaNgJQZxb3hQCYCvKjk-TuCQJTQeefBJGi05yVo43nKuMv80E1wzwqU-zxT6GUmpBzrT9U1bF1pNZg~AYdj7~qhiaPOa1KZ3I7SxsDoXYwyvJG4j8wAJZB4QuPMBPrpU2YY2NisBSAuEWNAGlTYfOKdOyW9RZFTzKjdK31ajdYenOekw932pyDhO-bE25xUk9MVxh99UulElJnuAR5xah~N4XeZeKiHKPT-d7XcmrdHuv~yvqmtbKju9khJUP8sZhkh60ZwM3U8EJ421sk7zL1eWTnfngDuYTtdQ__&Key-Pair-Id=K3RPWS32NSSJCE\r\n",
      "Resolving cdn-lfs.hf.co (cdn-lfs.hf.co)... 18.173.249.128, 18.173.249.64, 18.173.249.45, ...\r\n",
      "Connecting to cdn-lfs.hf.co (cdn-lfs.hf.co)|18.173.249.128|:443... connected.\r\n",
      "HTTP request sent, awaiting response... 200 OK\r\n",
      "Length: 2729881397 (2.5G) [application/gzip]\r\n",
      "Saving to: 'PubTables-1M-Structure_Images_Val.tar.gz'\r\n",
      "\r\n",
      "PubTables-1M-Struct 100%[===================>]   2.54G  64.0MB/s    in 41s     \r\n",
      "\r\n",
      "2024-12-01 17:42:00 (62.9 MB/s) - 'PubTables-1M-Structure_Images_Val.tar.gz' saved [2729881397/2729881397]\r\n",
      "\r\n"
     ]
    }
   ],
   "source": [
    "!wget https://huggingface.co/datasets/bsmock/pubtables-1m/resolve/main/PubTables-1M-Structure_Annotations_Val.tar.gz\n",
    "!wget https://huggingface.co/datasets/bsmock/pubtables-1m/resolve/main/PubTables-1M-Structure_Images_Val.tar.gz"
   ]
  },
  {
   "cell_type": "code",
   "execution_count": 2,
   "id": "f6013c1a",
   "metadata": {
    "execution": {
     "iopub.execute_input": "2024-12-01T17:42:00.699606Z",
     "iopub.status.busy": "2024-12-01T17:42:00.699340Z",
     "iopub.status.idle": "2024-12-01T17:42:36.488477Z",
     "shell.execute_reply": "2024-12-01T17:42:36.487495Z"
    },
    "id": "LQNxCPWiM0gX",
    "outputId": "e03c0133-7889-4dc8-f6b1-3576b5eeed16",
    "papermill": {
     "duration": 35.804978,
     "end_time": "2024-12-01T17:42:36.490537",
     "exception": false,
     "start_time": "2024-12-01T17:42:00.685559",
     "status": "completed"
    },
    "tags": []
   },
   "outputs": [],
   "source": [
    "!mkdir ./data\n",
    "!mkdir ./data/PubTables-1M-Structure_Images_Val\n",
    "!mkdir ./data/PubTables-1M-Structure_Annotations_Val\n",
    "!tar -xf PubTables-1M-Structure_Images_Val.tar.gz -C ./data/PubTables-1M-Structure_Images_Val\n",
    "!tar -xf PubTables-1M-Structure_Annotations_Val.tar.gz -C ./data/PubTables-1M-Structure_Annotations_Val"
   ]
  },
  {
   "cell_type": "markdown",
   "id": "627849fd",
   "metadata": {
    "papermill": {
     "duration": 0.012966,
     "end_time": "2024-12-01T17:42:36.516774",
     "exception": false,
     "start_time": "2024-12-01T17:42:36.503808",
     "status": "completed"
    },
    "tags": []
   },
   "source": [
    "# Create YOLO Dataset"
   ]
  },
  {
   "cell_type": "code",
   "execution_count": 3,
   "id": "740d33e8",
   "metadata": {
    "execution": {
     "iopub.execute_input": "2024-12-01T17:42:36.543499Z",
     "iopub.status.busy": "2024-12-01T17:42:36.543154Z",
     "iopub.status.idle": "2024-12-01T17:42:37.218425Z",
     "shell.execute_reply": "2024-12-01T17:42:37.217323Z"
    },
    "papermill": {
     "duration": 0.691133,
     "end_time": "2024-12-01T17:42:37.220405",
     "exception": false,
     "start_time": "2024-12-01T17:42:36.529272",
     "status": "completed"
    },
    "tags": []
   },
   "outputs": [],
   "source": [
    "import os\n",
    "import yaml\n",
    "import shutil\n",
    "import cv2\n",
    "import random\n",
    "import colorsys\n",
    "import numpy as np\n",
    "\n",
    "import xml.etree.ElementTree as ET\n",
    "\n",
    "from glob import glob\n",
    "from PIL import Image\n",
    "\n",
    "import matplotlib.pyplot as plt"
   ]
  },
  {
   "cell_type": "code",
   "execution_count": 4,
   "id": "d7e35931",
   "metadata": {
    "execution": {
     "iopub.execute_input": "2024-12-01T17:42:37.247472Z",
     "iopub.status.busy": "2024-12-01T17:42:37.247185Z",
     "iopub.status.idle": "2024-12-01T17:42:37.257504Z",
     "shell.execute_reply": "2024-12-01T17:42:37.256700Z"
    },
    "papermill": {
     "duration": 0.025576,
     "end_time": "2024-12-01T17:42:37.259065",
     "exception": false,
     "start_time": "2024-12-01T17:42:37.233489",
     "status": "completed"
    },
    "tags": []
   },
   "outputs": [],
   "source": [
    "classes = [\n",
    "#     'table column',\n",
    "    'table row',\n",
    "#     'table spanning cell',\n",
    "#     'table text cell'\n",
    "]\n",
    "\n",
    "def convert_coordinates(size, box):\n",
    "    dw, dh = 1.0/size[0], 1.0/size[1]\n",
    "    xmin, ymin, xmax, ymax = box\n",
    "    w, h = xmax - xmin, ymax - ymin\n",
    "    x_center, y_center = xmin + w/2, ymin + h/2\n",
    "    return (x_center * dw, y_center * dh, w * dw, h * dh)\n",
    "\n",
    "def convert_xml_to_yolo_and_copy_image(xml_file_path, dest_labels_dir, source_images_dir, dest_images_dir):\n",
    "    tree = ET.parse(xml_file_path)\n",
    "    root = tree.getroot()\n",
    "\n",
    "    filename = root.find('filename').text\n",
    "    image_path = os.path.join(source_images_dir, filename)\n",
    "#     print(image_path)\n",
    "    # Read image dimensions using PIL\n",
    "    with Image.open(image_path) as img:\n",
    "        width, height = img.size\n",
    "\n",
    "    output_filename = os.path.splitext(filename)[0] + '.txt'\n",
    "    with open(os.path.join(dest_labels_dir, output_filename), 'w') as out_file:\n",
    "        for obj in root.iter('object'):\n",
    "            cls = obj.find('name').text\n",
    "            if cls not in classes:\n",
    "                continue\n",
    "\n",
    "            cls_id = classes.index(cls)\n",
    "\n",
    "            xmlbox = obj.find('bndbox')\n",
    "            xmin = float(xmlbox.find('xmin').text) / width\n",
    "            ymin = float(xmlbox.find('ymin').text) / height\n",
    "            xmax = float(xmlbox.find('xmax').text) / width\n",
    "            ymax = float(xmlbox.find('ymax').text) / height\n",
    "            \n",
    "            # Create a polygon with 4 points (rectangle corners)\n",
    "            points = [\n",
    "                (xmin, ymin),  # Top-left\n",
    "                (xmax, ymin),  # Top-right\n",
    "                (xmax, ymax),  # Bottom-right\n",
    "                (xmin, ymax)   # Bottom-left\n",
    "            ]\n",
    "            \n",
    "            # Format the points as a string\n",
    "            points_str = ' '.join([f'{x:.6f} {y:.6f}' for x, y in points])\n",
    "            \n",
    "            out_file.write(f\"{cls_id} {points_str}\\n\")\n",
    "    \n",
    "    # Copy corresponding image to train directory\n",
    "    base_name = os.path.splitext(os.path.basename(xml_file_path))[0]\n",
    "    for ext in ['.jpg', '.jpeg', '.png', '.bmp']:\n",
    "        image_file = os.path.join(data_images_dir, base_name + ext)\n",
    "        if os.path.exists(image_file):\n",
    "#             print(\"Copied\", image_file, dest_images_dir)\n",
    "            shutil.copy(image_file, dest_images_dir)\n",
    "            break\n",
    "    return"
   ]
  },
  {
   "cell_type": "code",
   "execution_count": 5,
   "id": "242816f4",
   "metadata": {
    "execution": {
     "iopub.execute_input": "2024-12-01T17:42:37.285405Z",
     "iopub.status.busy": "2024-12-01T17:42:37.285143Z",
     "iopub.status.idle": "2024-12-01T17:42:37.291827Z",
     "shell.execute_reply": "2024-12-01T17:42:37.291057Z"
    },
    "papermill": {
     "duration": 0.021569,
     "end_time": "2024-12-01T17:42:37.293342",
     "exception": false,
     "start_time": "2024-12-01T17:42:37.271773",
     "status": "completed"
    },
    "tags": []
   },
   "outputs": [],
   "source": [
    "def create_dataset(\n",
    "    data_images_dir, data_labels_dir, \n",
    "    train_images_dir, train_labels_dir,\n",
    "    val_images_dir, val_labels_dir,\n",
    "    number_of_samples=0, dataset_split_ratio = 0.8):\n",
    "\n",
    "    xml_files = glob(os.path.join(data_labels_dir, '*.xml'))\n",
    "\n",
    "    if number_of_samples:\n",
    "        xml_files = xml_files[:number_of_samples]\n",
    "    # Calculate the split index\n",
    "    split_index = int(len(xml_files) * 0.8)  # Assuming 80% train, 20% val split\n",
    "\n",
    "    # Split the files\n",
    "    train_xml_files = xml_files[:split_index]\n",
    "    val_xml_files = xml_files[split_index:]\n",
    "\n",
    "    # Process train files\n",
    "    for xml_file_path in train_xml_files:\n",
    "        convert_xml_to_yolo_and_copy_image(xml_file_path, train_labels_dir, data_images_dir, train_images_dir)\n",
    "\n",
    "    # Process validation files\n",
    "    for xml_file_path in val_xml_files:\n",
    "        convert_xml_to_yolo_and_copy_image(xml_file_path, val_labels_dir, data_images_dir, val_images_dir)\n",
    "\n",
    "def create_dataset_yaml(dataset_dir, yaml_path):\n",
    "  # Create the dataset structure\n",
    "  dataset = {\n",
    "      'path': os.path.abspath(dataset_dir),\n",
    "      'train': 'train',  # Assuming all data is for training\n",
    "      'val': 'val',    # Using same data for validation\n",
    "    #   'test': 'train',   # Using same data for testing\n",
    "      'names': {i: name for i, name in enumerate(classes)},\n",
    "      'nc': len(classes)\n",
    "  }\n",
    "\n",
    "  # Write the YAML file\n",
    "  with open(yaml_path, 'w') as file:\n",
    "      yaml.dump(dataset, file, default_flow_style=False)\n",
    "\n",
    "  print(f\"Dataset YAML file created at: {yaml_path}\")"
   ]
  },
  {
   "cell_type": "code",
   "execution_count": 6,
   "id": "0e131ccf",
   "metadata": {
    "execution": {
     "iopub.execute_input": "2024-12-01T17:42:37.319365Z",
     "iopub.status.busy": "2024-12-01T17:42:37.319149Z",
     "iopub.status.idle": "2024-12-01T17:42:41.989558Z",
     "shell.execute_reply": "2024-12-01T17:42:41.988634Z"
    },
    "papermill": {
     "duration": 4.685556,
     "end_time": "2024-12-01T17:42:41.991416",
     "exception": false,
     "start_time": "2024-12-01T17:42:37.305860",
     "status": "completed"
    },
    "tags": []
   },
   "outputs": [
    {
     "name": "stdout",
     "output_type": "stream",
     "text": [
      "Dataset YAML file created at: /kaggle/working/dataset/dataset.yaml\n"
     ]
    }
   ],
   "source": [
    "data_dir = \"/kaggle/working/data\"\n",
    "data_images_dir = \"/kaggle/working/data/PubTables-1M-Structure_Images_Val\"\n",
    "data_labels_dir = \"/kaggle/working/data/PubTables-1M-Structure_Annotations_Val\"\n",
    "\n",
    "dataset_dir = \"/kaggle/working/dataset\"\n",
    "train_images_dir = os.path.join(dataset_dir, \"train\", \"images\")\n",
    "train_labels_dir = os.path.join(dataset_dir, \"train\", \"labels\")\n",
    "val_images_dir = os.path.join(dataset_dir, \"val\", \"images\")\n",
    "val_labels_dir = os.path.join(dataset_dir, \"val\", \"labels\")\n",
    "\n",
    "dataset_yaml_path = \"/kaggle/working/dataset/dataset.yaml\"\n",
    "\n",
    "os.makedirs(dataset_dir, exist_ok=True)\n",
    "os.makedirs(train_images_dir, exist_ok=True)\n",
    "os.makedirs(train_labels_dir, exist_ok=True)\n",
    "os.makedirs(val_images_dir, exist_ok=True)\n",
    "os.makedirs(val_labels_dir, exist_ok=True)\n",
    "\n",
    "number_of_samples = 5000\n",
    "dataset_split_ratio = 0.8\n",
    "\n",
    "create_dataset(\n",
    "    data_images_dir, data_labels_dir, \n",
    "    train_images_dir, train_labels_dir,\n",
    "    val_images_dir, val_labels_dir,\n",
    "    number_of_samples,\n",
    "    dataset_split_ratio\n",
    ")\n",
    "create_dataset_yaml(dataset_dir, dataset_yaml_path)"
   ]
  },
  {
   "cell_type": "code",
   "execution_count": 7,
   "id": "9c0dee73",
   "metadata": {
    "execution": {
     "iopub.execute_input": "2024-12-01T17:42:42.018840Z",
     "iopub.status.busy": "2024-12-01T17:42:42.018562Z",
     "iopub.status.idle": "2024-12-01T17:42:42.022239Z",
     "shell.execute_reply": "2024-12-01T17:42:42.021605Z"
    },
    "papermill": {
     "duration": 0.019026,
     "end_time": "2024-12-01T17:42:42.023767",
     "exception": false,
     "start_time": "2024-12-01T17:42:42.004741",
     "status": "completed"
    },
    "tags": []
   },
   "outputs": [],
   "source": [
    "# !rm -rf \"/kaggle/working/dataset\""
   ]
  },
  {
   "cell_type": "markdown",
   "id": "048c3a4e",
   "metadata": {
    "papermill": {
     "duration": 0.012395,
     "end_time": "2024-12-01T17:42:42.048791",
     "exception": false,
     "start_time": "2024-12-01T17:42:42.036396",
     "status": "completed"
    },
    "tags": []
   },
   "source": [
    "# Data sample visualization"
   ]
  },
  {
   "cell_type": "code",
   "execution_count": 8,
   "id": "3907100d",
   "metadata": {
    "execution": {
     "iopub.execute_input": "2024-12-01T17:42:42.075177Z",
     "iopub.status.busy": "2024-12-01T17:42:42.074861Z",
     "iopub.status.idle": "2024-12-01T17:42:42.417808Z",
     "shell.execute_reply": "2024-12-01T17:42:42.416930Z"
    },
    "id": "WySS5BWfN0oK",
    "outputId": "ac5ce44a-1005-46f6-e803-e33063d62eaf",
    "papermill": {
     "duration": 0.359603,
     "end_time": "2024-12-01T17:42:42.420938",
     "exception": false,
     "start_time": "2024-12-01T17:42:42.061335",
     "status": "completed"
    },
    "tags": []
   },
   "outputs": [
    {
     "data": {
      "image/png": "[encoded data removed]",
      "text/plain": [
       "<Figure size 1200x800 with 1 Axes>"
      ]
     },
     "metadata": {},
     "output_type": "display_data"
    }
   ],
   "source": [
    "# Load the dataset configuration\n",
    "with open(dataset_yaml_path, 'r') as file:\n",
    "    dataset_config = yaml.safe_load(file)\n",
    "\n",
    "# Get the dataset path and class names\n",
    "dataset_path = dataset_config['path']\n",
    "class_names = dataset_config['names']\n",
    "\n",
    "# Choose a random set (train or val)\n",
    "image_set = random.choice(['train', 'val'])\n",
    "images_path = os.path.join(dataset_path, image_set, 'images')\n",
    "# Get a list of all image files\n",
    "image_files = [f for f in os.listdir(images_path) if f.endswith(('.jpg', '.jpeg', '.png'))]\n",
    "\n",
    "# Choose a random image\n",
    "random_image = random.choice(image_files)\n",
    "image_path = os.path.join(images_path, random_image)\n",
    "\n",
    "# Load the image\n",
    "image = cv2.imread(image_path)\n",
    "image = cv2.cvtColor(image, cv2.COLOR_BGR2RGB)\n",
    "\n",
    "# Load the corresponding label file\n",
    "label_path = os.path.join(dataset_path, image_set, 'labels', random_image.rsplit('.', 1)[0] + '.txt')\n",
    "\n",
    "# Read and parse the label file\n",
    "with open(label_path, 'r') as file:\n",
    "    labels = file.readlines()\n",
    "\n",
    "# Get image dimensions\n",
    "height, width, _ = image.shape\n",
    "\n",
    "# Function to generate distinct colors\n",
    "def generate_colors(n):\n",
    "    hsv_tuples = [(x / n, 1., 1.) for x in range(n)]\n",
    "    return list(map(lambda x: tuple(round(i * 255) for i in colorsys.hsv_to_rgb(*x)), hsv_tuples))\n",
    "\n",
    "# Generate a color for each class\n",
    "colors = generate_colors(len(class_names))\n",
    "\n",
    "# Draw bounding boxes and labels\n",
    "for label in labels:\n",
    "    class_id, *points = map(float, label.strip().split())\n",
    "    \n",
    "    # Convert normalized coordinates to pixel coordinates\n",
    "    pixel_points = [(int(x * width), int(y * height)) for x, y in zip(points[::2], points[1::2])]\n",
    "    \n",
    "    # Get color for this class\n",
    "    color = colors[int(class_id)]\n",
    "    \n",
    "    # Draw polygon\n",
    "    cv2.polylines(image, [np.array(pixel_points)], isClosed=True, color=color, thickness=2)\n",
    "\n",
    "    # Add label\n",
    "    class_name = class_names[int(class_id)]\n",
    "    # cv2.putText(image, class_name, (x1, y1-10), cv2.FONT_HERSHEY_SIMPLEX, 0.9, color, 2)\n",
    "\n",
    "# Display the image\n",
    "plt.figure(figsize=(12, 8))\n",
    "plt.imshow(image)\n",
    "plt.axis('off')\n",
    "plt.title(f\"Random Image: {random_image}\")\n",
    "plt.show()"
   ]
  },
  {
   "cell_type": "code",
   "execution_count": 9,
   "id": "a6e1784f",
   "metadata": {
    "execution": {
     "iopub.execute_input": "2024-12-01T17:42:42.451245Z",
     "iopub.status.busy": "2024-12-01T17:42:42.450975Z",
     "iopub.status.idle": "2024-12-01T17:42:42.456076Z",
     "shell.execute_reply": "2024-12-01T17:42:42.455286Z"
    },
    "id": "aJGfYfCDQEkG",
    "outputId": "a27f3976-10d2-49ba-cc50-1be9fb8d3932",
    "papermill": {
     "duration": 0.021812,
     "end_time": "2024-12-01T17:42:42.457618",
     "exception": false,
     "start_time": "2024-12-01T17:42:42.435806",
     "status": "completed"
    },
    "tags": []
   },
   "outputs": [
    {
     "data": {
      "text/plain": [
       "['0 0.070216 0.211857 0.926113 0.211857 0.926113 0.291740 0.070216 0.291740\\n',\n",
       " '0 0.070216 0.291740 0.926113 0.291740 0.926113 0.389851 0.070216 0.389851\\n',\n",
       " '0 0.070216 0.389851 0.926113 0.389851 0.926113 0.491040 0.070216 0.491040\\n',\n",
       " '0 0.070216 0.491040 0.926113 0.491040 0.926113 0.592435 0.070216 0.592435\\n',\n",
       " '0 0.070216 0.592435 0.926113 0.592435 0.926113 0.693830 0.070216 0.693830\\n',\n",
       " '0 0.070216 0.693830 0.926113 0.693830 0.926113 0.776793 0.070216 0.776793\\n']"
      ]
     },
     "execution_count": 9,
     "metadata": {},
     "output_type": "execute_result"
    }
   ],
   "source": [
    "labels"
   ]
  },
  {
   "cell_type": "code",
   "execution_count": 10,
   "id": "882c32da",
   "metadata": {
    "execution": {
     "iopub.execute_input": "2024-12-01T17:42:42.487427Z",
     "iopub.status.busy": "2024-12-01T17:42:42.487172Z",
     "iopub.status.idle": "2024-12-01T17:42:55.979577Z",
     "shell.execute_reply": "2024-12-01T17:42:55.978317Z"
    },
    "papermill": {
     "duration": 13.509735,
     "end_time": "2024-12-01T17:42:55.981750",
     "exception": false,
     "start_time": "2024-12-01T17:42:42.472015",
     "status": "completed"
    },
    "tags": []
   },
   "outputs": [],
   "source": [
    "!rm -rf \"/kaggle/working/data\"\n",
    "!rm -rf \"/kaggle/working/*.tar\"\n",
    "!rm -rf \"/kaggle/working/*.gz\""
   ]
  },
  {
   "cell_type": "markdown",
   "id": "d7de95e6",
   "metadata": {
    "papermill": {
     "duration": 0.014406,
     "end_time": "2024-12-01T17:42:56.011188",
     "exception": false,
     "start_time": "2024-12-01T17:42:55.996782",
     "status": "completed"
    },
    "tags": []
   },
   "source": [
    "# Model training"
   ]
  },
  {
   "cell_type": "code",
   "execution_count": 11,
   "id": "41ac3e36",
   "metadata": {
    "execution": {
     "iopub.execute_input": "2024-12-01T17:42:56.041333Z",
     "iopub.status.busy": "2024-12-01T17:42:56.041052Z",
     "iopub.status.idle": "2024-12-01T17:43:17.749213Z",
     "shell.execute_reply": "2024-12-01T17:43:17.748232Z"
    },
    "id": "-eRwChh2R7hI",
    "outputId": "90cded72-3faa-4749-fd79-8e2fe0ff40d1",
    "papermill": {
     "duration": 21.725931,
     "end_time": "2024-12-01T17:43:17.751438",
     "exception": false,
     "start_time": "2024-12-01T17:42:56.025507",
     "status": "completed"
    },
    "tags": []
   },
   "outputs": [
    {
     "name": "stdout",
     "output_type": "stream",
     "text": [
      "Collecting ultralytics\r\n",
      "  Downloading ultralytics-8.3.39-py3-none-any.whl.metadata (35 kB)\r\n",
      "Requirement already satisfied: numpy>=1.23.0 in /opt/conda/lib/python3.10/site-packages (from ultralytics) (1.26.4)\r\n",
      "Requirement already satisfied: matplotlib>=3.3.0 in /opt/conda/lib/python3.10/site-packages (from ultralytics) (3.7.5)\r\n",
      "Requirement already satisfied: opencv-python>=4.6.0 in /opt/conda/lib/python3.10/site-packages (from ultralytics) (4.10.0.84)\r\n",
      "Requirement already satisfied: pillow>=7.1.2 in /opt/conda/lib/python3.10/site-packages (from ultralytics) (10.3.0)\r\n",
      "Requirement already satisfied: pyyaml>=5.3.1 in /opt/conda/lib/python3.10/site-packages (from ultralytics) (6.0.2)\r\n",
      "Requirement already satisfied: requests>=2.23.0 in /opt/conda/lib/python3.10/site-packages (from ultralytics) (2.32.3)\r\n",
      "Requirement already satisfied: scipy>=1.4.1 in /opt/conda/lib/python3.10/site-packages (from ultralytics) (1.14.1)\r\n",
      "Requirement already satisfied: torch>=1.8.0 in /opt/conda/lib/python3.10/site-packages (from ultralytics) (2.4.0)\r\n",
      "Requirement already satisfied: torchvision>=0.9.0 in /opt/conda/lib/python3.10/site-packages (from ultralytics) (0.19.0)\r\n",
      "Requirement already satisfied: tqdm>=4.64.0 in /opt/conda/lib/python3.10/site-packages (from ultralytics) (4.66.4)\r\n",
      "Requirement already satisfied: psutil in /opt/conda/lib/python3.10/site-packages (from ultralytics) (5.9.3)\r\n",
      "Requirement already satisfied: py-cpuinfo in /opt/conda/lib/python3.10/site-packages (from ultralytics) (9.0.0)\r\n",
      "Requirement already satisfied: pandas>=1.1.4 in /opt/conda/lib/python3.10/site-packages (from ultralytics) (2.2.2)\r\n",
      "Requirement already satisfied: seaborn>=0.11.0 in /opt/conda/lib/python3.10/site-packages (from ultralytics) (0.12.2)\r\n",
      "Collecting ultralytics-thop>=2.0.0 (from ultralytics)\r\n",
      "  Downloading ultralytics_thop-2.0.12-py3-none-any.whl.metadata (9.4 kB)\r\n",
      "Requirement already satisfied: contourpy>=1.0.1 in /opt/conda/lib/python3.10/site-packages (from matplotlib>=3.3.0->ultralytics) (1.2.1)\r\n",
      "Requirement already satisfied: cycler>=0.10 in /opt/conda/lib/python3.10/site-packages (from matplotlib>=3.3.0->ultralytics) (0.12.1)\r\n",
      "Requirement already satisfied: fonttools>=4.22.0 in /opt/conda/lib/python3.10/site-packages (from matplotlib>=3.3.0->ultralytics) (4.53.0)\r\n",
      "Requirement already satisfied: kiwisolver>=1.0.1 in /opt/conda/lib/python3.10/site-packages (from matplotlib>=3.3.0->ultralytics) (1.4.5)\r\n",
      "Requirement already satisfied: packaging>=20.0 in /opt/conda/lib/python3.10/site-packages (from matplotlib>=3.3.0->ultralytics) (21.3)\r\n",
      "Requirement already satisfied: pyparsing>=2.3.1 in /opt/conda/lib/python3.10/site-packages (from matplotlib>=3.3.0->ultralytics) (3.1.2)\r\n",
      "Requirement already satisfied: python-dateutil>=2.7 in /opt/conda/lib/python3.10/site-packages (from matplotlib>=3.3.0->ultralytics) (2.9.0.post0)\r\n",
      "Requirement already satisfied: pytz>=2020.1 in /opt/conda/lib/python3.10/site-packages (from pandas>=1.1.4->ultralytics) (2024.1)\r\n",
      "Requirement already satisfied: tzdata>=2022.7 in /opt/conda/lib/python3.10/site-packages (from pandas>=1.1.4->ultralytics) (2024.1)\r\n",
      "Requirement already satisfied: charset-normalizer<4,>=2 in /opt/conda/lib/python3.10/site-packages (from requests>=2.23.0->ultralytics) (3.3.2)\r\n",
      "Requirement already satisfied: idna<4,>=2.5 in /opt/conda/lib/python3.10/site-packages (from requests>=2.23.0->ultralytics) (3.7)\r\n",
      "Requirement already satisfied: urllib3<3,>=1.21.1 in /opt/conda/lib/python3.10/site-packages (from requests>=2.23.0->ultralytics) (1.26.18)\r\n",
      "Requirement already satisfied: certifi>=2017.4.17 in /opt/conda/lib/python3.10/site-packages (from requests>=2.23.0->ultralytics) (2024.8.30)\r\n",
      "Requirement already satisfied: filelock in /opt/conda/lib/python3.10/site-packages (from torch>=1.8.0->ultralytics) (3.15.1)\r\n",
      "Requirement already satisfied: typing-extensions>=4.8.0 in /opt/conda/lib/python3.10/site-packages (from torch>=1.8.0->ultralytics) (4.12.2)\r\n",
      "Requirement already satisfied: sympy in /opt/conda/lib/python3.10/site-packages (from torch>=1.8.0->ultralytics) (1.13.3)\r\n",
      "Requirement already satisfied: networkx in /opt/conda/lib/python3.10/site-packages (from torch>=1.8.0->ultralytics) (3.3)\r\n",
      "Requirement already satisfied: jinja2 in /opt/conda/lib/python3.10/site-packages (from torch>=1.8.0->ultralytics) (3.1.4)\r\n",
      "Requirement already satisfied: fsspec in /opt/conda/lib/python3.10/site-packages (from torch>=1.8.0->ultralytics) (2024.6.1)\r\n",
      "Requirement already satisfied: six>=1.5 in /opt/conda/lib/python3.10/site-packages (from python-dateutil>=2.7->matplotlib>=3.3.0->ultralytics) (1.16.0)\r\n",
      "Requirement already satisfied: MarkupSafe>=2.0 in /opt/conda/lib/python3.10/site-packages (from jinja2->torch>=1.8.0->ultralytics) (2.1.5)\r\n",
      "Requirement already satisfied: mpmath<1.4,>=1.1.0 in /opt/conda/lib/python3.10/site-packages (from sympy->torch>=1.8.0->ultralytics) (1.3.0)\r\n",
      "Downloading ultralytics-8.3.39-py3-none-any.whl (896 kB)\r\n",
      "\u001b[2K   \u001b[90m━━━━━━━━━━━━━━━━━━━━━━━━━━━━━━━━━━━━━━━━\u001b[0m \u001b[32m896.9/896.9 kB\u001b[0m \u001b[31m23.4 MB/s\u001b[0m eta \u001b[36m0:00:00\u001b[0m\r\n",
      "\u001b[?25hDownloading ultralytics_thop-2.0.12-py3-none-any.whl (26 kB)\r\n",
      "Installing collected packages: ultralytics-thop, ultralytics\r\n",
      "Successfully installed ultralytics-8.3.39 ultralytics-thop-2.0.12\r\n",
      "Requirement already satisfied: ipywidgets in /opt/conda/lib/python3.10/site-packages (7.7.1)\r\n",
      "Collecting ipywidgets\r\n",
      "  Downloading ipywidgets-8.1.5-py3-none-any.whl.metadata (2.3 kB)\r\n",
      "Requirement already satisfied: comm>=0.1.3 in /opt/conda/lib/python3.10/site-packages (from ipywidgets) (0.2.2)\r\n",
      "Requirement already satisfied: ipython>=6.1.0 in /opt/conda/lib/python3.10/site-packages (from ipywidgets) (8.21.0)\r\n",
      "Requirement already satisfied: traitlets>=4.3.1 in /opt/conda/lib/python3.10/site-packages (from ipywidgets) (5.14.3)\r\n",
      "Collecting widgetsnbextension~=4.0.12 (from ipywidgets)\r\n",
      "  Downloading widgetsnbextension-4.0.13-py3-none-any.whl.metadata (1.6 kB)\r\n",
      "Collecting jupyterlab-widgets~=3.0.12 (from ipywidgets)\r\n",
      "  Downloading jupyterlab_widgets-3.0.13-py3-none-any.whl.metadata (4.1 kB)\r\n",
      "Requirement already satisfied: decorator in /opt/conda/lib/python3.10/site-packages (from ipython>=6.1.0->ipywidgets) (5.1.1)\r\n",
      "Requirement already satisfied: jedi>=0.16 in /opt/conda/lib/python3.10/site-packages (from ipython>=6.1.0->ipywidgets) (0.19.1)\r\n",
      "Requirement already satisfied: matplotlib-inline in /opt/conda/lib/python3.10/site-packages (from ipython>=6.1.0->ipywidgets) (0.1.7)\r\n",
      "Requirement already satisfied: prompt-toolkit<3.1.0,>=3.0.41 in /opt/conda/lib/python3.10/site-packages (from ipython>=6.1.0->ipywidgets) (3.0.47)\r\n",
      "Requirement already satisfied: pygments>=2.4.0 in /opt/conda/lib/python3.10/site-packages (from ipython>=6.1.0->ipywidgets) (2.18.0)\r\n",
      "Requirement already satisfied: stack-data in /opt/conda/lib/python3.10/site-packages (from ipython>=6.1.0->ipywidgets) (0.6.2)\r\n",
      "Requirement already satisfied: exceptiongroup in /opt/conda/lib/python3.10/site-packages (from ipython>=6.1.0->ipywidgets) (1.2.0)\r\n",
      "Requirement already satisfied: pexpect>4.3 in /opt/conda/lib/python3.10/site-packages (from ipython>=6.1.0->ipywidgets) (4.9.0)\r\n",
      "Requirement already satisfied: parso<0.9.0,>=0.8.3 in /opt/conda/lib/python3.10/site-packages (from jedi>=0.16->ipython>=6.1.0->ipywidgets) (0.8.4)\r\n",
      "Requirement already satisfied: ptyprocess>=0.5 in /opt/conda/lib/python3.10/site-packages (from pexpect>4.3->ipython>=6.1.0->ipywidgets) (0.7.0)\r\n",
      "Requirement already satisfied: wcwidth in /opt/conda/lib/python3.10/site-packages (from prompt-toolkit<3.1.0,>=3.0.41->ipython>=6.1.0->ipywidgets) (0.2.13)\r\n",
      "Requirement already satisfied: executing>=1.2.0 in /opt/conda/lib/python3.10/site-packages (from stack-data->ipython>=6.1.0->ipywidgets) (2.0.1)\r\n",
      "Requirement already satisfied: asttokens>=2.1.0 in /opt/conda/lib/python3.10/site-packages (from stack-data->ipython>=6.1.0->ipywidgets) (2.4.1)\r\n",
      "Requirement already satisfied: pure-eval in /opt/conda/lib/python3.10/site-packages (from stack-data->ipython>=6.1.0->ipywidgets) (0.2.2)\r\n",
      "Requirement already satisfied: six>=1.12.0 in /opt/conda/lib/python3.10/site-packages (from asttokens>=2.1.0->stack-data->ipython>=6.1.0->ipywidgets) (1.16.0)\r\n",
      "Downloading ipywidgets-8.1.5-py3-none-any.whl (139 kB)\r\n",
      "\u001b[2K   \u001b[90m━━━━━━━━━━━━━━━━━━━━━━━━━━━━━━━━━━━━━━━━\u001b[0m \u001b[32m139.8/139.8 kB\u001b[0m \u001b[31m3.1 MB/s\u001b[0m eta \u001b[36m0:00:00\u001b[0m\r\n",
      "\u001b[?25hDownloading jupyterlab_widgets-3.0.13-py3-none-any.whl (214 kB)\r\n",
      "\u001b[2K   \u001b[90m━━━━━━━━━━━━━━━━━━━━━━━━━━━━━━━━━━━━━━━━\u001b[0m \u001b[32m214.4/214.4 kB\u001b[0m \u001b[31m6.9 MB/s\u001b[0m eta \u001b[36m0:00:00\u001b[0m\r\n",
      "\u001b[?25hDownloading widgetsnbextension-4.0.13-py3-none-any.whl (2.3 MB)\r\n",
      "\u001b[2K   \u001b[90m━━━━━━━━━━━━━━━━━━━━━━━━━━━━━━━━━━━━━━━━\u001b[0m \u001b[32m2.3/2.3 MB\u001b[0m \u001b[31m42.9 MB/s\u001b[0m eta \u001b[36m0:00:00\u001b[0m\r\n",
      "\u001b[?25hInstalling collected packages: widgetsnbextension, jupyterlab-widgets, ipywidgets\r\n",
      "  Attempting uninstall: widgetsnbextension\r\n",
      "    Found existing installation: widgetsnbextension 3.6.9\r\n",
      "    Uninstalling widgetsnbextension-3.6.9:\r\n",
      "      Successfully uninstalled widgetsnbextension-3.6.9\r\n",
      "  Attempting uninstall: jupyterlab-widgets\r\n",
      "    Found existing installation: jupyterlab_widgets 3.0.11\r\n",
      "    Uninstalling jupyterlab_widgets-3.0.11:\r\n",
      "      Successfully uninstalled jupyterlab_widgets-3.0.11\r\n",
      "  Attempting uninstall: ipywidgets\r\n",
      "    Found existing installation: ipywidgets 7.7.1\r\n",
      "    Uninstalling ipywidgets-7.7.1:\r\n",
      "      Successfully uninstalled ipywidgets-7.7.1\r\n",
      "\u001b[31mERROR: pip's dependency resolver does not currently take into account all the packages that are installed. This behaviour is the source of the following dependency conflicts.\r\n",
      "bigframes 0.22.0 requires google-cloud-bigquery[bqstorage,pandas]>=3.10.0, but you have google-cloud-bigquery 2.34.4 which is incompatible.\r\n",
      "bigframes 0.22.0 requires google-cloud-storage>=2.0.0, but you have google-cloud-storage 1.44.0 which is incompatible.\r\n",
      "bigframes 0.22.0 requires pandas<2.1.4,>=1.5.0, but you have pandas 2.2.2 which is incompatible.\r\n",
      "dataproc-jupyter-plugin 0.1.79 requires pydantic~=1.10.0, but you have pydantic 2.9.2 which is incompatible.\u001b[0m\u001b[31m\r\n",
      "\u001b[0mSuccessfully installed ipywidgets-8.1.5 jupyterlab-widgets-3.0.13 widgetsnbextension-4.0.13\r\n"
     ]
    }
   ],
   "source": [
    "!pip install --no-cache-dir ultralytics\n",
    "!pip install -U ipywidgets\n",
    "os.environ['WANDB_DISABLED'] = 'true'"
   ]
  },
  {
   "cell_type": "code",
   "execution_count": 12,
   "id": "67201017",
   "metadata": {
    "execution": {
     "iopub.execute_input": "2024-12-01T17:43:17.788872Z",
     "iopub.status.busy": "2024-12-01T17:43:17.788155Z",
     "iopub.status.idle": "2024-12-02T01:05:03.071811Z",
     "shell.execute_reply": "2024-12-02T01:05:03.070542Z"
    },
    "id": "sgnvhwPZRlUN",
    "outputId": "fd219368-285b-4967-e8ae-913428475584",
    "papermill": {
     "duration": 26505.310132,
     "end_time": "2024-12-02T01:05:03.079993",
     "exception": false,
     "start_time": "2024-12-01T17:43:17.769861",
     "status": "completed"
    },
    "tags": []
   },
   "outputs": [
    {
     "name": "stdout",
     "output_type": "stream",
     "text": [
      "Creating new Ultralytics Settings v0.0.6 file ✅ \n",
      "View Ultralytics Settings with 'yolo settings' or at '/root/.config/Ultralytics/settings.json'\n",
      "Update Settings with 'yolo settings key=value', i.e. 'yolo settings runs_dir=path/to/dir'. For help see https://docs.ultralytics.com/quickstart/#ultralytics-settings.\n",
      "Downloading https://github.com/ultralytics/assets/releases/download/v8.3.0/yolo11m-seg.pt to 'yolo11m-seg.pt'...\n"
     ]
    },
    {
     "name": "stderr",
     "output_type": "stream",
     "text": [
      "100%|██████████| 43.3M/43.3M [00:00<00:00, 213MB/s]\n"
     ]
    },
    {
     "name": "stdout",
     "output_type": "stream",
     "text": [
      "Ultralytics 8.3.39 🚀 Python-3.10.14 torch-2.4.0 CUDA:0 (Tesla T4, 15095MiB)\n",
      "\u001b[34m\u001b[1mengine/trainer: \u001b[0mtask=segment, mode=train, model=yolo11m-seg.pt, data=/kaggle/working/dataset/dataset.yaml, epochs=100, time=None, patience=100, batch=16, imgsz=640, save=True, save_period=-1, cache=False, device=cuda, workers=8, project=None, name=train, exist_ok=False, pretrained=True, optimizer=auto, verbose=True, seed=0, deterministic=True, single_cls=False, rect=False, cos_lr=False, close_mosaic=10, resume=False, amp=True, fraction=1.0, profile=False, freeze=None, multi_scale=False, overlap_mask=True, mask_ratio=4, dropout=0.0, val=True, split=val, save_json=False, save_hybrid=False, conf=None, iou=0.7, max_det=300, half=False, dnn=False, plots=True, source=None, vid_stride=1, stream_buffer=False, visualize=False, augment=False, agnostic_nms=False, classes=None, retina_masks=False, embed=None, show=False, save_frames=False, save_txt=False, save_conf=False, save_crop=False, show_labels=True, show_conf=True, show_boxes=True, line_width=None, format=torchscript, keras=False, optimize=False, int8=False, dynamic=False, simplify=True, opset=None, workspace=None, nms=False, lr0=0.01, lrf=0.01, momentum=0.937, weight_decay=0.0005, warmup_epochs=3.0, warmup_momentum=0.8, warmup_bias_lr=0.1, box=7.5, cls=0.5, dfl=1.5, pose=12.0, kobj=1.0, nbs=64, hsv_h=0.015, hsv_s=0.7, hsv_v=0.4, degrees=0.0, translate=0.2, scale=0.7, shear=0.0, perspective=0.0, flipud=0.0, fliplr=0.5, bgr=0.0, mosaic=1.0, mixup=0.0, copy_paste=0.0, copy_paste_mode=flip, auto_augment=randaugment, erasing=0.2, crop_fraction=1.0, cfg=None, tracker=botsort.yaml, save_dir=runs/segment/train\n",
      "Downloading https://ultralytics.com/assets/Arial.ttf to '/root/.config/Ultralytics/Arial.ttf'...\n"
     ]
    },
    {
     "name": "stderr",
     "output_type": "stream",
     "text": [
      "100%|██████████| 755k/755k [00:00<00:00, 16.7MB/s]\n"
     ]
    },
    {
     "name": "stdout",
     "output_type": "stream",
     "text": [
      "Overriding model.yaml nc=80 with nc=1\n",
      "\n",
      "                   from  n    params  module                                       arguments                     \n",
      "  0                  -1  1      1856  ultralytics.nn.modules.conv.Conv             [3, 64, 3, 2]                 \n",
      "  1                  -1  1     73984  ultralytics.nn.modules.conv.Conv             [64, 128, 3, 2]               \n",
      "  2                  -1  1    111872  ultralytics.nn.modules.block.C3k2            [128, 256, 1, True, 0.25]     \n",
      "  3                  -1  1    590336  ultralytics.nn.modules.conv.Conv             [256, 256, 3, 2]              \n",
      "  4                  -1  1    444928  ultralytics.nn.modules.block.C3k2            [256, 512, 1, True, 0.25]     \n",
      "  5                  -1  1   2360320  ultralytics.nn.modules.conv.Conv             [512, 512, 3, 2]              \n",
      "  6                  -1  1   1380352  ultralytics.nn.modules.block.C3k2            [512, 512, 1, True]           \n",
      "  7                  -1  1   2360320  ultralytics.nn.modules.conv.Conv             [512, 512, 3, 2]              \n",
      "  8                  -1  1   1380352  ultralytics.nn.modules.block.C3k2            [512, 512, 1, True]           \n",
      "  9                  -1  1    656896  ultralytics.nn.modules.block.SPPF            [512, 512, 5]                 \n",
      " 10                  -1  1    990976  ultralytics.nn.modules.block.C2PSA           [512, 512, 1]                 \n",
      " 11                  -1  1         0  torch.nn.modules.upsampling.Upsample         [None, 2, 'nearest']          \n",
      " 12             [-1, 6]  1         0  ultralytics.nn.modules.conv.Concat           [1]                           \n",
      " 13                  -1  1   1642496  ultralytics.nn.modules.block.C3k2            [1024, 512, 1, True]          \n",
      " 14                  -1  1         0  torch.nn.modules.upsampling.Upsample         [None, 2, 'nearest']          \n",
      " 15             [-1, 4]  1         0  ultralytics.nn.modules.conv.Concat           [1]                           \n",
      " 16                  -1  1    542720  ultralytics.nn.modules.block.C3k2            [1024, 256, 1, True]          \n",
      " 17                  -1  1    590336  ultralytics.nn.modules.conv.Conv             [256, 256, 3, 2]              \n",
      " 18            [-1, 13]  1         0  ultralytics.nn.modules.conv.Concat           [1]                           \n",
      " 19                  -1  1   1511424  ultralytics.nn.modules.block.C3k2            [768, 512, 1, True]           \n",
      " 20                  -1  1   2360320  ultralytics.nn.modules.conv.Conv             [512, 512, 3, 2]              \n",
      " 21            [-1, 10]  1         0  ultralytics.nn.modules.conv.Concat           [1]                           \n",
      " 22                  -1  1   1642496  ultralytics.nn.modules.block.C3k2            [1024, 512, 1, True]          \n",
      " 23        [16, 19, 22]  1   3718003  ultralytics.nn.modules.head.Segment          [1, 32, 256, [256, 512, 512]] \n",
      "YOLO11m-seg summary: 445 layers, 22,359,987 parameters, 22,359,971 gradients, 123.6 GFLOPs\n",
      "\n",
      "Transferred 705/711 items from pretrained weights\n",
      "\u001b[34m\u001b[1mTensorBoard: \u001b[0mStart with 'tensorboard --logdir runs/segment/train', view at http://localhost:6006/\n",
      "Freezing layer 'model.23.dfl.conv.weight'\n",
      "\u001b[34m\u001b[1mAMP: \u001b[0mrunning Automatic Mixed Precision (AMP) checks...\n",
      "Downloading https://github.com/ultralytics/assets/releases/download/v8.3.0/yolo11n.pt to 'yolo11n.pt'...\n"
     ]
    },
    {
     "name": "stderr",
     "output_type": "stream",
     "text": [
      "100%|██████████| 5.35M/5.35M [00:00<00:00, 70.8MB/s]\n"
     ]
    },
    {
     "name": "stdout",
     "output_type": "stream",
     "text": [
      "\u001b[34m\u001b[1mAMP: \u001b[0mchecks passed ✅\n"
     ]
    },
    {
     "name": "stderr",
     "output_type": "stream",
     "text": [
      "\u001b[34m\u001b[1mtrain: \u001b[0mScanning /kaggle/working/dataset/train/labels... 4000 images, 0 backgrounds, 0 corrupt: 100%|██████████| 4000/4000 [00:04<00:00, 866.85it/s]\n"
     ]
    },
    {
     "name": "stdout",
     "output_type": "stream",
     "text": [
      "\u001b[34m\u001b[1mtrain: \u001b[0mNew cache created: /kaggle/working/dataset/train/labels.cache\n",
      "\u001b[34m\u001b[1malbumentations: \u001b[0mBlur(p=0.01, blur_limit=(3, 7)), MedianBlur(p=0.01, blur_limit=(3, 7)), ToGray(p=0.01, num_output_channels=3, method='weighted_average'), CLAHE(p=0.01, clip_limit=(1, 4.0), tile_grid_size=(8, 8))\n"
     ]
    },
    {
     "name": "stderr",
     "output_type": "stream",
     "text": [
      "/opt/conda/lib/python3.10/site-packages/albumentations/__init__.py:13: UserWarning: A new version of Albumentations is available: 1.4.21 (you have 1.4.17). Upgrade using: pip install -U albumentations. To disable automatic update checks, set the environment variable NO_ALBUMENTATIONS_UPDATE to 1.\n",
      "  check_for_updates()\n",
      "/opt/conda/lib/python3.10/multiprocessing/popen_fork.py:66: RuntimeWarning: os.fork() was called. os.fork() is incompatible with multithreaded code, and JAX is multithreaded, so this will likely lead to a deadlock.\n",
      "  self.pid = os.fork()\n",
      "\u001b[34m\u001b[1mval: \u001b[0mScanning /kaggle/working/dataset/val/labels... 1000 images, 0 backgrounds, 0 corrupt: 100%|██████████| 1000/1000 [00:01<00:00, 568.35it/s]\n"
     ]
    },
    {
     "name": "stdout",
     "output_type": "stream",
     "text": [
      "\u001b[34m\u001b[1mval: \u001b[0mNew cache created: /kaggle/working/dataset/val/labels.cache\n",
      "Plotting labels to runs/segment/train/labels.jpg... \n",
      "\u001b[34m\u001b[1moptimizer:\u001b[0m 'optimizer=auto' found, ignoring 'lr0=0.01' and 'momentum=0.937' and determining best 'optimizer', 'lr0' and 'momentum' automatically... \n",
      "\u001b[34m\u001b[1moptimizer:\u001b[0m AdamW(lr=0.002, momentum=0.9) with parameter groups 115 weight(decay=0.0), 126 weight(decay=0.0005), 125 bias(decay=0.0)\n",
      "\u001b[34m\u001b[1mTensorBoard: \u001b[0mmodel graph visualization added ✅\n",
      "Image sizes 640 train, 640 val\n",
      "Using 4 dataloader workers\n",
      "Logging results to \u001b[1mruns/segment/train\u001b[0m\n",
      "Starting training for 100 epochs...\n",
      "\n",
      "      Epoch    GPU_mem   box_loss   seg_loss   cls_loss   dfl_loss  Instances       Size\n"
     ]
    },
    {
     "name": "stderr",
     "output_type": "stream",
     "text": [
      "      1/100      11.7G      1.796      2.281      1.172      1.502        474        640: 100%|██████████| 250/250 [04:20<00:00,  1.04s/it]\n",
      "                 Class     Images  Instances      Box(P          R      mAP50  mAP50-95)     Mask(P          R      mAP50  mAP50-95): 100%|██████████| 32/32 [00:17<00:00,  1.87it/s]\n"
     ]
    },
    {
     "name": "stdout",
     "output_type": "stream",
     "text": [
      "                   all       1000      13487      0.758      0.697      0.782      0.461      0.721      0.661      0.714      0.325\n",
      "\n",
      "      Epoch    GPU_mem   box_loss   seg_loss   cls_loss   dfl_loss  Instances       Size\n"
     ]
    },
    {
     "name": "stderr",
     "output_type": "stream",
     "text": [
      "      2/100      11.3G      1.231        1.6      0.856      1.141        523        640: 100%|██████████| 250/250 [04:13<00:00,  1.01s/it]\n",
      "                 Class     Images  Instances      Box(P          R      mAP50  mAP50-95)     Mask(P          R      mAP50  mAP50-95): 100%|██████████| 32/32 [00:16<00:00,  1.97it/s]\n"
     ]
    },
    {
     "name": "stdout",
     "output_type": "stream",
     "text": [
      "                   all       1000      13487       0.58      0.699      0.592      0.302       0.53       0.64      0.507      0.211\n",
      "\n",
      "      Epoch    GPU_mem   box_loss   seg_loss   cls_loss   dfl_loss  Instances       Size\n"
     ]
    },
    {
     "name": "stderr",
     "output_type": "stream",
     "text": [
      "      3/100      12.1G      1.112      1.489     0.7747      1.045        747        640: 100%|██████████| 250/250 [04:10<00:00,  1.00s/it]\n",
      "                 Class     Images  Instances      Box(P          R      mAP50  mAP50-95)     Mask(P          R      mAP50  mAP50-95): 100%|██████████| 32/32 [00:15<00:00,  2.00it/s]\n"
     ]
    },
    {
     "name": "stdout",
     "output_type": "stream",
     "text": [
      "                   all       1000      13487      0.843      0.869      0.898      0.577      0.802       0.83      0.819       0.33\n",
      "\n",
      "      Epoch    GPU_mem   box_loss   seg_loss   cls_loss   dfl_loss  Instances       Size\n"
     ]
    },
    {
     "name": "stderr",
     "output_type": "stream",
     "text": [
      "      4/100      11.4G      1.027      1.409     0.7221      1.006        578        640: 100%|██████████| 250/250 [04:07<00:00,  1.01it/s]\n",
      "                 Class     Images  Instances      Box(P          R      mAP50  mAP50-95)     Mask(P          R      mAP50  mAP50-95): 100%|██████████| 32/32 [00:16<00:00,  1.99it/s]\n"
     ]
    },
    {
     "name": "stdout",
     "output_type": "stream",
     "text": [
      "                   all       1000      13487      0.843      0.832      0.885      0.556      0.827      0.816      0.856      0.395\n",
      "\n",
      "      Epoch    GPU_mem   box_loss   seg_loss   cls_loss   dfl_loss  Instances       Size\n"
     ]
    },
    {
     "name": "stderr",
     "output_type": "stream",
     "text": [
      "      5/100      11.4G     0.9559      1.338     0.6649     0.9743        352        640: 100%|██████████| 250/250 [04:09<00:00,  1.00it/s]\n",
      "                 Class     Images  Instances      Box(P          R      mAP50  mAP50-95)     Mask(P          R      mAP50  mAP50-95): 100%|██████████| 32/32 [00:16<00:00,  1.97it/s]\n"
     ]
    },
    {
     "name": "stdout",
     "output_type": "stream",
     "text": [
      "                   all       1000      13487      0.775      0.876      0.873      0.629      0.756      0.855      0.846       0.46\n",
      "\n",
      "      Epoch    GPU_mem   box_loss   seg_loss   cls_loss   dfl_loss  Instances       Size\n"
     ]
    },
    {
     "name": "stderr",
     "output_type": "stream",
     "text": [
      "      6/100      11.4G       0.91      1.294      0.633     0.9632        469        640: 100%|██████████| 250/250 [04:07<00:00,  1.01it/s]\n",
      "                 Class     Images  Instances      Box(P          R      mAP50  mAP50-95)     Mask(P          R      mAP50  mAP50-95): 100%|██████████| 32/32 [00:16<00:00,  1.99it/s]\n"
     ]
    },
    {
     "name": "stdout",
     "output_type": "stream",
     "text": [
      "                   all       1000      13487      0.868      0.875      0.916      0.676      0.842      0.846      0.879      0.461\n",
      "\n",
      "      Epoch    GPU_mem   box_loss   seg_loss   cls_loss   dfl_loss  Instances       Size\n"
     ]
    },
    {
     "name": "stderr",
     "output_type": "stream",
     "text": [
      "      7/100      11.6G     0.9059      1.326     0.6323     0.9606        799        640: 100%|██████████| 250/250 [04:08<00:00,  1.01it/s]\n",
      "                 Class     Images  Instances      Box(P          R      mAP50  mAP50-95)     Mask(P          R      mAP50  mAP50-95): 100%|██████████| 32/32 [00:16<00:00,  2.00it/s]"
     ]
    },
    {
     "name": "stdout",
     "output_type": "stream",
     "text": [
      "                   all       1000      13487       0.88      0.858      0.913      0.662      0.864      0.835      0.882      0.451\n"
     ]
    },
    {
     "name": "stderr",
     "output_type": "stream",
     "text": [
      "\n"
     ]
    },
    {
     "name": "stdout",
     "output_type": "stream",
     "text": [
      "\n",
      "      Epoch    GPU_mem   box_loss   seg_loss   cls_loss   dfl_loss  Instances       Size\n"
     ]
    },
    {
     "name": "stderr",
     "output_type": "stream",
     "text": [
      "      8/100      11.5G     0.8879      1.298     0.6066      0.952        587        640: 100%|██████████| 250/250 [04:07<00:00,  1.01it/s]\n",
      "                 Class     Images  Instances      Box(P          R      mAP50  mAP50-95)     Mask(P          R      mAP50  mAP50-95): 100%|██████████| 32/32 [00:15<00:00,  2.00it/s]\n"
     ]
    },
    {
     "name": "stdout",
     "output_type": "stream",
     "text": [
      "                   all       1000      13487      0.887      0.862       0.93      0.631       0.87      0.846      0.901      0.469\n",
      "\n",
      "      Epoch    GPU_mem   box_loss   seg_loss   cls_loss   dfl_loss  Instances       Size\n"
     ]
    },
    {
     "name": "stderr",
     "output_type": "stream",
     "text": [
      "      9/100      11.3G     0.8242      1.237     0.5582     0.9295        529        640: 100%|██████████| 250/250 [04:09<00:00,  1.00it/s]\n",
      "                 Class     Images  Instances      Box(P          R      mAP50  mAP50-95)     Mask(P          R      mAP50  mAP50-95): 100%|██████████| 32/32 [00:16<00:00,  2.00it/s]\n"
     ]
    },
    {
     "name": "stdout",
     "output_type": "stream",
     "text": [
      "                   all       1000      13487      0.912      0.901      0.941      0.685      0.882      0.873      0.895      0.443\n",
      "\n",
      "      Epoch    GPU_mem   box_loss   seg_loss   cls_loss   dfl_loss  Instances       Size\n"
     ]
    },
    {
     "name": "stderr",
     "output_type": "stream",
     "text": [
      "     10/100      11.4G     0.8223      1.249     0.5531      0.918        486        640: 100%|██████████| 250/250 [04:10<00:00,  1.00s/it]\n",
      "                 Class     Images  Instances      Box(P          R      mAP50  mAP50-95)     Mask(P          R      mAP50  mAP50-95): 100%|██████████| 32/32 [00:15<00:00,  2.02it/s]"
     ]
    },
    {
     "name": "stdout",
     "output_type": "stream",
     "text": [
      "                   all       1000      13487      0.905      0.899      0.948      0.709       0.89      0.884      0.926       0.52\n"
     ]
    },
    {
     "name": "stderr",
     "output_type": "stream",
     "text": [
      "\n"
     ]
    },
    {
     "name": "stdout",
     "output_type": "stream",
     "text": [
      "\n",
      "      Epoch    GPU_mem   box_loss   seg_loss   cls_loss   dfl_loss  Instances       Size\n"
     ]
    },
    {
     "name": "stderr",
     "output_type": "stream",
     "text": [
      "     11/100      11.3G     0.8065      1.207     0.5361     0.9184        424        640: 100%|██████████| 250/250 [04:08<00:00,  1.01it/s]\n",
      "                 Class     Images  Instances      Box(P          R      mAP50  mAP50-95)     Mask(P          R      mAP50  mAP50-95): 100%|██████████| 32/32 [00:15<00:00,  2.02it/s]"
     ]
    },
    {
     "name": "stdout",
     "output_type": "stream",
     "text": [
      "                   all       1000      13487      0.894      0.863      0.917      0.669      0.889      0.855      0.905      0.498\n"
     ]
    },
    {
     "name": "stderr",
     "output_type": "stream",
     "text": [
      "\n"
     ]
    },
    {
     "name": "stdout",
     "output_type": "stream",
     "text": [
      "\n",
      "      Epoch    GPU_mem   box_loss   seg_loss   cls_loss   dfl_loss  Instances       Size\n"
     ]
    },
    {
     "name": "stderr",
     "output_type": "stream",
     "text": [
      "     12/100      11.5G     0.7501      1.181      0.505     0.8991        481        640: 100%|██████████| 250/250 [04:08<00:00,  1.01it/s]\n",
      "                 Class     Images  Instances      Box(P          R      mAP50  mAP50-95)     Mask(P          R      mAP50  mAP50-95): 100%|██████████| 32/32 [00:16<00:00,  2.00it/s]"
     ]
    },
    {
     "name": "stdout",
     "output_type": "stream",
     "text": [
      "                   all       1000      13487      0.931      0.896      0.949      0.695      0.915      0.875      0.926       0.53\n"
     ]
    },
    {
     "name": "stderr",
     "output_type": "stream",
     "text": [
      "\n"
     ]
    },
    {
     "name": "stdout",
     "output_type": "stream",
     "text": [
      "\n",
      "      Epoch    GPU_mem   box_loss   seg_loss   cls_loss   dfl_loss  Instances       Size\n"
     ]
    },
    {
     "name": "stderr",
     "output_type": "stream",
     "text": [
      "     13/100      11.5G     0.7758      1.186      0.518     0.9086        548        640: 100%|██████████| 250/250 [04:08<00:00,  1.00it/s]\n",
      "                 Class     Images  Instances      Box(P          R      mAP50  mAP50-95)     Mask(P          R      mAP50  mAP50-95): 100%|██████████| 32/32 [00:15<00:00,  2.02it/s]\n"
     ]
    },
    {
     "name": "stdout",
     "output_type": "stream",
     "text": [
      "                   all       1000      13487      0.917      0.895      0.937      0.655      0.887      0.863       0.89      0.412\n",
      "\n",
      "      Epoch    GPU_mem   box_loss   seg_loss   cls_loss   dfl_loss  Instances       Size\n"
     ]
    },
    {
     "name": "stderr",
     "output_type": "stream",
     "text": [
      "     14/100        12G     0.7496      1.171     0.5099     0.9011        384        640: 100%|██████████| 250/250 [04:09<00:00,  1.00it/s]\n",
      "                 Class     Images  Instances      Box(P          R      mAP50  mAP50-95)     Mask(P          R      mAP50  mAP50-95): 100%|██████████| 32/32 [00:15<00:00,  2.01it/s]\n"
     ]
    },
    {
     "name": "stdout",
     "output_type": "stream",
     "text": [
      "                   all       1000      13487      0.916       0.89      0.951      0.726      0.899      0.871      0.923      0.478\n",
      "\n",
      "      Epoch    GPU_mem   box_loss   seg_loss   cls_loss   dfl_loss  Instances       Size\n"
     ]
    },
    {
     "name": "stderr",
     "output_type": "stream",
     "text": [
      "     15/100      11.5G     0.7059      1.132     0.4752     0.8838        554        640: 100%|██████████| 250/250 [04:08<00:00,  1.01it/s]\n",
      "                 Class     Images  Instances      Box(P          R      mAP50  mAP50-95)     Mask(P          R      mAP50  mAP50-95): 100%|██████████| 32/32 [00:16<00:00,  2.00it/s]\n"
     ]
    },
    {
     "name": "stdout",
     "output_type": "stream",
     "text": [
      "                   all       1000      13487      0.939      0.925      0.959      0.768      0.921      0.905      0.935      0.524\n",
      "\n",
      "      Epoch    GPU_mem   box_loss   seg_loss   cls_loss   dfl_loss  Instances       Size\n"
     ]
    },
    {
     "name": "stderr",
     "output_type": "stream",
     "text": [
      "     16/100      11.4G     0.7054      1.132     0.4747     0.8817        523        640: 100%|██████████| 250/250 [04:08<00:00,  1.01it/s]\n",
      "                 Class     Images  Instances      Box(P          R      mAP50  mAP50-95)     Mask(P          R      mAP50  mAP50-95): 100%|██████████| 32/32 [00:16<00:00,  1.96it/s]\n"
     ]
    },
    {
     "name": "stdout",
     "output_type": "stream",
     "text": [
      "                   all       1000      13487      0.841      0.307      0.359      0.253      0.802      0.291      0.321       0.13\n",
      "\n",
      "      Epoch    GPU_mem   box_loss   seg_loss   cls_loss   dfl_loss  Instances       Size\n"
     ]
    },
    {
     "name": "stderr",
     "output_type": "stream",
     "text": [
      "     17/100      11.4G     0.6972      1.117     0.4601     0.8778        483        640: 100%|██████████| 250/250 [04:04<00:00,  1.02it/s]\n",
      "                 Class     Images  Instances      Box(P          R      mAP50  mAP50-95)     Mask(P          R      mAP50  mAP50-95): 100%|██████████| 32/32 [00:15<00:00,  2.02it/s]"
     ]
    },
    {
     "name": "stdout",
     "output_type": "stream",
     "text": [
      "                   all       1000      13487      0.945      0.929      0.962      0.784      0.923      0.907      0.934      0.535\n"
     ]
    },
    {
     "name": "stderr",
     "output_type": "stream",
     "text": [
      "\n"
     ]
    },
    {
     "name": "stdout",
     "output_type": "stream",
     "text": [
      "\n",
      "      Epoch    GPU_mem   box_loss   seg_loss   cls_loss   dfl_loss  Instances       Size\n"
     ]
    },
    {
     "name": "stderr",
     "output_type": "stream",
     "text": [
      "     18/100      11.6G     0.6923      1.114     0.4654     0.8852        495        640: 100%|██████████| 250/250 [04:06<00:00,  1.02it/s]\n",
      "                 Class     Images  Instances      Box(P          R      mAP50  mAP50-95)     Mask(P          R      mAP50  mAP50-95): 100%|██████████| 32/32 [00:15<00:00,  2.03it/s]"
     ]
    },
    {
     "name": "stdout",
     "output_type": "stream",
     "text": [
      "                   all       1000      13487      0.914       0.91      0.946      0.769      0.895       0.89      0.922      0.518\n"
     ]
    },
    {
     "name": "stderr",
     "output_type": "stream",
     "text": [
      "\n"
     ]
    },
    {
     "name": "stdout",
     "output_type": "stream",
     "text": [
      "\n",
      "      Epoch    GPU_mem   box_loss   seg_loss   cls_loss   dfl_loss  Instances       Size\n"
     ]
    },
    {
     "name": "stderr",
     "output_type": "stream",
     "text": [
      "     19/100      11.4G     0.6844      1.118     0.4549     0.8744        558        640: 100%|██████████| 250/250 [04:05<00:00,  1.02it/s]\n",
      "                 Class     Images  Instances      Box(P          R      mAP50  mAP50-95)     Mask(P          R      mAP50  mAP50-95): 100%|██████████| 32/32 [00:15<00:00,  2.05it/s]\n"
     ]
    },
    {
     "name": "stdout",
     "output_type": "stream",
     "text": [
      "                   all       1000      13487      0.936      0.893      0.952      0.762      0.923      0.878      0.934      0.519\n",
      "\n",
      "      Epoch    GPU_mem   box_loss   seg_loss   cls_loss   dfl_loss  Instances       Size\n"
     ]
    },
    {
     "name": "stderr",
     "output_type": "stream",
     "text": [
      "     20/100      11.7G     0.6984      1.086     0.4573     0.8802        519        640: 100%|██████████| 250/250 [04:04<00:00,  1.02it/s]\n",
      "                 Class     Images  Instances      Box(P          R      mAP50  mAP50-95)     Mask(P          R      mAP50  mAP50-95): 100%|██████████| 32/32 [00:15<00:00,  2.04it/s]\n"
     ]
    },
    {
     "name": "stdout",
     "output_type": "stream",
     "text": [
      "                   all       1000      13487      0.949      0.905      0.963      0.778      0.928      0.886       0.94      0.515\n",
      "\n",
      "      Epoch    GPU_mem   box_loss   seg_loss   cls_loss   dfl_loss  Instances       Size\n"
     ]
    },
    {
     "name": "stderr",
     "output_type": "stream",
     "text": [
      "     21/100      11.5G     0.6759      1.086     0.4461     0.8719        467        640: 100%|██████████| 250/250 [04:05<00:00,  1.02it/s]\n",
      "                 Class     Images  Instances      Box(P          R      mAP50  mAP50-95)     Mask(P          R      mAP50  mAP50-95): 100%|██████████| 32/32 [00:15<00:00,  2.03it/s]\n"
     ]
    },
    {
     "name": "stdout",
     "output_type": "stream",
     "text": [
      "                   all       1000      13487      0.471      0.505      0.494      0.301      0.507      0.461       0.49      0.218\n",
      "\n",
      "      Epoch    GPU_mem   box_loss   seg_loss   cls_loss   dfl_loss  Instances       Size\n"
     ]
    },
    {
     "name": "stderr",
     "output_type": "stream",
     "text": [
      "     22/100      11.6G     0.6783      1.085     0.4494     0.8737        508        640: 100%|██████████| 250/250 [04:04<00:00,  1.02it/s]\n",
      "                 Class     Images  Instances      Box(P          R      mAP50  mAP50-95)     Mask(P          R      mAP50  mAP50-95): 100%|██████████| 32/32 [00:15<00:00,  2.03it/s]"
     ]
    },
    {
     "name": "stdout",
     "output_type": "stream",
     "text": [
      "                   all       1000      13487      0.936      0.886      0.955      0.743      0.919      0.868      0.929      0.495\n"
     ]
    },
    {
     "name": "stderr",
     "output_type": "stream",
     "text": [
      "\n"
     ]
    },
    {
     "name": "stdout",
     "output_type": "stream",
     "text": [
      "\n",
      "      Epoch    GPU_mem   box_loss   seg_loss   cls_loss   dfl_loss  Instances       Size\n"
     ]
    },
    {
     "name": "stderr",
     "output_type": "stream",
     "text": [
      "     23/100      11.3G     0.6673      1.066     0.4465     0.8762        576        640: 100%|██████████| 250/250 [04:04<00:00,  1.02it/s]\n",
      "                 Class     Images  Instances      Box(P          R      mAP50  mAP50-95)     Mask(P          R      mAP50  mAP50-95): 100%|██████████| 32/32 [00:15<00:00,  2.04it/s]"
     ]
    },
    {
     "name": "stdout",
     "output_type": "stream",
     "text": [
      "                   all       1000      13487      0.955      0.913      0.964      0.779      0.939      0.894      0.939      0.541\n"
     ]
    },
    {
     "name": "stderr",
     "output_type": "stream",
     "text": [
      "\n"
     ]
    },
    {
     "name": "stdout",
     "output_type": "stream",
     "text": [
      "\n",
      "      Epoch    GPU_mem   box_loss   seg_loss   cls_loss   dfl_loss  Instances       Size\n"
     ]
    },
    {
     "name": "stderr",
     "output_type": "stream",
     "text": [
      "     24/100      11.4G     0.6558      1.068     0.4359     0.8717        591        640: 100%|██████████| 250/250 [04:03<00:00,  1.03it/s]\n",
      "                 Class     Images  Instances      Box(P          R      mAP50  mAP50-95)     Mask(P          R      mAP50  mAP50-95): 100%|██████████| 32/32 [00:15<00:00,  2.04it/s]"
     ]
    },
    {
     "name": "stdout",
     "output_type": "stream",
     "text": [
      "                   all       1000      13487      0.951      0.917      0.967      0.791      0.937        0.9      0.948      0.549\n"
     ]
    },
    {
     "name": "stderr",
     "output_type": "stream",
     "text": [
      "\n"
     ]
    },
    {
     "name": "stdout",
     "output_type": "stream",
     "text": [
      "\n",
      "      Epoch    GPU_mem   box_loss   seg_loss   cls_loss   dfl_loss  Instances       Size\n"
     ]
    },
    {
     "name": "stderr",
     "output_type": "stream",
     "text": [
      "     25/100      11.5G     0.6677      1.069     0.4395     0.8822        723        640: 100%|██████████| 250/250 [04:02<00:00,  1.03it/s]\n",
      "                 Class     Images  Instances      Box(P          R      mAP50  mAP50-95)     Mask(P          R      mAP50  mAP50-95): 100%|██████████| 32/32 [00:15<00:00,  2.01it/s]"
     ]
    },
    {
     "name": "stdout",
     "output_type": "stream",
     "text": [
      "                   all       1000      13487      0.936      0.927      0.959       0.78       0.92      0.908      0.938      0.534\n"
     ]
    },
    {
     "name": "stderr",
     "output_type": "stream",
     "text": [
      "\n"
     ]
    },
    {
     "name": "stdout",
     "output_type": "stream",
     "text": [
      "\n",
      "      Epoch    GPU_mem   box_loss   seg_loss   cls_loss   dfl_loss  Instances       Size\n"
     ]
    },
    {
     "name": "stderr",
     "output_type": "stream",
     "text": [
      "     26/100      11.5G     0.6565      1.077     0.4341     0.8717        585        640: 100%|██████████| 250/250 [04:04<00:00,  1.02it/s]\n",
      "                 Class     Images  Instances      Box(P          R      mAP50  mAP50-95)     Mask(P          R      mAP50  mAP50-95): 100%|██████████| 32/32 [00:15<00:00,  2.00it/s]"
     ]
    },
    {
     "name": "stdout",
     "output_type": "stream",
     "text": [
      "                   all       1000      13487      0.954      0.931      0.965      0.807      0.932      0.909      0.937      0.537\n"
     ]
    },
    {
     "name": "stderr",
     "output_type": "stream",
     "text": [
      "\n"
     ]
    },
    {
     "name": "stdout",
     "output_type": "stream",
     "text": [
      "\n",
      "      Epoch    GPU_mem   box_loss   seg_loss   cls_loss   dfl_loss  Instances       Size\n"
     ]
    },
    {
     "name": "stderr",
     "output_type": "stream",
     "text": [
      "     27/100      11.7G     0.6439       1.05     0.4219     0.8704        459        640: 100%|██████████| 250/250 [04:04<00:00,  1.02it/s]\n",
      "                 Class     Images  Instances      Box(P          R      mAP50  mAP50-95)     Mask(P          R      mAP50  mAP50-95): 100%|██████████| 32/32 [00:15<00:00,  2.02it/s]"
     ]
    },
    {
     "name": "stdout",
     "output_type": "stream",
     "text": [
      "                   all       1000      13487      0.924      0.918      0.958      0.797      0.901      0.895      0.926      0.518\n"
     ]
    },
    {
     "name": "stderr",
     "output_type": "stream",
     "text": [
      "\n"
     ]
    },
    {
     "name": "stdout",
     "output_type": "stream",
     "text": [
      "\n",
      "      Epoch    GPU_mem   box_loss   seg_loss   cls_loss   dfl_loss  Instances       Size\n"
     ]
    },
    {
     "name": "stderr",
     "output_type": "stream",
     "text": [
      "     28/100      11.5G      0.626      1.046     0.4163     0.8668        505        640: 100%|██████████| 250/250 [04:14<00:00,  1.02s/it]\n",
      "                 Class     Images  Instances      Box(P          R      mAP50  mAP50-95)     Mask(P          R      mAP50  mAP50-95): 100%|██████████| 32/32 [00:16<00:00,  1.92it/s]"
     ]
    },
    {
     "name": "stdout",
     "output_type": "stream",
     "text": [
      "                   all       1000      13487      0.952       0.92      0.969      0.799      0.936      0.895      0.944      0.531\n"
     ]
    },
    {
     "name": "stderr",
     "output_type": "stream",
     "text": [
      "\n"
     ]
    },
    {
     "name": "stdout",
     "output_type": "stream",
     "text": [
      "\n",
      "      Epoch    GPU_mem   box_loss   seg_loss   cls_loss   dfl_loss  Instances       Size\n"
     ]
    },
    {
     "name": "stderr",
     "output_type": "stream",
     "text": [
      "     29/100      11.6G     0.6471      1.075     0.4268     0.8645        578        640: 100%|██████████| 250/250 [04:12<00:00,  1.01s/it]\n",
      "                 Class     Images  Instances      Box(P          R      mAP50  mAP50-95)     Mask(P          R      mAP50  mAP50-95): 100%|██████████| 32/32 [00:16<00:00,  1.96it/s]\n"
     ]
    },
    {
     "name": "stdout",
     "output_type": "stream",
     "text": [
      "                   all       1000      13487      0.957      0.914      0.964      0.788      0.938      0.893      0.935      0.511\n",
      "\n",
      "      Epoch    GPU_mem   box_loss   seg_loss   cls_loss   dfl_loss  Instances       Size\n"
     ]
    },
    {
     "name": "stderr",
     "output_type": "stream",
     "text": [
      "     30/100      11.4G       0.63      1.054     0.4209     0.8659        590        640: 100%|██████████| 250/250 [04:08<00:00,  1.01it/s]\n",
      "                 Class     Images  Instances      Box(P          R      mAP50  mAP50-95)     Mask(P          R      mAP50  mAP50-95): 100%|██████████| 32/32 [00:15<00:00,  2.00it/s]"
     ]
    },
    {
     "name": "stdout",
     "output_type": "stream",
     "text": [
      "                   all       1000      13487      0.957      0.928      0.969      0.806      0.938      0.907      0.943      0.537\n"
     ]
    },
    {
     "name": "stderr",
     "output_type": "stream",
     "text": [
      "\n"
     ]
    },
    {
     "name": "stdout",
     "output_type": "stream",
     "text": [
      "\n",
      "      Epoch    GPU_mem   box_loss   seg_loss   cls_loss   dfl_loss  Instances       Size\n"
     ]
    },
    {
     "name": "stderr",
     "output_type": "stream",
     "text": [
      "     31/100      11.3G     0.6249      1.029     0.4081     0.8666        562        640: 100%|██████████| 250/250 [04:08<00:00,  1.01it/s]\n",
      "                 Class     Images  Instances      Box(P          R      mAP50  mAP50-95)     Mask(P          R      mAP50  mAP50-95): 100%|██████████| 32/32 [00:15<00:00,  2.03it/s]"
     ]
    },
    {
     "name": "stdout",
     "output_type": "stream",
     "text": [
      "                   all       1000      13487      0.962      0.932      0.973      0.818      0.941       0.91      0.945      0.543\n"
     ]
    },
    {
     "name": "stderr",
     "output_type": "stream",
     "text": [
      "\n"
     ]
    },
    {
     "name": "stdout",
     "output_type": "stream",
     "text": [
      "\n",
      "      Epoch    GPU_mem   box_loss   seg_loss   cls_loss   dfl_loss  Instances       Size\n"
     ]
    },
    {
     "name": "stderr",
     "output_type": "stream",
     "text": [
      "     32/100      11.5G     0.6282       1.07     0.4103     0.8618        541        640: 100%|██████████| 250/250 [04:09<00:00,  1.00it/s]\n",
      "                 Class     Images  Instances      Box(P          R      mAP50  mAP50-95)     Mask(P          R      mAP50  mAP50-95): 100%|██████████| 32/32 [00:15<00:00,  2.03it/s]"
     ]
    },
    {
     "name": "stdout",
     "output_type": "stream",
     "text": [
      "                   all       1000      13487      0.964      0.922      0.971      0.815      0.949      0.906      0.952      0.554\n"
     ]
    },
    {
     "name": "stderr",
     "output_type": "stream",
     "text": [
      "\n"
     ]
    },
    {
     "name": "stdout",
     "output_type": "stream",
     "text": [
      "\n",
      "      Epoch    GPU_mem   box_loss   seg_loss   cls_loss   dfl_loss  Instances       Size\n"
     ]
    },
    {
     "name": "stderr",
     "output_type": "stream",
     "text": [
      "     33/100      11.4G     0.6069      1.028     0.3996     0.8532        486        640: 100%|██████████| 250/250 [04:09<00:00,  1.00it/s]\n",
      "                 Class     Images  Instances      Box(P          R      mAP50  mAP50-95)     Mask(P          R      mAP50  mAP50-95): 100%|██████████| 32/32 [00:15<00:00,  2.02it/s]"
     ]
    },
    {
     "name": "stdout",
     "output_type": "stream",
     "text": [
      "                   all       1000      13487      0.955      0.919      0.967      0.813      0.933      0.894      0.936      0.532\n"
     ]
    },
    {
     "name": "stderr",
     "output_type": "stream",
     "text": [
      "\n"
     ]
    },
    {
     "name": "stdout",
     "output_type": "stream",
     "text": [
      "\n",
      "      Epoch    GPU_mem   box_loss   seg_loss   cls_loss   dfl_loss  Instances       Size\n"
     ]
    },
    {
     "name": "stderr",
     "output_type": "stream",
     "text": [
      "     34/100      11.5G     0.6018      1.014     0.3889     0.8571        588        640: 100%|██████████| 250/250 [04:09<00:00,  1.00it/s]\n",
      "                 Class     Images  Instances      Box(P          R      mAP50  mAP50-95)     Mask(P          R      mAP50  mAP50-95): 100%|██████████| 32/32 [00:15<00:00,  2.02it/s]"
     ]
    },
    {
     "name": "stdout",
     "output_type": "stream",
     "text": [
      "                   all       1000      13487      0.962      0.933      0.974      0.828      0.946      0.914      0.952      0.559\n"
     ]
    },
    {
     "name": "stderr",
     "output_type": "stream",
     "text": [
      "\n"
     ]
    },
    {
     "name": "stdout",
     "output_type": "stream",
     "text": [
      "\n",
      "      Epoch    GPU_mem   box_loss   seg_loss   cls_loss   dfl_loss  Instances       Size\n"
     ]
    },
    {
     "name": "stderr",
     "output_type": "stream",
     "text": [
      "     35/100      11.4G     0.6025      1.033      0.399     0.8531        630        640: 100%|██████████| 250/250 [04:10<00:00,  1.00s/it]\n",
      "                 Class     Images  Instances      Box(P          R      mAP50  mAP50-95)     Mask(P          R      mAP50  mAP50-95): 100%|██████████| 32/32 [00:15<00:00,  2.02it/s]"
     ]
    },
    {
     "name": "stdout",
     "output_type": "stream",
     "text": [
      "                   all       1000      13487      0.963      0.925      0.969      0.799      0.946      0.906      0.946      0.536\n"
     ]
    },
    {
     "name": "stderr",
     "output_type": "stream",
     "text": [
      "\n"
     ]
    },
    {
     "name": "stdout",
     "output_type": "stream",
     "text": [
      "\n",
      "      Epoch    GPU_mem   box_loss   seg_loss   cls_loss   dfl_loss  Instances       Size\n"
     ]
    },
    {
     "name": "stderr",
     "output_type": "stream",
     "text": [
      "     36/100      11.5G     0.6396      1.067     0.4093     0.8603        526        640: 100%|██████████| 250/250 [04:09<00:00,  1.00it/s]\n",
      "                 Class     Images  Instances      Box(P          R      mAP50  mAP50-95)     Mask(P          R      mAP50  mAP50-95): 100%|██████████| 32/32 [00:16<00:00,  2.00it/s]"
     ]
    },
    {
     "name": "stdout",
     "output_type": "stream",
     "text": [
      "                   all       1000      13487       0.94      0.929      0.968      0.794      0.922      0.907      0.942      0.518\n"
     ]
    },
    {
     "name": "stderr",
     "output_type": "stream",
     "text": [
      "\n"
     ]
    },
    {
     "name": "stdout",
     "output_type": "stream",
     "text": [
      "\n",
      "      Epoch    GPU_mem   box_loss   seg_loss   cls_loss   dfl_loss  Instances       Size\n"
     ]
    },
    {
     "name": "stderr",
     "output_type": "stream",
     "text": [
      "     37/100      11.4G     0.5961      1.027     0.3854     0.8503        408        640: 100%|██████████| 250/250 [04:11<00:00,  1.00s/it]\n",
      "                 Class     Images  Instances      Box(P          R      mAP50  mAP50-95)     Mask(P          R      mAP50  mAP50-95): 100%|██████████| 32/32 [00:16<00:00,  1.99it/s]"
     ]
    },
    {
     "name": "stdout",
     "output_type": "stream",
     "text": [
      "                   all       1000      13487      0.969      0.929      0.974      0.824       0.95       0.91      0.951      0.534\n"
     ]
    },
    {
     "name": "stderr",
     "output_type": "stream",
     "text": [
      "\n"
     ]
    },
    {
     "name": "stdout",
     "output_type": "stream",
     "text": [
      "\n",
      "      Epoch    GPU_mem   box_loss   seg_loss   cls_loss   dfl_loss  Instances       Size\n"
     ]
    },
    {
     "name": "stderr",
     "output_type": "stream",
     "text": [
      "     38/100      11.5G     0.5927      1.026     0.3864     0.8529        632        640: 100%|██████████| 250/250 [04:23<00:00,  1.05s/it]\n",
      "                 Class     Images  Instances      Box(P          R      mAP50  mAP50-95)     Mask(P          R      mAP50  mAP50-95): 100%|██████████| 32/32 [00:16<00:00,  1.94it/s]\n"
     ]
    },
    {
     "name": "stdout",
     "output_type": "stream",
     "text": [
      "                   all       1000      13487      0.958      0.924      0.966      0.818      0.941      0.906      0.944      0.534\n",
      "\n",
      "      Epoch    GPU_mem   box_loss   seg_loss   cls_loss   dfl_loss  Instances       Size\n"
     ]
    },
    {
     "name": "stderr",
     "output_type": "stream",
     "text": [
      "     39/100      11.5G     0.5795      1.003     0.3871     0.8553        471        640: 100%|██████████| 250/250 [04:19<00:00,  1.04s/it]\n",
      "                 Class     Images  Instances      Box(P          R      mAP50  mAP50-95)     Mask(P          R      mAP50  mAP50-95): 100%|██████████| 32/32 [00:16<00:00,  1.95it/s]"
     ]
    },
    {
     "name": "stdout",
     "output_type": "stream",
     "text": [
      "                   all       1000      13487       0.96      0.927      0.973       0.82      0.943      0.909       0.95      0.547\n"
     ]
    },
    {
     "name": "stderr",
     "output_type": "stream",
     "text": [
      "\n"
     ]
    },
    {
     "name": "stdout",
     "output_type": "stream",
     "text": [
      "\n",
      "      Epoch    GPU_mem   box_loss   seg_loss   cls_loss   dfl_loss  Instances       Size\n"
     ]
    },
    {
     "name": "stderr",
     "output_type": "stream",
     "text": [
      "     40/100      11.6G     0.5991      1.024     0.3916     0.8542        629        640: 100%|██████████| 250/250 [04:19<00:00,  1.04s/it]\n",
      "                 Class     Images  Instances      Box(P          R      mAP50  mAP50-95)     Mask(P          R      mAP50  mAP50-95): 100%|██████████| 32/32 [00:16<00:00,  1.95it/s]"
     ]
    },
    {
     "name": "stdout",
     "output_type": "stream",
     "text": [
      "                   all       1000      13487      0.967      0.926      0.976      0.828      0.948      0.907      0.952      0.548\n"
     ]
    },
    {
     "name": "stderr",
     "output_type": "stream",
     "text": [
      "\n"
     ]
    },
    {
     "name": "stdout",
     "output_type": "stream",
     "text": [
      "\n",
      "      Epoch    GPU_mem   box_loss   seg_loss   cls_loss   dfl_loss  Instances       Size\n"
     ]
    },
    {
     "name": "stderr",
     "output_type": "stream",
     "text": [
      "     41/100      11.4G     0.5761          1     0.3762      0.851        487        640: 100%|██████████| 250/250 [04:19<00:00,  1.04s/it]\n",
      "                 Class     Images  Instances      Box(P          R      mAP50  mAP50-95)     Mask(P          R      mAP50  mAP50-95): 100%|██████████| 32/32 [00:16<00:00,  1.91it/s]"
     ]
    },
    {
     "name": "stdout",
     "output_type": "stream",
     "text": [
      "                   all       1000      13487      0.961      0.929      0.972      0.822      0.944      0.912      0.952      0.553\n"
     ]
    },
    {
     "name": "stderr",
     "output_type": "stream",
     "text": [
      "\n"
     ]
    },
    {
     "name": "stdout",
     "output_type": "stream",
     "text": [
      "\n",
      "      Epoch    GPU_mem   box_loss   seg_loss   cls_loss   dfl_loss  Instances       Size\n"
     ]
    },
    {
     "name": "stderr",
     "output_type": "stream",
     "text": [
      "     42/100      11.4G     0.5776     0.9997     0.3743     0.8457        625        640: 100%|██████████| 250/250 [04:19<00:00,  1.04s/it]\n",
      "                 Class     Images  Instances      Box(P          R      mAP50  mAP50-95)     Mask(P          R      mAP50  mAP50-95): 100%|██████████| 32/32 [00:16<00:00,  1.98it/s]"
     ]
    },
    {
     "name": "stdout",
     "output_type": "stream",
     "text": [
      "                   all       1000      13487      0.954      0.923       0.97      0.799      0.943      0.907      0.952      0.569\n"
     ]
    },
    {
     "name": "stderr",
     "output_type": "stream",
     "text": [
      "\n"
     ]
    },
    {
     "name": "stdout",
     "output_type": "stream",
     "text": [
      "\n",
      "      Epoch    GPU_mem   box_loss   seg_loss   cls_loss   dfl_loss  Instances       Size\n"
     ]
    },
    {
     "name": "stderr",
     "output_type": "stream",
     "text": [
      "     43/100      11.4G     0.5756          1     0.3778     0.8502        525        640: 100%|██████████| 250/250 [04:19<00:00,  1.04s/it]\n",
      "                 Class     Images  Instances      Box(P          R      mAP50  mAP50-95)     Mask(P          R      mAP50  mAP50-95): 100%|██████████| 32/32 [00:16<00:00,  1.95it/s]"
     ]
    },
    {
     "name": "stdout",
     "output_type": "stream",
     "text": [
      "                   all       1000      13487       0.96      0.897      0.965      0.815      0.944       0.88      0.943      0.545\n"
     ]
    },
    {
     "name": "stderr",
     "output_type": "stream",
     "text": [
      "\n"
     ]
    },
    {
     "name": "stdout",
     "output_type": "stream",
     "text": [
      "\n",
      "      Epoch    GPU_mem   box_loss   seg_loss   cls_loss   dfl_loss  Instances       Size\n"
     ]
    },
    {
     "name": "stderr",
     "output_type": "stream",
     "text": [
      "     44/100      11.5G     0.5733     0.9786      0.373      0.849        458        640: 100%|██████████| 250/250 [04:20<00:00,  1.04s/it]\n",
      "                 Class     Images  Instances      Box(P          R      mAP50  mAP50-95)     Mask(P          R      mAP50  mAP50-95): 100%|██████████| 32/32 [00:16<00:00,  1.98it/s]"
     ]
    },
    {
     "name": "stdout",
     "output_type": "stream",
     "text": [
      "                   all       1000      13487      0.965      0.936      0.972      0.838      0.945      0.915      0.949      0.561\n"
     ]
    },
    {
     "name": "stderr",
     "output_type": "stream",
     "text": [
      "\n"
     ]
    },
    {
     "name": "stdout",
     "output_type": "stream",
     "text": [
      "\n",
      "      Epoch    GPU_mem   box_loss   seg_loss   cls_loss   dfl_loss  Instances       Size\n"
     ]
    },
    {
     "name": "stderr",
     "output_type": "stream",
     "text": [
      "     45/100      11.6G     0.5612     0.9774      0.365     0.8435        562        640: 100%|██████████| 250/250 [04:20<00:00,  1.04s/it]\n",
      "                 Class     Images  Instances      Box(P          R      mAP50  mAP50-95)     Mask(P          R      mAP50  mAP50-95): 100%|██████████| 32/32 [00:16<00:00,  1.91it/s]"
     ]
    },
    {
     "name": "stdout",
     "output_type": "stream",
     "text": [
      "                   all       1000      13487      0.972      0.932      0.971      0.833      0.955      0.914      0.951      0.554\n"
     ]
    },
    {
     "name": "stderr",
     "output_type": "stream",
     "text": [
      "\n"
     ]
    },
    {
     "name": "stdout",
     "output_type": "stream",
     "text": [
      "\n",
      "      Epoch    GPU_mem   box_loss   seg_loss   cls_loss   dfl_loss  Instances       Size\n"
     ]
    },
    {
     "name": "stderr",
     "output_type": "stream",
     "text": [
      "     46/100      11.6G     0.5653     0.9776     0.3677     0.8508        499        640: 100%|██████████| 250/250 [04:19<00:00,  1.04s/it]\n",
      "                 Class     Images  Instances      Box(P          R      mAP50  mAP50-95)     Mask(P          R      mAP50  mAP50-95): 100%|██████████| 32/32 [00:16<00:00,  1.98it/s]"
     ]
    },
    {
     "name": "stdout",
     "output_type": "stream",
     "text": [
      "                   all       1000      13487      0.968      0.931      0.973       0.83      0.951      0.914      0.954      0.552\n"
     ]
    },
    {
     "name": "stderr",
     "output_type": "stream",
     "text": [
      "\n"
     ]
    },
    {
     "name": "stdout",
     "output_type": "stream",
     "text": [
      "\n",
      "      Epoch    GPU_mem   box_loss   seg_loss   cls_loss   dfl_loss  Instances       Size\n"
     ]
    },
    {
     "name": "stderr",
     "output_type": "stream",
     "text": [
      "     47/100      11.3G     0.5706     0.9666     0.3682     0.8479        527        640: 100%|██████████| 250/250 [04:19<00:00,  1.04s/it]\n",
      "                 Class     Images  Instances      Box(P          R      mAP50  mAP50-95)     Mask(P          R      mAP50  mAP50-95): 100%|██████████| 32/32 [00:16<00:00,  1.94it/s]\n"
     ]
    },
    {
     "name": "stdout",
     "output_type": "stream",
     "text": [
      "                   all       1000      13487      0.958      0.935      0.971      0.828       0.94      0.919      0.951      0.564\n",
      "\n",
      "      Epoch    GPU_mem   box_loss   seg_loss   cls_loss   dfl_loss  Instances       Size\n"
     ]
    },
    {
     "name": "stderr",
     "output_type": "stream",
     "text": [
      "     48/100      11.5G      0.563     0.9641      0.363     0.8441        571        640: 100%|██████████| 250/250 [04:19<00:00,  1.04s/it]\n",
      "                 Class     Images  Instances      Box(P          R      mAP50  mAP50-95)     Mask(P          R      mAP50  mAP50-95): 100%|██████████| 32/32 [00:16<00:00,  1.93it/s]"
     ]
    },
    {
     "name": "stdout",
     "output_type": "stream",
     "text": [
      "                   all       1000      13487       0.96      0.926      0.969      0.819      0.945      0.911      0.949      0.551\n"
     ]
    },
    {
     "name": "stderr",
     "output_type": "stream",
     "text": [
      "\n"
     ]
    },
    {
     "name": "stdout",
     "output_type": "stream",
     "text": [
      "\n",
      "      Epoch    GPU_mem   box_loss   seg_loss   cls_loss   dfl_loss  Instances       Size\n"
     ]
    },
    {
     "name": "stderr",
     "output_type": "stream",
     "text": [
      "     49/100      11.4G     0.5646     0.9874     0.3692     0.8469        504        640: 100%|██████████| 250/250 [04:19<00:00,  1.04s/it]\n",
      "                 Class     Images  Instances      Box(P          R      mAP50  mAP50-95)     Mask(P          R      mAP50  mAP50-95): 100%|██████████| 32/32 [00:16<00:00,  1.93it/s]"
     ]
    },
    {
     "name": "stdout",
     "output_type": "stream",
     "text": [
      "                   all       1000      13487      0.966      0.933      0.972      0.827       0.95      0.914      0.951      0.548\n"
     ]
    },
    {
     "name": "stderr",
     "output_type": "stream",
     "text": [
      "\n"
     ]
    },
    {
     "name": "stdout",
     "output_type": "stream",
     "text": [
      "\n",
      "      Epoch    GPU_mem   box_loss   seg_loss   cls_loss   dfl_loss  Instances       Size\n"
     ]
    },
    {
     "name": "stderr",
     "output_type": "stream",
     "text": [
      "     50/100      11.5G     0.5553     0.9797     0.3626     0.8452        652        640: 100%|██████████| 250/250 [04:14<00:00,  1.02s/it]\n",
      "                 Class     Images  Instances      Box(P          R      mAP50  mAP50-95)     Mask(P          R      mAP50  mAP50-95): 100%|██████████| 32/32 [00:15<00:00,  2.03it/s]"
     ]
    },
    {
     "name": "stdout",
     "output_type": "stream",
     "text": [
      "                   all       1000      13487      0.969      0.931      0.973      0.837      0.949      0.912      0.948      0.547\n"
     ]
    },
    {
     "name": "stderr",
     "output_type": "stream",
     "text": [
      "\n"
     ]
    },
    {
     "name": "stdout",
     "output_type": "stream",
     "text": [
      "\n",
      "      Epoch    GPU_mem   box_loss   seg_loss   cls_loss   dfl_loss  Instances       Size\n"
     ]
    },
    {
     "name": "stderr",
     "output_type": "stream",
     "text": [
      "     51/100      11.5G     0.5609     0.9702     0.3656     0.8466        550        640: 100%|██████████| 250/250 [04:09<00:00,  1.00it/s]\n",
      "                 Class     Images  Instances      Box(P          R      mAP50  mAP50-95)     Mask(P          R      mAP50  mAP50-95): 100%|██████████| 32/32 [00:15<00:00,  2.02it/s]\n"
     ]
    },
    {
     "name": "stdout",
     "output_type": "stream",
     "text": [
      "                   all       1000      13487      0.967       0.92      0.971       0.83      0.953      0.903      0.951      0.556\n",
      "\n",
      "      Epoch    GPU_mem   box_loss   seg_loss   cls_loss   dfl_loss  Instances       Size\n"
     ]
    },
    {
     "name": "stderr",
     "output_type": "stream",
     "text": [
      "     52/100      11.3G     0.5567     0.9566     0.3645     0.8457        594        640: 100%|██████████| 250/250 [04:08<00:00,  1.01it/s]\n",
      "                 Class     Images  Instances      Box(P          R      mAP50  mAP50-95)     Mask(P          R      mAP50  mAP50-95): 100%|██████████| 32/32 [00:15<00:00,  2.02it/s]"
     ]
    },
    {
     "name": "stdout",
     "output_type": "stream",
     "text": [
      "                   all       1000      13487      0.965       0.93      0.973      0.832      0.945      0.909      0.949      0.559\n"
     ]
    },
    {
     "name": "stderr",
     "output_type": "stream",
     "text": [
      "\n"
     ]
    },
    {
     "name": "stdout",
     "output_type": "stream",
     "text": [
      "\n",
      "      Epoch    GPU_mem   box_loss   seg_loss   cls_loss   dfl_loss  Instances       Size\n"
     ]
    },
    {
     "name": "stderr",
     "output_type": "stream",
     "text": [
      "     53/100      11.5G     0.5532     0.9766     0.3578      0.842        453        640: 100%|██████████| 250/250 [04:07<00:00,  1.01it/s]\n",
      "                 Class     Images  Instances      Box(P          R      mAP50  mAP50-95)     Mask(P          R      mAP50  mAP50-95): 100%|██████████| 32/32 [00:16<00:00,  1.97it/s]"
     ]
    },
    {
     "name": "stdout",
     "output_type": "stream",
     "text": [
      "                   all       1000      13487      0.955      0.936      0.969       0.84      0.939       0.92      0.949      0.559\n"
     ]
    },
    {
     "name": "stderr",
     "output_type": "stream",
     "text": [
      "\n"
     ]
    },
    {
     "name": "stdout",
     "output_type": "stream",
     "text": [
      "\n",
      "      Epoch    GPU_mem   box_loss   seg_loss   cls_loss   dfl_loss  Instances       Size\n"
     ]
    },
    {
     "name": "stderr",
     "output_type": "stream",
     "text": [
      "     54/100      11.4G     0.5527      0.957     0.3629     0.8467        493        640: 100%|██████████| 250/250 [04:05<00:00,  1.02it/s]\n",
      "                 Class     Images  Instances      Box(P          R      mAP50  mAP50-95)     Mask(P          R      mAP50  mAP50-95): 100%|██████████| 32/32 [00:16<00:00,  1.99it/s]"
     ]
    },
    {
     "name": "stdout",
     "output_type": "stream",
     "text": [
      "                   all       1000      13487      0.961      0.937      0.973      0.836      0.946      0.922      0.953      0.557\n"
     ]
    },
    {
     "name": "stderr",
     "output_type": "stream",
     "text": [
      "\n"
     ]
    },
    {
     "name": "stdout",
     "output_type": "stream",
     "text": [
      "\n",
      "      Epoch    GPU_mem   box_loss   seg_loss   cls_loss   dfl_loss  Instances       Size\n"
     ]
    },
    {
     "name": "stderr",
     "output_type": "stream",
     "text": [
      "     55/100      11.5G     0.5438     0.9391     0.3516     0.8434        574        640: 100%|██████████| 250/250 [04:07<00:00,  1.01it/s]\n",
      "                 Class     Images  Instances      Box(P          R      mAP50  mAP50-95)     Mask(P          R      mAP50  mAP50-95): 100%|██████████| 32/32 [00:15<00:00,  2.01it/s]"
     ]
    },
    {
     "name": "stdout",
     "output_type": "stream",
     "text": [
      "                   all       1000      13487      0.965      0.937      0.975      0.844      0.948       0.92      0.954      0.555\n"
     ]
    },
    {
     "name": "stderr",
     "output_type": "stream",
     "text": [
      "\n"
     ]
    },
    {
     "name": "stdout",
     "output_type": "stream",
     "text": [
      "\n",
      "      Epoch    GPU_mem   box_loss   seg_loss   cls_loss   dfl_loss  Instances       Size\n"
     ]
    },
    {
     "name": "stderr",
     "output_type": "stream",
     "text": [
      "     56/100      11.5G     0.5342     0.9416      0.344     0.8377        549        640: 100%|██████████| 250/250 [04:07<00:00,  1.01it/s]\n",
      "                 Class     Images  Instances      Box(P          R      mAP50  mAP50-95)     Mask(P          R      mAP50  mAP50-95): 100%|██████████| 32/32 [00:16<00:00,  2.00it/s]"
     ]
    },
    {
     "name": "stdout",
     "output_type": "stream",
     "text": [
      "                   all       1000      13487      0.967       0.94      0.973       0.84      0.951      0.924      0.954      0.561\n"
     ]
    },
    {
     "name": "stderr",
     "output_type": "stream",
     "text": [
      "\n"
     ]
    },
    {
     "name": "stdout",
     "output_type": "stream",
     "text": [
      "\n",
      "      Epoch    GPU_mem   box_loss   seg_loss   cls_loss   dfl_loss  Instances       Size\n"
     ]
    },
    {
     "name": "stderr",
     "output_type": "stream",
     "text": [
      "     57/100      11.5G     0.5454     0.9543     0.3571      0.843        495        640: 100%|██████████| 250/250 [04:08<00:00,  1.01it/s]\n",
      "                 Class     Images  Instances      Box(P          R      mAP50  mAP50-95)     Mask(P          R      mAP50  mAP50-95): 100%|██████████| 32/32 [00:15<00:00,  2.01it/s]"
     ]
    },
    {
     "name": "stdout",
     "output_type": "stream",
     "text": [
      "                   all       1000      13487      0.972      0.931      0.975       0.84      0.955      0.915      0.955      0.563\n"
     ]
    },
    {
     "name": "stderr",
     "output_type": "stream",
     "text": [
      "\n"
     ]
    },
    {
     "name": "stdout",
     "output_type": "stream",
     "text": [
      "\n",
      "      Epoch    GPU_mem   box_loss   seg_loss   cls_loss   dfl_loss  Instances       Size\n"
     ]
    },
    {
     "name": "stderr",
     "output_type": "stream",
     "text": [
      "     58/100      11.7G     0.5388      0.945     0.3516     0.8438        475        640: 100%|██████████| 250/250 [04:06<00:00,  1.01it/s]\n",
      "                 Class     Images  Instances      Box(P          R      mAP50  mAP50-95)     Mask(P          R      mAP50  mAP50-95): 100%|██████████| 32/32 [00:16<00:00,  2.00it/s]"
     ]
    },
    {
     "name": "stdout",
     "output_type": "stream",
     "text": [
      "                   all       1000      13487      0.968      0.937      0.974      0.839       0.95      0.919      0.952      0.551\n"
     ]
    },
    {
     "name": "stderr",
     "output_type": "stream",
     "text": [
      "\n"
     ]
    },
    {
     "name": "stdout",
     "output_type": "stream",
     "text": [
      "\n",
      "      Epoch    GPU_mem   box_loss   seg_loss   cls_loss   dfl_loss  Instances       Size\n"
     ]
    },
    {
     "name": "stderr",
     "output_type": "stream",
     "text": [
      "     59/100      11.3G     0.5382     0.9214     0.3499     0.8426        478        640: 100%|██████████| 250/250 [04:08<00:00,  1.01it/s]\n",
      "                 Class     Images  Instances      Box(P          R      mAP50  mAP50-95)     Mask(P          R      mAP50  mAP50-95): 100%|██████████| 32/32 [00:16<00:00,  1.99it/s]"
     ]
    },
    {
     "name": "stdout",
     "output_type": "stream",
     "text": [
      "                   all       1000      13487      0.965      0.937      0.972      0.839       0.95       0.92      0.953      0.565\n"
     ]
    },
    {
     "name": "stderr",
     "output_type": "stream",
     "text": [
      "\n"
     ]
    },
    {
     "name": "stdout",
     "output_type": "stream",
     "text": [
      "\n",
      "      Epoch    GPU_mem   box_loss   seg_loss   cls_loss   dfl_loss  Instances       Size\n"
     ]
    },
    {
     "name": "stderr",
     "output_type": "stream",
     "text": [
      "     60/100      11.5G     0.5281     0.9447     0.3434     0.8398        422        640: 100%|██████████| 250/250 [04:08<00:00,  1.00it/s]\n",
      "                 Class     Images  Instances      Box(P          R      mAP50  mAP50-95)     Mask(P          R      mAP50  mAP50-95): 100%|██████████| 32/32 [00:15<00:00,  2.03it/s]"
     ]
    },
    {
     "name": "stdout",
     "output_type": "stream",
     "text": [
      "                   all       1000      13487      0.969      0.934      0.974      0.846      0.952      0.916      0.952      0.559\n"
     ]
    },
    {
     "name": "stderr",
     "output_type": "stream",
     "text": [
      "\n"
     ]
    },
    {
     "name": "stdout",
     "output_type": "stream",
     "text": [
      "\n",
      "      Epoch    GPU_mem   box_loss   seg_loss   cls_loss   dfl_loss  Instances       Size\n"
     ]
    },
    {
     "name": "stderr",
     "output_type": "stream",
     "text": [
      "     61/100      11.4G     0.5248     0.9263     0.3472     0.8431        509        640: 100%|██████████| 250/250 [04:08<00:00,  1.00it/s]\n",
      "                 Class     Images  Instances      Box(P          R      mAP50  mAP50-95)     Mask(P          R      mAP50  mAP50-95): 100%|██████████| 32/32 [00:15<00:00,  2.01it/s]"
     ]
    },
    {
     "name": "stdout",
     "output_type": "stream",
     "text": [
      "                   all       1000      13487      0.964      0.934      0.972      0.838      0.947      0.916      0.951      0.553\n"
     ]
    },
    {
     "name": "stderr",
     "output_type": "stream",
     "text": [
      "\n"
     ]
    },
    {
     "name": "stdout",
     "output_type": "stream",
     "text": [
      "\n",
      "      Epoch    GPU_mem   box_loss   seg_loss   cls_loss   dfl_loss  Instances       Size\n"
     ]
    },
    {
     "name": "stderr",
     "output_type": "stream",
     "text": [
      "     62/100      11.3G      0.519     0.9309     0.3376      0.835        408        640: 100%|██████████| 250/250 [04:09<00:00,  1.00it/s]\n",
      "                 Class     Images  Instances      Box(P          R      mAP50  mAP50-95)     Mask(P          R      mAP50  mAP50-95): 100%|██████████| 32/32 [00:15<00:00,  2.02it/s]"
     ]
    },
    {
     "name": "stdout",
     "output_type": "stream",
     "text": [
      "                   all       1000      13487       0.97      0.941      0.977      0.849      0.954      0.924      0.957      0.572\n"
     ]
    },
    {
     "name": "stderr",
     "output_type": "stream",
     "text": [
      "\n"
     ]
    },
    {
     "name": "stdout",
     "output_type": "stream",
     "text": [
      "\n",
      "      Epoch    GPU_mem   box_loss   seg_loss   cls_loss   dfl_loss  Instances       Size\n"
     ]
    },
    {
     "name": "stderr",
     "output_type": "stream",
     "text": [
      "     63/100      11.8G       0.52     0.9193     0.3361     0.8336        616        640: 100%|██████████| 250/250 [04:05<00:00,  1.02it/s]\n",
      "                 Class     Images  Instances      Box(P          R      mAP50  mAP50-95)     Mask(P          R      mAP50  mAP50-95): 100%|██████████| 32/32 [00:15<00:00,  2.02it/s]"
     ]
    },
    {
     "name": "stdout",
     "output_type": "stream",
     "text": [
      "                   all       1000      13487      0.964      0.939      0.972      0.845      0.946      0.921      0.951      0.557\n"
     ]
    },
    {
     "name": "stderr",
     "output_type": "stream",
     "text": [
      "\n"
     ]
    },
    {
     "name": "stdout",
     "output_type": "stream",
     "text": [
      "\n",
      "      Epoch    GPU_mem   box_loss   seg_loss   cls_loss   dfl_loss  Instances       Size\n"
     ]
    },
    {
     "name": "stderr",
     "output_type": "stream",
     "text": [
      "     64/100      11.4G     0.5164     0.9317     0.3347     0.8344        477        640: 100%|██████████| 250/250 [04:03<00:00,  1.03it/s]\n",
      "                 Class     Images  Instances      Box(P          R      mAP50  mAP50-95)     Mask(P          R      mAP50  mAP50-95): 100%|██████████| 32/32 [00:15<00:00,  2.01it/s]"
     ]
    },
    {
     "name": "stdout",
     "output_type": "stream",
     "text": [
      "                   all       1000      13487      0.967      0.942      0.973      0.838       0.95      0.926      0.954      0.569\n"
     ]
    },
    {
     "name": "stderr",
     "output_type": "stream",
     "text": [
      "\n"
     ]
    },
    {
     "name": "stdout",
     "output_type": "stream",
     "text": [
      "\n",
      "      Epoch    GPU_mem   box_loss   seg_loss   cls_loss   dfl_loss  Instances       Size\n"
     ]
    },
    {
     "name": "stderr",
     "output_type": "stream",
     "text": [
      "     65/100      11.4G     0.5174     0.9011      0.333     0.8309        539        640: 100%|██████████| 250/250 [04:05<00:00,  1.02it/s]\n",
      "                 Class     Images  Instances      Box(P          R      mAP50  mAP50-95)     Mask(P          R      mAP50  mAP50-95): 100%|██████████| 32/32 [00:15<00:00,  2.03it/s]"
     ]
    },
    {
     "name": "stdout",
     "output_type": "stream",
     "text": [
      "                   all       1000      13487      0.975      0.936      0.975      0.849       0.96      0.922      0.958      0.567\n"
     ]
    },
    {
     "name": "stderr",
     "output_type": "stream",
     "text": [
      "\n"
     ]
    },
    {
     "name": "stdout",
     "output_type": "stream",
     "text": [
      "\n",
      "      Epoch    GPU_mem   box_loss   seg_loss   cls_loss   dfl_loss  Instances       Size\n"
     ]
    },
    {
     "name": "stderr",
     "output_type": "stream",
     "text": [
      "     66/100      11.4G     0.5108     0.9209     0.3333     0.8369        401        640: 100%|██████████| 250/250 [04:07<00:00,  1.01it/s]\n",
      "                 Class     Images  Instances      Box(P          R      mAP50  mAP50-95)     Mask(P          R      mAP50  mAP50-95): 100%|██████████| 32/32 [00:15<00:00,  2.04it/s]"
     ]
    },
    {
     "name": "stdout",
     "output_type": "stream",
     "text": [
      "                   all       1000      13487      0.966       0.94      0.975      0.848      0.952      0.924      0.958      0.576\n"
     ]
    },
    {
     "name": "stderr",
     "output_type": "stream",
     "text": [
      "\n"
     ]
    },
    {
     "name": "stdout",
     "output_type": "stream",
     "text": [
      "\n",
      "      Epoch    GPU_mem   box_loss   seg_loss   cls_loss   dfl_loss  Instances       Size\n"
     ]
    },
    {
     "name": "stderr",
     "output_type": "stream",
     "text": [
      "     67/100      11.4G     0.5097     0.9276     0.3305     0.8323        453        640: 100%|██████████| 250/250 [04:08<00:00,  1.01it/s]\n",
      "                 Class     Images  Instances      Box(P          R      mAP50  mAP50-95)     Mask(P          R      mAP50  mAP50-95): 100%|██████████| 32/32 [00:15<00:00,  2.05it/s]"
     ]
    },
    {
     "name": "stdout",
     "output_type": "stream",
     "text": [
      "                   all       1000      13487      0.972      0.938      0.976      0.851      0.954      0.921      0.954       0.57\n"
     ]
    },
    {
     "name": "stderr",
     "output_type": "stream",
     "text": [
      "\n"
     ]
    },
    {
     "name": "stdout",
     "output_type": "stream",
     "text": [
      "\n",
      "      Epoch    GPU_mem   box_loss   seg_loss   cls_loss   dfl_loss  Instances       Size\n"
     ]
    },
    {
     "name": "stderr",
     "output_type": "stream",
     "text": [
      "     68/100      11.4G     0.5115     0.9168     0.3374     0.8352        482        640: 100%|██████████| 250/250 [04:05<00:00,  1.02it/s]\n",
      "                 Class     Images  Instances      Box(P          R      mAP50  mAP50-95)     Mask(P          R      mAP50  mAP50-95): 100%|██████████| 32/32 [00:15<00:00,  2.05it/s]\n"
     ]
    },
    {
     "name": "stdout",
     "output_type": "stream",
     "text": [
      "                   all       1000      13487      0.968      0.939      0.975      0.847      0.953      0.923      0.955      0.568\n",
      "\n",
      "      Epoch    GPU_mem   box_loss   seg_loss   cls_loss   dfl_loss  Instances       Size\n"
     ]
    },
    {
     "name": "stderr",
     "output_type": "stream",
     "text": [
      "     69/100      11.4G     0.5039     0.9048     0.3264     0.8304        412        640: 100%|██████████| 250/250 [04:05<00:00,  1.02it/s]\n",
      "                 Class     Images  Instances      Box(P          R      mAP50  mAP50-95)     Mask(P          R      mAP50  mAP50-95): 100%|██████████| 32/32 [00:15<00:00,  2.03it/s]"
     ]
    },
    {
     "name": "stdout",
     "output_type": "stream",
     "text": [
      "                   all       1000      13487      0.969      0.939      0.974      0.852       0.95      0.921      0.953      0.574\n"
     ]
    },
    {
     "name": "stderr",
     "output_type": "stream",
     "text": [
      "\n"
     ]
    },
    {
     "name": "stdout",
     "output_type": "stream",
     "text": [
      "\n",
      "      Epoch    GPU_mem   box_loss   seg_loss   cls_loss   dfl_loss  Instances       Size\n"
     ]
    },
    {
     "name": "stderr",
     "output_type": "stream",
     "text": [
      "     70/100      11.4G     0.4986     0.9035     0.3249     0.8314        569        640: 100%|██████████| 250/250 [04:04<00:00,  1.02it/s]\n",
      "                 Class     Images  Instances      Box(P          R      mAP50  mAP50-95)     Mask(P          R      mAP50  mAP50-95): 100%|██████████| 32/32 [00:15<00:00,  2.06it/s]"
     ]
    },
    {
     "name": "stdout",
     "output_type": "stream",
     "text": [
      "                   all       1000      13487      0.971      0.944      0.975      0.854      0.955      0.927      0.955      0.572\n"
     ]
    },
    {
     "name": "stderr",
     "output_type": "stream",
     "text": [
      "\n"
     ]
    },
    {
     "name": "stdout",
     "output_type": "stream",
     "text": [
      "\n",
      "      Epoch    GPU_mem   box_loss   seg_loss   cls_loss   dfl_loss  Instances       Size\n"
     ]
    },
    {
     "name": "stderr",
     "output_type": "stream",
     "text": [
      "     71/100      11.7G     0.4953     0.8988     0.3228     0.8292        433        640: 100%|██████████| 250/250 [04:04<00:00,  1.02it/s]\n",
      "                 Class     Images  Instances      Box(P          R      mAP50  mAP50-95)     Mask(P          R      mAP50  mAP50-95): 100%|██████████| 32/32 [00:15<00:00,  2.05it/s]"
     ]
    },
    {
     "name": "stdout",
     "output_type": "stream",
     "text": [
      "                   all       1000      13487      0.972      0.942      0.976      0.848      0.954      0.924      0.955      0.566\n"
     ]
    },
    {
     "name": "stderr",
     "output_type": "stream",
     "text": [
      "\n"
     ]
    },
    {
     "name": "stdout",
     "output_type": "stream",
     "text": [
      "\n",
      "      Epoch    GPU_mem   box_loss   seg_loss   cls_loss   dfl_loss  Instances       Size\n"
     ]
    },
    {
     "name": "stderr",
     "output_type": "stream",
     "text": [
      "     72/100      11.4G     0.5012     0.9097     0.3241     0.8311        619        640: 100%|██████████| 250/250 [04:05<00:00,  1.02it/s]\n",
      "                 Class     Images  Instances      Box(P          R      mAP50  mAP50-95)     Mask(P          R      mAP50  mAP50-95): 100%|██████████| 32/32 [00:15<00:00,  2.04it/s]"
     ]
    },
    {
     "name": "stdout",
     "output_type": "stream",
     "text": [
      "                   all       1000      13487      0.968      0.946      0.974      0.852      0.951      0.929      0.954      0.568\n"
     ]
    },
    {
     "name": "stderr",
     "output_type": "stream",
     "text": [
      "\n"
     ]
    },
    {
     "name": "stdout",
     "output_type": "stream",
     "text": [
      "\n",
      "      Epoch    GPU_mem   box_loss   seg_loss   cls_loss   dfl_loss  Instances       Size\n"
     ]
    },
    {
     "name": "stderr",
     "output_type": "stream",
     "text": [
      "     73/100      11.3G      0.492     0.8814     0.3138     0.8278        545        640: 100%|██████████| 250/250 [04:05<00:00,  1.02it/s]\n",
      "                 Class     Images  Instances      Box(P          R      mAP50  mAP50-95)     Mask(P          R      mAP50  mAP50-95): 100%|██████████| 32/32 [00:15<00:00,  2.01it/s]"
     ]
    },
    {
     "name": "stdout",
     "output_type": "stream",
     "text": [
      "                   all       1000      13487      0.971      0.945      0.977      0.854      0.956       0.93      0.959      0.581\n"
     ]
    },
    {
     "name": "stderr",
     "output_type": "stream",
     "text": [
      "\n"
     ]
    },
    {
     "name": "stdout",
     "output_type": "stream",
     "text": [
      "\n",
      "      Epoch    GPU_mem   box_loss   seg_loss   cls_loss   dfl_loss  Instances       Size\n"
     ]
    },
    {
     "name": "stderr",
     "output_type": "stream",
     "text": [
      "     74/100      11.6G     0.4943     0.8968     0.3161     0.8305        547        640: 100%|██████████| 250/250 [04:04<00:00,  1.02it/s]\n",
      "                 Class     Images  Instances      Box(P          R      mAP50  mAP50-95)     Mask(P          R      mAP50  mAP50-95): 100%|██████████| 32/32 [00:15<00:00,  2.01it/s]"
     ]
    },
    {
     "name": "stdout",
     "output_type": "stream",
     "text": [
      "                   all       1000      13487      0.975      0.945      0.978      0.856      0.958      0.928      0.958      0.571\n"
     ]
    },
    {
     "name": "stderr",
     "output_type": "stream",
     "text": [
      "\n"
     ]
    },
    {
     "name": "stdout",
     "output_type": "stream",
     "text": [
      "\n",
      "      Epoch    GPU_mem   box_loss   seg_loss   cls_loss   dfl_loss  Instances       Size\n"
     ]
    },
    {
     "name": "stderr",
     "output_type": "stream",
     "text": [
      "     75/100      11.3G     0.4867     0.8901     0.3128     0.8293        583        640: 100%|██████████| 250/250 [04:12<00:00,  1.01s/it]\n",
      "                 Class     Images  Instances      Box(P          R      mAP50  mAP50-95)     Mask(P          R      mAP50  mAP50-95): 100%|██████████| 32/32 [00:17<00:00,  1.87it/s]"
     ]
    },
    {
     "name": "stdout",
     "output_type": "stream",
     "text": [
      "                   all       1000      13487      0.975      0.943      0.977      0.857      0.957      0.925      0.956       0.57\n"
     ]
    },
    {
     "name": "stderr",
     "output_type": "stream",
     "text": [
      "\n"
     ]
    },
    {
     "name": "stdout",
     "output_type": "stream",
     "text": [
      "\n",
      "      Epoch    GPU_mem   box_loss   seg_loss   cls_loss   dfl_loss  Instances       Size\n"
     ]
    },
    {
     "name": "stderr",
     "output_type": "stream",
     "text": [
      "     76/100      11.5G     0.4833     0.8939     0.3129     0.8278        588        640: 100%|██████████| 250/250 [04:16<00:00,  1.03s/it]\n",
      "                 Class     Images  Instances      Box(P          R      mAP50  mAP50-95)     Mask(P          R      mAP50  mAP50-95): 100%|██████████| 32/32 [00:16<00:00,  1.98it/s]"
     ]
    },
    {
     "name": "stdout",
     "output_type": "stream",
     "text": [
      "                   all       1000      13487      0.976      0.944      0.978      0.856      0.961      0.929       0.96      0.579\n"
     ]
    },
    {
     "name": "stderr",
     "output_type": "stream",
     "text": [
      "\n"
     ]
    },
    {
     "name": "stdout",
     "output_type": "stream",
     "text": [
      "\n",
      "      Epoch    GPU_mem   box_loss   seg_loss   cls_loss   dfl_loss  Instances       Size\n"
     ]
    },
    {
     "name": "stderr",
     "output_type": "stream",
     "text": [
      "     77/100      11.4G     0.4806     0.8921     0.3114     0.8277        401        640: 100%|██████████| 250/250 [04:08<00:00,  1.01it/s]\n",
      "                 Class     Images  Instances      Box(P          R      mAP50  mAP50-95)     Mask(P          R      mAP50  mAP50-95): 100%|██████████| 32/32 [00:16<00:00,  1.99it/s]"
     ]
    },
    {
     "name": "stdout",
     "output_type": "stream",
     "text": [
      "                   all       1000      13487      0.969      0.941      0.976      0.854      0.953      0.925      0.956       0.57\n"
     ]
    },
    {
     "name": "stderr",
     "output_type": "stream",
     "text": [
      "\n"
     ]
    },
    {
     "name": "stdout",
     "output_type": "stream",
     "text": [
      "\n",
      "      Epoch    GPU_mem   box_loss   seg_loss   cls_loss   dfl_loss  Instances       Size\n"
     ]
    },
    {
     "name": "stderr",
     "output_type": "stream",
     "text": [
      "     78/100        12G      0.482     0.8855     0.3074     0.8285        563        640: 100%|██████████| 250/250 [04:10<00:00,  1.00s/it]\n",
      "                 Class     Images  Instances      Box(P          R      mAP50  mAP50-95)     Mask(P          R      mAP50  mAP50-95): 100%|██████████| 32/32 [00:15<00:00,  2.02it/s]"
     ]
    },
    {
     "name": "stdout",
     "output_type": "stream",
     "text": [
      "                   all       1000      13487      0.972      0.943      0.976      0.855      0.957      0.927      0.957      0.571\n"
     ]
    },
    {
     "name": "stderr",
     "output_type": "stream",
     "text": [
      "\n"
     ]
    },
    {
     "name": "stdout",
     "output_type": "stream",
     "text": [
      "\n",
      "      Epoch    GPU_mem   box_loss   seg_loss   cls_loss   dfl_loss  Instances       Size\n"
     ]
    },
    {
     "name": "stderr",
     "output_type": "stream",
     "text": [
      "     79/100      11.2G     0.4824     0.8809     0.3126     0.8324        692        640: 100%|██████████| 250/250 [04:11<00:00,  1.00s/it]\n",
      "                 Class     Images  Instances      Box(P          R      mAP50  mAP50-95)     Mask(P          R      mAP50  mAP50-95): 100%|██████████| 32/32 [00:15<00:00,  2.02it/s]"
     ]
    },
    {
     "name": "stdout",
     "output_type": "stream",
     "text": [
      "                   all       1000      13487      0.975      0.942      0.978      0.856      0.958      0.926      0.958      0.576\n"
     ]
    },
    {
     "name": "stderr",
     "output_type": "stream",
     "text": [
      "\n"
     ]
    },
    {
     "name": "stdout",
     "output_type": "stream",
     "text": [
      "\n",
      "      Epoch    GPU_mem   box_loss   seg_loss   cls_loss   dfl_loss  Instances       Size\n"
     ]
    },
    {
     "name": "stderr",
     "output_type": "stream",
     "text": [
      "     80/100      11.4G     0.4802     0.8946     0.3038     0.8249        640        640: 100%|██████████| 250/250 [04:11<00:00,  1.01s/it]\n",
      "                 Class     Images  Instances      Box(P          R      mAP50  mAP50-95)     Mask(P          R      mAP50  mAP50-95): 100%|██████████| 32/32 [00:15<00:00,  2.00it/s]"
     ]
    },
    {
     "name": "stdout",
     "output_type": "stream",
     "text": [
      "                   all       1000      13487      0.971      0.943      0.978       0.86      0.953      0.926      0.957      0.578\n"
     ]
    },
    {
     "name": "stderr",
     "output_type": "stream",
     "text": [
      "\n"
     ]
    },
    {
     "name": "stdout",
     "output_type": "stream",
     "text": [
      "\n",
      "      Epoch    GPU_mem   box_loss   seg_loss   cls_loss   dfl_loss  Instances       Size\n"
     ]
    },
    {
     "name": "stderr",
     "output_type": "stream",
     "text": [
      "     81/100      11.6G     0.4777     0.8632     0.3061     0.8243        581        640: 100%|██████████| 250/250 [04:19<00:00,  1.04s/it]\n",
      "                 Class     Images  Instances      Box(P          R      mAP50  mAP50-95)     Mask(P          R      mAP50  mAP50-95): 100%|██████████| 32/32 [00:16<00:00,  1.94it/s]"
     ]
    },
    {
     "name": "stdout",
     "output_type": "stream",
     "text": [
      "                   all       1000      13487      0.971      0.945      0.976      0.858      0.955      0.929      0.958      0.579\n"
     ]
    },
    {
     "name": "stderr",
     "output_type": "stream",
     "text": [
      "\n"
     ]
    },
    {
     "name": "stdout",
     "output_type": "stream",
     "text": [
      "\n",
      "      Epoch    GPU_mem   box_loss   seg_loss   cls_loss   dfl_loss  Instances       Size\n"
     ]
    },
    {
     "name": "stderr",
     "output_type": "stream",
     "text": [
      "     82/100      11.8G     0.4662      0.873     0.2983     0.8246        485        640: 100%|██████████| 250/250 [04:20<00:00,  1.04s/it]\n",
      "                 Class     Images  Instances      Box(P          R      mAP50  mAP50-95)     Mask(P          R      mAP50  mAP50-95): 100%|██████████| 32/32 [00:16<00:00,  1.96it/s]"
     ]
    },
    {
     "name": "stdout",
     "output_type": "stream",
     "text": [
      "                   all       1000      13487      0.969      0.945      0.976       0.86      0.954      0.927      0.957      0.581\n"
     ]
    },
    {
     "name": "stderr",
     "output_type": "stream",
     "text": [
      "\n"
     ]
    },
    {
     "name": "stdout",
     "output_type": "stream",
     "text": [
      "\n",
      "      Epoch    GPU_mem   box_loss   seg_loss   cls_loss   dfl_loss  Instances       Size\n"
     ]
    },
    {
     "name": "stderr",
     "output_type": "stream",
     "text": [
      "     83/100      11.4G      0.477     0.8889     0.3079      0.826        606        640: 100%|██████████| 250/250 [04:19<00:00,  1.04s/it]\n",
      "                 Class     Images  Instances      Box(P          R      mAP50  mAP50-95)     Mask(P          R      mAP50  mAP50-95): 100%|██████████| 32/32 [00:16<00:00,  1.91it/s]"
     ]
    },
    {
     "name": "stdout",
     "output_type": "stream",
     "text": [
      "                   all       1000      13487      0.973      0.945      0.979      0.857      0.959       0.93       0.96      0.574\n"
     ]
    },
    {
     "name": "stderr",
     "output_type": "stream",
     "text": [
      "\n"
     ]
    },
    {
     "name": "stdout",
     "output_type": "stream",
     "text": [
      "\n",
      "      Epoch    GPU_mem   box_loss   seg_loss   cls_loss   dfl_loss  Instances       Size\n"
     ]
    },
    {
     "name": "stderr",
     "output_type": "stream",
     "text": [
      "     84/100      11.3G     0.4612     0.8727     0.2964     0.8219        546        640: 100%|██████████| 250/250 [04:21<00:00,  1.05s/it]\n",
      "                 Class     Images  Instances      Box(P          R      mAP50  mAP50-95)     Mask(P          R      mAP50  mAP50-95): 100%|██████████| 32/32 [00:16<00:00,  1.99it/s]"
     ]
    },
    {
     "name": "stdout",
     "output_type": "stream",
     "text": [
      "                   all       1000      13487       0.97      0.944      0.976      0.858      0.955      0.928      0.958      0.578\n"
     ]
    },
    {
     "name": "stderr",
     "output_type": "stream",
     "text": [
      "\n"
     ]
    },
    {
     "name": "stdout",
     "output_type": "stream",
     "text": [
      "\n",
      "      Epoch    GPU_mem   box_loss   seg_loss   cls_loss   dfl_loss  Instances       Size\n"
     ]
    },
    {
     "name": "stderr",
     "output_type": "stream",
     "text": [
      "     85/100      11.3G     0.4673     0.8761     0.2965     0.8237        586        640: 100%|██████████| 250/250 [04:19<00:00,  1.04s/it]\n",
      "                 Class     Images  Instances      Box(P          R      mAP50  mAP50-95)     Mask(P          R      mAP50  mAP50-95): 100%|██████████| 32/32 [00:16<00:00,  1.91it/s]"
     ]
    },
    {
     "name": "stdout",
     "output_type": "stream",
     "text": [
      "                   all       1000      13487      0.969      0.948      0.977      0.859      0.953      0.932      0.957      0.573\n"
     ]
    },
    {
     "name": "stderr",
     "output_type": "stream",
     "text": [
      "\n"
     ]
    },
    {
     "name": "stdout",
     "output_type": "stream",
     "text": [
      "\n",
      "      Epoch    GPU_mem   box_loss   seg_loss   cls_loss   dfl_loss  Instances       Size\n"
     ]
    },
    {
     "name": "stderr",
     "output_type": "stream",
     "text": [
      "     86/100      11.4G     0.4613     0.8601      0.296      0.823        616        640: 100%|██████████| 250/250 [04:17<00:00,  1.03s/it]\n",
      "                 Class     Images  Instances      Box(P          R      mAP50  mAP50-95)     Mask(P          R      mAP50  mAP50-95): 100%|██████████| 32/32 [00:16<00:00,  1.93it/s]"
     ]
    },
    {
     "name": "stdout",
     "output_type": "stream",
     "text": [
      "                   all       1000      13487      0.972      0.946      0.979      0.861      0.958       0.93       0.96      0.578\n"
     ]
    },
    {
     "name": "stderr",
     "output_type": "stream",
     "text": [
      "\n"
     ]
    },
    {
     "name": "stdout",
     "output_type": "stream",
     "text": [
      "\n",
      "      Epoch    GPU_mem   box_loss   seg_loss   cls_loss   dfl_loss  Instances       Size\n"
     ]
    },
    {
     "name": "stderr",
     "output_type": "stream",
     "text": [
      "     87/100      11.6G     0.4582     0.8722     0.2926     0.8227        430        640: 100%|██████████| 250/250 [04:17<00:00,  1.03s/it]\n",
      "                 Class     Images  Instances      Box(P          R      mAP50  mAP50-95)     Mask(P          R      mAP50  mAP50-95): 100%|██████████| 32/32 [00:16<00:00,  1.98it/s]"
     ]
    },
    {
     "name": "stdout",
     "output_type": "stream",
     "text": [
      "                   all       1000      13487      0.972      0.946      0.978      0.862      0.957       0.93       0.96      0.584\n"
     ]
    },
    {
     "name": "stderr",
     "output_type": "stream",
     "text": [
      "\n"
     ]
    },
    {
     "name": "stdout",
     "output_type": "stream",
     "text": [
      "\n",
      "      Epoch    GPU_mem   box_loss   seg_loss   cls_loss   dfl_loss  Instances       Size\n"
     ]
    },
    {
     "name": "stderr",
     "output_type": "stream",
     "text": [
      "     88/100      11.4G     0.4652     0.8741     0.2967     0.8221        429        640: 100%|██████████| 250/250 [04:20<00:00,  1.04s/it]\n",
      "                 Class     Images  Instances      Box(P          R      mAP50  mAP50-95)     Mask(P          R      mAP50  mAP50-95): 100%|██████████| 32/32 [00:16<00:00,  1.91it/s]"
     ]
    },
    {
     "name": "stdout",
     "output_type": "stream",
     "text": [
      "                   all       1000      13487      0.972      0.945      0.977       0.86      0.956       0.93      0.958      0.576\n"
     ]
    },
    {
     "name": "stderr",
     "output_type": "stream",
     "text": [
      "\n"
     ]
    },
    {
     "name": "stdout",
     "output_type": "stream",
     "text": [
      "\n",
      "      Epoch    GPU_mem   box_loss   seg_loss   cls_loss   dfl_loss  Instances       Size\n"
     ]
    },
    {
     "name": "stderr",
     "output_type": "stream",
     "text": [
      "     89/100      11.6G     0.4555     0.8696     0.2895     0.8187        515        640: 100%|██████████| 250/250 [04:18<00:00,  1.04s/it]\n",
      "                 Class     Images  Instances      Box(P          R      mAP50  mAP50-95)     Mask(P          R      mAP50  mAP50-95): 100%|██████████| 32/32 [00:15<00:00,  2.03it/s]"
     ]
    },
    {
     "name": "stdout",
     "output_type": "stream",
     "text": [
      "                   all       1000      13487      0.972      0.946      0.978      0.862      0.958      0.931      0.961      0.584\n"
     ]
    },
    {
     "name": "stderr",
     "output_type": "stream",
     "text": [
      "\n"
     ]
    },
    {
     "name": "stdout",
     "output_type": "stream",
     "text": [
      "\n",
      "      Epoch    GPU_mem   box_loss   seg_loss   cls_loss   dfl_loss  Instances       Size\n"
     ]
    },
    {
     "name": "stderr",
     "output_type": "stream",
     "text": [
      "     90/100      11.5G     0.4581     0.8724       0.29     0.8205        645        640: 100%|██████████| 250/250 [04:20<00:00,  1.04s/it]\n",
      "                 Class     Images  Instances      Box(P          R      mAP50  mAP50-95)     Mask(P          R      mAP50  mAP50-95): 100%|██████████| 32/32 [00:16<00:00,  1.93it/s]"
     ]
    },
    {
     "name": "stdout",
     "output_type": "stream",
     "text": [
      "                   all       1000      13487      0.972      0.945      0.977      0.861      0.957       0.93      0.959      0.579\n"
     ]
    },
    {
     "name": "stderr",
     "output_type": "stream",
     "text": [
      "\n"
     ]
    },
    {
     "name": "stdout",
     "output_type": "stream",
     "text": [
      "Closing dataloader mosaic\n",
      "\u001b[34m\u001b[1malbumentations: \u001b[0mBlur(p=0.01, blur_limit=(3, 7)), MedianBlur(p=0.01, blur_limit=(3, 7)), ToGray(p=0.01, num_output_channels=3, method='weighted_average'), CLAHE(p=0.01, clip_limit=(1, 4.0), tile_grid_size=(8, 8))\n"
     ]
    },
    {
     "name": "stderr",
     "output_type": "stream",
     "text": [
      "/opt/conda/lib/python3.10/multiprocessing/popen_fork.py:66: RuntimeWarning: os.fork() was called. os.fork() is incompatible with multithreaded code, and JAX is multithreaded, so this will likely lead to a deadlock.\n",
      "  self.pid = os.fork()\n",
      "/opt/conda/lib/python3.10/multiprocessing/popen_fork.py:66: RuntimeWarning: os.fork() was called. os.fork() is incompatible with multithreaded code, and JAX is multithreaded, so this will likely lead to a deadlock.\n",
      "  self.pid = os.fork()\n"
     ]
    },
    {
     "name": "stdout",
     "output_type": "stream",
     "text": [
      "\n",
      "      Epoch    GPU_mem   box_loss   seg_loss   cls_loss   dfl_loss  Instances       Size\n"
     ]
    },
    {
     "name": "stderr",
     "output_type": "stream",
     "text": [
      "     91/100      10.5G     0.5671     0.7364     0.3056     0.7876        219        640: 100%|██████████| 250/250 [03:28<00:00,  1.20it/s]\n",
      "                 Class     Images  Instances      Box(P          R      mAP50  mAP50-95)     Mask(P          R      mAP50  mAP50-95): 100%|██████████| 32/32 [00:15<00:00,  2.02it/s]"
     ]
    },
    {
     "name": "stdout",
     "output_type": "stream",
     "text": [
      "                   all       1000      13487      0.964      0.943      0.975      0.857      0.946      0.923      0.951      0.572\n"
     ]
    },
    {
     "name": "stderr",
     "output_type": "stream",
     "text": [
      "\n"
     ]
    },
    {
     "name": "stdout",
     "output_type": "stream",
     "text": [
      "\n",
      "      Epoch    GPU_mem   box_loss   seg_loss   cls_loss   dfl_loss  Instances       Size\n"
     ]
    },
    {
     "name": "stderr",
     "output_type": "stream",
     "text": [
      "     92/100      10.3G     0.5492     0.7096      0.294     0.7822        212        640: 100%|██████████| 250/250 [03:27<00:00,  1.21it/s]\n",
      "                 Class     Images  Instances      Box(P          R      mAP50  mAP50-95)     Mask(P          R      mAP50  mAP50-95): 100%|██████████| 32/32 [00:16<00:00,  1.97it/s]"
     ]
    },
    {
     "name": "stdout",
     "output_type": "stream",
     "text": [
      "                   all       1000      13487      0.969      0.942      0.977      0.862       0.95      0.923      0.953      0.572\n"
     ]
    },
    {
     "name": "stderr",
     "output_type": "stream",
     "text": [
      "\n"
     ]
    },
    {
     "name": "stdout",
     "output_type": "stream",
     "text": [
      "\n",
      "      Epoch    GPU_mem   box_loss   seg_loss   cls_loss   dfl_loss  Instances       Size\n"
     ]
    },
    {
     "name": "stderr",
     "output_type": "stream",
     "text": [
      "     93/100      10.6G     0.5503     0.7057     0.2928     0.7795        270        640: 100%|██████████| 250/250 [03:27<00:00,  1.20it/s]\n",
      "                 Class     Images  Instances      Box(P          R      mAP50  mAP50-95)     Mask(P          R      mAP50  mAP50-95): 100%|██████████| 32/32 [00:16<00:00,  1.97it/s]"
     ]
    },
    {
     "name": "stdout",
     "output_type": "stream",
     "text": [
      "                   all       1000      13487      0.969      0.947      0.978      0.861       0.95      0.927      0.954      0.575\n"
     ]
    },
    {
     "name": "stderr",
     "output_type": "stream",
     "text": [
      "\n"
     ]
    },
    {
     "name": "stdout",
     "output_type": "stream",
     "text": [
      "\n",
      "      Epoch    GPU_mem   box_loss   seg_loss   cls_loss   dfl_loss  Instances       Size\n"
     ]
    },
    {
     "name": "stderr",
     "output_type": "stream",
     "text": [
      "     94/100      10.5G     0.5463     0.7121     0.2946     0.7785        276        640: 100%|██████████| 250/250 [03:27<00:00,  1.20it/s]\n",
      "                 Class     Images  Instances      Box(P          R      mAP50  mAP50-95)     Mask(P          R      mAP50  mAP50-95): 100%|██████████| 32/32 [00:16<00:00,  1.97it/s]\n"
     ]
    },
    {
     "name": "stdout",
     "output_type": "stream",
     "text": [
      "                   all       1000      13487      0.969      0.946      0.976      0.862       0.95      0.926      0.953      0.575\n",
      "\n",
      "      Epoch    GPU_mem   box_loss   seg_loss   cls_loss   dfl_loss  Instances       Size\n"
     ]
    },
    {
     "name": "stderr",
     "output_type": "stream",
     "text": [
      "     95/100      10.3G     0.5451     0.7164     0.2899     0.7802        186        640: 100%|██████████| 250/250 [03:27<00:00,  1.20it/s]\n",
      "                 Class     Images  Instances      Box(P          R      mAP50  mAP50-95)     Mask(P          R      mAP50  mAP50-95): 100%|██████████| 32/32 [00:16<00:00,  1.96it/s]"
     ]
    },
    {
     "name": "stdout",
     "output_type": "stream",
     "text": [
      "                   all       1000      13487      0.969      0.943      0.977      0.862       0.95      0.924      0.953      0.575\n"
     ]
    },
    {
     "name": "stderr",
     "output_type": "stream",
     "text": [
      "\n"
     ]
    },
    {
     "name": "stdout",
     "output_type": "stream",
     "text": [
      "\n",
      "      Epoch    GPU_mem   box_loss   seg_loss   cls_loss   dfl_loss  Instances       Size\n"
     ]
    },
    {
     "name": "stderr",
     "output_type": "stream",
     "text": [
      "     96/100      10.5G      0.538     0.7077     0.2872     0.7763        172        640: 100%|██████████| 250/250 [03:28<00:00,  1.20it/s]\n",
      "                 Class     Images  Instances      Box(P          R      mAP50  mAP50-95)     Mask(P          R      mAP50  mAP50-95): 100%|██████████| 32/32 [00:16<00:00,  1.97it/s]\n"
     ]
    },
    {
     "name": "stdout",
     "output_type": "stream",
     "text": [
      "                   all       1000      13487      0.971      0.942      0.977      0.863      0.952      0.923      0.954      0.578\n",
      "\n",
      "      Epoch    GPU_mem   box_loss   seg_loss   cls_loss   dfl_loss  Instances       Size\n"
     ]
    },
    {
     "name": "stderr",
     "output_type": "stream",
     "text": [
      "     97/100      10.4G     0.5384     0.6999     0.2891     0.7804        312        640: 100%|██████████| 250/250 [03:27<00:00,  1.20it/s]\n",
      "                 Class     Images  Instances      Box(P          R      mAP50  mAP50-95)     Mask(P          R      mAP50  mAP50-95): 100%|██████████| 32/32 [00:16<00:00,  1.95it/s]"
     ]
    },
    {
     "name": "stdout",
     "output_type": "stream",
     "text": [
      "                   all       1000      13487      0.969       0.94      0.977      0.864      0.951      0.923      0.955      0.578\n"
     ]
    },
    {
     "name": "stderr",
     "output_type": "stream",
     "text": [
      "\n"
     ]
    },
    {
     "name": "stdout",
     "output_type": "stream",
     "text": [
      "\n",
      "      Epoch    GPU_mem   box_loss   seg_loss   cls_loss   dfl_loss  Instances       Size\n"
     ]
    },
    {
     "name": "stderr",
     "output_type": "stream",
     "text": [
      "     98/100      10.5G     0.5424     0.7051      0.287     0.7766        231        640: 100%|██████████| 250/250 [03:27<00:00,  1.20it/s]\n",
      "                 Class     Images  Instances      Box(P          R      mAP50  mAP50-95)     Mask(P          R      mAP50  mAP50-95): 100%|██████████| 32/32 [00:16<00:00,  1.93it/s]"
     ]
    },
    {
     "name": "stdout",
     "output_type": "stream",
     "text": [
      "                   all       1000      13487      0.972      0.945      0.978      0.865      0.953      0.926      0.953      0.576\n"
     ]
    },
    {
     "name": "stderr",
     "output_type": "stream",
     "text": [
      "\n"
     ]
    },
    {
     "name": "stdout",
     "output_type": "stream",
     "text": [
      "\n",
      "      Epoch    GPU_mem   box_loss   seg_loss   cls_loss   dfl_loss  Instances       Size\n"
     ]
    },
    {
     "name": "stderr",
     "output_type": "stream",
     "text": [
      "     99/100      10.4G     0.5338     0.6962      0.284     0.7775        215        640: 100%|██████████| 250/250 [03:27<00:00,  1.21it/s]\n",
      "                 Class     Images  Instances      Box(P          R      mAP50  mAP50-95)     Mask(P          R      mAP50  mAP50-95): 100%|██████████| 32/32 [00:16<00:00,  1.94it/s]"
     ]
    },
    {
     "name": "stdout",
     "output_type": "stream",
     "text": [
      "                   all       1000      13487      0.972      0.945      0.978      0.866      0.953      0.926      0.955      0.582\n"
     ]
    },
    {
     "name": "stderr",
     "output_type": "stream",
     "text": [
      "\n"
     ]
    },
    {
     "name": "stdout",
     "output_type": "stream",
     "text": [
      "\n",
      "      Epoch    GPU_mem   box_loss   seg_loss   cls_loss   dfl_loss  Instances       Size\n"
     ]
    },
    {
     "name": "stderr",
     "output_type": "stream",
     "text": [
      "    100/100      10.6G     0.5218     0.7022     0.2822     0.7806        178        640: 100%|██████████| 250/250 [03:27<00:00,  1.20it/s]\n",
      "                 Class     Images  Instances      Box(P          R      mAP50  mAP50-95)     Mask(P          R      mAP50  mAP50-95): 100%|██████████| 32/32 [00:16<00:00,  1.95it/s]"
     ]
    },
    {
     "name": "stdout",
     "output_type": "stream",
     "text": [
      "                   all       1000      13487      0.971      0.945      0.978      0.866      0.954      0.927      0.956      0.579\n"
     ]
    },
    {
     "name": "stderr",
     "output_type": "stream",
     "text": [
      "\n"
     ]
    },
    {
     "name": "stdout",
     "output_type": "stream",
     "text": [
      "\n",
      "100 epochs completed in 7.340 hours.\n",
      "Optimizer stripped from runs/segment/train/weights/last.pt, 45.1MB\n",
      "Optimizer stripped from runs/segment/train/weights/best.pt, 45.1MB\n",
      "\n",
      "Validating runs/segment/train/weights/best.pt...\n",
      "Ultralytics 8.3.39 🚀 Python-3.10.14 torch-2.4.0 CUDA:0 (Tesla T4, 15095MiB)\n",
      "YOLO11m-seg summary (fused): 330 layers, 22,336,083 parameters, 0 gradients, 123.0 GFLOPs\n"
     ]
    },
    {
     "name": "stderr",
     "output_type": "stream",
     "text": [
      "                 Class     Images  Instances      Box(P          R      mAP50  mAP50-95)     Mask(P          R      mAP50  mAP50-95): 100%|██████████| 32/32 [00:17<00:00,  1.85it/s]\n"
     ]
    },
    {
     "name": "stdout",
     "output_type": "stream",
     "text": [
      "                   all       1000      13487      0.971      0.945      0.978      0.866      0.953      0.926      0.955      0.582\n",
      "Speed: 0.1ms preprocess, 8.5ms inference, 0.0ms loss, 0.9ms postprocess per image\n",
      "Results saved to \u001b[1mruns/segment/train\u001b[0m\n"
     ]
    },
    {
     "data": {
      "text/plain": [
       "ultralytics.utils.metrics.SegmentMetrics object with attributes:\n",
       "\n",
       "ap_class_index: array([0])\n",
       "box: ultralytics.utils.metrics.Metric object\n",
       "confusion_matrix: <ultralytics.utils.metrics.ConfusionMatrix object at 0x79918b4e5570>\n",
       "curves: ['Precision-Recall(B)', 'F1-Confidence(B)', 'Precision-Confidence(B)', 'Recall-Confidence(B)', 'Precision-Recall(M)', 'F1-Confidence(M)', 'Precision-Confidence(M)', 'Recall-Confidence(M)']\n",
       "curves_results: [[array([          0,    0.001001,    0.002002,    0.003003,    0.004004,    0.005005,    0.006006,    0.007007,    0.008008,    0.009009,     0.01001,    0.011011,    0.012012,    0.013013,    0.014014,    0.015015,    0.016016,    0.017017,    0.018018,    0.019019,     0.02002,    0.021021,    0.022022,    0.023023,\n",
       "          0.024024,    0.025025,    0.026026,    0.027027,    0.028028,    0.029029,     0.03003,    0.031031,    0.032032,    0.033033,    0.034034,    0.035035,    0.036036,    0.037037,    0.038038,    0.039039,     0.04004,    0.041041,    0.042042,    0.043043,    0.044044,    0.045045,    0.046046,    0.047047,\n",
       "          0.048048,    0.049049,     0.05005,    0.051051,    0.052052,    0.053053,    0.054054,    0.055055,    0.056056,    0.057057,    0.058058,    0.059059,     0.06006,    0.061061,    0.062062,    0.063063,    0.064064,    0.065065,    0.066066,    0.067067,    0.068068,    0.069069,     0.07007,    0.071071,\n",
       "          0.072072,    0.073073,    0.074074,    0.075075,    0.076076,    0.077077,    0.078078,    0.079079,     0.08008,    0.081081,    0.082082,    0.083083,    0.084084,    0.085085,    0.086086,    0.087087,    0.088088,    0.089089,     0.09009,    0.091091,    0.092092,    0.093093,    0.094094,    0.095095,\n",
       "          0.096096,    0.097097,    0.098098,    0.099099,      0.1001,      0.1011,      0.1021,      0.1031,      0.1041,     0.10511,     0.10611,     0.10711,     0.10811,     0.10911,     0.11011,     0.11111,     0.11211,     0.11311,     0.11411,     0.11512,     0.11612,     0.11712,     0.11812,     0.11912,\n",
       "           0.12012,     0.12112,     0.12212,     0.12312,     0.12412,     0.12513,     0.12613,     0.12713,     0.12813,     0.12913,     0.13013,     0.13113,     0.13213,     0.13313,     0.13413,     0.13514,     0.13614,     0.13714,     0.13814,     0.13914,     0.14014,     0.14114,     0.14214,     0.14314,\n",
       "           0.14414,     0.14515,     0.14615,     0.14715,     0.14815,     0.14915,     0.15015,     0.15115,     0.15215,     0.15315,     0.15415,     0.15516,     0.15616,     0.15716,     0.15816,     0.15916,     0.16016,     0.16116,     0.16216,     0.16316,     0.16416,     0.16517,     0.16617,     0.16717,\n",
       "           0.16817,     0.16917,     0.17017,     0.17117,     0.17217,     0.17317,     0.17417,     0.17518,     0.17618,     0.17718,     0.17818,     0.17918,     0.18018,     0.18118,     0.18218,     0.18318,     0.18418,     0.18519,     0.18619,     0.18719,     0.18819,     0.18919,     0.19019,     0.19119,\n",
       "           0.19219,     0.19319,     0.19419,      0.1952,      0.1962,      0.1972,      0.1982,      0.1992,      0.2002,      0.2012,      0.2022,      0.2032,      0.2042,     0.20521,     0.20621,     0.20721,     0.20821,     0.20921,     0.21021,     0.21121,     0.21221,     0.21321,     0.21421,     0.21522,\n",
       "           0.21622,     0.21722,     0.21822,     0.21922,     0.22022,     0.22122,     0.22222,     0.22322,     0.22422,     0.22523,     0.22623,     0.22723,     0.22823,     0.22923,     0.23023,     0.23123,     0.23223,     0.23323,     0.23423,     0.23524,     0.23624,     0.23724,     0.23824,     0.23924,\n",
       "           0.24024,     0.24124,     0.24224,     0.24324,     0.24424,     0.24525,     0.24625,     0.24725,     0.24825,     0.24925,     0.25025,     0.25125,     0.25225,     0.25325,     0.25425,     0.25526,     0.25626,     0.25726,     0.25826,     0.25926,     0.26026,     0.26126,     0.26226,     0.26326,\n",
       "           0.26426,     0.26527,     0.26627,     0.26727,     0.26827,     0.26927,     0.27027,     0.27127,     0.27227,     0.27327,     0.27427,     0.27528,     0.27628,     0.27728,     0.27828,     0.27928,     0.28028,     0.28128,     0.28228,     0.28328,     0.28428,     0.28529,     0.28629,     0.28729,\n",
       "           0.28829,     0.28929,     0.29029,     0.29129,     0.29229,     0.29329,     0.29429,      0.2953,      0.2963,      0.2973,      0.2983,      0.2993,      0.3003,      0.3013,      0.3023,      0.3033,      0.3043,     0.30531,     0.30631,     0.30731,     0.30831,     0.30931,     0.31031,     0.31131,\n",
       "           0.31231,     0.31331,     0.31431,     0.31532,     0.31632,     0.31732,     0.31832,     0.31932,     0.32032,     0.32132,     0.32232,     0.32332,     0.32432,     0.32533,     0.32633,     0.32733,     0.32833,     0.32933,     0.33033,     0.33133,     0.33233,     0.33333,     0.33433,     0.33534,\n",
       "           0.33634,     0.33734,     0.33834,     0.33934,     0.34034,     0.34134,     0.34234,     0.34334,     0.34434,     0.34535,     0.34635,     0.34735,     0.34835,     0.34935,     0.35035,     0.35135,     0.35235,     0.35335,     0.35435,     0.35536,     0.35636,     0.35736,     0.35836,     0.35936,\n",
       "           0.36036,     0.36136,     0.36236,     0.36336,     0.36436,     0.36537,     0.36637,     0.36737,     0.36837,     0.36937,     0.37037,     0.37137,     0.37237,     0.37337,     0.37437,     0.37538,     0.37638,     0.37738,     0.37838,     0.37938,     0.38038,     0.38138,     0.38238,     0.38338,\n",
       "           0.38438,     0.38539,     0.38639,     0.38739,     0.38839,     0.38939,     0.39039,     0.39139,     0.39239,     0.39339,     0.39439,      0.3954,      0.3964,      0.3974,      0.3984,      0.3994,      0.4004,      0.4014,      0.4024,      0.4034,      0.4044,     0.40541,     0.40641,     0.40741,\n",
       "           0.40841,     0.40941,     0.41041,     0.41141,     0.41241,     0.41341,     0.41441,     0.41542,     0.41642,     0.41742,     0.41842,     0.41942,     0.42042,     0.42142,     0.42242,     0.42342,     0.42442,     0.42543,     0.42643,     0.42743,     0.42843,     0.42943,     0.43043,     0.43143,\n",
       "           0.43243,     0.43343,     0.43443,     0.43544,     0.43644,     0.43744,     0.43844,     0.43944,     0.44044,     0.44144,     0.44244,     0.44344,     0.44444,     0.44545,     0.44645,     0.44745,     0.44845,     0.44945,     0.45045,     0.45145,     0.45245,     0.45345,     0.45445,     0.45546,\n",
       "           0.45646,     0.45746,     0.45846,     0.45946,     0.46046,     0.46146,     0.46246,     0.46346,     0.46446,     0.46547,     0.46647,     0.46747,     0.46847,     0.46947,     0.47047,     0.47147,     0.47247,     0.47347,     0.47447,     0.47548,     0.47648,     0.47748,     0.47848,     0.47948,\n",
       "           0.48048,     0.48148,     0.48248,     0.48348,     0.48448,     0.48549,     0.48649,     0.48749,     0.48849,     0.48949,     0.49049,     0.49149,     0.49249,     0.49349,     0.49449,      0.4955,      0.4965,      0.4975,      0.4985,      0.4995,      0.5005,      0.5015,      0.5025,      0.5035,\n",
       "            0.5045,     0.50551,     0.50651,     0.50751,     0.50851,     0.50951,     0.51051,     0.51151,     0.51251,     0.51351,     0.51451,     0.51552,     0.51652,     0.51752,     0.51852,     0.51952,     0.52052,     0.52152,     0.52252,     0.52352,     0.52452,     0.52553,     0.52653,     0.52753,\n",
       "           0.52853,     0.52953,     0.53053,     0.53153,     0.53253,     0.53353,     0.53453,     0.53554,     0.53654,     0.53754,     0.53854,     0.53954,     0.54054,     0.54154,     0.54254,     0.54354,     0.54454,     0.54555,     0.54655,     0.54755,     0.54855,     0.54955,     0.55055,     0.55155,\n",
       "           0.55255,     0.55355,     0.55455,     0.55556,     0.55656,     0.55756,     0.55856,     0.55956,     0.56056,     0.56156,     0.56256,     0.56356,     0.56456,     0.56557,     0.56657,     0.56757,     0.56857,     0.56957,     0.57057,     0.57157,     0.57257,     0.57357,     0.57457,     0.57558,\n",
       "           0.57658,     0.57758,     0.57858,     0.57958,     0.58058,     0.58158,     0.58258,     0.58358,     0.58458,     0.58559,     0.58659,     0.58759,     0.58859,     0.58959,     0.59059,     0.59159,     0.59259,     0.59359,     0.59459,      0.5956,      0.5966,      0.5976,      0.5986,      0.5996,\n",
       "            0.6006,      0.6016,      0.6026,      0.6036,      0.6046,     0.60561,     0.60661,     0.60761,     0.60861,     0.60961,     0.61061,     0.61161,     0.61261,     0.61361,     0.61461,     0.61562,     0.61662,     0.61762,     0.61862,     0.61962,     0.62062,     0.62162,     0.62262,     0.62362,\n",
       "           0.62462,     0.62563,     0.62663,     0.62763,     0.62863,     0.62963,     0.63063,     0.63163,     0.63263,     0.63363,     0.63463,     0.63564,     0.63664,     0.63764,     0.63864,     0.63964,     0.64064,     0.64164,     0.64264,     0.64364,     0.64464,     0.64565,     0.64665,     0.64765,\n",
       "           0.64865,     0.64965,     0.65065,     0.65165,     0.65265,     0.65365,     0.65465,     0.65566,     0.65666,     0.65766,     0.65866,     0.65966,     0.66066,     0.66166,     0.66266,     0.66366,     0.66466,     0.66567,     0.66667,     0.66767,     0.66867,     0.66967,     0.67067,     0.67167,\n",
       "           0.67267,     0.67367,     0.67467,     0.67568,     0.67668,     0.67768,     0.67868,     0.67968,     0.68068,     0.68168,     0.68268,     0.68368,     0.68468,     0.68569,     0.68669,     0.68769,     0.68869,     0.68969,     0.69069,     0.69169,     0.69269,     0.69369,     0.69469,      0.6957,\n",
       "            0.6967,      0.6977,      0.6987,      0.6997,      0.7007,      0.7017,      0.7027,      0.7037,      0.7047,     0.70571,     0.70671,     0.70771,     0.70871,     0.70971,     0.71071,     0.71171,     0.71271,     0.71371,     0.71471,     0.71572,     0.71672,     0.71772,     0.71872,     0.71972,\n",
       "           0.72072,     0.72172,     0.72272,     0.72372,     0.72472,     0.72573,     0.72673,     0.72773,     0.72873,     0.72973,     0.73073,     0.73173,     0.73273,     0.73373,     0.73473,     0.73574,     0.73674,     0.73774,     0.73874,     0.73974,     0.74074,     0.74174,     0.74274,     0.74374,\n",
       "           0.74474,     0.74575,     0.74675,     0.74775,     0.74875,     0.74975,     0.75075,     0.75175,     0.75275,     0.75375,     0.75475,     0.75576,     0.75676,     0.75776,     0.75876,     0.75976,     0.76076,     0.76176,     0.76276,     0.76376,     0.76476,     0.76577,     0.76677,     0.76777,\n",
       "           0.76877,     0.76977,     0.77077,     0.77177,     0.77277,     0.77377,     0.77477,     0.77578,     0.77678,     0.77778,     0.77878,     0.77978,     0.78078,     0.78178,     0.78278,     0.78378,     0.78478,     0.78579,     0.78679,     0.78779,     0.78879,     0.78979,     0.79079,     0.79179,\n",
       "           0.79279,     0.79379,     0.79479,      0.7958,      0.7968,      0.7978,      0.7988,      0.7998,      0.8008,      0.8018,      0.8028,      0.8038,      0.8048,     0.80581,     0.80681,     0.80781,     0.80881,     0.80981,     0.81081,     0.81181,     0.81281,     0.81381,     0.81481,     0.81582,\n",
       "           0.81682,     0.81782,     0.81882,     0.81982,     0.82082,     0.82182,     0.82282,     0.82382,     0.82482,     0.82583,     0.82683,     0.82783,     0.82883,     0.82983,     0.83083,     0.83183,     0.83283,     0.83383,     0.83483,     0.83584,     0.83684,     0.83784,     0.83884,     0.83984,\n",
       "           0.84084,     0.84184,     0.84284,     0.84384,     0.84484,     0.84585,     0.84685,     0.84785,     0.84885,     0.84985,     0.85085,     0.85185,     0.85285,     0.85385,     0.85485,     0.85586,     0.85686,     0.85786,     0.85886,     0.85986,     0.86086,     0.86186,     0.86286,     0.86386,\n",
       "           0.86486,     0.86587,     0.86687,     0.86787,     0.86887,     0.86987,     0.87087,     0.87187,     0.87287,     0.87387,     0.87487,     0.87588,     0.87688,     0.87788,     0.87888,     0.87988,     0.88088,     0.88188,     0.88288,     0.88388,     0.88488,     0.88589,     0.88689,     0.88789,\n",
       "           0.88889,     0.88989,     0.89089,     0.89189,     0.89289,     0.89389,     0.89489,      0.8959,      0.8969,      0.8979,      0.8989,      0.8999,      0.9009,      0.9019,      0.9029,      0.9039,      0.9049,     0.90591,     0.90691,     0.90791,     0.90891,     0.90991,     0.91091,     0.91191,\n",
       "           0.91291,     0.91391,     0.91491,     0.91592,     0.91692,     0.91792,     0.91892,     0.91992,     0.92092,     0.92192,     0.92292,     0.92392,     0.92492,     0.92593,     0.92693,     0.92793,     0.92893,     0.92993,     0.93093,     0.93193,     0.93293,     0.93393,     0.93493,     0.93594,\n",
       "           0.93694,     0.93794,     0.93894,     0.93994,     0.94094,     0.94194,     0.94294,     0.94394,     0.94494,     0.94595,     0.94695,     0.94795,     0.94895,     0.94995,     0.95095,     0.95195,     0.95295,     0.95395,     0.95495,     0.95596,     0.95696,     0.95796,     0.95896,     0.95996,\n",
       "           0.96096,     0.96196,     0.96296,     0.96396,     0.96496,     0.96597,     0.96697,     0.96797,     0.96897,     0.96997,     0.97097,     0.97197,     0.97297,     0.97397,     0.97497,     0.97598,     0.97698,     0.97798,     0.97898,     0.97998,     0.98098,     0.98198,     0.98298,     0.98398,\n",
       "           0.98498,     0.98599,     0.98699,     0.98799,     0.98899,     0.98999,     0.99099,     0.99199,     0.99299,     0.99399,     0.99499,       0.996,       0.997,       0.998,       0.999,           1]), array([[          1,           1,           1,           1,           1,           1,     0.99928,     0.99928,     0.99928,     0.99928,     0.99928,     0.99928,     0.99928,     0.99928,     0.99928,     0.99928,     0.99928,     0.99928,     0.99928,     0.99928,     0.99928,     0.99928,     0.99928,\n",
       "            0.99928,     0.99928,     0.99928,     0.99928,     0.99928,     0.99928,     0.99928,     0.99928,     0.99928,     0.99928,     0.99928,     0.99928,     0.99928,     0.99928,     0.99928,     0.99928,     0.99928,     0.99928,     0.99928,     0.99928,     0.99928,     0.99928,     0.99928,\n",
       "            0.99928,     0.99928,     0.99928,     0.99928,     0.99928,     0.99928,     0.99928,     0.99928,     0.99928,     0.99928,     0.99928,     0.99928,     0.99928,     0.99928,     0.99928,     0.99928,     0.99928,     0.99928,     0.99928,     0.99928,     0.99928,     0.99928,     0.99928,\n",
       "            0.99928,     0.99928,     0.99928,     0.99928,     0.99928,     0.99928,     0.99928,     0.99928,     0.99928,     0.99928,     0.99928,     0.99928,     0.99928,     0.99928,     0.99928,     0.99928,     0.99928,     0.99928,     0.99928,     0.99928,     0.99928,     0.99928,     0.99928,\n",
       "            0.99928,     0.99928,     0.99928,     0.99928,     0.99928,     0.99928,     0.99928,     0.99928,     0.99928,     0.99928,     0.99928,     0.99928,     0.99928,     0.99928,     0.99928,     0.99928,     0.99928,     0.99928,     0.99928,     0.99928,     0.99928,     0.99928,     0.99928,\n",
       "            0.99928,     0.99928,     0.99928,     0.99928,     0.99928,     0.99928,     0.99928,     0.99928,     0.99928,     0.99928,     0.99928,     0.99928,     0.99928,     0.99928,     0.99928,     0.99928,     0.99928,     0.99928,     0.99928,     0.99928,     0.99928,     0.99928,     0.99928,\n",
       "            0.99928,     0.99928,     0.99928,     0.99928,     0.99928,     0.99928,     0.99928,     0.99928,     0.99928,     0.99928,     0.99928,     0.99928,     0.99928,     0.99928,     0.99928,     0.99928,     0.99928,     0.99928,     0.99928,     0.99928,     0.99928,     0.99928,     0.99928,\n",
       "            0.99928,     0.99928,     0.99928,     0.99928,     0.99928,     0.99928,     0.99928,     0.99928,     0.99928,     0.99928,     0.99928,     0.99928,     0.99928,     0.99928,     0.99928,     0.99928,     0.99928,     0.99928,     0.99928,     0.99928,     0.99928,     0.99928,     0.99928,\n",
       "            0.99928,     0.99928,     0.99928,     0.99928,     0.99928,     0.99928,     0.99928,     0.99928,     0.99928,     0.99928,     0.99928,     0.99928,     0.99928,     0.99928,     0.99928,     0.99928,     0.99928,     0.99928,     0.99928,     0.99928,     0.99928,     0.99903,     0.99903,\n",
       "            0.99903,     0.99903,     0.99903,     0.99903,     0.99903,     0.99903,     0.99903,     0.99903,     0.99903,     0.99903,     0.99903,     0.99903,     0.99903,     0.99903,     0.99903,     0.99903,     0.99903,     0.99903,     0.99903,     0.99903,     0.99903,     0.99903,      0.9988,\n",
       "             0.9988,      0.9988,      0.9988,      0.9988,      0.9988,      0.9988,      0.9988,      0.9988,      0.9988,      0.9988,      0.9988,      0.9988,      0.9988,      0.9988,      0.9988,      0.9988,      0.9988,     0.99874,     0.99874,     0.99874,     0.99874,     0.99874,     0.99874,\n",
       "            0.99874,     0.99874,     0.99874,     0.99874,     0.99874,     0.99874,     0.99874,     0.99874,     0.99874,     0.99874,     0.99874,     0.99874,     0.99874,     0.99874,     0.99874,     0.99874,     0.99874,     0.99874,     0.99874,     0.99874,     0.99874,     0.99874,     0.99874,\n",
       "            0.99874,     0.99874,     0.99874,     0.99874,     0.99874,     0.99874,     0.99874,     0.99874,     0.99874,     0.99874,     0.99874,     0.99874,     0.99874,     0.99874,     0.99874,     0.99874,     0.99874,     0.99874,     0.99874,     0.99874,     0.99874,     0.99874,     0.99874,\n",
       "            0.99874,     0.99874,     0.99874,     0.99874,     0.99874,     0.99874,     0.99874,     0.99874,     0.99874,     0.99874,     0.99874,     0.99874,     0.99874,     0.99874,     0.99874,     0.99874,     0.99874,     0.99874,     0.99874,     0.99874,     0.99874,     0.99874,     0.99874,\n",
       "            0.99874,     0.99874,     0.99874,     0.99874,     0.99874,     0.99874,     0.99874,     0.99874,     0.99874,     0.99874,     0.99874,     0.99874,     0.99874,     0.99874,     0.99874,     0.99874,     0.99874,     0.99874,     0.99874,     0.99874,     0.99874,     0.99874,     0.99874,\n",
       "            0.99874,     0.99874,     0.99874,     0.99874,     0.99874,     0.99874,     0.99874,      0.9987,      0.9987,      0.9987,      0.9987,      0.9987,      0.9987,      0.9987,      0.9987,      0.9987,      0.9987,      0.9987,      0.9987,      0.9987,      0.9987,      0.9987,      0.9987,\n",
       "             0.9987,      0.9987,      0.9987,      0.9987,      0.9987,      0.9987,      0.9987,      0.9987,      0.9987,      0.9987,      0.9987,      0.9987,      0.9987,      0.9987,      0.9987,      0.9987,      0.9987,      0.9987,      0.9987,      0.9987,      0.9987,      0.9987,      0.9987,\n",
       "             0.9987,      0.9987,      0.9987,      0.9987,      0.9987,      0.9987,      0.9987,      0.9987,      0.9987,     0.99857,     0.99857,     0.99857,     0.99857,     0.99857,     0.99857,     0.99857,     0.99857,     0.99857,     0.99857,     0.99857,     0.99857,     0.99857,     0.99839,\n",
       "             0.9983,      0.9983,      0.9983,      0.9983,      0.9983,      0.9983,      0.9983,      0.9983,      0.9983,      0.9983,      0.9983,      0.9983,      0.9983,      0.9983,      0.9983,      0.9983,      0.9983,      0.9983,      0.9983,      0.9983,      0.9983,      0.9983,     0.99814,\n",
       "            0.99814,     0.99806,     0.99806,     0.99806,     0.99806,     0.99806,     0.99806,     0.99806,     0.99806,     0.99806,     0.99806,     0.99806,     0.99806,     0.99806,     0.99806,     0.99806,     0.99806,     0.99806,     0.99806,     0.99806,     0.99795,     0.99795,     0.99795,\n",
       "            0.99795,     0.99795,     0.99795,     0.99795,     0.99795,     0.99795,     0.99795,     0.99795,     0.99795,     0.99788,     0.99788,     0.99788,     0.99788,     0.99788,     0.99788,     0.99788,     0.99788,     0.99788,     0.99788,     0.99788,     0.99788,     0.99788,     0.99788,\n",
       "            0.99788,     0.99788,     0.99788,     0.99788,     0.99788,     0.99788,     0.99779,     0.99779,     0.99779,     0.99779,     0.99779,     0.99779,     0.99779,     0.99779,     0.99779,     0.99779,     0.99779,     0.99779,     0.99779,     0.99767,     0.99767,     0.99767,     0.99767,\n",
       "            0.99767,     0.99761,     0.99761,     0.99761,     0.99761,     0.99761,     0.99761,     0.99761,     0.99761,     0.99761,     0.99761,     0.99761,     0.99761,     0.99761,     0.99761,     0.99761,     0.99761,     0.99761,     0.99761,     0.99761,     0.99761,     0.99748,     0.99748,\n",
       "            0.99735,     0.99709,     0.99709,     0.99709,     0.99696,     0.99687,     0.99687,     0.99687,     0.99687,     0.99687,     0.99687,     0.99687,     0.99687,     0.99673,     0.99637,     0.99637,     0.99637,     0.99637,     0.99637,     0.99637,     0.99637,     0.99625,     0.99612,\n",
       "            0.99574,     0.99574,     0.99574,     0.99566,     0.99566,     0.99566,     0.99566,     0.99566,     0.99566,     0.99553,     0.99529,     0.99529,      0.9952,      0.9952,      0.9952,      0.9952,     0.99507,     0.99497,     0.99497,     0.99497,     0.99487,     0.99487,     0.99487,\n",
       "            0.99477,     0.99477,     0.99477,     0.99466,     0.99466,     0.99454,      0.9943,     0.99406,     0.99406,     0.99397,     0.99397,     0.99385,     0.99362,     0.99362,      0.9935,     0.99327,     0.99291,     0.99268,     0.99257,     0.99237,     0.99237,     0.99237,     0.99237,\n",
       "            0.99226,     0.99215,     0.99181,     0.99158,     0.99147,     0.99126,     0.99126,     0.99103,     0.99093,     0.99057,     0.99036,     0.99032,     0.99032,     0.99032,     0.99032,     0.99032,     0.99022,     0.99011,     0.98989,     0.98983,     0.98983,     0.98983,     0.98983,\n",
       "            0.98964,     0.98964,     0.98943,     0.98932,     0.98906,     0.98906,     0.98906,     0.98906,     0.98906,     0.98906,     0.98906,     0.98906,     0.98906,     0.98906,     0.98906,     0.98906,     0.98906,     0.98906,     0.98906,     0.98906,     0.98906,     0.98906,     0.98906,\n",
       "            0.98906,     0.98906,     0.98906,     0.98906,     0.98906,     0.98906,     0.98906,     0.98906,     0.98906,     0.98906,     0.98906,     0.98906,     0.98906,     0.98906,     0.98906,     0.98906,     0.98906,     0.98906,     0.98906,     0.98898,     0.98898,     0.98898,     0.98898,\n",
       "            0.98898,     0.98898,     0.98898,     0.98898,     0.98898,     0.98895,     0.98895,     0.98895,     0.98895,     0.98895,     0.98895,     0.98895,     0.98895,     0.98895,     0.98895,     0.98895,     0.98895,     0.98895,     0.98895,     0.98895,     0.98895,     0.98895,     0.98895,\n",
       "            0.98887,     0.98868,     0.98868,     0.98862,     0.98862,     0.98852,      0.9885,      0.9885,      0.9885,      0.9885,      0.9885,      0.9885,      0.9885,      0.9885,      0.9885,      0.9885,      0.9885,      0.9885,      0.9885,      0.9885,      0.9885,      0.9885,      0.9885,\n",
       "             0.9885,      0.9885,      0.9885,      0.9885,      0.9885,      0.9885,      0.9885,      0.9885,      0.9885,      0.9885,      0.9885,      0.9885,      0.9885,      0.9885,      0.9885,      0.9885,      0.9885,      0.9885,      0.9885,      0.9885,      0.9885,      0.9885,      0.9885,\n",
       "             0.9885,      0.9885,      0.9885,      0.9885,      0.9885,      0.9885,      0.9885,      0.9885,      0.9885,      0.9885,      0.9885,      0.9885,      0.9885,      0.9885,      0.9885,      0.9885,      0.9885,      0.9885,      0.9885,      0.9885,      0.9885,      0.9885,      0.9885,\n",
       "             0.9885,      0.9885,      0.9885,      0.9885,      0.9885,      0.9885,      0.9885,      0.9885,      0.9885,      0.9885,      0.9885,      0.9885,     0.98843,     0.98843,      0.9884,      0.9884,      0.9884,      0.9884,      0.9884,      0.9884,      0.9884,      0.9884,      0.9884,\n",
       "             0.9884,     0.98834,     0.98834,     0.98832,     0.98832,     0.98832,     0.98832,     0.98832,     0.98832,     0.98832,     0.98832,     0.98832,     0.98832,     0.98832,     0.98832,     0.98832,     0.98832,     0.98832,     0.98832,     0.98832,     0.98832,     0.98832,     0.98832,\n",
       "            0.98832,     0.98832,     0.98832,     0.98832,     0.98832,     0.98832,     0.98832,     0.98832,     0.98832,     0.98832,     0.98832,     0.98832,     0.98832,     0.98832,     0.98832,     0.98832,     0.98832,     0.98832,     0.98832,     0.98832,     0.98832,     0.98832,     0.98832,\n",
       "            0.98832,     0.98832,     0.98832,     0.98832,     0.98832,     0.98832,     0.98823,     0.98823,     0.98823,     0.98823,     0.98823,     0.98823,     0.98823,     0.98823,     0.98823,     0.98823,     0.98823,     0.98823,     0.98823,     0.98823,     0.98823,     0.98823,     0.98823,\n",
       "            0.98823,     0.98823,     0.98823,     0.98823,     0.98823,     0.98823,     0.98823,     0.98823,     0.98818,     0.98818,     0.98818,     0.98815,     0.98815,     0.98815,     0.98807,     0.98801,     0.98793,      0.9878,      0.9878,     0.98772,     0.98768,     0.98768,     0.98768,\n",
       "            0.98763,     0.98763,     0.98761,     0.98761,     0.98761,     0.98761,     0.98754,     0.98748,     0.98748,     0.98734,     0.98727,     0.98723,     0.98723,     0.98723,     0.98716,     0.98694,     0.98694,      0.9868,     0.98665,     0.98658,     0.98654,     0.98654,     0.98646,\n",
       "            0.98632,     0.98627,     0.98627,     0.98607,     0.98607,     0.98601,     0.98601,     0.98571,     0.98566,     0.98566,      0.9856,     0.98554,     0.98547,     0.98534,      0.9852,      0.9852,     0.98498,     0.98492,     0.98454,      0.9844,     0.98403,     0.98389,     0.98375,\n",
       "            0.98347,       0.983,     0.98263,     0.98181,      0.9812,     0.98084,     0.98016,     0.97921,     0.97915,     0.97893,     0.97826,     0.97814,       0.978,     0.97735,     0.97707,     0.97664,     0.97644,     0.97578,      0.9752,     0.97494,     0.97444,     0.97386,     0.97322,\n",
       "            0.97265,      0.9715,     0.97086,     0.96971,     0.96827,     0.96625,     0.96389,     0.95774,     0.95245,     0.94633,     0.93831,     0.92937,     0.92509,     0.91728,     0.91385,     0.90868,     0.90545,     0.89976,     0.89267,     0.88468,     0.87726,     0.87285,     0.86761,\n",
       "            0.86331,     0.85713,     0.85079,     0.84722,     0.83884,     0.83555,     0.82717,      0.8245,     0.81535,     0.80804,     0.79653,     0.78949,     0.77831,     0.76505,     0.74806,     0.70968,      0.6493,     0.57126,     0.53556,     0.49986,     0.46415,     0.42845,     0.39274,\n",
       "            0.35704,     0.32134,     0.28563,     0.24993,     0.21422,     0.17852,     0.14282,     0.10711,    0.071408,    0.035704,           0]]), 'Recall', 'Precision'], [array([          0,    0.001001,    0.002002,    0.003003,    0.004004,    0.005005,    0.006006,    0.007007,    0.008008,    0.009009,     0.01001,    0.011011,    0.012012,    0.013013,    0.014014,    0.015015,    0.016016,    0.017017,    0.018018,    0.019019,     0.02002,    0.021021,    0.022022,    0.023023,\n",
       "          0.024024,    0.025025,    0.026026,    0.027027,    0.028028,    0.029029,     0.03003,    0.031031,    0.032032,    0.033033,    0.034034,    0.035035,    0.036036,    0.037037,    0.038038,    0.039039,     0.04004,    0.041041,    0.042042,    0.043043,    0.044044,    0.045045,    0.046046,    0.047047,\n",
       "          0.048048,    0.049049,     0.05005,    0.051051,    0.052052,    0.053053,    0.054054,    0.055055,    0.056056,    0.057057,    0.058058,    0.059059,     0.06006,    0.061061,    0.062062,    0.063063,    0.064064,    0.065065,    0.066066,    0.067067,    0.068068,    0.069069,     0.07007,    0.071071,\n",
       "          0.072072,    0.073073,    0.074074,    0.075075,    0.076076,    0.077077,    0.078078,    0.079079,     0.08008,    0.081081,    0.082082,    0.083083,    0.084084,    0.085085,    0.086086,    0.087087,    0.088088,    0.089089,     0.09009,    0.091091,    0.092092,    0.093093,    0.094094,    0.095095,\n",
       "          0.096096,    0.097097,    0.098098,    0.099099,      0.1001,      0.1011,      0.1021,      0.1031,      0.1041,     0.10511,     0.10611,     0.10711,     0.10811,     0.10911,     0.11011,     0.11111,     0.11211,     0.11311,     0.11411,     0.11512,     0.11612,     0.11712,     0.11812,     0.11912,\n",
       "           0.12012,     0.12112,     0.12212,     0.12312,     0.12412,     0.12513,     0.12613,     0.12713,     0.12813,     0.12913,     0.13013,     0.13113,     0.13213,     0.13313,     0.13413,     0.13514,     0.13614,     0.13714,     0.13814,     0.13914,     0.14014,     0.14114,     0.14214,     0.14314,\n",
       "           0.14414,     0.14515,     0.14615,     0.14715,     0.14815,     0.14915,     0.15015,     0.15115,     0.15215,     0.15315,     0.15415,     0.15516,     0.15616,     0.15716,     0.15816,     0.15916,     0.16016,     0.16116,     0.16216,     0.16316,     0.16416,     0.16517,     0.16617,     0.16717,\n",
       "           0.16817,     0.16917,     0.17017,     0.17117,     0.17217,     0.17317,     0.17417,     0.17518,     0.17618,     0.17718,     0.17818,     0.17918,     0.18018,     0.18118,     0.18218,     0.18318,     0.18418,     0.18519,     0.18619,     0.18719,     0.18819,     0.18919,     0.19019,     0.19119,\n",
       "           0.19219,     0.19319,     0.19419,      0.1952,      0.1962,      0.1972,      0.1982,      0.1992,      0.2002,      0.2012,      0.2022,      0.2032,      0.2042,     0.20521,     0.20621,     0.20721,     0.20821,     0.20921,     0.21021,     0.21121,     0.21221,     0.21321,     0.21421,     0.21522,\n",
       "           0.21622,     0.21722,     0.21822,     0.21922,     0.22022,     0.22122,     0.22222,     0.22322,     0.22422,     0.22523,     0.22623,     0.22723,     0.22823,     0.22923,     0.23023,     0.23123,     0.23223,     0.23323,     0.23423,     0.23524,     0.23624,     0.23724,     0.23824,     0.23924,\n",
       "           0.24024,     0.24124,     0.24224,     0.24324,     0.24424,     0.24525,     0.24625,     0.24725,     0.24825,     0.24925,     0.25025,     0.25125,     0.25225,     0.25325,     0.25425,     0.25526,     0.25626,     0.25726,     0.25826,     0.25926,     0.26026,     0.26126,     0.26226,     0.26326,\n",
       "           0.26426,     0.26527,     0.26627,     0.26727,     0.26827,     0.26927,     0.27027,     0.27127,     0.27227,     0.27327,     0.27427,     0.27528,     0.27628,     0.27728,     0.27828,     0.27928,     0.28028,     0.28128,     0.28228,     0.28328,     0.28428,     0.28529,     0.28629,     0.28729,\n",
       "           0.28829,     0.28929,     0.29029,     0.29129,     0.29229,     0.29329,     0.29429,      0.2953,      0.2963,      0.2973,      0.2983,      0.2993,      0.3003,      0.3013,      0.3023,      0.3033,      0.3043,     0.30531,     0.30631,     0.30731,     0.30831,     0.30931,     0.31031,     0.31131,\n",
       "           0.31231,     0.31331,     0.31431,     0.31532,     0.31632,     0.31732,     0.31832,     0.31932,     0.32032,     0.32132,     0.32232,     0.32332,     0.32432,     0.32533,     0.32633,     0.32733,     0.32833,     0.32933,     0.33033,     0.33133,     0.33233,     0.33333,     0.33433,     0.33534,\n",
       "           0.33634,     0.33734,     0.33834,     0.33934,     0.34034,     0.34134,     0.34234,     0.34334,     0.34434,     0.34535,     0.34635,     0.34735,     0.34835,     0.34935,     0.35035,     0.35135,     0.35235,     0.35335,     0.35435,     0.35536,     0.35636,     0.35736,     0.35836,     0.35936,\n",
       "           0.36036,     0.36136,     0.36236,     0.36336,     0.36436,     0.36537,     0.36637,     0.36737,     0.36837,     0.36937,     0.37037,     0.37137,     0.37237,     0.37337,     0.37437,     0.37538,     0.37638,     0.37738,     0.37838,     0.37938,     0.38038,     0.38138,     0.38238,     0.38338,\n",
       "           0.38438,     0.38539,     0.38639,     0.38739,     0.38839,     0.38939,     0.39039,     0.39139,     0.39239,     0.39339,     0.39439,      0.3954,      0.3964,      0.3974,      0.3984,      0.3994,      0.4004,      0.4014,      0.4024,      0.4034,      0.4044,     0.40541,     0.40641,     0.40741,\n",
       "           0.40841,     0.40941,     0.41041,     0.41141,     0.41241,     0.41341,     0.41441,     0.41542,     0.41642,     0.41742,     0.41842,     0.41942,     0.42042,     0.42142,     0.42242,     0.42342,     0.42442,     0.42543,     0.42643,     0.42743,     0.42843,     0.42943,     0.43043,     0.43143,\n",
       "           0.43243,     0.43343,     0.43443,     0.43544,     0.43644,     0.43744,     0.43844,     0.43944,     0.44044,     0.44144,     0.44244,     0.44344,     0.44444,     0.44545,     0.44645,     0.44745,     0.44845,     0.44945,     0.45045,     0.45145,     0.45245,     0.45345,     0.45445,     0.45546,\n",
       "           0.45646,     0.45746,     0.45846,     0.45946,     0.46046,     0.46146,     0.46246,     0.46346,     0.46446,     0.46547,     0.46647,     0.46747,     0.46847,     0.46947,     0.47047,     0.47147,     0.47247,     0.47347,     0.47447,     0.47548,     0.47648,     0.47748,     0.47848,     0.47948,\n",
       "           0.48048,     0.48148,     0.48248,     0.48348,     0.48448,     0.48549,     0.48649,     0.48749,     0.48849,     0.48949,     0.49049,     0.49149,     0.49249,     0.49349,     0.49449,      0.4955,      0.4965,      0.4975,      0.4985,      0.4995,      0.5005,      0.5015,      0.5025,      0.5035,\n",
       "            0.5045,     0.50551,     0.50651,     0.50751,     0.50851,     0.50951,     0.51051,     0.51151,     0.51251,     0.51351,     0.51451,     0.51552,     0.51652,     0.51752,     0.51852,     0.51952,     0.52052,     0.52152,     0.52252,     0.52352,     0.52452,     0.52553,     0.52653,     0.52753,\n",
       "           0.52853,     0.52953,     0.53053,     0.53153,     0.53253,     0.53353,     0.53453,     0.53554,     0.53654,     0.53754,     0.53854,     0.53954,     0.54054,     0.54154,     0.54254,     0.54354,     0.54454,     0.54555,     0.54655,     0.54755,     0.54855,     0.54955,     0.55055,     0.55155,\n",
       "           0.55255,     0.55355,     0.55455,     0.55556,     0.55656,     0.55756,     0.55856,     0.55956,     0.56056,     0.56156,     0.56256,     0.56356,     0.56456,     0.56557,     0.56657,     0.56757,     0.56857,     0.56957,     0.57057,     0.57157,     0.57257,     0.57357,     0.57457,     0.57558,\n",
       "           0.57658,     0.57758,     0.57858,     0.57958,     0.58058,     0.58158,     0.58258,     0.58358,     0.58458,     0.58559,     0.58659,     0.58759,     0.58859,     0.58959,     0.59059,     0.59159,     0.59259,     0.59359,     0.59459,      0.5956,      0.5966,      0.5976,      0.5986,      0.5996,\n",
       "            0.6006,      0.6016,      0.6026,      0.6036,      0.6046,     0.60561,     0.60661,     0.60761,     0.60861,     0.60961,     0.61061,     0.61161,     0.61261,     0.61361,     0.61461,     0.61562,     0.61662,     0.61762,     0.61862,     0.61962,     0.62062,     0.62162,     0.62262,     0.62362,\n",
       "           0.62462,     0.62563,     0.62663,     0.62763,     0.62863,     0.62963,     0.63063,     0.63163,     0.63263,     0.63363,     0.63463,     0.63564,     0.63664,     0.63764,     0.63864,     0.63964,     0.64064,     0.64164,     0.64264,     0.64364,     0.64464,     0.64565,     0.64665,     0.64765,\n",
       "           0.64865,     0.64965,     0.65065,     0.65165,     0.65265,     0.65365,     0.65465,     0.65566,     0.65666,     0.65766,     0.65866,     0.65966,     0.66066,     0.66166,     0.66266,     0.66366,     0.66466,     0.66567,     0.66667,     0.66767,     0.66867,     0.66967,     0.67067,     0.67167,\n",
       "           0.67267,     0.67367,     0.67467,     0.67568,     0.67668,     0.67768,     0.67868,     0.67968,     0.68068,     0.68168,     0.68268,     0.68368,     0.68468,     0.68569,     0.68669,     0.68769,     0.68869,     0.68969,     0.69069,     0.69169,     0.69269,     0.69369,     0.69469,      0.6957,\n",
       "            0.6967,      0.6977,      0.6987,      0.6997,      0.7007,      0.7017,      0.7027,      0.7037,      0.7047,     0.70571,     0.70671,     0.70771,     0.70871,     0.70971,     0.71071,     0.71171,     0.71271,     0.71371,     0.71471,     0.71572,     0.71672,     0.71772,     0.71872,     0.71972,\n",
       "           0.72072,     0.72172,     0.72272,     0.72372,     0.72472,     0.72573,     0.72673,     0.72773,     0.72873,     0.72973,     0.73073,     0.73173,     0.73273,     0.73373,     0.73473,     0.73574,     0.73674,     0.73774,     0.73874,     0.73974,     0.74074,     0.74174,     0.74274,     0.74374,\n",
       "           0.74474,     0.74575,     0.74675,     0.74775,     0.74875,     0.74975,     0.75075,     0.75175,     0.75275,     0.75375,     0.75475,     0.75576,     0.75676,     0.75776,     0.75876,     0.75976,     0.76076,     0.76176,     0.76276,     0.76376,     0.76476,     0.76577,     0.76677,     0.76777,\n",
       "           0.76877,     0.76977,     0.77077,     0.77177,     0.77277,     0.77377,     0.77477,     0.77578,     0.77678,     0.77778,     0.77878,     0.77978,     0.78078,     0.78178,     0.78278,     0.78378,     0.78478,     0.78579,     0.78679,     0.78779,     0.78879,     0.78979,     0.79079,     0.79179,\n",
       "           0.79279,     0.79379,     0.79479,      0.7958,      0.7968,      0.7978,      0.7988,      0.7998,      0.8008,      0.8018,      0.8028,      0.8038,      0.8048,     0.80581,     0.80681,     0.80781,     0.80881,     0.80981,     0.81081,     0.81181,     0.81281,     0.81381,     0.81481,     0.81582,\n",
       "           0.81682,     0.81782,     0.81882,     0.81982,     0.82082,     0.82182,     0.82282,     0.82382,     0.82482,     0.82583,     0.82683,     0.82783,     0.82883,     0.82983,     0.83083,     0.83183,     0.83283,     0.83383,     0.83483,     0.83584,     0.83684,     0.83784,     0.83884,     0.83984,\n",
       "           0.84084,     0.84184,     0.84284,     0.84384,     0.84484,     0.84585,     0.84685,     0.84785,     0.84885,     0.84985,     0.85085,     0.85185,     0.85285,     0.85385,     0.85485,     0.85586,     0.85686,     0.85786,     0.85886,     0.85986,     0.86086,     0.86186,     0.86286,     0.86386,\n",
       "           0.86486,     0.86587,     0.86687,     0.86787,     0.86887,     0.86987,     0.87087,     0.87187,     0.87287,     0.87387,     0.87487,     0.87588,     0.87688,     0.87788,     0.87888,     0.87988,     0.88088,     0.88188,     0.88288,     0.88388,     0.88488,     0.88589,     0.88689,     0.88789,\n",
       "           0.88889,     0.88989,     0.89089,     0.89189,     0.89289,     0.89389,     0.89489,      0.8959,      0.8969,      0.8979,      0.8989,      0.8999,      0.9009,      0.9019,      0.9029,      0.9039,      0.9049,     0.90591,     0.90691,     0.90791,     0.90891,     0.90991,     0.91091,     0.91191,\n",
       "           0.91291,     0.91391,     0.91491,     0.91592,     0.91692,     0.91792,     0.91892,     0.91992,     0.92092,     0.92192,     0.92292,     0.92392,     0.92492,     0.92593,     0.92693,     0.92793,     0.92893,     0.92993,     0.93093,     0.93193,     0.93293,     0.93393,     0.93493,     0.93594,\n",
       "           0.93694,     0.93794,     0.93894,     0.93994,     0.94094,     0.94194,     0.94294,     0.94394,     0.94494,     0.94595,     0.94695,     0.94795,     0.94895,     0.94995,     0.95095,     0.95195,     0.95295,     0.95395,     0.95495,     0.95596,     0.95696,     0.95796,     0.95896,     0.95996,\n",
       "           0.96096,     0.96196,     0.96296,     0.96396,     0.96496,     0.96597,     0.96697,     0.96797,     0.96897,     0.96997,     0.97097,     0.97197,     0.97297,     0.97397,     0.97497,     0.97598,     0.97698,     0.97798,     0.97898,     0.97998,     0.98098,     0.98198,     0.98298,     0.98398,\n",
       "           0.98498,     0.98599,     0.98699,     0.98799,     0.98899,     0.98999,     0.99099,     0.99199,     0.99299,     0.99399,     0.99499,       0.996,       0.997,       0.998,       0.999,           1]), array([[    0.72494,     0.72494,     0.76704,     0.78697,     0.80099,     0.81218,     0.81971,     0.82467,     0.82992,     0.83504,     0.83972,     0.84286,     0.84604,     0.84884,     0.85135,     0.85404,     0.85604,     0.85769,     0.85892,     0.86039,       0.862,     0.86327,     0.86436,\n",
       "             0.8653,     0.86665,     0.86784,     0.86897,     0.86995,     0.87112,     0.87229,     0.87321,     0.87402,     0.87489,     0.87551,     0.87626,     0.87683,     0.87755,      0.8781,     0.87886,      0.8795,     0.88008,     0.88056,     0.88122,     0.88179,     0.88225,     0.88299,\n",
       "            0.88364,     0.88412,     0.88458,     0.88505,      0.8854,     0.88603,     0.88665,     0.88734,     0.88753,     0.88805,     0.88847,     0.88883,     0.88928,      0.8897,     0.88989,     0.89035,     0.89069,     0.89122,     0.89155,     0.89179,     0.89226,     0.89266,       0.893,\n",
       "            0.89326,     0.89346,      0.8935,     0.89373,     0.89392,     0.89411,     0.89437,     0.89474,     0.89493,     0.89523,     0.89557,     0.89602,     0.89645,     0.89659,     0.89698,     0.89732,     0.89753,     0.89779,     0.89789,     0.89814,      0.8983,     0.89851,      0.8986,\n",
       "            0.89882,     0.89882,       0.899,     0.89914,     0.89942,     0.89955,     0.89973,     0.89984,     0.90003,     0.90027,     0.90052,     0.90065,     0.90104,     0.90134,     0.90154,     0.90178,     0.90204,     0.90235,     0.90251,     0.90273,     0.90308,     0.90335,     0.90366,\n",
       "            0.90383,     0.90396,     0.90413,     0.90423,     0.90443,     0.90458,     0.90474,     0.90484,     0.90499,     0.90515,      0.9052,     0.90531,     0.90537,     0.90557,     0.90574,      0.9059,      0.9059,     0.90603,     0.90622,      0.9063,     0.90654,      0.9068,     0.90693,\n",
       "            0.90701,     0.90727,     0.90754,     0.90767,     0.90775,     0.90786,     0.90793,     0.90824,     0.90834,     0.90857,      0.9087,     0.90885,     0.90898,      0.9091,     0.90933,     0.90947,     0.90943,     0.90966,     0.90973,     0.90995,     0.91009,     0.91025,     0.91035,\n",
       "            0.91057,     0.91071,     0.91081,     0.91093,     0.91094,     0.91111,     0.91117,     0.91126,      0.9114,     0.91147,     0.91172,      0.9119,     0.91205,      0.9122,     0.91236,     0.91252,     0.91264,     0.91273,      0.9129,     0.91298,       0.913,     0.91315,     0.91329,\n",
       "            0.91332,     0.91337,     0.91349,     0.91367,     0.91375,     0.91386,     0.91388,     0.91398,     0.91414,     0.91427,     0.91439,     0.91444,      0.9145,     0.91458,     0.91459,     0.91475,     0.91481,     0.91485,     0.91496,     0.91514,     0.91518,     0.91528,     0.91529,\n",
       "             0.9154,      0.9155,     0.91558,     0.91577,     0.91587,     0.91602,     0.91618,     0.91629,      0.9164,     0.91653,     0.91658,     0.91671,     0.91682,     0.91703,      0.9171,     0.91715,      0.9172,     0.91728,     0.91741,     0.91754,     0.91765,     0.91779,     0.91779,\n",
       "            0.91779,     0.91787,     0.91791,     0.91803,     0.91814,     0.91829,     0.91843,      0.9185,      0.9185,     0.91852,     0.91883,       0.919,     0.91917,     0.91922,     0.91939,     0.91946,     0.91961,     0.91974,      0.9199,     0.91999,     0.92013,     0.92034,      0.9205,\n",
       "            0.92066,     0.92076,     0.92087,     0.92101,     0.92113,     0.92119,     0.92127,     0.92133,     0.92158,     0.92168,     0.92175,      0.9219,       0.922,     0.92202,     0.92211,     0.92225,     0.92234,     0.92242,     0.92279,     0.92284,      0.9229,     0.92301,     0.92321,\n",
       "            0.92329,     0.92339,     0.92343,     0.92364,     0.92378,     0.92391,     0.92411,     0.92421,     0.92435,     0.92446,     0.92473,     0.92473,     0.92479,     0.92497,     0.92514,     0.92532,     0.92539,     0.92552,     0.92583,     0.92597,     0.92604,     0.92611,     0.92628,\n",
       "            0.92649,     0.92669,      0.9269,     0.92696,     0.92717,     0.92731,     0.92745,     0.92772,     0.92784,     0.92787,      0.9279,     0.92799,      0.9281,     0.92822,     0.92829,     0.92846,     0.92864,      0.9288,     0.92887,     0.92897,     0.92924,      0.9293,     0.92941,\n",
       "            0.92948,     0.92965,     0.92985,     0.92999,     0.93006,     0.93013,     0.93033,     0.93034,     0.93057,     0.93057,     0.93071,     0.93079,     0.93085,     0.93099,     0.93103,     0.93124,     0.93134,     0.93145,     0.93161,     0.93165,      0.9316,     0.93176,     0.93193,\n",
       "            0.93194,     0.93205,     0.93225,      0.9323,     0.93238,     0.93247,     0.93249,     0.93256,     0.93268,     0.93278,     0.93277,     0.93284,     0.93287,     0.93287,     0.93283,     0.93293,     0.93297,     0.93311,     0.93318,     0.93308,      0.9332,     0.93325,     0.93333,\n",
       "            0.93346,     0.93363,     0.93381,     0.93395,     0.93415,     0.93418,     0.93432,      0.9343,     0.93437,     0.93445,     0.93456,     0.93469,     0.93479,     0.93484,      0.9349,      0.9351,      0.9352,     0.93528,     0.93535,     0.93538,     0.93546,     0.93556,     0.93562,\n",
       "            0.93564,     0.93579,     0.93581,     0.93584,     0.93586,     0.93591,     0.93609,     0.93615,     0.93627,     0.93643,     0.93653,     0.93667,     0.93674,     0.93676,      0.9368,     0.93699,      0.9371,     0.93713,     0.93735,     0.93738,     0.93746,     0.93748,     0.93764,\n",
       "            0.93782,     0.93789,       0.938,      0.9381,     0.93827,     0.93851,     0.93868,     0.93871,     0.93881,     0.93899,     0.93929,     0.93932,     0.93935,     0.93939,     0.93949,     0.93966,      0.9399,     0.94004,     0.94025,     0.94042,     0.94069,     0.94086,     0.94097,\n",
       "            0.94117,     0.94126,     0.94145,     0.94147,     0.94161,     0.94172,     0.94178,     0.94178,      0.9419,     0.94206,     0.94234,     0.94261,     0.94268,     0.94299,     0.94327,     0.94344,     0.94381,     0.94392,     0.94424,     0.94431,     0.94441,     0.94462,     0.94469,\n",
       "            0.94479,     0.94503,     0.94521,     0.94538,     0.94558,     0.94565,     0.94577,     0.94588,     0.94609,     0.94622,     0.94636,      0.9466,     0.94663,     0.94681,     0.94696,     0.94708,     0.94743,     0.94761,     0.94796,     0.94802,     0.94826,     0.94854,     0.94878,\n",
       "            0.94885,     0.94899,     0.94913,     0.94931,     0.94945,     0.94962,     0.94972,     0.94979,     0.95007,     0.95022,     0.95043,     0.95043,     0.95042,     0.95056,     0.95066,     0.95084,     0.95108,     0.95126,     0.95144,     0.95161,     0.95164,     0.95189,     0.95196,\n",
       "            0.95201,     0.95202,     0.95216,     0.95217,     0.95229,     0.95257,      0.9526,     0.95263,     0.95281,     0.95309,     0.95305,      0.9534,     0.95347,     0.95361,     0.95382,     0.95397,     0.95414,     0.95429,     0.95432,     0.95442,     0.95444,     0.95452,     0.95466,\n",
       "            0.95477,     0.95484,     0.95509,      0.9553,     0.95545,     0.95555,     0.95566,      0.9558,     0.95598,     0.95619,     0.95626,      0.9564,     0.95651,     0.95665,     0.95679,     0.95679,     0.95689,     0.95691,      0.9571,      0.9572,     0.95729,     0.95724,     0.95733,\n",
       "            0.95736,     0.95733,      0.9575,     0.95761,     0.95778,     0.95779,     0.95772,     0.95771,     0.95771,     0.95767,     0.95778,     0.95792,     0.95796,     0.95803,     0.95807,     0.95805,     0.95806,     0.95815,     0.95813,     0.95814,     0.95813,     0.95814,     0.95812,\n",
       "            0.95811,     0.95818,     0.95821,     0.95824,     0.95835,     0.95838,     0.95823,     0.95832,      0.9583,      0.9583,     0.95831,     0.95833,     0.95819,     0.95817,     0.95808,     0.95811,     0.95811,     0.95812,     0.95813,     0.95794,     0.95801,     0.95813,     0.95809,\n",
       "            0.95816,     0.95816,     0.95815,     0.95811,     0.95806,     0.95798,     0.95794,     0.95797,     0.95802,     0.95785,     0.95784,     0.95769,     0.95759,      0.9576,     0.95761,     0.95758,     0.95746,     0.95746,      0.9575,     0.95742,     0.95745,     0.95734,     0.95729,\n",
       "            0.95728,     0.95724,     0.95721,     0.95729,     0.95729,      0.9573,     0.95722,     0.95721,      0.9572,     0.95705,     0.95701,     0.95698,     0.95694,     0.95685,     0.95686,     0.95682,     0.95679,     0.95675,     0.95671,     0.95671,     0.95677,     0.95677,     0.95668,\n",
       "            0.95655,     0.95646,     0.95646,     0.95643,      0.9565,     0.95637,     0.95633,     0.95629,     0.95621,     0.95615,     0.95603,     0.95598,       0.956,     0.95601,     0.95587,     0.95583,     0.95582,     0.95578,     0.95563,     0.95548,     0.95547,     0.95531,     0.95525,\n",
       "            0.95512,     0.95513,     0.95507,     0.95498,       0.955,     0.95488,     0.95491,     0.95495,     0.95492,     0.95484,     0.95434,     0.95422,     0.95418,     0.95407,     0.95399,     0.95387,     0.95387,     0.95388,     0.95395,     0.95387,     0.95375,     0.95377,      0.9537,\n",
       "            0.95368,      0.9536,     0.95336,      0.9533,     0.95317,     0.95312,     0.95283,     0.95281,      0.9527,     0.95277,     0.95288,     0.95276,     0.95264,     0.95254,     0.95257,     0.95238,     0.95235,     0.95229,     0.95222,     0.95207,     0.95201,     0.95197,     0.95188,\n",
       "            0.95178,     0.95168,     0.95172,     0.95147,     0.95145,     0.95159,      0.9514,     0.95116,     0.95102,     0.95085,     0.95075,     0.95067,     0.95018,     0.94993,      0.9498,     0.94945,     0.94939,     0.94913,     0.94896,     0.94873,     0.94868,     0.94829,     0.94808,\n",
       "            0.94764,     0.94754,     0.94718,      0.9469,     0.94659,     0.94631,     0.94612,     0.94603,     0.94565,     0.94539,     0.94509,     0.94441,     0.94391,     0.94349,     0.94312,     0.94262,     0.94232,      0.9416,     0.94133,     0.94099,     0.94005,     0.93995,      0.9393,\n",
       "            0.93874,     0.93749,     0.93709,      0.9364,     0.93602,     0.93534,     0.93513,     0.93465,     0.93354,     0.93298,     0.93219,     0.93184,     0.93124,     0.93041,      0.9296,     0.92839,     0.92736,     0.92663,     0.92531,     0.92463,     0.92355,     0.92196,     0.92121,\n",
       "            0.91994,     0.91888,     0.91709,     0.91656,     0.91511,     0.91431,     0.91258,      0.9114,     0.90866,     0.90773,     0.90567,     0.90499,     0.90273,     0.90148,     0.89989,     0.89745,     0.89577,     0.89333,     0.89072,     0.88749,      0.8858,     0.88255,     0.88082,\n",
       "            0.87774,      0.8748,     0.87273,     0.86889,     0.86773,      0.8646,     0.86086,     0.85921,     0.85532,     0.85126,     0.84915,     0.84431,     0.84017,     0.83816,      0.8343,     0.82751,     0.82547,      0.8216,     0.81672,     0.81491,     0.81071,     0.80688,      0.8023,\n",
       "            0.80044,     0.79648,     0.79318,     0.78915,     0.78719,     0.78389,     0.78072,     0.77819,     0.77558,     0.77339,     0.77213,     0.77018,      0.7682,     0.76645,      0.7651,     0.76427,     0.76293,     0.76181,     0.76134,     0.75985,     0.75912,      0.7584,     0.75714,\n",
       "            0.75656,     0.75559,     0.75462,     0.75402,     0.75323,     0.75293,     0.75221,     0.75146,     0.75096,     0.74956,     0.74867,     0.74806,     0.74753,     0.74679,     0.74634,     0.74562,     0.74468,     0.74334,     0.74277,     0.74233,     0.74195,     0.74074,     0.74004,\n",
       "            0.73947,     0.73873,     0.73784,     0.73735,     0.73664,      0.7354,     0.73484,     0.73364,     0.73222,     0.73136,     0.73041,     0.72981,     0.72864,     0.72804,     0.72714,     0.72622,     0.72495,     0.72366,     0.72242,     0.72109,     0.72009,     0.71918,     0.71779,\n",
       "            0.71593,     0.71459,     0.71287,     0.71015,     0.70852,     0.70654,     0.70424,     0.70201,     0.70019,     0.69894,     0.69699,     0.69428,     0.69106,     0.68858,     0.68583,     0.68429,     0.68121,     0.67752,     0.67518,     0.67117,     0.66842,     0.66555,     0.66171,\n",
       "            0.65528,     0.65218,     0.64718,     0.64317,     0.63879,     0.63503,     0.63018,     0.62407,     0.61659,     0.61154,     0.60463,     0.59599,     0.58747,      0.5774,     0.56754,     0.55658,      0.5423,     0.52951,     0.51783,     0.50169,     0.47407,     0.45263,     0.43367,\n",
       "            0.41082,     0.38477,     0.35785,     0.32898,     0.29637,     0.26458,     0.23932,     0.20523,     0.17264,     0.14729,     0.12331,    0.099639,    0.083704,    0.068191,    0.051582,    0.041251,    0.032816,    0.024742,    0.019951,    0.016011,    0.012789,   0.0097031,   0.0077848,\n",
       "          0.0057153,   0.0030504,   0.0015635,  0.00081549,  0.00054709,  0.00048632,  0.00020037,           0,           0,           0,           0,           0,           0,           0,           0,           0,           0,           0,           0,           0,           0,           0,           0,\n",
       "                  0,           0,           0,           0,           0,           0,           0,           0,           0,           0,           0]]), 'Confidence', 'F1'], [array([          0,    0.001001,    0.002002,    0.003003,    0.004004,    0.005005,    0.006006,    0.007007,    0.008008,    0.009009,     0.01001,    0.011011,    0.012012,    0.013013,    0.014014,    0.015015,    0.016016,    0.017017,    0.018018,    0.019019,     0.02002,    0.021021,    0.022022,    0.023023,\n",
       "          0.024024,    0.025025,    0.026026,    0.027027,    0.028028,    0.029029,     0.03003,    0.031031,    0.032032,    0.033033,    0.034034,    0.035035,    0.036036,    0.037037,    0.038038,    0.039039,     0.04004,    0.041041,    0.042042,    0.043043,    0.044044,    0.045045,    0.046046,    0.047047,\n",
       "          0.048048,    0.049049,     0.05005,    0.051051,    0.052052,    0.053053,    0.054054,    0.055055,    0.056056,    0.057057,    0.058058,    0.059059,     0.06006,    0.061061,    0.062062,    0.063063,    0.064064,    0.065065,    0.066066,    0.067067,    0.068068,    0.069069,     0.07007,    0.071071,\n",
       "          0.072072,    0.073073,    0.074074,    0.075075,    0.076076,    0.077077,    0.078078,    0.079079,     0.08008,    0.081081,    0.082082,    0.083083,    0.084084,    0.085085,    0.086086,    0.087087,    0.088088,    0.089089,     0.09009,    0.091091,    0.092092,    0.093093,    0.094094,    0.095095,\n",
       "          0.096096,    0.097097,    0.098098,    0.099099,      0.1001,      0.1011,      0.1021,      0.1031,      0.1041,     0.10511,     0.10611,     0.10711,     0.10811,     0.10911,     0.11011,     0.11111,     0.11211,     0.11311,     0.11411,     0.11512,     0.11612,     0.11712,     0.11812,     0.11912,\n",
       "           0.12012,     0.12112,     0.12212,     0.12312,     0.12412,     0.12513,     0.12613,     0.12713,     0.12813,     0.12913,     0.13013,     0.13113,     0.13213,     0.13313,     0.13413,     0.13514,     0.13614,     0.13714,     0.13814,     0.13914,     0.14014,     0.14114,     0.14214,     0.14314,\n",
       "           0.14414,     0.14515,     0.14615,     0.14715,     0.14815,     0.14915,     0.15015,     0.15115,     0.15215,     0.15315,     0.15415,     0.15516,     0.15616,     0.15716,     0.15816,     0.15916,     0.16016,     0.16116,     0.16216,     0.16316,     0.16416,     0.16517,     0.16617,     0.16717,\n",
       "           0.16817,     0.16917,     0.17017,     0.17117,     0.17217,     0.17317,     0.17417,     0.17518,     0.17618,     0.17718,     0.17818,     0.17918,     0.18018,     0.18118,     0.18218,     0.18318,     0.18418,     0.18519,     0.18619,     0.18719,     0.18819,     0.18919,     0.19019,     0.19119,\n",
       "           0.19219,     0.19319,     0.19419,      0.1952,      0.1962,      0.1972,      0.1982,      0.1992,      0.2002,      0.2012,      0.2022,      0.2032,      0.2042,     0.20521,     0.20621,     0.20721,     0.20821,     0.20921,     0.21021,     0.21121,     0.21221,     0.21321,     0.21421,     0.21522,\n",
       "           0.21622,     0.21722,     0.21822,     0.21922,     0.22022,     0.22122,     0.22222,     0.22322,     0.22422,     0.22523,     0.22623,     0.22723,     0.22823,     0.22923,     0.23023,     0.23123,     0.23223,     0.23323,     0.23423,     0.23524,     0.23624,     0.23724,     0.23824,     0.23924,\n",
       "           0.24024,     0.24124,     0.24224,     0.24324,     0.24424,     0.24525,     0.24625,     0.24725,     0.24825,     0.24925,     0.25025,     0.25125,     0.25225,     0.25325,     0.25425,     0.25526,     0.25626,     0.25726,     0.25826,     0.25926,     0.26026,     0.26126,     0.26226,     0.26326,\n",
       "           0.26426,     0.26527,     0.26627,     0.26727,     0.26827,     0.26927,     0.27027,     0.27127,     0.27227,     0.27327,     0.27427,     0.27528,     0.27628,     0.27728,     0.27828,     0.27928,     0.28028,     0.28128,     0.28228,     0.28328,     0.28428,     0.28529,     0.28629,     0.28729,\n",
       "           0.28829,     0.28929,     0.29029,     0.29129,     0.29229,     0.29329,     0.29429,      0.2953,      0.2963,      0.2973,      0.2983,      0.2993,      0.3003,      0.3013,      0.3023,      0.3033,      0.3043,     0.30531,     0.30631,     0.30731,     0.30831,     0.30931,     0.31031,     0.31131,\n",
       "           0.31231,     0.31331,     0.31431,     0.31532,     0.31632,     0.31732,     0.31832,     0.31932,     0.32032,     0.32132,     0.32232,     0.32332,     0.32432,     0.32533,     0.32633,     0.32733,     0.32833,     0.32933,     0.33033,     0.33133,     0.33233,     0.33333,     0.33433,     0.33534,\n",
       "           0.33634,     0.33734,     0.33834,     0.33934,     0.34034,     0.34134,     0.34234,     0.34334,     0.34434,     0.34535,     0.34635,     0.34735,     0.34835,     0.34935,     0.35035,     0.35135,     0.35235,     0.35335,     0.35435,     0.35536,     0.35636,     0.35736,     0.35836,     0.35936,\n",
       "           0.36036,     0.36136,     0.36236,     0.36336,     0.36436,     0.36537,     0.36637,     0.36737,     0.36837,     0.36937,     0.37037,     0.37137,     0.37237,     0.37337,     0.37437,     0.37538,     0.37638,     0.37738,     0.37838,     0.37938,     0.38038,     0.38138,     0.38238,     0.38338,\n",
       "           0.38438,     0.38539,     0.38639,     0.38739,     0.38839,     0.38939,     0.39039,     0.39139,     0.39239,     0.39339,     0.39439,      0.3954,      0.3964,      0.3974,      0.3984,      0.3994,      0.4004,      0.4014,      0.4024,      0.4034,      0.4044,     0.40541,     0.40641,     0.40741,\n",
       "           0.40841,     0.40941,     0.41041,     0.41141,     0.41241,     0.41341,     0.41441,     0.41542,     0.41642,     0.41742,     0.41842,     0.41942,     0.42042,     0.42142,     0.42242,     0.42342,     0.42442,     0.42543,     0.42643,     0.42743,     0.42843,     0.42943,     0.43043,     0.43143,\n",
       "           0.43243,     0.43343,     0.43443,     0.43544,     0.43644,     0.43744,     0.43844,     0.43944,     0.44044,     0.44144,     0.44244,     0.44344,     0.44444,     0.44545,     0.44645,     0.44745,     0.44845,     0.44945,     0.45045,     0.45145,     0.45245,     0.45345,     0.45445,     0.45546,\n",
       "           0.45646,     0.45746,     0.45846,     0.45946,     0.46046,     0.46146,     0.46246,     0.46346,     0.46446,     0.46547,     0.46647,     0.46747,     0.46847,     0.46947,     0.47047,     0.47147,     0.47247,     0.47347,     0.47447,     0.47548,     0.47648,     0.47748,     0.47848,     0.47948,\n",
       "           0.48048,     0.48148,     0.48248,     0.48348,     0.48448,     0.48549,     0.48649,     0.48749,     0.48849,     0.48949,     0.49049,     0.49149,     0.49249,     0.49349,     0.49449,      0.4955,      0.4965,      0.4975,      0.4985,      0.4995,      0.5005,      0.5015,      0.5025,      0.5035,\n",
       "            0.5045,     0.50551,     0.50651,     0.50751,     0.50851,     0.50951,     0.51051,     0.51151,     0.51251,     0.51351,     0.51451,     0.51552,     0.51652,     0.51752,     0.51852,     0.51952,     0.52052,     0.52152,     0.52252,     0.52352,     0.52452,     0.52553,     0.52653,     0.52753,\n",
       "           0.52853,     0.52953,     0.53053,     0.53153,     0.53253,     0.53353,     0.53453,     0.53554,     0.53654,     0.53754,     0.53854,     0.53954,     0.54054,     0.54154,     0.54254,     0.54354,     0.54454,     0.54555,     0.54655,     0.54755,     0.54855,     0.54955,     0.55055,     0.55155,\n",
       "           0.55255,     0.55355,     0.55455,     0.55556,     0.55656,     0.55756,     0.55856,     0.55956,     0.56056,     0.56156,     0.56256,     0.56356,     0.56456,     0.56557,     0.56657,     0.56757,     0.56857,     0.56957,     0.57057,     0.57157,     0.57257,     0.57357,     0.57457,     0.57558,\n",
       "           0.57658,     0.57758,     0.57858,     0.57958,     0.58058,     0.58158,     0.58258,     0.58358,     0.58458,     0.58559,     0.58659,     0.58759,     0.58859,     0.58959,     0.59059,     0.59159,     0.59259,     0.59359,     0.59459,      0.5956,      0.5966,      0.5976,      0.5986,      0.5996,\n",
       "            0.6006,      0.6016,      0.6026,      0.6036,      0.6046,     0.60561,     0.60661,     0.60761,     0.60861,     0.60961,     0.61061,     0.61161,     0.61261,     0.61361,     0.61461,     0.61562,     0.61662,     0.61762,     0.61862,     0.61962,     0.62062,     0.62162,     0.62262,     0.62362,\n",
       "           0.62462,     0.62563,     0.62663,     0.62763,     0.62863,     0.62963,     0.63063,     0.63163,     0.63263,     0.63363,     0.63463,     0.63564,     0.63664,     0.63764,     0.63864,     0.63964,     0.64064,     0.64164,     0.64264,     0.64364,     0.64464,     0.64565,     0.64665,     0.64765,\n",
       "           0.64865,     0.64965,     0.65065,     0.65165,     0.65265,     0.65365,     0.65465,     0.65566,     0.65666,     0.65766,     0.65866,     0.65966,     0.66066,     0.66166,     0.66266,     0.66366,     0.66466,     0.66567,     0.66667,     0.66767,     0.66867,     0.66967,     0.67067,     0.67167,\n",
       "           0.67267,     0.67367,     0.67467,     0.67568,     0.67668,     0.67768,     0.67868,     0.67968,     0.68068,     0.68168,     0.68268,     0.68368,     0.68468,     0.68569,     0.68669,     0.68769,     0.68869,     0.68969,     0.69069,     0.69169,     0.69269,     0.69369,     0.69469,      0.6957,\n",
       "            0.6967,      0.6977,      0.6987,      0.6997,      0.7007,      0.7017,      0.7027,      0.7037,      0.7047,     0.70571,     0.70671,     0.70771,     0.70871,     0.70971,     0.71071,     0.71171,     0.71271,     0.71371,     0.71471,     0.71572,     0.71672,     0.71772,     0.71872,     0.71972,\n",
       "           0.72072,     0.72172,     0.72272,     0.72372,     0.72472,     0.72573,     0.72673,     0.72773,     0.72873,     0.72973,     0.73073,     0.73173,     0.73273,     0.73373,     0.73473,     0.73574,     0.73674,     0.73774,     0.73874,     0.73974,     0.74074,     0.74174,     0.74274,     0.74374,\n",
       "           0.74474,     0.74575,     0.74675,     0.74775,     0.74875,     0.74975,     0.75075,     0.75175,     0.75275,     0.75375,     0.75475,     0.75576,     0.75676,     0.75776,     0.75876,     0.75976,     0.76076,     0.76176,     0.76276,     0.76376,     0.76476,     0.76577,     0.76677,     0.76777,\n",
       "           0.76877,     0.76977,     0.77077,     0.77177,     0.77277,     0.77377,     0.77477,     0.77578,     0.77678,     0.77778,     0.77878,     0.77978,     0.78078,     0.78178,     0.78278,     0.78378,     0.78478,     0.78579,     0.78679,     0.78779,     0.78879,     0.78979,     0.79079,     0.79179,\n",
       "           0.79279,     0.79379,     0.79479,      0.7958,      0.7968,      0.7978,      0.7988,      0.7998,      0.8008,      0.8018,      0.8028,      0.8038,      0.8048,     0.80581,     0.80681,     0.80781,     0.80881,     0.80981,     0.81081,     0.81181,     0.81281,     0.81381,     0.81481,     0.81582,\n",
       "           0.81682,     0.81782,     0.81882,     0.81982,     0.82082,     0.82182,     0.82282,     0.82382,     0.82482,     0.82583,     0.82683,     0.82783,     0.82883,     0.82983,     0.83083,     0.83183,     0.83283,     0.83383,     0.83483,     0.83584,     0.83684,     0.83784,     0.83884,     0.83984,\n",
       "           0.84084,     0.84184,     0.84284,     0.84384,     0.84484,     0.84585,     0.84685,     0.84785,     0.84885,     0.84985,     0.85085,     0.85185,     0.85285,     0.85385,     0.85485,     0.85586,     0.85686,     0.85786,     0.85886,     0.85986,     0.86086,     0.86186,     0.86286,     0.86386,\n",
       "           0.86486,     0.86587,     0.86687,     0.86787,     0.86887,     0.86987,     0.87087,     0.87187,     0.87287,     0.87387,     0.87487,     0.87588,     0.87688,     0.87788,     0.87888,     0.87988,     0.88088,     0.88188,     0.88288,     0.88388,     0.88488,     0.88589,     0.88689,     0.88789,\n",
       "           0.88889,     0.88989,     0.89089,     0.89189,     0.89289,     0.89389,     0.89489,      0.8959,      0.8969,      0.8979,      0.8989,      0.8999,      0.9009,      0.9019,      0.9029,      0.9039,      0.9049,     0.90591,     0.90691,     0.90791,     0.90891,     0.90991,     0.91091,     0.91191,\n",
       "           0.91291,     0.91391,     0.91491,     0.91592,     0.91692,     0.91792,     0.91892,     0.91992,     0.92092,     0.92192,     0.92292,     0.92392,     0.92492,     0.92593,     0.92693,     0.92793,     0.92893,     0.92993,     0.93093,     0.93193,     0.93293,     0.93393,     0.93493,     0.93594,\n",
       "           0.93694,     0.93794,     0.93894,     0.93994,     0.94094,     0.94194,     0.94294,     0.94394,     0.94494,     0.94595,     0.94695,     0.94795,     0.94895,     0.94995,     0.95095,     0.95195,     0.95295,     0.95395,     0.95495,     0.95596,     0.95696,     0.95796,     0.95896,     0.95996,\n",
       "           0.96096,     0.96196,     0.96296,     0.96396,     0.96496,     0.96597,     0.96697,     0.96797,     0.96897,     0.96997,     0.97097,     0.97197,     0.97297,     0.97397,     0.97497,     0.97598,     0.97698,     0.97798,     0.97898,     0.97998,     0.98098,     0.98198,     0.98298,     0.98398,\n",
       "           0.98498,     0.98599,     0.98699,     0.98799,     0.98899,     0.98999,     0.99099,     0.99199,     0.99299,     0.99399,     0.99499,       0.996,       0.997,       0.998,       0.999,           1]), array([[    0.57389,     0.57389,     0.62868,     0.65628,     0.67605,     0.69226,     0.70335,     0.71092,     0.71888,     0.72659,     0.73388,     0.73869,     0.74367,     0.74806,     0.75201,     0.75635,     0.75971,     0.76235,     0.76444,       0.767,     0.76965,     0.77186,      0.7736,\n",
       "            0.77521,     0.77741,     0.77938,     0.78139,     0.78323,     0.78517,     0.78707,     0.78872,     0.79029,     0.79185,     0.79292,     0.79425,     0.79529,     0.79647,     0.79747,     0.79893,     0.79998,     0.80104,     0.80188,     0.80303,     0.80404,     0.80495,     0.80618,\n",
       "            0.80726,     0.80812,     0.80904,     0.80988,     0.81057,     0.81163,     0.81266,     0.81382,     0.81425,     0.81531,     0.81615,     0.81674,     0.81757,     0.81832,      0.8188,     0.81958,     0.82027,     0.82121,     0.82193,      0.8224,      0.8232,     0.82388,     0.82446,\n",
       "            0.82501,     0.82545,     0.82568,     0.82617,     0.82666,     0.82705,     0.82754,     0.82819,     0.82855,     0.82912,     0.82971,     0.83049,     0.83122,     0.83152,     0.83223,     0.83288,     0.83325,      0.8337,     0.83397,     0.83453,     0.83484,     0.83526,     0.83553,\n",
       "            0.83606,     0.83629,     0.83661,     0.83684,     0.83734,     0.83766,     0.83798,     0.83822,     0.83867,     0.83918,     0.83964,     0.83996,     0.84064,     0.84118,     0.84157,     0.84199,     0.84245,     0.84298,     0.84337,     0.84382,     0.84448,     0.84502,     0.84556,\n",
       "             0.8459,     0.84614,     0.84658,     0.84678,     0.84719,     0.84751,     0.84784,     0.84807,     0.84834,     0.84861,     0.84883,     0.84904,     0.84919,     0.84964,        0.85,     0.85037,     0.85046,     0.85079,     0.85125,     0.85145,     0.85196,     0.85245,     0.85273,\n",
       "            0.85298,     0.85345,     0.85393,      0.8542,     0.85435,     0.85468,     0.85484,      0.8554,     0.85557,     0.85597,     0.85621,     0.85648,     0.85677,     0.85698,     0.85746,     0.85775,      0.8578,     0.85822,     0.85839,     0.85884,     0.85915,     0.85944,     0.85973,\n",
       "            0.86012,     0.86037,     0.86054,     0.86076,     0.86084,     0.86127,     0.86137,     0.86153,     0.86177,     0.86191,     0.86236,     0.86274,     0.86301,      0.8633,     0.86364,     0.86403,     0.86425,     0.86445,     0.86483,     0.86508,     0.86513,     0.86545,     0.86571,\n",
       "            0.86576,     0.86591,     0.86612,     0.86645,     0.86659,     0.86686,       0.867,     0.86725,     0.86755,     0.86794,     0.86816,     0.86825,     0.86842,     0.86857,     0.86867,     0.86899,     0.86909,     0.86924,      0.8695,     0.86981,     0.86989,     0.87006,      0.8702,\n",
       "            0.87046,     0.87071,     0.87085,     0.87119,     0.87138,     0.87171,     0.87206,     0.87225,     0.87247,     0.87268,     0.87284,     0.87314,     0.87333,     0.87373,     0.87391,     0.87401,      0.8741,      0.8743,     0.87453,     0.87477,     0.87498,     0.87528,      0.8754,\n",
       "            0.87553,     0.87574,     0.87587,     0.87627,     0.87648,     0.87675,       0.877,     0.87725,     0.87731,     0.87735,     0.87791,     0.87823,     0.87854,     0.87863,     0.87894,     0.87914,      0.8794,     0.87965,     0.87996,     0.88017,     0.88048,     0.88086,     0.88115,\n",
       "            0.88144,     0.88167,      0.8819,     0.88221,     0.88243,     0.88261,     0.88275,      0.8829,     0.88338,     0.88357,     0.88371,     0.88397,     0.88428,     0.88438,     0.88455,     0.88493,     0.88511,     0.88525,     0.88599,     0.88608,     0.88625,     0.88645,     0.88684,\n",
       "            0.88698,     0.88719,      0.8873,     0.88775,       0.888,     0.88824,     0.88875,       0.889,     0.88925,     0.88945,     0.89001,     0.89008,     0.89026,      0.8906,      0.8909,     0.89124,     0.89143,     0.89168,     0.89225,     0.89251,     0.89267,      0.8929,     0.89321,\n",
       "             0.8936,     0.89398,     0.89436,     0.89455,     0.89494,      0.8952,     0.89546,     0.89596,     0.89624,      0.8963,     0.89636,     0.89658,     0.89692,     0.89741,      0.8976,     0.89798,     0.89832,     0.89862,     0.89882,     0.89901,     0.89952,     0.89963,     0.89996,\n",
       "            0.90016,     0.90048,     0.90092,     0.90118,     0.90132,     0.90151,     0.90188,     0.90197,     0.90247,     0.90254,      0.9028,     0.90294,     0.90305,     0.90333,     0.90345,     0.90385,     0.90404,     0.90425,     0.90456,     0.90464,     0.90465,     0.90497,     0.90529,\n",
       "            0.90545,     0.90578,     0.90623,     0.90644,     0.90661,     0.90678,     0.90682,     0.90701,     0.90723,     0.90744,     0.90747,     0.90767,     0.90779,     0.90786,     0.90786,     0.90811,     0.90819,     0.90845,     0.90864,     0.90873,     0.90895,     0.90919,      0.9094,\n",
       "            0.90965,     0.90997,     0.91031,     0.91059,     0.91096,     0.91114,     0.91141,     0.91149,     0.91164,      0.9118,       0.912,     0.91226,     0.91251,     0.91267,     0.91278,     0.91317,     0.91337,     0.91351,      0.9139,     0.91403,      0.9142,     0.91445,     0.91484,\n",
       "            0.91487,     0.91516,     0.91521,     0.91547,     0.91551,     0.91566,     0.91601,      0.9162,     0.91643,     0.91673,     0.91692,      0.9172,     0.91739,     0.91751,     0.91758,     0.91794,     0.91824,     0.91836,     0.91883,      0.9189,     0.91911,     0.91926,     0.91961,\n",
       "            0.91994,     0.92008,     0.92028,     0.92048,     0.92081,     0.92127,     0.92166,     0.92179,     0.92199,      0.9224,     0.92299,     0.92311,     0.92331,     0.92338,     0.92358,     0.92391,     0.92438,     0.92465,     0.92505,     0.92544,     0.92597,     0.92638,     0.92665,\n",
       "            0.92705,     0.92727,     0.92765,     0.92784,     0.92817,     0.92845,     0.92857,     0.92877,     0.92909,     0.92955,     0.93015,     0.93069,     0.93083,      0.9315,     0.93204,     0.93244,     0.93325,     0.93345,     0.93408,     0.93422,     0.93442,     0.93489,      0.9351,\n",
       "             0.9353,     0.93578,     0.93612,     0.93653,     0.93706,     0.93727,     0.93762,     0.93787,     0.93829,     0.93875,     0.93909,     0.93958,     0.93971,     0.94006,     0.94041,     0.94074,     0.94143,     0.94178,     0.94247,     0.94267,     0.94329,     0.94391,     0.94446,\n",
       "             0.9446,     0.94488,     0.94516,     0.94551,     0.94586,     0.94627,     0.94655,     0.94669,     0.94725,     0.94753,     0.94795,     0.94802,     0.94815,      0.9485,     0.94871,     0.94906,     0.94962,     0.94998,     0.95033,     0.95075,     0.95096,     0.95145,     0.95166,\n",
       "            0.95189,     0.95201,     0.95236,     0.95251,     0.95278,     0.95335,     0.95355,     0.95376,     0.95412,     0.95475,     0.95482,      0.9556,     0.95581,      0.9561,      0.9566,     0.95688,     0.95724,     0.95753,     0.95767,     0.95796,     0.95816,     0.95838,     0.95867,\n",
       "            0.95889,      0.9591,      0.9596,     0.96011,      0.9604,     0.96068,      0.9609,     0.96126,     0.96162,     0.96206,     0.96224,     0.96256,     0.96285,     0.96321,     0.96357,     0.96365,       0.964,      0.9641,     0.96458,     0.96494,     0.96518,     0.96532,     0.96559,\n",
       "            0.96574,     0.96582,     0.96617,     0.96646,      0.9669,     0.96715,     0.96718,     0.96729,     0.96733,     0.96732,     0.96758,     0.96788,     0.96795,      0.9681,      0.9682,      0.9682,     0.96846,      0.9687,     0.96876,     0.96885,     0.96899,     0.96913,     0.96913,\n",
       "            0.96933,     0.96948,     0.96977,     0.96999,     0.97021,     0.97029,     0.97029,     0.97064,     0.97064,     0.97074,     0.97077,     0.97086,      0.9709,     0.97099,     0.97113,     0.97135,     0.97137,     0.97139,     0.97142,     0.97149,     0.97163,       0.972,     0.97203,\n",
       "            0.97218,     0.97225,      0.9724,     0.97254,     0.97258,     0.97264,     0.97276,     0.97286,     0.97298,     0.97322,     0.97343,     0.97343,     0.97344,     0.97349,     0.97374,     0.97386,     0.97392,       0.974,     0.97413,     0.97429,     0.97443,     0.97443,      0.9745,\n",
       "            0.97464,     0.97464,     0.97465,     0.97481,     0.97486,     0.97491,     0.97493,     0.97493,     0.97493,     0.97493,     0.97492,       0.975,     0.97499,     0.97502,     0.97506,     0.97506,     0.97512,     0.97513,     0.97513,     0.97528,      0.9755,     0.97565,     0.97564,\n",
       "            0.97568,      0.9757,     0.97578,      0.9759,     0.97613,     0.97629,     0.97643,     0.97643,     0.97643,     0.97643,     0.97642,     0.97649,     0.97653,     0.97657,     0.97664,     0.97678,     0.97689,     0.97697,     0.97707,     0.97707,     0.97714,     0.97713,     0.97715,\n",
       "            0.97734,     0.97747,     0.97749,     0.97764,     0.97768,     0.97778,      0.9779,     0.97799,       0.978,     0.97807,     0.97813,     0.97812,     0.97812,     0.97819,     0.97826,     0.97833,     0.97842,      0.9786,     0.97876,     0.97885,     0.97892,     0.97902,     0.97915,\n",
       "            0.97915,     0.97914,     0.97913,     0.97921,      0.9792,      0.9792,     0.97919,     0.97948,     0.97978,     0.98005,     0.98054,     0.98054,     0.98061,     0.98061,     0.98083,      0.9809,     0.98099,     0.98105,     0.98128,      0.9814,      0.9818,      0.9818,      0.9818,\n",
       "            0.98202,     0.98216,      0.9827,      0.9827,       0.983,     0.98339,     0.98346,     0.98345,     0.98352,     0.98359,     0.98371,     0.98379,     0.98396,     0.98395,     0.98402,     0.98434,     0.98447,     0.98447,     0.98446,     0.98468,     0.98489,      0.9849,     0.98498,\n",
       "             0.9852,     0.98519,     0.98518,     0.98533,      0.9854,     0.98539,     0.98546,     0.98554,     0.98553,      0.9856,     0.98559,     0.98565,     0.98564,      0.9857,     0.98601,     0.98599,     0.98606,     0.98604,     0.98611,     0.98626,     0.98624,     0.98639,     0.98654,\n",
       "            0.98652,     0.98665,      0.9868,     0.98694,     0.98693,     0.98715,     0.98715,     0.98721,     0.98727,     0.98733,     0.98748,     0.98747,     0.98753,     0.98759,     0.98757,     0.98763,      0.9876,     0.98766,     0.98771,     0.98778,       0.988,     0.98813,     0.98811,\n",
       "            0.98817,     0.98822,     0.98818,     0.98817,     0.98813,     0.98812,     0.98816,     0.98813,     0.98807,     0.98804,     0.98808,     0.98815,     0.98827,     0.98824,      0.9882,     0.98823,     0.98819,     0.98814,     0.98825,     0.98826,     0.98822,     0.98815,      0.9882,\n",
       "            0.98821,     0.98833,     0.98837,     0.98828,     0.98834,     0.98846,     0.98837,     0.98843,     0.98834,     0.98834,     0.98829,     0.98817,     0.98827,     0.98822,     0.98832,     0.98816,     0.98821,     0.98812,     0.98841,     0.98858,      0.9889,     0.98892,     0.98892,\n",
       "            0.98888,     0.98889,     0.98903,     0.98894,      0.9889,     0.98882,     0.98875,     0.98869,     0.98874,     0.98869,     0.98877,     0.98873,     0.98879,     0.98887,     0.98941,     0.98963,     0.98983,     0.98981,      0.9898,     0.98988,      0.9901,     0.99026,      0.9903,\n",
       "            0.99028,     0.99026,     0.99024,     0.99035,     0.99057,     0.99092,     0.99103,     0.99102,     0.99125,     0.99158,     0.99168,      0.9918,     0.99215,     0.99217,     0.99225,     0.99236,     0.99235,     0.99232,     0.99256,     0.99267,     0.99279,     0.99327,     0.99326,\n",
       "            0.99359,     0.99361,     0.99383,     0.99396,     0.99395,     0.99394,     0.99406,     0.99442,     0.99465,     0.99477,     0.99476,     0.99475,     0.99487,     0.99486,     0.99485,     0.99497,     0.99495,     0.99507,     0.99519,     0.99517,     0.99529,     0.99528,     0.99553,\n",
       "            0.99564,     0.99563,     0.99561,     0.99599,     0.99637,     0.99636,     0.99634,     0.99686,     0.99685,     0.99684,     0.99683,     0.99708,     0.99734,     0.99761,     0.99759,     0.99759,     0.99757,     0.99755,     0.99754,     0.99766,     0.99765,     0.99778,     0.99776,\n",
       "            0.99788,     0.99786,     0.99784,     0.99782,      0.9978,     0.99793,     0.99791,     0.99804,     0.99801,     0.99799,     0.99829,     0.99826,     0.99822,     0.99854,     0.99869,     0.99866,     0.99861,     0.99856,     0.99873,     0.99867,     0.99857,     0.99848,      0.9984,\n",
       "            0.99857,     0.99876,     0.99898,     0.99925,     0.99915,     0.99903,     0.99891,     0.99871,     0.99843,     0.99814,     0.99775,     0.99718,     0.99662,     0.99582,     0.99443,     0.99649,     0.99558,     0.99412,      0.9927,      0.9909,     0.98861,           1,           1,\n",
       "                  1,           1,           1,           1,           1,           1,           1,           1,           1,           1,           1,           1,           1,           1,           1,           1,           1,           1,           1,           1,           1,           1,           1,\n",
       "                  1,           1,           1,           1,           1,           1,           1,           1,           1,           1,           1]]), 'Confidence', 'Precision'], [array([          0,    0.001001,    0.002002,    0.003003,    0.004004,    0.005005,    0.006006,    0.007007,    0.008008,    0.009009,     0.01001,    0.011011,    0.012012,    0.013013,    0.014014,    0.015015,    0.016016,    0.017017,    0.018018,    0.019019,     0.02002,    0.021021,    0.022022,    0.023023,\n",
       "          0.024024,    0.025025,    0.026026,    0.027027,    0.028028,    0.029029,     0.03003,    0.031031,    0.032032,    0.033033,    0.034034,    0.035035,    0.036036,    0.037037,    0.038038,    0.039039,     0.04004,    0.041041,    0.042042,    0.043043,    0.044044,    0.045045,    0.046046,    0.047047,\n",
       "          0.048048,    0.049049,     0.05005,    0.051051,    0.052052,    0.053053,    0.054054,    0.055055,    0.056056,    0.057057,    0.058058,    0.059059,     0.06006,    0.061061,    0.062062,    0.063063,    0.064064,    0.065065,    0.066066,    0.067067,    0.068068,    0.069069,     0.07007,    0.071071,\n",
       "          0.072072,    0.073073,    0.074074,    0.075075,    0.076076,    0.077077,    0.078078,    0.079079,     0.08008,    0.081081,    0.082082,    0.083083,    0.084084,    0.085085,    0.086086,    0.087087,    0.088088,    0.089089,     0.09009,    0.091091,    0.092092,    0.093093,    0.094094,    0.095095,\n",
       "          0.096096,    0.097097,    0.098098,    0.099099,      0.1001,      0.1011,      0.1021,      0.1031,      0.1041,     0.10511,     0.10611,     0.10711,     0.10811,     0.10911,     0.11011,     0.11111,     0.11211,     0.11311,     0.11411,     0.11512,     0.11612,     0.11712,     0.11812,     0.11912,\n",
       "           0.12012,     0.12112,     0.12212,     0.12312,     0.12412,     0.12513,     0.12613,     0.12713,     0.12813,     0.12913,     0.13013,     0.13113,     0.13213,     0.13313,     0.13413,     0.13514,     0.13614,     0.13714,     0.13814,     0.13914,     0.14014,     0.14114,     0.14214,     0.14314,\n",
       "           0.14414,     0.14515,     0.14615,     0.14715,     0.14815,     0.14915,     0.15015,     0.15115,     0.15215,     0.15315,     0.15415,     0.15516,     0.15616,     0.15716,     0.15816,     0.15916,     0.16016,     0.16116,     0.16216,     0.16316,     0.16416,     0.16517,     0.16617,     0.16717,\n",
       "           0.16817,     0.16917,     0.17017,     0.17117,     0.17217,     0.17317,     0.17417,     0.17518,     0.17618,     0.17718,     0.17818,     0.17918,     0.18018,     0.18118,     0.18218,     0.18318,     0.18418,     0.18519,     0.18619,     0.18719,     0.18819,     0.18919,     0.19019,     0.19119,\n",
       "           0.19219,     0.19319,     0.19419,      0.1952,      0.1962,      0.1972,      0.1982,      0.1992,      0.2002,      0.2012,      0.2022,      0.2032,      0.2042,     0.20521,     0.20621,     0.20721,     0.20821,     0.20921,     0.21021,     0.21121,     0.21221,     0.21321,     0.21421,     0.21522,\n",
       "           0.21622,     0.21722,     0.21822,     0.21922,     0.22022,     0.22122,     0.22222,     0.22322,     0.22422,     0.22523,     0.22623,     0.22723,     0.22823,     0.22923,     0.23023,     0.23123,     0.23223,     0.23323,     0.23423,     0.23524,     0.23624,     0.23724,     0.23824,     0.23924,\n",
       "           0.24024,     0.24124,     0.24224,     0.24324,     0.24424,     0.24525,     0.24625,     0.24725,     0.24825,     0.24925,     0.25025,     0.25125,     0.25225,     0.25325,     0.25425,     0.25526,     0.25626,     0.25726,     0.25826,     0.25926,     0.26026,     0.26126,     0.26226,     0.26326,\n",
       "           0.26426,     0.26527,     0.26627,     0.26727,     0.26827,     0.26927,     0.27027,     0.27127,     0.27227,     0.27327,     0.27427,     0.27528,     0.27628,     0.27728,     0.27828,     0.27928,     0.28028,     0.28128,     0.28228,     0.28328,     0.28428,     0.28529,     0.28629,     0.28729,\n",
       "           0.28829,     0.28929,     0.29029,     0.29129,     0.29229,     0.29329,     0.29429,      0.2953,      0.2963,      0.2973,      0.2983,      0.2993,      0.3003,      0.3013,      0.3023,      0.3033,      0.3043,     0.30531,     0.30631,     0.30731,     0.30831,     0.30931,     0.31031,     0.31131,\n",
       "           0.31231,     0.31331,     0.31431,     0.31532,     0.31632,     0.31732,     0.31832,     0.31932,     0.32032,     0.32132,     0.32232,     0.32332,     0.32432,     0.32533,     0.32633,     0.32733,     0.32833,     0.32933,     0.33033,     0.33133,     0.33233,     0.33333,     0.33433,     0.33534,\n",
       "           0.33634,     0.33734,     0.33834,     0.33934,     0.34034,     0.34134,     0.34234,     0.34334,     0.34434,     0.34535,     0.34635,     0.34735,     0.34835,     0.34935,     0.35035,     0.35135,     0.35235,     0.35335,     0.35435,     0.35536,     0.35636,     0.35736,     0.35836,     0.35936,\n",
       "           0.36036,     0.36136,     0.36236,     0.36336,     0.36436,     0.36537,     0.36637,     0.36737,     0.36837,     0.36937,     0.37037,     0.37137,     0.37237,     0.37337,     0.37437,     0.37538,     0.37638,     0.37738,     0.37838,     0.37938,     0.38038,     0.38138,     0.38238,     0.38338,\n",
       "           0.38438,     0.38539,     0.38639,     0.38739,     0.38839,     0.38939,     0.39039,     0.39139,     0.39239,     0.39339,     0.39439,      0.3954,      0.3964,      0.3974,      0.3984,      0.3994,      0.4004,      0.4014,      0.4024,      0.4034,      0.4044,     0.40541,     0.40641,     0.40741,\n",
       "           0.40841,     0.40941,     0.41041,     0.41141,     0.41241,     0.41341,     0.41441,     0.41542,     0.41642,     0.41742,     0.41842,     0.41942,     0.42042,     0.42142,     0.42242,     0.42342,     0.42442,     0.42543,     0.42643,     0.42743,     0.42843,     0.42943,     0.43043,     0.43143,\n",
       "           0.43243,     0.43343,     0.43443,     0.43544,     0.43644,     0.43744,     0.43844,     0.43944,     0.44044,     0.44144,     0.44244,     0.44344,     0.44444,     0.44545,     0.44645,     0.44745,     0.44845,     0.44945,     0.45045,     0.45145,     0.45245,     0.45345,     0.45445,     0.45546,\n",
       "           0.45646,     0.45746,     0.45846,     0.45946,     0.46046,     0.46146,     0.46246,     0.46346,     0.46446,     0.46547,     0.46647,     0.46747,     0.46847,     0.46947,     0.47047,     0.47147,     0.47247,     0.47347,     0.47447,     0.47548,     0.47648,     0.47748,     0.47848,     0.47948,\n",
       "           0.48048,     0.48148,     0.48248,     0.48348,     0.48448,     0.48549,     0.48649,     0.48749,     0.48849,     0.48949,     0.49049,     0.49149,     0.49249,     0.49349,     0.49449,      0.4955,      0.4965,      0.4975,      0.4985,      0.4995,      0.5005,      0.5015,      0.5025,      0.5035,\n",
       "            0.5045,     0.50551,     0.50651,     0.50751,     0.50851,     0.50951,     0.51051,     0.51151,     0.51251,     0.51351,     0.51451,     0.51552,     0.51652,     0.51752,     0.51852,     0.51952,     0.52052,     0.52152,     0.52252,     0.52352,     0.52452,     0.52553,     0.52653,     0.52753,\n",
       "           0.52853,     0.52953,     0.53053,     0.53153,     0.53253,     0.53353,     0.53453,     0.53554,     0.53654,     0.53754,     0.53854,     0.53954,     0.54054,     0.54154,     0.54254,     0.54354,     0.54454,     0.54555,     0.54655,     0.54755,     0.54855,     0.54955,     0.55055,     0.55155,\n",
       "           0.55255,     0.55355,     0.55455,     0.55556,     0.55656,     0.55756,     0.55856,     0.55956,     0.56056,     0.56156,     0.56256,     0.56356,     0.56456,     0.56557,     0.56657,     0.56757,     0.56857,     0.56957,     0.57057,     0.57157,     0.57257,     0.57357,     0.57457,     0.57558,\n",
       "           0.57658,     0.57758,     0.57858,     0.57958,     0.58058,     0.58158,     0.58258,     0.58358,     0.58458,     0.58559,     0.58659,     0.58759,     0.58859,     0.58959,     0.59059,     0.59159,     0.59259,     0.59359,     0.59459,      0.5956,      0.5966,      0.5976,      0.5986,      0.5996,\n",
       "            0.6006,      0.6016,      0.6026,      0.6036,      0.6046,     0.60561,     0.60661,     0.60761,     0.60861,     0.60961,     0.61061,     0.61161,     0.61261,     0.61361,     0.61461,     0.61562,     0.61662,     0.61762,     0.61862,     0.61962,     0.62062,     0.62162,     0.62262,     0.62362,\n",
       "           0.62462,     0.62563,     0.62663,     0.62763,     0.62863,     0.62963,     0.63063,     0.63163,     0.63263,     0.63363,     0.63463,     0.63564,     0.63664,     0.63764,     0.63864,     0.63964,     0.64064,     0.64164,     0.64264,     0.64364,     0.64464,     0.64565,     0.64665,     0.64765,\n",
       "           0.64865,     0.64965,     0.65065,     0.65165,     0.65265,     0.65365,     0.65465,     0.65566,     0.65666,     0.65766,     0.65866,     0.65966,     0.66066,     0.66166,     0.66266,     0.66366,     0.66466,     0.66567,     0.66667,     0.66767,     0.66867,     0.66967,     0.67067,     0.67167,\n",
       "           0.67267,     0.67367,     0.67467,     0.67568,     0.67668,     0.67768,     0.67868,     0.67968,     0.68068,     0.68168,     0.68268,     0.68368,     0.68468,     0.68569,     0.68669,     0.68769,     0.68869,     0.68969,     0.69069,     0.69169,     0.69269,     0.69369,     0.69469,      0.6957,\n",
       "            0.6967,      0.6977,      0.6987,      0.6997,      0.7007,      0.7017,      0.7027,      0.7037,      0.7047,     0.70571,     0.70671,     0.70771,     0.70871,     0.70971,     0.71071,     0.71171,     0.71271,     0.71371,     0.71471,     0.71572,     0.71672,     0.71772,     0.71872,     0.71972,\n",
       "           0.72072,     0.72172,     0.72272,     0.72372,     0.72472,     0.72573,     0.72673,     0.72773,     0.72873,     0.72973,     0.73073,     0.73173,     0.73273,     0.73373,     0.73473,     0.73574,     0.73674,     0.73774,     0.73874,     0.73974,     0.74074,     0.74174,     0.74274,     0.74374,\n",
       "           0.74474,     0.74575,     0.74675,     0.74775,     0.74875,     0.74975,     0.75075,     0.75175,     0.75275,     0.75375,     0.75475,     0.75576,     0.75676,     0.75776,     0.75876,     0.75976,     0.76076,     0.76176,     0.76276,     0.76376,     0.76476,     0.76577,     0.76677,     0.76777,\n",
       "           0.76877,     0.76977,     0.77077,     0.77177,     0.77277,     0.77377,     0.77477,     0.77578,     0.77678,     0.77778,     0.77878,     0.77978,     0.78078,     0.78178,     0.78278,     0.78378,     0.78478,     0.78579,     0.78679,     0.78779,     0.78879,     0.78979,     0.79079,     0.79179,\n",
       "           0.79279,     0.79379,     0.79479,      0.7958,      0.7968,      0.7978,      0.7988,      0.7998,      0.8008,      0.8018,      0.8028,      0.8038,      0.8048,     0.80581,     0.80681,     0.80781,     0.80881,     0.80981,     0.81081,     0.81181,     0.81281,     0.81381,     0.81481,     0.81582,\n",
       "           0.81682,     0.81782,     0.81882,     0.81982,     0.82082,     0.82182,     0.82282,     0.82382,     0.82482,     0.82583,     0.82683,     0.82783,     0.82883,     0.82983,     0.83083,     0.83183,     0.83283,     0.83383,     0.83483,     0.83584,     0.83684,     0.83784,     0.83884,     0.83984,\n",
       "           0.84084,     0.84184,     0.84284,     0.84384,     0.84484,     0.84585,     0.84685,     0.84785,     0.84885,     0.84985,     0.85085,     0.85185,     0.85285,     0.85385,     0.85485,     0.85586,     0.85686,     0.85786,     0.85886,     0.85986,     0.86086,     0.86186,     0.86286,     0.86386,\n",
       "           0.86486,     0.86587,     0.86687,     0.86787,     0.86887,     0.86987,     0.87087,     0.87187,     0.87287,     0.87387,     0.87487,     0.87588,     0.87688,     0.87788,     0.87888,     0.87988,     0.88088,     0.88188,     0.88288,     0.88388,     0.88488,     0.88589,     0.88689,     0.88789,\n",
       "           0.88889,     0.88989,     0.89089,     0.89189,     0.89289,     0.89389,     0.89489,      0.8959,      0.8969,      0.8979,      0.8989,      0.8999,      0.9009,      0.9019,      0.9029,      0.9039,      0.9049,     0.90591,     0.90691,     0.90791,     0.90891,     0.90991,     0.91091,     0.91191,\n",
       "           0.91291,     0.91391,     0.91491,     0.91592,     0.91692,     0.91792,     0.91892,     0.91992,     0.92092,     0.92192,     0.92292,     0.92392,     0.92492,     0.92593,     0.92693,     0.92793,     0.92893,     0.92993,     0.93093,     0.93193,     0.93293,     0.93393,     0.93493,     0.93594,\n",
       "           0.93694,     0.93794,     0.93894,     0.93994,     0.94094,     0.94194,     0.94294,     0.94394,     0.94494,     0.94595,     0.94695,     0.94795,     0.94895,     0.94995,     0.95095,     0.95195,     0.95295,     0.95395,     0.95495,     0.95596,     0.95696,     0.95796,     0.95896,     0.95996,\n",
       "           0.96096,     0.96196,     0.96296,     0.96396,     0.96496,     0.96597,     0.96697,     0.96797,     0.96897,     0.96997,     0.97097,     0.97197,     0.97297,     0.97397,     0.97497,     0.97598,     0.97698,     0.97798,     0.97898,     0.97998,     0.98098,     0.98198,     0.98298,     0.98398,\n",
       "           0.98498,     0.98599,     0.98699,     0.98799,     0.98899,     0.98999,     0.99099,     0.99199,     0.99299,     0.99399,     0.99499,       0.996,       0.997,       0.998,       0.999,           1]), array([[    0.98391,     0.98391,     0.98347,     0.98265,     0.98258,     0.98235,      0.9822,     0.98176,     0.98154,     0.98154,     0.98124,     0.98124,     0.98109,     0.98102,     0.98094,     0.98072,     0.98035,     0.98028,     0.98005,     0.97968,     0.97954,     0.97924,     0.97924,\n",
       "            0.97909,     0.97902,     0.97894,     0.97865,     0.97828,      0.9782,      0.9782,     0.97798,     0.97761,     0.97739,     0.97731,     0.97715,     0.97701,     0.97701,     0.97687,     0.97657,     0.97657,     0.97642,     0.97635,     0.97627,      0.9762,     0.97598,     0.97598,\n",
       "            0.97598,      0.9759,     0.97567,     0.97561,     0.97546,     0.97546,     0.97546,     0.97546,     0.97531,     0.97505,     0.97486,     0.97486,     0.97479,     0.97472,     0.97449,     0.97449,     0.97435,     0.97427,     0.97405,     0.97397,     0.97397,     0.97397,     0.97397,\n",
       "            0.97383,     0.97368,     0.97346,     0.97331,     0.97309,     0.97301,     0.97294,     0.97294,     0.97286,     0.97279,     0.97279,     0.97279,     0.97279,     0.97271,     0.97264,     0.97257,     0.97257,     0.97257,     0.97242,     0.97224,      0.9722,     0.97212,     0.97197,\n",
       "            0.97175,     0.97145,     0.97145,     0.97145,     0.97145,     0.97131,     0.97131,     0.97123,     0.97108,     0.97093,     0.97093,     0.97079,     0.97079,     0.97076,     0.97071,     0.97071,     0.97071,     0.97071,     0.97056,     0.97049,     0.97042,     0.97034,     0.97034,\n",
       "            0.97028,     0.97027,     0.97007,     0.97005,     0.96997,      0.9699,     0.96982,     0.96975,     0.96975,     0.96975,      0.9696,     0.96957,     0.96953,     0.96938,      0.9693,     0.96919,     0.96908,     0.96893,     0.96878,     0.96871,      0.9686,     0.96855,     0.96849,\n",
       "            0.96835,     0.96834,     0.96834,     0.96828,     0.96827,     0.96809,     0.96804,     0.96804,     0.96804,     0.96804,     0.96804,     0.96804,     0.96797,     0.96797,     0.96787,     0.96782,     0.96767,     0.96766,      0.9676,     0.96752,     0.96745,     0.96745,      0.9673,\n",
       "             0.9673,      0.9673,      0.9673,      0.9673,     0.96723,     0.96708,     0.96708,     0.96708,     0.96708,     0.96708,     0.96708,     0.96701,     0.96701,     0.96696,      0.9669,     0.96678,     0.96678,     0.96671,     0.96663,     0.96649,     0.96649,     0.96641,     0.96641,\n",
       "            0.96641,     0.96634,     0.96634,     0.96634,     0.96634,     0.96626,     0.96612,     0.96604,     0.96601,     0.96582,     0.96582,     0.96582,     0.96574,     0.96574,     0.96565,      0.9656,      0.9656,     0.96552,     0.96545,     0.96545,     0.96545,     0.96545,     0.96532,\n",
       "            0.96523,     0.96515,     0.96515,     0.96515,     0.96515,     0.96508,       0.965,       0.965,       0.965,       0.965,     0.96494,     0.96486,     0.96486,     0.96486,     0.96478,     0.96478,     0.96478,     0.96471,     0.96471,     0.96471,     0.96469,     0.96463,     0.96448,\n",
       "            0.96434,     0.96426,     0.96419,     0.96397,     0.96397,     0.96397,     0.96397,     0.96382,     0.96374,     0.96374,     0.96374,     0.96374,     0.96374,     0.96374,     0.96374,     0.96367,     0.96367,     0.96367,     0.96364,     0.96359,     0.96352,     0.96352,     0.96352,\n",
       "            0.96352,     0.96349,     0.96345,     0.96337,     0.96337,      0.9633,      0.9633,     0.96325,     0.96322,     0.96322,     0.96322,     0.96322,     0.96308,     0.96302,       0.963,     0.96285,     0.96285,     0.96285,     0.96278,     0.96278,      0.9627,      0.9627,      0.9627,\n",
       "             0.9627,     0.96268,     0.96263,     0.96256,     0.96256,     0.96256,     0.96241,     0.96233,     0.96233,     0.96233,     0.96226,     0.96219,     0.96211,     0.96211,     0.96211,     0.96211,     0.96204,     0.96204,     0.96204,     0.96204,       0.962,     0.96189,     0.96189,\n",
       "            0.96189,     0.96189,     0.96189,     0.96182,     0.96182,     0.96182,     0.96182,     0.96182,     0.96174,     0.96174,     0.96174,     0.96167,     0.96152,     0.96122,     0.96115,     0.96107,     0.96107,     0.96107,       0.961,       0.961,       0.961,       0.961,     0.96085,\n",
       "            0.96078,     0.96078,      0.9607,      0.9607,      0.9607,     0.96063,     0.96063,     0.96056,     0.96048,     0.96041,     0.96041,     0.96041,     0.96041,     0.96041,     0.96033,     0.96033,     0.96033,     0.96033,     0.96033,     0.96033,      0.9602,     0.96018,     0.96018,\n",
       "            0.96002,     0.95989,     0.95981,     0.95969,     0.95966,     0.95966,     0.95966,     0.95959,     0.95959,     0.95956,     0.95952,     0.95944,     0.95937,     0.95929,     0.95922,     0.95915,     0.95915,     0.95915,     0.95907,     0.95878,     0.95878,     0.95863,     0.95856,\n",
       "            0.95855,     0.95855,     0.95855,     0.95855,     0.95855,      0.9584,      0.9584,     0.95828,     0.95826,     0.95826,     0.95826,     0.95826,     0.95818,     0.95811,     0.95811,     0.95811,     0.95811,     0.95811,     0.95784,     0.95776,     0.95774,     0.95766,     0.95737,\n",
       "            0.95737,     0.95737,     0.95737,     0.95714,     0.95714,     0.95708,     0.95707,       0.957,       0.957,       0.957,       0.957,       0.957,     0.95692,     0.95685,     0.95685,     0.95685,     0.95676,     0.95668,     0.95662,     0.95662,     0.95655,     0.95643,      0.9564,\n",
       "             0.9564,      0.9564,      0.9564,      0.9564,      0.9564,      0.9564,     0.95633,     0.95625,     0.95625,     0.95618,     0.95617,      0.9561,     0.95596,     0.95596,     0.95596,     0.95596,     0.95596,     0.95596,     0.95596,     0.95588,     0.95588,     0.95581,     0.95574,\n",
       "            0.95574,     0.95568,     0.95566,     0.95551,     0.95544,     0.95538,     0.95536,     0.95515,     0.95507,     0.95492,     0.95485,     0.95485,     0.95485,     0.95477,     0.95477,      0.9547,     0.95462,     0.95462,     0.95462,     0.95462,     0.95462,     0.95455,     0.95447,\n",
       "            0.95447,     0.95447,     0.95447,      0.9544,     0.95425,     0.95418,     0.95405,     0.95403,     0.95403,     0.95381,     0.95373,     0.95373,     0.95366,     0.95366,      0.9536,     0.95351,     0.95351,     0.95351,     0.95351,     0.95344,     0.95329,     0.95321,     0.95314,\n",
       "            0.95314,     0.95314,     0.95314,     0.95314,     0.95307,     0.95299,     0.95292,     0.95292,     0.95292,     0.95292,     0.95292,     0.95284,      0.9527,     0.95262,     0.95262,     0.95262,     0.95255,     0.95255,     0.95255,     0.95247,     0.95232,     0.95232,     0.95225,\n",
       "            0.95213,     0.95203,     0.95195,     0.95182,     0.95181,     0.95181,     0.95166,     0.95151,     0.95151,     0.95143,     0.95129,     0.95121,     0.95114,     0.95114,     0.95106,     0.95106,     0.95106,     0.95106,     0.95099,     0.95092,     0.95076,     0.95069,     0.95069,\n",
       "            0.95069,     0.95062,     0.95062,     0.95054,     0.95054,     0.95047,     0.95047,      0.9504,      0.9504,      0.9504,     0.95036,     0.95032,     0.95025,     0.95017,      0.9501,     0.95003,     0.94988,     0.94983,     0.94973,     0.94958,     0.94953,      0.9493,     0.94921,\n",
       "            0.94914,       0.949,     0.94899,     0.94891,     0.94884,     0.94862,     0.94843,     0.94832,     0.94828,     0.94821,     0.94817,     0.94817,     0.94817,     0.94817,     0.94815,     0.94811,     0.94788,     0.94782,     0.94773,     0.94767,     0.94752,      0.9474,     0.94736,\n",
       "            0.94713,     0.94713,     0.94691,     0.94676,     0.94676,     0.94676,     0.94647,      0.9463,     0.94626,     0.94617,     0.94617,     0.94612,      0.9458,     0.94567,     0.94537,     0.94522,     0.94521,     0.94521,     0.94521,     0.94477,     0.94476,     0.94466,     0.94454,\n",
       "            0.94454,     0.94447,     0.94432,     0.94409,     0.94398,     0.94375,     0.94358,     0.94353,      0.9435,     0.94297,     0.94274,     0.94245,     0.94224,     0.94222,     0.94202,     0.94184,     0.94155,     0.94147,     0.94143,     0.94113,     0.94106,     0.94083,     0.94068,\n",
       "            0.94053,     0.94046,     0.94039,     0.94039,     0.94034,     0.94031,     0.94015,     0.94012,      0.9401,     0.93981,     0.93974,     0.93962,     0.93955,     0.93935,     0.93932,     0.93924,     0.93913,     0.93905,     0.93898,     0.93883,     0.93875,      0.9386,     0.93845,\n",
       "            0.93816,     0.93797,     0.93789,     0.93772,     0.93764,     0.93726,     0.93703,     0.93695,      0.9368,      0.9367,     0.93647,     0.93632,     0.93631,     0.93631,     0.93598,     0.93575,     0.93564,     0.93549,     0.93512,     0.93483,     0.93474,     0.93444,     0.93431,\n",
       "            0.93389,     0.93379,     0.93366,     0.93334,     0.93334,     0.93302,     0.93297,     0.93297,     0.93291,     0.93268,     0.93168,     0.93145,     0.93138,     0.93112,     0.93089,     0.93059,     0.93053,     0.93038,     0.93038,     0.93012,     0.92984,     0.92978,     0.92955,\n",
       "             0.9295,     0.92935,     0.92891,     0.92872,      0.9285,     0.92839,     0.92786,     0.92756,     0.92708,     0.92697,     0.92674,     0.92652,     0.92622,     0.92603,     0.92588,     0.92547,     0.92534,     0.92516,     0.92484,     0.92445,     0.92398,     0.92391,     0.92373,\n",
       "            0.92335,     0.92304,     0.92264,     0.92216,     0.92185,     0.92178,     0.92137,     0.92092,     0.92059,     0.92021,     0.91992,      0.9197,     0.91865,     0.91819,     0.91787,     0.91696,     0.91672,     0.91625,     0.91593,      0.9153,     0.91503,      0.9143,     0.91385,\n",
       "            0.91285,     0.91267,     0.91199,     0.91136,     0.91073,      0.9102,      0.9098,     0.90957,     0.90887,     0.90833,     0.90779,     0.90649,     0.90558,     0.90474,     0.90381,      0.9029,     0.90229,     0.90099,     0.90044,     0.89969,     0.89799,     0.89768,     0.89638,\n",
       "            0.89538,     0.89301,     0.89215,     0.89078,      0.8901,      0.8887,     0.88832,      0.8874,     0.88536,      0.8843,     0.88276,     0.88214,     0.88101,     0.87949,     0.87805,     0.87585,     0.87404,      0.8727,     0.87033,     0.86906,     0.86698,     0.86409,     0.86279,\n",
       "            0.86052,     0.85863,     0.85555,     0.85463,     0.85213,     0.85077,     0.84775,     0.84572,     0.84107,     0.83949,     0.83594,     0.83474,     0.83082,     0.82873,     0.82607,     0.82194,     0.81916,     0.81512,      0.8107,     0.80536,     0.80261,     0.79735,      0.7945,\n",
       "            0.78948,     0.78467,     0.78132,     0.77523,     0.77336,     0.76833,     0.76249,     0.75987,     0.75386,     0.74758,     0.74436,     0.73702,     0.73067,     0.72767,     0.72181,      0.7118,     0.70875,     0.70311,     0.69584,     0.69314,     0.68694,     0.68145,     0.67493,\n",
       "            0.67232,     0.66675,     0.66208,     0.65651,     0.65383,     0.64931,     0.64501,      0.6416,     0.63803,      0.6351,     0.63335,     0.63076,     0.62808,     0.62571,      0.6237,     0.62251,     0.62065,     0.61918,     0.61857,     0.61656,     0.61552,     0.61452,     0.61285,\n",
       "             0.6121,     0.61084,     0.60957,     0.60875,     0.60764,     0.60711,     0.60615,     0.60518,     0.60443,      0.6025,     0.60131,     0.60049,     0.59967,     0.59872,     0.59811,     0.59714,     0.59595,     0.59424,     0.59342,     0.59283,      0.5923,      0.5906,      0.5897,\n",
       "            0.58886,     0.58791,     0.58671,     0.58605,     0.58516,      0.5836,     0.58285,     0.58122,     0.57936,     0.57825,     0.57706,     0.57631,     0.57482,     0.57408,     0.57296,     0.57177,     0.57021,     0.56858,     0.56702,     0.56538,     0.56412,       0.563,     0.56122,\n",
       "            0.55892,     0.55728,      0.5552,     0.55179,     0.54971,     0.54733,     0.54458,     0.54176,     0.53961,     0.53812,     0.53582,     0.53255,     0.52869,     0.52573,     0.52253,     0.52075,     0.51719,     0.51296,     0.51028,     0.50568,     0.50257,      0.4993,       0.495,\n",
       "             0.4878,     0.48439,     0.47889,     0.47452,     0.46977,     0.46569,     0.46049,     0.45396,      0.4461,     0.44083,     0.43364,     0.42481,      0.4162,     0.40612,      0.3964,     0.38579,     0.37222,     0.36028,     0.34953,     0.33499,     0.31081,     0.29264,       0.277,\n",
       "             0.2586,     0.23829,     0.21797,      0.1969,     0.17399,     0.15248,     0.13595,     0.11437,    0.094491,     0.07951,    0.065715,     0.05244,    0.043687,    0.035305,    0.026478,    0.021061,    0.016683,    0.012527,    0.010077,   0.0080709,    0.006436,   0.0048752,   0.0039076,\n",
       "          0.0028658,   0.0015275,  0.00078235,  0.00040791,  0.00027362,  0.00024322,   0.0001002,           0,           0,           0,           0,           0,           0,           0,           0,           0,           0,           0,           0,           0,           0,           0,           0,\n",
       "                  0,           0,           0,           0,           0,           0,           0,           0,           0,           0,           0]]), 'Confidence', 'Recall'], [array([          0,    0.001001,    0.002002,    0.003003,    0.004004,    0.005005,    0.006006,    0.007007,    0.008008,    0.009009,     0.01001,    0.011011,    0.012012,    0.013013,    0.014014,    0.015015,    0.016016,    0.017017,    0.018018,    0.019019,     0.02002,    0.021021,    0.022022,    0.023023,\n",
       "          0.024024,    0.025025,    0.026026,    0.027027,    0.028028,    0.029029,     0.03003,    0.031031,    0.032032,    0.033033,    0.034034,    0.035035,    0.036036,    0.037037,    0.038038,    0.039039,     0.04004,    0.041041,    0.042042,    0.043043,    0.044044,    0.045045,    0.046046,    0.047047,\n",
       "          0.048048,    0.049049,     0.05005,    0.051051,    0.052052,    0.053053,    0.054054,    0.055055,    0.056056,    0.057057,    0.058058,    0.059059,     0.06006,    0.061061,    0.062062,    0.063063,    0.064064,    0.065065,    0.066066,    0.067067,    0.068068,    0.069069,     0.07007,    0.071071,\n",
       "          0.072072,    0.073073,    0.074074,    0.075075,    0.076076,    0.077077,    0.078078,    0.079079,     0.08008,    0.081081,    0.082082,    0.083083,    0.084084,    0.085085,    0.086086,    0.087087,    0.088088,    0.089089,     0.09009,    0.091091,    0.092092,    0.093093,    0.094094,    0.095095,\n",
       "          0.096096,    0.097097,    0.098098,    0.099099,      0.1001,      0.1011,      0.1021,      0.1031,      0.1041,     0.10511,     0.10611,     0.10711,     0.10811,     0.10911,     0.11011,     0.11111,     0.11211,     0.11311,     0.11411,     0.11512,     0.11612,     0.11712,     0.11812,     0.11912,\n",
       "           0.12012,     0.12112,     0.12212,     0.12312,     0.12412,     0.12513,     0.12613,     0.12713,     0.12813,     0.12913,     0.13013,     0.13113,     0.13213,     0.13313,     0.13413,     0.13514,     0.13614,     0.13714,     0.13814,     0.13914,     0.14014,     0.14114,     0.14214,     0.14314,\n",
       "           0.14414,     0.14515,     0.14615,     0.14715,     0.14815,     0.14915,     0.15015,     0.15115,     0.15215,     0.15315,     0.15415,     0.15516,     0.15616,     0.15716,     0.15816,     0.15916,     0.16016,     0.16116,     0.16216,     0.16316,     0.16416,     0.16517,     0.16617,     0.16717,\n",
       "           0.16817,     0.16917,     0.17017,     0.17117,     0.17217,     0.17317,     0.17417,     0.17518,     0.17618,     0.17718,     0.17818,     0.17918,     0.18018,     0.18118,     0.18218,     0.18318,     0.18418,     0.18519,     0.18619,     0.18719,     0.18819,     0.18919,     0.19019,     0.19119,\n",
       "           0.19219,     0.19319,     0.19419,      0.1952,      0.1962,      0.1972,      0.1982,      0.1992,      0.2002,      0.2012,      0.2022,      0.2032,      0.2042,     0.20521,     0.20621,     0.20721,     0.20821,     0.20921,     0.21021,     0.21121,     0.21221,     0.21321,     0.21421,     0.21522,\n",
       "           0.21622,     0.21722,     0.21822,     0.21922,     0.22022,     0.22122,     0.22222,     0.22322,     0.22422,     0.22523,     0.22623,     0.22723,     0.22823,     0.22923,     0.23023,     0.23123,     0.23223,     0.23323,     0.23423,     0.23524,     0.23624,     0.23724,     0.23824,     0.23924,\n",
       "           0.24024,     0.24124,     0.24224,     0.24324,     0.24424,     0.24525,     0.24625,     0.24725,     0.24825,     0.24925,     0.25025,     0.25125,     0.25225,     0.25325,     0.25425,     0.25526,     0.25626,     0.25726,     0.25826,     0.25926,     0.26026,     0.26126,     0.26226,     0.26326,\n",
       "           0.26426,     0.26527,     0.26627,     0.26727,     0.26827,     0.26927,     0.27027,     0.27127,     0.27227,     0.27327,     0.27427,     0.27528,     0.27628,     0.27728,     0.27828,     0.27928,     0.28028,     0.28128,     0.28228,     0.28328,     0.28428,     0.28529,     0.28629,     0.28729,\n",
       "           0.28829,     0.28929,     0.29029,     0.29129,     0.29229,     0.29329,     0.29429,      0.2953,      0.2963,      0.2973,      0.2983,      0.2993,      0.3003,      0.3013,      0.3023,      0.3033,      0.3043,     0.30531,     0.30631,     0.30731,     0.30831,     0.30931,     0.31031,     0.31131,\n",
       "           0.31231,     0.31331,     0.31431,     0.31532,     0.31632,     0.31732,     0.31832,     0.31932,     0.32032,     0.32132,     0.32232,     0.32332,     0.32432,     0.32533,     0.32633,     0.32733,     0.32833,     0.32933,     0.33033,     0.33133,     0.33233,     0.33333,     0.33433,     0.33534,\n",
       "           0.33634,     0.33734,     0.33834,     0.33934,     0.34034,     0.34134,     0.34234,     0.34334,     0.34434,     0.34535,     0.34635,     0.34735,     0.34835,     0.34935,     0.35035,     0.35135,     0.35235,     0.35335,     0.35435,     0.35536,     0.35636,     0.35736,     0.35836,     0.35936,\n",
       "           0.36036,     0.36136,     0.36236,     0.36336,     0.36436,     0.36537,     0.36637,     0.36737,     0.36837,     0.36937,     0.37037,     0.37137,     0.37237,     0.37337,     0.37437,     0.37538,     0.37638,     0.37738,     0.37838,     0.37938,     0.38038,     0.38138,     0.38238,     0.38338,\n",
       "           0.38438,     0.38539,     0.38639,     0.38739,     0.38839,     0.38939,     0.39039,     0.39139,     0.39239,     0.39339,     0.39439,      0.3954,      0.3964,      0.3974,      0.3984,      0.3994,      0.4004,      0.4014,      0.4024,      0.4034,      0.4044,     0.40541,     0.40641,     0.40741,\n",
       "           0.40841,     0.40941,     0.41041,     0.41141,     0.41241,     0.41341,     0.41441,     0.41542,     0.41642,     0.41742,     0.41842,     0.41942,     0.42042,     0.42142,     0.42242,     0.42342,     0.42442,     0.42543,     0.42643,     0.42743,     0.42843,     0.42943,     0.43043,     0.43143,\n",
       "           0.43243,     0.43343,     0.43443,     0.43544,     0.43644,     0.43744,     0.43844,     0.43944,     0.44044,     0.44144,     0.44244,     0.44344,     0.44444,     0.44545,     0.44645,     0.44745,     0.44845,     0.44945,     0.45045,     0.45145,     0.45245,     0.45345,     0.45445,     0.45546,\n",
       "           0.45646,     0.45746,     0.45846,     0.45946,     0.46046,     0.46146,     0.46246,     0.46346,     0.46446,     0.46547,     0.46647,     0.46747,     0.46847,     0.46947,     0.47047,     0.47147,     0.47247,     0.47347,     0.47447,     0.47548,     0.47648,     0.47748,     0.47848,     0.47948,\n",
       "           0.48048,     0.48148,     0.48248,     0.48348,     0.48448,     0.48549,     0.48649,     0.48749,     0.48849,     0.48949,     0.49049,     0.49149,     0.49249,     0.49349,     0.49449,      0.4955,      0.4965,      0.4975,      0.4985,      0.4995,      0.5005,      0.5015,      0.5025,      0.5035,\n",
       "            0.5045,     0.50551,     0.50651,     0.50751,     0.50851,     0.50951,     0.51051,     0.51151,     0.51251,     0.51351,     0.51451,     0.51552,     0.51652,     0.51752,     0.51852,     0.51952,     0.52052,     0.52152,     0.52252,     0.52352,     0.52452,     0.52553,     0.52653,     0.52753,\n",
       "           0.52853,     0.52953,     0.53053,     0.53153,     0.53253,     0.53353,     0.53453,     0.53554,     0.53654,     0.53754,     0.53854,     0.53954,     0.54054,     0.54154,     0.54254,     0.54354,     0.54454,     0.54555,     0.54655,     0.54755,     0.54855,     0.54955,     0.55055,     0.55155,\n",
       "           0.55255,     0.55355,     0.55455,     0.55556,     0.55656,     0.55756,     0.55856,     0.55956,     0.56056,     0.56156,     0.56256,     0.56356,     0.56456,     0.56557,     0.56657,     0.56757,     0.56857,     0.56957,     0.57057,     0.57157,     0.57257,     0.57357,     0.57457,     0.57558,\n",
       "           0.57658,     0.57758,     0.57858,     0.57958,     0.58058,     0.58158,     0.58258,     0.58358,     0.58458,     0.58559,     0.58659,     0.58759,     0.58859,     0.58959,     0.59059,     0.59159,     0.59259,     0.59359,     0.59459,      0.5956,      0.5966,      0.5976,      0.5986,      0.5996,\n",
       "            0.6006,      0.6016,      0.6026,      0.6036,      0.6046,     0.60561,     0.60661,     0.60761,     0.60861,     0.60961,     0.61061,     0.61161,     0.61261,     0.61361,     0.61461,     0.61562,     0.61662,     0.61762,     0.61862,     0.61962,     0.62062,     0.62162,     0.62262,     0.62362,\n",
       "           0.62462,     0.62563,     0.62663,     0.62763,     0.62863,     0.62963,     0.63063,     0.63163,     0.63263,     0.63363,     0.63463,     0.63564,     0.63664,     0.63764,     0.63864,     0.63964,     0.64064,     0.64164,     0.64264,     0.64364,     0.64464,     0.64565,     0.64665,     0.64765,\n",
       "           0.64865,     0.64965,     0.65065,     0.65165,     0.65265,     0.65365,     0.65465,     0.65566,     0.65666,     0.65766,     0.65866,     0.65966,     0.66066,     0.66166,     0.66266,     0.66366,     0.66466,     0.66567,     0.66667,     0.66767,     0.66867,     0.66967,     0.67067,     0.67167,\n",
       "           0.67267,     0.67367,     0.67467,     0.67568,     0.67668,     0.67768,     0.67868,     0.67968,     0.68068,     0.68168,     0.68268,     0.68368,     0.68468,     0.68569,     0.68669,     0.68769,     0.68869,     0.68969,     0.69069,     0.69169,     0.69269,     0.69369,     0.69469,      0.6957,\n",
       "            0.6967,      0.6977,      0.6987,      0.6997,      0.7007,      0.7017,      0.7027,      0.7037,      0.7047,     0.70571,     0.70671,     0.70771,     0.70871,     0.70971,     0.71071,     0.71171,     0.71271,     0.71371,     0.71471,     0.71572,     0.71672,     0.71772,     0.71872,     0.71972,\n",
       "           0.72072,     0.72172,     0.72272,     0.72372,     0.72472,     0.72573,     0.72673,     0.72773,     0.72873,     0.72973,     0.73073,     0.73173,     0.73273,     0.73373,     0.73473,     0.73574,     0.73674,     0.73774,     0.73874,     0.73974,     0.74074,     0.74174,     0.74274,     0.74374,\n",
       "           0.74474,     0.74575,     0.74675,     0.74775,     0.74875,     0.74975,     0.75075,     0.75175,     0.75275,     0.75375,     0.75475,     0.75576,     0.75676,     0.75776,     0.75876,     0.75976,     0.76076,     0.76176,     0.76276,     0.76376,     0.76476,     0.76577,     0.76677,     0.76777,\n",
       "           0.76877,     0.76977,     0.77077,     0.77177,     0.77277,     0.77377,     0.77477,     0.77578,     0.77678,     0.77778,     0.77878,     0.77978,     0.78078,     0.78178,     0.78278,     0.78378,     0.78478,     0.78579,     0.78679,     0.78779,     0.78879,     0.78979,     0.79079,     0.79179,\n",
       "           0.79279,     0.79379,     0.79479,      0.7958,      0.7968,      0.7978,      0.7988,      0.7998,      0.8008,      0.8018,      0.8028,      0.8038,      0.8048,     0.80581,     0.80681,     0.80781,     0.80881,     0.80981,     0.81081,     0.81181,     0.81281,     0.81381,     0.81481,     0.81582,\n",
       "           0.81682,     0.81782,     0.81882,     0.81982,     0.82082,     0.82182,     0.82282,     0.82382,     0.82482,     0.82583,     0.82683,     0.82783,     0.82883,     0.82983,     0.83083,     0.83183,     0.83283,     0.83383,     0.83483,     0.83584,     0.83684,     0.83784,     0.83884,     0.83984,\n",
       "           0.84084,     0.84184,     0.84284,     0.84384,     0.84484,     0.84585,     0.84685,     0.84785,     0.84885,     0.84985,     0.85085,     0.85185,     0.85285,     0.85385,     0.85485,     0.85586,     0.85686,     0.85786,     0.85886,     0.85986,     0.86086,     0.86186,     0.86286,     0.86386,\n",
       "           0.86486,     0.86587,     0.86687,     0.86787,     0.86887,     0.86987,     0.87087,     0.87187,     0.87287,     0.87387,     0.87487,     0.87588,     0.87688,     0.87788,     0.87888,     0.87988,     0.88088,     0.88188,     0.88288,     0.88388,     0.88488,     0.88589,     0.88689,     0.88789,\n",
       "           0.88889,     0.88989,     0.89089,     0.89189,     0.89289,     0.89389,     0.89489,      0.8959,      0.8969,      0.8979,      0.8989,      0.8999,      0.9009,      0.9019,      0.9029,      0.9039,      0.9049,     0.90591,     0.90691,     0.90791,     0.90891,     0.90991,     0.91091,     0.91191,\n",
       "           0.91291,     0.91391,     0.91491,     0.91592,     0.91692,     0.91792,     0.91892,     0.91992,     0.92092,     0.92192,     0.92292,     0.92392,     0.92492,     0.92593,     0.92693,     0.92793,     0.92893,     0.92993,     0.93093,     0.93193,     0.93293,     0.93393,     0.93493,     0.93594,\n",
       "           0.93694,     0.93794,     0.93894,     0.93994,     0.94094,     0.94194,     0.94294,     0.94394,     0.94494,     0.94595,     0.94695,     0.94795,     0.94895,     0.94995,     0.95095,     0.95195,     0.95295,     0.95395,     0.95495,     0.95596,     0.95696,     0.95796,     0.95896,     0.95996,\n",
       "           0.96096,     0.96196,     0.96296,     0.96396,     0.96496,     0.96597,     0.96697,     0.96797,     0.96897,     0.96997,     0.97097,     0.97197,     0.97297,     0.97397,     0.97497,     0.97598,     0.97698,     0.97798,     0.97898,     0.97998,     0.98098,     0.98198,     0.98298,     0.98398,\n",
       "           0.98498,     0.98599,     0.98699,     0.98799,     0.98899,     0.98999,     0.99099,     0.99199,     0.99299,     0.99399,     0.99499,       0.996,       0.997,       0.998,       0.999,           1]), array([[          1,           1,           1,     0.99412,     0.99412,     0.99412,     0.99412,     0.99412,     0.99412,     0.99412,     0.99412,     0.99412,     0.99412,     0.99412,     0.99412,     0.99412,     0.99412,     0.99412,     0.99412,     0.99412,     0.99412,     0.99412,     0.99412,\n",
       "            0.99412,     0.99412,     0.99412,     0.99412,     0.99412,     0.99412,     0.99412,     0.99412,     0.99412,     0.99412,     0.99412,     0.99412,     0.99412,     0.99412,     0.99412,     0.99412,     0.99412,     0.99412,     0.99412,     0.99412,     0.99412,     0.99412,     0.99412,\n",
       "            0.99412,     0.99412,     0.99412,     0.99412,     0.99412,     0.99412,     0.99412,     0.99412,     0.99412,     0.99412,     0.99412,     0.99412,     0.99412,     0.99412,     0.99412,     0.99412,     0.99412,     0.99412,     0.99412,     0.99412,     0.99412,     0.99412,     0.99412,\n",
       "            0.99412,     0.99412,     0.99412,     0.99412,     0.99412,     0.99412,     0.99412,     0.99412,     0.99412,     0.99412,     0.99412,     0.99412,     0.99412,     0.99412,     0.99412,     0.99412,     0.99412,     0.99412,     0.99412,     0.99359,     0.99359,     0.99359,     0.99359,\n",
       "            0.99359,     0.99359,     0.99359,     0.99359,     0.99359,     0.99359,     0.99359,     0.99359,     0.99359,     0.99359,     0.99359,     0.99359,     0.99347,     0.99347,     0.99347,     0.99347,     0.99347,     0.99347,     0.99347,     0.99347,     0.99347,     0.99347,     0.99347,\n",
       "            0.99347,     0.99347,     0.99347,     0.99347,     0.99347,     0.99347,     0.99347,     0.99347,     0.99347,     0.99347,     0.99347,     0.99347,     0.99347,     0.99347,     0.99347,     0.99347,     0.99347,     0.99347,     0.99347,     0.99347,     0.99347,     0.99347,     0.99347,\n",
       "            0.99347,     0.99347,     0.99347,     0.99347,     0.99347,     0.99347,     0.99347,     0.99347,     0.99347,     0.99312,     0.99312,     0.99312,     0.99312,     0.99312,     0.99312,     0.99312,     0.99312,     0.99312,     0.99312,     0.99312,     0.99312,     0.99312,     0.99312,\n",
       "            0.99312,     0.99312,     0.99312,     0.99312,     0.99312,     0.99312,     0.99312,     0.99312,     0.99312,     0.99312,     0.99312,     0.99312,     0.99312,     0.99312,     0.99312,     0.99312,     0.99312,     0.99312,     0.99312,     0.99312,     0.99312,     0.99312,     0.99312,\n",
       "            0.99312,     0.99312,     0.99312,     0.99312,     0.99312,     0.99312,     0.99312,     0.99312,     0.99312,     0.99312,     0.99312,     0.99312,     0.99312,     0.99312,     0.99312,     0.99312,     0.99312,     0.99312,     0.99312,     0.99312,     0.99289,     0.99289,     0.99289,\n",
       "            0.99279,     0.99279,     0.99279,     0.99279,     0.99279,     0.99279,     0.99279,     0.99279,      0.9926,      0.9926,      0.9926,      0.9926,     0.99245,     0.99245,     0.99245,     0.99245,     0.99245,     0.99245,     0.99223,     0.99223,     0.99223,     0.99199,     0.99199,\n",
       "            0.99183,     0.99183,     0.99183,     0.99183,     0.99181,     0.99181,     0.99181,     0.99181,     0.99181,     0.99181,     0.99181,     0.99181,     0.99181,     0.99159,     0.99159,     0.99152,     0.99152,     0.99152,     0.99152,     0.99152,     0.99152,     0.99152,     0.99152,\n",
       "            0.99152,     0.99152,     0.99152,     0.99152,     0.99152,     0.99152,     0.99152,     0.99152,     0.99152,     0.99152,     0.99152,     0.99152,     0.99152,     0.99152,     0.99152,     0.99152,     0.99152,     0.99152,     0.99152,     0.99152,     0.99152,     0.99152,     0.99152,\n",
       "            0.99152,     0.99152,      0.9914,      0.9914,      0.9914,      0.9914,      0.9914,      0.9914,      0.9914,      0.9914,      0.9914,      0.9914,      0.9914,      0.9914,      0.9914,      0.9914,      0.9914,      0.9914,      0.9914,      0.9914,      0.9914,      0.9914,      0.9914,\n",
       "             0.9914,      0.9914,      0.9914,      0.9914,      0.9914,      0.9914,      0.9914,      0.9914,      0.9914,      0.9913,      0.9913,      0.9913,      0.9913,      0.9913,      0.9913,      0.9913,      0.9913,      0.9913,      0.9913,      0.9913,      0.9913,      0.9913,     0.99116,\n",
       "            0.99116,     0.99116,     0.99094,     0.99084,     0.99084,     0.99084,     0.99084,     0.99066,     0.99066,      0.9905,      0.9905,     0.99036,     0.99036,     0.99026,     0.99026,     0.99026,     0.99026,     0.99012,     0.99012,     0.99012,     0.99012,     0.99012,     0.99012,\n",
       "            0.99012,     0.99012,     0.99012,     0.99012,     0.99003,     0.99003,     0.99003,     0.99003,     0.99003,     0.99003,     0.99003,     0.99003,     0.99003,     0.99003,     0.99003,     0.99003,     0.98999,     0.98999,     0.98999,     0.98999,     0.98999,     0.98999,     0.98994,\n",
       "            0.98994,     0.98994,     0.98994,     0.98994,     0.98994,     0.98994,     0.98994,     0.98994,     0.98994,     0.98994,     0.98994,     0.98983,     0.98983,     0.98983,     0.98983,     0.98975,     0.98975,     0.98975,     0.98975,     0.98975,     0.98975,     0.98975,     0.98975,\n",
       "            0.98975,     0.98975,     0.98975,     0.98945,     0.98945,     0.98945,     0.98935,     0.98935,     0.98935,     0.98925,     0.98925,     0.98925,     0.98915,     0.98915,     0.98915,     0.98903,     0.98903,     0.98888,     0.98872,     0.98865,     0.98865,     0.98865,     0.98865,\n",
       "            0.98865,     0.98865,     0.98865,     0.98865,     0.98865,     0.98865,     0.98862,     0.98862,     0.98862,     0.98862,     0.98862,     0.98862,     0.98862,     0.98862,     0.98862,     0.98862,     0.98862,     0.98862,      0.9885,     0.98841,     0.98841,     0.98841,     0.98829,\n",
       "            0.98829,     0.98816,     0.98815,     0.98815,     0.98815,     0.98815,     0.98815,     0.98815,      0.9881,      0.9881,      0.9881,      0.9881,     0.98808,     0.98808,     0.98808,     0.98808,     0.98808,     0.98808,     0.98794,     0.98784,     0.98784,     0.98784,     0.98784,\n",
       "            0.98784,     0.98784,     0.98784,     0.98784,     0.98777,     0.98777,     0.98777,     0.98777,     0.98777,     0.98777,     0.98777,     0.98777,     0.98777,     0.98767,     0.98767,     0.98767,     0.98767,     0.98767,     0.98767,     0.98767,     0.98767,     0.98758,     0.98758,\n",
       "            0.98758,      0.9875,      0.9875,     0.98738,     0.98736,     0.98736,     0.98736,     0.98736,     0.98736,     0.98734,     0.98734,     0.98734,     0.98734,     0.98734,     0.98722,     0.98711,     0.98711,     0.98685,     0.98675,     0.98675,     0.98675,     0.98675,     0.98675,\n",
       "            0.98675,     0.98675,      0.9867,      0.9867,      0.9867,      0.9867,      0.9867,      0.9867,      0.9867,      0.9867,      0.9867,     0.98667,     0.98667,     0.98667,     0.98667,     0.98657,     0.98657,     0.98632,     0.98607,     0.98596,     0.98585,     0.98574,     0.98562,\n",
       "            0.98555,     0.98555,     0.98551,     0.98551,     0.98551,     0.98542,     0.98542,     0.98518,       0.985,       0.985,       0.985,       0.985,     0.98496,     0.98496,     0.98496,     0.98486,     0.98463,     0.98448,     0.98448,     0.98448,     0.98448,     0.98448,     0.98448,\n",
       "            0.98448,     0.98448,     0.98448,     0.98414,     0.98414,     0.98404,      0.9839,      0.9839,      0.9839,      0.9839,     0.98371,     0.98371,     0.98371,     0.98371,     0.98371,     0.98371,     0.98371,     0.98368,     0.98368,     0.98368,     0.98361,     0.98361,      0.9835,\n",
       "            0.98303,     0.98291,     0.98291,     0.98291,     0.98291,     0.98258,     0.98248,     0.98226,     0.98205,     0.98182,     0.98161,     0.98129,     0.98104,     0.98104,     0.98104,     0.98104,     0.98095,     0.98086,     0.98055,     0.98036,     0.98036,     0.98008,     0.98008,\n",
       "            0.97989,     0.97989,     0.97968,     0.97945,     0.97945,     0.97945,     0.97945,     0.97945,     0.97945,     0.97945,     0.97936,     0.97928,     0.97902,     0.97902,     0.97895,     0.97895,     0.97875,     0.97869,     0.97851,     0.97851,     0.97797,     0.97791,     0.97791,\n",
       "            0.97791,     0.97791,     0.97791,     0.97791,     0.97791,     0.97791,      0.9778,      0.9778,      0.9778,     0.97773,     0.97773,     0.97773,     0.97773,     0.97773,     0.97773,     0.97773,     0.97773,     0.97773,     0.97773,     0.97773,     0.97768,     0.97768,     0.97762,\n",
       "            0.97753,     0.97745,     0.97726,     0.97723,     0.97723,     0.97723,     0.97723,     0.97723,     0.97723,     0.97723,     0.97723,     0.97714,     0.97697,     0.97697,     0.97697,     0.97697,     0.97697,     0.97697,     0.97697,     0.97697,     0.97695,     0.97695,     0.97686,\n",
       "            0.97684,     0.97684,     0.97679,     0.97679,      0.9767,      0.9767,      0.9767,     0.97656,     0.97656,     0.97656,     0.97656,     0.97656,     0.97647,     0.97642,     0.97642,     0.97636,      0.9762,     0.97618,     0.97618,     0.97618,     0.97592,     0.97584,     0.97558,\n",
       "            0.97553,     0.97553,     0.97547,      0.9753,      0.9753,      0.9753,      0.9753,      0.9753,      0.9753,      0.9753,      0.9753,      0.9753,      0.9753,      0.9753,      0.9753,      0.9753,      0.9753,      0.9753,      0.9753,      0.9753,      0.9753,      0.9753,      0.9753,\n",
       "             0.9753,     0.97528,     0.97528,     0.97528,     0.97528,     0.97528,     0.97519,     0.97518,     0.97518,     0.97512,     0.97504,     0.97504,     0.97504,     0.97504,     0.97494,     0.97494,     0.97494,     0.97489,     0.97489,     0.97489,     0.97489,     0.97489,     0.97489,\n",
       "            0.97489,     0.97483,     0.97481,     0.97481,     0.97457,     0.97457,     0.97451,     0.97447,     0.97447,     0.97447,     0.97447,     0.97445,     0.97445,     0.97439,     0.97439,     0.97439,     0.97439,     0.97434,     0.97433,     0.97433,     0.97433,     0.97433,     0.97433,\n",
       "            0.97433,     0.97421,     0.97415,     0.97415,     0.97386,     0.97386,     0.97374,     0.97374,     0.97367,     0.97366,     0.97366,     0.97352,     0.97351,     0.97351,     0.97351,     0.97337,      0.9733,      0.9733,      0.9733,     0.97324,     0.97315,     0.97315,     0.97315,\n",
       "            0.97309,     0.97308,     0.97308,     0.97305,     0.97305,     0.97305,     0.97305,     0.97305,     0.97304,     0.97304,     0.97303,     0.97303,     0.97302,     0.97302,     0.97302,     0.97302,     0.97302,     0.97302,     0.97302,     0.97302,      0.9729,      0.9729,     0.97271,\n",
       "            0.97271,     0.97264,     0.97264,     0.97264,     0.97264,     0.97264,     0.97264,     0.97264,     0.97264,     0.97264,     0.97264,     0.97264,     0.97264,     0.97264,     0.97264,     0.97251,     0.97241,     0.97241,     0.97241,     0.97241,     0.97241,     0.97241,     0.97241,\n",
       "            0.97241,     0.97241,     0.97241,     0.97241,     0.97241,     0.97241,     0.97241,     0.97241,     0.97237,     0.97237,     0.97237,     0.97237,     0.97237,     0.97237,      0.9723,      0.9722,      0.9722,     0.97199,     0.97193,     0.97175,     0.97175,     0.97164,     0.97164,\n",
       "            0.97137,     0.97122,     0.97117,     0.97113,     0.97106,     0.97069,     0.97049,     0.97037,     0.97032,     0.97025,     0.97018,     0.97018,     0.97007,     0.97007,     0.96991,     0.96991,     0.96971,     0.96967,     0.96967,     0.96963,     0.96959,     0.96954,     0.96934,\n",
       "            0.96912,     0.96901,     0.96888,     0.96883,     0.96876,     0.96876,     0.96863,     0.96852,     0.96848,     0.96827,     0.96825,     0.96825,     0.96823,     0.96823,     0.96787,     0.96785,     0.96775,     0.96775,     0.96763,     0.96734,     0.96723,     0.96712,     0.96653,\n",
       "            0.96648,     0.96599,     0.96586,     0.96559,      0.9654,     0.96514,     0.96495,     0.96423,     0.96364,     0.96307,     0.96237,     0.96203,     0.96101,     0.96076,     0.96072,     0.96053,     0.96002,     0.96002,     0.95953,     0.95905,     0.95888,     0.95825,     0.95778,\n",
       "            0.95731,     0.95641,     0.95601,     0.95538,     0.95455,     0.95394,     0.95275,     0.95215,     0.95054,     0.94857,     0.94648,     0.94002,     0.93297,     0.92911,     0.91964,     0.91259,     0.90465,     0.89818,     0.89562,     0.89081,      0.8873,     0.88192,      0.8768,\n",
       "            0.86718,     0.85894,     0.85584,     0.85096,     0.84742,     0.84116,     0.83531,     0.83275,     0.82731,     0.82003,     0.81777,     0.80996,     0.80311,     0.79452,     0.78608,     0.77855,     0.76882,     0.75552,      0.7432,     0.71316,     0.67816,     0.63161,      0.5584,\n",
       "            0.54198,     0.52556,     0.50913,     0.49271,     0.47629,     0.45986,     0.44344,     0.42701,     0.41059,     0.39417,     0.37774,     0.36132,      0.3449,     0.32847,     0.31205,     0.29563,      0.2792,     0.26278,     0.24635,     0.22993,     0.21351,     0.19708,     0.18066,\n",
       "            0.16424,     0.14781,     0.13139,     0.11497,    0.098542,    0.082118,    0.065695,    0.049271,    0.032847,    0.016424,           0]]), 'Recall', 'Precision'], [array([          0,    0.001001,    0.002002,    0.003003,    0.004004,    0.005005,    0.006006,    0.007007,    0.008008,    0.009009,     0.01001,    0.011011,    0.012012,    0.013013,    0.014014,    0.015015,    0.016016,    0.017017,    0.018018,    0.019019,     0.02002,    0.021021,    0.022022,    0.023023,\n",
       "          0.024024,    0.025025,    0.026026,    0.027027,    0.028028,    0.029029,     0.03003,    0.031031,    0.032032,    0.033033,    0.034034,    0.035035,    0.036036,    0.037037,    0.038038,    0.039039,     0.04004,    0.041041,    0.042042,    0.043043,    0.044044,    0.045045,    0.046046,    0.047047,\n",
       "          0.048048,    0.049049,     0.05005,    0.051051,    0.052052,    0.053053,    0.054054,    0.055055,    0.056056,    0.057057,    0.058058,    0.059059,     0.06006,    0.061061,    0.062062,    0.063063,    0.064064,    0.065065,    0.066066,    0.067067,    0.068068,    0.069069,     0.07007,    0.071071,\n",
       "          0.072072,    0.073073,    0.074074,    0.075075,    0.076076,    0.077077,    0.078078,    0.079079,     0.08008,    0.081081,    0.082082,    0.083083,    0.084084,    0.085085,    0.086086,    0.087087,    0.088088,    0.089089,     0.09009,    0.091091,    0.092092,    0.093093,    0.094094,    0.095095,\n",
       "          0.096096,    0.097097,    0.098098,    0.099099,      0.1001,      0.1011,      0.1021,      0.1031,      0.1041,     0.10511,     0.10611,     0.10711,     0.10811,     0.10911,     0.11011,     0.11111,     0.11211,     0.11311,     0.11411,     0.11512,     0.11612,     0.11712,     0.11812,     0.11912,\n",
       "           0.12012,     0.12112,     0.12212,     0.12312,     0.12412,     0.12513,     0.12613,     0.12713,     0.12813,     0.12913,     0.13013,     0.13113,     0.13213,     0.13313,     0.13413,     0.13514,     0.13614,     0.13714,     0.13814,     0.13914,     0.14014,     0.14114,     0.14214,     0.14314,\n",
       "           0.14414,     0.14515,     0.14615,     0.14715,     0.14815,     0.14915,     0.15015,     0.15115,     0.15215,     0.15315,     0.15415,     0.15516,     0.15616,     0.15716,     0.15816,     0.15916,     0.16016,     0.16116,     0.16216,     0.16316,     0.16416,     0.16517,     0.16617,     0.16717,\n",
       "           0.16817,     0.16917,     0.17017,     0.17117,     0.17217,     0.17317,     0.17417,     0.17518,     0.17618,     0.17718,     0.17818,     0.17918,     0.18018,     0.18118,     0.18218,     0.18318,     0.18418,     0.18519,     0.18619,     0.18719,     0.18819,     0.18919,     0.19019,     0.19119,\n",
       "           0.19219,     0.19319,     0.19419,      0.1952,      0.1962,      0.1972,      0.1982,      0.1992,      0.2002,      0.2012,      0.2022,      0.2032,      0.2042,     0.20521,     0.20621,     0.20721,     0.20821,     0.20921,     0.21021,     0.21121,     0.21221,     0.21321,     0.21421,     0.21522,\n",
       "           0.21622,     0.21722,     0.21822,     0.21922,     0.22022,     0.22122,     0.22222,     0.22322,     0.22422,     0.22523,     0.22623,     0.22723,     0.22823,     0.22923,     0.23023,     0.23123,     0.23223,     0.23323,     0.23423,     0.23524,     0.23624,     0.23724,     0.23824,     0.23924,\n",
       "           0.24024,     0.24124,     0.24224,     0.24324,     0.24424,     0.24525,     0.24625,     0.24725,     0.24825,     0.24925,     0.25025,     0.25125,     0.25225,     0.25325,     0.25425,     0.25526,     0.25626,     0.25726,     0.25826,     0.25926,     0.26026,     0.26126,     0.26226,     0.26326,\n",
       "           0.26426,     0.26527,     0.26627,     0.26727,     0.26827,     0.26927,     0.27027,     0.27127,     0.27227,     0.27327,     0.27427,     0.27528,     0.27628,     0.27728,     0.27828,     0.27928,     0.28028,     0.28128,     0.28228,     0.28328,     0.28428,     0.28529,     0.28629,     0.28729,\n",
       "           0.28829,     0.28929,     0.29029,     0.29129,     0.29229,     0.29329,     0.29429,      0.2953,      0.2963,      0.2973,      0.2983,      0.2993,      0.3003,      0.3013,      0.3023,      0.3033,      0.3043,     0.30531,     0.30631,     0.30731,     0.30831,     0.30931,     0.31031,     0.31131,\n",
       "           0.31231,     0.31331,     0.31431,     0.31532,     0.31632,     0.31732,     0.31832,     0.31932,     0.32032,     0.32132,     0.32232,     0.32332,     0.32432,     0.32533,     0.32633,     0.32733,     0.32833,     0.32933,     0.33033,     0.33133,     0.33233,     0.33333,     0.33433,     0.33534,\n",
       "           0.33634,     0.33734,     0.33834,     0.33934,     0.34034,     0.34134,     0.34234,     0.34334,     0.34434,     0.34535,     0.34635,     0.34735,     0.34835,     0.34935,     0.35035,     0.35135,     0.35235,     0.35335,     0.35435,     0.35536,     0.35636,     0.35736,     0.35836,     0.35936,\n",
       "           0.36036,     0.36136,     0.36236,     0.36336,     0.36436,     0.36537,     0.36637,     0.36737,     0.36837,     0.36937,     0.37037,     0.37137,     0.37237,     0.37337,     0.37437,     0.37538,     0.37638,     0.37738,     0.37838,     0.37938,     0.38038,     0.38138,     0.38238,     0.38338,\n",
       "           0.38438,     0.38539,     0.38639,     0.38739,     0.38839,     0.38939,     0.39039,     0.39139,     0.39239,     0.39339,     0.39439,      0.3954,      0.3964,      0.3974,      0.3984,      0.3994,      0.4004,      0.4014,      0.4024,      0.4034,      0.4044,     0.40541,     0.40641,     0.40741,\n",
       "           0.40841,     0.40941,     0.41041,     0.41141,     0.41241,     0.41341,     0.41441,     0.41542,     0.41642,     0.41742,     0.41842,     0.41942,     0.42042,     0.42142,     0.42242,     0.42342,     0.42442,     0.42543,     0.42643,     0.42743,     0.42843,     0.42943,     0.43043,     0.43143,\n",
       "           0.43243,     0.43343,     0.43443,     0.43544,     0.43644,     0.43744,     0.43844,     0.43944,     0.44044,     0.44144,     0.44244,     0.44344,     0.44444,     0.44545,     0.44645,     0.44745,     0.44845,     0.44945,     0.45045,     0.45145,     0.45245,     0.45345,     0.45445,     0.45546,\n",
       "           0.45646,     0.45746,     0.45846,     0.45946,     0.46046,     0.46146,     0.46246,     0.46346,     0.46446,     0.46547,     0.46647,     0.46747,     0.46847,     0.46947,     0.47047,     0.47147,     0.47247,     0.47347,     0.47447,     0.47548,     0.47648,     0.47748,     0.47848,     0.47948,\n",
       "           0.48048,     0.48148,     0.48248,     0.48348,     0.48448,     0.48549,     0.48649,     0.48749,     0.48849,     0.48949,     0.49049,     0.49149,     0.49249,     0.49349,     0.49449,      0.4955,      0.4965,      0.4975,      0.4985,      0.4995,      0.5005,      0.5015,      0.5025,      0.5035,\n",
       "            0.5045,     0.50551,     0.50651,     0.50751,     0.50851,     0.50951,     0.51051,     0.51151,     0.51251,     0.51351,     0.51451,     0.51552,     0.51652,     0.51752,     0.51852,     0.51952,     0.52052,     0.52152,     0.52252,     0.52352,     0.52452,     0.52553,     0.52653,     0.52753,\n",
       "           0.52853,     0.52953,     0.53053,     0.53153,     0.53253,     0.53353,     0.53453,     0.53554,     0.53654,     0.53754,     0.53854,     0.53954,     0.54054,     0.54154,     0.54254,     0.54354,     0.54454,     0.54555,     0.54655,     0.54755,     0.54855,     0.54955,     0.55055,     0.55155,\n",
       "           0.55255,     0.55355,     0.55455,     0.55556,     0.55656,     0.55756,     0.55856,     0.55956,     0.56056,     0.56156,     0.56256,     0.56356,     0.56456,     0.56557,     0.56657,     0.56757,     0.56857,     0.56957,     0.57057,     0.57157,     0.57257,     0.57357,     0.57457,     0.57558,\n",
       "           0.57658,     0.57758,     0.57858,     0.57958,     0.58058,     0.58158,     0.58258,     0.58358,     0.58458,     0.58559,     0.58659,     0.58759,     0.58859,     0.58959,     0.59059,     0.59159,     0.59259,     0.59359,     0.59459,      0.5956,      0.5966,      0.5976,      0.5986,      0.5996,\n",
       "            0.6006,      0.6016,      0.6026,      0.6036,      0.6046,     0.60561,     0.60661,     0.60761,     0.60861,     0.60961,     0.61061,     0.61161,     0.61261,     0.61361,     0.61461,     0.61562,     0.61662,     0.61762,     0.61862,     0.61962,     0.62062,     0.62162,     0.62262,     0.62362,\n",
       "           0.62462,     0.62563,     0.62663,     0.62763,     0.62863,     0.62963,     0.63063,     0.63163,     0.63263,     0.63363,     0.63463,     0.63564,     0.63664,     0.63764,     0.63864,     0.63964,     0.64064,     0.64164,     0.64264,     0.64364,     0.64464,     0.64565,     0.64665,     0.64765,\n",
       "           0.64865,     0.64965,     0.65065,     0.65165,     0.65265,     0.65365,     0.65465,     0.65566,     0.65666,     0.65766,     0.65866,     0.65966,     0.66066,     0.66166,     0.66266,     0.66366,     0.66466,     0.66567,     0.66667,     0.66767,     0.66867,     0.66967,     0.67067,     0.67167,\n",
       "           0.67267,     0.67367,     0.67467,     0.67568,     0.67668,     0.67768,     0.67868,     0.67968,     0.68068,     0.68168,     0.68268,     0.68368,     0.68468,     0.68569,     0.68669,     0.68769,     0.68869,     0.68969,     0.69069,     0.69169,     0.69269,     0.69369,     0.69469,      0.6957,\n",
       "            0.6967,      0.6977,      0.6987,      0.6997,      0.7007,      0.7017,      0.7027,      0.7037,      0.7047,     0.70571,     0.70671,     0.70771,     0.70871,     0.70971,     0.71071,     0.71171,     0.71271,     0.71371,     0.71471,     0.71572,     0.71672,     0.71772,     0.71872,     0.71972,\n",
       "           0.72072,     0.72172,     0.72272,     0.72372,     0.72472,     0.72573,     0.72673,     0.72773,     0.72873,     0.72973,     0.73073,     0.73173,     0.73273,     0.73373,     0.73473,     0.73574,     0.73674,     0.73774,     0.73874,     0.73974,     0.74074,     0.74174,     0.74274,     0.74374,\n",
       "           0.74474,     0.74575,     0.74675,     0.74775,     0.74875,     0.74975,     0.75075,     0.75175,     0.75275,     0.75375,     0.75475,     0.75576,     0.75676,     0.75776,     0.75876,     0.75976,     0.76076,     0.76176,     0.76276,     0.76376,     0.76476,     0.76577,     0.76677,     0.76777,\n",
       "           0.76877,     0.76977,     0.77077,     0.77177,     0.77277,     0.77377,     0.77477,     0.77578,     0.77678,     0.77778,     0.77878,     0.77978,     0.78078,     0.78178,     0.78278,     0.78378,     0.78478,     0.78579,     0.78679,     0.78779,     0.78879,     0.78979,     0.79079,     0.79179,\n",
       "           0.79279,     0.79379,     0.79479,      0.7958,      0.7968,      0.7978,      0.7988,      0.7998,      0.8008,      0.8018,      0.8028,      0.8038,      0.8048,     0.80581,     0.80681,     0.80781,     0.80881,     0.80981,     0.81081,     0.81181,     0.81281,     0.81381,     0.81481,     0.81582,\n",
       "           0.81682,     0.81782,     0.81882,     0.81982,     0.82082,     0.82182,     0.82282,     0.82382,     0.82482,     0.82583,     0.82683,     0.82783,     0.82883,     0.82983,     0.83083,     0.83183,     0.83283,     0.83383,     0.83483,     0.83584,     0.83684,     0.83784,     0.83884,     0.83984,\n",
       "           0.84084,     0.84184,     0.84284,     0.84384,     0.84484,     0.84585,     0.84685,     0.84785,     0.84885,     0.84985,     0.85085,     0.85185,     0.85285,     0.85385,     0.85485,     0.85586,     0.85686,     0.85786,     0.85886,     0.85986,     0.86086,     0.86186,     0.86286,     0.86386,\n",
       "           0.86486,     0.86587,     0.86687,     0.86787,     0.86887,     0.86987,     0.87087,     0.87187,     0.87287,     0.87387,     0.87487,     0.87588,     0.87688,     0.87788,     0.87888,     0.87988,     0.88088,     0.88188,     0.88288,     0.88388,     0.88488,     0.88589,     0.88689,     0.88789,\n",
       "           0.88889,     0.88989,     0.89089,     0.89189,     0.89289,     0.89389,     0.89489,      0.8959,      0.8969,      0.8979,      0.8989,      0.8999,      0.9009,      0.9019,      0.9029,      0.9039,      0.9049,     0.90591,     0.90691,     0.90791,     0.90891,     0.90991,     0.91091,     0.91191,\n",
       "           0.91291,     0.91391,     0.91491,     0.91592,     0.91692,     0.91792,     0.91892,     0.91992,     0.92092,     0.92192,     0.92292,     0.92392,     0.92492,     0.92593,     0.92693,     0.92793,     0.92893,     0.92993,     0.93093,     0.93193,     0.93293,     0.93393,     0.93493,     0.93594,\n",
       "           0.93694,     0.93794,     0.93894,     0.93994,     0.94094,     0.94194,     0.94294,     0.94394,     0.94494,     0.94595,     0.94695,     0.94795,     0.94895,     0.94995,     0.95095,     0.95195,     0.95295,     0.95395,     0.95495,     0.95596,     0.95696,     0.95796,     0.95896,     0.95996,\n",
       "           0.96096,     0.96196,     0.96296,     0.96396,     0.96496,     0.96597,     0.96697,     0.96797,     0.96897,     0.96997,     0.97097,     0.97197,     0.97297,     0.97397,     0.97497,     0.97598,     0.97698,     0.97798,     0.97898,     0.97998,     0.98098,     0.98198,     0.98298,     0.98398,\n",
       "           0.98498,     0.98599,     0.98699,     0.98799,     0.98899,     0.98999,     0.99099,     0.99199,     0.99299,     0.99399,     0.99499,       0.996,       0.997,       0.998,       0.999,           1]), array([[     0.7115,      0.7115,     0.75281,     0.77248,     0.78612,     0.79692,     0.80424,      0.8091,     0.81425,     0.81927,     0.82379,     0.82688,     0.82999,     0.83274,      0.8352,     0.83784,     0.83985,     0.84147,     0.84268,     0.84424,     0.84582,     0.84706,     0.84813,\n",
       "            0.84905,     0.85043,      0.8516,     0.85271,     0.85367,     0.85481,     0.85596,     0.85686,     0.85765,     0.85856,     0.85917,     0.85977,     0.86033,     0.86104,     0.86157,     0.86225,     0.86287,     0.86344,     0.86384,     0.86442,     0.86498,     0.86549,     0.86615,\n",
       "            0.86679,     0.86726,      0.8677,     0.86817,     0.86851,     0.86913,     0.86973,     0.87041,      0.8706,      0.8711,     0.87151,     0.87186,     0.87231,     0.87271,      0.8729,     0.87328,     0.87368,     0.87419,     0.87465,     0.87489,     0.87528,     0.87567,     0.87601,\n",
       "            0.87626,     0.87645,     0.87648,     0.87671,     0.87689,     0.87715,      0.8774,     0.87777,     0.87794,     0.87824,     0.87857,     0.87895,     0.87937,     0.87951,     0.87981,     0.88015,     0.88036,     0.88061,     0.88063,     0.88087,     0.88103,     0.88124,     0.88133,\n",
       "            0.88153,     0.88153,     0.88171,     0.88184,     0.88212,     0.88224,     0.88242,     0.88253,     0.88272,     0.88294,     0.88319,     0.88331,     0.88369,     0.88401,     0.88426,     0.88449,     0.88475,     0.88505,      0.8852,     0.88542,     0.88576,     0.88603,     0.88633,\n",
       "            0.88649,     0.88662,     0.88678,     0.88688,     0.88708,     0.88722,     0.88738,     0.88747,     0.88762,     0.88778,     0.88783,     0.88793,       0.888,     0.88818,     0.88821,     0.88837,     0.88837,     0.88849,     0.88868,     0.88875,     0.88898,     0.88924,     0.88937,\n",
       "            0.88944,      0.8897,     0.88996,     0.89009,     0.89016,     0.89026,     0.89033,     0.89064,     0.89074,     0.89096,     0.89109,     0.89124,     0.89136,     0.89148,      0.8917,     0.89184,      0.8918,     0.89203,     0.89209,      0.8923,     0.89244,      0.8926,      0.8927,\n",
       "            0.89291,     0.89305,     0.89314,     0.89326,     0.89327,     0.89344,      0.8935,     0.89358,     0.89372,     0.89379,     0.89404,     0.89421,     0.89436,      0.8945,     0.89459,     0.89475,     0.89487,     0.89495,     0.89505,     0.89512,     0.89514,     0.89528,     0.89543,\n",
       "            0.89545,      0.8955,     0.89562,     0.89579,     0.89587,     0.89598,     0.89599,     0.89609,     0.89624,     0.89637,     0.89649,     0.89654,      0.8966,     0.89668,     0.89669,     0.89684,     0.89689,     0.89694,     0.89705,     0.89722,     0.89726,     0.89735,     0.89737,\n",
       "            0.89747,     0.89757,     0.89764,     0.89776,     0.89786,     0.89801,     0.89819,     0.89826,     0.89838,      0.8985,     0.89855,     0.89861,     0.89871,     0.89892,     0.89899,     0.89904,     0.89909,     0.89916,     0.89929,     0.89942,     0.89952,     0.89966,     0.89965,\n",
       "            0.89965,     0.89973,     0.89977,     0.89988,     0.89999,     0.90014,     0.90027,     0.90041,     0.90048,      0.9005,      0.9008,     0.90097,     0.90114,     0.90118,     0.90136,     0.90142,     0.90149,     0.90163,     0.90178,     0.90187,       0.902,     0.90221,     0.90236,\n",
       "            0.90245,     0.90255,     0.90266,     0.90279,     0.90291,     0.90297,     0.90304,      0.9031,     0.90335,     0.90344,     0.90352,     0.90366,     0.90375,     0.90378,     0.90387,     0.90407,     0.90416,     0.90424,      0.9046,     0.90465,     0.90477,     0.90488,     0.90508,\n",
       "            0.90516,     0.90526,     0.90529,     0.90557,      0.9057,     0.90583,     0.90603,     0.90613,     0.90626,     0.90637,     0.90663,     0.90663,     0.90669,     0.90687,     0.90703,     0.90721,     0.90727,     0.90741,     0.90771,     0.90777,     0.90784,     0.90791,     0.90807,\n",
       "            0.90828,     0.90848,     0.90868,     0.90874,     0.90895,     0.90901,     0.90915,     0.90941,     0.90952,     0.90955,     0.90959,     0.90967,     0.90978,     0.90989,     0.90996,     0.91012,     0.91022,     0.91038,     0.91045,     0.91055,     0.91082,     0.91088,     0.91098,\n",
       "            0.91105,     0.91121,     0.91141,     0.91154,     0.91162,     0.91168,     0.91187,     0.91189,     0.91211,     0.91211,     0.91225,     0.91232,     0.91238,     0.91252,     0.91255,     0.91276,     0.91286,     0.91296,     0.91313,     0.91317,     0.91311,      0.9132,     0.91336,\n",
       "            0.91337,     0.91348,     0.91367,     0.91372,      0.9138,     0.91389,     0.91391,     0.91397,     0.91409,     0.91418,     0.91417,     0.91424,     0.91426,     0.91427,      0.9143,      0.9144,     0.91444,     0.91457,     0.91471,     0.91468,     0.91479,     0.91485,     0.91492,\n",
       "            0.91505,     0.91514,     0.91532,     0.91546,     0.91565,     0.91568,     0.91581,      0.9158,     0.91586,     0.91594,     0.91597,     0.91611,      0.9162,     0.91625,      0.9163,      0.9165,      0.9166,     0.91667,     0.91675,     0.91677,     0.91685,     0.91694,       0.917,\n",
       "            0.91701,     0.91716,     0.91719,     0.91721,     0.91723,     0.91728,     0.91745,     0.91751,     0.91763,     0.91771,     0.91781,     0.91795,     0.91801,     0.91804,     0.91808,     0.91826,     0.91837,     0.91839,      0.9186,     0.91864,     0.91871,     0.91873,     0.91889,\n",
       "            0.91906,     0.91913,     0.91923,     0.91933,      0.9195,     0.91967,     0.91983,     0.91986,     0.91996,      0.9202,      0.9205,     0.92052,     0.92063,     0.92066,     0.92076,     0.92093,     0.92117,      0.9213,     0.92151,     0.92167,     0.92194,     0.92211,     0.92213,\n",
       "            0.92234,     0.92242,      0.9226,      0.9227,     0.92283,       0.923,     0.92307,     0.92312,     0.92325,     0.92341,     0.92368,     0.92395,     0.92402,     0.92432,     0.92459,     0.92475,     0.92505,     0.92515,     0.92547,     0.92553,     0.92564,     0.92584,      0.9259,\n",
       "              0.926,     0.92624,     0.92641,     0.92658,     0.92677,     0.92683,     0.92695,     0.92706,     0.92727,     0.92739,     0.92752,     0.92776,     0.92779,     0.92796,     0.92811,     0.92823,     0.92857,     0.92874,     0.92909,     0.92915,     0.92938,     0.92965,     0.92989,\n",
       "            0.92996,     0.93009,     0.93023,      0.9304,     0.93054,     0.93078,     0.93088,     0.93095,     0.93115,     0.93129,      0.9315,     0.93149,     0.93148,     0.93162,     0.93165,     0.93182,     0.93206,     0.93223,      0.9324,     0.93257,      0.9326,     0.93284,     0.93291,\n",
       "            0.93296,     0.93296,      0.9331,     0.93316,      0.9333,     0.93358,     0.93368,     0.93378,     0.93395,     0.93423,     0.93418,     0.93453,     0.93459,     0.93473,     0.93501,     0.93515,     0.93532,     0.93546,      0.9355,      0.9356,     0.93561,     0.93569,     0.93583,\n",
       "            0.93593,       0.936,     0.93617,     0.93637,     0.93652,     0.93669,      0.9368,     0.93693,     0.93711,     0.93732,     0.93742,      0.9376,      0.9377,     0.93784,     0.93797,     0.93797,     0.93807,     0.93814,     0.93842,     0.93852,      0.9386,     0.93863,     0.93871,\n",
       "            0.93874,     0.93871,     0.93887,     0.93898,     0.93915,     0.93915,     0.93915,     0.93914,     0.93914,      0.9391,      0.9392,     0.93935,     0.93938,     0.93945,     0.93949,     0.93947,     0.93955,     0.93963,     0.93961,     0.93962,     0.93969,      0.9397,     0.93967,\n",
       "            0.93965,     0.93973,     0.93975,     0.93978,     0.93988,     0.93992,     0.93976,     0.93984,     0.93982,     0.93982,     0.93984,     0.93986,     0.93971,     0.93969,      0.9396,     0.93962,     0.93962,     0.93963,     0.93964,     0.93945,     0.93951,     0.93963,     0.93959,\n",
       "            0.93966,     0.93965,     0.93972,     0.93975,      0.9397,     0.93962,     0.93958,      0.9396,     0.93965,     0.93948,     0.93946,     0.93953,     0.93943,     0.93944,     0.93937,     0.93937,     0.93937,     0.93936,      0.9394,     0.93932,     0.93935,     0.93923,     0.93918,\n",
       "            0.93917,     0.93913,     0.93909,      0.9391,      0.9391,     0.93911,     0.93903,     0.93902,       0.939,     0.93885,     0.93881,     0.93878,     0.93877,     0.93887,     0.93888,     0.93884,     0.93881,     0.93877,     0.93873,      0.9388,     0.93879,     0.93878,     0.93869,\n",
       "            0.93856,     0.93847,     0.93846,     0.93843,      0.9385,     0.93837,     0.93839,     0.93837,     0.93835,     0.93829,     0.93816,     0.93812,     0.93813,     0.93815,     0.93808,     0.93807,      0.9381,     0.93805,      0.9379,     0.93775,     0.93773,     0.93757,     0.93751,\n",
       "            0.93737,     0.93738,     0.93732,     0.93723,     0.93725,      0.9372,     0.93723,     0.93727,     0.93724,     0.93715,     0.93664,     0.93652,     0.93648,     0.93637,     0.93628,     0.93616,     0.93615,     0.93609,     0.93616,       0.936,     0.93588,     0.93582,     0.93575,\n",
       "            0.93572,     0.93564,      0.9354,     0.93533,     0.93521,     0.93515,     0.93486,     0.93484,     0.93472,     0.93478,     0.93489,     0.93477,     0.93464,     0.93454,     0.93456,     0.93438,     0.93434,     0.93427,     0.93428,     0.93413,     0.93406,     0.93402,     0.93397,\n",
       "             0.9339,     0.93379,     0.93383,     0.93356,     0.93354,     0.93367,     0.93349,     0.93324,     0.93309,       0.933,     0.93289,     0.93276,     0.93239,     0.93214,       0.932,     0.93163,      0.9315,     0.93131,     0.93114,     0.93097,     0.93092,     0.93052,     0.93046,\n",
       "            0.93025,     0.93015,     0.92977,     0.92949,     0.92918,     0.92904,     0.92893,     0.92884,     0.92852,     0.92826,     0.92795,     0.92734,     0.92683,     0.92646,      0.9261,     0.92559,     0.92528,     0.92455,     0.92428,     0.92401,     0.92313,     0.92302,     0.92236,\n",
       "             0.9218,      0.9206,     0.92019,     0.91948,     0.91933,     0.91864,     0.91842,     0.91794,     0.91689,     0.91632,     0.91559,     0.91523,     0.91462,     0.91386,     0.91319,     0.91212,     0.91115,     0.91057,      0.9097,     0.90901,     0.90799,     0.90653,     0.90593,\n",
       "            0.90488,     0.90397,     0.90239,     0.90185,     0.90045,     0.89973,     0.89798,     0.89686,     0.89408,     0.89314,     0.89121,     0.89052,     0.88839,     0.88713,     0.88566,      0.8832,     0.88167,     0.87951,     0.87687,     0.87376,     0.87213,     0.86909,     0.86734,\n",
       "            0.86447,     0.86166,     0.85973,     0.85617,     0.85525,     0.85217,     0.84864,     0.84705,     0.84329,     0.83961,     0.83757,     0.83302,       0.829,     0.82714,     0.82324,     0.81665,     0.81459,     0.81086,     0.80638,     0.80462,     0.80056,     0.79687,     0.79252,\n",
       "            0.79073,     0.78683,     0.78368,      0.7797,     0.77791,     0.77502,     0.77192,     0.76938,     0.76684,     0.76482,     0.76363,     0.76167,     0.75968,     0.75792,     0.75664,      0.7558,     0.75454,     0.75341,     0.75304,     0.75153,      0.7508,     0.75007,      0.7488,\n",
       "            0.74822,     0.74725,     0.74627,     0.74566,     0.74477,     0.74447,     0.74375,     0.74299,     0.74248,     0.74107,     0.74017,     0.73957,     0.73902,     0.73829,     0.73783,      0.7371,     0.73616,     0.73481,     0.73432,     0.73398,      0.7336,     0.73237,     0.73166,\n",
       "            0.73118,     0.73044,     0.72963,     0.72914,     0.72843,     0.72718,     0.72652,     0.72541,     0.72407,      0.7232,     0.72224,     0.72164,     0.72047,     0.71986,     0.71896,     0.71793,     0.71675,     0.71545,     0.71421,     0.71287,     0.71196,     0.71113,     0.70973,\n",
       "            0.70786,     0.70651,     0.70478,     0.70204,      0.7004,      0.6984,     0.69619,     0.69394,     0.69221,     0.69095,     0.68908,     0.68645,      0.6835,       0.681,     0.67834,     0.67679,     0.67369,     0.67018,     0.66782,     0.66399,     0.66141,     0.65853,     0.65477,\n",
       "             0.6485,      0.6455,     0.64047,     0.63664,     0.63224,     0.62856,     0.62379,     0.61775,     0.61044,     0.60557,     0.59874,     0.59017,     0.58171,     0.57202,     0.56244,     0.55166,     0.53755,     0.52494,     0.51332,     0.49759,     0.47056,      0.4493,     0.43066,\n",
       "            0.40776,     0.38202,     0.35554,     0.32688,     0.29435,     0.26278,     0.23789,      0.2039,      0.1717,      0.1466,     0.12261,    0.098935,    0.083136,    0.067762,    0.051293,    0.041105,     0.03267,    0.024596,    0.019804,    0.015864,    0.012641,   0.0095555,   0.0076371,\n",
       "          0.0055674,   0.0030504,   0.0015635,  0.00081549,  0.00054709,  0.00048632,  0.00020037,           0,           0,           0,           0,           0,           0,           0,           0,           0,           0,           0,           0,           0,           0,           0,           0,\n",
       "                  0,           0,           0,           0,           0,           0,           0,           0,           0,           0,           0]]), 'Confidence', 'F1'], [array([          0,    0.001001,    0.002002,    0.003003,    0.004004,    0.005005,    0.006006,    0.007007,    0.008008,    0.009009,     0.01001,    0.011011,    0.012012,    0.013013,    0.014014,    0.015015,    0.016016,    0.017017,    0.018018,    0.019019,     0.02002,    0.021021,    0.022022,    0.023023,\n",
       "          0.024024,    0.025025,    0.026026,    0.027027,    0.028028,    0.029029,     0.03003,    0.031031,    0.032032,    0.033033,    0.034034,    0.035035,    0.036036,    0.037037,    0.038038,    0.039039,     0.04004,    0.041041,    0.042042,    0.043043,    0.044044,    0.045045,    0.046046,    0.047047,\n",
       "          0.048048,    0.049049,     0.05005,    0.051051,    0.052052,    0.053053,    0.054054,    0.055055,    0.056056,    0.057057,    0.058058,    0.059059,     0.06006,    0.061061,    0.062062,    0.063063,    0.064064,    0.065065,    0.066066,    0.067067,    0.068068,    0.069069,     0.07007,    0.071071,\n",
       "          0.072072,    0.073073,    0.074074,    0.075075,    0.076076,    0.077077,    0.078078,    0.079079,     0.08008,    0.081081,    0.082082,    0.083083,    0.084084,    0.085085,    0.086086,    0.087087,    0.088088,    0.089089,     0.09009,    0.091091,    0.092092,    0.093093,    0.094094,    0.095095,\n",
       "          0.096096,    0.097097,    0.098098,    0.099099,      0.1001,      0.1011,      0.1021,      0.1031,      0.1041,     0.10511,     0.10611,     0.10711,     0.10811,     0.10911,     0.11011,     0.11111,     0.11211,     0.11311,     0.11411,     0.11512,     0.11612,     0.11712,     0.11812,     0.11912,\n",
       "           0.12012,     0.12112,     0.12212,     0.12312,     0.12412,     0.12513,     0.12613,     0.12713,     0.12813,     0.12913,     0.13013,     0.13113,     0.13213,     0.13313,     0.13413,     0.13514,     0.13614,     0.13714,     0.13814,     0.13914,     0.14014,     0.14114,     0.14214,     0.14314,\n",
       "           0.14414,     0.14515,     0.14615,     0.14715,     0.14815,     0.14915,     0.15015,     0.15115,     0.15215,     0.15315,     0.15415,     0.15516,     0.15616,     0.15716,     0.15816,     0.15916,     0.16016,     0.16116,     0.16216,     0.16316,     0.16416,     0.16517,     0.16617,     0.16717,\n",
       "           0.16817,     0.16917,     0.17017,     0.17117,     0.17217,     0.17317,     0.17417,     0.17518,     0.17618,     0.17718,     0.17818,     0.17918,     0.18018,     0.18118,     0.18218,     0.18318,     0.18418,     0.18519,     0.18619,     0.18719,     0.18819,     0.18919,     0.19019,     0.19119,\n",
       "           0.19219,     0.19319,     0.19419,      0.1952,      0.1962,      0.1972,      0.1982,      0.1992,      0.2002,      0.2012,      0.2022,      0.2032,      0.2042,     0.20521,     0.20621,     0.20721,     0.20821,     0.20921,     0.21021,     0.21121,     0.21221,     0.21321,     0.21421,     0.21522,\n",
       "           0.21622,     0.21722,     0.21822,     0.21922,     0.22022,     0.22122,     0.22222,     0.22322,     0.22422,     0.22523,     0.22623,     0.22723,     0.22823,     0.22923,     0.23023,     0.23123,     0.23223,     0.23323,     0.23423,     0.23524,     0.23624,     0.23724,     0.23824,     0.23924,\n",
       "           0.24024,     0.24124,     0.24224,     0.24324,     0.24424,     0.24525,     0.24625,     0.24725,     0.24825,     0.24925,     0.25025,     0.25125,     0.25225,     0.25325,     0.25425,     0.25526,     0.25626,     0.25726,     0.25826,     0.25926,     0.26026,     0.26126,     0.26226,     0.26326,\n",
       "           0.26426,     0.26527,     0.26627,     0.26727,     0.26827,     0.26927,     0.27027,     0.27127,     0.27227,     0.27327,     0.27427,     0.27528,     0.27628,     0.27728,     0.27828,     0.27928,     0.28028,     0.28128,     0.28228,     0.28328,     0.28428,     0.28529,     0.28629,     0.28729,\n",
       "           0.28829,     0.28929,     0.29029,     0.29129,     0.29229,     0.29329,     0.29429,      0.2953,      0.2963,      0.2973,      0.2983,      0.2993,      0.3003,      0.3013,      0.3023,      0.3033,      0.3043,     0.30531,     0.30631,     0.30731,     0.30831,     0.30931,     0.31031,     0.31131,\n",
       "           0.31231,     0.31331,     0.31431,     0.31532,     0.31632,     0.31732,     0.31832,     0.31932,     0.32032,     0.32132,     0.32232,     0.32332,     0.32432,     0.32533,     0.32633,     0.32733,     0.32833,     0.32933,     0.33033,     0.33133,     0.33233,     0.33333,     0.33433,     0.33534,\n",
       "           0.33634,     0.33734,     0.33834,     0.33934,     0.34034,     0.34134,     0.34234,     0.34334,     0.34434,     0.34535,     0.34635,     0.34735,     0.34835,     0.34935,     0.35035,     0.35135,     0.35235,     0.35335,     0.35435,     0.35536,     0.35636,     0.35736,     0.35836,     0.35936,\n",
       "           0.36036,     0.36136,     0.36236,     0.36336,     0.36436,     0.36537,     0.36637,     0.36737,     0.36837,     0.36937,     0.37037,     0.37137,     0.37237,     0.37337,     0.37437,     0.37538,     0.37638,     0.37738,     0.37838,     0.37938,     0.38038,     0.38138,     0.38238,     0.38338,\n",
       "           0.38438,     0.38539,     0.38639,     0.38739,     0.38839,     0.38939,     0.39039,     0.39139,     0.39239,     0.39339,     0.39439,      0.3954,      0.3964,      0.3974,      0.3984,      0.3994,      0.4004,      0.4014,      0.4024,      0.4034,      0.4044,     0.40541,     0.40641,     0.40741,\n",
       "           0.40841,     0.40941,     0.41041,     0.41141,     0.41241,     0.41341,     0.41441,     0.41542,     0.41642,     0.41742,     0.41842,     0.41942,     0.42042,     0.42142,     0.42242,     0.42342,     0.42442,     0.42543,     0.42643,     0.42743,     0.42843,     0.42943,     0.43043,     0.43143,\n",
       "           0.43243,     0.43343,     0.43443,     0.43544,     0.43644,     0.43744,     0.43844,     0.43944,     0.44044,     0.44144,     0.44244,     0.44344,     0.44444,     0.44545,     0.44645,     0.44745,     0.44845,     0.44945,     0.45045,     0.45145,     0.45245,     0.45345,     0.45445,     0.45546,\n",
       "           0.45646,     0.45746,     0.45846,     0.45946,     0.46046,     0.46146,     0.46246,     0.46346,     0.46446,     0.46547,     0.46647,     0.46747,     0.46847,     0.46947,     0.47047,     0.47147,     0.47247,     0.47347,     0.47447,     0.47548,     0.47648,     0.47748,     0.47848,     0.47948,\n",
       "           0.48048,     0.48148,     0.48248,     0.48348,     0.48448,     0.48549,     0.48649,     0.48749,     0.48849,     0.48949,     0.49049,     0.49149,     0.49249,     0.49349,     0.49449,      0.4955,      0.4965,      0.4975,      0.4985,      0.4995,      0.5005,      0.5015,      0.5025,      0.5035,\n",
       "            0.5045,     0.50551,     0.50651,     0.50751,     0.50851,     0.50951,     0.51051,     0.51151,     0.51251,     0.51351,     0.51451,     0.51552,     0.51652,     0.51752,     0.51852,     0.51952,     0.52052,     0.52152,     0.52252,     0.52352,     0.52452,     0.52553,     0.52653,     0.52753,\n",
       "           0.52853,     0.52953,     0.53053,     0.53153,     0.53253,     0.53353,     0.53453,     0.53554,     0.53654,     0.53754,     0.53854,     0.53954,     0.54054,     0.54154,     0.54254,     0.54354,     0.54454,     0.54555,     0.54655,     0.54755,     0.54855,     0.54955,     0.55055,     0.55155,\n",
       "           0.55255,     0.55355,     0.55455,     0.55556,     0.55656,     0.55756,     0.55856,     0.55956,     0.56056,     0.56156,     0.56256,     0.56356,     0.56456,     0.56557,     0.56657,     0.56757,     0.56857,     0.56957,     0.57057,     0.57157,     0.57257,     0.57357,     0.57457,     0.57558,\n",
       "           0.57658,     0.57758,     0.57858,     0.57958,     0.58058,     0.58158,     0.58258,     0.58358,     0.58458,     0.58559,     0.58659,     0.58759,     0.58859,     0.58959,     0.59059,     0.59159,     0.59259,     0.59359,     0.59459,      0.5956,      0.5966,      0.5976,      0.5986,      0.5996,\n",
       "            0.6006,      0.6016,      0.6026,      0.6036,      0.6046,     0.60561,     0.60661,     0.60761,     0.60861,     0.60961,     0.61061,     0.61161,     0.61261,     0.61361,     0.61461,     0.61562,     0.61662,     0.61762,     0.61862,     0.61962,     0.62062,     0.62162,     0.62262,     0.62362,\n",
       "           0.62462,     0.62563,     0.62663,     0.62763,     0.62863,     0.62963,     0.63063,     0.63163,     0.63263,     0.63363,     0.63463,     0.63564,     0.63664,     0.63764,     0.63864,     0.63964,     0.64064,     0.64164,     0.64264,     0.64364,     0.64464,     0.64565,     0.64665,     0.64765,\n",
       "           0.64865,     0.64965,     0.65065,     0.65165,     0.65265,     0.65365,     0.65465,     0.65566,     0.65666,     0.65766,     0.65866,     0.65966,     0.66066,     0.66166,     0.66266,     0.66366,     0.66466,     0.66567,     0.66667,     0.66767,     0.66867,     0.66967,     0.67067,     0.67167,\n",
       "           0.67267,     0.67367,     0.67467,     0.67568,     0.67668,     0.67768,     0.67868,     0.67968,     0.68068,     0.68168,     0.68268,     0.68368,     0.68468,     0.68569,     0.68669,     0.68769,     0.68869,     0.68969,     0.69069,     0.69169,     0.69269,     0.69369,     0.69469,      0.6957,\n",
       "            0.6967,      0.6977,      0.6987,      0.6997,      0.7007,      0.7017,      0.7027,      0.7037,      0.7047,     0.70571,     0.70671,     0.70771,     0.70871,     0.70971,     0.71071,     0.71171,     0.71271,     0.71371,     0.71471,     0.71572,     0.71672,     0.71772,     0.71872,     0.71972,\n",
       "           0.72072,     0.72172,     0.72272,     0.72372,     0.72472,     0.72573,     0.72673,     0.72773,     0.72873,     0.72973,     0.73073,     0.73173,     0.73273,     0.73373,     0.73473,     0.73574,     0.73674,     0.73774,     0.73874,     0.73974,     0.74074,     0.74174,     0.74274,     0.74374,\n",
       "           0.74474,     0.74575,     0.74675,     0.74775,     0.74875,     0.74975,     0.75075,     0.75175,     0.75275,     0.75375,     0.75475,     0.75576,     0.75676,     0.75776,     0.75876,     0.75976,     0.76076,     0.76176,     0.76276,     0.76376,     0.76476,     0.76577,     0.76677,     0.76777,\n",
       "           0.76877,     0.76977,     0.77077,     0.77177,     0.77277,     0.77377,     0.77477,     0.77578,     0.77678,     0.77778,     0.77878,     0.77978,     0.78078,     0.78178,     0.78278,     0.78378,     0.78478,     0.78579,     0.78679,     0.78779,     0.78879,     0.78979,     0.79079,     0.79179,\n",
       "           0.79279,     0.79379,     0.79479,      0.7958,      0.7968,      0.7978,      0.7988,      0.7998,      0.8008,      0.8018,      0.8028,      0.8038,      0.8048,     0.80581,     0.80681,     0.80781,     0.80881,     0.80981,     0.81081,     0.81181,     0.81281,     0.81381,     0.81481,     0.81582,\n",
       "           0.81682,     0.81782,     0.81882,     0.81982,     0.82082,     0.82182,     0.82282,     0.82382,     0.82482,     0.82583,     0.82683,     0.82783,     0.82883,     0.82983,     0.83083,     0.83183,     0.83283,     0.83383,     0.83483,     0.83584,     0.83684,     0.83784,     0.83884,     0.83984,\n",
       "           0.84084,     0.84184,     0.84284,     0.84384,     0.84484,     0.84585,     0.84685,     0.84785,     0.84885,     0.84985,     0.85085,     0.85185,     0.85285,     0.85385,     0.85485,     0.85586,     0.85686,     0.85786,     0.85886,     0.85986,     0.86086,     0.86186,     0.86286,     0.86386,\n",
       "           0.86486,     0.86587,     0.86687,     0.86787,     0.86887,     0.86987,     0.87087,     0.87187,     0.87287,     0.87387,     0.87487,     0.87588,     0.87688,     0.87788,     0.87888,     0.87988,     0.88088,     0.88188,     0.88288,     0.88388,     0.88488,     0.88589,     0.88689,     0.88789,\n",
       "           0.88889,     0.88989,     0.89089,     0.89189,     0.89289,     0.89389,     0.89489,      0.8959,      0.8969,      0.8979,      0.8989,      0.8999,      0.9009,      0.9019,      0.9029,      0.9039,      0.9049,     0.90591,     0.90691,     0.90791,     0.90891,     0.90991,     0.91091,     0.91191,\n",
       "           0.91291,     0.91391,     0.91491,     0.91592,     0.91692,     0.91792,     0.91892,     0.91992,     0.92092,     0.92192,     0.92292,     0.92392,     0.92492,     0.92593,     0.92693,     0.92793,     0.92893,     0.92993,     0.93093,     0.93193,     0.93293,     0.93393,     0.93493,     0.93594,\n",
       "           0.93694,     0.93794,     0.93894,     0.93994,     0.94094,     0.94194,     0.94294,     0.94394,     0.94494,     0.94595,     0.94695,     0.94795,     0.94895,     0.94995,     0.95095,     0.95195,     0.95295,     0.95395,     0.95495,     0.95596,     0.95696,     0.95796,     0.95896,     0.95996,\n",
       "           0.96096,     0.96196,     0.96296,     0.96396,     0.96496,     0.96597,     0.96697,     0.96797,     0.96897,     0.96997,     0.97097,     0.97197,     0.97297,     0.97397,     0.97497,     0.97598,     0.97698,     0.97798,     0.97898,     0.97998,     0.98098,     0.98198,     0.98298,     0.98398,\n",
       "           0.98498,     0.98599,     0.98699,     0.98799,     0.98899,     0.98999,     0.99099,     0.99199,     0.99299,     0.99399,     0.99499,       0.996,       0.997,       0.998,       0.999,           1]), array([[    0.56325,     0.56325,     0.61702,      0.6442,      0.6635,     0.67925,     0.69008,      0.6975,      0.7053,     0.71287,     0.71996,     0.72468,     0.72956,     0.73386,     0.73774,     0.74199,     0.74534,     0.74793,     0.74998,      0.7526,      0.7552,     0.75736,     0.75907,\n",
       "            0.76065,     0.76287,      0.7648,     0.76677,     0.76856,     0.77047,     0.77234,     0.77395,     0.77548,     0.77707,     0.77812,      0.7793,     0.78032,     0.78148,     0.78246,     0.78382,     0.78485,     0.78589,     0.78666,     0.78772,     0.78871,     0.78966,     0.79081,\n",
       "            0.79187,     0.79271,      0.7936,     0.79443,     0.79511,     0.79614,     0.79716,     0.79829,     0.79872,     0.79975,     0.80056,     0.80115,     0.80196,     0.80269,     0.80317,     0.80386,      0.8046,     0.80552,     0.80635,     0.80681,     0.80753,      0.8082,     0.80877,\n",
       "             0.8093,     0.80973,     0.80996,     0.81044,     0.81092,     0.81136,     0.81184,     0.81247,     0.81283,     0.81339,     0.81396,     0.81466,     0.81538,     0.81568,     0.81631,     0.81695,      0.8173,     0.81774,     0.81794,     0.81849,     0.81879,      0.8192,     0.81947,\n",
       "            0.81999,     0.82021,     0.82052,     0.82075,     0.82123,     0.82155,     0.82186,      0.8221,     0.82254,     0.82304,     0.82348,      0.8238,     0.82446,     0.82501,     0.82544,     0.82585,      0.8263,     0.82682,      0.8272,     0.82764,     0.82828,     0.82881,     0.82934,\n",
       "            0.82967,     0.82991,     0.83034,     0.83054,     0.83093,     0.83124,     0.83157,      0.8318,     0.83206,     0.83233,     0.83253,     0.83274,     0.83288,     0.83333,     0.83355,     0.83391,       0.834,     0.83432,     0.83477,     0.83496,     0.83546,     0.83594,     0.83622,\n",
       "            0.83646,     0.83692,     0.83739,     0.83765,      0.8378,     0.83812,     0.83828,     0.83883,     0.83899,     0.83939,     0.83962,     0.83988,     0.84016,     0.84037,     0.84084,     0.84113,     0.84117,     0.84158,     0.84175,     0.84219,     0.84249,     0.84277,     0.84306,\n",
       "            0.84344,     0.84369,     0.84386,     0.84407,     0.84415,     0.84456,     0.84466,     0.84482,     0.84506,      0.8452,     0.84563,     0.84601,     0.84627,     0.84656,     0.84682,      0.8472,     0.84741,     0.84761,     0.84791,     0.84816,     0.84821,     0.84852,     0.84877,\n",
       "            0.84882,     0.84897,     0.84917,     0.84949,     0.84963,     0.84989,     0.85004,     0.85027,     0.85057,     0.85095,     0.85116,     0.85125,     0.85142,     0.85156,     0.85166,     0.85197,     0.85208,     0.85222,     0.85247,     0.85278,     0.85285,     0.85302,     0.85315,\n",
       "            0.85341,     0.85366,     0.85379,     0.85406,     0.85424,     0.85457,     0.85494,      0.8551,      0.8553,     0.85552,     0.85567,      0.8559,     0.85609,     0.85647,     0.85665,     0.85675,     0.85683,     0.85703,     0.85726,     0.85749,      0.8577,     0.85799,     0.85811,\n",
       "            0.85823,     0.85844,     0.85856,     0.85895,     0.85915,     0.85942,     0.85966,     0.85998,      0.8601,     0.86014,     0.86068,       0.861,     0.86131,     0.86139,      0.8617,     0.86189,     0.86207,     0.86232,     0.86262,     0.86283,     0.86314,     0.86351,     0.86379,\n",
       "            0.86401,     0.86423,     0.86445,     0.86476,     0.86497,     0.86515,     0.86529,     0.86544,     0.86591,     0.86609,     0.86623,     0.86648,     0.86678,     0.86688,     0.86705,     0.86749,     0.86766,      0.8678,     0.86852,     0.86861,     0.86885,     0.86904,     0.86942,\n",
       "            0.86956,     0.86976,     0.86987,     0.87038,     0.87063,     0.87086,     0.87136,      0.8716,     0.87185,     0.87204,      0.8726,     0.87266,     0.87283,     0.87316,     0.87347,      0.8738,     0.87398,     0.87423,     0.87479,     0.87497,     0.87512,     0.87535,     0.87565,\n",
       "            0.87603,     0.87641,     0.87678,     0.87696,     0.87734,     0.87753,     0.87778,     0.87828,     0.87855,     0.87861,     0.87867,     0.87889,     0.87922,     0.87969,     0.87987,     0.88024,      0.8805,      0.8808,     0.88099,     0.88118,     0.88169,     0.88179,     0.88212,\n",
       "             0.8823,     0.88262,     0.88305,      0.8833,     0.88344,     0.88363,     0.88399,     0.88408,     0.88456,     0.88463,     0.88489,     0.88502,     0.88514,      0.8854,     0.88553,     0.88592,     0.88611,      0.8863,     0.88662,     0.88669,     0.88669,     0.88694,     0.88726,\n",
       "            0.88741,     0.88773,     0.88817,     0.88837,     0.88854,     0.88871,     0.88874,     0.88892,     0.88915,     0.88935,     0.88938,     0.88957,     0.88969,     0.88976,     0.88982,     0.89007,     0.89015,      0.8904,     0.89066,     0.89081,     0.89102,     0.89126,     0.89146,\n",
       "            0.89171,     0.89195,     0.89228,     0.89256,     0.89292,      0.8931,     0.89336,     0.89344,     0.89358,     0.89374,     0.89387,     0.89412,     0.89437,     0.89452,     0.89463,     0.89501,      0.8952,     0.89534,     0.89572,     0.89584,     0.89601,     0.89626,     0.89663,\n",
       "            0.89666,     0.89695,     0.89699,     0.89725,     0.89728,     0.89743,     0.89777,     0.89796,     0.89818,     0.89841,     0.89859,     0.89887,     0.89905,     0.89916,     0.89924,     0.89959,     0.89988,         0.9,     0.90046,     0.90052,     0.90073,     0.90087,     0.90121,\n",
       "            0.90154,     0.90168,     0.90188,     0.90207,     0.90239,     0.90278,     0.90316,     0.90328,     0.90348,     0.90395,     0.90452,     0.90465,     0.90491,     0.90498,     0.90517,      0.9055,     0.90595,     0.90621,     0.90661,     0.90699,     0.90751,     0.90791,      0.9081,\n",
       "             0.9085,     0.90871,     0.90908,     0.90934,     0.90966,     0.90999,     0.91012,     0.91037,      0.9107,     0.91115,     0.91173,     0.91226,      0.9124,     0.91305,     0.91358,     0.91397,     0.91469,     0.91489,     0.91551,     0.91564,     0.91584,      0.9163,      0.9165,\n",
       "             0.9167,     0.91717,      0.9175,      0.9179,     0.91842,     0.91862,     0.91897,     0.91922,     0.91962,     0.92007,      0.9204,     0.92088,     0.92101,     0.92135,     0.92169,     0.92201,     0.92269,     0.92303,     0.92371,      0.9239,     0.92451,     0.92511,     0.92565,\n",
       "            0.92579,     0.92606,     0.92634,     0.92668,     0.92702,      0.9275,     0.92777,     0.92791,     0.92838,     0.92866,     0.92907,     0.92913,     0.92926,      0.9296,     0.92974,     0.93008,     0.93063,     0.93097,     0.93132,     0.93173,     0.93193,     0.93241,     0.93262,\n",
       "            0.93284,     0.93295,     0.93329,      0.9335,     0.93378,     0.93433,     0.93461,     0.93488,     0.93523,     0.93586,     0.93592,     0.93668,     0.93689,     0.93717,     0.93773,     0.93801,     0.93836,     0.93864,     0.93878,     0.93906,     0.93925,     0.93947,     0.93975,\n",
       "            0.93997,     0.94017,     0.94059,     0.94108,     0.94137,     0.94172,     0.94194,     0.94229,     0.94264,     0.94307,     0.94328,     0.94364,     0.94392,     0.94427,     0.94462,     0.94469,     0.94504,     0.94519,     0.94576,     0.94611,     0.94634,     0.94654,     0.94681,\n",
       "            0.94695,     0.94703,     0.94737,     0.94766,     0.94809,     0.94833,     0.94843,     0.94853,     0.94857,     0.94856,     0.94882,     0.94911,     0.94918,     0.94933,     0.94942,     0.94942,     0.94975,     0.94999,     0.95004,     0.95012,     0.95033,     0.95047,     0.95047,\n",
       "            0.95067,     0.95081,     0.95109,      0.9513,     0.95152,      0.9516,     0.95159,     0.95193,     0.95193,     0.95202,     0.95206,     0.95214,     0.95218,     0.95227,      0.9524,     0.95261,     0.95263,     0.95265,     0.95267,     0.95273,     0.95287,     0.95323,     0.95326,\n",
       "            0.95341,     0.95348,     0.95369,     0.95391,     0.95394,       0.954,     0.95411,     0.95421,     0.95433,     0.95454,     0.95475,     0.95497,     0.95498,     0.95503,     0.95519,     0.95533,     0.95552,     0.95559,     0.95572,     0.95586,     0.95601,       0.956,     0.95607,\n",
       "             0.9562,      0.9562,      0.9562,     0.95628,     0.95634,     0.95639,      0.9564,      0.9564,      0.9564,     0.95639,     0.95639,     0.95645,     0.95648,      0.9567,     0.95674,     0.95674,      0.9568,     0.95681,      0.9568,     0.95702,     0.95716,      0.9573,      0.9573,\n",
       "            0.95733,     0.95735,     0.95742,     0.95754,     0.95776,     0.95791,     0.95812,     0.95814,     0.95819,     0.95819,     0.95818,     0.95824,     0.95828,     0.95832,     0.95845,     0.95863,     0.95878,     0.95885,     0.95894,     0.95893,       0.959,     0.95899,       0.959,\n",
       "            0.95918,     0.95931,     0.95932,     0.95947,     0.95951,     0.95967,      0.9598,     0.95988,     0.95989,     0.95996,     0.95999,     0.95998,     0.95998,     0.96004,     0.96011,     0.96017,     0.96024,     0.96035,      0.9605,     0.96052,     0.96058,     0.96059,     0.96071,\n",
       "            0.96071,     0.96071,     0.96069,     0.96076,     0.96075,     0.96074,     0.96072,       0.961,     0.96129,     0.96155,     0.96203,     0.96202,     0.96208,     0.96208,      0.9623,     0.96236,     0.96244,      0.9625,     0.96279,     0.96291,     0.96329,     0.96328,     0.96333,\n",
       "            0.96357,      0.9637,     0.96423,     0.96421,      0.9645,     0.96488,     0.96494,     0.96492,     0.96499,     0.96513,     0.96524,     0.96526,     0.96553,     0.96552,     0.96558,     0.96585,     0.96592,     0.96598,     0.96597,     0.96626,     0.96646,     0.96645,     0.96667,\n",
       "            0.96711,      0.9671,     0.96708,     0.96721,     0.96727,     0.96741,     0.96755,     0.96762,     0.96768,     0.96774,     0.96772,     0.96783,      0.9678,     0.96791,     0.96821,     0.96818,     0.96824,     0.96819,     0.96825,     0.96846,     0.96849,     0.96863,     0.96875,\n",
       "            0.96871,     0.96887,       0.969,     0.96911,     0.96934,     0.96953,     0.96951,     0.96956,     0.96966,      0.9697,     0.96989,     0.96987,     0.96991,     0.97003,     0.97015,     0.97032,     0.97034,     0.97055,     0.97105,     0.97109,     0.97136,      0.9716,     0.97172,\n",
       "            0.97199,     0.97218,     0.97234,     0.97231,     0.97231,     0.97236,     0.97234,     0.97236,     0.97221,     0.97216,     0.97231,     0.97235,     0.97257,      0.9725,     0.97258,     0.97254,     0.97263,     0.97286,     0.97288,     0.97298,     0.97298,     0.97308,     0.97307,\n",
       "            0.97327,     0.97348,     0.97364,     0.97382,     0.97413,     0.97425,     0.97434,     0.97444,     0.97443,     0.97481,      0.9748,     0.97495,     0.97513,     0.97523,     0.97523,     0.97519,     0.97519,      0.9752,      0.9759,      0.9761,     0.97652,     0.97665,     0.97686,\n",
       "            0.97688,     0.97691,     0.97718,      0.9771,     0.97723,     0.97764,     0.97761,     0.97749,     0.97759,     0.97772,     0.97789,      0.9778,     0.97782,     0.97786,     0.97848,     0.97867,     0.97895,      0.9789,       0.979,     0.97905,     0.97925,     0.97939,     0.97939,\n",
       "            0.97937,     0.97933,     0.97928,     0.97937,     0.97945,     0.97979,     0.97988,     0.97984,     0.98006,     0.98035,     0.98044,     0.98053,     0.98086,     0.98086,     0.98093,     0.98102,     0.98099,     0.98093,     0.98127,      0.9815,     0.98161,     0.98204,     0.98202,\n",
       "            0.98245,     0.98246,     0.98277,      0.9829,     0.98287,     0.98283,      0.9828,     0.98327,     0.98358,     0.98367,     0.98364,     0.98362,      0.9837,     0.98368,     0.98365,     0.98361,      0.9837,     0.98378,     0.98386,     0.98382,     0.98404,     0.98414,     0.98435,\n",
       "            0.98441,     0.98437,     0.98431,     0.98462,     0.98495,     0.98488,     0.98494,      0.9854,     0.98548,     0.98544,     0.98552,     0.98584,     0.98643,     0.98663,     0.98669,     0.98665,     0.98656,     0.98673,     0.98667,     0.98698,     0.98719,     0.98726,      0.9873,\n",
       "            0.98756,     0.98763,     0.98749,     0.98768,     0.98756,     0.98777,     0.98779,     0.98794,     0.98806,     0.98825,     0.98856,      0.9885,     0.98844,     0.98924,     0.98973,     0.98983,     0.98986,     0.98993,     0.99004,      0.9905,     0.99119,     0.99115,     0.99145,\n",
       "            0.99112,     0.99161,     0.99252,     0.99285,     0.99234,     0.99223,     0.99292,     0.99223,     0.99295,     0.99348,     0.99212,     0.99013,     0.98985,     0.98954,     0.98886,     0.99298,     0.99115,     0.98823,     0.98539,     0.98179,     0.97722,     0.98479,     0.98102,\n",
       "            0.97412,           1,           1,           1,           1,           1,           1,           1,           1,           1,           1,           1,           1,           1,           1,           1,           1,           1,           1,           1,           1,           1,           1,\n",
       "                  1,           1,           1,           1,           1,           1,           1,           1,           1,           1,           1]]), 'Confidence', 'Precision'], [array([          0,    0.001001,    0.002002,    0.003003,    0.004004,    0.005005,    0.006006,    0.007007,    0.008008,    0.009009,     0.01001,    0.011011,    0.012012,    0.013013,    0.014014,    0.015015,    0.016016,    0.017017,    0.018018,    0.019019,     0.02002,    0.021021,    0.022022,    0.023023,\n",
       "          0.024024,    0.025025,    0.026026,    0.027027,    0.028028,    0.029029,     0.03003,    0.031031,    0.032032,    0.033033,    0.034034,    0.035035,    0.036036,    0.037037,    0.038038,    0.039039,     0.04004,    0.041041,    0.042042,    0.043043,    0.044044,    0.045045,    0.046046,    0.047047,\n",
       "          0.048048,    0.049049,     0.05005,    0.051051,    0.052052,    0.053053,    0.054054,    0.055055,    0.056056,    0.057057,    0.058058,    0.059059,     0.06006,    0.061061,    0.062062,    0.063063,    0.064064,    0.065065,    0.066066,    0.067067,    0.068068,    0.069069,     0.07007,    0.071071,\n",
       "          0.072072,    0.073073,    0.074074,    0.075075,    0.076076,    0.077077,    0.078078,    0.079079,     0.08008,    0.081081,    0.082082,    0.083083,    0.084084,    0.085085,    0.086086,    0.087087,    0.088088,    0.089089,     0.09009,    0.091091,    0.092092,    0.093093,    0.094094,    0.095095,\n",
       "          0.096096,    0.097097,    0.098098,    0.099099,      0.1001,      0.1011,      0.1021,      0.1031,      0.1041,     0.10511,     0.10611,     0.10711,     0.10811,     0.10911,     0.11011,     0.11111,     0.11211,     0.11311,     0.11411,     0.11512,     0.11612,     0.11712,     0.11812,     0.11912,\n",
       "           0.12012,     0.12112,     0.12212,     0.12312,     0.12412,     0.12513,     0.12613,     0.12713,     0.12813,     0.12913,     0.13013,     0.13113,     0.13213,     0.13313,     0.13413,     0.13514,     0.13614,     0.13714,     0.13814,     0.13914,     0.14014,     0.14114,     0.14214,     0.14314,\n",
       "           0.14414,     0.14515,     0.14615,     0.14715,     0.14815,     0.14915,     0.15015,     0.15115,     0.15215,     0.15315,     0.15415,     0.15516,     0.15616,     0.15716,     0.15816,     0.15916,     0.16016,     0.16116,     0.16216,     0.16316,     0.16416,     0.16517,     0.16617,     0.16717,\n",
       "           0.16817,     0.16917,     0.17017,     0.17117,     0.17217,     0.17317,     0.17417,     0.17518,     0.17618,     0.17718,     0.17818,     0.17918,     0.18018,     0.18118,     0.18218,     0.18318,     0.18418,     0.18519,     0.18619,     0.18719,     0.18819,     0.18919,     0.19019,     0.19119,\n",
       "           0.19219,     0.19319,     0.19419,      0.1952,      0.1962,      0.1972,      0.1982,      0.1992,      0.2002,      0.2012,      0.2022,      0.2032,      0.2042,     0.20521,     0.20621,     0.20721,     0.20821,     0.20921,     0.21021,     0.21121,     0.21221,     0.21321,     0.21421,     0.21522,\n",
       "           0.21622,     0.21722,     0.21822,     0.21922,     0.22022,     0.22122,     0.22222,     0.22322,     0.22422,     0.22523,     0.22623,     0.22723,     0.22823,     0.22923,     0.23023,     0.23123,     0.23223,     0.23323,     0.23423,     0.23524,     0.23624,     0.23724,     0.23824,     0.23924,\n",
       "           0.24024,     0.24124,     0.24224,     0.24324,     0.24424,     0.24525,     0.24625,     0.24725,     0.24825,     0.24925,     0.25025,     0.25125,     0.25225,     0.25325,     0.25425,     0.25526,     0.25626,     0.25726,     0.25826,     0.25926,     0.26026,     0.26126,     0.26226,     0.26326,\n",
       "           0.26426,     0.26527,     0.26627,     0.26727,     0.26827,     0.26927,     0.27027,     0.27127,     0.27227,     0.27327,     0.27427,     0.27528,     0.27628,     0.27728,     0.27828,     0.27928,     0.28028,     0.28128,     0.28228,     0.28328,     0.28428,     0.28529,     0.28629,     0.28729,\n",
       "           0.28829,     0.28929,     0.29029,     0.29129,     0.29229,     0.29329,     0.29429,      0.2953,      0.2963,      0.2973,      0.2983,      0.2993,      0.3003,      0.3013,      0.3023,      0.3033,      0.3043,     0.30531,     0.30631,     0.30731,     0.30831,     0.30931,     0.31031,     0.31131,\n",
       "           0.31231,     0.31331,     0.31431,     0.31532,     0.31632,     0.31732,     0.31832,     0.31932,     0.32032,     0.32132,     0.32232,     0.32332,     0.32432,     0.32533,     0.32633,     0.32733,     0.32833,     0.32933,     0.33033,     0.33133,     0.33233,     0.33333,     0.33433,     0.33534,\n",
       "           0.33634,     0.33734,     0.33834,     0.33934,     0.34034,     0.34134,     0.34234,     0.34334,     0.34434,     0.34535,     0.34635,     0.34735,     0.34835,     0.34935,     0.35035,     0.35135,     0.35235,     0.35335,     0.35435,     0.35536,     0.35636,     0.35736,     0.35836,     0.35936,\n",
       "           0.36036,     0.36136,     0.36236,     0.36336,     0.36436,     0.36537,     0.36637,     0.36737,     0.36837,     0.36937,     0.37037,     0.37137,     0.37237,     0.37337,     0.37437,     0.37538,     0.37638,     0.37738,     0.37838,     0.37938,     0.38038,     0.38138,     0.38238,     0.38338,\n",
       "           0.38438,     0.38539,     0.38639,     0.38739,     0.38839,     0.38939,     0.39039,     0.39139,     0.39239,     0.39339,     0.39439,      0.3954,      0.3964,      0.3974,      0.3984,      0.3994,      0.4004,      0.4014,      0.4024,      0.4034,      0.4044,     0.40541,     0.40641,     0.40741,\n",
       "           0.40841,     0.40941,     0.41041,     0.41141,     0.41241,     0.41341,     0.41441,     0.41542,     0.41642,     0.41742,     0.41842,     0.41942,     0.42042,     0.42142,     0.42242,     0.42342,     0.42442,     0.42543,     0.42643,     0.42743,     0.42843,     0.42943,     0.43043,     0.43143,\n",
       "           0.43243,     0.43343,     0.43443,     0.43544,     0.43644,     0.43744,     0.43844,     0.43944,     0.44044,     0.44144,     0.44244,     0.44344,     0.44444,     0.44545,     0.44645,     0.44745,     0.44845,     0.44945,     0.45045,     0.45145,     0.45245,     0.45345,     0.45445,     0.45546,\n",
       "           0.45646,     0.45746,     0.45846,     0.45946,     0.46046,     0.46146,     0.46246,     0.46346,     0.46446,     0.46547,     0.46647,     0.46747,     0.46847,     0.46947,     0.47047,     0.47147,     0.47247,     0.47347,     0.47447,     0.47548,     0.47648,     0.47748,     0.47848,     0.47948,\n",
       "           0.48048,     0.48148,     0.48248,     0.48348,     0.48448,     0.48549,     0.48649,     0.48749,     0.48849,     0.48949,     0.49049,     0.49149,     0.49249,     0.49349,     0.49449,      0.4955,      0.4965,      0.4975,      0.4985,      0.4995,      0.5005,      0.5015,      0.5025,      0.5035,\n",
       "            0.5045,     0.50551,     0.50651,     0.50751,     0.50851,     0.50951,     0.51051,     0.51151,     0.51251,     0.51351,     0.51451,     0.51552,     0.51652,     0.51752,     0.51852,     0.51952,     0.52052,     0.52152,     0.52252,     0.52352,     0.52452,     0.52553,     0.52653,     0.52753,\n",
       "           0.52853,     0.52953,     0.53053,     0.53153,     0.53253,     0.53353,     0.53453,     0.53554,     0.53654,     0.53754,     0.53854,     0.53954,     0.54054,     0.54154,     0.54254,     0.54354,     0.54454,     0.54555,     0.54655,     0.54755,     0.54855,     0.54955,     0.55055,     0.55155,\n",
       "           0.55255,     0.55355,     0.55455,     0.55556,     0.55656,     0.55756,     0.55856,     0.55956,     0.56056,     0.56156,     0.56256,     0.56356,     0.56456,     0.56557,     0.56657,     0.56757,     0.56857,     0.56957,     0.57057,     0.57157,     0.57257,     0.57357,     0.57457,     0.57558,\n",
       "           0.57658,     0.57758,     0.57858,     0.57958,     0.58058,     0.58158,     0.58258,     0.58358,     0.58458,     0.58559,     0.58659,     0.58759,     0.58859,     0.58959,     0.59059,     0.59159,     0.59259,     0.59359,     0.59459,      0.5956,      0.5966,      0.5976,      0.5986,      0.5996,\n",
       "            0.6006,      0.6016,      0.6026,      0.6036,      0.6046,     0.60561,     0.60661,     0.60761,     0.60861,     0.60961,     0.61061,     0.61161,     0.61261,     0.61361,     0.61461,     0.61562,     0.61662,     0.61762,     0.61862,     0.61962,     0.62062,     0.62162,     0.62262,     0.62362,\n",
       "           0.62462,     0.62563,     0.62663,     0.62763,     0.62863,     0.62963,     0.63063,     0.63163,     0.63263,     0.63363,     0.63463,     0.63564,     0.63664,     0.63764,     0.63864,     0.63964,     0.64064,     0.64164,     0.64264,     0.64364,     0.64464,     0.64565,     0.64665,     0.64765,\n",
       "           0.64865,     0.64965,     0.65065,     0.65165,     0.65265,     0.65365,     0.65465,     0.65566,     0.65666,     0.65766,     0.65866,     0.65966,     0.66066,     0.66166,     0.66266,     0.66366,     0.66466,     0.66567,     0.66667,     0.66767,     0.66867,     0.66967,     0.67067,     0.67167,\n",
       "           0.67267,     0.67367,     0.67467,     0.67568,     0.67668,     0.67768,     0.67868,     0.67968,     0.68068,     0.68168,     0.68268,     0.68368,     0.68468,     0.68569,     0.68669,     0.68769,     0.68869,     0.68969,     0.69069,     0.69169,     0.69269,     0.69369,     0.69469,      0.6957,\n",
       "            0.6967,      0.6977,      0.6987,      0.6997,      0.7007,      0.7017,      0.7027,      0.7037,      0.7047,     0.70571,     0.70671,     0.70771,     0.70871,     0.70971,     0.71071,     0.71171,     0.71271,     0.71371,     0.71471,     0.71572,     0.71672,     0.71772,     0.71872,     0.71972,\n",
       "           0.72072,     0.72172,     0.72272,     0.72372,     0.72472,     0.72573,     0.72673,     0.72773,     0.72873,     0.72973,     0.73073,     0.73173,     0.73273,     0.73373,     0.73473,     0.73574,     0.73674,     0.73774,     0.73874,     0.73974,     0.74074,     0.74174,     0.74274,     0.74374,\n",
       "           0.74474,     0.74575,     0.74675,     0.74775,     0.74875,     0.74975,     0.75075,     0.75175,     0.75275,     0.75375,     0.75475,     0.75576,     0.75676,     0.75776,     0.75876,     0.75976,     0.76076,     0.76176,     0.76276,     0.76376,     0.76476,     0.76577,     0.76677,     0.76777,\n",
       "           0.76877,     0.76977,     0.77077,     0.77177,     0.77277,     0.77377,     0.77477,     0.77578,     0.77678,     0.77778,     0.77878,     0.77978,     0.78078,     0.78178,     0.78278,     0.78378,     0.78478,     0.78579,     0.78679,     0.78779,     0.78879,     0.78979,     0.79079,     0.79179,\n",
       "           0.79279,     0.79379,     0.79479,      0.7958,      0.7968,      0.7978,      0.7988,      0.7998,      0.8008,      0.8018,      0.8028,      0.8038,      0.8048,     0.80581,     0.80681,     0.80781,     0.80881,     0.80981,     0.81081,     0.81181,     0.81281,     0.81381,     0.81481,     0.81582,\n",
       "           0.81682,     0.81782,     0.81882,     0.81982,     0.82082,     0.82182,     0.82282,     0.82382,     0.82482,     0.82583,     0.82683,     0.82783,     0.82883,     0.82983,     0.83083,     0.83183,     0.83283,     0.83383,     0.83483,     0.83584,     0.83684,     0.83784,     0.83884,     0.83984,\n",
       "           0.84084,     0.84184,     0.84284,     0.84384,     0.84484,     0.84585,     0.84685,     0.84785,     0.84885,     0.84985,     0.85085,     0.85185,     0.85285,     0.85385,     0.85485,     0.85586,     0.85686,     0.85786,     0.85886,     0.85986,     0.86086,     0.86186,     0.86286,     0.86386,\n",
       "           0.86486,     0.86587,     0.86687,     0.86787,     0.86887,     0.86987,     0.87087,     0.87187,     0.87287,     0.87387,     0.87487,     0.87588,     0.87688,     0.87788,     0.87888,     0.87988,     0.88088,     0.88188,     0.88288,     0.88388,     0.88488,     0.88589,     0.88689,     0.88789,\n",
       "           0.88889,     0.88989,     0.89089,     0.89189,     0.89289,     0.89389,     0.89489,      0.8959,      0.8969,      0.8979,      0.8989,      0.8999,      0.9009,      0.9019,      0.9029,      0.9039,      0.9049,     0.90591,     0.90691,     0.90791,     0.90891,     0.90991,     0.91091,     0.91191,\n",
       "           0.91291,     0.91391,     0.91491,     0.91592,     0.91692,     0.91792,     0.91892,     0.91992,     0.92092,     0.92192,     0.92292,     0.92392,     0.92492,     0.92593,     0.92693,     0.92793,     0.92893,     0.92993,     0.93093,     0.93193,     0.93293,     0.93393,     0.93493,     0.93594,\n",
       "           0.93694,     0.93794,     0.93894,     0.93994,     0.94094,     0.94194,     0.94294,     0.94394,     0.94494,     0.94595,     0.94695,     0.94795,     0.94895,     0.94995,     0.95095,     0.95195,     0.95295,     0.95395,     0.95495,     0.95596,     0.95696,     0.95796,     0.95896,     0.95996,\n",
       "           0.96096,     0.96196,     0.96296,     0.96396,     0.96496,     0.96597,     0.96697,     0.96797,     0.96897,     0.96997,     0.97097,     0.97197,     0.97297,     0.97397,     0.97497,     0.97598,     0.97698,     0.97798,     0.97898,     0.97998,     0.98098,     0.98198,     0.98298,     0.98398,\n",
       "           0.98498,     0.98599,     0.98699,     0.98799,     0.98899,     0.98999,     0.99099,     0.99199,     0.99299,     0.99399,     0.99499,       0.996,       0.997,       0.998,       0.999,           1]), array([[    0.96567,     0.96567,     0.96523,     0.96456,     0.96434,     0.96389,     0.96366,     0.96322,       0.963,       0.963,     0.96263,     0.96263,     0.96248,     0.96241,     0.96233,     0.96211,     0.96182,     0.96174,     0.96152,      0.9613,     0.96115,     0.96085,     0.96085,\n",
       "             0.9607,      0.9607,     0.96063,     0.96033,     0.95996,     0.95989,     0.95989,     0.95966,     0.95929,     0.95915,     0.95907,     0.95877,     0.95863,     0.95863,     0.95848,     0.95811,     0.95811,     0.95796,     0.95781,     0.95766,     0.95759,     0.95744,     0.95737,\n",
       "            0.95737,     0.95729,     0.95706,       0.957,     0.95685,     0.95685,     0.95685,     0.95685,      0.9567,     0.95644,     0.95625,     0.95625,     0.95618,     0.95611,     0.95588,     0.95581,     0.95574,     0.95566,     0.95559,     0.95551,     0.95544,     0.95544,     0.95544,\n",
       "            0.95529,     0.95514,     0.95492,     0.95478,     0.95455,     0.95455,     0.95447,     0.95447,      0.9544,     0.95433,     0.95433,     0.95425,     0.95425,     0.95418,     0.95403,     0.95396,     0.95396,     0.95396,     0.95373,     0.95355,     0.95351,     0.95344,     0.95329,\n",
       "            0.95307,     0.95277,     0.95277,     0.95277,     0.95277,     0.95262,     0.95262,     0.95255,      0.9524,     0.95225,     0.95225,      0.9521,      0.9521,      0.9521,      0.9521,      0.9521,      0.9521,      0.9521,     0.95195,     0.95188,     0.95181,     0.95173,     0.95173,\n",
       "            0.95167,     0.95166,     0.95146,     0.95143,     0.95136,     0.95129,     0.95121,     0.95114,     0.95114,     0.95114,     0.95099,     0.95096,     0.95092,     0.95077,     0.95054,     0.95043,     0.95032,     0.95017,     0.95003,     0.94995,     0.94984,      0.9498,     0.94973,\n",
       "            0.94959,     0.94958,     0.94958,     0.94953,     0.94951,     0.94933,     0.94928,     0.94928,     0.94928,     0.94928,     0.94928,     0.94928,     0.94921,     0.94921,     0.94911,     0.94906,     0.94891,      0.9489,     0.94884,     0.94877,     0.94869,     0.94869,     0.94854,\n",
       "            0.94854,     0.94854,     0.94854,     0.94854,     0.94847,     0.94832,     0.94832,     0.94832,     0.94832,     0.94832,     0.94832,     0.94825,     0.94825,      0.9482,     0.94807,     0.94795,     0.94795,     0.94788,     0.94773,     0.94758,     0.94758,     0.94751,     0.94751,\n",
       "            0.94751,     0.94743,     0.94743,     0.94743,     0.94743,     0.94736,     0.94721,     0.94713,      0.9471,     0.94691,     0.94691,     0.94691,     0.94684,     0.94684,     0.94674,     0.94669,     0.94669,     0.94662,     0.94654,     0.94654,     0.94654,     0.94654,     0.94641,\n",
       "            0.94632,     0.94624,     0.94624,     0.94617,     0.94617,      0.9461,     0.94606,     0.94602,     0.94602,     0.94602,     0.94596,      0.9458,      0.9458,      0.9458,     0.94573,     0.94573,     0.94573,     0.94565,     0.94565,     0.94565,     0.94563,     0.94558,     0.94543,\n",
       "            0.94528,     0.94521,     0.94514,     0.94491,     0.94491,     0.94491,     0.94491,     0.94484,     0.94484,     0.94484,     0.94484,     0.94484,     0.94484,     0.94484,     0.94484,     0.94476,     0.94469,     0.94469,     0.94466,     0.94461,     0.94454,     0.94454,     0.94454,\n",
       "            0.94447,     0.94443,     0.94439,     0.94432,     0.94432,     0.94424,     0.94424,     0.94419,     0.94417,     0.94417,     0.94417,     0.94417,     0.94402,     0.94396,     0.94395,     0.94387,     0.94387,     0.94387,      0.9438,      0.9438,      0.9438,      0.9438,      0.9438,\n",
       "             0.9438,     0.94377,     0.94372,     0.94372,     0.94372,     0.94372,     0.94358,      0.9435,      0.9435,      0.9435,     0.94343,     0.94335,     0.94328,     0.94328,     0.94328,     0.94328,      0.9432,      0.9432,      0.9432,     0.94313,     0.94309,     0.94298,     0.94298,\n",
       "            0.94298,     0.94298,     0.94298,     0.94291,     0.94291,     0.94283,     0.94283,     0.94283,     0.94276,     0.94276,     0.94276,     0.94268,     0.94254,     0.94224,     0.94217,     0.94209,     0.94202,     0.94202,     0.94194,     0.94194,     0.94194,     0.94194,      0.9418,\n",
       "            0.94172,     0.94172,     0.94165,     0.94165,     0.94165,     0.94157,     0.94157,      0.9415,     0.94143,     0.94135,     0.94135,     0.94135,     0.94135,     0.94135,     0.94128,     0.94128,     0.94128,     0.94128,     0.94128,     0.94128,     0.94114,     0.94105,     0.94105,\n",
       "            0.94089,     0.94076,     0.94068,     0.94056,     0.94054,     0.94054,     0.94054,     0.94046,     0.94046,     0.94043,     0.94039,     0.94031,     0.94024,     0.94016,     0.94016,     0.94009,     0.94009,     0.94009,     0.94009,     0.93987,     0.93987,     0.93972,     0.93965,\n",
       "            0.93965,     0.93957,     0.93957,     0.93957,     0.93957,     0.93942,     0.93942,      0.9393,     0.93927,     0.93927,      0.9392,      0.9392,     0.93913,     0.93905,     0.93905,     0.93905,     0.93905,     0.93905,     0.93878,     0.93871,     0.93868,     0.93861,     0.93831,\n",
       "            0.93831,     0.93831,     0.93831,     0.93809,     0.93809,     0.93803,     0.93801,     0.93794,     0.93794,     0.93787,     0.93787,     0.93787,     0.93779,     0.93772,     0.93772,     0.93772,     0.93763,     0.93755,      0.9375,      0.9375,     0.93742,      0.9373,     0.93727,\n",
       "            0.93727,     0.93727,     0.93727,     0.93727,     0.93727,      0.9372,     0.93712,     0.93705,     0.93705,     0.93705,     0.93704,     0.93697,      0.9369,      0.9369,      0.9369,      0.9369,      0.9369,      0.9369,      0.9369,     0.93683,     0.93683,     0.93675,     0.93661,\n",
       "            0.93661,     0.93655,     0.93653,     0.93646,     0.93638,     0.93638,     0.93638,     0.93623,     0.93616,     0.93601,     0.93594,     0.93594,     0.93594,     0.93586,     0.93586,     0.93579,     0.93564,     0.93564,     0.93564,     0.93564,     0.93564,     0.93557,     0.93549,\n",
       "            0.93549,     0.93549,     0.93549,     0.93542,     0.93527,      0.9352,     0.93507,     0.93505,     0.93505,     0.93483,     0.93475,     0.93475,     0.93468,     0.93468,     0.93461,     0.93453,     0.93453,     0.93453,     0.93453,     0.93446,     0.93431,     0.93423,     0.93416,\n",
       "            0.93416,     0.93416,     0.93416,     0.93416,     0.93408,     0.93408,     0.93401,     0.93401,     0.93394,     0.93394,     0.93394,     0.93386,     0.93371,     0.93364,     0.93357,     0.93357,     0.93349,     0.93349,     0.93349,     0.93342,     0.93327,     0.93327,     0.93319,\n",
       "            0.93307,     0.93297,      0.9329,     0.93282,     0.93282,     0.93282,     0.93275,     0.93268,     0.93268,      0.9326,     0.93245,     0.93238,     0.93231,     0.93231,     0.93231,     0.93231,     0.93231,     0.93231,     0.93223,     0.93216,       0.932,     0.93193,     0.93193,\n",
       "            0.93193,     0.93186,     0.93179,     0.93171,     0.93171,     0.93171,     0.93171,     0.93164,     0.93164,     0.93164,     0.93164,     0.93164,     0.93156,     0.93149,     0.93142,     0.93134,     0.93119,     0.93119,     0.93119,     0.93104,     0.93099,     0.93084,     0.93075,\n",
       "            0.93067,     0.93054,     0.93053,     0.93045,     0.93038,     0.93015,     0.93005,     0.92993,     0.92989,     0.92982,     0.92978,     0.92978,     0.92978,     0.92978,     0.92976,     0.92972,     0.92956,     0.92951,     0.92941,     0.92935,     0.92928,     0.92916,     0.92912,\n",
       "            0.92889,     0.92889,     0.92867,     0.92852,     0.92852,     0.92852,     0.92823,     0.92806,     0.92802,     0.92793,     0.92793,     0.92788,     0.92756,     0.92743,     0.92713,     0.92698,     0.92697,     0.92697,     0.92697,     0.92653,     0.92652,     0.92642,      0.9263,\n",
       "             0.9263,     0.92623,     0.92615,       0.926,     0.92589,     0.92566,     0.92548,     0.92544,     0.92541,     0.92488,     0.92465,     0.92458,     0.92437,     0.92435,     0.92408,     0.92393,     0.92375,     0.92368,     0.92363,     0.92334,     0.92326,     0.92304,     0.92289,\n",
       "            0.92274,     0.92266,     0.92259,     0.92252,     0.92247,     0.92244,     0.92228,     0.92225,     0.92223,     0.92194,     0.92187,     0.92175,      0.9217,      0.9217,     0.92167,      0.9216,     0.92148,     0.92141,     0.92133,     0.92126,     0.92111,     0.92096,      0.9208,\n",
       "            0.92052,     0.92032,     0.92024,     0.92007,        0.92,     0.91961,     0.91946,      0.9194,     0.91931,      0.9192,     0.91897,     0.91882,     0.91881,     0.91881,     0.91855,     0.91837,     0.91829,     0.91814,     0.91777,     0.91748,     0.91739,     0.91709,     0.91696,\n",
       "            0.91654,     0.91644,     0.91631,     0.91599,     0.91599,     0.91575,      0.9157,      0.9157,     0.91563,     0.91541,      0.9144,     0.91418,      0.9141,     0.91384,     0.91362,     0.91332,     0.91324,     0.91303,     0.91303,      0.9127,     0.91242,     0.91229,     0.91205,\n",
       "              0.912,     0.91186,     0.91141,     0.91122,       0.911,     0.91089,     0.91036,     0.91006,     0.90958,     0.90947,     0.90924,     0.90902,     0.90872,     0.90853,     0.90838,     0.90797,     0.90784,     0.90766,     0.90741,     0.90702,     0.90656,     0.90648,     0.90635,\n",
       "              0.906,     0.90569,     0.90529,     0.90481,      0.9045,     0.90443,     0.90402,     0.90357,     0.90324,     0.90293,     0.90265,     0.90238,     0.90145,     0.90099,     0.90067,     0.89974,     0.89944,     0.89905,     0.89873,     0.89817,      0.8979,     0.89717,     0.89686,\n",
       "            0.89609,     0.89591,     0.89523,      0.8946,     0.89397,     0.89359,     0.89326,     0.89304,     0.89241,     0.89187,     0.89133,      0.8901,     0.88919,     0.88841,      0.8875,     0.88659,     0.88598,     0.88468,     0.88413,     0.88345,     0.88182,     0.88152,     0.88022,\n",
       "            0.87922,     0.87692,     0.87606,     0.87469,     0.87424,     0.87283,     0.87245,     0.87153,     0.86956,     0.86851,     0.86704,     0.86642,     0.86529,     0.86385,     0.86256,      0.8605,     0.85877,     0.85757,     0.85565,     0.85438,     0.85238,     0.84963,     0.84848,\n",
       "            0.84643,      0.8447,     0.84183,     0.84091,     0.83849,      0.8372,     0.83418,     0.83223,     0.82757,       0.826,      0.8226,      0.8214,     0.81762,     0.81553,     0.81301,     0.80889,     0.80626,     0.80251,      0.7981,     0.79291,     0.79023,     0.78519,     0.78234,\n",
       "            0.77754,     0.77288,     0.76968,     0.76389,     0.76223,     0.75728,     0.75166,     0.74912,     0.74326,     0.73735,      0.7342,     0.72716,     0.72096,      0.7181,     0.71224,     0.70245,     0.69941,     0.69392,     0.68703,     0.68439,     0.67834,     0.67299,      0.6667,\n",
       "            0.66416,     0.65867,     0.65415,     0.64865,     0.64612,     0.64197,     0.63774,     0.63433,     0.63084,     0.62805,     0.62639,     0.62379,     0.62111,     0.61874,     0.61681,     0.61562,     0.61383,     0.61236,     0.61182,     0.60982,     0.60878,     0.60777,      0.6061,\n",
       "            0.60535,     0.60409,     0.60283,     0.60201,     0.60082,     0.60029,     0.59933,     0.59836,     0.59761,     0.59568,     0.59449,     0.59367,     0.59285,      0.5919,     0.59129,     0.59032,     0.58913,     0.58742,     0.58668,     0.58615,     0.58563,     0.58392,     0.58303,\n",
       "            0.58226,     0.58132,     0.58019,     0.57953,     0.57864,     0.57707,     0.57626,      0.5747,     0.57291,      0.5718,     0.57061,     0.56986,     0.56837,     0.56763,     0.56651,     0.56525,     0.56376,     0.56213,     0.56057,     0.55893,     0.55774,      0.5567,     0.55492,\n",
       "            0.55261,     0.55098,      0.5489,     0.54549,     0.54341,     0.54103,     0.53836,     0.53553,     0.53345,     0.53197,     0.52974,     0.52655,     0.52291,     0.51994,     0.51682,     0.51504,     0.51148,      0.5074,     0.50472,     0.50027,      0.4973,     0.49404,     0.48981,\n",
       "            0.48276,     0.47942,     0.47393,      0.4697,     0.46495,     0.46094,     0.45582,     0.44937,     0.44165,     0.43653,     0.42941,     0.42066,     0.41213,     0.40234,     0.39284,     0.38238,     0.36896,     0.35717,     0.34649,     0.33225,     0.30852,     0.29049,     0.27507,\n",
       "            0.25668,     0.23658,     0.21656,     0.19564,      0.1728,     0.15145,     0.13513,     0.11362,    0.093972,    0.079139,    0.065345,    0.052069,     0.04339,    0.035082,    0.026329,    0.020987,    0.016609,    0.012453,    0.010002,   0.0079967,   0.0063618,    0.004801,   0.0038334,\n",
       "          0.0027917,   0.0015275,  0.00078235,  0.00040791,  0.00027362,  0.00024322,   0.0001002,           0,           0,           0,           0,           0,           0,           0,           0,           0,           0,           0,           0,           0,           0,           0,           0,\n",
       "                  0,           0,           0,           0,           0,           0,           0,           0,           0,           0,           0]]), 'Confidence', 'Recall']]\n",
       "fitness: 1.4960755001052275\n",
       "keys: ['metrics/precision(B)', 'metrics/recall(B)', 'metrics/mAP50(B)', 'metrics/mAP50-95(B)', 'metrics/precision(M)', 'metrics/recall(M)', 'metrics/mAP50(M)', 'metrics/mAP50-95(M)']\n",
       "maps: array([     1.4475])\n",
       "names: {0: 'table row'}\n",
       "plot: True\n",
       "results_dict: {'metrics/precision(B)': 0.971420265396548, 'metrics/recall(B)': 0.9452064951434714, 'metrics/mAP50(B)': 0.9781197978955747, 'metrics/mAP50-95(B)': 0.865606884502955, 'metrics/precision(M)': 0.9534068466790088, 'metrics/recall(M)': 0.9262993994216653, 'metrics/mAP50(M)': 0.9547376443454648, 'metrics/mAP50-95(M)': 0.5819372886982934, 'fitness': 1.4960755001052275}\n",
       "save_dir: PosixPath('runs/segment/train')\n",
       "seg: ultralytics.utils.metrics.Metric object\n",
       "speed: {'preprocess': 0.11406254768371582, 'inference': 8.540258646011353, 'loss': 0.0006229877471923828, 'postprocess': 0.9425609111785889}\n",
       "task: 'segment'"
      ]
     },
     "execution_count": 12,
     "metadata": {},
     "output_type": "execute_result"
    }
   ],
   "source": [
    "from ultralytics import YOLO\n",
    "model = YOLO(\"yolo11m-seg.pt\")\n",
    "model.train(\n",
    "    data=dataset_yaml_path,\n",
    "    epochs=100,\n",
    "    # imgsz=480,\n",
    "    device=\"cuda\",\n",
    "    translate=0.2,\n",
    "    scale=0.7,\n",
    "    flipud=0.0,\n",
    "    erasing=0.2\n",
    ")"
   ]
  },
  {
   "cell_type": "markdown",
   "id": "6cdcb35a",
   "metadata": {
    "papermill": {
     "duration": 2.895647,
     "end_time": "2024-12-02T01:05:08.925008",
     "exception": false,
     "start_time": "2024-12-02T01:05:06.029361",
     "status": "completed"
    },
    "tags": []
   },
   "source": [
    "# Model testing"
   ]
  },
  {
   "cell_type": "code",
   "execution_count": 13,
   "id": "fde86087",
   "metadata": {
    "execution": {
     "iopub.execute_input": "2024-12-02T01:05:14.763612Z",
     "iopub.status.busy": "2024-12-02T01:05:14.763165Z",
     "iopub.status.idle": "2024-12-02T01:05:15.342670Z",
     "shell.execute_reply": "2024-12-02T01:05:15.341911Z"
    },
    "id": "HYUTmD6FSM6K",
    "outputId": "dab4e454-83e7-4d10-a02a-e967e41877b6",
    "papermill": {
     "duration": 3.590438,
     "end_time": "2024-12-02T01:05:15.344538",
     "exception": false,
     "start_time": "2024-12-02T01:05:11.754100",
     "status": "completed"
    },
    "tags": []
   },
   "outputs": [
    {
     "name": "stdout",
     "output_type": "stream",
     "text": [
      "\n",
      "0: 224x640 7 table rows, 65.5ms\n",
      "Speed: 1.4ms preprocess, 65.5ms inference, 4.2ms postprocess per image at shape (1, 3, 224, 640)\n"
     ]
    },
    {
     "data": {
      "image/jpeg": "[encoded data removed]",
      "image/png": "[encoded data removed]",
      "text/plain": [
       "<PIL.Image.Image image mode=RGB size=573x187>"
      ]
     },
     "metadata": {},
     "output_type": "display_data"
    }
   ],
   "source": [
    "# Load the dataset configuration\n",
    "with open(r\"/kaggle/working/dataset/dataset.yaml\", 'r') as file:\n",
    "    dataset_config = yaml.safe_load(file)\n",
    "\n",
    "# Get the dataset path and class names\n",
    "dataset_path = dataset_config['path']\n",
    "class_names = dataset_config['names']\n",
    "\n",
    "# Choose a random set (train or val)\n",
    "image_set = random.choice(['train', 'val'])\n",
    "images_path = os.path.join(dataset_path, image_set, 'images')\n",
    "\n",
    "# Get a list of all image files\n",
    "image_files = [f for f in os.listdir(images_path) if f.endswith(('.jpg', '.jpeg', '.png'))]\n",
    "\n",
    "# Choose a random image\n",
    "random_image = random.choice(image_files)\n",
    "image_path = os.path.join(images_path, random_image)\n",
    "\n",
    "# Run batched inference on a list of images\n",
    "results = model([image_path])  # return a list of Results objects\n",
    "\n",
    "# Process results list\n",
    "for result in results:\n",
    "    boxes = result.boxes  # Boxes object for bounding box outputs\n",
    "    masks = result.masks  # Masks object for segmentation masks outputs\n",
    "    keypoints = result.keypoints  # Keypoints object for pose outputs\n",
    "    probs = result.probs  # Probs object for classification outputs\n",
    "    obb = result.obb  # Oriented boxes object for OBB outputs\n",
    "    result.show()  # display to screen\n",
    "    result.save(filename=\"result.jpg\")  # save to disk"
   ]
  },
  {
   "cell_type": "markdown",
   "id": "dd756f09",
   "metadata": {
    "papermill": {
     "duration": 2.927743,
     "end_time": "2024-12-02T01:05:21.177229",
     "exception": false,
     "start_time": "2024-12-02T01:05:18.249486",
     "status": "completed"
    },
    "tags": []
   },
   "source": [
    "# Model export"
   ]
  },
  {
   "cell_type": "code",
   "execution_count": 14,
   "id": "d5497978",
   "metadata": {
    "execution": {
     "iopub.execute_input": "2024-12-02T01:05:26.706439Z",
     "iopub.status.busy": "2024-12-02T01:05:26.706073Z",
     "iopub.status.idle": "2024-12-02T01:06:22.368055Z",
     "shell.execute_reply": "2024-12-02T01:06:22.367264Z"
    },
    "id": "k_9dJ4sNVjnL",
    "papermill": {
     "duration": 58.3379,
     "end_time": "2024-12-02T01:06:22.369575",
     "exception": false,
     "start_time": "2024-12-02T01:05:24.031675",
     "status": "completed"
    },
    "tags": []
   },
   "outputs": [
    {
     "name": "stdout",
     "output_type": "stream",
     "text": [
      "Ultralytics 8.3.39 🚀 Python-3.10.14 torch-2.4.0 CPU (Intel Xeon 2.00GHz)\n",
      "\n",
      "\u001b[34m\u001b[1mPyTorch:\u001b[0m starting from 'runs/segment/train/weights/best.pt' with input shape (1, 3, 640, 640) BCHW and output shape(s) ((1, 37, 8400), (1, 32, 160, 160)) (43.1 MB)\n",
      "\u001b[31m\u001b[1mrequirements:\u001b[0m Ultralytics requirements ['onnxslim', 'onnxruntime-gpu'] not found, attempting AutoUpdate...\n",
      "Collecting onnxslim\n",
      "  Downloading onnxslim-0.1.42-py3-none-any.whl.metadata (4.2 kB)\n",
      "Collecting onnxruntime-gpu\n",
      "  Downloading onnxruntime_gpu-1.20.1-cp310-cp310-manylinux_2_27_x86_64.manylinux_2_28_x86_64.whl.metadata (4.5 kB)\n",
      "Requirement already satisfied: onnx in /opt/conda/lib/python3.10/site-packages (from onnxslim) (1.17.0)\n",
      "Requirement already satisfied: sympy in /opt/conda/lib/python3.10/site-packages (from onnxslim) (1.13.3)\n",
      "Requirement already satisfied: packaging in /opt/conda/lib/python3.10/site-packages (from onnxslim) (21.3)\n",
      "Collecting coloredlogs (from onnxruntime-gpu)\n",
      "  Downloading coloredlogs-15.0.1-py2.py3-none-any.whl.metadata (12 kB)\n",
      "Requirement already satisfied: flatbuffers in /opt/conda/lib/python3.10/site-packages (from onnxruntime-gpu) (24.3.25)\n",
      "Requirement already satisfied: numpy>=1.21.6 in /opt/conda/lib/python3.10/site-packages (from onnxruntime-gpu) (1.26.4)\n",
      "Requirement already satisfied: protobuf in /opt/conda/lib/python3.10/site-packages (from onnxruntime-gpu) (3.20.3)\n",
      "Collecting humanfriendly>=9.1 (from coloredlogs->onnxruntime-gpu)\n",
      "  Downloading humanfriendly-10.0-py2.py3-none-any.whl.metadata (9.2 kB)\n",
      "Requirement already satisfied: pyparsing!=3.0.5,>=2.0.2 in /opt/conda/lib/python3.10/site-packages (from packaging->onnxslim) (3.1.2)\n",
      "Requirement already satisfied: mpmath<1.4,>=1.1.0 in /opt/conda/lib/python3.10/site-packages (from sympy->onnxslim) (1.3.0)\n",
      "Downloading onnxslim-0.1.42-py3-none-any.whl (142 kB)\n",
      "\u001b[2K   \u001b[90m━━━━━━━━━━━━━━━━━━━━━━━━━━━━━━━━━━━━━━━━\u001b[0m \u001b[32m142.7/142.7 kB\u001b[0m \u001b[31m6.4 MB/s\u001b[0m eta \u001b[36m0:00:00\u001b[0m\n",
      "\u001b[?25hDownloading onnxruntime_gpu-1.20.1-cp310-cp310-manylinux_2_27_x86_64.manylinux_2_28_x86_64.whl (291.5 MB)\n",
      "\u001b[2K   \u001b[90m━━━━━━━━━━━━━━━━━━━━━━━━━━━━━━━━━━━━━━━━\u001b[0m \u001b[32m291.5/291.5 MB\u001b[0m \u001b[31m92.9 MB/s\u001b[0m eta \u001b[36m0:00:00\u001b[0m\n",
      "\u001b[?25hDownloading coloredlogs-15.0.1-py2.py3-none-any.whl (46 kB)\n",
      "\u001b[2K   \u001b[90m━━━━━━━━━━━━━━━━━━━━━━━━━━━━━━━━━━━━━━━━\u001b[0m \u001b[32m46.0/46.0 kB\u001b[0m \u001b[31m224.1 MB/s\u001b[0m eta \u001b[36m0:00:00\u001b[0m\n",
      "\u001b[?25hDownloading humanfriendly-10.0-py2.py3-none-any.whl (86 kB)\n",
      "\u001b[2K   \u001b[90m━━━━━━━━━━━━━━━━━━━━━━━━━━━━━━━━━━━━━━━━\u001b[0m \u001b[32m86.8/86.8 kB\u001b[0m \u001b[31m242.2 MB/s\u001b[0m eta \u001b[36m0:00:00\u001b[0m\n",
      "\u001b[?25hInstalling collected packages: humanfriendly, onnxslim, coloredlogs, onnxruntime-gpu\n",
      "Successfully installed coloredlogs-15.0.1 humanfriendly-10.0 onnxruntime-gpu-1.20.1 onnxslim-0.1.42\n",
      "\n",
      "\u001b[31m\u001b[1mrequirements:\u001b[0m AutoUpdate success ✅ 19.7s, installed 2 packages: ['onnxslim', 'onnxruntime-gpu']\n",
      "\u001b[31m\u001b[1mrequirements:\u001b[0m ⚠️ \u001b[1mRestart runtime or rerun command for updates to take effect\u001b[0m\n",
      "\n",
      "\n",
      "\u001b[34m\u001b[1mONNX:\u001b[0m starting export with onnx 1.17.0 opset 19...\n",
      "\u001b[34m\u001b[1mONNX:\u001b[0m slimming with onnxslim 0.1.42...\n",
      "\u001b[34m\u001b[1mONNX:\u001b[0m export success ✅ 51.9s, saved as 'runs/segment/train/weights/best.onnx' (85.4 MB)\n",
      "\n",
      "Export complete (55.7s)\n",
      "Results saved to \u001b[1m/kaggle/working/runs/segment/train/weights\u001b[0m\n",
      "Predict:         yolo predict task=segment model=runs/segment/train/weights/best.onnx imgsz=640  \n",
      "Validate:        yolo val task=segment model=runs/segment/train/weights/best.onnx imgsz=640 data=/kaggle/working/dataset/dataset.yaml  \n",
      "Visualize:       https://netron.app\n"
     ]
    },
    {
     "data": {
      "text/plain": [
       "'runs/segment/train/weights/best.onnx'"
      ]
     },
     "execution_count": 14,
     "metadata": {},
     "output_type": "execute_result"
    }
   ],
   "source": [
    "model.export(format=\"onnx\", dynamic=True)"
   ]
  }
 ],
 "metadata": {
  "accelerator": "GPU",
  "colab": {
   "gpuType": "T4",
   "provenance": []
  },
  "kaggle": {
   "accelerator": "nvidiaTeslaT4",
   "dataSources": [],
   "isGpuEnabled": true,
   "isInternetEnabled": true,
   "language": "python",
   "sourceType": "notebook"
  },
  "kernelspec": {
   "display_name": "Python 3",
   "language": "python",
   "name": "python3"
  },
  "language_info": {
   "codemirror_mode": {
    "name": "ipython",
    "version": 3
   },
   "file_extension": ".py",
   "mimetype": "text/x-python",
   "name": "python",
   "nbconvert_exporter": "python",
   "pygments_lexer": "ipython3",
   "version": "3.10.14"
  },
  "papermill": {
   "default_parameters": {},
   "duration": 26717.98322,
   "end_time": "2024-12-02T01:06:28.613383",
   "environment_variables": {},
   "exception": null,
   "input_path": "__notebook__.ipynb",
   "output_path": "__notebook__.ipynb",
   "parameters": {},
   "start_time": "2024-12-01T17:41:10.630163",
   "version": "2.6.0"
  }
 },
 "nbformat": 4,
 "nbformat_minor": 5
}
